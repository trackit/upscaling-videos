{
 "cells": [
  {
   "cell_type": "code",
   "execution_count": 2,
   "id": "024fc7de-6655-4e5e-af8d-a1a2ac8a850b",
   "metadata": {
    "tags": []
   },
   "outputs": [
    {
     "name": "stdout",
     "output_type": "stream",
     "text": [
      "Collecting boto3\n",
      "  Downloading boto3-1.34.0-py3-none-any.whl (139 kB)\n",
      "\u001B[2K     \u001B[90m━━━━━━━━━━━━━━━━━━━━━━━━━━━━━━━━━━━━━━━\u001B[0m \u001B[32m139.3/139.3 kB\u001B[0m \u001B[31m2.2 MB/s\u001B[0m eta \u001B[36m0:00:00\u001B[0ma \u001B[36m0:00:01\u001B[0m\n",
      "\u001B[?25hCollecting botocore\n",
      "  Downloading botocore-1.34.0-py3-none-any.whl (11.8 MB)\n",
      "\u001B[2K     \u001B[90m━━━━━━━━━━━━━━━━━━━━━━━━━━━━━━━━━━━━━━━━\u001B[0m \u001B[32m11.8/11.8 MB\u001B[0m \u001B[31m35.8 MB/s\u001B[0m eta \u001B[36m0:00:00\u001B[0m00:01\u001B[0m00:01\u001B[0m\n",
      "\u001B[?25hCollecting s3transfer<0.10.0,>=0.9.0\n",
      "  Downloading s3transfer-0.9.0-py3-none-any.whl (82 kB)\n",
      "\u001B[2K     \u001B[90m━━━━━━━━━━━━━━━━━━━━━━━━━━━━━━━━━━━━━━━━\u001B[0m \u001B[32m82.0/82.0 kB\u001B[0m \u001B[31m1.1 MB/s\u001B[0m eta \u001B[36m0:00:00\u001B[0m:00:01\u001B[0m\n",
      "\u001B[?25hCollecting jmespath<2.0.0,>=0.7.1\n",
      "  Using cached jmespath-1.0.1-py3-none-any.whl (20 kB)\n",
      "Collecting python-dateutil<3.0.0,>=2.1\n",
      "  Using cached python_dateutil-2.8.2-py2.py3-none-any.whl (247 kB)\n",
      "Collecting urllib3<1.27,>=1.25.4\n",
      "  Using cached urllib3-1.26.18-py2.py3-none-any.whl (143 kB)\n",
      "Collecting six>=1.5\n",
      "  Using cached six-1.16.0-py2.py3-none-any.whl (11 kB)\n",
      "Installing collected packages: urllib3, six, jmespath, python-dateutil, botocore, s3transfer, boto3\n",
      "  Attempting uninstall: urllib3\n",
      "    Found existing installation: urllib3 1.26.14\n",
      "    Uninstalling urllib3-1.26.14:\n",
      "      Successfully uninstalled urllib3-1.26.14\n",
      "  Attempting uninstall: six\n",
      "    Found existing installation: six 1.16.0\n",
      "    Uninstalling six-1.16.0:\n",
      "      Successfully uninstalled six-1.16.0\n",
      "  Attempting uninstall: jmespath\n",
      "    Found existing installation: jmespath 1.0.1\n",
      "    Uninstalling jmespath-1.0.1:\n",
      "      Successfully uninstalled jmespath-1.0.1\n",
      "  Attempting uninstall: python-dateutil\n",
      "    Found existing installation: python-dateutil 2.8.2\n",
      "    Uninstalling python-dateutil-2.8.2:\n",
      "      Successfully uninstalled python-dateutil-2.8.2\n",
      "  Attempting uninstall: botocore\n",
      "    Found existing installation: botocore 1.29.50\n",
      "    Uninstalling botocore-1.29.50:\n",
      "      Successfully uninstalled botocore-1.29.50\n",
      "  Attempting uninstall: s3transfer\n",
      "    Found existing installation: s3transfer 0.6.0\n",
      "    Uninstalling s3transfer-0.6.0:\n",
      "      Successfully uninstalled s3transfer-0.6.0\n",
      "  Attempting uninstall: boto3\n",
      "    Found existing installation: boto3 1.26.50\n",
      "    Uninstalling boto3-1.26.50:\n",
      "      Successfully uninstalled boto3-1.26.50\n",
      "\u001B[31mERROR: pip's dependency resolver does not currently take into account all the packages that are installed. This behaviour is the source of the following dependency conflicts.\n",
      "tf-models-official 2.11.0 requires tensorflow~=2.11.0, which is not installed.\n",
      "awscli 1.27.50 requires botocore==1.29.50, but you have botocore 1.34.0 which is incompatible.\n",
      "awscli 1.27.50 requires s3transfer<0.7.0,>=0.6.0, but you have s3transfer 0.9.0 which is incompatible.\u001B[0m\u001B[31m\n",
      "\u001B[0mSuccessfully installed boto3-1.34.0 botocore-1.34.0 jmespath-1.0.1 python-dateutil-2.8.2 s3transfer-0.9.0 six-1.16.0 urllib3-1.26.18\n",
      "\u001B[33mWARNING: Running pip as the 'root' user can result in broken permissions and conflicting behaviour with the system package manager. It is recommended to use a virtual environment instead: https://pip.pypa.io/warnings/venv\u001B[0m\u001B[33m\n",
      "\u001B[0m\n",
      "\u001B[1m[\u001B[0m\u001B[34;49mnotice\u001B[0m\u001B[1;39;49m]\u001B[0m\u001B[39;49m A new release of pip available: \u001B[0m\u001B[31;49m22.3.1\u001B[0m\u001B[39;49m -> \u001B[0m\u001B[32;49m23.3.1\u001B[0m\n",
      "\u001B[1m[\u001B[0m\u001B[34;49mnotice\u001B[0m\u001B[1;39;49m]\u001B[0m\u001B[39;49m To update, run: \u001B[0m\u001B[32;49mpip install --upgrade pip\u001B[0m\n"
     ]
    }
   ],
   "source": [
    "!pip install --upgrade --force-reinstall boto3 botocore"
   ]
  },
  {
   "cell_type": "code",
   "execution_count": 3,
   "id": "8f0e58e2-3b8c-455a-bde9-fae73fa1888e",
   "metadata": {
    "tags": []
   },
   "outputs": [
    {
     "name": "stdout",
     "output_type": "stream",
     "text": [
      "Collecting yt_dlp\n",
      "  Using cached yt_dlp-2023.11.16-py2.py3-none-any.whl (3.1 MB)\n",
      "Collecting mutagen\n",
      "  Using cached mutagen-1.47.0-py3-none-any.whl (194 kB)\n",
      "Collecting websockets\n",
      "  Using cached websockets-12.0-cp39-cp39-manylinux_2_5_x86_64.manylinux1_x86_64.manylinux_2_17_x86_64.manylinux2014_x86_64.whl (130 kB)\n",
      "Collecting requests<3,>=2.31.0\n",
      "  Using cached requests-2.31.0-py3-none-any.whl (62 kB)\n",
      "Requirement already satisfied: certifi in /usr/local/lib/python3.9/site-packages (from yt_dlp) (2022.12.7)\n",
      "Requirement already satisfied: urllib3<3,>=1.26.17 in /usr/local/lib/python3.9/site-packages (from yt_dlp) (1.26.18)\n",
      "Collecting pycryptodomex\n",
      "  Using cached pycryptodomex-3.19.0-cp35-abi3-manylinux_2_17_x86_64.manylinux2014_x86_64.whl (2.1 MB)\n",
      "Collecting brotli\n",
      "  Using cached Brotli-1.1.0-cp39-cp39-manylinux_2_5_x86_64.manylinux1_x86_64.whl (2.8 MB)\n",
      "Requirement already satisfied: idna<4,>=2.5 in /usr/local/lib/python3.9/site-packages (from requests<3,>=2.31.0->yt_dlp) (3.4)\n",
      "Requirement already satisfied: charset-normalizer<4,>=2 in /usr/local/lib/python3.9/site-packages (from requests<3,>=2.31.0->yt_dlp) (2.0.12)\n",
      "Installing collected packages: brotli, websockets, requests, pycryptodomex, mutagen, yt_dlp\n",
      "  Attempting uninstall: requests\n",
      "    Found existing installation: requests 2.27.1\n",
      "    Uninstalling requests-2.27.1:\n",
      "      Successfully uninstalled requests-2.27.1\n",
      "Successfully installed brotli-1.1.0 mutagen-1.47.0 pycryptodomex-3.19.0 requests-2.31.0 websockets-12.0 yt_dlp-2023.11.16\n",
      "\u001B[33mWARNING: Running pip as the 'root' user can result in broken permissions and conflicting behaviour with the system package manager. It is recommended to use a virtual environment instead: https://pip.pypa.io/warnings/venv\u001B[0m\u001B[33m\n",
      "\u001B[0m\n",
      "\u001B[1m[\u001B[0m\u001B[34;49mnotice\u001B[0m\u001B[1;39;49m]\u001B[0m\u001B[39;49m A new release of pip available: \u001B[0m\u001B[31;49m22.3.1\u001B[0m\u001B[39;49m -> \u001B[0m\u001B[32;49m23.3.1\u001B[0m\n",
      "\u001B[1m[\u001B[0m\u001B[34;49mnotice\u001B[0m\u001B[1;39;49m]\u001B[0m\u001B[39;49m To update, run: \u001B[0m\u001B[32;49mpip install --upgrade pip\u001B[0m\n"
     ]
    }
   ],
   "source": [
    "!pip install yt_dlp"
   ]
  },
  {
   "cell_type": "code",
   "execution_count": 4,
   "id": "fbc0967b-0811-4dad-b1c4-885d584397f8",
   "metadata": {
    "scrolled": true,
    "tags": []
   },
   "outputs": [
    {
     "name": "stdout",
     "output_type": "stream",
     "text": [
      "{'Items': [{'id': 'tx2DaIcoNLQ'}, {'id': 'E895PNqSgEI'}, {'id': 'RW94mABPEpw'}, {'id': 'Z3nOh8Yig0o'}, {'id': 'XniKiPMM24g'}, {'id': 'dWB3iP3ai-o'}, {'id': 'MoxFkJlVZlA'}, {'id': 'm3GPb-A9CQ4'}, {'id': 'BWkt79xkd00'}, {'id': 'yB7-bVpsOic'}, {'id': 'WkLTWmlTaJM'}, {'id': 'AaCGGopQOJ0'}, {'id': 'OiDgFekE2ak'}]}\n",
      "[youtube] Extracting URL: https://www.youtube.com/watch?v=tx2DaIcoNLQ\n",
      "[youtube] Extracting URL: https://www.youtube.com/watch?v=RW94mABPEpw\n",
      "[youtube] Extracting URL: https://www.youtube.com/watch?v=tx2DaIcoNLQ\n",
      "[youtube] Extracting URL: https://www.youtube.com/watch?v=XniKiPMM24g\n",
      "[youtube] Extracting URL: https://www.youtube.com/watch?v=RW94mABPEpw\n",
      "[youtube] tx2DaIcoNLQ: Downloading webpage\n",
      "[youtube] Extracting URL: https://www.youtube.com/watch?v=E895PNqSgEI\n",
      "[youtube] Extracting URL: https://www.youtube.com/watch?v=E895PNqSgEI\n",
      "[youtube] RW94mABPEpw: Downloading webpage\n",
      "[youtube] Extracting URL: https://www.youtube.com/watch?v=XniKiPMM24g\n",
      "[youtube] tx2DaIcoNLQ: Downloading webpage\n",
      "[youtube] Extracting URL: https://www.youtube.com/watch?v=Z3nOh8Yig0o\n",
      "[youtube] Extracting URL: https://www.youtube.com/watch?v=Z3nOh8Yig0o\n",
      "[youtube] XniKiPMM24g: Downloading webpage\n",
      "[youtube] RW94mABPEpw: Downloading webpage\n",
      "[youtube] E895PNqSgEI: Downloading webpage\n",
      "[youtube] XniKiPMM24g: Downloading webpage\n",
      "[youtube] E895PNqSgEI: Downloading webpage\n",
      "[youtube] Z3nOh8Yig0o: Downloading webpage\n",
      "[youtube] Z3nOh8Yig0o: Downloading webpage\n",
      "[youtube] E895PNqSgEI: Downloading ios player API JSON\n",
      "[youtube] E895PNqSgEI: Downloading ios player API JSON\n",
      "[youtube] RW94mABPEpw: Downloading ios player API JSON\n",
      "[youtube] tx2DaIcoNLQ: Downloading ios player API JSON\n",
      "[youtube] Z3nOh8Yig0o: Downloading ios player API JSON\n",
      "[youtube] Z3nOh8Yig0o: Downloading ios player API JSON\n",
      "[youtube] RW94mABPEpw: Downloading ios player API JSON\n",
      "[youtube] XniKiPMM24g: Downloading ios player API JSON\n",
      "[youtube] tx2DaIcoNLQ: Downloading ios player API JSON\n",
      "[youtube] XniKiPMM24g: Downloading ios player API JSON\n",
      "[youtube] RW94mABPEpw: Downloading android player API JSON\n",
      "[youtube] Z3nOh8Yig0o: Downloading android player API JSON\n",
      "[youtube] E895PNqSgEI: Downloading android player API JSON\n",
      "[youtube] E895PNqSgEI: Downloading android player API JSON\n",
      "[youtube] tx2DaIcoNLQ: Downloading android player API JSON\n",
      "[youtube] RW94mABPEpw: Downloading android player API JSON\n"
     ]
    },
    {
     "name": "stderr",
     "output_type": "stream",
     "text": [
      "ERROR: [youtube] Z3nOh8Yig0o: Video unavailable. The uploader has not made this video available in your country\n"
     ]
    },
    {
     "name": "stdout",
     "output_type": "stream",
     "text": [
      "[youtube] E895PNqSgEI: Downloading m3u8 information\n",
      "[youtube] RW94mABPEpw: Downloading m3u8 information\n",
      "[youtube] RW94mABPEpw: Downloading m3u8 information\n",
      "[youtube] tx2DaIcoNLQ: Downloading android player API JSON\n",
      "[youtube] Z3nOh8Yig0o: Downloading android player API JSON\n",
      "[youtube] XniKiPMM24g: Downloading android player API JSON\n",
      "[youtube] tx2DaIcoNLQ: Downloading m3u8 information\n",
      "[youtube] E895PNqSgEI: Downloading m3u8 information\n",
      "[youtube] XniKiPMM24g: Downloading android player API JSON\n",
      "[youtube] tx2DaIcoNLQ: Downloading m3u8 information\n",
      "[youtube] Extracting URL: https://www.youtube.com/watch?v=dWB3iP3ai-o\n",
      "[youtube] dWB3iP3ai-o: Downloading webpage\n"
     ]
    },
    {
     "name": "stderr",
     "output_type": "stream",
     "text": [
      "ERROR: [youtube] Z3nOh8Yig0o: Video unavailable. The uploader has not made this video available in your country\n"
     ]
    },
    {
     "name": "stdout",
     "output_type": "stream",
     "text": [
      "[youtube] XniKiPMM24g: Downloading m3u8 information\n",
      "[youtube] XniKiPMM24g: Downloading m3u8 information\n",
      "[youtube] Extracting URL: https://www.youtube.com/watch?v=dWB3iP3ai-o\n",
      "[youtube] dWB3iP3ai-o: Downloading webpage\n",
      "[youtube] dWB3iP3ai-o: Downloading ios player API JSON\n",
      "[info] E895PNqSgEI: Downloading 1 format(s): 248+251\n",
      "[youtube] dWB3iP3ai-o: Downloading android player API JSON\n",
      "[info] XniKiPMM24g: Downloading 1 format(s): 244+251\n",
      "[info] RW94mABPEpw: Downloading 1 format(s): 616+251\n",
      "[youtube] dWB3iP3ai-o: Downloading m3u8 information\n",
      "[youtube] dWB3iP3ai-o: Downloading ios player API JSON\n",
      "[info] E895PNqSgEI: Downloading 1 format(s): 244+251\n",
      "[info] RW94mABPEpw: Downloading 1 format(s): 244+251\n",
      "[info] XniKiPMM24g: Downloading 1 format(s): 248+251\n",
      "[youtube] dWB3iP3ai-o: Downloading android player API JSON\n",
      "[info] tx2DaIcoNLQ: Downloading 1 format(s): 244+251\n",
      "[info] tx2DaIcoNLQ: Downloading 1 format(s): 616+251\n",
      "[youtube] dWB3iP3ai-o: Downloading m3u8 information\n",
      "[hlsnative] Downloading m3u8 manifest\n",
      "[hlsnative] Downloading m3u8 manifest\n",
      "[info] dWB3iP3ai-o: Downloading 1 format(s): 244+251\n",
      "[hlsnative] Total fragments: 183\n",
      "[hlsnative] Total fragments: 77\n",
      "[download] Destination: ./dataset_splited/E895PNqSgEI/video_1080p.f248.webm\n",
      "[download] Destination: ./dataset_splited/tx2DaIcoNLQ/video_1080p.f616.mp4\n",
      "[download]   0.0% of    9.24MiB at   12.52KiB/s ETA 12:36[download] Destination: ./dataset_splited/RW94mABPEpw/video_1080p.f616.mp4\n",
      "[download] Destination: ./dataset_splited/XniKiPMM24g/video_480p.f244.webm\n",
      "[download]   0.1% of    9.24MiB at   61.51KiB/s ETA 02:33[download] Destination: ./dataset_splited/E895PNqSgEI/video_480p.f244.webm\n",
      "[download] Destination: ./dataset_splited/RW94mABPEpw/video_480p.f244.webm\n",
      "[download]   0.2% of    9.24MiB at  113.29KiB/s ETA 01:23[download] Destination: ./dataset_splited/XniKiPMM24g/video_1080p.f248.webm\n",
      "[download]   0.0% of   46.32MiB at   13.19KiB/s ETA 59:59[info] dWB3iP3ai-o: Downloading 1 format(s): 248+251\n",
      "[download]   0.2% of   14.69MiB at  171.40KiB/s ETA 01:27[download] Destination: ./dataset_splited/tx2DaIcoNLQ/video_480p.f244.webm\n",
      "[download]   0.6% of   42.36MiB at    1.62MiB/s ETA 00:26[download] Destination: ./dataset_splited/dWB3iP3ai-o/video_480p.f244.webm\n",
      "[download]   1.3% of   18.71MiB at    3.05MiB/s ETA 00:06[download] Destination: ./dataset_splited/dWB3iP3ai-o/video_1080p.f248.webm\n",
      "[download] 100% of   18.71MiB in 00:00:01 at 12.09MiB/s    (frag 1/183)  \n",
      "[download]  35.6% of   54.72MiB at    3.56MiB/s ETA 00:09\n",
      "[download]   2.2% of ~  91.47MiB at  644.93KiB/s ETA 00:49 (frag 1/183)[download] Destination: ./dataset_splited/E895PNqSgEI/video_480p.f251.webm\n",
      "[download]  35.2% of   27.36MiB at    5.30MiB/s ETA 00:032 (frag 1/77)[download] Destination: ./dataset_splited/dWB3iP3ai-o/video_480p.f251.webm\n",
      "[download]  54.0% of   54.72MiB at    4.73MiB/s ETA 00:05  \n",
      "[download]   3.3% of ~  76.99MiB at  875.94KiB/s ETA 00:26 (frag 1/77)[Merger] Merging formats into \"./dataset_splited/E895PNqSgEI/video_480p.webm\"\n",
      "[download]  37.0% of   27.36MiB at    1.65MiB/s ETA 00:108 (frag 2/77))\n",
      "[download]  43.2% of   14.69MiB at    2.69MiB/s ETA 00:039 (frag 2/183)[Merger] Merging formats into \"./dataset_splited/dWB3iP3ai-o/video_480p.webm\"\n",
      "[download] 100% of    9.24MiB in 00:00:03 at 3.06MiB/s   \n",
      "[download]  70.0% of   14.69MiB at    2.57MiB/s ETA 00:017 (frag 2/183)[download] Destination: ./dataset_splited/E895PNqSgEI/video_1080p.f251.webm\n",
      "[download]  71.4% of   27.36MiB at  527.21KiB/s ETA 00:15  (frag 2/183)\n",
      "[download]  46.1% of   42.36MiB at    8.62MiB/s ETA 00:023 (frag 2/183)[Merger] Merging formats into \"./dataset_splited/E895PNqSgEI/video_1080p.webm\"\n",
      "[download] 100% of   14.69MiB in 00:00:03 at 3.96MiB/s     \n",
      "[download]  48.5% of   42.36MiB at    3.04MiB/s ETA 00:07Deleting original file ./dataset_splited/E895PNqSgEI/video_480p.f244.webm (pass -k to keep)\n",
      "[download] Destination: ./dataset_splited/XniKiPMM24g/video_480p.f251.webm\n",
      "Deleting original file ./dataset_splited/E895PNqSgEI/video_480p.f251.webm (pass -k to keep)\n",
      "[download]  92.7% of   54.72MiB at    3.87MiB/s ETA 00:01\n",
      "[download]   2.5% of ~ 245.30MiB at    1.56MiB/s ETA 00:57 (frag 3/77)[download] Destination: ./dataset_splited/RW94mABPEpw/video_480p.f251.webm\n",
      "[download] 100% of   54.72MiB in 00:00:04 at 13.15MiB/s  5 (frag 3/183)\n",
      "[download]   5.2% of ~ 116.48MiB at    1.50MiB/s ETA 01:00 (frag 3/77)[download] Destination: ./dataset_splited/dWB3iP3ai-o/video_1080p.f251.webm\n",
      "[download] 100% of    6.21MiB in 00:00:00 at 6.23MiB/s   7 (frag 4/183)\n",
      "\n",
      "[download]   4.3% of ~ 173.06MiB at    1.61MiB/s ETA 01:08 (frag 4/77)Deleting original file ./dataset_splited/dWB3iP3ai-o/video_480p.f251.webm (pass -k to keep)\n",
      "[download]  79.1% of   42.36MiB at   10.05MiB/s ETA 00:00Deleting original file ./dataset_splited/dWB3iP3ai-o/video_480p.f244.webm (pass -k to keep)\n",
      "[download] 100% of    3.19MiB in 00:00:00 at 4.35MiB/s   \n",
      "Deleting original file ./dataset_splited/E895PNqSgEI/video_1080p.f248.webm (pass -k to keep)\n",
      "[Merger] Merging formats into \"./dataset_splited/XniKiPMM24g/video_480p.webm\"\n",
      "Deleting original file ./dataset_splited/E895PNqSgEI/video_1080p.f251.webm (pass -k to keep)\n",
      "[Merger] Merging formats into \"./dataset_splited/dWB3iP3ai-o/video_1080p.webm\"\n",
      "[Merger] Merging formats into \"./dataset_splited/RW94mABPEpw/video_480p.webm\"\n"
     ]
    },
    {
     "name": "stderr",
     "output_type": "stream",
     "text": [
      "ffmpeg version 4.2.7-0ubuntu0.1 Copyright (c) 2000-2022 the FFmpeg developers\n",
      "  built with gcc 9 (Ubuntu 9.4.0-1ubuntu1~20.04.1)\n",
      "  configuration: --prefix=/usr --extra-version=0ubuntu0.1 --toolchain=hardened --libdir=/usr/lib/x86_64-linux-gnu --incdir=/usr/include/x86_64-linux-gnu --arch=amd64 --enable-gpl --disable-stripping --enable-avresample --disable-filter=resample --enable-avisynth --enable-gnutls --enable-ladspa --enable-libaom --enable-libass --enable-libbluray --enable-libbs2b --enable-libcaca --enable-libcdio --enable-libcodec2 --enable-libflite --enable-libfontconfig --enable-libfreetype --enable-libfribidi --enable-libgme --enable-libgsm --enable-libjack --enable-libmp3lame --enable-libmysofa --enable-libopenjpeg --enable-libopenmpt --enable-libopus --enable-libpulse --enable-librsvg --enable-librubberband --enable-libshine --enable-libsnappy --enable-libsoxr --enable-libspeex --enable-libssh --enable-libtheora --enable-libtwolame --enable-libvidstab --enable-libvorbis --enable-libvpx --enable-libwavpack --enable-libwebp --enable-libx265 --enable-libxml2 --enable-libxvid --enable-libzmq --enable-libzvbi --enable-lv2 --enable-omx --enable-openal --enable-opencl --enable-opengl --enable-sdl2 --enable-libdc1394 --enable-libdrm --enable-libiec61883 --enable-nvenc --enable-chromaprint --enable-frei0r --enable-libx264 --enable-shared\n",
      "  libavutil      56. 31.100 / 56. 31.100\n",
      "  libavcodec     58. 54.100 / 58. 54.100\n",
      "  libavformat    58. 29.100 / 58. 29.100\n",
      "  libavdevice    58.  8.100 / 58.  8.100\n",
      "  libavfilter     7. 57.100 /  7. 57.100\n",
      "  libavresample   4.  0.  0 /  4.  0.  0\n",
      "  libswscale      5.  5.100 /  5.  5.100\n",
      "  libswresample   3.  5.100 /  3.  5.100\n",
      "  libpostproc    55.  5.100 / 55.  5.100\n",
      "Input #0, matroska,webm, from './dataset_splited/E895PNqSgEI/video_480p.webm':\n",
      "  Metadata:\n",
      "    ENCODER         : Lavf58.29.100\n",
      "  Duration: 00:00:35.14, start: -0.007000, bitrate: 740 kb/s\n",
      "    Stream #0:0(eng): Video: vp9 (Profile 0), yuv420p(tv, bt709), 854x480, SAR 1:1 DAR 427:240, 30 fps, 30 tbr, 1k tbn, 1k tbc (default)\n",
      "    Metadata:\n",
      "      DURATION        : 00:00:35.033000000\n",
      "    Stream #0:1(eng): Audio: opus, 48000 Hz, stereo, fltp (default)\n",
      "    Metadata:\n",
      "      DURATION        : 00:00:35.141000000\n",
      "Stream mapping:\n",
      "  Stream #0:0 -> #0:0 (vp9 (native) -> png (native))\n",
      "Press [q] to stop, [?] for help\n",
      "Output #0, image2, to './dataset_splited/E895PNqSgEI/frames_480p/frame-%04d.png':\n",
      "  Metadata:\n",
      "    encoder         : Lavf58.29.100\n",
      "    Stream #0:0(eng): Video: png, rgb24, 854x480 [SAR 1:1 DAR 427:240], q=2-31, 200 kb/s, 1 fps, 1 tbn, 1 tbc (default)\n",
      "    Metadata:\n",
      "      DURATION        : 00:00:35.033000000\n",
      "      encoder         : Lavc58.54.100 png\n"
     ]
    },
    {
     "name": "stdout",
     "output_type": "stream",
     "text": [
      "[download]  86.3% of   46.32MiB at    4.89MiB/s ETA 00:012 (frag 4/183)"
     ]
    },
    {
     "name": "stderr",
     "output_type": "stream",
     "text": [
      "frame=    3 fps=0.0 q=-0.0 size=N/A time=00:00:01.00 bitrate=N/A dup=0 drop=29 speed=1.85x    \r"
     ]
    },
    {
     "name": "stdout",
     "output_type": "stream",
     "text": [
      "[download] 100% of   46.32MiB in 00:00:06 at 6.98MiB/s   8 (frag 4/77))\n",
      "[download] 100% of   42.36MiB in 00:00:06 at 6.39MiB/s   0 (frag 5/77)\n"
     ]
    },
    {
     "name": "stderr",
     "output_type": "stream",
     "text": [
      "ffmpeg version 4.2.7-0ubuntu0.1 Copyright (c) 2000-2022 the FFmpeg developers4 speed=1.89x    \n",
      "  built with gcc 9 (Ubuntu 9.4.0-1ubuntu1~20.04.1)\n",
      "  configuration: --prefix=/usr --extra-version=0ubuntu0.1 --toolchain=hardened --libdir=/usr/lib/x86_64-linux-gnu --incdir=/usr/include/x86_64-linux-gnu --arch=amd64 --enable-gpl --disable-stripping --enable-avresample --disable-filter=resample --enable-avisynth --enable-gnutls --enable-ladspa --enable-libaom --enable-libass --enable-libbluray --enable-libbs2b --enable-libcaca --enable-libcdio --enable-libcodec2 --enable-libflite --enable-libfontconfig --enable-libfreetype --enable-libfribidi --enable-libgme --enable-libgsm --enable-libjack --enable-libmp3lame --enable-libmysofa --enable-libopenjpeg --enable-libopenmpt --enable-libopus --enable-libpulse --enable-librsvg --enable-librubberband --enable-libshine --enable-libsnappy --enable-libsoxr --enable-libspeex --enable-libssh --enable-libtheora --enable-libtwolame --enable-libvidstab --enable-libvorbis --enable-libvpx --enable-libwavpack --enable-libwebp --enable-libx265 --enable-libxml2 --enable-libxvid --enable-libzmq --enable-libzvbi --enable-lv2 --enable-omx --enable-openal --enable-opencl --enable-opengl --enable-sdl2 --enable-libdc1394 --enable-libdrm --enable-libiec61883 --enable-nvenc --enable-chromaprint --enable-frei0r --enable-libx264 --enable-shared\n",
      "  libavutil      56. 31.100 / 56. 31.100\n",
      "  libavcodec     58. 54.100 / 58. 54.100\n",
      "  libavformat    58. 29.100 / 58. 29.100\n",
      "  libavdevice    58.  8.100 / 58.  8.100\n",
      "  libavfilter     7. 57.100 /  7. 57.100\n",
      "  libavresample   4.  0.  0 /  4.  0.  0\n",
      "  libswscale      5.  5.100 /  5.  5.100\n",
      "  libswresample   3.  5.100 /  3.  5.100\n",
      "  libpostproc    55.  5.100 / 55.  5.100\n"
     ]
    },
    {
     "name": "stdout",
     "output_type": "stream",
     "text": [
      "[download] Destination: ./dataset_splited/XniKiPMM24g/video_1080p.f251.webm\n",
      "[download]   0.0% of    3.11MiB at   35.71KiB/s ETA 01:29[download] Destination: ./dataset_splited/tx2DaIcoNLQ/video_480p.f251.webm\n",
      "[download]   3.3% of ~ 289.25MiB at    1.59MiB/s ETA 02:57 (frag 5/183)"
     ]
    },
    {
     "name": "stderr",
     "output_type": "stream",
     "text": [
      "Input #0, matroska,webm, from './dataset_splited/dWB3iP3ai-o/video_480p.webm':\n",
      "  Metadata:\n",
      "    ENCODER         : Lavf58.29.100\n",
      "  Duration: 00:03:57.72, start: -0.007000, bitrate: 772 kb/s\n",
      "    Stream #0:0(eng): Video: vp9 (Profile 0), yuv420p(tv, bt709), 854x480, SAR 1:1 DAR 427:240, 25 fps, 25 tbr, 1k tbn, 1k tbc (default)\n",
      "    Metadata:\n",
      "      DURATION        : 00:03:57.680000000\n",
      "    Stream #0:1(eng): Audio: opus, 48000 Hz, stereo, fltp (default)\n",
      "    Metadata:\n",
      "      DURATION        : 00:03:57.721000000\n",
      "Stream mapping:\n",
      "  Stream #0:0 -> #0:0 (vp9 (native) -> png (native))\n",
      "Press [q] to stop, [?] for help\n",
      "Output #0, image2, to './dataset_splited/dWB3iP3ai-o/frames_480p/frame-%04d.png':\n",
      "  Metadata:\n",
      "    encoder         : Lavf58.29.100\n",
      "    Stream #0:0(eng): Video: png, rgb24, 854x480 [SAR 1:1 DAR 427:240], q=2-31, 200 kb/s, 1 fps, 1 tbn, 1 tbc (default)\n",
      "    Metadata:\n",
      "      DURATION        : 00:03:57.680000000\n",
      "      encoder         : Lavc58.54.100 png\n"
     ]
    },
    {
     "name": "stdout",
     "output_type": "stream",
     "text": [
      "[download]   7.8% of ~ 140.60MiB at    1.81MiB/s ETA 01:12 (frag 5/77))\n",
      "[download]   8.1% of ~ 146.91MiB at    1.84MiB/s ETA 01:12 (frag 5/77)"
     ]
    },
    {
     "name": "stderr",
     "output_type": "stream",
     "text": [
      "ffmpeg version 4.2.7-0ubuntu0.1 Copyright (c) 2000-2022 the FFmpeg developers7 speed=1.92x    \n",
      "  built with gcc 9 (Ubuntu 9.4.0-1ubuntu1~20.04.1)\n",
      "  configuration: --prefix=/usr --extra-version=0ubuntu0.1 --toolchain=hardened --libdir=/usr/lib/x86_64-linux-gnu --incdir=/usr/include/x86_64-linux-gnu --arch=amd64 --enable-gpl --disable-stripping --enable-avresample --disable-filter=resample --enable-avisynth --enable-gnutls --enable-ladspa --enable-libaom --enable-libass --enable-libbluray --enable-libbs2b --enable-libcaca --enable-libcdio --enable-libcodec2 --enable-libflite --enable-libfontconfig --enable-libfreetype --enable-libfribidi --enable-libgme --enable-libgsm --enable-libjack --enable-libmp3lame --enable-libmysofa --enable-libopenjpeg --enable-libopenmpt --enable-libopus --enable-libpulse --enable-librsvg --enable-librubberband --enable-libshine --enable-libsnappy --enable-libsoxr --enable-libspeex --enable-libssh --enable-libtheora --enable-libtwolame --enable-libvidstab --enable-libvorbis --enable-libvpx --enable-libwavpack --enable-libwebp --enable-libx265 --enable-libxml2 --enable-libxvid --enable-libzmq --enable-libzvbi --enable-lv2 --enable-omx --enable-openal --enable-opencl --enable-opengl --enable-sdl2 --enable-libdc1394 --enable-libdrm --enable-libiec61883 --enable-nvenc --enable-chromaprint --enable-frei0r --enable-libx264 --enable-shared\n",
      "  libavutil      56. 31.100 / 56. 31.100\n",
      "  libavcodec     58. 54.100 / 58. 54.100\n",
      "  libavformat    58. 29.100 / 58. 29.100\n",
      "  libavdevice    58.  8.100 / 58.  8.100\n",
      "  libavfilter     7. 57.100 /  7. 57.100\n",
      "  libavresample   4.  0.  0 /  4.  0.  0\n",
      "  libswscale      5.  5.100 /  5.  5.100\n",
      "  libswresample   3.  5.100 /  3.  5.100\n",
      "  libpostproc    55.  5.100 / 55.  5.100\n"
     ]
    },
    {
     "name": "stdout",
     "output_type": "stream",
     "text": [
      "[download]  62.3% of   15.54MiB at    9.88MiB/s ETA 00:008 (frag 5/77))[Merger] Merging formats into \"./dataset_splited/XniKiPMM24g/video_1080p.webm\"\n"
     ]
    },
    {
     "name": "stderr",
     "output_type": "stream",
     "text": [
      "frame=    6 fps=2.8 q=-0.0 size=N/A time=00:00:04.00 bitrate=N/A dup=0 drop=118 speed=1.89x    \r"
     ]
    },
    {
     "name": "stdout",
     "output_type": "stream",
     "text": [
      "[download]   3.8% of ~ 312.55MiB at    2.11MiB/s ETA 02:46 (frag 6/183)"
     ]
    },
    {
     "name": "stderr",
     "output_type": "stream",
     "text": [
      "Input #0, matroska,webm, from './dataset_splited/E895PNqSgEI/video_1080p.webm':\n",
      "  Metadata:\n",
      "    ENCODER         : Lavf58.29.100\n",
      "  Duration: 00:00:35.14, start: -0.007000, bitrate: 2313 kb/s\n",
      "    Stream #0:0(eng): Video: vp9 (Profile 0), yuv420p(tv, bt709), 1920x1080, SAR 1:1 DAR 16:9, 30 fps, 30 tbr, 1k tbn, 1k tbc (default)\n",
      "    Metadata:\n",
      "      DURATION        : 00:00:35.033000000\n",
      "    Stream #0:1(eng): Audio: opus, 48000 Hz, stereo, fltp (default)\n",
      "    Metadata:\n",
      "      DURATION        : 00:00:35.141000000\n",
      "Stream mapping:\n",
      "  Stream #0:0 -> #0:0 (vp9 (native) -> png (native))\n",
      "Press [q] to stop, [?] for help\n",
      "frame=    3 fps=2.6 q=-0.0 size=N/A time=00:00:01.00 bitrate=N/A dup=0 drop=20 speed=0.862x    \r"
     ]
    },
    {
     "name": "stdout",
     "output_type": "stream",
     "text": [
      "[download]   3.9% of ~ 315.76MiB at    2.21MiB/s ETA 02:37 (frag 6/183)"
     ]
    },
    {
     "name": "stderr",
     "output_type": "stream",
     "text": [
      "frame=    7 fps=2.6 q=-0.0 size=N/A time=00:00:05.00 bitrate=N/A dup=0 drop=142 speed=1.88x    \r"
     ]
    },
    {
     "name": "stdout",
     "output_type": "stream",
     "text": [
      "[download]   9.3% of ~ 150.69MiB at    2.65MiB/s ETA 01:02 (frag 6/77))"
     ]
    },
    {
     "name": "stderr",
     "output_type": "stream",
     "text": [
      "frame=    4 fps=2.4 q=-0.0 size=N/A time=00:00:02.00 bitrate=N/A dup=0 drop=49 speed= 1.2x    \r"
     ]
    },
    {
     "name": "stdout",
     "output_type": "stream",
     "text": [
      "[download]   9.7% of ~ 158.94MiB at    2.83MiB/s ETA 00:59 (frag 6/77))"
     ]
    },
    {
     "name": "stderr",
     "output_type": "stream",
     "text": [
      "Output #0, image2, to './dataset_splited/E895PNqSgEI/frames_1080p/frame-%04d.png':eed=1.56x    \n",
      "  Metadata:\n",
      "    encoder         : Lavf58.29.100\n",
      "    Stream #0:0(eng): Video: png, rgb24, 1920x1080 [SAR 1:1 DAR 16:9], q=2-31, 200 kb/s, 1 fps, 1 tbn, 1 tbc (default)\n",
      "    Metadata:\n",
      "      DURATION        : 00:00:35.033000000\n",
      "      encoder         : Lavc58.54.100 png\n",
      "frame=    1 fps=0.0 q=0.0 size=N/A time=00:00:00.00 bitrate=N/A speed=   0x    \r"
     ]
    },
    {
     "name": "stdout",
     "output_type": "stream",
     "text": [
      "[download] 100% of   15.54MiB in 00:00:02 at 6.96MiB/s   \n",
      "[download]   8.1% of ~ 191.50MiB at    2.81MiB/s ETA 01:00 (frag 7/77)"
     ]
    },
    {
     "name": "stderr",
     "output_type": "stream",
     "text": [
      "frame=    8 fps=2.2 q=-0.0 size=N/A time=00:00:06.00 bitrate=N/A dup=0 drop=178 speed=1.62x    \r"
     ]
    },
    {
     "name": "stdout",
     "output_type": "stream",
     "text": [
      "[download]   4.4% of ~ 316.24MiB at    2.13MiB/s ETA 02:36 (frag 7/183)[Merger] Merging formats into \"./dataset_splited/tx2DaIcoNLQ/video_480p.webm\"\n",
      "[download]   4.4% of ~ 316.77MiB at    1.87MiB/s ETA 02:42 (frag 7/183)"
     ]
    },
    {
     "name": "stderr",
     "output_type": "stream",
     "text": [
      "frame=    6 fps=2.2 q=-0.0 size=N/A time=00:00:04.00 bitrate=N/A dup=0 drop=104 speed=1.46x    \r"
     ]
    },
    {
     "name": "stdout",
     "output_type": "stream",
     "text": [
      "[download]  10.4% of ~ 148.52MiB at    2.43MiB/s ETA 01:02 (frag 7/77))"
     ]
    },
    {
     "name": "stderr",
     "output_type": "stream",
     "text": [
      "frame=    9 fps=2.1 q=-0.0 size=N/A time=00:00:07.00 bitrate=N/A dup=0 drop=205 speed=1.65x    \r"
     ]
    },
    {
     "name": "stdout",
     "output_type": "stream",
     "text": [
      "[download]   3.7% of ~ 453.58MiB at    1.67MiB/s ETA 03:04 (frag 8/183)"
     ]
    },
    {
     "name": "stderr",
     "output_type": "stream",
     "text": [
      "frame=    9 fps=1.9 q=-0.0 size=N/A time=00:00:07.00 bitrate=N/A dup=0 drop=219 speed=1.47x    \r"
     ]
    },
    {
     "name": "stdout",
     "output_type": "stream",
     "text": [
      "[download]  11.0% of ~ 158.12MiB at    1.70MiB/s ETA 01:13 (frag 7/77)Deleting original file ./dataset_splited/XniKiPMM24g/video_480p.f244.webm (pass -k to keep)\n",
      "Deleting original file ./dataset_splited/XniKiPMM24g/video_480p.f251.webm (pass -k to keep)\n",
      "[download]  11.6% of ~ 167.75MiB at    1.85MiB/s ETA 01:12 (frag 7/77)Deleting original file ./dataset_splited/dWB3iP3ai-o/video_1080p.f251.webm (pass -k to keep)\n",
      "[download]  10.6% of ~ 187.00MiB at    1.96MiB/s ETA 01:12 (frag 7/77)Deleting original file ./dataset_splited/dWB3iP3ai-o/video_1080p.f248.webm (pass -k to keep)\n"
     ]
    },
    {
     "name": "stderr",
     "output_type": "stream",
     "text": [
      "frame=   10 fps=1.9 q=-0.0 size=N/A time=00:00:08.00 bitrate=N/A dup=0 drop=235 speed=1.52x    \r"
     ]
    },
    {
     "name": "stdout",
     "output_type": "stream",
     "text": [
      "[download]   5.0% of ~ 344.59MiB at    1.71MiB/s ETA 03:05 (frag 8/183)"
     ]
    },
    {
     "name": "stderr",
     "output_type": "stream",
     "text": [
      "frame=    8 fps=1.9 q=-0.0 size=N/A time=00:00:06.00 bitrate=N/A dup=0 drop=149 speed= 1.4x    \r"
     ]
    },
    {
     "name": "stdout",
     "output_type": "stream",
     "text": [
      "[download]   5.2% of ~ 382.72MiB at    1.91MiB/s ETA 03:02 (frag 8/183)"
     ]
    },
    {
     "name": "stderr",
     "output_type": "stream",
     "text": [
      "frame=    2 fps=0.6 q=0.0 size=N/A time=00:00:00.00 bitrate=N/A dup=0 drop=22 speed=   0x      \r"
     ]
    },
    {
     "name": "stdout",
     "output_type": "stream",
     "text": [
      "[download]   4.3% of ~ 467.85MiB at    2.01MiB/s ETA 03:04 (frag 9/183)"
     ]
    },
    {
     "name": "stderr",
     "output_type": "stream",
     "text": [
      "frame=    9 fps=1.9 q=-0.0 size=N/A time=00:00:07.00 bitrate=N/A dup=0 drop=166 speed=1.47x    \r"
     ]
    },
    {
     "name": "stdout",
     "output_type": "stream",
     "text": [
      "[download]  11.7% of ~ 169.06MiB at    1.73MiB/s ETA 01:20 (frag 8/77)Deleting original file ./dataset_splited/RW94mABPEpw/video_480p.f244.webm (pass -k to keep)\n",
      "[download]  11.8% of ~ 169.86MiB at    1.66MiB/s ETA 01:22 (frag 8/77)Deleting original file ./dataset_splited/RW94mABPEpw/video_480p.f251.webm (pass -k to keep)\n"
     ]
    },
    {
     "name": "stderr",
     "output_type": "stream",
     "text": [
      "frame=    9 fps=1.7 q=-0.0 size=N/A time=00:00:07.00 bitrate=N/A dup=0 drop=186 speed=1.33x    \r"
     ]
    },
    {
     "name": "stdout",
     "output_type": "stream",
     "text": [
      "[download]  12.1% of ~ 177.34MiB at    2.06MiB/s ETA 01:18 (frag 8/77)"
     ]
    },
    {
     "name": "stderr",
     "output_type": "stream",
     "text": [
      "frame=   12 fps=1.8 q=-0.0 size=N/A time=00:00:10.00 bitrate=N/A dup=0 drop=307 speed=1.46x    \r"
     ]
    },
    {
     "name": "stdout",
     "output_type": "stream",
     "text": [
      "[download]  13.0% of ~ 165.26MiB at    2.11MiB/s ETA 01:17 (frag 9/77))"
     ]
    },
    {
     "name": "stderr",
     "output_type": "stream",
     "text": [
      "frame=   11 fps=1.8 q=-0.0 size=N/A time=00:00:09.00 bitrate=N/A dup=0 drop=213 speed=1.49x    \r"
     ]
    },
    {
     "name": "stdout",
     "output_type": "stream",
     "text": [
      "[download]  13.3% of ~ 169.10MiB at    2.04MiB/s ETA 01:15 (frag 9/77)3)"
     ]
    },
    {
     "name": "stderr",
     "output_type": "stream",
     "text": [
      "ffmpeg version 4.2.7-0ubuntu0.1ffmpeg version 4.2.7-0ubuntu0.1 Copyright (c) 2000-2022 the FFmpeg developers\n",
      "  built with gcc 9 (Ubuntu 9.4.0-1ubuntu1~20.04.1)\n",
      "  configuration: --prefix=/usr --extra-version=0ubuntu0.1 --toolchain=hardened --libdir=/usr/lib/x86_64-linux-gnu --incdir=/usr/include/x86_64-linux-gnu --arch=amd64 --enable-gpl --disable-stripping --enable-avresample --disable-filter=resample --enable-avisynth --enable-gnutls --enable-ladspa --enable-libaom --enable-libass --enable-libbluray --enable-libbs2b --enable-libcaca --enable-libcdio --enable-libcodec2 --enable-libflite --enable-libfontconfig --enable-libfreetype --enable-libfribidi --enable-libgme --enable-libgsm --enable-libjack --enable-libmp3lame --enable-libmysofa --enable-libopenjpeg --enable-libopenmpt --enable-libopus --enable-libpulse --enable-librsvg --enable-librubberband --enable-libshine --enable-libsnappy --enable-libsoxr --enable-libspeex --enable-libssh --enable-libtheora --enable-libtwolame --enable-libvidstab --enable-libvorbis --enable-libvpx --enable-libwavpack --enable-libwebp --enable-libx265 --enable-libxml2 --enable-libxvid --enable-libzmq --enable-libzvbi --enable-lv2 --enable-omx --enable-openal --enable-opencl --enable-opengl --enable-sdl2 --enable-libdc1394 --enable-libdrm --enable-libiec61883 --enable-nvenc --enable-chromaprint --enable-frei0r --enable-libx264 --enable-shared\n",
      "  libavutil      56. 31.100 / 56. 31.100\n",
      "  libavcodec     58. 54.100 / 58. 54.100\n",
      "  libavformat    58. 29.100 / 58. 29.100\n",
      "  libavdevice    58.  8.100 / 58.  8.100\n",
      "  libavfilter     7. 57.100 /  7. 57.100\n",
      "  libavresample   4.  0.  0 /  4.  0.  0\n",
      "  libswscale      5.  5.100 /  5.  5.100\n",
      "  libswresample   3.  5.100 /  3.  5.100\n",
      "  libpostproc    55.  5.100 / 55.  5.100\n",
      " Copyright (c) 2000-2022 the FFmpeg developers\n",
      "  built with gcc 9 (Ubuntu 9.4.0-1ubuntu1~20.04.1)\n",
      "  configuration: --prefix=/usr --extra-version=0ubuntu0.1 --toolchain=hardened --libdir=/usr/lib/x86_64-linux-gnu --incdir=/usr/include/x86_64-linux-gnu --arch=amd64 --enable-gpl --disable-stripping --enable-avresample --disable-filter=resample --enable-avisynth --enable-gnutls --enable-ladspa --enable-libaom --enable-libass --enable-libbluray --enable-libbs2b --enable-libcaca --enable-libcdio --enable-libcodec2 --enable-libflite --enable-libfontconfig --enable-libfreetype --enable-libfribidi --enable-libgme --enable-libgsm --enable-libjack --enable-libmp3lame --enable-libmysofa --enable-libopenjpeg --enable-libopenmpt --enable-libopus --enable-libpulse --enable-librsvg --enable-librubberband --enable-libshine --enable-libsnappy --enable-libsoxr --enable-libspeex --enable-libssh --enable-libtheora --enable-libtwolame --enable-libvidstab --enable-libvorbis --enable-libvpx --enable-libwavpack --enable-libwebp --enable-libx265 --enable-libxml2 --enable-libxvid --enable-libzmq --enable-libzvbi --enable-lv2 --enable-omx --enable-openal --enable-opencl --enable-opengl --enable-sdl2 --enable-libdc1394 --enable-libdrm --enable-libiec61883 --enable-nvenc --enable-chromaprint --enable-frei0r --enable-libx264 --enable-shared\n",
      "  libavutil      56. 31.100 / 56. 31.100\n",
      "  libavcodec     58. 54.100 / 58. 54.100\n",
      "  libavformat    58. 29.100 / 58. 29.100\n",
      "  libavdevice    58.  8.100 / 58.  8.100\n",
      "  libavfilter     7. 57.100 /  7. 57.100\n",
      "  libavresample   4.  0.  0 /  4.  0.  0\n",
      "  libswscale      5.  5.100 /  5.  5.100\n",
      "  libswresample   3.  5.100 /  3.  5.100\n",
      "  libpostproc    55.  5.100 / 55.  5.100\n"
     ]
    },
    {
     "name": "stdout",
     "output_type": "stream",
     "text": [
      "[download]  12.0% of ~ 194.63MiB at    1.71MiB/s ETA 01:23 (frag 10/77)"
     ]
    },
    {
     "name": "stderr",
     "output_type": "stream",
     "text": [
      "Input #0, matroska,webm, from './dataset_splited/XniKiPMM24g/video_480p.webm':6 speed=1.51x    \n",
      "  Metadata:\n",
      "    ENCODER         : Lavf58.29.100\n",
      "  Duration: 00:03:31.42, start: -0.007000, bitrate: 706 kb/s\n",
      "    Stream #0:0(eng): Video: vp9 (Profile 0), yuv420p(tv, bt709), 854x480, SAR 1:1 DAR 427:240, 25 fps, 25 tbr, 1k tbn, 1k tbc (default)\n",
      "    Metadata:\n",
      "      DURATION        : 00:03:31.400000000\n",
      "    Stream #0:1(eng): Audio: opus, 48000 Hz, stereo, fltp (default)\n",
      "    Metadata:\n",
      "      DURATION        : 00:03:31.421000000\n",
      "Stream mapping:\n",
      "  Stream #0:0 -> #0:0 (vp9 (native) -> png (native))frame=    3 fps=0.6 q=-0.0 size=N/A time=00:00:01.00 bitrate=N/A dup=0 drop=34 speed=0.187x    \n",
      "Press [q] to stop, [?] for help\n"
     ]
    },
    {
     "name": "stdout",
     "output_type": "stream",
     "text": [
      "[download]   6.0% of ~ 387.11MiB at    2.28MiB/s ETA 02:52 (frag 10/183)"
     ]
    },
    {
     "name": "stderr",
     "output_type": "stream",
     "text": [
      "Input #0, matroska,webm, from './dataset_splited/dWB3iP3ai-o/video_1080p.webm':\n",
      "  Metadata:\n",
      "    ENCODER         : Lavf58.29.100\n",
      "  Duration: 00:03:57.72, start: -0.007000, bitrate: 2043 kb/s\n",
      "    Stream #0:0(eng): Video: vp9 (Profile 0), yuv420p(tv, bt709), 1920x1080, SAR 1:1 DAR 16:9, 25 fps, 25 tbr, 1k tbn, 1k tbc (default)\n",
      "    Metadata:\n",
      "      DURATION        : 00:03:57.680000000\n",
      "    Stream #0:1(eng): Audio: opus, 48000 Hz, stereo, fltp (default)\n",
      "    Metadata:\n",
      "      DURATION        : 00:03:57.721000000\n",
      "Stream mapping:\n",
      "  Stream #0:0 -> #0:0 (vp9 (native) -> png (native))\n",
      "Press [q] to stop, [?] for help\n"
     ]
    },
    {
     "name": "stdout",
     "output_type": "stream",
     "text": [
      "[download]   6.0% of ~ 387.63MiB at    2.28MiB/s ETA 02:52 (frag 10/183)Deleting original file ./dataset_splited/XniKiPMM24g/video_1080p.f248.webm (pass -k to keep)\n",
      "[download]   6.0% of ~ 388.67MiB at    2.28MiB/s ETA 02:51 (frag 10/183)Deleting original file ./dataset_splited/XniKiPMM24g/video_1080p.f251.webm (pass -k to keep)\n",
      "[download]  14.3% of ~ 163.61MiB at    1.69MiB/s ETA 01:23 (frag 10/77))"
     ]
    },
    {
     "name": "stderr",
     "output_type": "stream",
     "text": [
      "Output #0, image2, to './dataset_splited/XniKiPMM24g/frames_480p/frame-%04d.png':\n",
      "  Metadata:\n",
      "    encoder         : Lavf58.29.100\n",
      "    Stream #0:0(eng): Video: png, rgb24, 854x480 [SAR 1:1 DAR 427:240], q=2-31, 200 kb/s, 1 fps, 1 tbn, 1 tbc (default)\n",
      "    Metadata:\n",
      "      DURATION        : 00:03:31.400000000\n",
      "      encoder         : Lavc58.54.100 png\n",
      "frame=    2 fps=0.0 q=0.0 size=N/A time=00:00:00.00 bitrate=N/A dup=0 drop=10 speed=   0x      \r"
     ]
    },
    {
     "name": "stdout",
     "output_type": "stream",
     "text": [
      "[download]  14.6% of ~ 167.08MiB at    1.72MiB/s ETA 01:23 (frag 10/77))"
     ]
    },
    {
     "name": "stderr",
     "output_type": "stream",
     "text": [
      "Output #0, image2, to './dataset_splited/dWB3iP3ai-o/frames_1080p/frame-%04d.png':\n",
      "  Metadata:\n",
      "    encoder         : Lavf58.29.100\n",
      "    Stream #0:0(eng): Video: png, rgb24, 1920x1080 [SAR 1:1 DAR 16:9], q=2-31, 200 kb/s, 1 fps, 1 tbn, 1 tbc (default)\n",
      "    Metadata:\n",
      "      DURATION        : 00:03:57.680000000\n",
      "      encoder         : Lavc58.54.100 png\n",
      "frame=   16 fps=1.8 q=-0.0 size=N/A time=00:00:14.00 bitrate=N/A dup=0 drop=408 speed=1.57x    \r"
     ]
    },
    {
     "name": "stdout",
     "output_type": "stream",
     "text": [
      "[download]  14.8% of ~ 177.58MiB at    1.96MiB/s ETA 01:20 (frag 10/77))"
     ]
    },
    {
     "name": "stderr",
     "output_type": "stream",
     "text": [
      "frame=    2 fps=1.9 q=0.0 size=N/A time=00:00:00.00 bitrate=N/A dup=0 drop=5 speed=   0x       \r"
     ]
    },
    {
     "name": "stdout",
     "output_type": "stream",
     "text": [
      "[download]  12.8% of ~ 205.02MiB at    2.07MiB/s ETA 01:20 (frag 11/77)"
     ]
    },
    {
     "name": "stderr",
     "output_type": "stream",
     "text": [
      "ffmpeg version 4.2.7-0ubuntu0.1 Copyright (c) 2000-2022 the FFmpeg developers\n",
      "  built with gcc 9 (Ubuntu 9.4.0-1ubuntu1~20.04.1)\n",
      "  configuration: --prefix=/usr --extra-version=0ubuntu0.1 --toolchain=hardened --libdir=/usr/lib/x86_64-linux-gnu --incdir=/usr/include/x86_64-linux-gnu --arch=amd64 --enable-gpl --disable-stripping --enable-avresample --disable-filter=resample --enable-avisynth --enable-gnutls --enable-ladspa --enable-libaom --enable-libass --enable-libbluray --enable-libbs2b --enable-libcaca --enable-libcdio --enable-libcodec2 --enable-libflite --enable-libfontconfig --enable-libfreetype --enable-libfribidi --enable-libgme --enable-libgsm --enable-libjack --enable-libmp3lame --enable-libmysofa --enable-libopenjpeg --enable-libopenmpt --enable-libopus --enable-libpulse --enable-librsvg --enable-librubberband --enable-libshine --enable-libsnappy --enable-libsoxr --enable-libspeex --enable-libssh --enable-libtheora --enable-libtwolame --enable-libvidstab --enable-libvorbis --enable-libvpx --enable-libwavpack --enable-libwebp --enable-libx265 --enable-libxml2 --enable-libxvid --enable-libzmq --enable-libzvbi --enable-lv2 --enable-omx --enable-openal --enable-opencl --enable-opengl --enable-sdl2 --enable-libdc1394 --enable-libdrm --enable-libiec61883 --enable-nvenc --enable-chromaprint --enable-frei0r --enable-libx264 --enable-shared\n",
      "  libavutil      56. 31.100 / 56. 31.100\n",
      "  libavcodec     58. 54.100 / 58. 54.100\n",
      "  libavformat    58. 29.100 / 58. 29.100\n",
      "  libavdevice    58.  8.100 / 58.  8.100\n",
      "  libavfilter     7. 57.100 /  7. 57.100\n",
      "  libavresample   4.  0.  0 /  4.  0.  0\n",
      "  libswscale      5.  5.100 /  5.  5.100\n",
      "  libswresample   3.  5.100 /  3.  5.100\n",
      "  libpostproc    55.  5.100 / 55.  5.100\n",
      "frame=   17 fps=1.8 q=-0.0 size=N/A time=00:00:15.00 bitrate=N/A dup=0 drop=430 speed=1.59x    \r"
     ]
    },
    {
     "name": "stdout",
     "output_type": "stream",
     "text": [
      "[download]   6.6% of ~ 403.98MiB at    2.49MiB/s ETA 02:46 (frag 11/183)"
     ]
    },
    {
     "name": "stderr",
     "output_type": "stream",
     "text": [
      "Input #0, matroska,webm, from './dataset_splited/RW94mABPEpw/video_480p.webm':\n",
      "  Metadata:\n",
      "    ENCODER         : Lavf58.29.100\n",
      "  Duration: 00:06:53.16, start: -0.007000, bitrate: 681 kb/s\n",
      "    Stream #0:0(eng): Video: vp9 (Profile 0), yuv420p(tv, bt709), 854x480, SAR 1:1 DAR 427:240, 25 fps, 25 tbr, 1k tbn, 1k tbc (default)\n",
      "    Metadata:\n",
      "      DURATION        : 00:06:53.120000000\n",
      "    Stream #0:1(eng): Audio: opus, 48000 Hz, stereo, fltp (default)\n",
      "    Metadata:\n",
      "      DURATION        : 00:06:53.161000000\n",
      "Stream mapping:\n",
      "  Stream #0:0 -> #0:0 (vp9 (native) -> png (native))\n",
      "Press [q] to stop, [?] for help\n",
      "frame=    3 fps=0.4 q=-0.0 size=N/A time=00:00:01.00 bitrate=N/A dup=0 drop=50 speed=0.138x    \r"
     ]
    },
    {
     "name": "stdout",
     "output_type": "stream",
     "text": [
      "[download]  15.6% of ~ 169.14MiB at    1.83MiB/s ETA 01:21 (frag 11/77))"
     ]
    },
    {
     "name": "stderr",
     "output_type": "stream",
     "text": [
      "Output #0, image2, to './dataset_splited/RW94mABPEpw/frames_480p/frame-%04d.png':ed=   0x    \n",
      "  Metadata:\n",
      "    encoder         : Lavf58.29.100\n",
      "    Stream #0:0(eng): Video: png, rgb24, 854x480 [SAR 1:1 DAR 427:240], q=2-31, 200 kb/s, 1 fps, 1 tbn, 1 tbc (default)\n",
      "    Metadata:\n",
      "      DURATION        : 00:06:53.120000000\n",
      "      encoder         : Lavc58.54.100 png\n"
     ]
    },
    {
     "name": "stdout",
     "output_type": "stream",
     "text": [
      "[download]   6.3% of ~ 442.92MiB at    2.44MiB/s ETA 02:43 (frag 12/183)"
     ]
    },
    {
     "name": "stderr",
     "output_type": "stream",
     "text": [
      "frame=   15 fps=1.7 q=-0.0 size=N/A time=00:00:13.00 bitrate=N/A dup=0 drop=308 speed=1.45x    \r"
     ]
    },
    {
     "name": "stdout",
     "output_type": "stream",
     "text": [
      "[download]  14.6% of ~ 193.40MiB at    2.19MiB/s ETA 01:16 (frag 12/77)"
     ]
    },
    {
     "name": "stderr",
     "output_type": "stream",
     "text": [
      "frame=   18 fps=1.7 q=-0.0 size=N/A time=00:00:16.00 bitrate=N/A dup=0 drop=468 speed=1.52x    \r"
     ]
    },
    {
     "name": "stdout",
     "output_type": "stream",
     "text": [
      "[download]  16.9% of ~ 167.32MiB at    1.98MiB/s ETA 01:15 (frag 12/77))"
     ]
    },
    {
     "name": "stderr",
     "output_type": "stream",
     "text": [
      " Copyright (c) 2000-2022 the FFmpeg developers=1.6 q=-0.0 size=N/A time=00:00:13.00 bitrate=N/A dup=0 drop=327 speed=1.37x    \n",
      "  built with gcc 9 (Ubuntu 9.4.0-1ubuntu1~20.04.1)\n",
      "  configuration: --prefix=/usr --extra-version=0ubuntu0.1 --toolchain=hardened --libdir=/usr/lib/x86_64-linux-gnu --incdir=/usr/include/x86_64-linux-gnu --arch=amd64 --enable-gpl --disable-stripping --enable-avresample --disable-filter=resample --enable-avisynth --enable-gnutls --enable-ladspa --enable-libaom --enable-libass --enable-libbluray --enable-libbs2b --enable-libcaca --enable-libcdio --enable-libcodec2 --enable-libflite --enable-libfontconfig --enable-libfreetype --enable-libfribidi --enable-libgme --enable-libgsm --enable-libjack --enable-libmp3lame --enable-libmysofa --enable-libopenjpeg --enable-libopenmpt --enable-libopus --enable-libpulse --enable-librsvg --enable-librubberband --enable-libshine --enable-libsnappy --enable-libsoxr --enable-libspeex --enable-libssh --enable-libtheora --enable-libtwolame --enable-libvidstab --enable-libvorbis --enable-libvpx --enable-libwavpack --enable-libwebp --enable-libx265 --enable-libxml2 --enable-libxvid --enable-libzmq --enable-libzvbi --enable-lv2 --enable-omx --enable-openal --enable-opencl --enable-opengl --enable-sdl2 --enable-libdc1394 --enable-libdrm --enable-libiec61883 --enable-nvenc --enable-chromaprint --enable-frei0r --enable-libx264 --enable-shared\n",
      "  libavutil      56. 31.100 / 56. 31.100\n",
      "  libavcodec     58. 54.100 / 58. 54.100\n",
      "  libavformat    58. 29.100 / 58. 29.100\n",
      "  libavdevice    58.  8.100 / 58.  8.100\n",
      "  libavfilter     7. 57.100 /  7. 57.100\n",
      "  libavresample   4.  0.  0 /  4.  0.  0\n",
      "  libswscale      5.  5.100 /  5.  5.100\n",
      "  libswresample   3.  5.100 /  3.  5.100\n",
      "  libpostproc    55.  5.100 / 55.  5.100\n"
     ]
    },
    {
     "name": "stdout",
     "output_type": "stream",
     "text": [
      "[download]   7.4% of ~ 404.92MiB at    1.95MiB/s ETA 03:03 (frag 12/183)"
     ]
    },
    {
     "name": "stderr",
     "output_type": "stream",
     "text": [
      "frame=   18 fps=1.6 q=-0.0 size=N/A time=00:00:16.00 bitrate=N/A dup=0 drop=486 speed=1.44x    \r"
     ]
    },
    {
     "name": "stdout",
     "output_type": "stream",
     "text": [
      "[download]  18.0% of ~ 179.07MiB at    2.50MiB/s ETA 01:10 (frag 12/77))"
     ]
    },
    {
     "name": "stderr",
     "output_type": "stream",
     "text": [
      "frame=   16 fps=1.6 q=-0.0 size=N/A time=00:00:14.00 bitrate=N/A dup=0 drop=344 speed=1.41x    \r"
     ]
    },
    {
     "name": "stdout",
     "output_type": "stream",
     "text": [
      "[download]  15.0% of ~ 216.74MiB at    2.83MiB/s ETA 01:07 (frag 13/77))"
     ]
    },
    {
     "name": "stderr",
     "output_type": "stream",
     "text": [
      "frame=    4 fps=0.4 q=-0.0 size=N/A time=00:00:02.00 bitrate=N/A dup=0 drop=67 speed=0.218x    \r"
     ]
    },
    {
     "name": "stdout",
     "output_type": "stream",
     "text": [
      "[download]   7.7% of ~ 405.53MiB at    1.86MiB/s ETA 03:15 (frag 13/183)"
     ]
    },
    {
     "name": "stderr",
     "output_type": "stream",
     "text": [
      "frame=    5 fps=2.2 q=-0.0 size=N/A time=00:00:03.00 bitrate=N/A dup=0 drop=68 speed=1.33x    \r"
     ]
    },
    {
     "name": "stdout",
     "output_type": "stream",
     "text": [
      "[download]   7.9% of ~ 417.78MiB at    2.18MiB/s ETA 03:07 (frag 13/183)"
     ]
    },
    {
     "name": "stderr",
     "output_type": "stream",
     "text": [
      "Input #0, matroska,webm, from './dataset_splited/XniKiPMM24g/video_1080p.webm': speed=1.39x    \n",
      "  Metadata: fps=1.6 q=-0.0 size=N/A time=00:00:18.00 bitrate=N/A dup=0 drop=526 speed=1.48x    \n",
      "    ENCODER         : Lavf58.29.100\n",
      "  Duration: 00:03:31.42, start: -0.007000, bitrate: 1961 kb/s\n",
      "    Stream #0:0(eng): Video: vp9 (Profile 0), yuv420p(tv, bt709), 1920x1080, SAR 1:1 DAR 16:9, 25 fps, 25 tbr, 1k tbn, 1k tbc (default)\n",
      "    Metadata:\n",
      "      DURATION        : 00:03:31.400000000\n",
      "    Stream #0:1(eng): Audio: opus, 48000 Hz, stereo, fltp (default)\n",
      "    Metadata:\n",
      "      DURATION        : 00:03:31.421000000\n",
      "Stream mapping:\n",
      "  Stream #0:0 -> #0:0 (vp9 (native) -> png (native))\n",
      "Press [q] to stop, [?] for help\n"
     ]
    },
    {
     "name": "stdout",
     "output_type": "stream",
     "text": [
      "[download]  18.7% of ~ 189.27MiB at    2.84MiB/s ETA 01:03 (frag 13/77))"
     ]
    },
    {
     "name": "stderr",
     "output_type": "stream",
     "text": [
      "frame=    7 fps=1.6 q=-0.0 size=N/A time=00:00:05.00 bitrate=N/A dup=0 drop=116 speed=1.14x    \r"
     ]
    },
    {
     "name": "stdout",
     "output_type": "stream",
     "text": [
      "[download]   8.2% of ~ 402.46MiB at    2.24MiB/s ETA 03:04 (frag 14/183)"
     ]
    },
    {
     "name": "stderr",
     "output_type": "stream",
     "text": [
      "frame=    6 fps=1.8 q=-0.0 size=N/A time=00:00:04.00 bitrate=N/A dup=0 drop=100 speed=1.21x    \r"
     ]
    },
    {
     "name": "stdout",
     "output_type": "stream",
     "text": [
      "[download]  19.5% of ~ 181.77MiB at    2.87MiB/s ETA 01:01 (frag 14/77))"
     ]
    },
    {
     "name": "stderr",
     "output_type": "stream",
     "text": [
      "frame=    3 fps=0.6 q=-0.0 size=N/A time=00:00:01.00 bitrate=N/A dup=0 drop=27 speed=0.209x    \r"
     ]
    },
    {
     "name": "stdout",
     "output_type": "stream",
     "text": [
      "[download]  19.8% of ~ 184.32MiB at    2.67MiB/s ETA 01:00 (frag 14/77))"
     ]
    },
    {
     "name": "stderr",
     "output_type": "stream",
     "text": [
      "frame=   21 fps=1.6 q=-0.0 size=N/A time=00:00:19.00 bitrate=N/A dup=0 drop=567 speed=1.44x    \r"
     ]
    },
    {
     "name": "stdout",
     "output_type": "stream",
     "text": [
      "[download]  20.0% of ~ 186.89MiB at    2.87MiB/s ETA 00:58 (frag 14/77))"
     ]
    },
    {
     "name": "stderr",
     "output_type": "stream",
     "text": [
      "Output #0, image2, to './dataset_splited/XniKiPMM24g/frames_1080p/frame-%04d.png':ed=0.276x    \n",
      "  Metadata:\n",
      "    encoder         : Lavf58.29.100\n",
      "    Stream #0:0(eng): Video: png, rgb24, 1920x1080 [SAR 1:1 DAR 16:9], q=2-31, 200 kb/s, 1 fps, 1 tbn, 1 tbc (default)\n",
      "    Metadata:\n",
      "      DURATION        : 00:03:31.400000000\n",
      "      encoder         : Lavc58.54.100 png\n",
      "frame=    1 fps=0.7 q=0.0 size=N/A time=00:00:00.00 bitrate=N/A speed=   0x    \r"
     ]
    },
    {
     "name": "stdout",
     "output_type": "stream",
     "text": [
      "[download]   8.8% of ~ 409.47MiB at    2.59MiB/s ETA 02:44 (frag 15/183)"
     ]
    },
    {
     "name": "stderr",
     "output_type": "stream",
     "text": [
      "frame=   22 fps=1.6 q=-0.0 size=N/A time=00:00:20.00 bitrate=N/A dup=0 drop=588 speed=1.45x    \r"
     ]
    },
    {
     "name": "stdout",
     "output_type": "stream",
     "text": [
      "[download]   8.9% of ~ 420.19MiB at    2.28MiB/s ETA 02:48 (frag 15/183)"
     ]
    },
    {
     "name": "stderr",
     "output_type": "stream",
     "text": [
      "frame=    8 fps=1.7 q=-0.0 size=N/A time=00:00:06.00 bitrate=N/A dup=0 drop=140 speed=1.31x    \r"
     ]
    },
    {
     "name": "stdout",
     "output_type": "stream",
     "text": [
      "[download]  20.8% of ~ 191.83MiB at    3.03MiB/s ETA 00:55 (frag 15/77))"
     ]
    },
    {
     "name": "stderr",
     "output_type": "stream",
     "text": [
      "frame=   19 fps=1.5 q=-0.0 size=N/A time=00:00:17.00 bitrate=N/A dup=0 drop=421 speed=1.31x    \r"
     ]
    },
    {
     "name": "stdout",
     "output_type": "stream",
     "text": [
      "[download]   9.3% of ~ 403.89MiB at    2.26MiB/s ETA 02:49 (frag 16/183)"
     ]
    },
    {
     "name": "stderr",
     "output_type": "stream",
     "text": [
      "frame=    5 fps=0.4 q=-0.0 size=N/A time=00:00:03.00 bitrate=N/A dup=0 drop=93 speed=0.244x    \r"
     ]
    },
    {
     "name": "stdout",
     "output_type": "stream",
     "text": [
      "[download]   9.3% of ~ 404.55MiB at    2.21MiB/s ETA 02:49 (frag 16/183)"
     ]
    },
    {
     "name": "stderr",
     "output_type": "stream",
     "text": [
      "frame=   20 fps=1.5 q=-0.0 size=N/A time=00:00:18.00 bitrate=N/A dup=0 drop=432 speed=1.33x    \r"
     ]
    },
    {
     "name": "stdout",
     "output_type": "stream",
     "text": [
      "[download]   9.5% of ~ 414.64MiB at    2.21MiB/s ETA 02:50 (frag 16/183)"
     ]
    },
    {
     "name": "stderr",
     "output_type": "stream",
     "text": [
      "frame=   20 fps=1.4 q=-0.0 size=N/A time=00:00:18.00 bitrate=N/A dup=0 drop=444 speed=1.28x    \r"
     ]
    },
    {
     "name": "stdout",
     "output_type": "stream",
     "text": [
      "[download]  22.1% of ~ 188.94MiB at    2.58MiB/s ETA 00:57 (frag 16/77))"
     ]
    },
    {
     "name": "stderr",
     "output_type": "stream",
     "text": [
      "frame=   24 fps=1.5 q=-0.0 size=N/A time=00:00:22.00 bitrate=N/A dup=0 drop=652 speed=1.39x    \r"
     ]
    },
    {
     "name": "stdout",
     "output_type": "stream",
     "text": [
      "[download]  22.2% of ~ 190.00MiB at    2.35MiB/s ETA 00:59 (frag 16/77)"
     ]
    },
    {
     "name": "stderr",
     "output_type": "stream",
     "text": [
      "frame=    5 fps=0.4 q=-0.0 size=N/A time=00:00:03.00 bitrate=N/A dup=0 drop=103 speed=0.224x    \r"
     ]
    },
    {
     "name": "stdout",
     "output_type": "stream",
     "text": [
      "[download]   9.8% of ~ 415.67MiB at    2.28MiB/s ETA 02:51 (frag 17/183)"
     ]
    },
    {
     "name": "stderr",
     "output_type": "stream",
     "text": [
      "frame=   25 fps=1.5 q=-0.0 size=N/A time=00:00:23.00 bitrate=N/A dup=0 drop=672 speed= 1.4x    \r"
     ]
    },
    {
     "name": "stdout",
     "output_type": "stream",
     "text": [
      "[download]  22.1% of ~ 206.99MiB at    2.30MiB/s ETA 01:01 (frag 16/77))"
     ]
    },
    {
     "name": "stderr",
     "output_type": "stream",
     "text": [
      "frame=   21 fps=1.4 q=-0.0 size=N/A time=00:00:19.00 bitrate=N/A dup=0 drop=467 speed=1.25x     \r"
     ]
    },
    {
     "name": "stdout",
     "output_type": "stream",
     "text": [
      "[download]   9.4% of ~ 459.10MiB at    2.25MiB/s ETA 02:54 (frag 18/183)"
     ]
    },
    {
     "name": "stderr",
     "output_type": "stream",
     "text": [
      "frame=   26 fps=1.5 q=-0.0 size=N/A time=00:00:24.00 bitrate=N/A dup=0 drop=704 speed=1.38x     \r"
     ]
    },
    {
     "name": "stdout",
     "output_type": "stream",
     "text": [
      "[download]  10.4% of ~ 414.49MiB at    2.10MiB/s ETA 02:57 (frag 18/183)"
     ]
    },
    {
     "name": "stderr",
     "output_type": "stream",
     "text": [
      "frame=    4 fps=0.4 q=-0.0 size=N/A time=00:00:02.00 bitrate=N/A dup=0 drop=66 speed=0.209x    \r"
     ]
    },
    {
     "name": "stdout",
     "output_type": "stream",
     "text": [
      "[download]  10.5% of ~ 419.16MiB at    2.05MiB/s ETA 02:59 (frag 18/183)"
     ]
    },
    {
     "name": "stderr",
     "output_type": "stream",
     "text": [
      "frame=   12 fps=1.4 q=-0.0 size=N/A time=00:00:10.00 bitrate=N/A dup=0 drop=256 speed=1.18x     \r"
     ]
    },
    {
     "name": "stdout",
     "output_type": "stream",
     "text": [
      "[download]  21.7% of ~ 227.88MiB at    2.41MiB/s ETA 01:13 (frag 18/77))"
     ]
    },
    {
     "name": "stderr",
     "output_type": "stream",
     "text": [
      "frame=   13 fps=1.4 q=-0.0 size=N/A time=00:00:11.00 bitrate=N/A dup=0 drop=270 speed=1.22x     \r"
     ]
    },
    {
     "name": "stdout",
     "output_type": "stream",
     "text": [
      "[download]  10.9% of ~ 413.49MiB at    1.91MiB/s ETA 03:07 (frag 19/183)Deleting original file ./dataset_splited/tx2DaIcoNLQ/video_480p.f244.webm (pass -k to keep)\n",
      "Deleting original file ./dataset_splited/tx2DaIcoNLQ/video_480p.f251.webm (pass -k to keep)\n",
      "[download]  10.9% of ~ 413.92MiB at    1.84MiB/s ETA 03:10 (frag 19/183)"
     ]
    },
    {
     "name": "stderr",
     "output_type": "stream",
     "text": [
      "frame=    6 fps=0.4 q=-0.0 size=N/A time=00:00:04.00 bitrate=N/A dup=0 drop=123 speed=0.245x    \r"
     ]
    },
    {
     "name": "stdout",
     "output_type": "stream",
     "text": [
      "[download]  11.2% of ~ 422.49MiB at    1.90MiB/s ETA 03:13 (frag 19/183)"
     ]
    },
    {
     "name": "stderr",
     "output_type": "stream",
     "text": [
      "frame=   23 fps=1.3 q=-0.0 size=N/A time=00:00:21.00 bitrate=N/A dup=0 drop=516 speed=1.16x     \r"
     ]
    },
    {
     "name": "stdout",
     "output_type": "stream",
     "text": [
      "[download]  25.0% of ~ 208.80MiB at    2.04MiB/s ETA 01:17 (frag 18/77))"
     ]
    },
    {
     "name": "stderr",
     "output_type": "stream",
     "text": [
      "frame=   15 fps=1.5 q=-0.0 size=N/A time=00:00:13.00 bitrate=N/A dup=0 drop=308 speed=1.28x    \r"
     ]
    },
    {
     "name": "stdout",
     "output_type": "stream",
     "text": [
      "[download]  23.5% of ~ 222.45MiB at    2.24MiB/s ETA 01:15 (frag 19/77))"
     ]
    },
    {
     "name": "stderr",
     "output_type": "stream",
     "text": [
      "frame=   29 fps=1.4 q=-0.0 size=N/A time=00:00:27.00 bitrate=N/A dup=0 drop=789 speed=1.34x    \r"
     ]
    },
    {
     "name": "stdout",
     "output_type": "stream",
     "text": [
      "[download]  11.5% of ~ 414.95MiB at    1.67MiB/s ETA 03:27 (frag 20/183)"
     ]
    },
    {
     "name": "stderr",
     "output_type": "stream",
     "text": [
      "frame=   16 fps=1.4 q=-0.0 size=N/A time=00:00:14.00 bitrate=N/A dup=0 drop=347 speed=1.26x     \r"
     ]
    },
    {
     "name": "stdout",
     "output_type": "stream",
     "text": [
      "[download]  11.5% of ~ 415.97MiB at    1.35MiB/s ETA 03:55 (frag 20/183)"
     ]
    },
    {
     "name": "stderr",
     "output_type": "stream",
     "text": [
      "frame=   30 fps=1.4 q=-0.0 size=N/A time=00:00:28.00 bitrate=N/A dup=0 drop=825 speed=1.32x     \r"
     ]
    },
    {
     "name": "stdout",
     "output_type": "stream",
     "text": [
      "[download]  11.7% of ~ 423.60MiB at    1.37MiB/s ETA 04:08 (frag 20/183)"
     ]
    },
    {
     "name": "stderr",
     "output_type": "stream",
     "text": [
      "frame=   25 fps=1.2 q=-0.0 size=N/A time=00:00:23.00 bitrate=N/A dup=0 drop=562 speed=1.14x    \r"
     ]
    },
    {
     "name": "stdout",
     "output_type": "stream",
     "text": [
      "[download]  26.5% of ~ 204.84MiB at    1.41MiB/s ETA 01:45 (frag 19/77))"
     ]
    },
    {
     "name": "stderr",
     "output_type": "stream",
     "text": [
      "frame=   18 fps=1.3 q=-0.0 size=N/A time=00:00:16.00 bitrate=N/A dup=0 drop=380 speed=1.15x     \r"
     ]
    },
    {
     "name": "stdout",
     "output_type": "stream",
     "text": [
      "[download]  24.1% of ~ 234.89MiB at    1.95MiB/s ETA 01:36 (frag 20/77))"
     ]
    },
    {
     "name": "stderr",
     "output_type": "stream",
     "text": [
      "frame=   31 fps=1.4 q=-0.0 size=N/A time=00:00:29.00 bitrate=N/A dup=0 drop=845 speed= 1.3x    \r"
     ]
    },
    {
     "name": "stdout",
     "output_type": "stream",
     "text": [
      "[download]  12.0% of ~ 420.99MiB at    1.46MiB/s ETA 04:10 (frag 21/183)"
     ]
    },
    {
     "name": "stderr",
     "output_type": "stream",
     "text": [
      "frame=    3 fps=0.3 q=-0.0 size=N/A time=00:00:01.00 bitrate=N/A dup=0 drop=42 speed=0.0984x    \r"
     ]
    },
    {
     "name": "stdout",
     "output_type": "stream",
     "text": [
      "[download]  12.1% of ~ 425.08MiB at    1.35MiB/s ETA 04:21 (frag 21/183)"
     ]
    },
    {
     "name": "stderr",
     "output_type": "stream",
     "text": [
      "frame=   32 fps=1.4 q=-0.0 size=N/A time=00:00:30.00 bitrate=N/A dup=0 drop=869 speed=1.31x     \r"
     ]
    },
    {
     "name": "stdout",
     "output_type": "stream",
     "text": [
      "[download]  27.3% of ~ 207.79MiB at    2.09MiB/s ETA 01:29 (frag 20/77))"
     ]
    },
    {
     "name": "stderr",
     "output_type": "stream",
     "text": [
      "ffmpeg version 4.2.7-0ubuntu0.1 Copyright (c) 2000-2022 the FFmpeg developers14 speed=1.28x    \n",
      "  built with gcc 9 (Ubuntu 9.4.0-1ubuntu1~20.04.1)\n",
      "  configuration: --prefix=/usr --extra-version=0ubuntu0.1 --toolchain=hardened --libdir=/usr/lib/x86_64-linux-gnu --incdir=/usr/include/x86_64-linux-gnu --arch=amd64 --enable-gpl --disable-stripping --enable-avresample --disable-filter=resample --enable-avisynth --enable-gnutls --enable-ladspa --enable-libaom --enable-libass --enable-libbluray --enable-libbs2b --enable-libcaca --enable-libcdio --enable-libcodec2 --enable-libflite --enable-libfontconfig --enable-libfreetype --enable-libfribidi --enable-libgme --enable-libgsm --enable-libjack --enable-libmp3lame --enable-libmysofa --enable-libopenjpeg --enable-libopenmpt --enable-libopus --enable-libpulse --enable-librsvg --enable-librubberband --enable-libshine --enable-libsnappy --enable-libsoxr --enable-libspeex --enable-libssh --enable-libtheora --enable-libtwolame --enable-libvidstab --enable-libvorbis --enable-libvpx --enable-libwavpack --enable-libwebp --enable-libx265 --enable-libxml2 --enable-libxvid --enable-libzmq --enable-libzvbi --enable-lv2 --enable-omx --enable-openal --enable-opencl --enable-opengl --enable-sdl2 --enable-libdc1394 --enable-libdrm --enable-libiec61883 --enable-nvenc --enable-chromaprint --enable-frei0r --enable-libx264 --enable-shared\n",
      "  libavutil      56. 31.100 / 56. 31.100\n",
      "  libavcodec     58. 54.100 / 58. 54.100\n",
      "  libavformat    58. 29.100 / 58. 29.100\n",
      "  libavdevice    58.  8.100 / 58.  8.100\n",
      "  libavfilter     7. 57.100 /  7. 57.100\n",
      "  libavresample   4.  0.  0 /  4.  0.  0\n",
      "  libswscale      5.  5.100 /  5.  5.100\n",
      "  libswresample   3.  5.100 /  3.  5.100\n",
      "  libpostproc    55.  5.100 / 55.  5.100\n",
      "frame=    7 fps=0.3 q=-0.0 size=N/A time=00:00:05.00 bitrate=N/A dup=0 drop=157 speed=0.244x    \r"
     ]
    },
    {
     "name": "stdout",
     "output_type": "stream",
     "text": [
      "[download]  27.5% of ~ 209.39MiB at    2.19MiB/s ETA 01:25 (frag 20/77)"
     ]
    },
    {
     "name": "stderr",
     "output_type": "stream",
     "text": [
      "frame=   19 fps=1.4 q=-0.0 size=N/A time=00:00:17.00 bitrate=N/A dup=0 drop=427 speed=1.23x     \r"
     ]
    },
    {
     "name": "stdout",
     "output_type": "stream",
     "text": [
      "[download]  26.3% of ~ 222.85MiB at    2.42MiB/s ETA 01:18 (frag 21/77))"
     ]
    },
    {
     "name": "stderr",
     "output_type": "stream",
     "text": [
      "Input #0, matroska,webm, from './dataset_splited/tx2DaIcoNLQ/video_480p.webm':\n",
      "  Metadata:\n",
      "    ENCODER         : Lavf58.29.100\n",
      "  Duration: 00:15:57.98, start: -0.007000, bitrate: 507 kb/s\n",
      "    Stream #0:0(eng): Video: vp9 (Profile 0), yuv420p(tv, bt709), 854x480, SAR 1:1 DAR 427:240, 25 fps, 25 tbr, 1k tbn, 1k tbc (default)\n",
      "    Metadata:\n",
      "      DURATION        : 00:15:57.960000000\n",
      "    Stream #0:1(eng): Audio: opus, 48000 Hz, stereo, fltp (default)\n",
      "    Metadata:\n",
      "      DURATION        : 00:15:57.981000000\n",
      "Stream mapping:\n",
      "  Stream #0:0 -> #0:0 (vp9 (native) -> png (native))\n",
      "Press [q] to stop, [?] for help\n",
      "frame=    7 fps=0.3 q=-0.0 size=N/A time=00:00:05.00 bitrate=N/A dup=0 drop=163 speed=0.236x    \r"
     ]
    },
    {
     "name": "stdout",
     "output_type": "stream",
     "text": [
      "[download]  12.6% of ~ 424.37MiB at    1.96MiB/s ETA 03:38 (frag 22/183)"
     ]
    },
    {
     "name": "stderr",
     "output_type": "stream",
     "text": [
      "Output #0, image2, to './dataset_splited/tx2DaIcoNLQ/frames_480p/frame-%04d.png':peed= 1.3x    \n",
      "  Metadata:\n",
      "    encoder         : Lavf58.29.100\n",
      "    Stream #0:0(eng): Video: png, rgb24, 854x480 [SAR 1:1 DAR 427:240], q=2-31, 200 kb/s, 1 fps, 1 tbn, 1 tbc (default)\n",
      "    Metadata:\n",
      "      DURATION        : 00:15:57.960000000\n",
      "      encoder         : Lavc58.54.100 png\n"
     ]
    },
    {
     "name": "stdout",
     "output_type": "stream",
     "text": [
      "[download]  28.6% of ~ 205.45MiB at    2.37MiB/s ETA 01:17 (frag 21/77))"
     ]
    },
    {
     "name": "stderr",
     "output_type": "stream",
     "text": [
      "frame=    6 fps=0.4 q=-0.0 size=N/A time=00:00:04.00 bitrate=N/A dup=0 drop=114 speed=0.255x    \r"
     ]
    },
    {
     "name": "stdout",
     "output_type": "stream",
     "text": [
      "[download]  28.6% of ~ 205.86MiB at    2.25MiB/s ETA 01:14 (frag 21/77)"
     ]
    },
    {
     "name": "stderr",
     "output_type": "stream",
     "text": [
      "frame=   21 fps=1.4 q=-0.0 size=N/A time=00:00:19.00 bitrate=N/A dup=0 drop=452 speed=1.27x     \r"
     ]
    },
    {
     "name": "stdout",
     "output_type": "stream",
     "text": [
      "[download]  13.1% of ~ 419.78MiB at    1.67MiB/s ETA 03:39 (frag 23/183)"
     ]
    },
    {
     "name": "stderr",
     "output_type": "stream",
     "text": [
      "frame=   34 fps=1.4 q=-0.0 size=N/A time=00:00:32.00 bitrate=N/A dup=0 drop=948 speed=1.29x     \r"
     ]
    },
    {
     "name": "stdout",
     "output_type": "stream",
     "text": [
      "[download]  13.2% of ~ 422.64MiB at    1.81MiB/s ETA 03:33 (frag 23/183)"
     ]
    },
    {
     "name": "stderr",
     "output_type": "stream",
     "text": [
      "frame=   21 fps=1.3 q=-0.0 size=N/A time=00:00:19.00 bitrate=N/A dup=0 drop=472 speed=1.22x    \r"
     ]
    },
    {
     "name": "stdout",
     "output_type": "stream",
     "text": [
      "[download]  12.6% of ~ 454.50MiB at    2.13MiB/s ETA 03:21 (frag 24/183)"
     ]
    },
    {
     "name": "stderr",
     "output_type": "stream",
     "text": [
      "frame=    8 fps=0.4 q=-0.0 size=N/A time=00:00:06.00 bitrate=N/A dup=0 drop=172 speed=0.263x    \r"
     ]
    },
    {
     "name": "stdout",
     "output_type": "stream",
     "text": [
      "[download]  29.9% of ~ 206.45MiB at    1.93MiB/s ETA 01:16 (frag 22/77)"
     ]
    },
    {
     "name": "stderr",
     "output_type": "stream",
     "text": [
      "frame=    3 fps=1.4 q=-0.0 size=N/A time=00:00:01.00 bitrate=N/A dup=0 drop=39 speed=0.476x     \r"
     ]
    },
    {
     "name": "stdout",
     "output_type": "stream",
     "text": [
      "[download]  30.3% of ~ 209.38MiB at    2.07MiB/s ETA 01:14 (frag 22/77)"
     ]
    },
    {
     "name": "stderr",
     "output_type": "stream",
     "text": [
      "frame=   36 fps=1.4 q=-0.0 size=N/A time=00:00:34.00 bitrate=N/A dup=0 drop=995 speed=1.31x     \r"
     ]
    },
    {
     "name": "stdout",
     "output_type": "stream",
     "text": [
      "[download]  13.7% of ~ 419.65MiB at    1.76MiB/s ETA 03:29 (frag 24/183)"
     ]
    },
    {
     "name": "stderr",
     "output_type": "stream",
     "text": [
      "frame=   23 fps=1.4 q=-0.0 size=N/A time=00:00:21.00 bitrate=N/A dup=0 drop=500 speed=1.26x    \r"
     ]
    },
    {
     "name": "stdout",
     "output_type": "stream",
     "text": [
      "[download]  13.7% of ~ 426.51MiB at    1.80MiB/s ETA 03:28 (frag 24/183)"
     ]
    },
    {
     "name": "stderr",
     "output_type": "stream",
     "text": [
      "frame=    8 fps=0.3 q=-0.0 size=N/A time=00:00:06.00 bitrate=N/A dup=0 drop=181 speed=0.249x    \r"
     ]
    },
    {
     "name": "stdout",
     "output_type": "stream",
     "text": [
      "[download]  31.2% of ~ 206.37MiB at    2.24MiB/s ETA 01:10 (frag 23/77))"
     ]
    },
    {
     "name": "stderr",
     "output_type": "stream",
     "text": [
      "frame=   37 fps=1.4 q=-0.0 Lsize=N/A time=00:00:37.00 bitrate=N/A dup=0 drop=1014 speed=1.39x    \n",
      "video:14862kB audio:0kB subtitle:0kB other streams:0kB global headers:0kB muxing overhead: unknown\n",
      "frame=    5 fps=1.6 q=-0.0 size=N/A time=00:00:03.00 bitrate=N/A dup=0 drop=79 speed=0.93x     \r"
     ]
    },
    {
     "name": "stdout",
     "output_type": "stream",
     "text": [
      "[download]  31.3% of ~ 207.16MiB at    2.12MiB/s ETA 01:10 (frag 23/77)"
     ]
    },
    {
     "name": "stderr",
     "output_type": "stream",
     "text": [
      "frame=   32 fps=1.2 q=-0.0 size=N/A time=00:00:30.00 bitrate=N/A dup=0 drop=724 speed=1.17x     \r"
     ]
    },
    {
     "name": "stdout",
     "output_type": "stream",
     "text": [
      "[download]  14.2% of ~ 413.62MiB at    1.57MiB/s ETA 03:37 (frag 25/183)"
     ]
    },
    {
     "name": "stderr",
     "output_type": "stream",
     "text": [
      "frame=   24 fps=1.4 q=-0.0 size=N/A time=00:00:22.00 bitrate=N/A dup=0 drop=536 speed=1.24x     \r"
     ]
    },
    {
     "name": "stdout",
     "output_type": "stream",
     "text": [
      "[download]  14.3% of ~ 416.26MiB at    1.55MiB/s ETA 03:39 (frag 25/183)"
     ]
    },
    {
     "name": "stderr",
     "output_type": "stream",
     "text": [
      "frame=   33 fps=1.3 q=-0.0 size=N/A time=00:00:31.00 bitrate=N/A dup=0 drop=745 speed=1.18x    \r"
     ]
    },
    {
     "name": "stdout",
     "output_type": "stream",
     "text": [
      "[download]  14.2% of ~ 426.82MiB at    1.66MiB/s ETA 03:36 (frag 25/183)"
     ]
    },
    {
     "name": "stderr",
     "output_type": "stream",
     "text": [
      "frame=    8 fps=0.3 q=-0.0 size=N/A time=00:00:06.00 bitrate=N/A dup=0 drop=194 speed=0.238x    \r"
     ]
    },
    {
     "name": "stdout",
     "output_type": "stream",
     "text": [
      "[download]  13.7% of ~ 442.32MiB at    1.66MiB/s ETA 03:37 (frag 26/183)"
     ]
    },
    {
     "name": "stderr",
     "output_type": "stream",
     "text": [
      "frame=    8 fps=0.3 q=-0.0 size=N/A time=00:00:06.00 bitrate=N/A dup=0 drop=195 speed=0.232x    \r"
     ]
    },
    {
     "name": "stdout",
     "output_type": "stream",
     "text": [
      "[download]  32.5% of ~ 206.85MiB at    1.98MiB/s ETA 01:10 (frag 24/77)"
     ]
    },
    {
     "name": "stderr",
     "output_type": "stream",
     "text": [
      "frame=   26 fps=1.4 q=-0.0 size=N/A time=00:00:24.00 bitrate=N/A dup=0 drop=572 speed=1.25x    \r"
     ]
    },
    {
     "name": "stdout",
     "output_type": "stream",
     "text": [
      "[download]  32.7% of ~ 208.20MiB at    1.64MiB/s ETA 01:17 (frag 24/77)"
     ]
    },
    {
     "name": "stderr",
     "output_type": "stream",
     "text": [
      "frame=    9 fps=0.3 q=-0.0 size=N/A time=00:00:07.00 bitrate=N/A dup=0 drop=198 speed=0.264x    \r"
     ]
    },
    {
     "name": "stdout",
     "output_type": "stream",
     "text": [
      "[download]  14.9% of ~ 415.08MiB at    1.20MiB/s ETA 04:19 (frag 26/183)"
     ]
    },
    {
     "name": "stderr",
     "output_type": "stream",
     "text": [
      "frame=   26 fps=1.2 q=-0.0 size=N/A time=00:00:24.00 bitrate=N/A dup=0 drop=594 speed=1.13x     \r"
     ]
    },
    {
     "name": "stdout",
     "output_type": "stream",
     "text": [
      "[download]  30.6% of ~ 233.21MiB at    2.23MiB/s ETA 01:12 (frag 25/77))"
     ]
    },
    {
     "name": "stderr",
     "output_type": "stream",
     "text": [
      "frame=   26 fps=1.3 q=-0.0 size=N/A time=00:00:24.00 bitrate=N/A dup=0 drop=594 speed=1.21x    \r"
     ]
    },
    {
     "name": "stdout",
     "output_type": "stream",
     "text": [
      "[download]  14.2% of ~ 445.76MiB at    1.55MiB/s ETA 04:08 (frag 27/183)"
     ]
    },
    {
     "name": "stderr",
     "output_type": "stream",
     "text": [
      "frame=    6 fps=0.3 q=-0.0 size=N/A time=00:00:04.00 bitrate=N/A dup=0 drop=95 speed=0.22x      \r"
     ]
    },
    {
     "name": "stdout",
     "output_type": "stream",
     "text": [
      "[download]  15.3% of ~ 413.42MiB at    1.37MiB/s ETA 04:20 (frag 27/183)"
     ]
    },
    {
     "name": "stderr",
     "output_type": "stream",
     "text": [
      "frame=   28 fps=1.3 q=-0.0 size=N/A time=00:00:26.00 bitrate=N/A dup=0 drop=626 speed=1.24x     \r"
     ]
    },
    {
     "name": "stdout",
     "output_type": "stream",
     "text": [
      "[download]  15.4% of ~ 415.04MiB at    1.08MiB/s ETA 04:51 (frag 27/183)"
     ]
    },
    {
     "name": "stderr",
     "output_type": "stream",
     "text": [
      "frame=   28 fps=1.2 q=-0.0 size=N/A time=00:00:26.00 bitrate=N/A dup=0 drop=635 speed=1.13x     \r"
     ]
    },
    {
     "name": "stdout",
     "output_type": "stream",
     "text": [
      "[download]  33.0% of ~ 221.99MiB at    2.22MiB/s ETA 01:11 (frag 26/77))[youtube] Extracting URL: https://www.youtube.com/watch?v=MoxFkJlVZlA\n",
      "[youtube] MoxFkJlVZlA: Downloading webpage\n",
      "[download]  15.5% of ~ 426.48MiB at    1.63MiB/s ETA 04:29 (frag 27/183)"
     ]
    },
    {
     "name": "stderr",
     "output_type": "stream",
     "text": [
      "frame=   29 fps=1.3 q=-0.0 size=N/A time=00:00:27.00 bitrate=N/A dup=0 drop=644 speed=1.25x    \r"
     ]
    },
    {
     "name": "stdout",
     "output_type": "stream",
     "text": [
      "[download]  14.7% of ~ 450.80MiB at    1.84MiB/s ETA 04:18 (frag 28/183)"
     ]
    },
    {
     "name": "stderr",
     "output_type": "stream",
     "text": [
      "frame=    8 fps=0.3 q=-0.0 size=N/A time=00:00:06.00 bitrate=N/A dup=0 drop=161 speed=0.261x    \r"
     ]
    },
    {
     "name": "stdout",
     "output_type": "stream",
     "text": [
      "[download]  35.2% of ~ 209.42MiB at    2.02MiB/s ETA 01:10 (frag 26/77)"
     ]
    },
    {
     "name": "stderr",
     "output_type": "stream",
     "text": [
      "frame=   30 fps=1.4 q=-0.0 size=N/A time=00:00:28.00 bitrate=N/A dup=0 drop=668 speed=1.27x    \r"
     ]
    },
    {
     "name": "stdout",
     "output_type": "stream",
     "text": [
      "[download]  35.1% of ~ 214.41MiB at    1.86MiB/s ETA 01:12 (frag 26/77))"
     ]
    },
    {
     "name": "stderr",
     "output_type": "stream",
     "text": [
      "frame=    9 fps=0.3 q=-0.0 size=N/A time=00:00:07.00 bitrate=N/A dup=0 drop=224 speed=0.238x    \r"
     ]
    },
    {
     "name": "stdout",
     "output_type": "stream",
     "text": [
      "[download]  16.0% of ~ 420.36MiB at    1.77MiB/s ETA 03:58 (frag 28/183)"
     ]
    },
    {
     "name": "stderr",
     "output_type": "stream",
     "text": [
      "frame=    9 fps=0.4 q=-0.0 size=N/A time=00:00:07.00 bitrate=N/A dup=0 drop=164 speed=0.297x    \r"
     ]
    },
    {
     "name": "stdout",
     "output_type": "stream",
     "text": [
      "[download]  16.1% of ~ 423.51MiB at    1.78MiB/s ETA 03:54 (frag 28/183)"
     ]
    },
    {
     "name": "stderr",
     "output_type": "stream",
     "text": [
      "frame=   14 fps=1.5 q=-0.0 size=N/A time=00:00:12.00 bitrate=N/A dup=0 drop=292 speed=1.31x    \r"
     ]
    },
    {
     "name": "stdout",
     "output_type": "stream",
     "text": [
      "[download]  15.4% of ~ 442.03MiB at    1.73MiB/s ETA 03:54 (frag 29/183)[youtube] MoxFkJlVZlA: Downloading ios player API JSON\n"
     ]
    },
    {
     "name": "stderr",
     "output_type": "stream",
     "text": [
      "frame=   31 fps=1.3 q=-0.0 size=N/A time=00:00:29.00 bitrate=N/A dup=0 drop=700 speed=1.25x     \r"
     ]
    },
    {
     "name": "stdout",
     "output_type": "stream",
     "text": [
      "[youtube] MoxFkJlVZlA: Downloading android player API JSON\n",
      "[download]  16.4% of ~ 415.39MiB at    1.80MiB/s ETA 03:48 (frag 29/183)"
     ]
    },
    {
     "name": "stderr",
     "output_type": "stream",
     "text": [
      "frame=   15 fps=1.5 q=-0.0 size=N/A time=00:00:13.00 bitrate=N/A dup=0 drop=308 speed=1.34x     \r"
     ]
    },
    {
     "name": "stdout",
     "output_type": "stream",
     "text": [
      "[download]  16.6% of ~ 421.39MiB at    2.11MiB/s ETA 03:26 (frag 29/183)[youtube] MoxFkJlVZlA: Downloading player 0d02ada0\n"
     ]
    },
    {
     "name": "stderr",
     "output_type": "stream",
     "text": [
      "frame=    9 fps=0.4 q=-0.0 size=N/A time=00:00:07.00 bitrate=N/A dup=0 drop=175 speed=0.277x    \r"
     ]
    },
    {
     "name": "stdout",
     "output_type": "stream",
     "text": [
      "[download]  15.6% of ~ 460.71MiB at    2.50MiB/s ETA 03:11 (frag 30/183)"
     ]
    },
    {
     "name": "stderr",
     "output_type": "stream",
     "text": [
      "frame=   32 fps=1.3 q=-0.0 size=N/A time=00:00:30.00 bitrate=N/A dup=0 drop=735 speed=1.24x     \r"
     ]
    },
    {
     "name": "stdout",
     "output_type": "stream",
     "text": [
      "[download]  34.5% of ~ 230.80MiB at    2.19MiB/s ETA 01:13 (frag 28/77)"
     ]
    },
    {
     "name": "stderr",
     "output_type": "stream",
     "text": [
      "frame=   10 fps=0.3 q=-0.0 size=N/A time=00:00:08.00 bitrate=N/A dup=0 drop=248 speed=0.252x    \r"
     ]
    },
    {
     "name": "stdout",
     "output_type": "stream",
     "text": [
      "[download]  37.8% of ~ 211.98MiB at    2.17MiB/s ETA 01:09 (frag 28/77))"
     ]
    },
    {
     "name": "stderr",
     "output_type": "stream",
     "text": [
      "frame=   17 fps=1.5 q=-0.0 size=N/A time=00:00:15.00 bitrate=N/A dup=0 drop=379 speed=1.31x     \r"
     ]
    },
    {
     "name": "stdout",
     "output_type": "stream",
     "text": [
      "[download]  17.0% of ~ 435.68MiB at    2.27MiB/s ETA 02:59 (frag 30/183)"
     ]
    },
    {
     "name": "stderr",
     "output_type": "stream",
     "text": [
      "frame=   10 fps=0.3 q=-0.0 size=N/A time=00:00:08.00 bitrate=N/A dup=0 drop=254 speed=0.248x    \r"
     ]
    },
    {
     "name": "stdout",
     "output_type": "stream",
     "text": [
      "[download]  36.8% of ~ 221.24MiB at    2.19MiB/s ETA 01:08 (frag 29/77))"
     ]
    },
    {
     "name": "stderr",
     "output_type": "stream",
     "text": [
      "frame=   11 fps=0.3 q=-0.0 size=N/A time=00:00:09.00 bitrate=N/A dup=0 drop=265 speed=0.268x    \r"
     ]
    },
    {
     "name": "stdout",
     "output_type": "stream",
     "text": [
      "[download]  17.5% of ~ 423.28MiB at    2.02MiB/s ETA 03:05 (frag 31/183)"
     ]
    },
    {
     "name": "stderr",
     "output_type": "stream",
     "text": [
      "frame=   20 fps=1.5 q=-0.0 size=N/A time=00:00:18.00 bitrate=N/A dup=0 drop=428 speed=1.38x     \r"
     ]
    },
    {
     "name": "stdout",
     "output_type": "stream",
     "text": [
      "[download]  17.6% of ~ 426.05MiB at    1.23MiB/s ETA 04:12 (frag 31/183)"
     ]
    },
    {
     "name": "stderr",
     "output_type": "stream",
     "text": [
      "frame=   38 fps=1.3 q=-0.0 size=N/A time=00:00:36.00 bitrate=N/A dup=0 drop=870 speed=1.25x     \r"
     ]
    },
    {
     "name": "stdout",
     "output_type": "stream",
     "text": [
      "[download]  39.7% of ~ 214.20MiB at    1.56MiB/s ETA 01:20 (frag 29/77))"
     ]
    },
    {
     "name": "stderr",
     "output_type": "stream",
     "text": [
      "frame=   45 fps=1.3 q=-0.0 size=N/A time=00:00:43.00 bitrate=N/A dup=0 drop=1032 speed=1.21x    \r"
     ]
    },
    {
     "name": "stdout",
     "output_type": "stream",
     "text": [
      "[download]  17.0% of ~ 449.06MiB at    1.50MiB/s ETA 04:03 (frag 32/183)"
     ]
    },
    {
     "name": "stderr",
     "output_type": "stream",
     "text": [
      "frame=   12 fps=0.3 q=-0.0 size=N/A time=00:00:10.00 bitrate=N/A dup=0 drop=285 speed=0.282x    \r"
     ]
    },
    {
     "name": "stdout",
     "output_type": "stream",
     "text": [
      "[download]  18.3% of ~ 428.45MiB at    1.38MiB/s ETA 04:20 (frag 32/183)"
     ]
    },
    {
     "name": "stderr",
     "output_type": "stream",
     "text": [
      "frame=   47 fps=1.3 q=-0.0 size=N/A time=00:00:45.00 bitrate=N/A dup=0 drop=1082 speed=1.21x    \r"
     ]
    },
    {
     "name": "stdout",
     "output_type": "stream",
     "text": [
      "[download]  39.1% of ~ 224.71MiB at    2.22MiB/s ETA 01:11 (frag 31/77))"
     ]
    },
    {
     "name": "stderr",
     "output_type": "stream",
     "text": [
      "frame=   25 fps=1.6 q=-0.0 size=N/A time=00:00:23.00 bitrate=N/A dup=0 drop=548 speed=1.44x     \r"
     ]
    },
    {
     "name": "stdout",
     "output_type": "stream",
     "text": [
      "[download]  41.7% of ~ 211.81MiB at    1.40MiB/s ETA 01:26 (frag 31/77))"
     ]
    },
    {
     "name": "stderr",
     "output_type": "stream",
     "text": [
      "frame=   12 fps=0.3 q=-0.0 size=N/A time=00:00:10.00 bitrate=N/A dup=0 drop=301 speed=0.27x     \r"
     ]
    },
    {
     "name": "stdout",
     "output_type": "stream",
     "text": [
      "[download]  42.2% of ~ 216.02MiB at    1.65MiB/s ETA 01:23 (frag 31/77))"
     ]
    },
    {
     "name": "stderr",
     "output_type": "stream",
     "text": [
      "frame=   11 fps=0.3 q=-0.0 size=N/A time=00:00:09.00 bitrate=N/A dup=0 drop=216 speed=0.284x    \r"
     ]
    },
    {
     "name": "stdout",
     "output_type": "stream",
     "text": [
      "[download]  17.9% of ~ 455.45MiB at    1.71MiB/s ETA 04:20 (frag 34/183)"
     ]
    },
    {
     "name": "stderr",
     "output_type": "stream",
     "text": [
      "frame=    9 fps=0.3 q=-0.0 size=N/A time=00:00:07.00 bitrate=N/A dup=0 drop=173 speed=0.241x    \r"
     ]
    },
    {
     "name": "stdout",
     "output_type": "stream",
     "text": [
      "[download]  19.2% of ~ 427.53MiB at    1.40MiB/s ETA 04:25 (frag 34/183)"
     ]
    },
    {
     "name": "stderr",
     "output_type": "stream",
     "text": [
      "frame=   11 fps=0.3 q=-0.0 size=N/A time=00:00:09.00 bitrate=N/A dup=0 drop=233 speed=0.27x     \r"
     ]
    },
    {
     "name": "stdout",
     "output_type": "stream",
     "text": [
      "[download]  43.1% of ~ 217.26MiB at    1.76MiB/s ETA 01:18 (frag 32/77))"
     ]
    },
    {
     "name": "stderr",
     "output_type": "stream",
     "text": [
      "frame=    9 fps=0.3 q=-0.0 size=N/A time=00:00:07.00 bitrate=N/A dup=0 drop=181 speed=0.236x    \r"
     ]
    },
    {
     "name": "stdout",
     "output_type": "stream",
     "text": [
      "[download]  41.7% of ~ 224.66MiB at    1.97MiB/s ETA 01:15 (frag 33/77))"
     ]
    },
    {
     "name": "stderr",
     "output_type": "stream",
     "text": [
      "frame=   53 fps=1.3 q=-0.0 size=N/A time=00:00:51.00 bitrate=N/A dup=0 drop=1236 speed=1.23x    \r"
     ]
    },
    {
     "name": "stdout",
     "output_type": "stream",
     "text": [
      "[download]  44.3% of ~ 212.76MiB at    1.31MiB/s ETA 01:28 (frag 33/77))"
     ]
    },
    {
     "name": "stderr",
     "output_type": "stream",
     "text": [
      "frame=   13 fps=0.3 q=-0.0 size=N/A time=00:00:11.00 bitrate=N/A dup=0 drop=335 speed=0.272x    \r"
     ]
    },
    {
     "name": "stdout",
     "output_type": "stream",
     "text": [
      "[download]  19.5% of ~ 429.20MiB at  960.17KiB/s ETA 05:49 (frag 36/183)"
     ]
    },
    {
     "name": "stderr",
     "output_type": "stream",
     "text": [
      "frame=   49 fps=1.5 q=-0.0 size=N/A time=00:00:47.00 bitrate=N/A dup=0 drop=1134 speed=1.39x    \r"
     ]
    },
    {
     "name": "stdout",
     "output_type": "stream",
     "text": [
      "[download]  44.3% of ~ 221.25MiB at    2.16MiB/s ETA 01:20 (frag 33/77)"
     ]
    },
    {
     "name": "stderr",
     "output_type": "stream",
     "text": [
      "frame=   55 fps=1.3 q=-0.0 size=N/A time=00:00:53.00 bitrate=N/A dup=0 drop=1268 speed=1.25x    \r"
     ]
    },
    {
     "name": "stdout",
     "output_type": "stream",
     "text": [
      "[download]  42.3% of ~ 231.82MiB at    2.33MiB/s ETA 01:17 (frag 34/77)"
     ]
    },
    {
     "name": "stderr",
     "output_type": "stream",
     "text": [
      "frame=   50 fps=1.4 q=-0.0 size=N/A time=00:00:48.00 bitrate=N/A dup=0 drop=1170 speed=1.33x    \r"
     ]
    },
    {
     "name": "stdout",
     "output_type": "stream",
     "text": [
      "[download]  20.2% of ~ 414.53MiB at  877.83KiB/s ETA 06:03 (frag 36/183)"
     ]
    },
    {
     "name": "stderr",
     "output_type": "stream",
     "text": [
      "frame=   56 fps=1.3 q=-0.0 size=N/A time=00:00:54.00 bitrate=N/A dup=0 drop=1292 speed=1.25x    \r"
     ]
    },
    {
     "name": "stdout",
     "output_type": "stream",
     "text": [
      "[download]  20.3% of ~ 416.97MiB at  780.55KiB/s ETA 06:28 (frag 36/183)"
     ]
    },
    {
     "name": "stderr",
     "output_type": "stream",
     "text": [
      "frame=   10 fps=0.3 q=-0.0 size=N/A time=00:00:08.00 bitrate=N/A dup=0 drop=195 speed=0.247x    \r"
     ]
    },
    {
     "name": "stdout",
     "output_type": "stream",
     "text": [
      "[download]  45.5% of ~ 215.68MiB at    2.09MiB/s ETA 01:17 (frag 34/77))"
     ]
    },
    {
     "name": "stderr",
     "output_type": "stream",
     "text": [
      "frame=   51 fps=1.4 q=-0.0 size=N/A time=00:00:49.00 bitrate=N/A dup=0 drop=1192 speed=1.38x    \r"
     ]
    },
    {
     "name": "stdout",
     "output_type": "stream",
     "text": [
      "[download]  45.7% of ~ 216.76MiB at    2.00MiB/s ETA 01:14 (frag 34/77)"
     ]
    },
    {
     "name": "stderr",
     "output_type": "stream",
     "text": [
      "frame=   12 fps=0.3 q=-0.0 size=N/A time=00:00:10.00 bitrate=N/A dup=0 drop=259 speed=0.27x     \r"
     ]
    },
    {
     "name": "stdout",
     "output_type": "stream",
     "text": [
      "[download]  45.9% of ~ 217.86MiB at    2.24MiB/s ETA 01:11 (frag 34/77)"
     ]
    },
    {
     "name": "stderr",
     "output_type": "stream",
     "text": [
      "frame=   52 fps=1.4 q=-0.0 size=N/A time=00:00:50.00 bitrate=N/A dup=0 drop=1206 speed=1.39x    \r"
     ]
    },
    {
     "name": "stdout",
     "output_type": "stream",
     "text": [
      "[download]  20.8% of ~ 408.02MiB at  637.28KiB/s ETA 07:32 (frag 37/183)"
     ]
    },
    {
     "name": "stderr",
     "output_type": "stream",
     "text": [
      "frame=   35 fps=1.6 q=-0.0 size=N/A time=00:00:33.00 bitrate=N/A dup=0 drop=788 speed=1.49x     \r"
     ]
    },
    {
     "name": "stdout",
     "output_type": "stream",
     "text": [
      "[download]  20.8% of ~ 409.83MiB at  656.47KiB/s ETA 07:34 (frag 37/183)"
     ]
    },
    {
     "name": "stderr",
     "output_type": "stream",
     "text": [
      "frame=   53 fps=1.5 q=-0.0 size=N/A time=00:00:51.00 bitrate=N/A dup=0 drop=1226 speed= 1.4x    \r"
     ]
    },
    {
     "name": "stdout",
     "output_type": "stream",
     "text": [
      "[download]  20.6% of ~ 413.10MiB at  661.55KiB/s ETA 07:38 (frag 38/183)"
     ]
    },
    {
     "name": "stderr",
     "output_type": "stream",
     "text": [
      "frame=   54 fps=1.5 q=-0.0 size=N/A time=00:00:52.00 bitrate=N/A dup=0 drop=1251 speed= 1.4x    \r"
     ]
    },
    {
     "name": "stdout",
     "output_type": "stream",
     "text": [
      "[download]  21.3% of ~ 399.81MiB at  617.12KiB/s ETA 07:55 (frag 38/183)"
     ]
    },
    {
     "name": "stderr",
     "output_type": "stream",
     "text": [
      "frame=   59 fps=1.3 q=-0.0 size=N/A time=00:00:57.00 bitrate=N/A dup=0 drop=1375 speed=1.25x    \r"
     ]
    },
    {
     "name": "stdout",
     "output_type": "stream",
     "text": [
      "[download]  21.4% of ~ 400.91MiB at  607.81KiB/s ETA 08:09 (frag 38/183)"
     ]
    },
    {
     "name": "stderr",
     "output_type": "stream",
     "text": [
      "frame=   13 fps=0.3 q=-0.0 size=N/A time=00:00:11.00 bitrate=N/A dup=0 drop=268 speed=0.282x    \r"
     ]
    },
    {
     "name": "stdout",
     "output_type": "stream",
     "text": [
      "[download]  21.3% of ~ 404.43MiB at  625.10KiB/s ETA 08:09 (frag 38/183)"
     ]
    },
    {
     "name": "stderr",
     "output_type": "stream",
     "text": [
      "frame=   60 fps=1.3 q=-0.0 size=N/A time=00:00:58.00 bitrate=N/A dup=0 drop=1395 speed=1.25x    \r"
     ]
    },
    {
     "name": "stdout",
     "output_type": "stream",
     "text": [
      "[download]  21.0% of ~ 410.20MiB at  615.04KiB/s ETA 08:16 (frag 39/183)"
     ]
    },
    {
     "name": "stderr",
     "output_type": "stream",
     "text": [
      "frame=   61 fps=1.3 q=-0.0 size=N/A time=00:00:59.00 bitrate=N/A dup=0 drop=1412 speed=1.25x    \r"
     ]
    },
    {
     "name": "stdout",
     "output_type": "stream",
     "text": [
      "[download]  48.1% of ~ 219.10MiB at    2.08MiB/s ETA 01:03 (frag 36/77))"
     ]
    },
    {
     "name": "stderr",
     "output_type": "stream",
     "text": [
      "frame=   13 fps=0.3 q=-0.0 size=N/A time=00:00:11.00 bitrate=N/A dup=0 drop=279 speed=0.274x    \r"
     ]
    },
    {
     "name": "stdout",
     "output_type": "stream",
     "text": [
      "[download]  48.5% of ~ 221.17MiB at    2.05MiB/s ETA 01:04 (frag 36/77))"
     ]
    },
    {
     "name": "stderr",
     "output_type": "stream",
     "text": [
      "frame=   57 fps=1.4 q=-0.0 size=N/A time=00:00:55.00 bitrate=N/A dup=0 drop=1338 speed=1.34x    \r"
     ]
    },
    {
     "name": "stdout",
     "output_type": "stream",
     "text": [
      "[download]  46.8% of ~ 231.23MiB at    2.31MiB/s ETA 01:00 (frag 37/77)"
     ]
    },
    {
     "name": "stderr",
     "output_type": "stream",
     "text": [
      "frame=   15 fps=0.3 q=-0.0 size=N/A time=00:00:13.00 bitrate=N/A dup=0 drop=400 speed=0.277x    \r"
     ]
    },
    {
     "name": "stdout",
     "output_type": "stream",
     "text": [
      "[download]  22.5% of ~ 388.02MiB at  564.09KiB/s ETA 08:48 (frag 40/183)"
     ]
    },
    {
     "name": "stderr",
     "output_type": "stream",
     "text": [
      "frame=   63 fps=1.3 q=-0.0 size=N/A time=00:01:01.00 bitrate=N/A dup=0 drop=1461 speed=1.26x    \r"
     ]
    },
    {
     "name": "stdout",
     "output_type": "stream",
     "text": [
      "[download]  22.5% of ~ 389.14MiB at  630.33KiB/s ETA 08:34 (frag 40/183)"
     ]
    },
    {
     "name": "stderr",
     "output_type": "stream",
     "text": [
      "frame=   11 fps=0.3 q=-0.0 size=N/A time=00:00:09.00 bitrate=N/A dup=0 drop=227 speed=0.237x    \r"
     ]
    },
    {
     "name": "stdout",
     "output_type": "stream",
     "text": [
      "[download]  49.8% of ~ 221.26MiB at    1.53MiB/s ETA 01:13 (frag 37/77))"
     ]
    },
    {
     "name": "stderr",
     "output_type": "stream",
     "text": [
      "frame=   59 fps=1.4 q=-0.0 size=N/A time=00:00:57.00 bitrate=N/A dup=0 drop=1384 speed=1.34x    \r"
     ]
    },
    {
     "name": "stdout",
     "output_type": "stream",
     "text": [
      "[download]  49.4% of ~ 223.29MiB at    1.53MiB/s ETA 01:13 (frag 37/77)"
     ]
    },
    {
     "name": "stderr",
     "output_type": "stream",
     "text": [
      "frame=   61 fps=1.5 q=-0.0 size=N/A time=00:00:59.00 bitrate=N/A dup=0 drop=1424 speed=1.43x    \r"
     ]
    },
    {
     "name": "stdout",
     "output_type": "stream",
     "text": [
      "[download]  48.4% of ~ 227.81MiB at    1.74MiB/s ETA 01:11 (frag 38/77)"
     ]
    },
    {
     "name": "stderr",
     "output_type": "stream",
     "text": [
      "frame=   60 fps=1.4 q=-0.0 size=N/A time=00:00:58.00 bitrate=N/A dup=0 drop=1402 speed=1.35x    \r"
     ]
    },
    {
     "name": "stdout",
     "output_type": "stream",
     "text": [
      "[download]  23.2% of ~ 385.67MiB at  783.93KiB/s ETA 08:09 (frag 41/183)"
     ]
    },
    {
     "name": "stderr",
     "output_type": "stream",
     "text": [
      "frame=   16 fps=0.3 q=-0.0 size=N/A time=00:00:14.00 bitrate=N/A dup=0 drop=420 speed=0.286x    \r"
     ]
    },
    {
     "name": "stdout",
     "output_type": "stream",
     "text": [
      "[download]  50.7% of ~ 217.92MiB at    1.40MiB/s ETA 01:15 (frag 38/77))"
     ]
    },
    {
     "name": "stderr",
     "output_type": "stream",
     "text": [
      "frame=   14 fps=0.3 q=-0.0 size=N/A time=00:00:12.00 bitrate=N/A dup=0 drop=302 speed=0.274x    \r"
     ]
    },
    {
     "name": "stdout",
     "output_type": "stream",
     "text": [
      "[download]  51.0% of ~ 219.77MiB at    1.23MiB/s ETA 01:21 (frag 38/77)"
     ]
    },
    {
     "name": "stderr",
     "output_type": "stream",
     "text": [
      "frame=   16 fps=0.3 q=-0.0 size=N/A time=00:00:14.00 bitrate=N/A dup=0 drop=424 speed=0.282x    \r"
     ]
    },
    {
     "name": "stdout",
     "output_type": "stream",
     "text": [
      "[download]  23.5% of ~ 387.49MiB at    1.26MiB/s ETA 06:51 (frag 42/183)"
     ]
    },
    {
     "name": "stderr",
     "output_type": "stream",
     "text": [
      "frame=   12 fps=0.3 q=-0.0 size=N/A time=00:00:10.00 bitrate=N/A dup=0 drop=242 speed=0.248x    \r"
     ]
    },
    {
     "name": "stdout",
     "output_type": "stream",
     "text": [
      "[download]  23.4% of ~ 391.11MiB at    1.39MiB/s ETA 05:55 (frag 43/183)"
     ]
    },
    {
     "name": "stderr",
     "output_type": "stream",
     "text": [
      "frame=   67 fps=1.3 q=-0.0 size=N/A time=00:01:05.00 bitrate=N/A dup=0 drop=1556 speed=1.26x    \r"
     ]
    },
    {
     "name": "stdout",
     "output_type": "stream",
     "text": [
      "[download]  52.1% of ~ 216.09MiB at  947.73KiB/s ETA 01:37 (frag 39/77)"
     ]
    },
    {
     "name": "stderr",
     "output_type": "stream",
     "text": [
      "frame=   12 fps=0.3 q=-0.0 size=N/A time=00:00:10.00 bitrate=N/A dup=0 drop=251 speed=0.241x    \r"
     ]
    },
    {
     "name": "stdout",
     "output_type": "stream",
     "text": [
      "[download]  50.6% of ~ 227.70MiB at    1.54MiB/s ETA 01:28 (frag 40/77))"
     ]
    },
    {
     "name": "stderr",
     "output_type": "stream",
     "text": [
      "frame=   67 fps=1.5 q=-0.0 size=N/A time=00:01:05.00 bitrate=N/A dup=0 drop=1559 speed=1.41x    \r"
     ]
    },
    {
     "name": "stdout",
     "output_type": "stream",
     "text": [
      "[download]  24.1% of ~ 388.74MiB at    1.52MiB/s ETA 04:48 (frag 43/183)"
     ]
    },
    {
     "name": "stderr",
     "output_type": "stream",
     "text": [
      "frame=   17 fps=0.3 q=-0.0 size=N/A time=00:00:15.00 bitrate=N/A dup=0 drop=447 speed=0.288x    \r"
     ]
    },
    {
     "name": "stdout",
     "output_type": "stream",
     "text": [
      "[download]  23.5% of ~ 397.38MiB at    1.32MiB/s ETA 04:55 (frag 44/183)"
     ]
    },
    {
     "name": "stderr",
     "output_type": "stream",
     "text": [
      "frame=   68 fps=1.5 q=-0.0 size=N/A time=00:01:06.00 bitrate=N/A dup=0 drop=1584 speed=1.41x    \r"
     ]
    },
    {
     "name": "stdout",
     "output_type": "stream",
     "text": [
      "[download]  53.5% of ~ 217.18MiB at    1.50MiB/s ETA 01:21 (frag 40/77)"
     ]
    },
    {
     "name": "stderr",
     "output_type": "stream",
     "text": [
      "frame=   17 fps=0.3 q=-0.0 size=N/A time=00:00:15.00 bitrate=N/A dup=0 drop=454 speed=0.284x    \r"
     ]
    },
    {
     "name": "stdout",
     "output_type": "stream",
     "text": [
      "[download]  24.7% of ~ 382.29MiB at    1.12MiB/s ETA 04:55 (frag 44/183)"
     ]
    },
    {
     "name": "stderr",
     "output_type": "stream",
     "text": [
      "frame=   70 fps=1.3 q=-0.0 size=N/A time=00:01:08.00 bitrate=N/A dup=0 drop=1646 speed=1.25x    \r"
     ]
    },
    {
     "name": "stdout",
     "output_type": "stream",
     "text": [
      "[download]  24.7% of ~ 388.39MiB at    1.31MiB/s ETA 04:36 (frag 44/183)"
     ]
    },
    {
     "name": "stderr",
     "output_type": "stream",
     "text": [
      "frame=   18 fps=0.3 q=-0.0 size=N/A time=00:00:16.00 bitrate=N/A dup=0 drop=461 speed= 0.3x     \r"
     ]
    },
    {
     "name": "stdout",
     "output_type": "stream",
     "text": [
      "[download]  24.0% of ~ 400.51MiB at    1.52MiB/s ETA 04:24 (frag 45/183)"
     ]
    },
    {
     "name": "stderr",
     "output_type": "stream",
     "text": [
      "frame=   69 fps=1.5 q=-0.0 size=N/A time=00:01:07.00 bitrate=N/A dup=0 drop=1622 speed=1.43x    \r"
     ]
    },
    {
     "name": "stdout",
     "output_type": "stream",
     "text": [
      "[download]  54.8% of ~ 216.20MiB at    1.96MiB/s ETA 01:06 (frag 41/77)"
     ]
    },
    {
     "name": "stderr",
     "output_type": "stream",
     "text": [
      "frame=   18 fps=0.3 q=-0.0 size=N/A time=00:00:16.00 bitrate=N/A dup=0 drop=464 speed=0.297x    \r"
     ]
    },
    {
     "name": "stdout",
     "output_type": "stream",
     "text": [
      "[download]  55.1% of ~ 218.95MiB at    2.15MiB/s ETA 01:02 (frag 41/77)"
     ]
    },
    {
     "name": "stderr",
     "output_type": "stream",
     "text": [
      "frame=   70 fps=1.5 q=-0.0 size=N/A time=00:01:08.00 bitrate=N/A dup=0 drop=1637 speed=1.44x    \r"
     ]
    },
    {
     "name": "stdout",
     "output_type": "stream",
     "text": [
      "[download]  25.3% of ~ 383.88MiB at    1.34MiB/s ETA 04:14 (frag 45/183)"
     ]
    },
    {
     "name": "stderr",
     "output_type": "stream",
     "text": [
      "frame=   13 fps=0.3 q=-0.0 size=N/A time=00:00:11.00 bitrate=N/A dup=0 drop=271 speed=0.244x    \r"
     ]
    },
    {
     "name": "stdout",
     "output_type": "stream",
     "text": [
      "[download]  25.4% of ~ 385.87MiB at    1.39MiB/s ETA 04:07 (frag 45/183)"
     ]
    },
    {
     "name": "stderr",
     "output_type": "stream",
     "text": [
      "frame=   15 fps=0.3 q=-0.0 size=N/A time=00:00:13.00 bitrate=N/A dup=0 drop=330 speed=0.265x    \r"
     ]
    },
    {
     "name": "stdout",
     "output_type": "stream",
     "text": [
      "[download]  24.7% of ~ 397.02MiB at    1.57MiB/s ETA 03:58 (frag 46/183)"
     ]
    },
    {
     "name": "stderr",
     "output_type": "stream",
     "text": [
      "frame=   54 fps=1.6 q=-0.0 size=N/A time=00:00:52.00 bitrate=N/A dup=0 drop=1248 speed=1.52x    \r"
     ]
    },
    {
     "name": "stdout",
     "output_type": "stream",
     "text": [
      "[download]  55.9% of ~ 216.01MiB at    1.97MiB/s ETA 00:59 (frag 42/77)"
     ]
    },
    {
     "name": "stderr",
     "output_type": "stream",
     "text": [
      "frame=   18 fps=0.3 q=-0.0 size=N/A time=00:00:16.00 bitrate=N/A dup=0 drop=482 speed=0.287x    \r"
     ]
    },
    {
     "name": "stdout",
     "output_type": "stream",
     "text": [
      "[download]  55.0% of ~ 222.93MiB at    1.85MiB/s ETA 00:58 (frag 43/77)"
     ]
    },
    {
     "name": "stderr",
     "output_type": "stream",
     "text": [
      "frame=   16 fps=0.3 q=-0.0 size=N/A time=00:00:14.00 bitrate=N/A dup=0 drop=334 speed=0.278x    \r"
     ]
    },
    {
     "name": "stdout",
     "output_type": "stream",
     "text": [
      "[download]  25.7% of ~ 382.14MiB at    1.01MiB/s ETA 04:32 (frag 46/183)"
     ]
    },
    {
     "name": "stderr",
     "output_type": "stream",
     "text": [
      "frame=   74 fps=1.5 q=-0.0 size=N/A time=00:01:12.00 bitrate=N/A dup=0 drop=1733 speed=1.41x    \r"
     ]
    },
    {
     "name": "stdout",
     "output_type": "stream",
     "text": [
      "[download]  25.8% of ~ 385.06MiB at    1.21MiB/s ETA 04:19 (frag 46/183)"
     ]
    },
    {
     "name": "stderr",
     "output_type": "stream",
     "text": [
      "frame=   73 fps=1.5 q=-0.0 size=N/A time=00:01:11.00 bitrate=N/A dup=0 drop=1706 speed=1.43x    \r"
     ]
    },
    {
     "name": "stdout",
     "output_type": "stream",
     "text": [
      "[download]  57.2% of ~ 214.46MiB at    1.51MiB/s ETA 01:05 (frag 43/77))"
     ]
    },
    {
     "name": "stderr",
     "output_type": "stream",
     "text": [
      "frame=   75 fps=1.3 q=-0.0 size=N/A time=00:01:13.00 bitrate=N/A dup=0 drop=1768 speed=1.26x    \r"
     ]
    },
    {
     "name": "stdout",
     "output_type": "stream",
     "text": [
      "[download]  57.3% of ~ 214.87MiB at    1.03MiB/s ETA 01:20 (frag 43/77)"
     ]
    },
    {
     "name": "stderr",
     "output_type": "stream",
     "text": [
      "frame=   75 fps=1.4 q=-0.0 size=N/A time=00:01:13.00 bitrate=N/A dup=0 drop=1759 speed= 1.4x    \r"
     ]
    },
    {
     "name": "stdout",
     "output_type": "stream",
     "text": [
      "[download]  55.7% of ~ 225.45MiB at    1.64MiB/s ETA 01:11 (frag 44/77))"
     ]
    },
    {
     "name": "stderr",
     "output_type": "stream",
     "text": [
      "frame=   57 fps=1.5 q=-0.0 size=N/A time=00:00:55.00 bitrate=N/A dup=0 drop=1329 speed=1.48x    \r"
     ]
    },
    {
     "name": "stdout",
     "output_type": "stream",
     "text": [
      "[download]  26.4% of ~ 380.16MiB at  885.52KiB/s ETA 05:28 (frag 47/183)"
     ]
    },
    {
     "name": "stderr",
     "output_type": "stream",
     "text": [
      "frame=   76 fps=1.4 q=-0.0 size=N/A time=00:01:14.00 bitrate=N/A dup=0 drop=1775 speed=1.41x    \r"
     ]
    },
    {
     "name": "stdout",
     "output_type": "stream",
     "text": [
      "[download]  26.4% of ~ 385.88MiB at    1.26MiB/s ETA 04:59 (frag 47/183)"
     ]
    },
    {
     "name": "stderr",
     "output_type": "stream",
     "text": [
      "frame=   77 fps=1.5 q=-0.0 size=N/A time=00:01:15.00 bitrate=N/A dup=0 drop=1796 speed=1.41x    \r"
     ]
    },
    {
     "name": "stdout",
     "output_type": "stream",
     "text": [
      "[download]  58.5% of ~ 215.16MiB at    1.52MiB/s ETA 01:11 (frag 44/77))"
     ]
    },
    {
     "name": "stderr",
     "output_type": "stream",
     "text": [
      "frame=   19 fps=0.3 q=-0.0 size=N/A time=00:00:17.00 bitrate=N/A dup=0 drop=508 speed=0.288x    \r"
     ]
    },
    {
     "name": "stdout",
     "output_type": "stream",
     "text": [
      "[download]  58.7% of ~ 215.91MiB at    1.66MiB/s ETA 01:07 (frag 44/77)"
     ]
    },
    {
     "name": "stderr",
     "output_type": "stream",
     "text": [
      "frame=   78 fps=1.3 q=-0.0 size=N/A time=00:01:16.00 bitrate=N/A dup=0 drop=1821 speed=1.26x    \r"
     ]
    },
    {
     "name": "stdout",
     "output_type": "stream",
     "text": [
      "[download]  26.8% of ~ 381.58MiB at    1.15MiB/s ETA 04:43 (frag 48/183)"
     ]
    },
    {
     "name": "stderr",
     "output_type": "stream",
     "text": [
      "frame=   78 fps=1.3 q=-0.0 size=N/A time=00:01:16.00 bitrate=N/A dup=0 drop=1843 speed=1.25x    \r"
     ]
    },
    {
     "name": "stdout",
     "output_type": "stream",
     "text": [
      "[download]  26.3% of ~ 394.89MiB at    1.50MiB/s ETA 04:19 (frag 49/183)"
     ]
    },
    {
     "name": "stderr",
     "output_type": "stream",
     "text": [
      "frame=   78 fps=1.5 q=-0.0 size=N/A time=00:01:16.00 bitrate=N/A dup=0 drop=1820 speed=1.42x    \r"
     ]
    },
    {
     "name": "stdout",
     "output_type": "stream",
     "text": [
      "[download]  59.7% of ~ 216.09MiB at    1.91MiB/s ETA 01:00 (frag 45/77)"
     ]
    },
    {
     "name": "stderr",
     "output_type": "stream",
     "text": [
      "frame=   80 fps=1.3 q=-0.0 size=N/A time=00:01:18.00 bitrate=N/A dup=0 drop=1872 speed=1.26x    \r"
     ]
    },
    {
     "name": "stdout",
     "output_type": "stream",
     "text": [
      "[download]  60.2% of ~ 217.76MiB at    1.93MiB/s ETA 00:56 (frag 45/77))"
     ]
    },
    {
     "name": "stderr",
     "output_type": "stream",
     "text": [
      "frame=   20 fps=0.3 q=-0.0 size=N/A time=00:00:18.00 bitrate=N/A dup=0 drop=530 speed=0.293x    \r"
     ]
    },
    {
     "name": "stdout",
     "output_type": "stream",
     "text": [
      "[download]  60.6% of ~ 219.43MiB at    2.24MiB/s ETA 00:53 (frag 45/77))"
     ]
    },
    {
     "name": "stderr",
     "output_type": "stream",
     "text": [
      "frame=   79 fps=1.4 q=-0.0 size=N/A time=00:01:17.00 bitrate=N/A dup=0 drop=1844 speed=1.41x    \r"
     ]
    },
    {
     "name": "stdout",
     "output_type": "stream",
     "text": [
      "[download]  58.1% of ~ 229.00MiB at    2.36MiB/s ETA 00:51 (frag 46/77))"
     ]
    },
    {
     "name": "stderr",
     "output_type": "stream",
     "text": [
      "frame=   80 fps=1.4 q=-0.0 size=N/A time=00:01:18.00 bitrate=N/A dup=0 drop=1885 speed=1.39x    \r"
     ]
    },
    {
     "name": "stdout",
     "output_type": "stream",
     "text": [
      "[download]  27.9% of ~ 381.33MiB at    1.09MiB/s ETA 04:15 (frag 50/183)"
     ]
    },
    {
     "name": "stderr",
     "output_type": "stream",
     "text": [
      "frame=   82 fps=1.3 q=-0.0 size=N/A time=00:01:20.00 bitrate=N/A dup=0 drop=1935 speed=1.24x    \r"
     ]
    },
    {
     "name": "stdout",
     "output_type": "stream",
     "text": [
      "[download]  28.1% of ~ 384.02MiB at    1.23MiB/s ETA 04:08 (frag 50/183)"
     ]
    },
    {
     "name": "stderr",
     "output_type": "stream",
     "text": [
      "frame=   81 fps=1.4 q=-0.0 size=N/A time=00:01:19.00 bitrate=N/A dup=0 drop=1904 speed=1.39x    \r"
     ]
    },
    {
     "name": "stdout",
     "output_type": "stream",
     "text": [
      "[download]  59.4% of ~ 230.33MiB at    2.25MiB/s ETA 00:47 (frag 47/77))"
     ]
    },
    {
     "name": "stderr",
     "output_type": "stream",
     "text": [
      "frame=   21 fps=0.3 q=-0.0 size=N/A time=00:00:19.00 bitrate=N/A dup=0 drop=559 speed=0.294x    \r"
     ]
    },
    {
     "name": "stdout",
     "output_type": "stream",
     "text": [
      "[download]  62.4% of ~ 219.60MiB at    2.30MiB/s ETA 00:43 (frag 47/77))"
     ]
    },
    {
     "name": "stderr",
     "output_type": "stream",
     "text": [
      "frame=   86 fps=1.4 q=-0.0 size=N/A time=00:01:24.00 bitrate=N/A dup=0 drop=2030 speed=1.41x    \r"
     ]
    },
    {
     "name": "stdout",
     "output_type": "stream",
     "text": [
      "[download]  61.6% of ~ 224.60MiB at    2.48MiB/s ETA 00:40 (frag 48/77))"
     ]
    },
    {
     "name": "stderr",
     "output_type": "stream",
     "text": [
      "frame=   84 fps=1.3 q=-0.0 size=N/A time=00:01:22.00 bitrate=N/A dup=0 drop=1982 speed=1.23x    \r"
     ]
    },
    {
     "name": "stdout",
     "output_type": "stream",
     "text": [
      "[download]  27.7% of ~ 399.91MiB at    1.89MiB/s ETA 03:23 (frag 52/183)"
     ]
    },
    {
     "name": "stderr",
     "output_type": "stream",
     "text": [
      "frame=   15 fps=0.3 q=-0.0 size=N/A time=00:00:13.00 bitrate=N/A dup=0 drop=331 speed=0.233x    \r"
     ]
    },
    {
     "name": "stdout",
     "output_type": "stream",
     "text": [
      "[youtube] MoxFkJlVZlA: Downloading m3u8 information\n"
     ]
    },
    {
     "name": "stderr",
     "output_type": "stream",
     "text": [
      "frame=   85 fps=1.3 q=-0.0 size=N/A time=00:01:23.00 bitrate=N/A dup=0 drop=1997 speed=1.23x    \r"
     ]
    },
    {
     "name": "stdout",
     "output_type": "stream",
     "text": [
      "[download]  29.0% of ~ 382.63MiB at    1.75MiB/s ETA 03:16 (frag 52/183)"
     ]
    },
    {
     "name": "stderr",
     "output_type": "stream",
     "text": [
      "frame=   68 fps=1.5 q=-0.0 size=N/A time=00:01:06.00 bitrate=N/A dup=0 drop=1580 speed=1.46x    \r"
     ]
    },
    {
     "name": "stdout",
     "output_type": "stream",
     "text": [
      "[download]  29.1% of ~ 384.25MiB at    1.58MiB/s ETA 03:12 (frag 52/183)"
     ]
    },
    {
     "name": "stderr",
     "output_type": "stream",
     "text": [
      "frame=   69 fps=1.5 q=-0.0 size=N/A time=00:01:07.00 bitrate=N/A dup=0 drop=1605 speed=1.46x    \r"
     ]
    },
    {
     "name": "stdout",
     "output_type": "stream",
     "text": [
      "[download]  62.2% of ~ 228.02MiB at    1.67MiB/s ETA 00:45 (frag 49/77))"
     ]
    },
    {
     "name": "stderr",
     "output_type": "stream",
     "text": [
      "frame=   90 fps=1.5 q=-0.0 size=N/A time=00:01:28.00 bitrate=N/A dup=0 drop=2116 speed=1.43x    \r"
     ]
    },
    {
     "name": "stdout",
     "output_type": "stream",
     "text": [
      "[download]  27.9% of ~ 412.70MiB at    2.33MiB/s ETA 02:51 (frag 53/183)"
     ]
    },
    {
     "name": "stderr",
     "output_type": "stream",
     "text": [
      "frame=   87 fps=1.4 q=-0.0 size=N/A time=00:01:25.00 bitrate=N/A dup=0 drop=2036 speed=1.39x    \r"
     ]
    },
    {
     "name": "stdout",
     "output_type": "stream",
     "text": [
      "[download]  29.5% of ~ 390.35MiB at    1.90MiB/s ETA 02:53 (frag 53/183)"
     ]
    },
    {
     "name": "stderr",
     "output_type": "stream",
     "text": [
      "frame=   71 fps=1.5 q=-0.0 size=N/A time=00:01:09.00 bitrate=N/A dup=0 drop=1654 speed=1.46x    \r"
     ]
    },
    {
     "name": "stdout",
     "output_type": "stream",
     "text": [
      "[download]  29.6% of ~ 391.94MiB at    1.90MiB/s ETA 02:49 (frag 53/183)"
     ]
    },
    {
     "name": "stderr",
     "output_type": "stream",
     "text": [
      "frame=   18 fps=0.3 q=-0.0 size=N/A time=00:00:16.00 bitrate=N/A dup=0 drop=393 speed=0.256x    \r"
     ]
    },
    {
     "name": "stdout",
     "output_type": "stream",
     "text": [
      "[download]  29.8% of ~ 393.63MiB at    2.12MiB/s ETA 02:43 (frag 53/183)"
     ]
    },
    {
     "name": "stderr",
     "output_type": "stream",
     "text": [
      "frame=   71 fps=1.5 q=-0.0 size=N/A time=00:01:09.00 bitrate=N/A dup=0 drop=1675 speed=1.44x    \r"
     ]
    },
    {
     "name": "stdout",
     "output_type": "stream",
     "text": [
      "[download]  28.5% of ~ 419.07MiB at    2.71MiB/s ETA 02:24 (frag 54/183)"
     ]
    },
    {
     "name": "stderr",
     "output_type": "stream",
     "text": [
      "frame=   89 fps=1.4 q=-0.0 size=N/A time=00:01:27.00 bitrate=N/A dup=0 drop=2086 speed=1.39x    \r"
     ]
    },
    {
     "name": "stdout",
     "output_type": "stream",
     "text": [
      "[download]  66.2% of ~ 218.00MiB at    1.69MiB/s ETA 00:48 (frag 50/77)"
     ]
    },
    {
     "name": "stderr",
     "output_type": "stream",
     "text": [
      "frame=   23 fps=0.3 q=-0.0 size=N/A time=00:00:21.00 bitrate=N/A dup=0 drop=604 speed=0.299x    \r"
     ]
    },
    {
     "name": "stdout",
     "output_type": "stream",
     "text": [
      "[download]  30.1% of ~ 397.35MiB at    2.33MiB/s ETA 02:29 (frag 54/183)"
     ]
    },
    {
     "name": "stderr",
     "output_type": "stream",
     "text": [
      "frame=   95 fps=1.5 q=-0.0 size=N/A time=00:01:33.00 bitrate=N/A dup=0 drop=2237 speed=1.44x    \r"
     ]
    },
    {
     "name": "stdout",
     "output_type": "stream",
     "text": [
      "[download]  30.2% of ~ 398.96MiB at    2.22MiB/s ETA 02:26 (frag 54/183)"
     ]
    },
    {
     "name": "stderr",
     "output_type": "stream",
     "text": [
      "frame=   17 fps=0.3 q=-0.0 size=N/A time=00:00:15.00 bitrate=N/A dup=0 drop=373 speed=0.247x    \r"
     ]
    },
    {
     "name": "stdout",
     "output_type": "stream",
     "text": [
      "[download]  29.5% of ~ 413.77MiB at    2.33MiB/s ETA 02:20 (frag 55/183)"
     ]
    },
    {
     "name": "stderr",
     "output_type": "stream",
     "text": [
      "frame=   23 fps=0.3 q=-0.0 size=N/A time=00:00:21.00 bitrate=N/A dup=0 drop=607 speed=0.297x    \r"
     ]
    },
    {
     "name": "stdout",
     "output_type": "stream",
     "text": [
      "[download]  64.4% of ~ 230.50MiB at    2.17MiB/s ETA 00:43 (frag 51/77)"
     ]
    },
    {
     "name": "stderr",
     "output_type": "stream",
     "text": [
      "frame=   90 fps=1.2 q=-0.0 size=N/A time=00:01:28.00 bitrate=N/A dup=0 drop=2127 speed=1.21x    \r"
     ]
    },
    {
     "name": "stdout",
     "output_type": "stream",
     "text": [
      "[download]  30.6% of ~ 398.34MiB at    1.89MiB/s ETA 02:38 (frag 55/183)"
     ]
    },
    {
     "name": "stderr",
     "output_type": "stream",
     "text": [
      "frame=   19 fps=0.3 q=-0.0 size=N/A time=00:00:17.00 bitrate=N/A dup=0 drop=413 speed=0.256x    \r"
     ]
    },
    {
     "name": "stdout",
     "output_type": "stream",
     "text": [
      "[download]  67.6% of ~ 220.11MiB at    1.99MiB/s ETA 00:42 (frag 51/77))"
     ]
    },
    {
     "name": "stderr",
     "output_type": "stream",
     "text": [
      "frame=   77 fps=1.5 q=-0.0 size=N/A time=00:01:15.00 bitrate=N/A dup=0 drop=1796 speed=1.46x    \r"
     ]
    },
    {
     "name": "stdout",
     "output_type": "stream",
     "text": [
      "[download]  67.8% of ~ 220.67MiB at    2.00MiB/s ETA 00:41 (frag 51/77))"
     ]
    },
    {
     "name": "stderr",
     "output_type": "stream",
     "text": [
      "frame=   91 fps=1.2 q=-0.0 size=N/A time=00:01:29.00 bitrate=N/A dup=0 drop=2147 speed= 1.2x    \r"
     ]
    },
    {
     "name": "stdout",
     "output_type": "stream",
     "text": [
      "[download]  29.6% of ~ 427.12MiB at    2.23MiB/s ETA 02:34 (frag 56/183)"
     ]
    },
    {
     "name": "stderr",
     "output_type": "stream",
     "text": [
      "frame=   92 fps=1.4 q=-0.0 size=N/A time=00:01:30.00 bitrate=N/A dup=0 drop=2179 speed=1.36x    \r"
     ]
    },
    {
     "name": "stdout",
     "output_type": "stream",
     "text": [
      "[info] MoxFkJlVZlA: Downloading 1 format(s): 244+251\n"
     ]
    },
    {
     "name": "stderr",
     "output_type": "stream",
     "text": [
      "frame=   79 fps=1.5 q=-0.0 size=N/A time=00:01:17.00 bitrate=N/A dup=0 drop=1844 speed=1.45x    \r"
     ]
    },
    {
     "name": "stdout",
     "output_type": "stream",
     "text": [
      "[download]  68.9% of ~ 221.41MiB at    1.68MiB/s ETA 00:42 (frag 52/77))"
     ]
    },
    {
     "name": "stderr",
     "output_type": "stream",
     "text": [
      "frame=   18 fps=0.3 q=-0.0 size=N/A time=00:00:16.00 bitrate=N/A dup=0 drop=403 speed=0.248x    \r"
     ]
    },
    {
     "name": "stdout",
     "output_type": "stream",
     "text": [
      "[download]  31.3% of ~ 407.07MiB at    2.09MiB/s ETA 02:27 (frag 56/183)"
     ]
    },
    {
     "name": "stderr",
     "output_type": "stream",
     "text": [
      "frame=   93 fps=1.4 q=-0.0 size=N/A time=00:01:31.00 bitrate=N/A dup=0 drop=2202 speed=1.35x    \r"
     ]
    },
    {
     "name": "stdout",
     "output_type": "stream",
     "text": [
      "[download]  69.7% of ~ 223.96MiB at    2.41MiB/s ETA 00:37 (frag 52/77))"
     ]
    },
    {
     "name": "stderr",
     "output_type": "stream",
     "text": [
      "frame=  101 fps=1.5 q=-0.0 size=N/A time=00:01:39.00 bitrate=N/A dup=0 drop=2372 speed=1.43x    \r"
     ]
    },
    {
     "name": "stdout",
     "output_type": "stream",
     "text": [
      "[download]  67.1% of ~ 232.54MiB at    2.59MiB/s ETA 00:36 (frag 53/77))"
     ]
    },
    {
     "name": "stderr",
     "output_type": "stream",
     "text": [
      "frame=   95 fps=1.4 q=-0.0 size=N/A time=00:01:33.00 bitrate=N/A dup=0 drop=2231 speed=1.36x    \r"
     ]
    },
    {
     "name": "stdout",
     "output_type": "stream",
     "text": [
      "[download]  31.7% of ~ 404.37MiB at    2.02MiB/s ETA 02:26 (frag 57/183)[download] Destination: ./dataset_splited/MoxFkJlVZlA/video_480p.f244.webm\n",
      "[download]  31.8% of ~ 405.94MiB at    1.12MiB/s ETA 03:30 (frag 57/183)"
     ]
    },
    {
     "name": "stderr",
     "output_type": "stream",
     "text": [
      "frame=   94 fps=1.2 q=-0.0 size=N/A time=00:01:32.00 bitrate=N/A dup=0 drop=2219 speed=1.19x    \r"
     ]
    },
    {
     "name": "stdout",
     "output_type": "stream",
     "text": [
      "[download]   9.5% of   21.05MiB at    2.41MiB/s ETA 00:079 (frag 58/183)"
     ]
    },
    {
     "name": "stderr",
     "output_type": "stream",
     "text": [
      "frame=  103 fps=1.5 q=-0.0 size=N/A time=00:01:41.00 bitrate=N/A dup=0 drop=2432 speed=1.43x    \r"
     ]
    },
    {
     "name": "stdout",
     "output_type": "stream",
     "text": [
      "[download]  71.4% of ~ 220.45MiB at    2.00MiB/s ETA 00:36 (frag 54/77)"
     ]
    },
    {
     "name": "stderr",
     "output_type": "stream",
     "text": [
      "frame=   82 fps=1.5 q=-0.0 size=N/A time=00:01:20.00 bitrate=N/A dup=0 drop=1929 speed=1.44x    \r"
     ]
    },
    {
     "name": "stdout",
     "output_type": "stream",
     "text": [
      "[download]  19.0% of   21.05MiB at    2.73MiB/s ETA 00:067 (frag 58/183)"
     ]
    },
    {
     "name": "stderr",
     "output_type": "stream",
     "text": [
      "frame=  104 fps=1.5 q=-0.0 size=N/A time=00:01:42.00 bitrate=N/A dup=0 drop=2454 speed=1.43x    \r"
     ]
    },
    {
     "name": "stdout",
     "output_type": "stream",
     "text": [
      "[download]  70.6% of ~ 225.88MiB at    2.29MiB/s ETA 00:32 (frag 55/77))"
     ]
    },
    {
     "name": "stderr",
     "output_type": "stream",
     "text": [
      "frame=   97 fps=1.4 q=-0.0 size=N/A time=00:01:35.00 bitrate=N/A dup=0 drop=2276 speed=1.35x    \r"
     ]
    },
    {
     "name": "stdout",
     "output_type": "stream",
     "text": [
      "[download]  32.7% of ~ 415.77MiB at    2.55MiB/s ETA 02:25 (frag 58/183)"
     ]
    },
    {
     "name": "stderr",
     "output_type": "stream",
     "text": [
      "frame=   20 fps=0.3 q=-0.0 size=N/A time=00:00:18.00 bitrate=N/A dup=0 drop=443 speed=0.251x    \r"
     ]
    },
    {
     "name": "stdout",
     "output_type": "stream",
     "text": [
      "[download]  72.7% of ~ 219.17MiB at    1.71MiB/s ETA 00:36 (frag 55/77))"
     ]
    },
    {
     "name": "stderr",
     "output_type": "stream",
     "text": [
      "frame=   97 fps=1.4 q=-0.0 size=N/A time=00:01:35.00 bitrate=N/A dup=0 drop=2293 speed=1.34x    \r"
     ]
    },
    {
     "name": "stdout",
     "output_type": "stream",
     "text": [
      "[download]  72.8% of ~ 219.50MiB at    1.51MiB/s ETA 00:38 (frag 55/77)"
     ]
    },
    {
     "name": "stderr",
     "output_type": "stream",
     "text": [
      "frame=   20 fps=0.3 q=-0.0 size=N/A time=00:00:18.00 bitrate=N/A dup=0 drop=447 speed=0.249x    \r"
     ]
    },
    {
     "name": "stdout",
     "output_type": "stream",
     "text": [
      "[download]  72.9% of ~ 221.91MiB at    1.85MiB/s ETA 00:36 (frag 55/77))"
     ]
    },
    {
     "name": "stderr",
     "output_type": "stream",
     "text": [
      "frame=   97 fps=1.2 q=-0.0 size=N/A time=00:01:35.00 bitrate=N/A dup=0 drop=2282 speed= 1.2x    \r"
     ]
    },
    {
     "name": "stdout",
     "output_type": "stream",
     "text": [
      "[download]  47.0% of   21.05MiB at    1.15MiB/s ETA 00:092 (frag 59/183)"
     ]
    },
    {
     "name": "stderr",
     "output_type": "stream",
     "text": [
      "frame=   85 fps=1.5 q=-0.0 size=N/A time=00:01:23.00 bitrate=N/A dup=0 drop=1988 speed=1.44x    \r"
     ]
    },
    {
     "name": "stdout",
     "output_type": "stream",
     "text": [
      "[download]  32.4% of ~ 424.40MiB at    3.01MiB/s ETA 01:56 (frag 60/183)"
     ]
    },
    {
     "name": "stderr",
     "output_type": "stream",
     "text": [
      "frame=  107 fps=1.5 q=-0.0 size=N/A time=00:01:45.00 bitrate=N/A dup=0 drop=2536 speed=1.43x    \r"
     ]
    },
    {
     "name": "stdout",
     "output_type": "stream",
     "text": [
      "[download]  74.0% of ~ 218.57MiB at    1.77MiB/s ETA 00:35 (frag 56/77)"
     ]
    },
    {
     "name": "stderr",
     "output_type": "stream",
     "text": [
      "frame=   99 fps=1.4 q=-0.0 size=N/A time=00:01:37.00 bitrate=N/A dup=0 drop=2324 speed=1.35x    \r"
     ]
    },
    {
     "name": "stdout",
     "output_type": "stream",
     "text": [
      "[download]  33.5% of ~ 414.20MiB at    2.41MiB/s ETA 02:01 (frag 60/183)"
     ]
    },
    {
     "name": "stderr",
     "output_type": "stream",
     "text": [
      "frame=  108 fps=1.5 q=-0.0 size=N/A time=00:01:46.00 bitrate=N/A dup=0 drop=2552 speed=1.43x    \r"
     ]
    },
    {
     "name": "stdout",
     "output_type": "stream",
     "text": [
      "[download]  33.0% of ~ 421.63MiB at    2.40MiB/s ETA 02:00 (frag 61/183)"
     ]
    },
    {
     "name": "stderr",
     "output_type": "stream",
     "text": [
      "frame=   99 fps=1.4 q=-0.0 size=N/A time=00:01:37.00 bitrate=N/A dup=0 drop=2346 speed=1.34x    \r"
     ]
    },
    {
     "name": "stdout",
     "output_type": "stream",
     "text": [
      "[download] 100% of   21.05MiB in 00:00:04 at 4.42MiB/s   2 (frag 57/77)\n"
     ]
    },
    {
     "name": "stderr",
     "output_type": "stream",
     "text": [
      "frame=  100 fps=1.4 q=-0.0 size=N/A time=00:01:38.00 bitrate=N/A dup=0 drop=2348 speed=1.34x    \r"
     ]
    },
    {
     "name": "stdout",
     "output_type": "stream",
     "text": [
      "[download] Destination: ./dataset_splited/MoxFkJlVZlA/video_480p.f251.webm\n",
      "[download]  33.9% of ~ 410.80MiB at    1.40MiB/s ETA 02:45 (frag 61/183)"
     ]
    },
    {
     "name": "stderr",
     "output_type": "stream",
     "text": [
      "frame=  110 fps=1.5 q=-0.0 size=N/A time=00:01:48.00 bitrate=N/A dup=0 drop=2588 speed=1.44x    \r"
     ]
    },
    {
     "name": "stdout",
     "output_type": "stream",
     "text": [
      "[download]  75.3% of ~ 220.10MiB at    2.17MiB/s ETA 00:30 (frag 57/77))"
     ]
    },
    {
     "name": "stderr",
     "output_type": "stream",
     "text": [
      "frame=   21 fps=0.3 q=-0.0 size=N/A time=00:00:19.00 bitrate=N/A dup=0 drop=467 speed=0.253x    \r"
     ]
    },
    {
     "name": "stdout",
     "output_type": "stream",
     "text": [
      "[download] 100% of    3.76MiB in 00:00:00 at 4.21MiB/s   8 (frag 57/77))\n",
      "[download]  75.8% of ~ 221.39MiB at    2.28MiB/s ETA 00:28 (frag 57/77)"
     ]
    },
    {
     "name": "stderr",
     "output_type": "stream",
     "text": [
      "frame=   19 fps=0.3 q=-0.0 size=N/A time=00:00:17.00 bitrate=N/A dup=0 drop=421 speed=0.238x    \r"
     ]
    },
    {
     "name": "stdout",
     "output_type": "stream",
     "text": [
      "[download]  74.1% of ~ 227.55MiB at    2.40MiB/s ETA 00:27 (frag 58/77))"
     ]
    },
    {
     "name": "stderr",
     "output_type": "stream",
     "text": [
      "frame=   21 fps=0.3 q=-0.0 size=N/A time=00:00:19.00 bitrate=N/A dup=0 drop=472 speed=0.251x    \r"
     ]
    },
    {
     "name": "stdout",
     "output_type": "stream",
     "text": [
      "[Merger] Merging formats into \"./dataset_splited/MoxFkJlVZlA/video_480p.webm\"\n"
     ]
    },
    {
     "name": "stderr",
     "output_type": "stream",
     "text": [
      "frame=   21 fps=0.3 q=-0.0 size=N/A time=00:00:19.00 bitrate=N/A dup=0 drop=475 speed=0.249x    \r"
     ]
    },
    {
     "name": "stdout",
     "output_type": "stream",
     "text": [
      "[download]  34.4% of ~ 411.19MiB at    1.38MiB/s ETA 03:02 (frag 62/183)"
     ]
    },
    {
     "name": "stderr",
     "output_type": "stream",
     "text": [
      "frame=  113 fps=1.5 q=-0.0 size=N/A time=00:01:51.00 bitrate=N/A dup=0 drop=2660 speed=1.44x    \r"
     ]
    },
    {
     "name": "stdout",
     "output_type": "stream",
     "text": [
      "[download]  76.7% of ~ 220.09MiB at    1.58MiB/s ETA 00:31 (frag 58/77))"
     ]
    },
    {
     "name": "stderr",
     "output_type": "stream",
     "text": [
      "frame=   22 fps=0.3 q=-0.0 size=N/A time=00:00:20.00 bitrate=N/A dup=0 drop=478 speed=0.261x    \r"
     ]
    },
    {
     "name": "stdout",
     "output_type": "stream",
     "text": [
      "[download]  76.8% of ~ 220.66MiB at    1.34MiB/s ETA 00:34 (frag 58/77))"
     ]
    },
    {
     "name": "stderr",
     "output_type": "stream",
     "text": [
      "frame=   22 fps=0.3 q=-0.0 size=N/A time=00:00:20.00 bitrate=N/A dup=0 drop=479 speed=0.259x    \r"
     ]
    },
    {
     "name": "stdout",
     "output_type": "stream",
     "text": [
      "[download]  34.3% of ~ 415.34MiB at    1.17MiB/s ETA 03:32 (frag 63/183)"
     ]
    },
    {
     "name": "stderr",
     "output_type": "stream",
     "text": [
      "frame=  113 fps=1.5 q=-0.0 size=N/A time=00:01:51.00 bitrate=N/A dup=0 drop=2682 speed=1.43x    \r"
     ]
    },
    {
     "name": "stdout",
     "output_type": "stream",
     "text": [
      "[download]  76.7% of ~ 225.23MiB at    1.96MiB/s ETA 00:31 (frag 58/77)"
     ]
    },
    {
     "name": "stderr",
     "output_type": "stream",
     "text": [
      "frame=   92 fps=1.5 q=-0.0 size=N/A time=00:01:30.00 bitrate=N/A dup=0 drop=2165 speed=1.44x    \r"
     ]
    },
    {
     "name": "stdout",
     "output_type": "stream",
     "text": [
      "[download]  35.0% of ~ 406.84MiB at  816.35KiB/s ETA 04:37 (frag 63/183)"
     ]
    },
    {
     "name": "stderr",
     "output_type": "stream",
     "text": [
      "frame=   20 fps=0.3 q=-0.0 size=N/A time=00:00:18.00 bitrate=N/A dup=0 drop=443 speed=0.243x    \r"
     ]
    },
    {
     "name": "stdout",
     "output_type": "stream",
     "text": [
      "[download]  35.1% of ~ 408.22MiB at  603.45KiB/s ETA 06:08 (frag 63/183)"
     ]
    },
    {
     "name": "stderr",
     "output_type": "stream",
     "text": [
      "frame=  114 fps=1.5 q=-0.0 size=N/A time=00:01:52.00 bitrate=N/A dup=0 drop=2705 speed=1.43x    \r"
     ]
    },
    {
     "name": "stdout",
     "output_type": "stream",
     "text": [
      "[download]  34.5% of ~ 417.20MiB at  862.53KiB/s ETA 05:48 (frag 64/183)"
     ]
    },
    {
     "name": "stderr",
     "output_type": "stream",
     "text": [
      "frame=   22 fps=0.3 q=-0.0 size=N/A time=00:00:20.00 bitrate=N/A dup=0 drop=490 speed=0.254x    \r"
     ]
    },
    {
     "name": "stdout",
     "output_type": "stream",
     "text": [
      "[download]  78.0% of ~ 221.72MiB at    1.93MiB/s ETA 00:29 (frag 59/77)"
     ]
    },
    {
     "name": "stderr",
     "output_type": "stream",
     "text": [
      "frame=  102 fps=1.2 q=-0.0 size=N/A time=00:01:40.00 bitrate=N/A dup=0 drop=2413 speed=1.17x    \r"
     ]
    },
    {
     "name": "stdout",
     "output_type": "stream",
     "text": [
      "[download]  78.2% of ~ 222.84MiB at    2.11MiB/s ETA 00:28 (frag 59/77)"
     ]
    },
    {
     "name": "stderr",
     "output_type": "stream",
     "text": [
      "frame=   21 fps=0.3 q=-0.0 size=N/A time=00:00:19.00 bitrate=N/A dup=0 drop=452 speed=0.253x    \r"
     ]
    },
    {
     "name": "stdout",
     "output_type": "stream",
     "text": [
      "[download]  35.5% of ~ 405.70MiB at  936.57KiB/s ETA 05:28 (frag 64/183)"
     ]
    },
    {
     "name": "stderr",
     "output_type": "stream",
     "text": [
      "frame=  102 fps=1.2 q=-0.0 size=N/A time=00:01:40.00 bitrate=N/A dup=0 drop=2419 speed=1.16x    \r"
     ]
    },
    {
     "name": "stdout",
     "output_type": "stream",
     "text": [
      "[download]  35.7% of ~ 408.47MiB at    1.09MiB/s ETA 05:03 (frag 64/183)"
     ]
    },
    {
     "name": "stderr",
     "output_type": "stream",
     "text": [
      "frame=   26 fps=0.3 q=-0.0 size=N/A time=00:00:24.00 bitrate=N/A dup=0 drop=691 speed=0.281x    \r"
     ]
    },
    {
     "name": "stdout",
     "output_type": "stream",
     "text": [
      "[download]  79.2% of ~ 220.07MiB at    2.05MiB/s ETA 00:26 (frag 60/77))"
     ]
    },
    {
     "name": "stderr",
     "output_type": "stream",
     "text": [
      "frame=   22 fps=0.3 q=-0.0 size=N/A time=00:00:20.00 bitrate=N/A dup=0 drop=495 speed=0.251x    \r"
     ]
    },
    {
     "name": "stdout",
     "output_type": "stream",
     "text": [
      "[download]  79.3% of ~ 220.23MiB at    1.66MiB/s ETA 00:27 (frag 60/77)"
     ]
    },
    {
     "name": "stderr",
     "output_type": "stream",
     "text": [
      "frame=  103 fps=1.2 q=-0.0 size=N/A time=00:01:41.00 bitrate=N/A dup=0 drop=2427 speed=1.16x    \r"
     ]
    },
    {
     "name": "stdout",
     "output_type": "stream",
     "text": [
      "[download]  36.1% of ~ 403.93MiB at    1.25MiB/s ETA 04:34 (frag 65/183)"
     ]
    },
    {
     "name": "stderr",
     "output_type": "stream",
     "text": [
      "frame=  117 fps=1.4 q=-0.0 size=N/A time=00:01:55.00 bitrate=N/A dup=0 drop=2770 speed=1.42x    \r"
     ]
    },
    {
     "name": "stdout",
     "output_type": "stream",
     "text": [
      "[download]  36.2% of ~ 405.27MiB at    1.34MiB/s ETA 04:17 (frag 65/183)"
     ]
    },
    {
     "name": "stderr",
     "output_type": "stream",
     "text": [
      "frame=   21 fps=0.3 q=-0.0 size=N/A time=00:00:19.00 bitrate=N/A dup=0 drop=465 speed=0.249x    \r"
     ]
    },
    {
     "name": "stdout",
     "output_type": "stream",
     "text": [
      "[download]  36.3% of ~ 409.43MiB at    1.70MiB/s ETA 03:53 (frag 65/183)"
     ]
    },
    {
     "name": "stderr",
     "output_type": "stream",
     "text": [
      "frame=  104 fps=1.2 q=-0.0 size=N/A time=00:01:42.00 bitrate=N/A dup=0 drop=2444 speed=1.16x    \r"
     ]
    },
    {
     "name": "stdout",
     "output_type": "stream",
     "text": [
      "[download]  35.3% of ~ 421.22MiB at    1.84MiB/s ETA 03:42 (frag 66/183)"
     ]
    },
    {
     "name": "stderr",
     "output_type": "stream",
     "text": [
      "frame=  118 fps=1.5 q=-0.0 size=N/A time=00:01:56.00 bitrate=N/A dup=0 drop=2790 speed=1.43x    \r"
     ]
    },
    {
     "name": "stdout",
     "output_type": "stream",
     "text": [
      "[download]  36.6% of ~ 406.74MiB at    1.67MiB/s ETA 03:20 (frag 66/183)"
     ]
    },
    {
     "name": "stderr",
     "output_type": "stream",
     "text": [
      "frame=  119 fps=1.5 q=-0.0 size=N/A time=00:01:57.00 bitrate=N/A dup=0 drop=2804 speed=1.43x    \r"
     ]
    },
    {
     "name": "stdout",
     "output_type": "stream",
     "text": [
      "[download]  36.9% of ~ 409.13MiB at    2.10MiB/s ETA 02:57 (frag 66/183)"
     ]
    },
    {
     "name": "stderr",
     "output_type": "stream",
     "text": [
      "frame=   22 fps=0.3 q=-0.0 size=N/A time=00:00:20.00 bitrate=N/A dup=0 drop=476 speed=0.257x    \r"
     ]
    },
    {
     "name": "stdout",
     "output_type": "stream",
     "text": [
      "[download]  36.0% of ~ 421.18MiB at    2.34MiB/s ETA 02:43 (frag 67/183)"
     ]
    },
    {
     "name": "stderr",
     "output_type": "stream",
     "text": [
      "frame=   97 fps=1.4 q=-0.0 size=N/A time=00:01:35.00 bitrate=N/A dup=0 drop=2299 speed=1.42x    \r"
     ]
    },
    {
     "name": "stdout",
     "output_type": "stream",
     "text": [
      "[download]  81.8% of ~ 220.13MiB at    2.22MiB/s ETA 00:24 (frag 62/77)"
     ]
    },
    {
     "name": "stderr",
     "output_type": "stream",
     "text": [
      "frame=   23 fps=0.3 q=-0.0 size=N/A time=00:00:21.00 bitrate=N/A dup=0 drop=509 speed=0.256x    \r"
     ]
    },
    {
     "name": "stdout",
     "output_type": "stream",
     "text": [
      "[download]  81.9% of ~ 220.44MiB at    2.17MiB/s ETA 00:22 (frag 62/77)"
     ]
    },
    {
     "name": "stderr",
     "output_type": "stream",
     "text": [
      "frame=   98 fps=1.5 q=-0.0 size=N/A time=00:01:36.00 bitrate=N/A dup=0 drop=2318 speed=1.42x    \r"
     ]
    },
    {
     "name": "stdout",
     "output_type": "stream",
     "text": [
      "[download]  37.2% of ~ 408.04MiB at    2.34MiB/s ETA 02:28 (frag 67/183)"
     ]
    },
    {
     "name": "stderr",
     "output_type": "stream",
     "text": [
      "frame=   23 fps=0.3 q=-0.0 size=N/A time=00:00:21.00 bitrate=N/A dup=0 drop=513 speed=0.253x    \r"
     ]
    },
    {
     "name": "stdout",
     "output_type": "stream",
     "text": [
      "[download]  37.4% of ~ 410.39MiB at    2.43MiB/s ETA 02:16 (frag 67/183)Deleting original file ./dataset_splited/MoxFkJlVZlA/video_480p.f251.webm (pass -k to keep)\n",
      "Deleting original file ./dataset_splited/MoxFkJlVZlA/video_480p.f244.webm (pass -k to keep)\n"
     ]
    },
    {
     "name": "stderr",
     "output_type": "stream",
     "text": [
      "frame=   23 fps=0.3 q=-0.0 size=N/A time=00:00:21.00 bitrate=N/A dup=0 drop=518 speed=0.251x    \r"
     ]
    },
    {
     "name": "stdout",
     "output_type": "stream",
     "text": [
      "[download]  83.1% of ~ 218.77MiB at    2.08MiB/s ETA 00:21 (frag 63/77))"
     ]
    },
    {
     "name": "stderr",
     "output_type": "stream",
     "text": [
      "frame=   27 fps=0.3 q=-0.0 size=N/A time=00:00:25.00 bitrate=N/A dup=0 drop=720 speed=0.279x    \r"
     ]
    },
    {
     "name": "stdout",
     "output_type": "stream",
     "text": [
      "[download]  83.3% of ~ 219.35MiB at    1.72MiB/s ETA 00:22 (frag 63/77)"
     ]
    },
    {
     "name": "stderr",
     "output_type": "stream",
     "text": [
      "frame=  122 fps=1.4 q=-0.0 size=N/A time=00:02:00.00 bitrate=N/A dup=0 drop=2896 speed=1.42x    \r"
     ]
    },
    {
     "name": "stdout",
     "output_type": "stream",
     "text": [
      "[download]  84.0% of ~ 221.16MiB at    1.94MiB/s ETA 00:21 (frag 63/77)"
     ]
    },
    {
     "name": "stderr",
     "output_type": "stream",
     "text": [
      "frame=   27 fps=0.3 q=-0.0 size=N/A time=00:00:25.00 bitrate=N/A dup=0 drop=723 speed=0.277x    \r"
     ]
    },
    {
     "name": "stdout",
     "output_type": "stream",
     "text": [
      "[download]  37.7% of ~ 409.09MiB at    2.08MiB/s ETA 02:19 (frag 68/183)"
     ]
    },
    {
     "name": "stderr",
     "output_type": "stream",
     "text": [
      "frame=  109 fps=1.3 q=-0.0 size=N/A time=00:01:47.00 bitrate=N/A dup=0 drop=2587 speed=1.28x    \r"
     ]
    },
    {
     "name": "stdout",
     "output_type": "stream",
     "text": [
      "[download]  37.8% of ~ 409.73MiB at    1.53MiB/s ETA 02:41 (frag 68/183)"
     ]
    },
    {
     "name": "stderr",
     "output_type": "stream",
     "text": [
      "frame=   27 fps=0.3 q=-0.0 size=N/A time=00:00:25.00 bitrate=N/A dup=0 drop=727 speed=0.276x    \r"
     ]
    },
    {
     "name": "stdout",
     "output_type": "stream",
     "text": [
      "[download]  37.9% of ~ 411.72MiB at    1.59MiB/s ETA 02:42 (frag 68/183)"
     ]
    },
    {
     "name": "stderr",
     "output_type": "stream",
     "text": [
      "frame=  123 fps=1.4 q=-0.0 size=N/A time=00:02:01.00 bitrate=N/A dup=0 drop=2923 speed=1.41x    \r"
     ]
    },
    {
     "name": "stdout",
     "output_type": "stream",
     "text": [
      "[download]  37.7% of ~ 419.68MiB at    2.04MiB/s ETA 02:31 (frag 68/183)"
     ]
    },
    {
     "name": "stderr",
     "output_type": "stream",
     "text": [
      "frame=   27 fps=0.3 q=-0.0 size=N/A time=00:00:25.00 bitrate=N/A dup=0 drop=733 speed=0.274x    \r"
     ]
    },
    {
     "name": "stdout",
     "output_type": "stream",
     "text": [
      "[download]  36.8% of ~ 430.49MiB at    2.11MiB/s ETA 02:28 (frag 69/183)"
     ]
    },
    {
     "name": "stderr",
     "output_type": "stream",
     "text": [
      "frame=  124 fps=1.4 q=-0.0 size=N/A time=00:02:02.00 bitrate=N/A dup=0 drop=2937 speed=1.42x    \r"
     ]
    },
    {
     "name": "stdout",
     "output_type": "stream",
     "text": [
      "[download]  84.4% of ~ 220.26MiB at    1.73MiB/s ETA 00:21 (frag 64/77)"
     ]
    },
    {
     "name": "stderr",
     "output_type": "stream",
     "text": [
      "frame=   27 fps=0.3 q=-0.0 size=N/A time=00:00:25.00 bitrate=N/A dup=0 drop=737 speed=0.272x    \r"
     ]
    },
    {
     "name": "stdout",
     "output_type": "stream",
     "text": [
      "[download]  84.6% of ~ 220.84MiB at    1.80MiB/s ETA 00:20 (frag 64/77)"
     ]
    },
    {
     "name": "stderr",
     "output_type": "stream",
     "text": [
      "frame=  125 fps=1.4 q=-0.0 size=N/A time=00:02:03.00 bitrate=N/A dup=0 drop=2953 speed=1.42x    \r"
     ]
    },
    {
     "name": "stdout",
     "output_type": "stream",
     "text": [
      "[download]  38.5% of ~ 416.39MiB at    2.21MiB/s ETA 02:22 (frag 69/183)"
     ]
    },
    {
     "name": "stderr",
     "output_type": "stream",
     "text": [
      "frame=  112 fps=1.3 q=-0.0 size=N/A time=00:01:50.00 bitrate=N/A dup=0 drop=2636 speed=1.28x    \r"
     ]
    },
    {
     "name": "stdout",
     "output_type": "stream",
     "text": [
      "[download]  37.6% of ~ 429.50MiB at    2.57MiB/s ETA 02:12 (frag 70/183)"
     ]
    },
    {
     "name": "stderr",
     "output_type": "stream",
     "text": [
      "frame=  126 fps=1.4 q=-0.0 size=N/A time=00:02:04.00 bitrate=N/A dup=0 drop=2974 speed=1.42x    \r"
     ]
    },
    {
     "name": "stdout",
     "output_type": "stream",
     "text": [
      "[download]  85.9% of ~ 219.37MiB at    1.11MiB/s ETA 00:25 (frag 65/77)"
     ]
    },
    {
     "name": "stderr",
     "output_type": "stream",
     "text": [
      "frame=  113 fps=1.3 q=-0.0 size=N/A time=00:01:51.00 bitrate=N/A dup=0 drop=2660 speed=1.29x    \r"
     ]
    },
    {
     "name": "stdout",
     "output_type": "stream",
     "text": [
      "[download]  38.8% of ~ 415.70MiB at    2.52MiB/s ETA 02:09 (frag 70/183)"
     ]
    },
    {
     "name": "stderr",
     "output_type": "stream",
     "text": [
      "ffmpeg version 4.2.7-0ubuntu0.1 Copyright (c) 2000-2022 the FFmpeg developers999 speed=1.42x    \n",
      "  built with gcc 9 (Ubuntu 9.4.0-1ubuntu1~20.04.1)\n",
      "  configuration: --prefix=/usr --extra-version=0ubuntu0.1 --toolchain=hardened --libdir=/usr/lib/x86_64-linux-gnu --incdir=/usr/include/x86_64-linux-gnu --arch=amd64 --enable-gpl --disable-stripping --enable-avresample --disable-filter=resample --enable-avisynth --enable-gnutls --enable-ladspa --enable-libaom --enable-libass --enable-libbluray --enable-libbs2b --enable-libcaca --enable-libcdio --enable-libcodec2 --enable-libflite --enable-libfontconfig --enable-libfreetype --enable-libfribidi --enable-libgme --enable-libgsm --enable-libjack --enable-libmp3lame --enable-libmysofa --enable-libopenjpeg --enable-libopenmpt --enable-libopus --enable-libpulse --enable-librsvg --enable-librubberband --enable-libshine --enable-libsnappy --enable-libsoxr --enable-libspeex --enable-libssh --enable-libtheora --enable-libtwolame --enable-libvidstab --enable-libvorbis --enable-libvpx --enable-libwavpack --enable-libwebp --enable-libx265 --enable-libxml2 --enable-libxvid --enable-libzmq --enable-libzvbi --enable-lv2 --enable-omx --enable-openal --enable-opencl --enable-opengl --enable-sdl2 --enable-libdc1394 --enable-libdrm --enable-libiec61883 --enable-nvenc --enable-chromaprint --enable-frei0r --enable-libx264 --enable-shared\n",
      "  libavutil      56. 31.100 / 56. 31.100\n",
      "  libavcodec     58. 54.100 / 58. 54.100\n",
      "  libavformat    58. 29.100 / 58. 29.100\n",
      "  libavdevice    58.  8.100 / 58.  8.100\n",
      "  libavfilter     7. 57.100 /  7. 57.100\n",
      "  libavresample   4.  0.  0 /  4.  0.  0\n",
      "  libswscale      5.  5.100 /  5.  5.100\n",
      "  libswresample   3.  5.100 /  3.  5.100\n",
      "  libpostproc    55.  5.100 / 55.  5.100\n"
     ]
    },
    {
     "name": "stdout",
     "output_type": "stream",
     "text": [
      "[download]  38.9% of ~ 416.34MiB at    2.46MiB/s ETA 02:05 (frag 70/183)"
     ]
    },
    {
     "name": "stderr",
     "output_type": "stream",
     "text": [
      "Input #0, matroska,webm, from './dataset_splited/MoxFkJlVZlA/video_480p.webm':92 speed=1.43x    \n",
      "frame=   28 fps=0.3 q=-0.0 size=N/A time=00:00:26.00 bitrate=N/A dup=0 drop=753 speed=0.277x    \r"
     ]
    },
    {
     "name": "stdout",
     "output_type": "stream",
     "text": [
      "[download]  39.0% of ~ 418.28MiB at    2.42MiB/s ETA 02:01 (frag 70/183)"
     ]
    },
    {
     "name": "stderr",
     "output_type": "stream",
     "text": [
      "  Metadata: fps=1.2 q=-0.0 size=N/A time=00:01:50.00 bitrate=N/A dup=0 drop=2644 speed=1.16x    \n",
      "    ENCODER         : Lavf58.29.100\n",
      "  Duration: 00:04:09.02, start: -0.007000, bitrate: 835 kb/s\n",
      "    Stream #0:0(eng): Video: vp9 (Profile 0), yuv420p(tv, bt709), 854x480, SAR 1:1 DAR 427:240, 25 fps, 25 tbr, 1k tbn, 1k tbc (default)\n",
      "    Metadata:\n",
      "      DURATION        : 00:04:09.000000000\n",
      "    Stream #0:1(eng): Audio: opus, 48000 Hz, stereo, fltp (default)\n",
      "    Metadata:\n",
      "      DURATION        : 00:04:09.021000000\n",
      "Stream mapping:\n",
      "  Stream #0:0 -> #0:0 (vp9 (native) -> png (native))\n",
      "Press [q] to stop, [?] for help\n",
      "frame=   24 fps=0.3 q=-0.0 size=N/A time=00:00:22.00 bitrate=N/A dup=0 drop=528 speed=0.261x    \r"
     ]
    },
    {
     "name": "stdout",
     "output_type": "stream",
     "text": [
      "[download]  87.0% of ~ 218.52MiB at    1.58MiB/s ETA 00:22 (frag 66/77))"
     ]
    },
    {
     "name": "stderr",
     "output_type": "stream",
     "text": [
      "Output #0, image2, to './dataset_splited/MoxFkJlVZlA/frames_480p/frame-%04d.png':\n",
      "  Metadata:\n",
      "    encoder         : Lavf58.29.100\n",
      "    Stream #0:0(eng): Video: png, rgb24, 854x480 [SAR 1:1 DAR 427:240], q=2-31, 200 kb/s, 1 fps, 1 tbn, 1 tbc (default)\n",
      "    Metadata:\n",
      "      DURATION        : 00:04:09.000000000\n",
      "      encoder         : Lavc58.54.100 png\n",
      "frame=  112 fps=1.2 q=-0.0 size=N/A time=00:01:50.00 bitrate=N/A dup=0 drop=2657 speed=1.15x    \r"
     ]
    },
    {
     "name": "stdout",
     "output_type": "stream",
     "text": [
      "[download]  87.2% of ~ 219.02MiB at    1.64MiB/s ETA 00:21 (frag 66/77)"
     ]
    },
    {
     "name": "stderr",
     "output_type": "stream",
     "text": [
      "frame=   24 fps=0.3 q=-0.0 size=N/A time=00:00:22.00 bitrate=N/A dup=0 drop=531 speed=0.26x     \r"
     ]
    },
    {
     "name": "stdout",
     "output_type": "stream",
     "text": [
      "[download]  87.5% of ~ 219.59MiB at    1.79MiB/s ETA 00:20 (frag 66/77)"
     ]
    },
    {
     "name": "stderr",
     "output_type": "stream",
     "text": [
      "frame=  113 fps=1.2 q=-0.0 size=N/A time=00:01:51.00 bitrate=N/A dup=0 drop=2671 speed=1.16x    \r"
     ]
    },
    {
     "name": "stdout",
     "output_type": "stream",
     "text": [
      "[download]  39.3% of ~ 419.30MiB at    2.41MiB/s ETA 01:58 (frag 71/183)"
     ]
    },
    {
     "name": "stderr",
     "output_type": "stream",
     "text": [
      "frame=   28 fps=0.3 q=-0.0 size=N/A time=00:00:26.00 bitrate=N/A dup=0 drop=764 speed=0.274x    \r"
     ]
    },
    {
     "name": "stdout",
     "output_type": "stream",
     "text": [
      "[download]  39.5% of ~ 420.53MiB at    2.38MiB/s ETA 01:54 (frag 71/183)"
     ]
    },
    {
     "name": "stderr",
     "output_type": "stream",
     "text": [
      "frame=  113 fps=1.2 q=-0.0 size=N/A time=00:01:51.00 bitrate=N/A dup=0 drop=2683 speed=1.15x    \r"
     ]
    },
    {
     "name": "stdout",
     "output_type": "stream",
     "text": [
      "[download]  39.6% of ~ 421.80MiB at    2.44MiB/s ETA 01:53 (frag 71/183)"
     ]
    },
    {
     "name": "stderr",
     "output_type": "stream",
     "text": [
      "frame=  116 fps=1.3 q=-0.0 size=N/A time=00:01:54.00 bitrate=N/A dup=0 drop=2732 speed=1.29x    \r"
     ]
    },
    {
     "name": "stdout",
     "output_type": "stream",
     "text": [
      "[download]  88.3% of ~ 219.45MiB at    2.19MiB/s ETA 00:18 (frag 67/77))"
     ]
    },
    {
     "name": "stderr",
     "output_type": "stream",
     "text": [
      "frame=  130 fps=1.4 q=-0.0 size=N/A time=00:02:08.00 bitrate=N/A dup=0 drop=3083 speed=1.42x    \r"
     ]
    },
    {
     "name": "stdout",
     "output_type": "stream",
     "text": [
      "[download]  88.5% of ~ 219.98MiB at    2.22MiB/s ETA 00:16 (frag 67/77))"
     ]
    },
    {
     "name": "stderr",
     "output_type": "stream",
     "text": [
      "frame=   24 fps=0.3 q=-0.0 size=N/A time=00:00:22.00 bitrate=N/A dup=0 drop=543 speed=0.254x    \r"
     ]
    },
    {
     "name": "stdout",
     "output_type": "stream",
     "text": [
      "[download]  88.8% of ~ 220.55MiB at    2.19MiB/s ETA 00:15 (frag 67/77)"
     ]
    },
    {
     "name": "stderr",
     "output_type": "stream",
     "text": [
      "frame=  109 fps=1.4 q=-0.0 size=N/A time=00:01:47.00 bitrate=N/A dup=0 drop=2564 speed=1.42x    \r"
     ]
    },
    {
     "name": "stdout",
     "output_type": "stream",
     "text": [
      "[download]  89.2% of ~ 221.68MiB at    2.46MiB/s ETA 00:15 (frag 67/77)"
     ]
    },
    {
     "name": "stderr",
     "output_type": "stream",
     "text": [
      "frame=  117 fps=1.3 q=-0.0 size=N/A time=00:01:55.00 bitrate=N/A dup=0 drop=2763 speed=1.28x    \r"
     ]
    },
    {
     "name": "stdout",
     "output_type": "stream",
     "text": [
      "[download]  39.9% of ~ 424.49MiB at    2.45MiB/s ETA 01:49 (frag 72/183)"
     ]
    },
    {
     "name": "stderr",
     "output_type": "stream",
     "text": [
      "frame=   29 fps=0.3 q=-0.0 size=N/A time=00:00:27.00 bitrate=N/A dup=0 drop=778 speed=0.279x    \r"
     ]
    },
    {
     "name": "stdout",
     "output_type": "stream",
     "text": [
      "[download]  39.9% of ~ 424.78MiB at    2.09MiB/s ETA 01:56 (frag 72/183)"
     ]
    },
    {
     "name": "stderr",
     "output_type": "stream",
     "text": [
      "frame=  131 fps=1.4 q=-0.0 size=N/A time=00:02:09.00 bitrate=N/A dup=0 drop=3115 speed=1.41x    \r"
     ]
    },
    {
     "name": "stdout",
     "output_type": "stream",
     "text": [
      "[download]  40.0% of ~ 425.72MiB at    2.09MiB/s ETA 01:59 (frag 72/183)"
     ]
    },
    {
     "name": "stderr",
     "output_type": "stream",
     "text": [
      "frame=   29 fps=0.3 q=-0.0 size=N/A time=00:00:27.00 bitrate=N/A dup=0 drop=781 speed=0.278x    \r"
     ]
    },
    {
     "name": "stdout",
     "output_type": "stream",
     "text": [
      "[download]  40.2% of ~ 429.48MiB at    2.44MiB/s ETA 01:54 (frag 72/183)"
     ]
    },
    {
     "name": "stderr",
     "output_type": "stream",
     "text": [
      "frame=  116 fps=1.2 q=-0.0 size=N/A time=00:01:54.00 bitrate=N/A dup=0 drop=2736 speed=1.15x    \r"
     ]
    },
    {
     "name": "stdout",
     "output_type": "stream",
     "text": [
      "[download]  39.1% of ~ 441.98MiB at    2.52MiB/s ETA 01:52 (frag 73/183)"
     ]
    },
    {
     "name": "stderr",
     "output_type": "stream",
     "text": [
      "frame=   29 fps=0.3 q=-0.0 size=N/A time=00:00:27.00 bitrate=N/A dup=0 drop=786 speed=0.276x    \r"
     ]
    },
    {
     "name": "stdout",
     "output_type": "stream",
     "text": [
      "[download]  90.1% of ~ 221.78MiB at    2.02MiB/s ETA 00:13 (frag 68/77)"
     ]
    },
    {
     "name": "stderr",
     "output_type": "stream",
     "text": [
      "frame=  116 fps=1.2 q=-0.0 size=N/A time=00:01:54.00 bitrate=N/A dup=0 drop=2751 speed=1.15x    \r"
     ]
    },
    {
     "name": "stdout",
     "output_type": "stream",
     "text": [
      "[download]  89.7% of ~ 225.13MiB at    2.63MiB/s ETA 00:12 (frag 68/77))"
     ]
    },
    {
     "name": "stderr",
     "output_type": "stream",
     "text": [
      "frame=   29 fps=0.3 q=-0.0 size=N/A time=00:00:27.00 bitrate=N/A dup=0 drop=791 speed=0.274x    \r"
     ]
    },
    {
     "name": "stdout",
     "output_type": "stream",
     "text": [
      "[download]  87.8% of ~ 230.15MiB at    2.69MiB/s ETA 00:12 (frag 69/77))"
     ]
    },
    {
     "name": "stderr",
     "output_type": "stream",
     "text": [
      "frame=  117 fps=1.2 q=-0.0 size=N/A time=00:01:55.00 bitrate=N/A dup=0 drop=2768 speed=1.15x    \r"
     ]
    },
    {
     "name": "stdout",
     "output_type": "stream",
     "text": [
      "[download]  40.6% of ~ 428.61MiB at    1.69MiB/s ETA 02:13 (frag 73/183)"
     ]
    },
    {
     "name": "stderr",
     "output_type": "stream",
     "text": [
      "frame=  112 fps=1.4 q=-0.0 size=N/A time=00:01:50.00 bitrate=N/A dup=0 drop=2655 speed=1.41x    \r"
     ]
    },
    {
     "name": "stdout",
     "output_type": "stream",
     "text": [
      "[download]  90.9% of ~ 222.19MiB at    2.34MiB/s ETA 00:12 (frag 69/77))"
     ]
    },
    {
     "name": "stderr",
     "output_type": "stream",
     "text": [
      "frame=    6 fps=1.1 q=-0.0 size=N/A time=00:00:04.00 bitrate=N/A dup=0 drop=102 speed=0.726x    \r"
     ]
    },
    {
     "name": "stdout",
     "output_type": "stream",
     "text": [
      "[download]  90.9% of ~ 222.22MiB at    1.89MiB/s ETA 00:12 (frag 69/77))"
     ]
    },
    {
     "name": "stderr",
     "output_type": "stream",
     "text": [
      "frame=  135 fps=1.4 q=-0.0 size=N/A time=00:02:13.00 bitrate=N/A dup=0 drop=3199 speed=1.41x    \r"
     ]
    },
    {
     "name": "stdout",
     "output_type": "stream",
     "text": [
      "[download]  91.0% of ~ 222.46MiB at    1.87MiB/s ETA 00:12 (frag 69/77)"
     ]
    },
    {
     "name": "stderr",
     "output_type": "stream",
     "text": [
      "frame=   25 fps=0.3 q=-0.0 size=N/A time=00:00:23.00 bitrate=N/A dup=0 drop=566 speed=0.255x    \r"
     ]
    },
    {
     "name": "stdout",
     "output_type": "stream",
     "text": [
      "[download]  41.0% of ~ 428.87MiB at    2.10MiB/s ETA 02:07 (frag 74/183)"
     ]
    },
    {
     "name": "stderr",
     "output_type": "stream",
     "text": [
      "frame=  114 fps=1.4 q=-0.0 size=N/A time=00:01:52.00 bitrate=N/A dup=0 drop=2689 speed=1.41x    \r"
     ]
    },
    {
     "name": "stdout",
     "output_type": "stream",
     "text": [
      "[download]  41.0% of ~ 429.02MiB at    1.75MiB/s ETA 02:16 (frag 74/183)"
     ]
    },
    {
     "name": "stderr",
     "output_type": "stream",
     "text": [
      "frame=    7 fps=1.1 q=-0.0 size=N/A time=00:00:05.00 bitrate=N/A dup=0 drop=128 speed=0.762x    \r"
     ]
    },
    {
     "name": "stdout",
     "output_type": "stream",
     "text": [
      "[download]  41.1% of ~ 430.09MiB at    1.55MiB/s ETA 02:25 (frag 74/183)"
     ]
    },
    {
     "name": "stderr",
     "output_type": "stream",
     "text": [
      "frame=   26 fps=0.3 q=-0.0 size=N/A time=00:00:24.00 bitrate=N/A dup=0 drop=586 speed=0.253x    \r"
     ]
    },
    {
     "name": "stdout",
     "output_type": "stream",
     "text": [
      "[download]  92.3% of ~ 220.61MiB at    1.56MiB/s ETA 00:12 (frag 70/77))"
     ]
    },
    {
     "name": "stderr",
     "output_type": "stream",
     "text": [
      "frame=  121 fps=1.3 q=-0.0 size=N/A time=00:01:59.00 bitrate=N/A dup=0 drop=2873 speed=1.27x    \r"
     ]
    },
    {
     "name": "stdout",
     "output_type": "stream",
     "text": [
      "[download]  40.3% of ~ 443.54MiB at    1.92MiB/s ETA 02:20 (frag 75/183)"
     ]
    },
    {
     "name": "stderr",
     "output_type": "stream",
     "text": [
      "frame=  137 fps=1.4 q=-0.0 size=N/A time=00:02:15.00 bitrate=N/A dup=0 drop=3245 speed=1.41x    \r"
     ]
    },
    {
     "name": "stdout",
     "output_type": "stream",
     "text": [
      "[download]  92.7% of ~ 221.56MiB at    1.25MiB/s ETA 00:13 (frag 70/77)"
     ]
    },
    {
     "name": "stderr",
     "output_type": "stream",
     "text": [
      "frame=  116 fps=1.4 q=-0.0 size=N/A time=00:01:54.00 bitrate=N/A dup=0 drop=2743 speed=1.41x    \r"
     ]
    },
    {
     "name": "stdout",
     "output_type": "stream",
     "text": [
      "[download]  93.1% of ~ 222.64MiB at    1.43MiB/s ETA 00:12 (frag 70/77)"
     ]
    },
    {
     "name": "stderr",
     "output_type": "stream",
     "text": [
      "frame=  138 fps=1.4 q=-0.0 size=N/A time=00:02:16.00 bitrate=N/A dup=0 drop=3260 speed=1.41x    \r"
     ]
    },
    {
     "name": "stdout",
     "output_type": "stream",
     "text": [
      "[download]  41.5% of ~ 430.61MiB at    1.53MiB/s ETA 02:33 (frag 75/183)"
     ]
    },
    {
     "name": "stderr",
     "output_type": "stream",
     "text": [
      "frame=   26 fps=0.3 q=-0.0 size=N/A time=00:00:24.00 bitrate=N/A dup=0 drop=579 speed=0.26x     \r"
     ]
    },
    {
     "name": "stdout",
     "output_type": "stream",
     "text": [
      "[download]  41.6% of ~ 431.67MiB at    1.33MiB/s ETA 02:46 (frag 75/183)"
     ]
    },
    {
     "name": "stderr",
     "output_type": "stream",
     "text": [
      "frame=  138 fps=1.4 q=-0.0 size=N/A time=00:02:16.00 bitrate=N/A dup=0 drop=3276 speed= 1.4x    \r"
     ]
    },
    {
     "name": "stdout",
     "output_type": "stream",
     "text": [
      "[download]  41.8% of ~ 432.87MiB at    1.44MiB/s ETA 02:44 (frag 75/183)"
     ]
    },
    {
     "name": "stderr",
     "output_type": "stream",
     "text": [
      "frame=  117 fps=1.4 q=-0.0 size=N/A time=00:01:55.00 bitrate=N/A dup=0 drop=2779 speed=1.41x    \r"
     ]
    },
    {
     "name": "stdout",
     "output_type": "stream",
     "text": [
      "[download]  40.6% of ~ 451.43MiB at    2.16MiB/s ETA 02:27 (frag 76/183)"
     ]
    },
    {
     "name": "stderr",
     "output_type": "stream",
     "text": [
      "frame=   10 fps=1.1 q=-0.0 size=N/A time=00:00:08.00 bitrate=N/A dup=0 drop=188 speed=0.855x    \r"
     ]
    },
    {
     "name": "stdout",
     "output_type": "stream",
     "text": [
      "[download]  93.6% of ~ 222.29MiB at    1.81MiB/s ETA 00:10 (frag 71/77)"
     ]
    },
    {
     "name": "stderr",
     "output_type": "stream",
     "text": [
      "frame=   26 fps=0.3 q=-0.0 size=N/A time=00:00:24.00 bitrate=N/A dup=0 drop=586 speed=0.257x    \r"
     ]
    },
    {
     "name": "stdout",
     "output_type": "stream",
     "text": [
      "[download]  94.0% of ~ 223.10MiB at    1.94MiB/s ETA 00:10 (frag 71/77)"
     ]
    },
    {
     "name": "stderr",
     "output_type": "stream",
     "text": [
      "frame=  119 fps=1.4 q=-0.0 size=N/A time=00:01:57.00 bitrate=N/A dup=0 drop=2808 speed=1.41x    \r"
     ]
    },
    {
     "name": "stdout",
     "output_type": "stream",
     "text": [
      "[download]  42.1% of ~ 435.22MiB at    1.96MiB/s ETA 02:30 (frag 76/183)"
     ]
    },
    {
     "name": "stderr",
     "output_type": "stream",
     "text": [
      "frame=   26 fps=0.3 q=-0.0 size=N/A time=00:00:24.00 bitrate=N/A dup=0 drop=590 speed=0.255x    \r"
     ]
    },
    {
     "name": "stdout",
     "output_type": "stream",
     "text": [
      "[download]  42.1% of ~ 435.37MiB at    1.72MiB/s ETA 02:33 (frag 76/183)"
     ]
    },
    {
     "name": "stderr",
     "output_type": "stream",
     "text": [
      "frame=   27 fps=0.3 q=-0.0 size=N/A time=00:00:25.00 bitrate=N/A dup=0 drop=608 speed=0.254x    \r"
     ]
    },
    {
     "name": "stdout",
     "output_type": "stream",
     "text": [
      "[download]  42.1% of ~ 435.81MiB at    1.86MiB/s ETA 02:28 (frag 76/183)"
     ]
    },
    {
     "name": "stderr",
     "output_type": "stream",
     "text": [
      "frame=  119 fps=1.4 q=-0.0 size=N/A time=00:01:57.00 bitrate=N/A dup=0 drop=2824 speed= 1.4x    \r"
     ]
    },
    {
     "name": "stdout",
     "output_type": "stream",
     "text": [
      "[download]  42.3% of ~ 437.60MiB at    2.07MiB/s ETA 02:21 (frag 76/183)"
     ]
    },
    {
     "name": "stderr",
     "output_type": "stream",
     "text": [
      "frame=   27 fps=0.3 q=-0.0 size=N/A time=00:00:25.00 bitrate=N/A dup=0 drop=615 speed=0.253x    \r"
     ]
    },
    {
     "name": "stdout",
     "output_type": "stream",
     "text": [
      "[download]  42.5% of ~ 439.97MiB at    2.27MiB/s ETA 02:16 (frag 76/183)"
     ]
    },
    {
     "name": "stderr",
     "output_type": "stream",
     "text": [
      "frame=  141 fps=1.4 q=-0.0 size=N/A time=00:02:19.00 bitrate=N/A dup=0 drop=3355 speed= 1.4x    \r"
     ]
    },
    {
     "name": "stdout",
     "output_type": "stream",
     "text": [
      "[download]  94.8% of ~ 223.23MiB at    2.03MiB/s ETA 00:08 (frag 72/77))"
     ]
    },
    {
     "name": "stderr",
     "output_type": "stream",
     "text": [
      "frame=   27 fps=0.3 q=-0.0 size=N/A time=00:00:25.00 bitrate=N/A dup=0 drop=616 speed=0.251x    \r"
     ]
    },
    {
     "name": "stdout",
     "output_type": "stream",
     "text": [
      "[download]  94.9% of ~ 223.36MiB at    1.84MiB/s ETA 00:08 (frag 72/77)"
     ]
    },
    {
     "name": "stderr",
     "output_type": "stream",
     "text": [
      "frame=  126 fps=1.3 q=-0.0 size=N/A time=00:02:04.00 bitrate=N/A dup=0 drop=2974 speed=1.26x    \r"
     ]
    },
    {
     "name": "stdout",
     "output_type": "stream",
     "text": [
      "[download]  42.6% of ~ 438.27MiB at    1.69MiB/s ETA 02:27 (frag 77/183)"
     ]
    },
    {
     "name": "stderr",
     "output_type": "stream",
     "text": [
      "frame=  121 fps=1.4 q=-0.0 size=N/A time=00:01:59.00 bitrate=N/A dup=0 drop=2866 speed= 1.4x    \r"
     ]
    },
    {
     "name": "stdout",
     "output_type": "stream",
     "text": [
      "[download]  42.7% of ~ 439.43MiB at    1.68MiB/s ETA 02:32 (frag 77/183)"
     ]
    },
    {
     "name": "stderr",
     "output_type": "stream",
     "text": [
      "frame=   27 fps=0.3 q=-0.0 size=N/A time=00:00:25.00 bitrate=N/A dup=0 drop=603 speed=0.259x    \r"
     ]
    },
    {
     "name": "stdout",
     "output_type": "stream",
     "text": [
      "[download]  42.1% of ~ 448.41MiB at    2.04MiB/s ETA 02:21 (frag 78/183)"
     ]
    },
    {
     "name": "stderr",
     "output_type": "stream",
     "text": [
      "frame=   28 fps=0.3 q=-0.0 size=N/A time=00:00:26.00 bitrate=N/A dup=0 drop=625 speed=0.258x    \r"
     ]
    },
    {
     "name": "stdout",
     "output_type": "stream",
     "text": [
      "[download]  96.1% of ~ 223.72MiB at    1.52MiB/s ETA 00:07 (frag 73/77)"
     ]
    },
    {
     "name": "stderr",
     "output_type": "stream",
     "text": [
      "frame=   28 fps=0.3 q=-0.0 size=N/A time=00:00:26.00 bitrate=N/A dup=0 drop=628 speed=0.257x    \r"
     ]
    },
    {
     "name": "stdout",
     "output_type": "stream",
     "text": [
      "[download]  43.2% of ~ 437.79MiB at    1.73MiB/s ETA 02:26 (frag 78/183)"
     ]
    },
    {
     "name": "stderr",
     "output_type": "stream",
     "text": [
      "frame=  126 fps=1.2 q=-0.0 size=N/A time=00:02:04.00 bitrate=N/A dup=0 drop=2977 speed=1.14x    \r"
     ]
    },
    {
     "name": "stdout",
     "output_type": "stream",
     "text": [
      "[download]  96.2% of ~ 225.74MiB at    1.87MiB/s ETA 00:06 (frag 73/77))"
     ]
    },
    {
     "name": "stderr",
     "output_type": "stream",
     "text": [
      "frame=   14 fps=1.0 q=-0.0 size=N/A time=00:00:12.00 bitrate=N/A dup=0 drop=302 speed=0.876x    \r"
     ]
    },
    {
     "name": "stdout",
     "output_type": "stream",
     "text": [
      "[download]  43.4% of ~ 440.04MiB at    1.28MiB/s ETA 02:58 (frag 78/183)"
     ]
    },
    {
     "name": "stderr",
     "output_type": "stream",
     "text": [
      "frame=  124 fps=1.4 q=-0.0 size=N/A time=00:02:02.00 bitrate=N/A dup=0 drop=2929 speed= 1.4x    \r"
     ]
    },
    {
     "name": "stdout",
     "output_type": "stream",
     "text": [
      "[download]  43.5% of ~ 442.35MiB at    1.60MiB/s ETA 02:50 (frag 78/183)"
     ]
    },
    {
     "name": "stderr",
     "output_type": "stream",
     "text": [
      "frame=  129 fps=1.3 q=-0.0 size=N/A time=00:02:07.00 bitrate=N/A dup=0 drop=3055 speed=1.26x    \r"
     ]
    },
    {
     "name": "stdout",
     "output_type": "stream",
     "text": [
      "[download]  97.4% of ~ 222.87MiB at    1.70MiB/s ETA 00:05 (frag 74/77))"
     ]
    },
    {
     "name": "stderr",
     "output_type": "stream",
     "text": [
      "frame=  146 fps=1.4 q=-0.0 size=N/A time=00:02:24.00 bitrate=N/A dup=0 drop=3461 speed= 1.4x    \r"
     ]
    },
    {
     "name": "stdout",
     "output_type": "stream",
     "text": [
      "[download]  97.5% of ~ 223.11MiB at    1.48MiB/s ETA 00:05 (frag 74/77)"
     ]
    },
    {
     "name": "stderr",
     "output_type": "stream",
     "text": [
      "frame=  130 fps=1.3 q=-0.0 size=N/A time=00:02:08.00 bitrate=N/A dup=0 drop=3074 speed=1.26x    \r"
     ]
    },
    {
     "name": "stdout",
     "output_type": "stream",
     "text": [
      "[download]  43.7% of ~ 440.36MiB at    1.61MiB/s ETA 02:40 (frag 79/183)"
     ]
    },
    {
     "name": "stderr",
     "output_type": "stream",
     "text": [
      "frame=  147 fps=1.4 q=-0.0 size=N/A time=00:02:25.00 bitrate=N/A dup=0 drop=3476 speed= 1.4x    \r"
     ]
    },
    {
     "name": "stdout",
     "output_type": "stream",
     "text": [
      "[download]  96.1% of ~ 228.75MiB at    1.61MiB/s ETA 00:04 (frag 75/77))"
     ]
    },
    {
     "name": "stderr",
     "output_type": "stream",
     "text": [
      "frame=  131 fps=1.3 q=-0.0 size=N/A time=00:02:09.00 bitrate=N/A dup=0 drop=3092 speed=1.26x    \r"
     ]
    },
    {
     "name": "stdout",
     "output_type": "stream",
     "text": [
      "[download]  44.0% of ~ 444.65MiB at    2.00MiB/s ETA 02:32 (frag 79/183)"
     ]
    },
    {
     "name": "stderr",
     "output_type": "stream",
     "text": [
      "frame=  147 fps=1.4 q=-0.0 size=N/A time=00:02:25.00 bitrate=N/A dup=0 drop=3491 speed=1.39x    \r"
     ]
    },
    {
     "name": "stdout",
     "output_type": "stream",
     "text": [
      "[download]  98.7% of ~ 222.84MiB at    1.68MiB/s ETA 00:04 (frag 75/77))"
     ]
    },
    {
     "name": "stderr",
     "output_type": "stream",
     "text": [
      "frame=  131 fps=1.3 q=-0.0 size=N/A time=00:02:09.00 bitrate=N/A dup=0 drop=3114 speed=1.25x    \r"
     ]
    },
    {
     "name": "stdout",
     "output_type": "stream",
     "text": [
      "[download]  98.9% of ~ 223.34MiB at    1.69MiB/s ETA 00:03 (frag 75/77)"
     ]
    },
    {
     "name": "stderr",
     "output_type": "stream",
     "text": [
      "frame=  127 fps=1.4 q=-0.0 size=N/A time=00:02:05.00 bitrate=N/A dup=0 drop=3000 speed= 1.4x    \r"
     ]
    },
    {
     "name": "stdout",
     "output_type": "stream",
     "text": [
      "[download]  97.1% of ~ 230.48MiB at    2.06MiB/s ETA 00:03 (frag 76/77))"
     ]
    },
    {
     "name": "stderr",
     "output_type": "stream",
     "text": [
      "frame=   31 fps=0.3 q=-0.0 size=N/A time=00:00:29.00 bitrate=N/A dup=0 drop=856 speed=0.262x    \r"
     ]
    },
    {
     "name": "stdout",
     "output_type": "stream",
     "text": [
      "[download]  44.4% of ~ 443.61MiB at    1.84MiB/s ETA 02:20 (frag 80/183)"
     ]
    },
    {
     "name": "stderr",
     "output_type": "stream",
     "text": [
      "frame=   18 fps=1.0 q=-0.0 size=N/A time=00:00:16.00 bitrate=N/A dup=0 drop=401 speed=0.921x    \r"
     ]
    },
    {
     "name": "stdout",
     "output_type": "stream",
     "text": [
      "[download] 100.0% of ~ 223.71MiB at    2.13MiB/s ETA 00:02 (frag 76/77))"
     ]
    },
    {
     "name": "stderr",
     "output_type": "stream",
     "text": [
      "frame=  128 fps=1.4 q=-0.0 size=N/A time=00:02:06.00 bitrate=N/A dup=0 drop=3033 speed=1.39x    \r"
     ]
    },
    {
     "name": "stdout",
     "output_type": "stream",
     "text": [
      "[download] 100.0% of ~ 223.74MiB at    2.18MiB/s ETA 00:02 (frag 76/77))"
     ]
    },
    {
     "name": "stderr",
     "output_type": "stream",
     "text": [
      "frame=  130 fps=1.2 q=-0.0 size=N/A time=00:02:08.00 bitrate=N/A dup=0 drop=3070 speed=1.13x    \r"
     ]
    },
    {
     "name": "stdout",
     "output_type": "stream",
     "text": [
      "[download] 100.0% of ~ 224.71MiB at    2.00MiB/s ETA 00:01 (frag 76/77)"
     ]
    },
    {
     "name": "stderr",
     "output_type": "stream",
     "text": [
      "frame=   28 fps=0.3 q=-0.0 size=N/A time=00:00:26.00 bitrate=N/A dup=0 drop=635 speed=0.254x    \r"
     ]
    },
    {
     "name": "stdout",
     "output_type": "stream",
     "text": [
      "[download]  44.8% of ~ 445.07MiB at    1.97MiB/s ETA 02:14 (frag 81/183)"
     ]
    },
    {
     "name": "stderr",
     "output_type": "stream",
     "text": [
      "frame=  129 fps=1.4 q=-0.0 size=N/A time=00:02:07.00 bitrate=N/A dup=0 drop=3062 speed=1.39x    \r"
     ]
    },
    {
     "name": "stdout",
     "output_type": "stream",
     "text": [
      "[download]  44.8% of ~ 445.19MiB at    1.75MiB/s ETA 02:21 (frag 81/183)"
     ]
    },
    {
     "name": "stderr",
     "output_type": "stream",
     "text": [
      "frame=   28 fps=0.3 q=-0.0 size=N/A time=00:00:26.00 bitrate=N/A dup=0 drop=641 speed=0.253x    \r"
     ]
    },
    {
     "name": "stdout",
     "output_type": "stream",
     "text": [
      "[download]  44.9% of ~ 445.61MiB at    1.62MiB/s ETA 02:25 (frag 81/183)"
     ]
    },
    {
     "name": "stderr",
     "output_type": "stream",
     "text": [
      "frame=   32 fps=0.3 q=-0.0 size=N/A time=00:00:30.00 bitrate=N/A dup=0 drop=866 speed=0.266x    \r"
     ]
    },
    {
     "name": "stdout",
     "output_type": "stream",
     "text": [
      "[download]  44.9% of ~ 446.17MiB at    1.70MiB/s ETA 02:24 (frag 81/183)"
     ]
    },
    {
     "name": "stderr",
     "output_type": "stream",
     "text": [
      "frame=  150 fps=1.4 q=-0.0 size=N/A time=00:02:28.00 bitrate=N/A dup=0 drop=3566 speed=1.37x    \r"
     ]
    },
    {
     "name": "stdout",
     "output_type": "stream",
     "text": [
      "[download] 100.0% of ~ 226.96MiB at    1.96MiB/s ETA 00:01 (frag 77/77))"
     ]
    },
    {
     "name": "stderr",
     "output_type": "stream",
     "text": [
      "frame=   29 fps=0.3 q=-0.0 size=N/A time=00:00:27.00 bitrate=N/A dup=0 drop=644 speed=0.261x    \r"
     ]
    },
    {
     "name": "stdout",
     "output_type": "stream",
     "text": [
      "[download] 100.0% of ~ 227.02MiB at    1.53MiB/s ETA 00:00 (frag 77/77)"
     ]
    },
    {
     "name": "stderr",
     "output_type": "stream",
     "text": [
      "frame=  130 fps=1.4 q=-0.0 size=N/A time=00:02:08.00 bitrate=N/A dup=0 drop=3084 speed=1.38x    \r"
     ]
    },
    {
     "name": "stdout",
     "output_type": "stream",
     "text": [
      "[download] 100.0% of ~ 227.21MiB at    1.49MiB/s ETA 00:00 (frag 77/77))"
     ]
    },
    {
     "name": "stderr",
     "output_type": "stream",
     "text": [
      "frame=  132 fps=1.1 q=-0.0 size=N/A time=00:02:10.00 bitrate=N/A dup=0 drop=3116 speed=1.13x    \r"
     ]
    },
    {
     "name": "stdout",
     "output_type": "stream",
     "text": [
      "[download] 100.0% of ~ 228.60MiB at    1.60MiB/s ETA 00:00 (frag 77/77)"
     ]
    },
    {
     "name": "stderr",
     "output_type": "stream",
     "text": [
      "frame=  136 fps=1.3 q=-0.0 size=N/A time=00:02:14.00 bitrate=N/A dup=0 drop=3221 speed=1.25x    \r"
     ]
    },
    {
     "name": "stdout",
     "output_type": "stream",
     "text": [
      "[download]  45.4% of ~ 447.49MiB at    1.65MiB/s ETA 02:27 (frag 82/183)"
     ]
    },
    {
     "name": "stderr",
     "output_type": "stream",
     "text": [
      "frame=  132 fps=1.1 q=-0.0 size=N/A time=00:02:10.00 bitrate=N/A dup=0 drop=3128 speed=1.12x    \r"
     ]
    },
    {
     "name": "stdout",
     "output_type": "stream",
     "text": [
      "[download]  45.4% of ~ 447.76MiB at    1.53MiB/s ETA 02:31 (frag 82/183)"
     ]
    },
    {
     "name": "stderr",
     "output_type": "stream",
     "text": [
      "frame=  152 fps=1.4 q=-0.0 size=N/A time=00:02:30.00 bitrate=N/A dup=0 drop=3597 speed=1.37x    \r"
     ]
    },
    {
     "name": "stdout",
     "output_type": "stream",
     "text": [
      "[download] 100% of  228.60MiB in 00:02:02 at 1.87MiB/s                 \n",
      "[download]  45.4% of ~ 448.04MiB at    1.51MiB/s ETA 02:33 (frag 82/183)"
     ]
    },
    {
     "name": "stderr",
     "output_type": "stream",
     "text": [
      "frame=  132 fps=1.1 q=-0.0 size=N/A time=00:02:10.00 bitrate=N/A dup=0 drop=3136 speed=1.12x    \r"
     ]
    },
    {
     "name": "stdout",
     "output_type": "stream",
     "text": [
      "[download]  45.6% of ~ 449.69MiB at    1.64MiB/s ETA 02:31 (frag 82/183)[download] Destination: ./dataset_splited/RW94mABPEpw/video_1080p.f251.webm\n",
      "[download]   0.0% of    6.21MiB at    9.35KiB/s ETA 11:20"
     ]
    },
    {
     "name": "stderr",
     "output_type": "stream",
     "text": [
      "frame=  137 fps=1.3 q=-0.0 size=N/A time=00:02:15.00 bitrate=N/A dup=0 drop=3236 speed=1.25x    \r"
     ]
    },
    {
     "name": "stdout",
     "output_type": "stream",
     "text": [
      "[download]  44.8% of ~ 458.80MiB at    1.86MiB/s ETA 02:25 (frag 83/183)"
     ]
    },
    {
     "name": "stderr",
     "output_type": "stream",
     "text": [
      "frame=   23 fps=1.1 q=-0.0 size=N/A time=00:00:21.00 bitrate=N/A dup=0 drop=500 speed=0.96x     \r"
     ]
    },
    {
     "name": "stdout",
     "output_type": "stream",
     "text": [
      "[download]  16.1% of    6.21MiB at    1.44MiB/s ETA 00:03"
     ]
    },
    {
     "name": "stderr",
     "output_type": "stream",
     "text": [
      "frame=   32 fps=0.3 q=-0.0 size=N/A time=00:00:30.00 bitrate=N/A dup=0 drop=887 speed=0.259x    \r"
     ]
    },
    {
     "name": "stdout",
     "output_type": "stream",
     "text": [
      "[download]  45.9% of ~ 447.78MiB at    1.26MiB/s ETA 02:52 (frag 83/183)"
     ]
    },
    {
     "name": "stderr",
     "output_type": "stream",
     "text": [
      "frame=   23 fps=1.0 q=-0.0 size=N/A time=00:00:21.00 bitrate=N/A dup=0 drop=519 speed=0.935x    \r"
     ]
    },
    {
     "name": "stdout",
     "output_type": "stream",
     "text": [
      "[download]  46.0% of ~ 448.84MiB at    1.15MiB/s ETA 03:04 (frag 83/183)"
     ]
    },
    {
     "name": "stderr",
     "output_type": "stream",
     "text": [
      "frame=   32 fps=0.3 q=-0.0 size=N/A time=00:00:30.00 bitrate=N/A dup=0 drop=891 speed=0.258x    \r"
     ]
    },
    {
     "name": "stdout",
     "output_type": "stream",
     "text": [
      "[download]  45.2% of ~ 461.48MiB at    1.70MiB/s ETA 02:49 (frag 84/183)"
     ]
    },
    {
     "name": "stderr",
     "output_type": "stream",
     "text": [
      "frame=  134 fps=1.4 q=-0.0 size=N/A time=00:02:12.00 bitrate=N/A dup=0 drop=3172 speed=1.38x    \r"
     ]
    },
    {
     "name": "stdout",
     "output_type": "stream",
     "text": [
      "[download]  64.4% of    6.21MiB at    2.11MiB/s ETA 00:01"
     ]
    },
    {
     "name": "stderr",
     "output_type": "stream",
     "text": [
      "frame=  135 fps=1.1 q=-0.0 size=N/A time=00:02:13.00 bitrate=N/A dup=0 drop=3201 speed=1.12x    \r"
     ]
    },
    {
     "name": "stdout",
     "output_type": "stream",
     "text": [
      "[download] 100.0% of    6.21MiB at    3.06MiB/s ETA 00:00"
     ]
    },
    {
     "name": "stderr",
     "output_type": "stream",
     "text": [
      "frame=   29 fps=0.3 q=-0.0 size=N/A time=00:00:27.00 bitrate=N/A dup=0 drop=664 speed=0.251x    \r"
     ]
    },
    {
     "name": "stdout",
     "output_type": "stream",
     "text": [
      "[download] 100% of    6.21MiB in 00:00:02 at 2.50MiB/s   5 (frag 84/183)\n",
      "[download]  46.5% of ~ 449.33MiB at    1.86MiB/s ETA 02:37 (frag 84/183)"
     ]
    },
    {
     "name": "stderr",
     "output_type": "stream",
     "text": [
      "frame=   33 fps=0.3 q=-0.0 size=N/A time=00:00:31.00 bitrate=N/A dup=0 drop=900 speed=0.264x    \r"
     ]
    },
    {
     "name": "stdout",
     "output_type": "stream",
     "text": [
      "[download]  46.6% of ~ 450.34MiB at    1.91MiB/s ETA 02:30 (frag 84/183)"
     ]
    },
    {
     "name": "stderr",
     "output_type": "stream",
     "text": [
      "frame=   30 fps=0.3 q=-0.0 size=N/A time=00:00:28.00 bitrate=N/A dup=0 drop=668 speed=0.259x    \r"
     ]
    },
    {
     "name": "stdout",
     "output_type": "stream",
     "text": [
      "[download]  46.7% of ~ 451.42MiB at    2.02MiB/s ETA 02:26 (frag 84/183)[Merger] Merging formats into \"./dataset_splited/RW94mABPEpw/video_1080p.webm\"\n"
     ]
    },
    {
     "name": "stderr",
     "output_type": "stream",
     "text": [
      "frame=  136 fps=1.1 q=-0.0 size=N/A time=00:02:14.00 bitrate=N/A dup=0 drop=3235 speed=1.12x    \r"
     ]
    },
    {
     "name": "stdout",
     "output_type": "stream",
     "text": [
      "[download]  45.8% of ~ 463.08MiB at    2.13MiB/s ETA 02:19 (frag 85/183)"
     ]
    },
    {
     "name": "stderr",
     "output_type": "stream",
     "text": [
      "frame=  141 fps=1.3 q=-0.0 size=N/A time=00:02:19.00 bitrate=N/A dup=0 drop=3332 speed=1.24x    \r"
     ]
    },
    {
     "name": "stdout",
     "output_type": "stream",
     "text": [
      "[download]  47.0% of ~ 451.00MiB at    2.13MiB/s ETA 02:09 (frag 85/183)"
     ]
    },
    {
     "name": "stderr",
     "output_type": "stream",
     "text": [
      "frame=   33 fps=0.3 q=-0.0 size=N/A time=00:00:31.00 bitrate=N/A dup=0 drop=916 speed=0.259x    \r"
     ]
    },
    {
     "name": "stdout",
     "output_type": "stream",
     "text": [
      "[download]  47.1% of ~ 452.99MiB at    1.87MiB/s ETA 02:11 (frag 85/183)"
     ]
    },
    {
     "name": "stderr",
     "output_type": "stream",
     "text": [
      "frame=  157 fps=1.4 q=-0.0 size=N/A time=00:02:35.00 bitrate=N/A dup=0 drop=3730 speed=1.36x    \r"
     ]
    },
    {
     "name": "stdout",
     "output_type": "stream",
     "text": [
      "[download]  46.7% of ~ 457.10MiB at    1.80MiB/s ETA 02:13 (frag 86/183)"
     ]
    },
    {
     "name": "stderr",
     "output_type": "stream",
     "text": [
      "frame=   27 fps=1.0 q=-0.0 size=N/A time=00:00:25.00 bitrate=N/A dup=0 drop=617 speed=0.948x    \r"
     ]
    },
    {
     "name": "stdout",
     "output_type": "stream",
     "text": [
      "[download]  47.5% of ~ 448.77MiB at    1.72MiB/s ETA 02:15 (frag 86/183)"
     ]
    },
    {
     "name": "stderr",
     "output_type": "stream",
     "text": [
      "frame=  142 fps=1.3 q=-0.0 size=N/A time=00:02:20.00 bitrate=N/A dup=0 drop=3368 speed=1.23x    \r"
     ]
    },
    {
     "name": "stdout",
     "output_type": "stream",
     "text": [
      "[download]  47.6% of ~ 448.90MiB at    1.58MiB/s ETA 02:21 (frag 86/183)"
     ]
    },
    {
     "name": "stderr",
     "output_type": "stream",
     "text": [
      "frame=  139 fps=1.4 q=-0.0 size=N/A time=00:02:17.00 bitrate=N/A dup=0 drop=3289 speed=1.37x    \r"
     ]
    },
    {
     "name": "stdout",
     "output_type": "stream",
     "text": [
      "[download]  47.7% of ~ 449.82MiB at    1.44MiB/s ETA 02:28 (frag 86/183)"
     ]
    },
    {
     "name": "stderr",
     "output_type": "stream",
     "text": [
      "frame=  139 fps=1.1 q=-0.0 size=N/A time=00:02:17.00 bitrate=N/A dup=0 drop=3291 speed=1.12x    \r"
     ]
    },
    {
     "name": "stdout",
     "output_type": "stream",
     "text": [
      "[download]  47.0% of ~ 458.66MiB at    1.33MiB/s ETA 02:39 (frag 87/183)"
     ]
    },
    {
     "name": "stderr",
     "output_type": "stream",
     "text": [
      "frame=  140 fps=1.1 q=-0.0 size=N/A time=00:02:18.00 bitrate=N/A dup=0 drop=3317 speed=1.12x    \r"
     ]
    },
    {
     "name": "stdout",
     "output_type": "stream",
     "text": [
      "[download]  48.1% of ~ 448.69MiB at    1.31MiB/s ETA 02:45 (frag 87/183)"
     ]
    },
    {
     "name": "stderr",
     "output_type": "stream",
     "text": [
      "frame=   30 fps=1.1 q=-0.0 size=N/A time=00:00:28.00 bitrate=N/A dup=0 drop=676 speed=0.981x    \r"
     ]
    },
    {
     "name": "stdout",
     "output_type": "stream",
     "text": [
      "[download]  48.2% of ~ 449.60MiB at    1.29MiB/s ETA 02:49 (frag 87/183)"
     ]
    },
    {
     "name": "stderr",
     "output_type": "stream",
     "text": [
      "frame=   34 fps=0.3 q=-0.0 size=N/A time=00:00:32.00 bitrate=N/A dup=0 drop=938 speed=0.261x    \r"
     ]
    },
    {
     "name": "stdout",
     "output_type": "stream",
     "text": [
      "[download]  48.3% of ~ 450.64MiB at    1.35MiB/s ETA 02:47 (frag 87/183)"
     ]
    },
    {
     "name": "stderr",
     "output_type": "stream",
     "text": [
      "frame=   31 fps=0.3 q=-0.0 size=N/A time=00:00:29.00 bitrate=N/A dup=0 drop=695 speed=0.257x    \r"
     ]
    },
    {
     "name": "stdout",
     "output_type": "stream",
     "text": [
      "[download]  47.5% of ~ 459.75MiB at    1.53MiB/s ETA 02:43 (frag 88/183)"
     ]
    },
    {
     "name": "stderr",
     "output_type": "stream",
     "text": [
      "frame=   32 fps=0.3 q=-0.0 size=N/A time=00:00:30.00 bitrate=N/A dup=0 drop=726 speed=0.254x    \r"
     ]
    },
    {
     "name": "stdout",
     "output_type": "stream",
     "text": [
      "[download]  48.6% of ~ 449.12MiB at    1.63MiB/s ETA 02:36 (frag 88/183)"
     ]
    },
    {
     "name": "stderr",
     "output_type": "stream",
     "text": [
      "frame=   31 fps=0.3 q=-0.0 size=N/A time=00:00:29.00 bitrate=N/A dup=0 drop=706 speed=0.254x    \r"
     ]
    },
    {
     "name": "stdout",
     "output_type": "stream",
     "text": [
      "[download]  48.7% of ~ 450.08MiB at    1.55MiB/s ETA 02:36 (frag 88/183)"
     ]
    },
    {
     "name": "stderr",
     "output_type": "stream",
     "text": [
      "frame=  145 fps=1.2 q=-0.0 size=N/A time=00:02:23.00 bitrate=N/A dup=0 drop=3450 speed=1.22x    \r"
     ]
    },
    {
     "name": "stdout",
     "output_type": "stream",
     "text": [
      "[download]  48.8% of ~ 453.16MiB at    1.56MiB/s ETA 02:35 (frag 88/183)"
     ]
    },
    {
     "name": "stderr",
     "output_type": "stream",
     "text": [
      "frame=   32 fps=0.3 q=-0.0 size=N/A time=00:00:30.00 bitrate=N/A dup=0 drop=730 speed=0.253x    \r"
     ]
    },
    {
     "name": "stdout",
     "output_type": "stream",
     "text": [
      "[download]  48.0% of ~ 460.38MiB at    1.76MiB/s ETA 02:30 (frag 89/183)"
     ]
    },
    {
     "name": "stderr",
     "output_type": "stream",
     "text": [
      "frame=   31 fps=0.3 q=-0.0 size=N/A time=00:00:29.00 bitrate=N/A dup=0 drop=715 speed=0.252x    \r"
     ]
    },
    {
     "name": "stdout",
     "output_type": "stream",
     "text": [
      "[download]  49.2% of ~ 449.68MiB at    1.80MiB/s ETA 02:25 (frag 89/183)"
     ]
    },
    {
     "name": "stderr",
     "output_type": "stream",
     "text": [
      "frame=  164 fps=1.4 q=-0.0 size=N/A time=00:02:42.00 bitrate=N/A dup=0 drop=3894 speed=1.35x    \r"
     ]
    },
    {
     "name": "stdout",
     "output_type": "stream",
     "text": [
      "[download]  49.2% of ~ 450.17MiB at    1.84MiB/s ETA 02:19 (frag 89/183)"
     ]
    },
    {
     "name": "stderr",
     "output_type": "stream",
     "text": [
      "frame=   32 fps=0.3 q=-0.0 size=N/A time=00:00:30.00 bitrate=N/A dup=0 drop=738 speed=0.251x    \r"
     ]
    },
    {
     "name": "stdout",
     "output_type": "stream",
     "text": [
      "[download]  49.3% of ~ 451.69MiB at    1.89MiB/s ETA 02:16 (frag 89/183)"
     ]
    },
    {
     "name": "stderr",
     "output_type": "stream",
     "text": [
      "frame=   32 fps=0.3 q=-0.0 size=N/A time=00:00:30.00 bitrate=N/A dup=0 drop=718 speed=0.259x    \r"
     ]
    },
    {
     "name": "stdout",
     "output_type": "stream",
     "text": [
      "[download]  48.8% of ~ 456.06MiB at    1.84MiB/s ETA 02:16 (frag 90/183)"
     ]
    },
    {
     "name": "stderr",
     "output_type": "stream",
     "text": [
      "frame=  148 fps=1.2 q=-0.0 size=N/A time=00:02:26.00 bitrate=N/A dup=0 drop=3500 speed=1.23x    \r"
     ]
    },
    {
     "name": "stdout",
     "output_type": "stream",
     "text": [
      "[download]  49.7% of ~ 448.01MiB at    1.68MiB/s ETA 02:17 (frag 90/183)"
     ]
    },
    {
     "name": "stderr",
     "output_type": "stream",
     "text": [
      "frame=   35 fps=0.3 q=-0.0 size=N/A time=00:00:33.00 bitrate=N/A dup=0 drop=967 speed=0.261x    \r"
     ]
    },
    {
     "name": "stdout",
     "output_type": "stream",
     "text": [
      "[download]  49.8% of ~ 451.90MiB at    2.00MiB/s ETA 02:08 (frag 90/183)"
     ]
    },
    {
     "name": "stderr",
     "output_type": "stream",
     "text": [
      "frame=  147 fps=1.4 q=-0.0 size=N/A time=00:02:25.00 bitrate=N/A dup=0 drop=3484 speed=1.37x    \r"
     ]
    },
    {
     "name": "stdout",
     "output_type": "stream",
     "text": [
      "[download]  49.2% of ~ 457.68MiB at    2.06MiB/s ETA 02:06 (frag 91/183)"
     ]
    },
    {
     "name": "stderr",
     "output_type": "stream",
     "text": [
      "frame=  144 fps=1.1 q=-0.0 size=N/A time=00:02:22.00 bitrate=N/A dup=0 drop=3425 speed=1.11x    \r"
     ]
    },
    {
     "name": "stdout",
     "output_type": "stream",
     "text": [
      "[download]  50.3% of ~ 447.87MiB at    1.73MiB/s ETA 02:12 (frag 91/183)"
     ]
    },
    {
     "name": "stderr",
     "output_type": "stream",
     "text": [
      "frame=  147 fps=1.4 q=-0.0 size=N/A time=00:02:25.00 bitrate=N/A dup=0 drop=3495 speed=1.36x    \r"
     ]
    },
    {
     "name": "stdout",
     "output_type": "stream",
     "text": [
      "[download]  50.3% of ~ 449.85MiB at    1.78MiB/s ETA 02:11 (frag 91/183)"
     ]
    },
    {
     "name": "stderr",
     "output_type": "stream",
     "text": [
      "frame=   36 fps=0.3 q=-0.0 size=N/A time=00:00:34.00 bitrate=N/A dup=0 drop=981 speed=0.267x    \r"
     ]
    },
    {
     "name": "stdout",
     "output_type": "stream",
     "text": [
      "[download]  50.0% of ~ 452.00MiB at    1.82MiB/s ETA 02:10 (frag 92/183)"
     ]
    },
    {
     "name": "stderr",
     "output_type": "stream",
     "text": [
      "frame=   32 fps=0.3 q=-0.0 size=N/A time=00:00:30.00 bitrate=N/A dup=0 drop=736 speed=0.254x    \r"
     ]
    },
    {
     "name": "stdout",
     "output_type": "stream",
     "text": [
      "[download]  50.8% of ~ 445.10MiB at    1.73MiB/s ETA 02:10 (frag 92/183)"
     ]
    },
    {
     "name": "stderr",
     "output_type": "stream",
     "text": [
      "frame=  151 fps=1.2 q=-0.0 size=N/A time=00:02:29.00 bitrate=N/A dup=0 drop=3572 speed=1.23x    \r"
     ]
    },
    {
     "name": "stdout",
     "output_type": "stream",
     "text": [
      "[download]  50.9% of ~ 446.07MiB at    1.46MiB/s ETA 02:22 (frag 92/183)"
     ]
    },
    {
     "name": "stderr",
     "output_type": "stream",
     "text": [
      "frame=   36 fps=0.3 q=-0.0 size=N/A time=00:00:34.00 bitrate=N/A dup=0 drop=993 speed=0.264x    \r"
     ]
    },
    {
     "name": "stdout",
     "output_type": "stream",
     "text": [
      "[download]  50.4% of ~ 451.73MiB at    1.62MiB/s ETA 02:19 (frag 93/183)"
     ]
    },
    {
     "name": "stderr",
     "output_type": "stream",
     "text": [
      "frame=   33 fps=0.3 q=-0.0 size=N/A time=00:00:31.00 bitrate=N/A dup=0 drop=761 speed=0.251x     \r"
     ]
    },
    {
     "name": "stdout",
     "output_type": "stream",
     "text": [
      "[download]  51.4% of ~ 443.66MiB at    1.59MiB/s ETA 02:18 (frag 93/183)"
     ]
    },
    {
     "name": "stderr",
     "output_type": "stream",
     "text": [
      "frame=  150 fps=1.4 q=-0.0 size=N/A time=00:02:28.00 bitrate=N/A dup=0 drop=3571 speed=1.36x    \r"
     ]
    },
    {
     "name": "stdout",
     "output_type": "stream",
     "text": [
      "[download]  51.4% of ~ 444.13MiB at    1.31MiB/s ETA 02:31 (frag 93/183)"
     ]
    },
    {
     "name": "stderr",
     "output_type": "stream",
     "text": [
      "frame=   34 fps=0.3 q=-0.0 size=N/A time=00:00:32.00 bitrate=N/A dup=0 drop=764 speed=0.258x    \r"
     ]
    },
    {
     "name": "stdout",
     "output_type": "stream",
     "text": [
      "[download]  51.1% of ~ 447.46MiB at    1.29MiB/s ETA 02:34 (frag 94/183)"
     ]
    },
    {
     "name": "stderr",
     "output_type": "stream",
     "text": [
      "frame=  154 fps=1.3 q=-0.0 size=N/A time=00:02:32.00 bitrate=N/A dup=0 drop=3644 speed=1.24x     \r"
     ]
    },
    {
     "name": "stdout",
     "output_type": "stream",
     "text": [
      "[download]  51.9% of ~ 440.88MiB at    1.22MiB/s ETA 02:40 (frag 94/183)"
     ]
    },
    {
     "name": "stderr",
     "output_type": "stream",
     "text": [
      "frame=   40 fps=1.1 q=-0.0 size=N/A time=00:00:38.00 bitrate=N/A dup=0 drop=909 speed=1.04x      \r"
     ]
    },
    {
     "name": "stdout",
     "output_type": "stream",
     "text": [
      "[download]  51.8% of ~ 442.39MiB at    1.12MiB/s ETA 02:54 (frag 95/183)"
     ]
    },
    {
     "name": "stderr",
     "output_type": "stream",
     "text": [
      "frame=   34 fps=0.3 q=-0.0 size=N/A time=00:00:32.00 bitrate=N/A dup=0 drop=774 speed=0.256x    \r"
     ]
    },
    {
     "name": "stdout",
     "output_type": "stream",
     "text": [
      "[download]  52.5% of ~ 437.03MiB at    1.09MiB/s ETA 02:56 (frag 95/183)"
     ]
    },
    {
     "name": "stderr",
     "output_type": "stream",
     "text": [
      "frame=   40 fps=1.1 q=-0.0 size=N/A time=00:00:38.00 bitrate=N/A dup=0 drop=927 speed=1.02x     \r"
     ]
    },
    {
     "name": "stdout",
     "output_type": "stream",
     "text": [
      "[download]  52.5% of ~ 437.14MiB at    1.07MiB/s ETA 03:01 (frag 95/183)"
     ]
    },
    {
     "name": "stderr",
     "output_type": "stream",
     "text": [
      "frame=  155 fps=1.2 q=-0.0 size=N/A time=00:02:33.00 bitrate=N/A dup=0 drop=3673 speed=1.23x    \r"
     ]
    },
    {
     "name": "stdout",
     "output_type": "stream",
     "text": [
      "[download]  52.3% of ~ 439.66MiB at  952.82KiB/s ETA 03:17 (frag 96/183)"
     ]
    },
    {
     "name": "stderr",
     "output_type": "stream",
     "text": [
      "frame=   37 fps=0.3 q=-0.0 Lsize=N/A time=00:00:37.00 bitrate=N/A dup=0 drop=1014 speed=0.281x    \n",
      "video:53210kB audio:0kB subtitle:0kB other streams:0kB global headers:0kB muxing overhead: unknown\n",
      "frame=   34 fps=0.3 q=-0.0 size=N/A time=00:00:32.00 bitrate=N/A dup=0 drop=784 speed=0.253x    \r"
     ]
    },
    {
     "name": "stdout",
     "output_type": "stream",
     "text": [
      "[download]  53.0% of ~ 433.84MiB at  890.02KiB/s ETA 03:25 (frag 96/183)"
     ]
    },
    {
     "name": "stderr",
     "output_type": "stream",
     "text": [
      "frame=   42 fps=1.1 q=-0.0 size=N/A time=00:00:40.00 bitrate=N/A dup=0 drop=960 speed=1.05x     \r"
     ]
    },
    {
     "name": "stdout",
     "output_type": "stream",
     "text": [
      "[download]  53.1% of ~ 434.30MiB at  817.71KiB/s ETA 03:39 (frag 96/183)"
     ]
    },
    {
     "name": "stderr",
     "output_type": "stream",
     "text": [
      "frame=  156 fps=1.2 q=-0.0 size=N/A time=00:02:34.00 bitrate=N/A dup=0 drop=3708 speed=1.23x    \r"
     ]
    },
    {
     "name": "stdout",
     "output_type": "stream",
     "text": [
      "[download]  53.0% of ~ 434.77MiB at  846.35KiB/s ETA 03:40 (frag 96/183)"
     ]
    },
    {
     "name": "stderr",
     "output_type": "stream",
     "text": [
      "frame=  155 fps=1.4 q=-0.0 size=N/A time=00:02:33.00 bitrate=N/A dup=0 drop=3689 speed=1.37x    \r"
     ]
    },
    {
     "name": "stdout",
     "output_type": "stream",
     "text": [
      "[download]  52.9% of ~ 436.11MiB at  796.64KiB/s ETA 03:49 (frag 97/183)"
     ]
    },
    {
     "name": "stderr",
     "output_type": "stream",
     "text": [
      "frame=   34 fps=0.3 q=-0.0 size=N/A time=00:00:32.00 bitrate=N/A dup=0 drop=779 speed=0.259x    \r"
     ]
    },
    {
     "name": "stdout",
     "output_type": "stream",
     "text": [
      "[download]  53.6% of ~ 430.55MiB at  702.37KiB/s ETA 04:09 (frag 97/183)"
     ]
    },
    {
     "name": "stderr",
     "output_type": "stream",
     "text": [
      "frame=  159 fps=1.3 q=-0.0 size=N/A time=00:02:37.00 bitrate=N/A dup=0 drop=3764 speed=1.24x    \r"
     ]
    },
    {
     "name": "stdout",
     "output_type": "stream",
     "text": [
      "[download]  53.6% of ~ 431.46MiB at  640.14KiB/s ETA 04:30 (frag 97/183)"
     ]
    },
    {
     "name": "stderr",
     "output_type": "stream",
     "text": [
      "frame=   44 fps=1.1 q=-0.0 size=N/A time=00:00:42.00 bitrate=N/A dup=0 drop=1019 speed=1.04x    \r"
     ]
    },
    {
     "name": "stdout",
     "output_type": "stream",
     "text": [
      "[download]  53.4% of ~ 433.75MiB at  649.76KiB/s ETA 04:34 (frag 98/183)"
     ]
    },
    {
     "name": "stderr",
     "output_type": "stream",
     "text": [
      "frame=  160 fps=1.2 q=-0.0 size=N/A time=00:02:38.00 bitrate=N/A dup=0 drop=3806 speed=1.23x    \r"
     ]
    },
    {
     "name": "stdout",
     "output_type": "stream",
     "text": [
      "[youtube] Extracting URL: https://www.youtube.com/watch?v=MoxFkJlVZlA\n",
      "[youtube] MoxFkJlVZlA: Downloading webpage\n",
      "[download]  54.1% of ~ 427.79MiB at  513.47KiB/s ETA 05:28 (frag 98/183)"
     ]
    },
    {
     "name": "stderr",
     "output_type": "stream",
     "text": [
      "frame=  161 fps=1.2 q=-0.0 size=N/A time=00:02:39.00 bitrate=N/A dup=0 drop=3820 speed=1.23x    \r"
     ]
    },
    {
     "name": "stdout",
     "output_type": "stream",
     "text": [
      "[download]  54.2% of ~ 428.24MiB at  535.51KiB/s ETA 05:42 (frag 98/183)"
     ]
    },
    {
     "name": "stderr",
     "output_type": "stream",
     "text": [
      "frame=  155 fps=1.1 q=-0.0 size=N/A time=00:02:33.00 bitrate=N/A dup=0 drop=3668 speed=1.11x    \r"
     ]
    },
    {
     "name": "stdout",
     "output_type": "stream",
     "text": [
      "[download]  54.1% of ~ 428.70MiB at  535.51KiB/s ETA 05:42 (frag 98/183)"
     ]
    },
    {
     "name": "stderr",
     "output_type": "stream",
     "text": [
      "frame=   35 fps=0.3 q=-0.0 size=N/A time=00:00:33.00 bitrate=N/A dup=0 drop=805 speed=0.26x     \r"
     ]
    },
    {
     "name": "stdout",
     "output_type": "stream",
     "text": [
      "[youtube] MoxFkJlVZlA: Downloading ios player API JSON\n",
      "[download]  54.0% of ~ 429.72MiB at  432.56KiB/s ETA 06:53 (frag 99/183)"
     ]
    },
    {
     "name": "stderr",
     "output_type": "stream",
     "text": [
      "frame=  161 fps=1.4 q=-0.0 size=N/A time=00:02:39.00 bitrate=N/A dup=0 drop=3813 speed=1.37x    \r"
     ]
    },
    {
     "name": "stdout",
     "output_type": "stream",
     "text": [
      "Deleting original file ./dataset_splited/RW94mABPEpw/video_1080p.f616.mp4 (pass -k to keep)\n",
      "[youtube] MoxFkJlVZlA: Downloading android player API JSON\n"
     ]
    },
    {
     "name": "stderr",
     "output_type": "stream",
     "text": [
      "frame=   36 fps=0.3 q=-0.0 size=N/A time=00:00:34.00 bitrate=N/A dup=0 drop=832 speed=0.258x    \r"
     ]
    },
    {
     "name": "stdout",
     "output_type": "stream",
     "text": [
      "[download]  54.6% of ~ 424.47MiB at  392.21KiB/s ETA 07:18 (frag 99/183)Deleting original file ./dataset_splited/RW94mABPEpw/video_1080p.f251.webm (pass -k to keep)\n",
      "[download]  54.7% of ~ 424.51MiB at  360.89KiB/s ETA 07:42 (frag 99/183)"
     ]
    },
    {
     "name": "stderr",
     "output_type": "stream",
     "text": [
      "frame=  164 fps=1.3 q=-0.0 size=N/A time=00:02:42.00 bitrate=N/A dup=0 drop=3884 speed=1.24x    \r"
     ]
    },
    {
     "name": "stdout",
     "output_type": "stream",
     "text": [
      "[download]  54.7% of ~ 424.91MiB at  350.24KiB/s ETA 07:57 (frag 99/183)[youtube] MoxFkJlVZlA: Downloading player d23221b6\n",
      "[download]  54.5% of ~ 426.63MiB at  437.38KiB/s ETA 07:38 (frag 100/183)"
     ]
    },
    {
     "name": "stderr",
     "output_type": "stream",
     "text": [
      "frame=  165 fps=1.3 q=-0.0 size=N/A time=00:02:43.00 bitrate=N/A dup=0 drop=3927 speed=1.24x    \r"
     ]
    },
    {
     "name": "stdout",
     "output_type": "stream",
     "text": [
      "[download]  55.2% of ~ 422.24MiB at  426.59KiB/s ETA 08:13 (frag 100/183)"
     ]
    },
    {
     "name": "stderr",
     "output_type": "stream",
     "text": [
      "frame=   36 fps=0.3 q=-0.0 size=N/A time=00:00:34.00 bitrate=N/A dup=0 drop=832 speed=0.262x    \r"
     ]
    },
    {
     "name": "stdout",
     "output_type": "stream",
     "text": [
      "[download]  55.1% of ~ 423.34MiB at  429.61KiB/s ETA 08:08 (frag 101/183)"
     ]
    },
    {
     "name": "stderr",
     "output_type": "stream",
     "text": [
      "ffmpeg version 4.2.7-0ubuntu0.1 Copyright (c) 2000-2022 the FFmpeg developers814 speed=1.12x    \n",
      "  built with gcc 9 (Ubuntu 9.4.0-1ubuntu1~20.04.1)\n",
      "  configuration: --prefix=/usr --extra-version=0ubuntu0.1 --toolchain=hardened --libdir=/usr/lib/x86_64-linux-gnu --incdir=/usr/include/x86_64-linux-gnu --arch=amd64 --enable-gpl --disable-stripping --enable-avresample --disable-filter=resample --enable-avisynth --enable-gnutls --enable-ladspa --enable-libaom --enable-libass --enable-libbluray --enable-libbs2b --enable-libcaca --enable-libcdio --enable-libcodec2 --enable-libflite --enable-libfontconfig --enable-libfreetype --enable-libfribidi --enable-libgme --enable-libgsm --enable-libjack --enable-libmp3lame --enable-libmysofa --enable-libopenjpeg --enable-libopenmpt --enable-libopus --enable-libpulse --enable-librsvg --enable-librubberband --enable-libshine --enable-libsnappy --enable-libsoxr --enable-libspeex --enable-libssh --enable-libtheora --enable-libtwolame --enable-libvidstab --enable-libvorbis --enable-libvpx --enable-libwavpack --enable-libwebp --enable-libx265 --enable-libxml2 --enable-libxvid --enable-libzmq --enable-libzvbi --enable-lv2 --enable-omx --enable-openal --enable-opencl --enable-opengl --enable-sdl2 --enable-libdc1394 --enable-libdrm --enable-libiec61883 --enable-nvenc --enable-chromaprint --enable-frei0r --enable-libx264 --enable-shared\n",
      "  libavutil      56. 31.100 / 56. 31.100\n",
      "  libavcodec     58. 54.100 / 58. 54.100\n",
      "  libavformat    58. 29.100 / 58. 29.100\n",
      "  libavdevice    58.  8.100 / 58.  8.100\n",
      "  libavfilter     7. 57.100 /  7. 57.100\n",
      "  libavresample   4.  0.  0 /  4.  0.  0\n",
      "  libswscale      5.  5.100 /  5.  5.100\n",
      "  libswresample   3.  5.100 /  3.  5.100\n",
      "  libpostproc    55.  5.100 / 55.  5.100\n",
      "frame=  187 fps=1.4 q=-0.0 size=N/A time=00:03:05.00 bitrate=N/A dup=0 drop=4447 speed=1.37x    \r"
     ]
    },
    {
     "name": "stdout",
     "output_type": "stream",
     "text": [
      "[download]  55.8% of ~ 418.42MiB at  364.88KiB/s ETA 08:55 (frag 101/183)"
     ]
    },
    {
     "name": "stderr",
     "output_type": "stream",
     "text": [
      "frame=  168 fps=1.3 q=-0.0 size=N/A time=00:02:46.00 bitrate=N/A dup=0 drop=3996 speed=1.24x    \r"
     ]
    },
    {
     "name": "stdout",
     "output_type": "stream",
     "text": [
      "[download]  55.7% of ~ 419.25MiB at  365.97KiB/s ETA 08:53 (frag 102/183)"
     ]
    },
    {
     "name": "stderr",
     "output_type": "stream",
     "text": [
      "Input #0, matroska,webm, from './dataset_splited/RW94mABPEpw/video_1080p.webm':6 speed=1.37x    \n",
      "  Metadata:\n",
      "    COMPATIBLE_BRANDS: iso6mp41\n",
      "    MAJOR_BRAND     : dash\n",
      "    MINOR_VERSION   : 0\n",
      "    ENCODER         : Lavf58.29.100\n",
      "  Duration: 00:06:53.16, start: -0.007000, bitrate: 4767 kb/s\n",
      "    Stream #0:0: Video: vp9 (Profile 0), yuv420p(tv, bt709), 1920x1080, SAR 1:1 DAR 16:9, 25 fps, 25 tbr, 1k tbn, 1k tbc (default)\n",
      "    Metadata:\n",
      "      HANDLER_NAME    : ISO Media file produced by Google Inc. Created on: 12/14/2023.\n",
      "      DURATION        : 00:06:53.080000000\n",
      "    Stream #0:1(eng): Audio: opus, 48000 Hz, stereo, fltp (default)\n",
      "    Metadata:\n",
      "      DURATION        : 00:06:53.161000000\n",
      "Stream mapping:\n",
      "  Stream #0:0 -> #0:0 (vp9 (native) -> png (native))\n",
      "Press [q] to stop, [?] for help\n"
     ]
    },
    {
     "name": "stdout",
     "output_type": "stream",
     "text": [
      "[download]  56.3% of ~ 414.68MiB at  234.46KiB/s ETA 12:40 (frag 102/183)"
     ]
    },
    {
     "name": "stderr",
     "output_type": "stream",
     "text": [
      "frame=  171 fps=1.4 q=-0.0 size=N/A time=00:02:49.00 bitrate=N/A dup=0 drop=4052 speed=1.39x    \r"
     ]
    },
    {
     "name": "stdout",
     "output_type": "stream",
     "text": [
      "[download]  56.3% of ~ 415.54MiB at  233.85KiB/s ETA 13:07 (frag 102/183)"
     ]
    },
    {
     "name": "stderr",
     "output_type": "stream",
     "text": [
      "frame=   38 fps=0.3 q=-0.0 size=N/A time=00:00:36.00 bitrate=N/A dup=0 drop=873 speed=0.263x    \r"
     ]
    },
    {
     "name": "stdout",
     "output_type": "stream",
     "text": [
      "[download]  56.1% of ~ 416.84MiB at  310.96KiB/s ETA 12:26 (frag 103/183)"
     ]
    },
    {
     "name": "stderr",
     "output_type": "stream",
     "text": [
      "Output #0, image2, to './dataset_splited/RW94mABPEpw/frames_1080p/frame-%04d.png':peed=1.12x    \n",
      "  Metadata:\n",
      "    COMPATIBLE_BRANDS: iso6mp41\n",
      "    MAJOR_BRAND     : dash\n",
      "    MINOR_VERSION   : 0\n",
      "    encoder         : Lavf58.29.100\n",
      "    Stream #0:0: Video: png, rgb24, 1920x1080 [SAR 1:1 DAR 16:9], q=2-31, 200 kb/s, 1 fps, 1 tbn, 1 tbc (default)\n",
      "    Metadata:\n",
      "      HANDLER_NAME    : ISO Media file produced by Google Inc. Created on: 12/14/2023.\n",
      "      DURATION        : 00:06:53.080000000\n",
      "      encoder         : Lavc58.54.100 png\n",
      "frame=   38 fps=0.3 q=-0.0 size=N/A time=00:00:36.00 bitrate=N/A dup=0 drop=879 speed=0.268x    \r"
     ]
    },
    {
     "name": "stdout",
     "output_type": "stream",
     "text": [
      "[download]  56.9% of ~ 412.19MiB at  313.41KiB/s ETA 12:06 (frag 103/183)"
     ]
    },
    {
     "name": "stderr",
     "output_type": "stream",
     "text": [
      "frame=   38 fps=0.3 q=-0.0 size=N/A time=00:00:36.00 bitrate=N/A dup=0 drop=882 speed=0.266x    \r"
     ]
    },
    {
     "name": "stdout",
     "output_type": "stream",
     "text": [
      "[download]  56.7% of ~ 413.26MiB at  352.30KiB/s ETA 11:35 (frag 104/183)"
     ]
    },
    {
     "name": "stderr",
     "output_type": "stream",
     "text": [
      "frame=  194 fps=1.4 q=-0.0 size=N/A time=00:03:12.00 bitrate=N/A dup=0 drop=4617 speed=1.37x    \r"
     ]
    },
    {
     "name": "stdout",
     "output_type": "stream",
     "text": [
      "[download]  57.4% of ~ 408.68MiB at  300.44KiB/s ETA 11:39 (frag 104/183)"
     ]
    },
    {
     "name": "stderr",
     "output_type": "stream",
     "text": [
      "frame=   59 fps=1.1 q=-0.0 size=N/A time=00:00:57.00 bitrate=N/A dup=0 drop=1383 speed=1.09x    \r"
     ]
    },
    {
     "name": "stdout",
     "output_type": "stream",
     "text": [
      "[download]  57.4% of ~ 409.45MiB at  349.89KiB/s ETA 11:07 (frag 104/183)"
     ]
    },
    {
     "name": "stderr",
     "output_type": "stream",
     "text": [
      "frame=   39 fps=0.3 q=-0.0 size=N/A time=00:00:37.00 bitrate=N/A dup=0 drop=894 speed=0.271x    \r"
     ]
    },
    {
     "name": "stdout",
     "output_type": "stream",
     "text": [
      "[download]  57.3% of ~ 410.38MiB at  373.04KiB/s ETA 10:42 (frag 105/183)"
     ]
    },
    {
     "name": "stderr",
     "output_type": "stream",
     "text": [
      "frame=  176 fps=1.3 q=-0.0 size=N/A time=00:02:54.00 bitrate=N/A dup=0 drop=4173 speed=1.25x    \r"
     ]
    },
    {
     "name": "stdout",
     "output_type": "stream",
     "text": [
      "[download]  57.9% of ~ 405.64MiB at  334.76KiB/s ETA 10:49 (frag 105/183)"
     ]
    },
    {
     "name": "stderr",
     "output_type": "stream",
     "text": [
      "frame=  177 fps=1.3 q=-0.0 size=N/A time=00:02:55.00 bitrate=N/A dup=0 drop=4196 speed=1.25x    \r"
     ]
    },
    {
     "name": "stdout",
     "output_type": "stream",
     "text": [
      "[download]  57.9% of ~ 406.04MiB at  307.13KiB/s ETA 10:56 (frag 105/183)"
     ]
    },
    {
     "name": "stderr",
     "output_type": "stream",
     "text": [
      "frame=  198 fps=1.4 q=-0.0 size=N/A time=00:03:16.00 bitrate=N/A dup=0 drop=4708 speed=1.38x    \r"
     ]
    },
    {
     "name": "stdout",
     "output_type": "stream",
     "text": [
      "[download]  57.8% of ~ 406.83MiB at  362.18KiB/s ETA 10:27 (frag 106/183)"
     ]
    },
    {
     "name": "stderr",
     "output_type": "stream",
     "text": [
      "frame=  200 fps=1.4 q=-0.0 size=N/A time=00:03:18.00 bitrate=N/A dup=0 drop=4748 speed=1.38x    \r"
     ]
    },
    {
     "name": "stdout",
     "output_type": "stream",
     "text": [
      "[download]  58.5% of ~ 402.53MiB at  330.82KiB/s ETA 10:15 (frag 106/183)"
     ]
    },
    {
     "name": "stderr",
     "output_type": "stream",
     "text": [
      "frame=  179 fps=1.3 q=-0.0 size=N/A time=00:02:57.00 bitrate=N/A dup=0 drop=4261 speed=1.24x    \r"
     ]
    },
    {
     "name": "stdout",
     "output_type": "stream",
     "text": [
      "[download]  58.5% of ~ 402.85MiB at  293.85KiB/s ETA 10:36 (frag 106/183)"
     ]
    },
    {
     "name": "stderr",
     "output_type": "stream",
     "text": [
      "frame=   40 fps=0.3 q=-0.0 size=N/A time=00:00:38.00 bitrate=N/A dup=0 drop=926 speed=0.272x    \r"
     ]
    },
    {
     "name": "stdout",
     "output_type": "stream",
     "text": [
      "[download]  58.4% of ~ 403.57MiB at  301.01KiB/s ETA 10:27 (frag 107/183)"
     ]
    },
    {
     "name": "stderr",
     "output_type": "stream",
     "text": [
      "frame=  182 fps=1.4 q=-0.0 size=N/A time=00:03:00.00 bitrate=N/A dup=0 drop=4316 speed=1.39x    \r"
     ]
    },
    {
     "name": "stdout",
     "output_type": "stream",
     "text": [
      "[download]  59.0% of ~ 399.27MiB at  281.12KiB/s ETA 10:35 (frag 107/183)"
     ]
    },
    {
     "name": "stderr",
     "output_type": "stream",
     "text": [
      "frame=  181 fps=1.3 q=-0.0 size=N/A time=00:02:59.00 bitrate=N/A dup=0 drop=4296 speed=1.25x    \r"
     ]
    },
    {
     "name": "stdout",
     "output_type": "stream",
     "text": [
      "[download]  59.0% of ~ 399.47MiB at  267.91KiB/s ETA 10:42 (frag 107/183)"
     ]
    },
    {
     "name": "stderr",
     "output_type": "stream",
     "text": [
      "frame=    3 fps=0.3 q=-0.0 size=N/A time=00:00:01.00 bitrate=N/A dup=0 drop=35 speed=0.115x     \r"
     ]
    },
    {
     "name": "stdout",
     "output_type": "stream",
     "text": [
      "[download]  59.0% of ~ 399.97MiB at  244.54KiB/s ETA 11:07 (frag 108/183)"
     ]
    },
    {
     "name": "stderr",
     "output_type": "stream",
     "text": [
      "frame=   41 fps=0.3 q=-0.0 size=N/A time=00:00:39.00 bitrate=N/A dup=0 drop=952 speed=0.275x    \r"
     ]
    },
    {
     "name": "stdout",
     "output_type": "stream",
     "text": [
      "[download]  59.6% of ~ 395.98MiB at  230.70KiB/s ETA 11:23 (frag 108/183)"
     ]
    },
    {
     "name": "stderr",
     "output_type": "stream",
     "text": [
      "frame=   67 fps=1.2 q=-0.0 size=N/A time=00:01:05.00 bitrate=N/A dup=0 drop=1572 speed=1.12x    \r"
     ]
    },
    {
     "name": "stdout",
     "output_type": "stream",
     "text": [
      "[download]  59.7% of ~ 396.79MiB at  321.91KiB/s ETA 10:43 (frag 108/183)"
     ]
    },
    {
     "name": "stderr",
     "output_type": "stream",
     "text": [
      "frame=   68 fps=1.2 q=-0.0 size=N/A time=00:01:06.00 bitrate=N/A dup=0 drop=1591 speed=1.13x    \r"
     ]
    },
    {
     "name": "stdout",
     "output_type": "stream",
     "text": [
      "[download]  59.7% of ~ 397.63MiB at  438.22KiB/s ETA 10:02 (frag 108/183)"
     ]
    },
    {
     "name": "stderr",
     "output_type": "stream",
     "text": [
      "frame=   42 fps=0.3 q=-0.0 size=N/A time=00:00:40.00 bitrate=N/A dup=0 drop=958 speed=0.281x    \r"
     ]
    },
    {
     "name": "stdout",
     "output_type": "stream",
     "text": [
      "[download]  59.1% of ~ 401.60MiB at  504.95KiB/s ETA 09:27 (frag 109/183)"
     ]
    },
    {
     "name": "stderr",
     "output_type": "stream",
     "text": [
      "frame=  184 fps=1.3 q=-0.0 size=N/A time=00:03:02.00 bitrate=N/A dup=0 drop=4381 speed=1.25x    \r"
     ]
    },
    {
     "name": "stdout",
     "output_type": "stream",
     "text": [
      "[download]  60.1% of ~ 395.17MiB at  576.89KiB/s ETA 08:04 (frag 109/183)"
     ]
    },
    {
     "name": "stderr",
     "output_type": "stream",
     "text": [
      "frame=   70 fps=1.2 q=-0.0 size=N/A time=00:01:08.00 bitrate=N/A dup=0 drop=1649 speed=1.13x    \r"
     ]
    },
    {
     "name": "stdout",
     "output_type": "stream",
     "text": [
      "[download]  60.2% of ~ 395.98MiB at  779.30KiB/s ETA 07:09 (frag 109/183)"
     ]
    },
    {
     "name": "stderr",
     "output_type": "stream",
     "text": [
      "frame=   41 fps=0.3 q=-0.0 size=N/A time=00:00:39.00 bitrate=N/A dup=0 drop=951 speed=0.263x    \r"
     ]
    },
    {
     "name": "stdout",
     "output_type": "stream",
     "text": [
      "[download]  59.9% of ~ 398.02MiB at  880.33KiB/s ETA 06:41 (frag 110/183)"
     ]
    },
    {
     "name": "stderr",
     "output_type": "stream",
     "text": [
      "frame=  208 fps=1.4 q=-0.0 size=N/A time=00:03:26.00 bitrate=N/A dup=0 drop=4940 speed=1.38x    \r"
     ]
    },
    {
     "name": "stdout",
     "output_type": "stream",
     "text": [
      "[download]  60.7% of ~ 393.04MiB at  244.88KiB/s ETA 07:45:46 (frag 110/183)"
     ]
    },
    {
     "name": "stderr",
     "output_type": "stream",
     "text": [
      "frame=  190 fps=1.3 q=-0.0 size=N/A time=00:03:08.00 bitrate=N/A dup=0 drop=4529 speed=1.25x     \r"
     ]
    },
    {
     "name": "stdout",
     "output_type": "stream",
     "text": [
      "[download]  60.7% of ~ 393.43MiB at  202.45KiB/s ETA 07:01:45 (frag 110/183)"
     ]
    },
    {
     "name": "stderr",
     "output_type": "stream",
     "text": [
      "frame=   44 fps=0.3 q=-0.0 size=N/A time=00:00:42.00 bitrate=N/A dup=0 drop=1007 speed=0.284x    \r"
     ]
    },
    {
     "name": "stdout",
     "output_type": "stream",
     "text": [
      "[download]  60.7% of ~ 394.66MiB at  319.51KiB/s ETA 05:42:47 (frag 110/183)"
     ]
    },
    {
     "name": "stderr",
     "output_type": "stream",
     "text": [
      "frame=  213 fps=1.4 q=-0.0 Lsize=N/A time=00:03:33.00 bitrate=N/A dup=0 drop=5072 speed= 1.4x    \n",
      "video:85569kB audio:0kB subtitle:0kB other streams:0kB global headers:0kB muxing overhead: unknown\n",
      "frame=    5 fps=0.3 q=-0.0 size=N/A time=00:00:03.00 bitrate=N/A dup=0 drop=81 speed=0.186x     \r"
     ]
    },
    {
     "name": "stdout",
     "output_type": "stream",
     "text": [
      "[download]  60.4% of ~ 396.97MiB at  349.17KiB/s ETA 05:09:09 (frag 111/183)"
     ]
    },
    {
     "name": "stderr",
     "output_type": "stream",
     "text": [
      "frame=  198 fps=1.4 q=-0.0 size=N/A time=00:03:16.00 bitrate=N/A dup=0 drop=4708 speed=1.41x     \r"
     ]
    },
    {
     "name": "stdout",
     "output_type": "stream",
     "text": [
      "[download]  61.2% of ~ 391.49MiB at  438.94KiB/s ETA 04:11:21 (frag 111/183)"
     ]
    },
    {
     "name": "stderr",
     "output_type": "stream",
     "text": [
      "frame=   43 fps=0.3 q=-0.0 size=N/A time=00:00:41.00 bitrate=N/A dup=0 drop=1001 speed=0.266x    \r"
     ]
    },
    {
     "name": "stdout",
     "output_type": "stream",
     "text": [
      "[download]  61.3% of ~ 391.87MiB at  484.90KiB/s ETA 03:24:31 (frag 111/183)"
     ]
    },
    {
     "name": "stderr",
     "output_type": "stream",
     "text": [
      "frame=   81 fps=1.2 q=-0.0 size=N/A time=00:01:19.00 bitrate=N/A dup=0 drop=1892 speed=1.19x     \r"
     ]
    },
    {
     "name": "stdout",
     "output_type": "stream",
     "text": [
      "[download]  61.2% of ~ 393.09MiB at  654.91KiB/s ETA 02:46:16 (frag 111/183)"
     ]
    },
    {
     "name": "stderr",
     "output_type": "stream",
     "text": [
      "frame=  200 fps=1.4 q=-0.0 size=N/A time=00:03:18.00 bitrate=N/A dup=0 drop=4755 speed=1.42x     \r"
     ]
    },
    {
     "name": "stdout",
     "output_type": "stream",
     "text": [
      "[download]  60.9% of ~ 394.96MiB at  592.26KiB/s ETA 02:30:13 (frag 112/183)"
     ]
    },
    {
     "name": "stderr",
     "output_type": "stream",
     "text": [
      "frame=   44 fps=0.3 q=-0.0 size=N/A time=00:00:42.00 bitrate=N/A dup=0 drop=1011 speed=0.27x     \r"
     ]
    },
    {
     "name": "stdout",
     "output_type": "stream",
     "text": [
      "[youtube] Extracting URL: https://www.youtube.com/watch?v=m3GPb-A9CQ4\n",
      "[youtube] m3GPb-A9CQ4: Downloading webpage\n"
     ]
    },
    {
     "name": "stderr",
     "output_type": "stream",
     "text": [
      "frame=  195 fps=1.2 q=-0.0 size=N/A time=00:03:13.00 bitrate=N/A dup=0 drop=4634 speed=1.18x     \r"
     ]
    },
    {
     "name": "stdout",
     "output_type": "stream",
     "text": [
      "[youtube] m3GPb-A9CQ4: Downloading ios player API JSON\n",
      "[download]  61.7% of ~ 389.74MiB at  541.48KiB/s ETA 02:15:48 (frag 112/183)[youtube] m3GPb-A9CQ4: Downloading android player API JSON\n"
     ]
    },
    {
     "name": "stderr",
     "output_type": "stream",
     "text": [
      "frame=   46 fps=0.3 q=-0.0 size=N/A time=00:00:44.00 bitrate=N/A dup=0 drop=1055 speed=0.289x    \r"
     ]
    },
    {
     "name": "stdout",
     "output_type": "stream",
     "text": [
      "[download]  61.8% of ~ 390.13MiB at  486.15KiB/s ETA 01:51:07 (frag 112/183)"
     ]
    },
    {
     "name": "stderr",
     "output_type": "stream",
     "text": [
      "frame=  196 fps=1.2 q=-0.0 size=N/A time=00:03:14.00 bitrate=N/A dup=0 drop=4656 speed=1.19x    \r"
     ]
    },
    {
     "name": "stdout",
     "output_type": "stream",
     "text": [
      "[download]  61.8% of ~ 390.54MiB at  520.30KiB/s ETA 01:40:26 (frag 112/183)"
     ]
    },
    {
     "name": "stderr",
     "output_type": "stream",
     "text": [
      "ERROR: [youtube] m3GPb-A9CQ4: Video unavailable. This video is no longer available due to a copyright claim by FIFA\n",
      "frame=   44 fps=0.3 q=-0.0 size=N/A time=00:00:42.00 bitrate=N/A dup=0 drop=1025 speed=0.267x    \r"
     ]
    },
    {
     "name": "stdout",
     "output_type": "stream",
     "text": [
      "[download]  61.6% of ~ 391.73MiB at  526.57KiB/s ETA 01:30:52 (frag 113/183)"
     ]
    },
    {
     "name": "stderr",
     "output_type": "stream",
     "text": [
      "frame=   45 fps=0.3 q=-0.0 size=N/A time=00:00:43.00 bitrate=N/A dup=0 drop=1033 speed=0.272x    \r"
     ]
    },
    {
     "name": "stdout",
     "output_type": "stream",
     "text": [
      "[download]  62.3% of ~ 387.31MiB at  466.98KiB/s ETA 01:22:32 (frag 113/183)"
     ]
    },
    {
     "name": "stderr",
     "output_type": "stream",
     "text": [
      "frame=   47 fps=0.3 q=-0.0 size=N/A time=00:00:45.00 bitrate=N/A dup=0 drop=1078 speed=0.291x    \r"
     ]
    },
    {
     "name": "stdout",
     "output_type": "stream",
     "text": [
      "[download]  62.3% of ~ 387.50MiB at  421.98KiB/s ETA 01:08:08 (frag 113/183)"
     ]
    },
    {
     "name": "stderr",
     "output_type": "stream",
     "text": [
      "frame=  201 fps=1.3 q=-0.0 size=N/A time=00:03:19.00 bitrate=N/A dup=0 drop=4772 speed=1.26x    \r"
     ]
    },
    {
     "name": "stdout",
     "output_type": "stream",
     "text": [
      "[download]  62.3% of ~ 388.90MiB at  489.60KiB/s ETA 56:05 (frag 113/183)   "
     ]
    },
    {
     "name": "stderr",
     "output_type": "stream",
     "text": [
      "frame=  200 fps=1.2 q=-0.0 size=N/A time=00:03:18.00 bitrate=N/A dup=0 drop=4760 speed=1.19x     \r"
     ]
    },
    {
     "name": "stdout",
     "output_type": "stream",
     "text": [
      "[download]  62.0% of ~ 390.58MiB at  508.14KiB/s ETA 50:56 (frag 114/183)"
     ]
    },
    {
     "name": "stderr",
     "output_type": "stream",
     "text": [
      "frame=  201 fps=1.2 q=-0.0 size=N/A time=00:03:19.00 bitrate=N/A dup=0 drop=4792 speed=1.19x     \r"
     ]
    },
    {
     "name": "stdout",
     "output_type": "stream",
     "text": [
      "[youtube] Extracting URL: https://www.youtube.com/watch?v=m3GPb-A9CQ4\n",
      "[youtube] m3GPb-A9CQ4: Downloading webpage\n"
     ]
    },
    {
     "name": "stderr",
     "output_type": "stream",
     "text": [
      "frame=   91 fps=1.3 q=-0.0 size=N/A time=00:01:29.00 bitrate=N/A dup=0 drop=2144 speed=1.23x     \r"
     ]
    },
    {
     "name": "stdout",
     "output_type": "stream",
     "text": [
      "[download]  62.8% of ~ 385.56MiB at  475.37KiB/s ETA 42:18 (frag 114/183)[youtube] m3GPb-A9CQ4: Downloading ios player API JSON\n",
      "[download]  62.9% of ~ 385.75MiB at  486.76KiB/s ETA 38:33 (frag 114/183)[youtube] m3GPb-A9CQ4: Downloading android player API JSON\n"
     ]
    },
    {
     "name": "stderr",
     "output_type": "stream",
     "text": [
      "frame=  204 fps=1.3 q=-0.0 size=N/A time=00:03:22.00 bitrate=N/A dup=0 drop=4861 speed=1.26x     \r"
     ]
    },
    {
     "name": "stdout",
     "output_type": "stream",
     "text": [
      "[download]  62.9% of ~ 386.35MiB at  541.69KiB/s ETA 32:00 (frag 114/183)"
     ]
    },
    {
     "name": "stderr",
     "output_type": "stream",
     "text": [
      "ERROR: [youtube] m3GPb-A9CQ4: Video unavailable. This video is no longer available due to a copyright claim by FIFA\n"
     ]
    },
    {
     "name": "stdout",
     "output_type": "stream",
     "text": [
      "[download]  62.7% of ~ 387.42MiB at  544.55KiB/s ETA 29:15 (frag 115/183)"
     ]
    },
    {
     "name": "stderr",
     "output_type": "stream",
     "text": [
      "frame=  215 fps=1.5 q=-0.0 size=N/A time=00:03:33.00 bitrate=N/A dup=0 drop=5119 speed=1.44x     \r"
     ]
    },
    {
     "name": "stdout",
     "output_type": "stream",
     "text": [
      "[download]  63.4% of ~ 383.16MiB at  465.40KiB/s ETA 27:11 (frag 115/183)"
     ]
    },
    {
     "name": "stderr",
     "output_type": "stream",
     "text": [
      "frame=    8 fps=0.3 q=-0.0 size=N/A time=00:00:06.00 bitrate=N/A dup=0 drop=153 speed=0.225x     \r"
     ]
    },
    {
     "name": "stdout",
     "output_type": "stream",
     "text": [
      "[download]  63.4% of ~ 383.35MiB at  373.38KiB/s ETA 21:52 (frag 115/183)[youtube] MoxFkJlVZlA: Downloading m3u8 information\n",
      "[download]  63.4% of ~ 383.94MiB at  404.22KiB/s ETA 20:11 (frag 115/183)"
     ]
    },
    {
     "name": "stderr",
     "output_type": "stream",
     "text": [
      "frame=   95 fps=1.3 q=-0.0 size=N/A time=00:01:33.00 bitrate=N/A dup=0 drop=2251 speed=1.24x     \r"
     ]
    },
    {
     "name": "stdout",
     "output_type": "stream",
     "text": [
      "[download]  63.2% of ~ 384.98MiB at  415.28KiB/s ETA 18:43 (frag 116/183)"
     ]
    },
    {
     "name": "stderr",
     "output_type": "stream",
     "text": [
      "frame=  209 fps=1.2 q=-0.0 size=N/A time=00:03:27.00 bitrate=N/A dup=0 drop=4964 speed=1.21x     \r"
     ]
    },
    {
     "name": "stdout",
     "output_type": "stream",
     "text": [
      "[youtube] Extracting URL: https://www.youtube.com/watch?v=BWkt79xkd00\n",
      "[youtube] BWkt79xkd00: Downloading webpage\n",
      "[download]  63.9% of ~ 380.81MiB at  350.26KiB/s ETA 18:01 (frag 116/183)"
     ]
    },
    {
     "name": "stderr",
     "output_type": "stream",
     "text": [
      "frame=  210 fps=1.3 q=-0.0 size=N/A time=00:03:28.00 bitrate=N/A dup=0 drop=4988 speed=1.27x    \r"
     ]
    },
    {
     "name": "stdout",
     "output_type": "stream",
     "text": [
      "[download]  64.0% of ~ 381.18MiB at  470.15KiB/s ETA 14:24 (frag 116/183)"
     ]
    },
    {
     "name": "stderr",
     "output_type": "stream",
     "text": [
      "frame=  218 fps=1.5 q=-0.0 size=N/A time=00:03:36.00 bitrate=N/A dup=0 drop=5187 speed=1.44x     \r"
     ]
    },
    {
     "name": "stdout",
     "output_type": "stream",
     "text": [
      "[download]  64.1% of ~ 383.91MiB at    1.02MiB/s ETA 11:01 (frag 116/183)"
     ]
    },
    {
     "name": "stderr",
     "output_type": "stream",
     "text": [
      "frame=  211 fps=1.3 q=-0.0 size=N/A time=00:03:29.00 bitrate=N/A dup=0 drop=5012 speed=1.28x     \r"
     ]
    },
    {
     "name": "stdout",
     "output_type": "stream",
     "text": [
      "[download]  63.3% of ~ 388.60MiB at    1.12MiB/s ETA 10:06 (frag 117/183)"
     ]
    },
    {
     "name": "stderr",
     "output_type": "stream",
     "text": [
      "frame=   47 fps=0.3 q=-0.0 size=N/A time=00:00:45.00 bitrate=N/A dup=0 drop=1094 speed=0.272x    \r"
     ]
    },
    {
     "name": "stdout",
     "output_type": "stream",
     "text": [
      "[youtube] BWkt79xkd00: Downloading ios player API JSON\n",
      "[youtube] BWkt79xkd00: Downloading android player API JSON\n"
     ]
    },
    {
     "name": "stderr",
     "output_type": "stream",
     "text": [
      "frame=    9 fps=0.3 q=-0.0 size=N/A time=00:00:07.00 bitrate=N/A dup=0 drop=175 speed=0.236x    \r"
     ]
    },
    {
     "name": "stdout",
     "output_type": "stream",
     "text": [
      "[download]  64.5% of ~ 381.45MiB at    1.05MiB/s ETA 09:21 (frag 117/183)"
     ]
    },
    {
     "name": "stderr",
     "output_type": "stream",
     "text": [
      "frame=   47 fps=0.3 q=-0.0 size=N/A time=00:00:45.00 bitrate=N/A dup=0 drop=1099 speed=0.271x    \r"
     ]
    },
    {
     "name": "stdout",
     "output_type": "stream",
     "text": [
      "[download]  64.5% of ~ 381.63MiB at 1017.28KiB/s ETA 08:40 (frag 117/183)[youtube] BWkt79xkd00: Downloading m3u8 information\n",
      "[download]  64.5% of ~ 382.21MiB at 1021.33KiB/s ETA 08:02 (frag 117/183)"
     ]
    },
    {
     "name": "stderr",
     "output_type": "stream",
     "text": [
      "frame=  213 fps=1.3 q=-0.0 size=N/A time=00:03:31.00 bitrate=N/A dup=0 drop=5067 speed=1.28x    \r"
     ]
    },
    {
     "name": "stdout",
     "output_type": "stream",
     "text": [
      "[download]  64.3% of ~ 383.30MiB at    1.09MiB/s ETA 07:24 (frag 118/183)"
     ]
    },
    {
     "name": "stderr",
     "output_type": "stream",
     "text": [
      "frame=  224 fps=1.5 q=-0.0 size=N/A time=00:03:42.00 bitrate=N/A dup=0 drop=5328 speed=1.45x     \r"
     ]
    },
    {
     "name": "stdout",
     "output_type": "stream",
     "text": [
      "[download]  65.0% of ~ 379.16MiB at  691.79KiB/s ETA 07:29 (frag 118/183)"
     ]
    },
    {
     "name": "stderr",
     "output_type": "stream",
     "text": [
      "frame=  215 fps=1.3 q=-0.0 size=N/A time=00:03:33.00 bitrate=N/A dup=0 drop=5128 speed=1.27x     \r"
     ]
    },
    {
     "name": "stdout",
     "output_type": "stream",
     "text": [
      "[download]  65.2% of ~ 379.92MiB at  494.35KiB/s ETA 07:08 (frag 118/183)"
     ]
    },
    {
     "name": "stderr",
     "output_type": "stream",
     "text": [
      "frame=  216 fps=1.2 q=-0.0 size=N/A time=00:03:34.00 bitrate=N/A dup=0 drop=5138 speed=1.22x     \r"
     ]
    },
    {
     "name": "stdout",
     "output_type": "stream",
     "text": [
      "[download]  64.5% of ~ 385.18MiB at  723.41KiB/s ETA 06:14 (frag 119/183)"
     ]
    },
    {
     "name": "stderr",
     "output_type": "stream",
     "text": [
      "frame=  226 fps=1.5 q=-0.0 size=N/A time=00:03:44.00 bitrate=N/A dup=0 drop=5376 speed=1.45x     \r"
     ]
    },
    {
     "name": "stdout",
     "output_type": "stream",
     "text": [
      "[info] MoxFkJlVZlA: Downloading 1 format(s): 303+251\n"
     ]
    },
    {
     "name": "stderr",
     "output_type": "stream",
     "text": [
      "frame=   49 fps=0.3 q=-0.0 size=N/A time=00:00:47.00 bitrate=N/A dup=0 drop=1133 speed=0.276x    \r"
     ]
    },
    {
     "name": "stdout",
     "output_type": "stream",
     "text": [
      "[download]  65.6% of ~ 379.36MiB at  923.37KiB/s ETA 05:08 (frag 119/183)"
     ]
    },
    {
     "name": "stderr",
     "output_type": "stream",
     "text": [
      "frame=  219 fps=1.2 q=-0.0 size=N/A time=00:03:37.00 bitrate=N/A dup=0 drop=5219 speed=1.22x    \r"
     ]
    },
    {
     "name": "stdout",
     "output_type": "stream",
     "text": [
      "[download]  65.4% of ~ 380.43MiB at  926.88KiB/s ETA 04:52 (frag 120/183)"
     ]
    },
    {
     "name": "stderr",
     "output_type": "stream",
     "text": [
      "frame=  220 fps=1.2 q=-0.0 size=N/A time=00:03:38.00 bitrate=N/A dup=0 drop=5243 speed=1.22x     \r"
     ]
    },
    {
     "name": "stdout",
     "output_type": "stream",
     "text": [
      "[download] Destination: ./dataset_splited/MoxFkJlVZlA/video_1080p.f303.webm\n",
      "[download]   0.1% of  127.44MiB at  694.05KiB/s ETA 03:07   "
     ]
    },
    {
     "name": "stderr",
     "output_type": "stream",
     "text": [
      "frame=   49 fps=0.3 q=-0.0 size=N/A time=00:00:47.00 bitrate=N/A dup=0 drop=1144 speed=0.274x    \r"
     ]
    },
    {
     "name": "stdout",
     "output_type": "stream",
     "text": [
      "[download]   0.4% of  127.44MiB at    1.59MiB/s ETA 01:19"
     ]
    },
    {
     "name": "stderr",
     "output_type": "stream",
     "text": [
      "frame=  229 fps=1.5 q=-0.0 size=N/A time=00:03:47.00 bitrate=N/A dup=0 drop=5467 speed=1.45x    \r"
     ]
    },
    {
     "name": "stdout",
     "output_type": "stream",
     "text": [
      "[download]   1.6% of  127.44MiB at    2.18MiB/s ETA 00:577 (frag 120/183)"
     ]
    },
    {
     "name": "stderr",
     "output_type": "stream",
     "text": [
      "frame=  222 fps=1.2 q=-0.0 size=N/A time=00:03:40.00 bitrate=N/A dup=0 drop=5279 speed=1.23x     \r"
     ]
    },
    {
     "name": "stdout",
     "output_type": "stream",
     "text": [
      "[download]  66.0% of ~ 377.67MiB at  418.43KiB/s ETA 06:27 (frag 121/183)"
     ]
    },
    {
     "name": "stderr",
     "output_type": "stream",
     "text": [
      "frame=   50 fps=0.3 q=-0.0 size=N/A time=00:00:48.00 bitrate=N/A dup=0 drop=1151 speed=0.278x    \r"
     ]
    },
    {
     "name": "stdout",
     "output_type": "stream",
     "text": [
      "[download]  66.7% of ~ 374.05MiB at  355.94KiB/s ETA 06:36 (frag 121/183)"
     ]
    },
    {
     "name": "stderr",
     "output_type": "stream",
     "text": [
      "frame=   11 fps=0.3 q=-0.0 size=N/A time=00:00:09.00 bitrate=N/A dup=0 drop=234 speed=0.243x     \r"
     ]
    },
    {
     "name": "stdout",
     "output_type": "stream",
     "text": [
      "[download]  66.7% of ~ 374.40MiB at  300.69KiB/s ETA 07:10 (frag 121/183)[info] BWkt79xkd00: Downloading 1 format(s): 244+251\n",
      "[download]  66.8% of ~ 374.78MiB at  368.32KiB/s ETA 06:51 (frag 121/183)"
     ]
    },
    {
     "name": "stderr",
     "output_type": "stream",
     "text": [
      "frame=   12 fps=0.3 q=-0.0 size=N/A time=00:00:10.00 bitrate=N/A dup=0 drop=236 speed=0.267x     \r"
     ]
    },
    {
     "name": "stdout",
     "output_type": "stream",
     "text": [
      "[download]   5.3% of  127.44MiB at    2.70MiB/s ETA 00:443 (frag 121/183)"
     ]
    },
    {
     "name": "stderr",
     "output_type": "stream",
     "text": [
      "frame=  232 fps=1.5 q=-0.0 size=N/A time=00:03:50.00 bitrate=N/A dup=0 drop=5531 speed=1.45x     \r"
     ]
    },
    {
     "name": "stdout",
     "output_type": "stream",
     "text": [
      "[download]   7.7% of  127.44MiB at  739.79KiB/s ETA 02:42  (frag 122/183)"
     ]
    },
    {
     "name": "stderr",
     "output_type": "stream",
     "text": [
      "frame=   52 fps=0.3 q=-0.0 size=N/A time=00:00:50.00 bitrate=N/A dup=0 drop=1215 speed=0.293x    \r"
     ]
    },
    {
     "name": "stdout",
     "output_type": "stream",
     "text": [
      "[download]  67.2% of ~ 372.68MiB at  525.16KiB/s ETA 05:45 (frag 122/183)"
     ]
    },
    {
     "name": "stderr",
     "output_type": "stream",
     "text": [
      "frame=   50 fps=0.3 q=-0.0 size=N/A time=00:00:48.00 bitrate=N/A dup=0 drop=1163 speed=0.275x    \r"
     ]
    },
    {
     "name": "stdout",
     "output_type": "stream",
     "text": [
      "[download]  67.2% of ~ 372.73MiB at  526.88KiB/s ETA 05:34 (frag 122/183)"
     ]
    },
    {
     "name": "stderr",
     "output_type": "stream",
     "text": [
      "frame=  111 fps=1.3 q=-0.0 size=N/A time=00:01:49.00 bitrate=N/A dup=0 drop=2634 speed=1.26x    \r"
     ]
    },
    {
     "name": "stdout",
     "output_type": "stream",
     "text": [
      "[download]  67.1% of ~ 373.84MiB at  523.73KiB/s ETA 05:17 (frag 123/183)"
     ]
    },
    {
     "name": "stderr",
     "output_type": "stream",
     "text": [
      "frame=   53 fps=0.3 q=-0.0 size=N/A time=00:00:51.00 bitrate=N/A dup=0 drop=1220 speed=0.298x    \r"
     ]
    },
    {
     "name": "stdout",
     "output_type": "stream",
     "text": [
      "[download]  15.3% of  127.44MiB at    1.29MiB/s ETA 01:23  "
     ]
    },
    {
     "name": "stderr",
     "output_type": "stream",
     "text": [
      "frame=  225 fps=1.3 q=-0.0 size=N/A time=00:03:43.00 bitrate=N/A dup=0 drop=5348 speed=1.28x     \r"
     ]
    },
    {
     "name": "stdout",
     "output_type": "stream",
     "text": [
      "[download]  67.8% of ~ 370.23MiB at  542.26KiB/s ETA 05:06 (frag 123/183)[download] Destination: ./dataset_splited/BWkt79xkd00/video_480p.f244.webm\n",
      "[download]   0.0% of   80.76MiB at   88.36KiB/s ETA 15:366 (frag 123/183)"
     ]
    },
    {
     "name": "stderr",
     "output_type": "stream",
     "text": [
      "frame=  113 fps=1.3 q=-0.0 size=N/A time=00:01:51.00 bitrate=N/A dup=0 drop=2668 speed=1.26x     \r"
     ]
    },
    {
     "name": "stdout",
     "output_type": "stream",
     "text": [
      "[download]  67.8% of ~ 370.41MiB at  569.37KiB/s ETA 04:34 (frag 123/183)"
     ]
    },
    {
     "name": "stderr",
     "output_type": "stream",
     "text": [
      "frame=   12 fps=0.3 q=-0.0 size=N/A time=00:00:10.00 bitrate=N/A dup=0 drop=257 speed=0.249x    \r"
     ]
    },
    {
     "name": "stdout",
     "output_type": "stream",
     "text": [
      "[download]   1.2% of   80.76MiB at    1.47MiB/s ETA 00:546 (frag 124/183)"
     ]
    },
    {
     "name": "stderr",
     "output_type": "stream",
     "text": [
      "frame=  226 fps=1.3 q=-0.0 size=N/A time=00:03:44.00 bitrate=N/A dup=0 drop=5393 speed=1.28x     \r"
     ]
    },
    {
     "name": "stdout",
     "output_type": "stream",
     "text": [
      "[download]  23.2% of  127.44MiB at    9.19MiB/s ETA 00:10"
     ]
    },
    {
     "name": "stderr",
     "output_type": "stream",
     "text": [
      "frame=  227 fps=1.2 q=-0.0 size=N/A time=00:03:45.00 bitrate=N/A dup=0 drop=5418 speed=1.23x     \r"
     ]
    },
    {
     "name": "stdout",
     "output_type": "stream",
     "text": [
      "[download]  24.7% of  127.44MiB at    6.77MiB/s ETA 00:143 (frag 124/183)"
     ]
    },
    {
     "name": "stderr",
     "output_type": "stream",
     "text": [
      "frame=   53 fps=0.3 q=-0.0 size=N/A time=00:00:51.00 bitrate=N/A dup=0 drop=1234 speed=0.295x    \r"
     ]
    },
    {
     "name": "stdout",
     "output_type": "stream",
     "text": [
      "[download]  29.4% of  127.44MiB at   10.56MiB/s ETA 00:089 (frag 125/183)"
     ]
    },
    {
     "name": "stderr",
     "output_type": "stream",
     "text": [
      "frame=  237 fps=1.5 q=-0.0 size=N/A time=00:03:55.00 bitrate=N/A dup=0 drop=5644 speed=1.45x     \r"
     ]
    },
    {
     "name": "stdout",
     "output_type": "stream",
     "text": [
      "[download]  68.9% of ~ 365.86MiB at  446.78KiB/s ETA 04:34 (frag 125/183)"
     ]
    },
    {
     "name": "stderr",
     "output_type": "stream",
     "text": [
      "frame=   51 fps=0.3 q=-0.0 size=N/A time=00:00:49.00 bitrate=N/A dup=0 drop=1181 speed=0.275x    \r"
     ]
    },
    {
     "name": "stdout",
     "output_type": "stream",
     "text": [
      "[download]  31.2% of  127.44MiB at    1.17MiB/s ETA 01:140 (frag 125/183)"
     ]
    },
    {
     "name": "stderr",
     "output_type": "stream",
     "text": [
      "frame=  230 fps=1.2 q=-0.0 size=N/A time=00:03:48.00 bitrate=N/A dup=0 drop=5471 speed=1.23x    \r"
     ]
    },
    {
     "name": "stdout",
     "output_type": "stream",
     "text": [
      "[download]  12.0% of   80.76MiB at    3.43MiB/s ETA 00:204 (frag 126/183)"
     ]
    },
    {
     "name": "stderr",
     "output_type": "stream",
     "text": [
      "frame=  229 fps=1.3 q=-0.0 size=N/A time=00:03:47.00 bitrate=N/A dup=0 drop=5449 speed=1.28x     \r"
     ]
    },
    {
     "name": "stdout",
     "output_type": "stream",
     "text": [
      "[download]  12.1% of   80.76MiB at  776.06KiB/s ETA 01:33  "
     ]
    },
    {
     "name": "stderr",
     "output_type": "stream",
     "text": [
      "frame=   51 fps=0.3 q=-0.0 size=N/A time=00:00:49.00 bitrate=N/A dup=0 drop=1192 speed=0.273x    \r"
     ]
    },
    {
     "name": "stdout",
     "output_type": "stream",
     "text": [
      "[download]  14.4% of   80.76MiB at    4.82MiB/s ETA 00:142 (frag 126/183)"
     ]
    },
    {
     "name": "stderr",
     "output_type": "stream",
     "text": [
      "frame=  229 fps=1.3 q=-0.0 size=N/A time=00:03:47.00 bitrate=N/A dup=0 drop=5461 speed=1.28x    \r"
     ]
    },
    {
     "name": "stdout",
     "output_type": "stream",
     "text": [
      "[download]  39.3% of  127.44MiB at    3.65MiB/s ETA 00:219 (frag 126/183)"
     ]
    },
    {
     "name": "stderr",
     "output_type": "stream",
     "text": [
      "frame=   52 fps=0.3 q=-0.0 size=N/A time=00:00:50.00 bitrate=N/A dup=0 drop=1196 speed=0.278x    \r"
     ]
    },
    {
     "name": "stdout",
     "output_type": "stream",
     "text": [
      "[download]  41.6% of  127.44MiB at    7.82MiB/s ETA 00:091 (frag 127/183)"
     ]
    },
    {
     "name": "stderr",
     "output_type": "stream",
     "text": [
      "frame=  230 fps=1.3 q=-0.0 size=N/A time=00:03:48.00 bitrate=N/A dup=0 drop=5479 speed=1.28x     \r"
     ]
    },
    {
     "name": "stdout",
     "output_type": "stream",
     "text": [
      "[download]  70.0% of ~ 362.17MiB at  614.93KiB/s ETA 03:37 (frag 127/183)"
     ]
    },
    {
     "name": "stderr",
     "output_type": "stream",
     "text": [
      "frame=  231 fps=1.3 q=-0.0 size=N/A time=00:03:49.00 bitrate=N/A dup=0 drop=5492 speed=1.28x     \r"
     ]
    },
    {
     "name": "stdout",
     "output_type": "stream",
     "text": [
      "[download]  46.0% of  127.44MiB at  525.36KiB/s ETA 02:14  (frag 127/183)"
     ]
    },
    {
     "name": "stderr",
     "output_type": "stream",
     "text": [
      "frame=  232 fps=1.2 q=-0.0 size=N/A time=00:03:50.00 bitrate=N/A dup=0 drop=5538 speed=1.23x    \r"
     ]
    },
    {
     "name": "stdout",
     "output_type": "stream",
     "text": [
      "[download]  69.6% of ~ 365.66MiB at  800.00KiB/s ETA 03:12 (frag 128/183)"
     ]
    },
    {
     "name": "stderr",
     "output_type": "stream",
     "text": [
      "frame=  233 fps=1.2 q=-0.0 size=N/A time=00:03:51.00 bitrate=N/A dup=0 drop=5549 speed=1.23x     \r"
     ]
    },
    {
     "name": "stdout",
     "output_type": "stream",
     "text": [
      "[download]  36.2% of   80.76MiB at  358.22KiB/s ETA 02:27  "
     ]
    },
    {
     "name": "stderr",
     "output_type": "stream",
     "text": [
      "frame=   14 fps=0.3 q=-0.0 size=N/A time=00:00:12.00 bitrate=N/A dup=0 drop=288 speed=0.268x     \r"
     ]
    },
    {
     "name": "stdout",
     "output_type": "stream",
     "text": [
      "[download]  38.7% of   80.76MiB at    4.93MiB/s ETA 00:104 (frag 128/183)"
     ]
    },
    {
     "name": "stderr",
     "output_type": "stream",
     "text": [
      "frame=  232 fps=1.3 q=-0.0 size=N/A time=00:03:50.00 bitrate=N/A dup=0 drop=5527 speed=1.28x     \r"
     ]
    },
    {
     "name": "stdout",
     "output_type": "stream",
     "text": [
      "[download]  53.6% of  127.44MiB at    9.37MiB/s ETA 00:060 (frag 128/183)"
     ]
    },
    {
     "name": "stderr",
     "output_type": "stream",
     "text": [
      "frame=   52 fps=0.3 q=-0.0 size=N/A time=00:00:50.00 bitrate=N/A dup=0 drop=1214 speed=0.275x    \r"
     ]
    },
    {
     "name": "stdout",
     "output_type": "stream",
     "text": [
      "[download]  54.0% of  127.44MiB at    2.37MiB/s ETA 00:246 (frag 129/183)"
     ]
    },
    {
     "name": "stderr",
     "output_type": "stream",
     "text": [
      "frame=  234 fps=1.2 q=-0.0 size=N/A time=00:03:52.00 bitrate=N/A dup=0 drop=5584 speed=1.23x     \r"
     ]
    },
    {
     "name": "stdout",
     "output_type": "stream",
     "text": [
      "[download]  48.2% of   80.76MiB at    8.83MiB/s ETA 00:04"
     ]
    },
    {
     "name": "stderr",
     "output_type": "stream",
     "text": [
      "frame=  233 fps=1.3 q=-0.0 size=N/A time=00:03:51.00 bitrate=N/A dup=0 drop=5540 speed=1.28x     \r"
     ]
    },
    {
     "name": "stdout",
     "output_type": "stream",
     "text": [
      "[download]  48.2% of   80.76MiB at  215.76KiB/s ETA 03:180 (frag 129/183)"
     ]
    },
    {
     "name": "stderr",
     "output_type": "stream",
     "text": [
      "frame=   53 fps=0.3 q=-0.0 size=N/A time=00:00:51.00 bitrate=N/A dup=0 drop=1223 speed=0.279x    \r"
     ]
    },
    {
     "name": "stdout",
     "output_type": "stream",
     "text": [
      "[download]  61.3% of  127.44MiB at  578.63KiB/s ETA 09:03  (frag 129/183)"
     ]
    },
    {
     "name": "stderr",
     "output_type": "stream",
     "text": [
      "frame=  237 fps=1.2 q=-0.0 size=N/A time=00:03:55.00 bitrate=N/A dup=0 drop=5636 speed=1.24x     \r"
     ]
    },
    {
     "name": "stdout",
     "output_type": "stream",
     "text": [
      "[download]  62.1% of  127.44MiB at    2.99MiB/s ETA 00:161 (frag 130/183)"
     ]
    },
    {
     "name": "stderr",
     "output_type": "stream",
     "text": [
      "frame=  234 fps=1.3 q=-0.0 size=N/A time=00:03:52.00 bitrate=N/A dup=0 drop=5585 speed=1.27x     \r"
     ]
    },
    {
     "name": "stdout",
     "output_type": "stream",
     "text": [
      "[download]  71.6% of ~ 359.55MiB at    1.12MiB/s ETA 01:58 (frag 130/183)"
     ]
    },
    {
     "name": "stderr",
     "output_type": "stream",
     "text": [
      "frame=   15 fps=0.3 q=-0.0 size=N/A time=00:00:13.00 bitrate=N/A dup=0 drop=309 speed=0.275x     \r"
     ]
    },
    {
     "name": "stdout",
     "output_type": "stream",
     "text": [
      "[download]  71.7% of ~ 360.21MiB at    1.21MiB/s ETA 01:49 (frag 130/183)"
     ]
    },
    {
     "name": "stderr",
     "output_type": "stream",
     "text": [
      "frame=  235 fps=1.3 q=-0.0 size=N/A time=00:03:53.00 bitrate=N/A dup=0 drop=5603 speed=1.28x     \r"
     ]
    },
    {
     "name": "stdout",
     "output_type": "stream",
     "text": [
      "[download]  69.0% of  127.44MiB at  275.35KiB/s ETA 02:26  (frag 131/183)"
     ]
    },
    {
     "name": "stderr",
     "output_type": "stream",
     "text": [
      "frame=   56 fps=0.3 q=-0.0 size=N/A time=00:00:54.00 bitrate=N/A dup=0 drop=1299 speed= 0.3x    \r"
     ]
    },
    {
     "name": "stdout",
     "output_type": "stream",
     "text": [
      "[download]  69.8% of  127.44MiB at    3.59MiB/s ETA 00:10"
     ]
    },
    {
     "name": "stderr",
     "output_type": "stream",
     "text": [
      "frame=   53 fps=0.3 q=-0.0 size=N/A time=00:00:51.00 bitrate=N/A dup=0 drop=1240 speed=0.276x    \r"
     ]
    },
    {
     "name": "stdout",
     "output_type": "stream",
     "text": [
      "[download]  72.1% of ~ 358.81MiB at    1.25MiB/s ETA 01:36 (frag 131/183)"
     ]
    },
    {
     "name": "stderr",
     "output_type": "stream",
     "text": [
      "frame=  239 fps=1.2 q=-0.0 Lsize=N/A time=00:03:59.00 bitrate=N/A dup=0 drop=5703 speed=1.25x    \n",
      "video:139228kB audio:0kB subtitle:0kB other streams:0kB global headers:0kB muxing overhead: unknown\n"
     ]
    },
    {
     "name": "stdout",
     "output_type": "stream",
     "text": [
      "[download]  72.7% of   80.76MiB at  745.26KiB/s ETA 00:30  (frag 131/183)"
     ]
    },
    {
     "name": "stderr",
     "output_type": "stream",
     "text": [
      "frame=  247 fps=1.5 q=-0.0 size=N/A time=00:04:05.00 bitrate=N/A dup=0 drop=5881 speed=1.44x     \r"
     ]
    },
    {
     "name": "stdout",
     "output_type": "stream",
     "text": [
      "[download]  76.6% of  127.44MiB at    2.14MiB/s ETA 00:13  (frag 132/183)"
     ]
    },
    {
     "name": "stderr",
     "output_type": "stream",
     "text": [
      "frame=   15 fps=0.3 q=-0.0 size=N/A time=00:00:13.00 bitrate=N/A dup=0 drop=326 speed=0.266x     \r"
     ]
    },
    {
     "name": "stdout",
     "output_type": "stream",
     "text": [
      "[download]  79.6% of  127.44MiB at   10.80MiB/s ETA 00:02"
     ]
    },
    {
     "name": "stderr",
     "output_type": "stream",
     "text": [
      "frame=   15 fps=0.3 q=-0.0 size=N/A time=00:00:13.00 bitrate=N/A dup=0 drop=331 speed=0.263x    \r"
     ]
    },
    {
     "name": "stdout",
     "output_type": "stream",
     "text": [
      "[download]  82.6% of   80.76MiB at   10.32MiB/s ETA 00:01"
     ]
    },
    {
     "name": "stderr",
     "output_type": "stream",
     "text": [
      "frame=   57 fps=0.3 q=-0.0 size=N/A time=00:00:55.00 bitrate=N/A dup=0 drop=1316 speed=0.303x    \r"
     ]
    },
    {
     "name": "stdout",
     "output_type": "stream",
     "text": [
      "[download]  72.7% of ~ 358.58MiB at    1.31MiB/s ETA 01:25 (frag 132/183)"
     ]
    },
    {
     "name": "stderr",
     "output_type": "stream",
     "text": [
      "frame=   57 fps=0.3 q=-0.0 size=N/A time=00:00:55.00 bitrate=N/A dup=0 drop=1318 speed=0.302x    \r"
     ]
    },
    {
     "name": "stdout",
     "output_type": "stream",
     "text": [
      "[download]  85.5% of  127.44MiB at    6.49MiB/s ETA 00:023 (frag 133/183)"
     ]
    },
    {
     "name": "stderr",
     "output_type": "stream",
     "text": [
      "frame=   16 fps=0.3 q=-0.0 size=N/A time=00:00:14.00 bitrate=N/A dup=0 drop=341 speed=0.277x    \r"
     ]
    },
    {
     "name": "stdout",
     "output_type": "stream",
     "text": [
      "[download]  94.5% of   80.76MiB at   12.27MiB/s ETA 00:00"
     ]
    },
    {
     "name": "stderr",
     "output_type": "stream",
     "text": [
      "frame=   57 fps=0.3 q=-0.0 size=N/A time=00:00:55.00 bitrate=N/A dup=0 drop=1324 speed=0.301x    \r"
     ]
    },
    {
     "name": "stdout",
     "output_type": "stream",
     "text": [
      "[download]  73.3% of ~ 356.92MiB at    1.12MiB/s ETA 01:27 (frag 133/183)"
     ]
    },
    {
     "name": "stderr",
     "output_type": "stream",
     "text": [
      "frame=  129 fps=1.3 q=-0.0 size=N/A time=00:02:07.00 bitrate=N/A dup=0 drop=3048 speed=1.28x    \r"
     ]
    },
    {
     "name": "stdout",
     "output_type": "stream",
     "text": [
      "[download]  92.3% of  127.44MiB at    5.47MiB/s ETA 00:01  (frag 133/183)"
     ]
    },
    {
     "name": "stderr",
     "output_type": "stream",
     "text": [
      "frame=   55 fps=0.3 q=-0.0 size=N/A time=00:00:53.00 bitrate=N/A dup=0 drop=1268 speed=0.283x    \r"
     ]
    },
    {
     "name": "stdout",
     "output_type": "stream",
     "text": [
      "[download]  73.0% of ~ 359.30MiB at    1.10MiB/s ETA 01:27 (frag 134/183)[youtube] Extracting URL: https://www.youtube.com/watch?v=BWkt79xkd00\n",
      "[youtube] BWkt79xkd00: Downloading webpage\n",
      "[download]  94.6% of  127.44MiB at    8.60MiB/s ETA 00:00"
     ]
    },
    {
     "name": "stderr",
     "output_type": "stream",
     "text": [
      "frame=  129 fps=1.3 q=-0.0 size=N/A time=00:02:07.00 bitrate=N/A dup=0 drop=3065 speed=1.27x    \r"
     ]
    },
    {
     "name": "stdout",
     "output_type": "stream",
     "text": [
      "[download] 100% of   80.76MiB in 00:00:12 at 6.55MiB/s   4 (frag 134/183)\n",
      "[download]  73.8% of ~ 355.38MiB at  851.20KiB/s ETA 01:41 (frag 134/183)"
     ]
    },
    {
     "name": "stderr",
     "output_type": "stream",
     "text": [
      "frame=   57 fps=0.3 q=-0.0 size=N/A time=00:00:55.00 bitrate=N/A dup=0 drop=1336 speed=0.299x    \r"
     ]
    },
    {
     "name": "stdout",
     "output_type": "stream",
     "text": [
      "[download]  73.8% of ~ 355.39MiB at  835.75KiB/s ETA 01:43 (frag 134/183)[download] Destination: ./dataset_splited/BWkt79xkd00/video_480p.f251.webm\n",
      "[download]   0.8% of   15.22MiB at  530.97KiB/s ETA 00:296 (frag 134/183)"
     ]
    },
    {
     "name": "stderr",
     "output_type": "stream",
     "text": [
      "frame=  130 fps=1.3 q=-0.0 size=N/A time=00:02:08.00 bitrate=N/A dup=0 drop=3085 speed=1.28x    \r"
     ]
    },
    {
     "name": "stdout",
     "output_type": "stream",
     "text": [
      "[download]  99.1% of  127.44MiB at  731.39KiB/s ETA 00:016 (frag 135/183)"
     ]
    },
    {
     "name": "stderr",
     "output_type": "stream",
     "text": [
      "frame=  243 fps=1.3 q=-0.0 size=N/A time=00:04:01.00 bitrate=N/A dup=0 drop=5783 speed=1.29x     \r"
     ]
    },
    {
     "name": "stdout",
     "output_type": "stream",
     "text": [
      "[download] 100.0% of  127.44MiB at    3.64MiB/s ETA 00:00"
     ]
    },
    {
     "name": "stderr",
     "output_type": "stream",
     "text": [
      "frame=  131 fps=1.3 q=-0.0 size=N/A time=00:02:09.00 bitrate=N/A dup=0 drop=3102 speed=1.28x    \r"
     ]
    },
    {
     "name": "stdout",
     "output_type": "stream",
     "text": [
      "[download]  74.3% of ~ 353.35MiB at  791.11KiB/s ETA 01:49 (frag 135/183)"
     ]
    },
    {
     "name": "stderr",
     "output_type": "stream",
     "text": [
      "frame=   58 fps=0.3 q=-0.0 size=N/A time=00:00:56.00 bitrate=N/A dup=0 drop=1345 speed=0.302x    \r"
     ]
    },
    {
     "name": "stdout",
     "output_type": "stream",
     "text": [
      "[download]  74.3% of ~ 353.41MiB at  670.96KiB/s ETA 02:00 (frag 135/183)[youtube] BWkt79xkd00: Downloading ios player API JSON\n"
     ]
    },
    {
     "name": "stderr",
     "output_type": "stream",
     "text": [
      "frame=  244 fps=1.3 q=-0.0 size=N/A time=00:04:02.00 bitrate=N/A dup=0 drop=5804 speed=1.29x    \r"
     ]
    },
    {
     "name": "stdout",
     "output_type": "stream",
     "text": [
      "[download]  65.5% of   15.22MiB at    2.41MiB/s ETA 00:02  (frag 135/183)[youtube] BWkt79xkd00: Downloading android player API JSON\n",
      "[download]  77.0% of   15.22MiB at    5.93MiB/s ETA 00:00"
     ]
    },
    {
     "name": "stderr",
     "output_type": "stream",
     "text": [
      "frame=  253 fps=1.4 q=-0.0 size=N/A time=00:04:11.00 bitrate=N/A dup=0 drop=6020 speed=1.44x     \r"
     ]
    },
    {
     "name": "stdout",
     "output_type": "stream",
     "text": [
      "[download] 100% of  127.44MiB in 00:00:18 at 6.77MiB/s   \n",
      "[download]  90.2% of   15.22MiB at    8.70MiB/s ETA 00:000 (frag 136/183)[youtube] BWkt79xkd00: Downloading m3u8 information\n",
      "[download] 100.0% of   15.22MiB at    9.61MiB/s ETA 00:00[download] Destination: ./dataset_splited/MoxFkJlVZlA/video_1080p.f251.webm\n",
      "[download]  13.3% of    3.76MiB at    2.69MiB/s ETA 00:01"
     ]
    },
    {
     "name": "stderr",
     "output_type": "stream",
     "text": [
      "frame=   58 fps=0.3 q=-0.0 size=N/A time=00:00:56.00 bitrate=N/A dup=0 drop=1357 speed=0.301x    \r"
     ]
    },
    {
     "name": "stdout",
     "output_type": "stream",
     "text": [
      "[download] 100% of   15.22MiB in 00:00:02 at 7.20MiB/s   \n",
      "[download]  74.9% of ~ 351.68MiB at  546.39KiB/s ETA 02:20 (frag 136/183)"
     ]
    },
    {
     "name": "stderr",
     "output_type": "stream",
     "text": [
      "frame=  133 fps=1.3 q=-0.0 size=N/A time=00:02:11.00 bitrate=N/A dup=0 drop=3141 speed=1.28x     \r"
     ]
    },
    {
     "name": "stdout",
     "output_type": "stream",
     "text": [
      "[download] 100% of    3.76MiB in 00:00:00 at 4.59MiB/s   5 (frag 136/183)\n",
      "[download]  74.9% of ~ 351.99MiB at  542.99KiB/s ETA 02:26 (frag 136/183)[Merger] Merging formats into \"./dataset_splited/BWkt79xkd00/video_480p.webm\"\n"
     ]
    },
    {
     "name": "stderr",
     "output_type": "stream",
     "text": [
      "frame=  134 fps=1.3 q=-0.0 size=N/A time=00:02:12.00 bitrate=N/A dup=0 drop=3164 speed=1.28x    \r"
     ]
    },
    {
     "name": "stdout",
     "output_type": "stream",
     "text": [
      "[download]  74.9% of ~ 352.33MiB at  573.89KiB/s ETA 02:25 (frag 136/183)"
     ]
    },
    {
     "name": "stderr",
     "output_type": "stream",
     "text": [
      "frame=   56 fps=0.3 q=-0.0 size=N/A time=00:00:54.00 bitrate=N/A dup=0 drop=1297 speed=0.282x    \r"
     ]
    },
    {
     "name": "stdout",
     "output_type": "stream",
     "text": [
      "[Merger] Merging formats into \"./dataset_splited/MoxFkJlVZlA/video_1080p.webm\"\n",
      "[download]  74.7% of ~ 353.57MiB at  566.33KiB/s ETA 02:28 (frag 137/183)"
     ]
    },
    {
     "name": "stderr",
     "output_type": "stream",
     "text": [
      "frame=  135 fps=1.3 q=-0.0 size=N/A time=00:02:13.00 bitrate=N/A dup=0 drop=3205 speed=1.28x     \r"
     ]
    },
    {
     "name": "stdout",
     "output_type": "stream",
     "text": [
      "[download]  75.4% of ~ 350.10MiB at  516.00KiB/s ETA 02:35 (frag 137/183)"
     ]
    },
    {
     "name": "stderr",
     "output_type": "stream",
     "text": [
      "frame=  248 fps=1.3 q=-0.0 size=N/A time=00:04:06.00 bitrate=N/A dup=0 drop=5900 speed=1.29x    \r"
     ]
    },
    {
     "name": "stdout",
     "output_type": "stream",
     "text": [
      "[download]  75.4% of ~ 350.72MiB at  499.72KiB/s ETA 02:40 (frag 137/183)"
     ]
    },
    {
     "name": "stderr",
     "output_type": "stream",
     "text": [
      "frame=  136 fps=1.3 q=-0.0 size=N/A time=00:02:14.00 bitrate=N/A dup=0 drop=3224 speed=1.28x     \r"
     ]
    },
    {
     "name": "stdout",
     "output_type": "stream",
     "text": [
      "[download]  75.3% of ~ 351.47MiB at  484.10KiB/s ETA 02:44 (frag 138/183)"
     ]
    },
    {
     "name": "stderr",
     "output_type": "stream",
     "text": [
      "frame=  138 fps=1.3 q=-0.0 size=N/A time=00:02:16.00 bitrate=N/A dup=0 drop=3269 speed=1.29x     \r"
     ]
    },
    {
     "name": "stdout",
     "output_type": "stream",
     "text": [
      "[download]  76.0% of ~ 348.32MiB at  455.65KiB/s ETA 02:50 (frag 138/183)"
     ]
    },
    {
     "name": "stderr",
     "output_type": "stream",
     "text": [
      "frame=  259 fps=1.5 q=-0.0 size=N/A time=00:04:17.00 bitrate=N/A dup=0 drop=6180 speed=1.44x    \r"
     ]
    },
    {
     "name": "stdout",
     "output_type": "stream",
     "text": [
      "[download]  76.2% of ~ 349.55MiB at  581.40KiB/s ETA 02:46 (frag 138/183)"
     ]
    },
    {
     "name": "stderr",
     "output_type": "stream",
     "text": [
      "frame=   57 fps=0.3 q=-0.0 size=N/A time=00:00:55.00 bitrate=N/A dup=0 drop=1322 speed=0.283x    \r"
     ]
    },
    {
     "name": "stdout",
     "output_type": "stream",
     "text": [
      "[download]  75.2% of ~ 354.92MiB at  916.58KiB/s ETA 02:28 (frag 139/183)"
     ]
    },
    {
     "name": "stderr",
     "output_type": "stream",
     "text": [
      "frame=  262 fps=1.5 q=-0.0 size=N/A time=00:04:20.00 bitrate=N/A dup=0 drop=6257 speed=1.44x     \r"
     ]
    },
    {
     "name": "stdout",
     "output_type": "stream",
     "text": [
      "[download]  76.5% of ~ 349.23MiB at    1.04MiB/s ETA 02:13 (frag 139/183)"
     ]
    },
    {
     "name": "stderr",
     "output_type": "stream",
     "text": [
      "frame=  253 fps=1.3 q=-0.0 size=N/A time=00:04:11.00 bitrate=N/A dup=0 drop=6030 speed=1.29x    \r"
     ]
    },
    {
     "name": "stdout",
     "output_type": "stream",
     "text": [
      "[download]  76.6% of ~ 349.72MiB at    1.12MiB/s ETA 02:06 (frag 139/183)"
     ]
    },
    {
     "name": "stderr",
     "output_type": "stream",
     "text": [
      "frame=   57 fps=0.3 q=-0.0 size=N/A time=00:00:55.00 bitrate=N/A dup=0 drop=1333 speed=0.281x    \r"
     ]
    },
    {
     "name": "stdout",
     "output_type": "stream",
     "text": [
      "[download]  76.3% of ~ 351.17MiB at    1.16MiB/s ETA 02:00 (frag 140/183)"
     ]
    },
    {
     "name": "stderr",
     "output_type": "stream",
     "text": [
      "frame=   19 fps=0.3 q=-0.0 size=N/A time=00:00:17.00 bitrate=N/A dup=0 drop=411 speed=0.283x    \r"
     ]
    },
    {
     "name": "stdout",
     "output_type": "stream",
     "text": [
      "[info] BWkt79xkd00: Downloading 1 format(s): 616+251\n"
     ]
    },
    {
     "name": "stderr",
     "output_type": "stream",
     "text": [
      "frame=   61 fps=0.3 q=-0.0 size=N/A time=00:00:59.00 bitrate=N/A dup=0 drop=1430 speed=0.305x    \r"
     ]
    },
    {
     "name": "stdout",
     "output_type": "stream",
     "text": [
      "[download]  77.1% of ~ 347.96MiB at  701.50KiB/s ETA 02:17 (frag 140/183)"
     ]
    },
    {
     "name": "stderr",
     "output_type": "stream",
     "text": [
      "frame=  257 fps=1.3 q=-0.0 size=N/A time=00:04:15.00 bitrate=N/A dup=0 drop=6119 speed= 1.3x     \r"
     ]
    },
    {
     "name": "stdout",
     "output_type": "stream",
     "text": [
      "[download]  77.2% of ~ 348.28MiB at  736.28KiB/s ETA 02:13 (frag 140/183)[hlsnative] Downloading m3u8 manifest\n",
      "[download]  76.8% of ~ 349.95MiB at  750.09KiB/s ETA 02:11 (frag 141/183)[hlsnative] Total fragments: 203\n",
      "[download] Destination: ./dataset_splited/BWkt79xkd00/video_1080p.f616.mp4\n"
     ]
    },
    {
     "name": "stderr",
     "output_type": "stream",
     "text": [
      "frame=  266 fps=1.5 q=-0.0 size=N/A time=00:04:24.00 bitrate=N/A dup=0 drop=6344 speed=1.44x     \r"
     ]
    },
    {
     "name": "stdout",
     "output_type": "stream",
     "text": [
      "[download]  77.6% of ~ 346.35MiB at  695.02KiB/s ETA 02:09 (frag 141/183)"
     ]
    },
    {
     "name": "stderr",
     "output_type": "stream",
     "text": [
      "frame=  144 fps=1.3 q=-0.0 size=N/A time=00:02:22.00 bitrate=N/A dup=0 drop=3424 speed=1.29x    \r"
     ]
    },
    {
     "name": "stdout",
     "output_type": "stream",
     "text": [
      "[download]   2.1% of ~ 375.07KiB at    1.24KiB/s ETA Unknown (frag 1/203)"
     ]
    },
    {
     "name": "stderr",
     "output_type": "stream",
     "text": [
      "frame=  258 fps=1.3 q=-0.0 size=N/A time=00:04:16.00 bitrate=N/A dup=0 drop=6158 speed= 1.3x     \r"
     ]
    },
    {
     "name": "stdout",
     "output_type": "stream",
     "text": [
      "[download]   2.0% of ~  25.34MiB at  204.21KiB/s ETA Unknown (frag 1/203)"
     ]
    },
    {
     "name": "stderr",
     "output_type": "stream",
     "text": [
      "frame=  145 fps=1.3 q=-0.0 size=N/A time=00:02:23.00 bitrate=N/A dup=0 drop=3438 speed=1.29x    \r"
     ]
    },
    {
     "name": "stdout",
     "output_type": "stream",
     "text": [
      "[download]  78.1% of ~ 345.00MiB at  877.84KiB/s ETA 01:54 (frag 142/183)"
     ]
    },
    {
     "name": "stderr",
     "output_type": "stream",
     "text": [
      "frame=   62 fps=0.3 q=-0.0 size=N/A time=00:01:00.00 bitrate=N/A dup=0 drop=1447 speed=0.307x    \r"
     ]
    },
    {
     "name": "stdout",
     "output_type": "stream",
     "text": [
      "[download]  78.2% of ~ 345.63MiB at 1020.31KiB/s ETA 01:42 (frag 142/183)"
     ]
    },
    {
     "name": "stderr",
     "output_type": "stream",
     "text": [
      "frame=   58 fps=0.3 q=-0.0 size=N/A time=00:00:56.00 bitrate=N/A dup=0 drop=1356 speed=0.28x    \r"
     ]
    },
    {
     "name": "stdout",
     "output_type": "stream",
     "text": [
      "[download]  78.0% of ~ 346.56MiB at    1.03MiB/s ETA 01:39 (frag 143/183)"
     ]
    },
    {
     "name": "stderr",
     "output_type": "stream",
     "text": [
      "frame=   62 fps=0.3 q=-0.0 size=N/A time=00:01:00.00 bitrate=N/A dup=0 drop=1454 speed=0.306x    \r"
     ]
    },
    {
     "name": "stdout",
     "output_type": "stream",
     "text": [
      "[download]   1.5% of ~ 197.31MiB at    1.37MiB/s ETA 01:41 (frag 2/203)"
     ]
    },
    {
     "name": "stderr",
     "output_type": "stream",
     "text": [
      "frame=  147 fps=1.3 q=-0.0 size=N/A time=00:02:25.00 bitrate=N/A dup=0 drop=3479 speed=1.29x    \r"
     ]
    },
    {
     "name": "stdout",
     "output_type": "stream",
     "text": [
      "[download]  78.7% of ~ 343.45MiB at  934.14KiB/s ETA 01:33 (frag 143/183)"
     ]
    },
    {
     "name": "stderr",
     "output_type": "stream",
     "text": [
      "frame=  147 fps=1.3 q=-0.0 size=N/A time=00:02:25.00 bitrate=N/A dup=0 drop=3493 speed=1.29x     \r"
     ]
    },
    {
     "name": "stdout",
     "output_type": "stream",
     "text": [
      "[download]  78.5% of ~ 345.11MiB at  985.11KiB/s ETA 01:27 (frag 144/183)"
     ]
    },
    {
     "name": "stderr",
     "output_type": "stream",
     "text": [
      "frame=  269 fps=1.4 q=-0.0 size=N/A time=00:04:27.00 bitrate=N/A dup=0 drop=6423 speed=1.44x     \r"
     ]
    },
    {
     "name": "stdout",
     "output_type": "stream",
     "text": [
      "[download]   2.0% of ~ 251.98MiB at    1.76MiB/s ETA 02:11 (frag 3/203)"
     ]
    },
    {
     "name": "stderr",
     "output_type": "stream",
     "text": [
      "frame=   63 fps=0.3 q=-0.0 size=N/A time=00:01:01.00 bitrate=N/A dup=0 drop=1465 speed=0.309x    \r"
     ]
    },
    {
     "name": "stdout",
     "output_type": "stream",
     "text": [
      "[download]  79.3% of ~ 342.18MiB at  824.03KiB/s ETA 01:29 (frag 144/183)"
     ]
    },
    {
     "name": "stderr",
     "output_type": "stream",
     "text": [
      "frame=   59 fps=0.3 q=-0.0 size=N/A time=00:00:57.00 bitrate=N/A dup=0 drop=1366 speed=0.283x    \r"
     ]
    },
    {
     "name": "stdout",
     "output_type": "stream",
     "text": [
      "[download]   2.5% of ~ 353.09MiB at    2.38MiB/s ETA 02:09 (frag 3/203)3)"
     ]
    },
    {
     "name": "stderr",
     "output_type": "stream",
     "text": [
      "frame=   20 fps=0.3 q=-0.0 size=N/A time=00:00:18.00 bitrate=N/A dup=0 drop=448 speed=0.276x     \r"
     ]
    },
    {
     "name": "stdout",
     "output_type": "stream",
     "text": [
      "[download]  79.8% of ~ 339.97MiB at  677.92KiB/s ETA 01:37 (frag 145/183)"
     ]
    },
    {
     "name": "stderr",
     "output_type": "stream",
     "text": [
      "frame=   59 fps=0.3 q=-0.0 size=N/A time=00:00:57.00 bitrate=N/A dup=0 drop=1371 speed=0.282x    \r"
     ]
    },
    {
     "name": "stdout",
     "output_type": "stream",
     "text": [
      "[download]   2.5% of ~ 368.68MiB at    2.63MiB/s ETA 02:20 (frag 4/203)3)"
     ]
    },
    {
     "name": "stderr",
     "output_type": "stream",
     "text": [
      "frame=  149 fps=1.3 q=-0.0 size=N/A time=00:02:27.00 bitrate=N/A dup=0 drop=3543 speed=1.29x     \r"
     ]
    },
    {
     "name": "stdout",
     "output_type": "stream",
     "text": [
      "[download]   2.5% of ~ 371.18MiB at    2.29MiB/s ETA 02:28 (frag 4/203)3)"
     ]
    },
    {
     "name": "stderr",
     "output_type": "stream",
     "text": [
      "frame=   21 fps=0.3 q=-0.0 size=N/A time=00:00:19.00 bitrate=N/A dup=0 drop=454 speed=0.286x     \r"
     ]
    },
    {
     "name": "stdout",
     "output_type": "stream",
     "text": [
      "[download]   2.5% of ~ 378.79MiB at    2.32MiB/s ETA 02:30 (frag 4/203)"
     ]
    },
    {
     "name": "stderr",
     "output_type": "stream",
     "text": [
      "frame=  150 fps=1.3 q=-0.0 size=N/A time=00:02:28.00 bitrate=N/A dup=0 drop=3560 speed=1.29x     \r"
     ]
    },
    {
     "name": "stdout",
     "output_type": "stream",
     "text": [
      "[download]   2.5% of ~ 449.84MiB at    2.58MiB/s ETA 02:30 (frag 4/203)"
     ]
    },
    {
     "name": "stderr",
     "output_type": "stream",
     "text": [
      "frame=   21 fps=0.3 q=-0.0 size=N/A time=00:00:19.00 bitrate=N/A dup=0 drop=457 speed=0.284x    \r"
     ]
    },
    {
     "name": "stdout",
     "output_type": "stream",
     "text": [
      "[download]  80.3% of ~ 338.36MiB at  626.29KiB/s ETA 01:42 (frag 146/183)Deleting original file ./dataset_splited/MoxFkJlVZlA/video_1080p.f251.webm (pass -k to keep)\n",
      "[download]   2.1% of ~ 537.54MiB at    2.46MiB/s ETA 02:39 (frag 5/203)"
     ]
    },
    {
     "name": "stderr",
     "output_type": "stream",
     "text": [
      "frame=  273 fps=1.4 q=-0.0 size=N/A time=00:04:31.00 bitrate=N/A dup=0 drop=6500 speed=1.44x     \r"
     ]
    },
    {
     "name": "stdout",
     "output_type": "stream",
     "text": [
      "Deleting original file ./dataset_splited/MoxFkJlVZlA/video_1080p.f303.webm (pass -k to keep)\n",
      "[download]   3.0% of ~ 377.83MiB at    2.27MiB/s ETA 02:42 (frag 5/203)3)"
     ]
    },
    {
     "name": "stderr",
     "output_type": "stream",
     "text": [
      "frame=  264 fps=1.3 q=-0.0 size=N/A time=00:04:22.00 bitrate=N/A dup=0 drop=6289 speed=1.29x    \r"
     ]
    },
    {
     "name": "stdout",
     "output_type": "stream",
     "text": [
      "[download]   3.0% of ~ 386.02MiB at    2.25MiB/s ETA 02:42 (frag 5/203)"
     ]
    },
    {
     "name": "stderr",
     "output_type": "stream",
     "text": [
      "frame=  151 fps=1.3 q=-0.0 size=N/A time=00:02:29.00 bitrate=N/A dup=0 drop=3594 speed=1.29x    \r"
     ]
    },
    {
     "name": "stdout",
     "output_type": "stream",
     "text": [
      "[download]   3.4% of ~ 445.23MiB at    2.72MiB/s ETA 02:37 (frag 5/203)3)"
     ]
    },
    {
     "name": "stderr",
     "output_type": "stream",
     "text": [
      "frame=   21 fps=0.3 q=-0.0 size=N/A time=00:00:19.00 bitrate=N/A dup=0 drop=466 speed=0.279x    \r"
     ]
    },
    {
     "name": "stdout",
     "output_type": "stream",
     "text": [
      "[download]   2.3% of ~ 672.64MiB at    2.72MiB/s ETA 02:49 (frag 6/203)3)"
     ]
    },
    {
     "name": "stderr",
     "output_type": "stream",
     "text": [
      "frame=  266 fps=1.3 q=-0.0 size=N/A time=00:04:24.00 bitrate=N/A dup=0 drop=6336 speed= 1.3x     \r"
     ]
    },
    {
     "name": "stdout",
     "output_type": "stream",
     "text": [
      "[download]  80.7% of ~ 338.13MiB at  539.96KiB/s ETA 01:58 (frag 148/183)"
     ]
    },
    {
     "name": "stderr",
     "output_type": "stream",
     "text": [
      "frame=  153 fps=1.3 q=-0.0 size=N/A time=00:02:31.00 bitrate=N/A dup=0 drop=3632 speed=1.29x     \r"
     ]
    },
    {
     "name": "stdout",
     "output_type": "stream",
     "text": [
      "[download]   3.4% of ~ 450.19MiB at    2.57MiB/s ETA 02:51 (frag 6/203)"
     ]
    },
    {
     "name": "stderr",
     "output_type": "stream",
     "text": [
      "frame=   60 fps=0.3 q=-0.0 size=N/A time=00:00:58.00 bitrate=N/A dup=0 drop=1394 speed=0.282x    \r"
     ]
    },
    {
     "name": "stdout",
     "output_type": "stream",
     "text": [
      "[download]   3.5% of ~ 457.32MiB at    2.32MiB/s ETA 02:59 (frag 6/203)"
     ]
    },
    {
     "name": "stderr",
     "output_type": "stream",
     "text": [
      "frame=   21 fps=0.3 q=-0.0 size=N/A time=00:00:19.00 bitrate=N/A dup=0 drop=475 speed=0.274x     \r"
     ]
    },
    {
     "name": "stdout",
     "output_type": "stream",
     "text": [
      "[download]  81.5% of ~ 335.40MiB at  511.02KiB/s ETA 02:01 (frag 148/183)"
     ]
    },
    {
     "name": "stderr",
     "output_type": "stream",
     "text": [
      "frame=  267 fps=1.3 q=-0.0 size=N/A time=00:04:25.00 bitrate=N/A dup=0 drop=6370 speed= 1.3x    \r"
     ]
    },
    {
     "name": "stdout",
     "output_type": "stream",
     "text": [
      "[download]   2.9% of ~ 642.71MiB at    2.51MiB/s ETA 03:06 (frag 7/203)3)"
     ]
    },
    {
     "name": "stderr",
     "output_type": "stream",
     "text": [
      "frame=  155 fps=1.3 q=-0.0 size=N/A time=00:02:33.00 bitrate=N/A dup=0 drop=3668 speed= 1.3x     \r"
     ]
    },
    {
     "name": "stdout",
     "output_type": "stream",
     "text": [
      "[download]   3.9% of ~ 478.28MiB at    2.53MiB/s ETA 03:05 (frag 7/203)"
     ]
    },
    {
     "name": "stderr",
     "output_type": "stream",
     "text": [
      "frame=  268 fps=1.3 q=-0.0 size=N/A time=00:04:26.00 bitrate=N/A dup=0 drop=6386 speed= 1.3x    \r"
     ]
    },
    {
     "name": "stdout",
     "output_type": "stream",
     "text": [
      "[download]  82.0% of ~ 333.93MiB at  534.72KiB/s ETA 01:58 (frag 149/183)"
     ]
    },
    {
     "name": "stderr",
     "output_type": "stream",
     "text": [
      "frame=   65 fps=0.3 q=-0.0 size=N/A time=00:01:03.00 bitrate=N/A dup=0 drop=1517 speed=0.311x    \r"
     ]
    },
    {
     "name": "stdout",
     "output_type": "stream",
     "text": [
      "[download]   4.2% of ~ 528.83MiB at    3.03MiB/s ETA 02:54 (frag 7/203)3)"
     ]
    },
    {
     "name": "stderr",
     "output_type": "stream",
     "text": [
      "frame=  269 fps=1.3 q=-0.0 size=N/A time=00:04:27.00 bitrate=N/A dup=0 drop=6404 speed= 1.3x    \r"
     ]
    },
    {
     "name": "stdout",
     "output_type": "stream",
     "text": [
      "[download]   3.4% of ~ 645.71MiB at    3.03MiB/s ETA 02:57 (frag 8/203)"
     ]
    },
    {
     "name": "stderr",
     "output_type": "stream",
     "text": [
      "frame=   65 fps=0.3 q=-0.0 size=N/A time=00:01:03.00 bitrate=N/A dup=0 drop=1525 speed=0.31x    \r"
     ]
    },
    {
     "name": "stdout",
     "output_type": "stream",
     "text": [
      "[download]  82.5% of ~ 332.63MiB at  653.03KiB/s ETA 01:43 (frag 150/183)"
     ]
    },
    {
     "name": "stderr",
     "output_type": "stream",
     "text": [
      "ffmpeg version 4.2.7-0ubuntu0.1 Copyright (c) 2000-2022 the FFmpeg developers411 speed=0.28x    \n",
      "  built with gcc 9 (Ubuntu 9.4.0-1ubuntu1~20.04.1)\n",
      "  configuration: --prefix=/usr --extra-version=0ubuntu0.1 --toolchain=hardened --libdir=/usr/lib/x86_64-linux-gnu --incdir=/usr/include/x86_64-linux-gnu --arch=amd64 --enable-gpl --disable-stripping --enable-avresample --disable-filter=resample --enable-avisynth --enable-gnutls --enable-ladspa --enable-libaom --enable-libass --enable-libbluray --enable-libbs2b --enable-libcaca --enable-libcdio --enable-libcodec2 --enable-libflite --enable-libfontconfig --enable-libfreetype --enable-libfribidi --enable-libgme --enable-libgsm --enable-libjack --enable-libmp3lame --enable-libmysofa --enable-libopenjpeg --enable-libopenmpt --enable-libopus --enable-libpulse --enable-librsvg --enable-librubberband --enable-libshine --enable-libsnappy --enable-libsoxr --enable-libspeex --enable-libssh --enable-libtheora --enable-libtwolame --enable-libvidstab --enable-libvorbis --enable-libvpx --enable-libwavpack --enable-libwebp --enable-libx265 --enable-libxml2 --enable-libxvid --enable-libzmq --enable-libzvbi --enable-lv2 --enable-omx --enable-openal --enable-opencl --enable-opengl --enable-sdl2 --enable-libdc1394 --enable-libdrm --enable-libiec61883 --enable-nvenc --enable-chromaprint --enable-frei0r --enable-libx264 --enable-shared\n",
      "  libavutil      56. 31.100 / 56. 31.100\n",
      "  libavcodec     58. 54.100 / 58. 54.100\n",
      "  libavformat    58. 29.100 / 58. 29.100\n",
      "  libavdevice    58.  8.100 / 58.  8.100\n",
      "  libavfilter     7. 57.100 /  7. 57.100\n",
      "  libavresample   4.  0.  0 /  4.  0.  0\n",
      "  libswscale      5.  5.100 /  5.  5.100\n",
      "  libswresample   3.  5.100 /  3.  5.100\n",
      "  libpostproc    55.  5.100 / 55.  5.100\n",
      "frame=  269 fps=1.3 q=-0.0 size=N/A time=00:04:27.00 bitrate=N/A dup=0 drop=6423 speed= 1.3x    \r"
     ]
    },
    {
     "name": "stdout",
     "output_type": "stream",
     "text": [
      "[download]  82.5% of ~ 333.83MiB at  841.24KiB/s ETA 01:37 (frag 150/183)"
     ]
    },
    {
     "name": "stderr",
     "output_type": "stream",
     "text": [
      "frame=  157 fps=1.3 q=-0.0 size=N/A time=00:02:35.00 bitrate=N/A dup=0 drop=3723 speed=1.29x    \r"
     ]
    },
    {
     "name": "stdout",
     "output_type": "stream",
     "text": [
      "[download]   3.9% of ~ 673.64MiB at    3.39MiB/s ETA 02:49 (frag 9/203)3)"
     ]
    },
    {
     "name": "stderr",
     "output_type": "stream",
     "text": [
      "frame=  280 fps=1.5 q=-0.0 size=N/A time=00:04:38.00 bitrate=N/A dup=0 drop=6668 speed=1.44x     \r"
     ]
    },
    {
     "name": "stdout",
     "output_type": "stream",
     "text": [
      "[download]  83.1% of ~ 331.67MiB at  981.47KiB/s ETA 01:28 (frag 151/183)"
     ]
    },
    {
     "name": "stderr",
     "output_type": "stream",
     "text": [
      "Input #0, matroska,webm, from './dataset_splited/MoxFkJlVZlA/video_1080p.webm': speed=0.278x    \n",
      "  Metadata:\n",
      "    ENCODER         : Lavf58.29.100\n",
      "  Duration: 00:04:09.02, start: -0.007000, bitrate: 4419 kb/s\n",
      "frame=   66 fps=0.3 q=-0.0 size=N/A time=00:01:04.00 bitrate=N/A dup=0 drop=1539 speed=0.313x    \r"
     ]
    },
    {
     "name": "stdout",
     "output_type": "stream",
     "text": [
      "[download]   4.9% of ~ 527.92MiB at    3.33MiB/s ETA 02:48 (frag 9/203)3)"
     ]
    },
    {
     "name": "stderr",
     "output_type": "stream",
     "text": [
      "    Stream #0:0(eng): Video: vp9 (Profile 0), yuv420p(tv, bt709), 1920x1080, SAR 1:1 DAR 16:9, 50 fps, 50 tbr, 1k tbn, 1k tbc (default)\n",
      "    Metadata:\n",
      "      DURATION        : 00:04:09.000000000\n",
      "    Stream #0:1(eng): Audio: opus, 48000 Hz, stereo, fltp (default)\n",
      "    Metadata:\n",
      "      DURATION        : 00:04:09.021000000\n",
      "Stream mapping:=1.3 q=-0.0 size=N/A time=00:04:29.00 bitrate=N/A dup=0 drop=6455 speed= 1.3x    \n",
      "  Stream #0:0 -> #0:0 (vp9 (native) -> png (native))\n",
      "Press [q] to stop, [?] for help\n",
      "frame=   61 fps=0.3 q=-0.0 size=N/A time=00:00:59.00 bitrate=N/A dup=0 drop=1418 speed=0.283x    \r"
     ]
    },
    {
     "name": "stdout",
     "output_type": "stream",
     "text": [
      "[download]  83.2% of ~ 332.27MiB at 1017.42KiB/s ETA 01:17 (frag 151/183)Deleting original file ./dataset_splited/BWkt79xkd00/video_480p.f244.webm (pass -k to keep)\n",
      "[download]   5.0% of ~ 538.03MiB at    3.01MiB/s ETA 02:49 (frag 9/203)3)"
     ]
    },
    {
     "name": "stderr",
     "output_type": "stream",
     "text": [
      "frame=  158 fps=1.3 q=-0.0 size=N/A time=00:02:36.00 bitrate=N/A dup=0 drop=3745 speed=1.29x    \r"
     ]
    },
    {
     "name": "stdout",
     "output_type": "stream",
     "text": [
      "Deleting original file ./dataset_splited/BWkt79xkd00/video_480p.f251.webm (pass -k to keep)\n",
      "[download]   5.0% of ~ 609.08MiB at    3.55MiB/s ETA 02:43 (frag 9/203)3)"
     ]
    },
    {
     "name": "stderr",
     "output_type": "stream",
     "text": [
      "Output #0, image2, to './dataset_splited/MoxFkJlVZlA/frames_1080p/frame-%04d.png':peed=0.312x    \n",
      "  Metadata:\n",
      "    encoder         : Lavf58.29.100\n",
      "    Stream #0:0(eng): Video: png, rgb24, 1920x1080 [SAR 1:1 DAR 16:9], q=2-31, 200 kb/s, 1 fps, 1 tbn, 1 tbc (default)\n",
      "    Metadata:\n",
      "      DURATION        : 00:04:09.000000000\n",
      "      encoder         : Lavc58.54.100 png\n",
      "frame=  272 fps=1.3 q=-0.0 size=N/A time=00:04:30.00 bitrate=N/A dup=0 drop=6476 speed= 1.3x    \r"
     ]
    },
    {
     "name": "stdout",
     "output_type": "stream",
     "text": [
      "[download]   4.3% of ~ 696.89MiB at    3.62MiB/s ETA 02:44 (frag 10/203)"
     ]
    },
    {
     "name": "stderr",
     "output_type": "stream",
     "text": [
      "frame=   66 fps=0.3 q=-0.0 size=N/A time=00:01:04.00 bitrate=N/A dup=0 drop=1554 speed=0.311x    \r"
     ]
    },
    {
     "name": "stdout",
     "output_type": "stream",
     "text": [
      "[download]  83.6% of ~ 330.99MiB at  990.91KiB/s ETA 01:10 (frag 152/183)"
     ]
    },
    {
     "name": "stderr",
     "output_type": "stream",
     "text": [
      "frame=   22 fps=0.3 q=-0.0 size=N/A time=00:00:20.00 bitrate=N/A dup=0 drop=497 speed=0.271x    \r"
     ]
    },
    {
     "name": "stdout",
     "output_type": "stream",
     "text": [
      "[download]  83.4% of ~ 332.39MiB at  968.18KiB/s ETA 01:07 (frag 153/183)"
     ]
    },
    {
     "name": "stderr",
     "output_type": "stream",
     "text": [
      "frame=    2 fps=1.0 q=0.0 size=N/A time=00:00:00.00 bitrate=N/A dup=0 drop=8 speed=   0x         \r"
     ]
    },
    {
     "name": "stdout",
     "output_type": "stream",
     "text": [
      "[download]   5.1% of ~ 625.01MiB at    2.89MiB/s ETA 02:59 (frag 11/203)"
     ]
    },
    {
     "name": "stderr",
     "output_type": "stream",
     "text": [
      "frame=    2 fps=0.8 q=0.0 size=N/A time=00:00:00.00 bitrate=N/A dup=0 drop=11 speed=   0x        \r"
     ]
    },
    {
     "name": "stdout",
     "output_type": "stream",
     "text": [
      "[download]  84.2% of ~ 329.53MiB at  819.35KiB/s ETA 01:09 (frag 153/183)"
     ]
    },
    {
     "name": "stderr",
     "output_type": "stream",
     "text": [
      "frame=   23 fps=0.3 q=-0.0 size=N/A time=00:00:21.00 bitrate=N/A dup=0 drop=504 speed=0.28x      \r"
     ]
    },
    {
     "name": "stdout",
     "output_type": "stream",
     "text": [
      "[download]  84.2% of ~ 329.81MiB at  745.16KiB/s ETA 01:11 (frag 153/183)"
     ]
    },
    {
     "name": "stderr",
     "output_type": "stream",
     "text": [
      "frame=   67 fps=0.3 q=-0.0 size=N/A time=00:01:05.00 bitrate=N/A dup=0 drop=1571 speed=0.313x    \r"
     ]
    },
    {
     "name": "stdout",
     "output_type": "stream",
     "text": [
      "[download]   6.2% of ~ 575.45MiB at    2.71MiB/s ETA 03:12 (frag 11/203))"
     ]
    },
    {
     "name": "stderr",
     "output_type": "stream",
     "text": [
      "frame=    2 fps=0.7 q=0.0 size=N/A time=00:00:00.00 bitrate=N/A dup=0 drop=16 speed=   0x       \r"
     ]
    },
    {
     "name": "stdout",
     "output_type": "stream",
     "text": [
      "[download]   5.4% of ~ 664.14MiB at    2.67MiB/s ETA 03:17 (frag 12/203)"
     ]
    },
    {
     "name": "stderr",
     "output_type": "stream",
     "text": [
      "frame=   67 fps=0.3 q=-0.0 size=N/A time=00:01:05.00 bitrate=N/A dup=0 drop=1575 speed=0.312x    \r"
     ]
    },
    {
     "name": "stdout",
     "output_type": "stream",
     "text": [
      "[download]  84.7% of ~ 328.47MiB at  733.54KiB/s ETA 01:11 (frag 154/183)"
     ]
    },
    {
     "name": "stderr",
     "output_type": "stream",
     "text": [
      "frame=  275 fps=1.3 q=-0.0 size=N/A time=00:04:33.00 bitrate=N/A dup=0 drop=6568 speed=1.29x     \r"
     ]
    },
    {
     "name": "stdout",
     "output_type": "stream",
     "text": [
      "[download]  84.8% of ~ 329.05MiB at  817.94KiB/s ETA 01:08 (frag 154/183)"
     ]
    },
    {
     "name": "stderr",
     "output_type": "stream",
     "text": [
      "ffmpeg version 4.2.7-0ubuntu0.1 Copyright (c) 2000-2022 the FFmpeg developers\n",
      "  built with gcc 9 (Ubuntu 9.4.0-1ubuntu1~20.04.1)\n",
      "  configuration: --prefix=/usr --extra-version=0ubuntu0.1 --toolchain=hardened --libdir=/usr/lib/x86_64-linux-gnu --incdir=/usr/include/x86_64-linux-gnu --arch=amd64 --enable-gpl --disable-stripping --enable-avresample --disable-filter=resample --enable-avisynth --enable-gnutls --enable-ladspa --enable-libaom --enable-libass --enable-libbluray --enable-libbs2b --enable-libcaca --enable-libcdio --enable-libcodec2 --enable-libflite --enable-libfontconfig --enable-libfreetype --enable-libfribidi --enable-libgme --enable-libgsm --enable-libjack --enable-libmp3lame --enable-libmysofa --enable-libopenjpeg --enable-libopenmpt --enable-libopus --enable-libpulse --enable-librsvg --enable-librubberband --enable-libshine --enable-libsnappy --enable-libsoxr --enable-libspeex --enable-libssh --enable-libtheora --enable-libtwolame --enable-libvidstab --enable-libvorbis --enable-libvpx --enable-libwavpack --enable-libwebp --enable-libx265 --enable-libxml2 --enable-libxvid --enable-libzmq --enable-libzvbi --enable-lv2 --enable-omx --enable-openal --enable-opencl --enable-opengl --enable-sdl2 --enable-libdc1394 --enable-libdrm --enable-libiec61883 --enable-nvenc --enable-chromaprint --enable-frei0r --enable-libx264 --enable-shared\n",
      "  libavutil      56. 31.100 / 56. 31.100\n",
      "  libavcodec     58. 54.100 / 58. 54.100\n",
      "  libavformat    58. 29.100 / 58. 29.100\n",
      "  libavdevice    58.  8.100 / 58.  8.100\n",
      "  libavfilter     7. 57.100 /  7. 57.100\n",
      "  libavresample   4.  0.  0 /  4.  0.  0\n",
      "  libswscale      5.  5.100 /  5.  5.100\n",
      "  libswresample   3.  5.100 /  3.  5.100\n",
      "  libpostproc    55.  5.100 / 55.  5.100\n",
      "frame=   68 fps=0.3 q=-0.0 size=N/A time=00:01:06.00 bitrate=N/A dup=0 drop=1580 speed=0.316x    \r"
     ]
    },
    {
     "name": "stdout",
     "output_type": "stream",
     "text": [
      "[download]   6.7% of ~ 587.72MiB at    2.78MiB/s ETA 03:28 (frag 12/203))"
     ]
    },
    {
     "name": "stderr",
     "output_type": "stream",
     "text": [
      "Input #0, matroska,webm, from './dataset_splited/BWkt79xkd00/video_480p.webm':70 speed=1.29x    \n",
      "  Metadata:\n",
      "    ENCODER         : Lavf58.29.100\n",
      "  Duration: 00:17:22.62, start: -0.007000, bitrate: 772 kb/s\n",
      "    Stream #0:0(eng): Video: vp9 (Profile 0), yuv420p(tv, bt709), 854x480, SAR 1:1 DAR 427:240, 29.97 fps, 29.97 tbr, 1k tbn, 1k tbc (default)\n",
      "    Metadata:\n",
      "      DURATION        : 00:17:22.575000000\n",
      "    Stream #0:1(eng): Audio: opus, 48000 Hz, stereo, fltp (default)\n",
      "    Metadata:\n",
      "      DURATION        : 00:17:22.621000000\n",
      "Stream mapping:\n",
      "  Stream #0:0 -> #0:0 (vp9 (native) -> png (native))\n",
      "Press [q] to stop, [?] for help\n",
      "Output #0, image2, to './dataset_splited/BWkt79xkd00/frames_480p/frame-%04d.png':ed=   0x       \n",
      "  Metadata:\n",
      "    encoder         : Lavf58.29.100\n"
     ]
    },
    {
     "name": "stdout",
     "output_type": "stream",
     "text": [
      "[download]   5.9% of ~ 666.88MiB at    2.88MiB/s ETA 03:27 (frag 13/203)"
     ]
    },
    {
     "name": "stderr",
     "output_type": "stream",
     "text": [
      "    Stream #0:0(eng): Video: png, rgb24, 854x480 [SAR 1:1 DAR 427:240], q=2-31, 200 kb/s, 1 fps, 1 tbn, 1 tbc (default)\n",
      "    Metadata:\n",
      "      DURATION        : 00:17:22.575000000\n",
      "      encoder         : Lavc58.54.100 png\n",
      "frame=  286 fps=1.4 q=-0.0 size=N/A time=00:04:44.00 bitrate=N/A dup=0 drop=6823 speed=1.44x    \r"
     ]
    },
    {
     "name": "stdout",
     "output_type": "stream",
     "text": [
      "[download]  85.3% of ~ 327.58MiB at  727.21KiB/s ETA 01:09 (frag 155/183)"
     ]
    },
    {
     "name": "stderr",
     "output_type": "stream",
     "text": [
      "frame=   68 fps=0.3 q=-0.0 size=N/A time=00:01:06.00 bitrate=N/A dup=0 drop=1587 speed=0.315x    \r"
     ]
    },
    {
     "name": "stdout",
     "output_type": "stream",
     "text": [
      "[download]   6.9% of ~ 568.89MiB at    2.74MiB/s ETA 03:24 (frag 13/203))"
     ]
    },
    {
     "name": "stderr",
     "output_type": "stream",
     "text": [
      "frame=   68 fps=0.3 q=-0.0 size=N/A time=00:01:06.00 bitrate=N/A dup=0 drop=1588 speed=0.315x    \r"
     ]
    },
    {
     "name": "stdout",
     "output_type": "stream",
     "text": [
      "[download]   7.0% of ~ 575.24MiB at    2.72MiB/s ETA 03:22 (frag 13/203)"
     ]
    },
    {
     "name": "stderr",
     "output_type": "stream",
     "text": [
      "frame=    2 fps=0.4 q=0.0 size=N/A time=00:00:00.00 bitrate=N/A dup=0 drop=36 speed=   0x        \r"
     ]
    },
    {
     "name": "stdout",
     "output_type": "stream",
     "text": [
      "[download]  85.9% of ~ 326.37MiB at  899.97KiB/s ETA 01:02 (frag 156/183)"
     ]
    },
    {
     "name": "stderr",
     "output_type": "stream",
     "text": [
      "frame=   68 fps=0.3 q=-0.0 size=N/A time=00:01:06.00 bitrate=N/A dup=0 drop=1594 speed=0.314x    \r"
     ]
    },
    {
     "name": "stdout",
     "output_type": "stream",
     "text": [
      "[download]  85.5% of ~ 328.10MiB at  945.21KiB/s ETA 01:00 (frag 157/183)"
     ]
    },
    {
     "name": "stderr",
     "output_type": "stream",
     "text": [
      "frame=    2 fps=0.3 q=0.0 size=N/A time=00:00:00.00 bitrate=N/A dup=0 drop=39 speed=   0x        \r"
     ]
    },
    {
     "name": "stdout",
     "output_type": "stream",
     "text": [
      "[download]   7.4% of ~ 591.04MiB at    2.96MiB/s ETA 03:13 (frag 14/203)"
     ]
    },
    {
     "name": "stderr",
     "output_type": "stream",
     "text": [
      "frame=   23 fps=0.3 q=-0.0 size=N/A time=00:00:21.00 bitrate=N/A dup=0 drop=517 speed=0.267x    \r"
     ]
    },
    {
     "name": "stdout",
     "output_type": "stream",
     "text": [
      "[download]   7.6% of ~ 602.89MiB at    3.10MiB/s ETA 03:08 (frag 14/203))"
     ]
    },
    {
     "name": "stderr",
     "output_type": "stream",
     "text": [
      "frame=  165 fps=1.3 q=-0.0 size=N/A time=00:02:43.00 bitrate=N/A dup=0 drop=3930 speed=1.28x     \r"
     ]
    },
    {
     "name": "stdout",
     "output_type": "stream",
     "text": [
      "[download]   7.7% of ~ 616.42MiB at    3.39MiB/s ETA 03:04 (frag 14/203))"
     ]
    },
    {
     "name": "stderr",
     "output_type": "stream",
     "text": [
      "frame=    3 fps=0.5 q=-0.0 size=N/A time=00:00:01.00 bitrate=N/A dup=0 drop=43 speed=0.152x     \r"
     ]
    },
    {
     "name": "stdout",
     "output_type": "stream",
     "text": [
      "[download]  85.8% of ~ 329.25MiB at    1.10MiB/s ETA 00:51 (frag 158/183)"
     ]
    },
    {
     "name": "stderr",
     "output_type": "stream",
     "text": [
      "frame=   69 fps=0.3 q=-0.0 size=N/A time=00:01:07.00 bitrate=N/A dup=0 drop=1604 speed=0.317x    \r"
     ]
    },
    {
     "name": "stdout",
     "output_type": "stream",
     "text": [
      "[download]   7.9% of ~ 607.61MiB at    3.53MiB/s ETA 02:58 (frag 15/203)"
     ]
    },
    {
     "name": "stderr",
     "output_type": "stream",
     "text": [
      "frame=   63 fps=0.3 q=-0.0 size=N/A time=00:01:01.00 bitrate=N/A dup=0 drop=1483 speed=0.282x    \r"
     ]
    },
    {
     "name": "stdout",
     "output_type": "stream",
     "text": [
      "[download]  86.9% of ~ 325.15MiB at    1.11MiB/s ETA 00:47 (frag 158/183)"
     ]
    },
    {
     "name": "stderr",
     "output_type": "stream",
     "text": [
      "frame=   24 fps=0.3 q=-0.0 size=N/A time=00:00:22.00 bitrate=N/A dup=0 drop=524 speed=0.275x    \r"
     ]
    },
    {
     "name": "stdout",
     "output_type": "stream",
     "text": [
      "[download]  87.1% of ~ 326.23MiB at    1.35MiB/s ETA 00:43 (frag 158/183)"
     ]
    },
    {
     "name": "stderr",
     "output_type": "stream",
     "text": [
      "frame=    3 fps=0.4 q=-0.0 size=N/A time=00:00:01.00 bitrate=N/A dup=0 drop=51 speed=0.13x      \r"
     ]
    },
    {
     "name": "stdout",
     "output_type": "stream",
     "text": [
      "[download]   8.4% of ~ 593.92MiB at    3.32MiB/s ETA 02:55 (frag 16/203))"
     ]
    },
    {
     "name": "stderr",
     "output_type": "stream",
     "text": [
      "frame=   64 fps=0.3 q=-0.0 size=N/A time=00:01:02.00 bitrate=N/A dup=0 drop=1489 speed=0.286x    \r"
     ]
    },
    {
     "name": "stdout",
     "output_type": "stream",
     "text": [
      "[download]   8.4% of ~ 596.86MiB at    2.82MiB/s ETA 03:05 (frag 16/203)"
     ]
    },
    {
     "name": "stderr",
     "output_type": "stream",
     "text": [
      "frame=    8 fps=1.8 q=-0.0 size=N/A time=00:00:06.00 bitrate=N/A dup=0 drop=181 speed=1.39x      \r"
     ]
    },
    {
     "name": "stdout",
     "output_type": "stream",
     "text": [
      "[download]   8.4% of ~ 641.64MiB at    3.06MiB/s ETA 03:05 (frag 16/203))"
     ]
    },
    {
     "name": "stderr",
     "output_type": "stream",
     "text": [
      "frame=  291 fps=1.4 q=-0.0 size=N/A time=00:04:49.00 bitrate=N/A dup=0 drop=6951 speed=1.43x     \r"
     ]
    },
    {
     "name": "stdout",
     "output_type": "stream",
     "text": [
      "[download]   7.8% of ~ 697.07MiB at    3.19MiB/s ETA 03:05 (frag 17/203))"
     ]
    },
    {
     "name": "stderr",
     "output_type": "stream",
     "text": [
      "frame=    3 fps=0.3 q=-0.0 size=N/A time=00:00:01.00 bitrate=N/A dup=0 drop=61 speed=0.11x      \r"
     ]
    },
    {
     "name": "stdout",
     "output_type": "stream",
     "text": [
      "[download]  86.8% of ~ 329.98MiB at    1.81MiB/s ETA 00:32 (frag 160/183)"
     ]
    },
    {
     "name": "stderr",
     "output_type": "stream",
     "text": [
      "frame=   64 fps=0.3 q=-0.0 size=N/A time=00:01:02.00 bitrate=N/A dup=0 drop=1496 speed=0.284x    \r"
     ]
    },
    {
     "name": "stdout",
     "output_type": "stream",
     "text": [
      "[download]  88.0% of ~ 325.50MiB at    1.69MiB/s ETA 00:31 (frag 160/183)"
     ]
    },
    {
     "name": "stderr",
     "output_type": "stream",
     "text": [
      "frame=  169 fps=1.3 q=-0.0 size=N/A time=00:02:47.00 bitrate=N/A dup=0 drop=4027 speed=1.28x     \r"
     ]
    },
    {
     "name": "stdout",
     "output_type": "stream",
     "text": [
      "[download]   9.0% of ~ 620.89MiB at    2.57MiB/s ETA 03:26 (frag 17/203))"
     ]
    },
    {
     "name": "stderr",
     "output_type": "stream",
     "text": [
      "frame=    3 fps=0.3 q=-0.0 size=N/A time=00:00:01.00 bitrate=N/A dup=0 drop=66 speed=0.101x     \r"
     ]
    },
    {
     "name": "stdout",
     "output_type": "stream",
     "text": [
      "[download]   9.2% of ~ 632.17MiB at    2.91MiB/s ETA 03:21 (frag 17/203))"
     ]
    },
    {
     "name": "stderr",
     "output_type": "stream",
     "text": [
      "frame=   70 fps=0.3 q=-0.0 size=N/A time=00:01:08.00 bitrate=N/A dup=0 drop=1628 speed=0.317x    \r"
     ]
    },
    {
     "name": "stdout",
     "output_type": "stream",
     "text": [
      "[download]  87.2% of ~ 331.02MiB at    2.05MiB/s ETA 00:26 (frag 161/183)"
     ]
    },
    {
     "name": "stderr",
     "output_type": "stream",
     "text": [
      "frame=    3 fps=0.3 q=-0.0 size=N/A time=00:00:01.00 bitrate=N/A dup=0 drop=72 speed=0.095x     \r"
     ]
    },
    {
     "name": "stdout",
     "output_type": "stream",
     "text": [
      "[download]   9.4% of ~ 624.30MiB at    3.17MiB/s ETA 03:15 (frag 18/203)"
     ]
    },
    {
     "name": "stderr",
     "output_type": "stream",
     "text": [
      "frame=   64 fps=0.3 q=-0.0 size=N/A time=00:01:02.00 bitrate=N/A dup=0 drop=1507 speed=0.283x    \r"
     ]
    },
    {
     "name": "stdout",
     "output_type": "stream",
     "text": [
      "[download]   9.4% of ~ 626.95MiB at    3.16MiB/s ETA 03:11 (frag 18/203)"
     ]
    },
    {
     "name": "stderr",
     "output_type": "stream",
     "text": [
      "frame=  294 fps=1.4 q=-0.0 size=N/A time=00:04:52.00 bitrate=N/A dup=0 drop=7016 speed=1.43x     \r"
     ]
    },
    {
     "name": "stdout",
     "output_type": "stream",
     "text": [
      "[download]  88.6% of ~ 326.52MiB at    1.80MiB/s ETA 00:25 (frag 161/183)"
     ]
    },
    {
     "name": "stderr",
     "output_type": "stream",
     "text": [
      "frame=  172 fps=1.3 q=-0.0 size=N/A time=00:02:50.00 bitrate=N/A dup=0 drop=4076 speed=1.29x    \r"
     ]
    },
    {
     "name": "stdout",
     "output_type": "stream",
     "text": [
      "[download]  88.1% of ~ 329.34MiB at    1.93MiB/s ETA 00:24 (frag 162/183)"
     ]
    },
    {
     "name": "stderr",
     "output_type": "stream",
     "text": [
      "frame=  295 fps=1.4 q=-0.0 size=N/A time=00:04:53.00 bitrate=N/A dup=0 drop=7035 speed=1.43x     \r"
     ]
    },
    {
     "name": "stdout",
     "output_type": "stream",
     "text": [
      "[download]   8.8% of ~ 710.49MiB at    3.84MiB/s ETA 02:56 (frag 19/203)"
     ]
    },
    {
     "name": "stderr",
     "output_type": "stream",
     "text": [
      "frame=  172 fps=1.3 q=-0.0 size=N/A time=00:02:50.00 bitrate=N/A dup=0 drop=4093 speed=1.28x    \r"
     ]
    },
    {
     "name": "stdout",
     "output_type": "stream",
     "text": [
      "[download]  89.1% of ~ 325.79MiB at    1.63MiB/s ETA 00:24 (frag 162/183)"
     ]
    },
    {
     "name": "stderr",
     "output_type": "stream",
     "text": [
      "frame=   70 fps=0.3 q=-0.0 size=N/A time=00:01:08.00 bitrate=N/A dup=0 drop=1643 speed=0.314x    \r"
     ]
    },
    {
     "name": "stdout",
     "output_type": "stream",
     "text": [
      "[download]   9.9% of ~ 636.55MiB at    3.21MiB/s ETA 03:00 (frag 19/203))"
     ]
    },
    {
     "name": "stderr",
     "output_type": "stream",
     "text": [
      "frame=   25 fps=0.3 q=-0.0 size=N/A time=00:00:23.00 bitrate=N/A dup=0 drop=555 speed=0.272x    \r"
     ]
    },
    {
     "name": "stdout",
     "output_type": "stream",
     "text": [
      "[download]  10.0% of ~ 644.16MiB at    3.32MiB/s ETA 02:58 (frag 19/203))"
     ]
    },
    {
     "name": "stderr",
     "output_type": "stream",
     "text": [
      "frame=   70 fps=0.3 q=-0.0 size=N/A time=00:01:08.00 bitrate=N/A dup=0 drop=1650 speed=0.313x    \r"
     ]
    },
    {
     "name": "stdout",
     "output_type": "stream",
     "text": [
      "[download]   9.4% of ~ 697.43MiB at    3.44MiB/s ETA 02:57 (frag 20/203))"
     ]
    },
    {
     "name": "stderr",
     "output_type": "stream",
     "text": [
      "frame=   25 fps=0.3 q=-0.0 size=N/A time=00:00:23.00 bitrate=N/A dup=0 drop=559 speed=0.271x    \r"
     ]
    },
    {
     "name": "stdout",
     "output_type": "stream",
     "text": [
      "[download]  89.6% of ~ 326.77MiB at    1.79MiB/s ETA 00:22 (frag 163/183)"
     ]
    },
    {
     "name": "stderr",
     "output_type": "stream",
     "text": [
      "frame=    4 fps=0.3 q=-0.0 size=N/A time=00:00:02.00 bitrate=N/A dup=0 drop=92 speed=0.152x      \r"
     ]
    },
    {
     "name": "stdout",
     "output_type": "stream",
     "text": [
      "[download]  10.4% of ~ 636.43MiB at    2.79MiB/s ETA 03:14 (frag 20/203))"
     ]
    },
    {
     "name": "stderr",
     "output_type": "stream",
     "text": [
      "frame=  174 fps=1.3 q=-0.0 size=N/A time=00:02:52.00 bitrate=N/A dup=0 drop=4132 speed=1.28x    \r"
     ]
    },
    {
     "name": "stdout",
     "output_type": "stream",
     "text": [
      "[download]  89.9% of ~ 327.89MiB at    1.86MiB/s ETA 00:21 (frag 163/183)"
     ]
    },
    {
     "name": "stderr",
     "output_type": "stream",
     "text": [
      "frame=   71 fps=0.3 q=-0.0 size=N/A time=00:01:09.00 bitrate=N/A dup=0 drop=1659 speed=0.316x    \r"
     ]
    },
    {
     "name": "stdout",
     "output_type": "stream",
     "text": [
      "[download]   9.9% of ~ 692.84MiB at    3.14MiB/s ETA 03:11 (frag 21/203))"
     ]
    },
    {
     "name": "stderr",
     "output_type": "stream",
     "text": [
      "frame=    4 fps=0.3 q=-0.0 size=N/A time=00:00:02.00 bitrate=N/A dup=0 drop=95 speed=0.147x      \r"
     ]
    },
    {
     "name": "stdout",
     "output_type": "stream",
     "text": [
      "[download]  10.8% of ~ 633.30MiB at    2.83MiB/s ETA 03:18 (frag 21/203)"
     ]
    },
    {
     "name": "stderr",
     "output_type": "stream",
     "text": [
      "frame=   15 fps=1.5 q=-0.0 size=N/A time=00:00:13.00 bitrate=N/A dup=0 drop=379 speed=1.29x     \r"
     ]
    },
    {
     "name": "stdout",
     "output_type": "stream",
     "text": [
      "[download]  90.2% of ~ 326.88MiB at    1.74MiB/s ETA 00:20 (frag 164/183)"
     ]
    },
    {
     "name": "stderr",
     "output_type": "stream",
     "text": [
      "frame=   71 fps=0.3 q=-0.0 size=N/A time=00:01:09.00 bitrate=N/A dup=0 drop=1665 speed=0.315x    \r"
     ]
    },
    {
     "name": "stdout",
     "output_type": "stream",
     "text": [
      "[download]  90.2% of ~ 329.06MiB at    1.94MiB/s ETA 00:19 (frag 164/183)"
     ]
    },
    {
     "name": "stderr",
     "output_type": "stream",
     "text": [
      "frame=   71 fps=0.3 q=-0.0 size=N/A time=00:01:09.00 bitrate=N/A dup=0 drop=1668 speed=0.314x    \r"
     ]
    },
    {
     "name": "stdout",
     "output_type": "stream",
     "text": [
      "[download]  10.9% of ~ 670.18MiB at    3.03MiB/s ETA 03:26 (frag 21/203))"
     ]
    },
    {
     "name": "stderr",
     "output_type": "stream",
     "text": [
      "frame=  299 fps=1.4 q=-0.0 size=N/A time=00:04:57.00 bitrate=N/A dup=0 drop=7145 speed=1.42x     \r"
     ]
    },
    {
     "name": "stdout",
     "output_type": "stream",
     "text": [
      "[download]  10.2% of ~ 714.23MiB at    3.11MiB/s ETA 03:25 (frag 22/203)"
     ]
    },
    {
     "name": "stderr",
     "output_type": "stream",
     "text": [
      "frame=  294 fps=1.3 q=-0.0 size=N/A time=00:04:52.00 bitrate=N/A dup=0 drop=7013 speed=1.31x    \r"
     ]
    },
    {
     "name": "stdout",
     "output_type": "stream",
     "text": [
      "[download]  90.7% of ~ 327.31MiB at    1.83MiB/s ETA 00:19 (frag 165/183)"
     ]
    },
    {
     "name": "stderr",
     "output_type": "stream",
     "text": [
      "frame=  300 fps=1.4 q=-0.0 size=N/A time=00:04:58.00 bitrate=N/A dup=0 drop=7164 speed=1.42x     \r"
     ]
    },
    {
     "name": "stdout",
     "output_type": "stream",
     "text": [
      "[download]  11.3% of ~ 645.55MiB at    2.76MiB/s ETA 03:28 (frag 22/203))"
     ]
    },
    {
     "name": "stderr",
     "output_type": "stream",
     "text": [
      "frame=  177 fps=1.3 q=-0.0 size=N/A time=00:02:55.00 bitrate=N/A dup=0 drop=4216 speed=1.28x     \r"
     ]
    },
    {
     "name": "stdout",
     "output_type": "stream",
     "text": [
      "[download]  91.0% of ~ 328.41MiB at    1.79MiB/s ETA 00:18 (frag 165/183)"
     ]
    },
    {
     "name": "stderr",
     "output_type": "stream",
     "text": [
      "frame=  301 fps=1.4 q=-0.0 size=N/A time=00:04:59.00 bitrate=N/A dup=0 drop=7179 speed=1.43x    \r"
     ]
    },
    {
     "name": "stdout",
     "output_type": "stream",
     "text": [
      "[download]  11.0% of ~ 680.06MiB at    2.92MiB/s ETA 03:25 (frag 23/203))"
     ]
    },
    {
     "name": "stderr",
     "output_type": "stream",
     "text": [
      "frame=  296 fps=1.3 q=-0.0 size=N/A time=00:04:54.00 bitrate=N/A dup=0 drop=7052 speed=1.31x     \r"
     ]
    },
    {
     "name": "stdout",
     "output_type": "stream",
     "text": [
      "[download]  11.8% of ~ 634.69MiB at    2.60MiB/s ETA 03:32 (frag 23/203)"
     ]
    },
    {
     "name": "stderr",
     "output_type": "stream",
     "text": [
      "frame=  302 fps=1.4 q=-0.0 size=N/A time=00:05:00.00 bitrate=N/A dup=0 drop=7197 speed=1.43x     \r"
     ]
    },
    {
     "name": "stdout",
     "output_type": "stream",
     "text": [
      "[download]  11.9% of ~ 636.77MiB at    2.46MiB/s ETA 03:40 (frag 23/203))"
     ]
    },
    {
     "name": "stderr",
     "output_type": "stream",
     "text": [
      "frame=  297 fps=1.3 q=-0.0 size=N/A time=00:04:55.00 bitrate=N/A dup=0 drop=7076 speed=1.32x    \r"
     ]
    },
    {
     "name": "stdout",
     "output_type": "stream",
     "text": [
      "[download]  91.4% of ~ 328.47MiB at    1.85MiB/s ETA 00:17 (frag 166/183)"
     ]
    },
    {
     "name": "stderr",
     "output_type": "stream",
     "text": [
      "frame=  302 fps=1.4 q=-0.0 size=N/A time=00:05:00.00 bitrate=N/A dup=0 drop=7211 speed=1.42x     \r"
     ]
    },
    {
     "name": "stdout",
     "output_type": "stream",
     "text": [
      "[download]  11.4% of ~ 685.99MiB at    2.83MiB/s ETA 03:33 (frag 24/203))"
     ]
    },
    {
     "name": "stderr",
     "output_type": "stream",
     "text": [
      "frame=   26 fps=0.3 q=-0.0 size=N/A time=00:00:24.00 bitrate=N/A dup=0 drop=594 speed=0.266x     \r"
     ]
    },
    {
     "name": "stdout",
     "output_type": "stream",
     "text": [
      "[download]  91.8% of ~ 327.67MiB at    1.66MiB/s ETA 00:16 (frag 167/183)"
     ]
    },
    {
     "name": "stderr",
     "output_type": "stream",
     "text": [
      "frame=   67 fps=0.3 q=-0.0 size=N/A time=00:01:05.00 bitrate=N/A dup=0 drop=1564 speed=0.287x    \r"
     ]
    },
    {
     "name": "stdout",
     "output_type": "stream",
     "text": [
      "[download]  91.0% of ~ 333.46MiB at    2.05MiB/s ETA 00:15 (frag 168/183)"
     ]
    },
    {
     "name": "stderr",
     "output_type": "stream",
     "text": [
      "frame=    4 fps=0.2 q=-0.0 size=N/A time=00:00:02.00 bitrate=N/A dup=0 drop=126 speed=0.108x     \r"
     ]
    },
    {
     "name": "stdout",
     "output_type": "stream",
     "text": [
      "[download]  11.7% of ~ 699.86MiB at    2.75MiB/s ETA 03:56 (frag 25/203)"
     ]
    },
    {
     "name": "stderr",
     "output_type": "stream",
     "text": [
      "frame=   20 fps=1.4 q=-0.0 size=N/A time=00:00:18.00 bitrate=N/A dup=0 drop=541 speed=1.22x      \r"
     ]
    },
    {
     "name": "stdout",
     "output_type": "stream",
     "text": [
      "[download]  92.4% of ~ 328.59MiB at    1.76MiB/s ETA 00:15 (frag 168/183)"
     ]
    },
    {
     "name": "stderr",
     "output_type": "stream",
     "text": [
      "frame=   72 fps=0.3 q=-0.0 size=N/A time=00:01:10.00 bitrate=N/A dup=0 drop=1698 speed=0.313x    \r"
     ]
    },
    {
     "name": "stdout",
     "output_type": "stream",
     "text": [
      "[download]  12.8% of ~ 641.48MiB at    2.57MiB/s ETA 03:53 (frag 25/203))"
     ]
    },
    {
     "name": "stderr",
     "output_type": "stream",
     "text": [
      "frame=   73 fps=0.3 q=-0.0 size=N/A time=00:01:11.00 bitrate=N/A dup=0 drop=1701 speed=0.317x    \r"
     ]
    },
    {
     "name": "stdout",
     "output_type": "stream",
     "text": [
      "[download]  91.7% of ~ 332.93MiB at    1.96MiB/s ETA 00:14 (frag 169/183)"
     ]
    },
    {
     "name": "stderr",
     "output_type": "stream",
     "text": [
      "frame=    4 fps=0.2 q=-0.0 size=N/A time=00:00:02.00 bitrate=N/A dup=0 drop=134 speed=0.102x    \r"
     ]
    },
    {
     "name": "stdout",
     "output_type": "stream",
     "text": [
      "[download]  12.8% of ~ 672.46MiB at    2.98MiB/s ETA 03:37 (frag 25/203)"
     ]
    },
    {
     "name": "stderr",
     "output_type": "stream",
     "text": [
      "frame=    4 fps=0.2 q=-0.0 size=N/A time=00:00:02.00 bitrate=N/A dup=0 drop=138 speed=0.0989x    \r"
     ]
    },
    {
     "name": "stdout",
     "output_type": "stream",
     "text": [
      "[download]  92.9% of ~ 328.84MiB at    1.83MiB/s ETA 00:14 (frag 169/183)"
     ]
    },
    {
     "name": "stderr",
     "output_type": "stream",
     "text": [
      "frame=   67 fps=0.3 q=-0.0 size=N/A time=00:01:05.00 bitrate=N/A dup=0 drop=1578 speed=0.284x    \r"
     ]
    },
    {
     "name": "stdout",
     "output_type": "stream",
     "text": [
      "[download]  13.3% of ~ 649.06MiB at    3.10MiB/s ETA 03:31 (frag 26/203))"
     ]
    },
    {
     "name": "stderr",
     "output_type": "stream",
     "text": [
      "frame=   68 fps=0.3 q=-0.0 size=N/A time=00:01:06.00 bitrate=N/A dup=0 drop=1580 speed=0.288x    \r"
     ]
    },
    {
     "name": "stdout",
     "output_type": "stream",
     "text": [
      "[download]  13.3% of ~ 650.93MiB at    2.97MiB/s ETA 03:28 (frag 26/203))"
     ]
    },
    {
     "name": "stderr",
     "output_type": "stream",
     "text": [
      "frame=  182 fps=1.3 q=-0.0 size=N/A time=00:03:00.00 bitrate=N/A dup=0 drop=4335 speed=1.27x     \r"
     ]
    },
    {
     "name": "stdout",
     "output_type": "stream",
     "text": [
      "[download]  13.5% of ~ 656.57MiB at    3.11MiB/s ETA 03:22 (frag 26/203))"
     ]
    },
    {
     "name": "stderr",
     "output_type": "stream",
     "text": [
      "frame=  303 fps=1.3 q=-0.0 size=N/A time=00:05:01.00 bitrate=N/A dup=0 drop=7235 speed=1.32x     \r"
     ]
    },
    {
     "name": "stdout",
     "output_type": "stream",
     "text": [
      "[download]  93.4% of ~ 329.11MiB at    1.91MiB/s ETA 00:13 (frag 170/183)"
     ]
    },
    {
     "name": "stderr",
     "output_type": "stream",
     "text": [
      "frame=   27 fps=0.3 q=-0.0 size=N/A time=00:00:25.00 bitrate=N/A dup=0 drop=619 speed=0.266x     \r"
     ]
    },
    {
     "name": "stdout",
     "output_type": "stream",
     "text": [
      "[download]  93.4% of ~ 329.12MiB at    1.72MiB/s ETA 00:13 (frag 170/183)"
     ]
    },
    {
     "name": "stderr",
     "output_type": "stream",
     "text": [
      "frame=  304 fps=1.3 q=-0.0 size=N/A time=00:05:02.00 bitrate=N/A dup=0 drop=7252 speed=1.32x    \r"
     ]
    },
    {
     "name": "stdout",
     "output_type": "stream",
     "text": [
      "[download]  13.8% of ~ 646.44MiB at    2.88MiB/s ETA 03:21 (frag 27/203))"
     ]
    },
    {
     "name": "stderr",
     "output_type": "stream",
     "text": [
      "frame=   24 fps=1.3 q=-0.0 size=N/A time=00:00:22.00 bitrate=N/A dup=0 drop=651 speed=1.22x      \r"
     ]
    },
    {
     "name": "stdout",
     "output_type": "stream",
     "text": [
      "[download]  93.7% of ~ 330.18MiB at    1.73MiB/s ETA 00:13 (frag 170/183)"
     ]
    },
    {
     "name": "stderr",
     "output_type": "stream",
     "text": [
      "frame=  304 fps=1.3 q=-0.0 size=N/A time=00:05:02.00 bitrate=N/A dup=0 drop=7267 speed=1.31x    \r"
     ]
    },
    {
     "name": "stdout",
     "output_type": "stream",
     "text": [
      "[download]  92.7% of ~ 334.15MiB at    1.69MiB/s ETA 00:13 (frag 171/183)"
     ]
    },
    {
     "name": "stderr",
     "output_type": "stream",
     "text": [
      "frame=  310 fps=1.4 q=-0.0 size=N/A time=00:05:08.00 bitrate=N/A dup=0 drop=7404 speed=1.42x     \r"
     ]
    },
    {
     "name": "stdout",
     "output_type": "stream",
     "text": [
      "[download]  13.9% of ~ 653.66MiB at    2.48MiB/s ETA 03:33 (frag 27/203)"
     ]
    },
    {
     "name": "stderr",
     "output_type": "stream",
     "text": [
      "frame=   25 fps=1.3 q=-0.0 size=N/A time=00:00:23.00 bitrate=N/A dup=0 drop=682 speed=1.21x     \r"
     ]
    },
    {
     "name": "stdout",
     "output_type": "stream",
     "text": [
      "[download]  94.0% of ~ 329.71MiB at    1.46MiB/s ETA 00:14 (frag 171/183)"
     ]
    },
    {
     "name": "stderr",
     "output_type": "stream",
     "text": [
      "frame=  305 fps=1.3 q=-0.0 size=N/A time=00:05:03.00 bitrate=N/A dup=0 drop=7291 speed=1.31x     \r"
     ]
    },
    {
     "name": "stdout",
     "output_type": "stream",
     "text": [
      "[download]  94.0% of ~ 329.84MiB at    1.06MiB/s ETA 00:16 (frag 171/183)"
     ]
    },
    {
     "name": "stderr",
     "output_type": "stream",
     "text": [
      "frame=  306 fps=1.3 q=-0.0 size=N/A time=00:05:04.00 bitrate=N/A dup=0 drop=7305 speed=1.31x     \r"
     ]
    },
    {
     "name": "stdout",
     "output_type": "stream",
     "text": [
      "[download]  14.3% of ~ 637.17MiB at    1.52MiB/s ETA 04:53 (frag 28/203))"
     ]
    },
    {
     "name": "stderr",
     "output_type": "stream",
     "text": [
      "frame=   74 fps=0.3 q=-0.0 size=N/A time=00:01:12.00 bitrate=N/A dup=0 drop=1729 speed=0.315x    \r"
     ]
    },
    {
     "name": "stdout",
     "output_type": "stream",
     "text": [
      "[download]  94.1% of ~ 331.83MiB at    1.41MiB/s ETA 00:15 (frag 171/183)"
     ]
    },
    {
     "name": "stderr",
     "output_type": "stream",
     "text": [
      "frame=  307 fps=1.3 q=-0.0 size=N/A time=00:05:05.00 bitrate=N/A dup=0 drop=7317 speed=1.32x     \r"
     ]
    },
    {
     "name": "stdout",
     "output_type": "stream",
     "text": [
      "[download]  93.3% of ~ 334.80MiB at    1.48MiB/s ETA 00:15 (frag 172/183)"
     ]
    },
    {
     "name": "stderr",
     "output_type": "stream",
     "text": [
      "frame=   69 fps=0.3 q=-0.0 size=N/A time=00:01:07.00 bitrate=N/A dup=0 drop=1604 speed=0.287x    \r"
     ]
    },
    {
     "name": "stdout",
     "output_type": "stream",
     "text": [
      "[download]  13.7% of ~ 693.76MiB at    1.80MiB/s ETA 05:15 (frag 29/203)"
     ]
    },
    {
     "name": "stderr",
     "output_type": "stream",
     "text": [
      "frame=  186 fps=1.3 q=-0.0 size=N/A time=00:03:04.00 bitrate=N/A dup=0 drop=4412 speed=1.26x     \r"
     ]
    },
    {
     "name": "stdout",
     "output_type": "stream",
     "text": [
      "[download]  94.5% of ~ 330.37MiB at    1.26MiB/s ETA 00:15 (frag 172/183)"
     ]
    },
    {
     "name": "stderr",
     "output_type": "stream",
     "text": [
      "frame=    5 fps=0.2 q=-0.0 size=N/A time=00:00:03.00 bitrate=N/A dup=0 drop=171 speed=0.119x    \r"
     ]
    },
    {
     "name": "stdout",
     "output_type": "stream",
     "text": [
      "[download]  14.8% of ~ 643.28MiB at    1.77MiB/s ETA 05:12 (frag 29/203))"
     ]
    },
    {
     "name": "stderr",
     "output_type": "stream",
     "text": [
      "frame=  313 fps=1.4 q=-0.0 size=N/A time=00:05:11.00 bitrate=N/A dup=0 drop=7479 speed=1.42x     \r"
     ]
    },
    {
     "name": "stdout",
     "output_type": "stream",
     "text": [
      "[download]  14.9% of ~ 656.39MiB at    1.97MiB/s ETA 05:04 (frag 29/203))"
     ]
    },
    {
     "name": "stderr",
     "output_type": "stream",
     "text": [
      "frame=  314 fps=1.4 q=-0.0 size=N/A time=00:05:12.00 bitrate=N/A dup=0 drop=7500 speed=1.42x     \r"
     ]
    },
    {
     "name": "stdout",
     "output_type": "stream",
     "text": [
      "[download]  15.3% of ~ 639.27MiB at    2.17MiB/s ETA 04:47 (frag 30/203))"
     ]
    },
    {
     "name": "stderr",
     "output_type": "stream",
     "text": [
      "frame=  315 fps=1.4 q=-0.0 size=N/A time=00:05:13.00 bitrate=N/A dup=0 drop=7508 speed=1.42x     \r"
     ]
    },
    {
     "name": "stdout",
     "output_type": "stream",
     "text": [
      "[download]  15.3% of ~ 639.35MiB at    2.20MiB/s ETA 04:42 (frag 30/203))"
     ]
    },
    {
     "name": "stderr",
     "output_type": "stream",
     "text": [
      "frame=   75 fps=0.3 q=-0.0 size=N/A time=00:01:13.00 bitrate=N/A dup=0 drop=1749 speed=0.315x    \r"
     ]
    },
    {
     "name": "stdout",
     "output_type": "stream",
     "text": [
      "[download]  95.4% of ~ 332.77MiB at    1.77MiB/s ETA 00:11 (frag 173/183)"
     ]
    },
    {
     "name": "stderr",
     "output_type": "stream",
     "text": [
      "frame=  310 fps=1.3 q=-0.0 size=N/A time=00:05:08.00 bitrate=N/A dup=0 drop=7393 speed=1.31x    \r"
     ]
    },
    {
     "name": "stdout",
     "output_type": "stream",
     "text": [
      "[download]  15.4% of ~ 645.80MiB at    2.16MiB/s ETA 04:32 (frag 30/203))"
     ]
    },
    {
     "name": "stderr",
     "output_type": "stream",
     "text": [
      "frame=  315 fps=1.4 q=-0.0 size=N/A time=00:05:13.00 bitrate=N/A dup=0 drop=7527 speed=1.42x     \r"
     ]
    },
    {
     "name": "stdout",
     "output_type": "stream",
     "text": [
      "[download]  14.8% of ~ 685.62MiB at    2.16MiB/s ETA 04:30 (frag 31/203)"
     ]
    },
    {
     "name": "stderr",
     "output_type": "stream",
     "text": [
      "frame=   69 fps=0.3 q=-0.0 size=N/A time=00:01:07.00 bitrate=N/A dup=0 drop=1622 speed=0.284x    \r"
     ]
    },
    {
     "name": "stdout",
     "output_type": "stream",
     "text": [
      "[download]  15.8% of ~ 641.93MiB at    2.16MiB/s ETA 04:26 (frag 31/203))"
     ]
    },
    {
     "name": "stderr",
     "output_type": "stream",
     "text": [
      "frame=  311 fps=1.3 q=-0.0 size=N/A time=00:05:09.00 bitrate=N/A dup=0 drop=7427 speed=1.31x     \r"
     ]
    },
    {
     "name": "stdout",
     "output_type": "stream",
     "text": [
      "[download]  15.5% of ~ 665.30MiB at    2.42MiB/s ETA 04:11 (frag 32/203))"
     ]
    },
    {
     "name": "stderr",
     "output_type": "stream",
     "text": [
      "frame=   70 fps=0.3 q=-0.0 size=N/A time=00:01:08.00 bitrate=N/A dup=0 drop=1628 speed=0.286x    \r"
     ]
    },
    {
     "name": "stdout",
     "output_type": "stream",
     "text": [
      "[download]  16.3% of ~ 634.09MiB at    2.06MiB/s ETA 04:20 (frag 32/203))"
     ]
    },
    {
     "name": "stderr",
     "output_type": "stream",
     "text": [
      "frame=   75 fps=0.3 q=-0.0 size=N/A time=00:01:13.00 bitrate=N/A dup=0 drop=1768 speed=0.312x    \r"
     ]
    },
    {
     "name": "stdout",
     "output_type": "stream",
     "text": [
      "[download]  16.4% of ~ 639.86MiB at    2.19MiB/s ETA 04:15 (frag 32/203))"
     ]
    },
    {
     "name": "stderr",
     "output_type": "stream",
     "text": [
      "frame=   31 fps=1.2 q=-0.0 size=N/A time=00:00:29.00 bitrate=N/A dup=0 drop=861 speed=1.13x      \r"
     ]
    },
    {
     "name": "stdout",
     "output_type": "stream",
     "text": [
      "[download]  16.5% of ~ 646.01MiB at    2.41MiB/s ETA 04:08 (frag 32/203))"
     ]
    },
    {
     "name": "stderr",
     "output_type": "stream",
     "text": [
      "frame=  313 fps=1.3 q=-0.0 size=N/A time=00:05:11.00 bitrate=N/A dup=0 drop=7481 speed=1.31x     \r"
     ]
    },
    {
     "name": "stdout",
     "output_type": "stream",
     "text": [
      "[download]  95.1% of ~ 339.48MiB at    1.89MiB/s ETA 00:08 (frag 176/183)"
     ]
    },
    {
     "name": "stderr",
     "output_type": "stream",
     "text": [
      "frame=  314 fps=1.3 q=-0.0 size=N/A time=00:05:12.00 bitrate=N/A dup=0 drop=7495 speed=1.31x     \r"
     ]
    },
    {
     "name": "stdout",
     "output_type": "stream",
     "text": [
      "[download]  16.8% of ~ 635.62MiB at    2.12MiB/s ETA 04:13 (frag 33/203)"
     ]
    },
    {
     "name": "stderr",
     "output_type": "stream",
     "text": [
      "frame=  320 fps=1.4 q=-0.0 size=N/A time=00:05:18.00 bitrate=N/A dup=0 drop=7632 speed=1.42x    \r"
     ]
    },
    {
     "name": "stdout",
     "output_type": "stream",
     "text": [
      "[download]  96.7% of ~ 333.76MiB at    1.86MiB/s ETA 00:07 (frag 176/183)"
     ]
    },
    {
     "name": "stderr",
     "output_type": "stream",
     "text": [
      "frame=  315 fps=1.3 q=-0.0 size=N/A time=00:05:13.00 bitrate=N/A dup=0 drop=7513 speed=1.31x     \r"
     ]
    },
    {
     "name": "stdout",
     "output_type": "stream",
     "text": [
      "[download]  16.9% of ~ 640.84MiB at    2.19MiB/s ETA 04:10 (frag 33/203))"
     ]
    },
    {
     "name": "stderr",
     "output_type": "stream",
     "text": [
      "frame=   29 fps=0.3 q=-0.0 size=N/A time=00:00:27.00 bitrate=N/A dup=0 drop=665 speed=0.261x     \r"
     ]
    },
    {
     "name": "stdout",
     "output_type": "stream",
     "text": [
      "[download]  96.9% of ~ 334.27MiB at    1.67MiB/s ETA 00:07 (frag 176/183)"
     ]
    },
    {
     "name": "stderr",
     "output_type": "stream",
     "text": [
      "frame=  315 fps=1.3 q=-0.0 size=N/A time=00:05:13.00 bitrate=N/A dup=0 drop=7522 speed=1.31x    \r"
     ]
    },
    {
     "name": "stdout",
     "output_type": "stream",
     "text": [
      "[download]  17.2% of ~ 627.56MiB at    2.01MiB/s ETA 04:17 (frag 34/203))"
     ]
    },
    {
     "name": "stderr",
     "output_type": "stream",
     "text": [
      "frame=   70 fps=0.3 q=-0.0 size=N/A time=00:01:08.00 bitrate=N/A dup=0 drop=1642 speed=0.283x    \r"
     ]
    },
    {
     "name": "stdout",
     "output_type": "stream",
     "text": [
      "[download]  17.3% of ~ 627.91MiB at    1.92MiB/s ETA 04:22 (frag 34/203))"
     ]
    },
    {
     "name": "stderr",
     "output_type": "stream",
     "text": [
      "frame=  316 fps=1.3 q=-0.0 size=N/A time=00:05:14.00 bitrate=N/A dup=0 drop=7541 speed=1.31x     \r"
     ]
    },
    {
     "name": "stdout",
     "output_type": "stream",
     "text": [
      "[download]  17.4% of ~ 639.14MiB at    2.28MiB/s ETA 04:11 (frag 34/203))"
     ]
    },
    {
     "name": "stderr",
     "output_type": "stream",
     "text": [
      "frame=  322 fps=1.4 q=-0.0 size=N/A time=00:05:20.00 bitrate=N/A dup=0 drop=7683 speed=1.42x     \r"
     ]
    },
    {
     "name": "stdout",
     "output_type": "stream",
     "text": [
      "[download]  97.4% of ~ 334.07MiB at    1.81MiB/s ETA 00:06 (frag 177/183)"
     ]
    },
    {
     "name": "stderr",
     "output_type": "stream",
     "text": [
      "frame=  317 fps=1.3 q=-0.0 size=N/A time=00:05:15.00 bitrate=N/A dup=0 drop=7557 speed=1.31x    \r"
     ]
    },
    {
     "name": "stdout",
     "output_type": "stream",
     "text": [
      "[download]  97.5% of ~ 335.61MiB at    1.77MiB/s ETA 00:05 (frag 177/183)"
     ]
    },
    {
     "name": "stderr",
     "output_type": "stream",
     "text": [
      "frame=   30 fps=0.3 q=-0.0 size=N/A time=00:00:28.00 bitrate=N/A dup=0 drop=670 speed=0.266x     \r"
     ]
    },
    {
     "name": "stdout",
     "output_type": "stream",
     "text": [
      "[download]  96.4% of ~ 339.33MiB at    1.69MiB/s ETA 00:06 (frag 178/183)"
     ]
    },
    {
     "name": "stderr",
     "output_type": "stream",
     "text": [
      "frame=   70 fps=0.3 q=-0.0 size=N/A time=00:01:08.00 bitrate=N/A dup=0 drop=1651 speed=0.281x    \r"
     ]
    },
    {
     "name": "stdout",
     "output_type": "stream",
     "text": [
      "[download]  97.8% of ~ 334.60MiB at    1.66MiB/s ETA 00:05 (frag 178/183)"
     ]
    },
    {
     "name": "stderr",
     "output_type": "stream",
     "text": [
      "frame=   30 fps=0.3 q=-0.0 size=N/A time=00:00:28.00 bitrate=N/A dup=0 drop=674 speed=0.265x     \r"
     ]
    },
    {
     "name": "stdout",
     "output_type": "stream",
     "text": [
      "[download]  97.9% of ~ 334.82MiB at    1.65MiB/s ETA 00:05 (frag 178/183)"
     ]
    },
    {
     "name": "stderr",
     "output_type": "stream",
     "text": [
      "frame=   77 fps=0.3 q=-0.0 size=N/A time=00:01:15.00 bitrate=N/A dup=0 drop=1798 speed=0.314x    \r"
     ]
    },
    {
     "name": "stdout",
     "output_type": "stream",
     "text": [
      "[download]  97.4% of ~ 337.26MiB at    1.83MiB/s ETA 00:05 (frag 179/183)"
     ]
    },
    {
     "name": "stderr",
     "output_type": "stream",
     "text": [
      "frame=  195 fps=1.3 q=-0.0 size=N/A time=00:03:13.00 bitrate=N/A dup=0 drop=4642 speed=1.25x     \r"
     ]
    },
    {
     "name": "stdout",
     "output_type": "stream",
     "text": [
      "[download]  18.3% of ~ 634.77MiB at    2.60MiB/s ETA 03:49 (frag 36/203)"
     ]
    },
    {
     "name": "stderr",
     "output_type": "stream",
     "text": [
      "frame=  325 fps=1.4 q=-0.0 size=N/A time=00:05:23.00 bitrate=N/A dup=0 drop=7765 speed=1.42x     \r"
     ]
    },
    {
     "name": "stdout",
     "output_type": "stream",
     "text": [
      "[download]  98.4% of ~ 334.05MiB at    1.72MiB/s ETA 00:04 (frag 179/183)"
     ]
    },
    {
     "name": "stderr",
     "output_type": "stream",
     "text": [
      "frame=  320 fps=1.3 q=-0.0 size=N/A time=00:05:18.00 bitrate=N/A dup=0 drop=7646 speed=1.31x     \r"
     ]
    },
    {
     "name": "stdout",
     "output_type": "stream",
     "text": [
      "[download]  98.4% of ~ 334.11MiB at    1.58MiB/s ETA 00:04 (frag 179/183)"
     ]
    },
    {
     "name": "stderr",
     "output_type": "stream",
     "text": [
      "frame=   71 fps=0.3 q=-0.0 size=N/A time=00:01:09.00 bitrate=N/A dup=0 drop=1662 speed=0.283x    \r"
     ]
    },
    {
     "name": "stdout",
     "output_type": "stream",
     "text": [
      "[download]  18.7% of ~ 626.46MiB at    2.74MiB/s ETA 03:34 (frag 37/203))"
     ]
    },
    {
     "name": "stderr",
     "output_type": "stream",
     "text": [
      "frame=  321 fps=1.3 q=-0.0 size=N/A time=00:05:19.00 bitrate=N/A dup=0 drop=7663 speed=1.32x     \r"
     ]
    },
    {
     "name": "stdout",
     "output_type": "stream",
     "text": [
      "[download]  18.7% of ~ 627.12MiB at    2.40MiB/s ETA 03:40 (frag 37/203))"
     ]
    },
    {
     "name": "stderr",
     "output_type": "stream",
     "text": [
      "frame=   71 fps=0.3 q=-0.0 size=N/A time=00:01:09.00 bitrate=N/A dup=0 drop=1666 speed=0.283x    \r"
     ]
    },
    {
     "name": "stdout",
     "output_type": "stream",
     "text": [
      "[download]  18.9% of ~ 631.79MiB at    2.53MiB/s ETA 03:35 (frag 37/203))"
     ]
    },
    {
     "name": "stderr",
     "output_type": "stream",
     "text": [
      "frame=  322 fps=1.3 q=-0.0 size=N/A time=00:05:20.00 bitrate=N/A dup=0 drop=7682 speed=1.32x     \r"
     ]
    },
    {
     "name": "stdout",
     "output_type": "stream",
     "text": [
      "[download]  18.8% of ~ 647.82MiB at    2.96MiB/s ETA 03:24 (frag 37/203))"
     ]
    },
    {
     "name": "stderr",
     "output_type": "stream",
     "text": [
      "frame=   30 fps=0.3 q=-0.0 size=N/A time=00:00:28.00 bitrate=N/A dup=0 drop=685 speed=0.259x    \r"
     ]
    },
    {
     "name": "stdout",
     "output_type": "stream",
     "text": [
      "[download]  99.0% of ~ 335.37MiB at    1.71MiB/s ETA 00:03 (frag 180/183)"
     ]
    },
    {
     "name": "stderr",
     "output_type": "stream",
     "text": [
      "frame=  322 fps=1.3 q=-0.0 size=N/A time=00:05:20.00 bitrate=N/A dup=0 drop=7696 speed=1.31x     \r"
     ]
    },
    {
     "name": "stdout",
     "output_type": "stream",
     "text": [
      "[download]  99.2% of ~ 336.13MiB at    1.75MiB/s ETA 00:02 (frag 180/183)"
     ]
    },
    {
     "name": "stderr",
     "output_type": "stream",
     "text": [
      "frame=    7 fps=0.2 q=-0.0 size=N/A time=00:00:05.00 bitrate=N/A dup=0 drop=253 speed=0.136x     \r"
     ]
    },
    {
     "name": "stdout",
     "output_type": "stream",
     "text": [
      "[download]  19.3% of ~ 633.68MiB at    2.43MiB/s ETA 03:31 (frag 38/203))"
     ]
    },
    {
     "name": "stderr",
     "output_type": "stream",
     "text": [
      "frame=  323 fps=1.3 q=-0.0 size=N/A time=00:05:21.00 bitrate=N/A dup=0 drop=7711 speed=1.32x     \r"
     ]
    },
    {
     "name": "stdout",
     "output_type": "stream",
     "text": [
      "[download]  99.5% of ~ 335.12MiB at    1.76MiB/s ETA 00:02 (frag 181/183)"
     ]
    },
    {
     "name": "stderr",
     "output_type": "stream",
     "text": [
      "frame=  198 fps=1.3 q=-0.0 size=N/A time=00:03:16.00 bitrate=N/A dup=0 drop=4718 speed=1.24x     \r"
     ]
    },
    {
     "name": "stdout",
     "output_type": "stream",
     "text": [
      "[download]  99.5% of ~ 335.37MiB at    1.85MiB/s ETA 00:02 (frag 181/183)"
     ]
    },
    {
     "name": "stderr",
     "output_type": "stream",
     "text": [
      "frame=   30 fps=0.3 q=-0.0 size=N/A time=00:00:28.00 bitrate=N/A dup=0 drop=691 speed=0.255x    \r"
     ]
    },
    {
     "name": "stdout",
     "output_type": "stream",
     "text": [
      "[download]  99.6% of ~ 335.62MiB at    1.92MiB/s ETA 00:01 (frag 181/183)"
     ]
    },
    {
     "name": "stderr",
     "output_type": "stream",
     "text": [
      "frame=   78 fps=0.3 q=-0.0 size=N/A time=00:01:16.00 bitrate=N/A dup=0 drop=1831 speed=0.314x    \r"
     ]
    },
    {
     "name": "stdout",
     "output_type": "stream",
     "text": [
      "[download]  99.0% of ~ 337.94MiB at    1.99MiB/s ETA 00:01 (frag 182/183)"
     ]
    },
    {
     "name": "stderr",
     "output_type": "stream",
     "text": [
      "frame=  325 fps=1.3 q=-0.0 size=N/A time=00:05:23.00 bitrate=N/A dup=0 drop=7753 speed=1.32x    \r"
     ]
    },
    {
     "name": "stdout",
     "output_type": "stream",
     "text": [
      "[download]  19.7% of ~ 637.27MiB at    3.01MiB/s ETA 03:08 (frag 39/203)"
     ]
    },
    {
     "name": "stderr",
     "output_type": "stream",
     "text": [
      "frame=    7 fps=0.2 q=-0.0 size=N/A time=00:00:05.00 bitrate=N/A dup=0 drop=262 speed=0.132x    \r"
     ]
    },
    {
     "name": "stdout",
     "output_type": "stream",
     "text": [
      "[download] 100.0% of ~ 334.69MiB at    1.72MiB/s ETA 00:01 (frag 182/183)"
     ]
    },
    {
     "name": "stderr",
     "output_type": "stream",
     "text": [
      "frame=  331 fps=1.4 q=-0.0 size=N/A time=00:05:29.00 bitrate=N/A dup=0 drop=7900 speed=1.42x     \r"
     ]
    },
    {
     "name": "stdout",
     "output_type": "stream",
     "text": [
      "[download] 100.0% of ~ 335.19MiB at    1.43MiB/s ETA 00:01 (frag 182/183)"
     ]
    },
    {
     "name": "stderr",
     "output_type": "stream",
     "text": [
      "frame=    7 fps=0.2 q=-0.0 size=N/A time=00:00:05.00 bitrate=N/A dup=0 drop=267 speed=0.13x     \r"
     ]
    },
    {
     "name": "stdout",
     "output_type": "stream",
     "text": [
      "[download]  20.2% of ~ 630.79MiB at    2.85MiB/s ETA 03:05 (frag 40/203))"
     ]
    },
    {
     "name": "stderr",
     "output_type": "stream",
     "text": [
      "frame=   42 fps=1.2 q=-0.0 size=N/A time=00:00:40.00 bitrate=N/A dup=0 drop=1175 speed=1.16x     \r"
     ]
    },
    {
     "name": "stdout",
     "output_type": "stream",
     "text": [
      "[download]  20.3% of ~ 633.24MiB at    2.39MiB/s ETA 03:20 (frag 40/203))"
     ]
    },
    {
     "name": "stderr",
     "output_type": "stream",
     "text": [
      "frame=  326 fps=1.3 q=-0.0 size=N/A time=00:05:24.00 bitrate=N/A dup=0 drop=7789 speed=1.32x    \r"
     ]
    },
    {
     "name": "stdout",
     "output_type": "stream",
     "text": [
      "[download]  20.4% of ~ 635.72MiB at    2.48MiB/s ETA 03:19 (frag 40/203)"
     ]
    },
    {
     "name": "stderr",
     "output_type": "stream",
     "text": [
      "frame=   43 fps=1.2 q=-0.0 size=N/A time=00:00:41.00 bitrate=N/A dup=0 drop=1195 speed=1.17x     \r"
     ]
    },
    {
     "name": "stdout",
     "output_type": "stream",
     "text": [
      "[download] 100.0% of ~ 337.14MiB at    1.56MiB/s ETA 00:00 (frag 183/183)"
     ]
    },
    {
     "name": "stderr",
     "output_type": "stream",
     "text": [
      "frame=   31 fps=0.3 q=-0.0 size=N/A time=00:00:29.00 bitrate=N/A dup=0 drop=702 speed=0.259x     \r"
     ]
    },
    {
     "name": "stdout",
     "output_type": "stream",
     "text": [
      "[download] 100.0% of ~ 338.11MiB at    1.60MiB/s ETA 00:00 (frag 183/183)"
     ]
    },
    {
     "name": "stderr",
     "output_type": "stream",
     "text": [
      "frame=  328 fps=1.3 q=-0.0 size=N/A time=00:05:26.00 bitrate=N/A dup=0 drop=7828 speed=1.32x     \r"
     ]
    },
    {
     "name": "stdout",
     "output_type": "stream",
     "text": [
      "[download]  20.7% of ~ 637.18MiB at    2.69MiB/s ETA 03:13 (frag 41/203))"
     ]
    },
    {
     "name": "stderr",
     "output_type": "stream",
     "text": [
      "frame=   31 fps=0.3 q=-0.0 size=N/A time=00:00:29.00 bitrate=N/A dup=0 drop=705 speed=0.258x     \r"
     ]
    },
    {
     "name": "stdout",
     "output_type": "stream",
     "text": [
      "[download]  20.8% of ~ 639.53MiB at    2.51MiB/s ETA 03:20 (frag 41/203))"
     ]
    },
    {
     "name": "stderr",
     "output_type": "stream",
     "text": [
      "frame=  329 fps=1.3 q=-0.0 size=N/A time=00:05:27.00 bitrate=N/A dup=0 drop=7848 speed=1.32x     \r"
     ]
    },
    {
     "name": "stdout",
     "output_type": "stream",
     "text": [
      "[download] 100% of  340.30MiB in 00:04:22 at 1.30MiB/s                   \n",
      "[download]  20.7% of ~ 646.78MiB at    2.76MiB/s ETA 03:14 (frag 41/203)"
     ]
    },
    {
     "name": "stderr",
     "output_type": "stream",
     "text": [
      "frame=   73 fps=0.3 q=-0.0 size=N/A time=00:01:11.00 bitrate=N/A dup=0 drop=1704 speed=0.285x    \r"
     ]
    },
    {
     "name": "stdout",
     "output_type": "stream",
     "text": [
      "[download]  20.3% of ~ 659.96MiB at    2.80MiB/s ETA 03:13 (frag 42/203)[download] Destination: ./dataset_splited/tx2DaIcoNLQ/video_1080p.f251.webm\n",
      "[download]   0.8% of   15.54MiB at  938.98KiB/s ETA 00:16"
     ]
    },
    {
     "name": "stderr",
     "output_type": "stream",
     "text": [
      "frame=  203 fps=1.3 q=-0.0 size=N/A time=00:03:21.00 bitrate=N/A dup=0 drop=4834 speed=1.24x     \r"
     ]
    },
    {
     "name": "stdout",
     "output_type": "stream",
     "text": [
      "[download]  12.9% of   15.54MiB at    3.15MiB/s ETA 00:047 (frag 42/203)"
     ]
    },
    {
     "name": "stderr",
     "output_type": "stream",
     "text": [
      "frame=   79 fps=0.3 q=-0.0 size=N/A time=00:01:17.00 bitrate=N/A dup=0 drop=1862 speed=0.313x    \r"
     ]
    },
    {
     "name": "stdout",
     "output_type": "stream",
     "text": [
      "[download]  20.7% of ~ 662.87MiB at    2.98MiB/s ETA 03:07 (frag 43/203)"
     ]
    },
    {
     "name": "stderr",
     "output_type": "stream",
     "text": [
      "frame=   46 fps=1.2 q=-0.0 size=N/A time=00:00:44.00 bitrate=N/A dup=0 drop=1277 speed=1.17x     \r"
     ]
    },
    {
     "name": "stdout",
     "output_type": "stream",
     "text": [
      "[download]  21.7% of ~ 633.45MiB at    2.84MiB/s ETA 03:06 (frag 43/203)"
     ]
    },
    {
     "name": "stderr",
     "output_type": "stream",
     "text": [
      "frame=    8 fps=0.2 q=-0.0 size=N/A time=00:00:06.00 bitrate=N/A dup=0 drop=292 speed=0.142x    \r"
     ]
    },
    {
     "name": "stdout",
     "output_type": "stream",
     "text": [
      "[download]  21.7% of ~ 634.58MiB at    2.25MiB/s ETA 03:25 (frag 43/203)"
     ]
    },
    {
     "name": "stderr",
     "output_type": "stream",
     "text": [
      "frame=   46 fps=1.2 q=-0.0 size=N/A time=00:00:44.00 bitrate=N/A dup=0 drop=1292 speed=1.15x     \r"
     ]
    },
    {
     "name": "stdout",
     "output_type": "stream",
     "text": [
      "[download]  21.7% of ~ 642.66MiB at    2.65MiB/s ETA 03:17 (frag 43/203)"
     ]
    },
    {
     "name": "stderr",
     "output_type": "stream",
     "text": [
      "frame=   80 fps=0.3 q=-0.0 size=N/A time=00:01:18.00 bitrate=N/A dup=0 drop=1871 speed=0.315x    \r"
     ]
    },
    {
     "name": "stdout",
     "output_type": "stream",
     "text": [
      "[download]  51.2% of   15.54MiB at    3.65MiB/s ETA 00:025 (frag 44/203)"
     ]
    },
    {
     "name": "stderr",
     "output_type": "stream",
     "text": [
      "frame=  333 fps=1.3 q=-0.0 size=N/A time=00:05:31.00 bitrate=N/A dup=0 drop=7941 speed=1.32x     \r"
     ]
    },
    {
     "name": "stdout",
     "output_type": "stream",
     "text": [
      "[download]  22.2% of ~ 630.24MiB at    2.68MiB/s ETA 03:13 (frag 44/203)"
     ]
    },
    {
     "name": "stderr",
     "output_type": "stream",
     "text": [
      "frame=   47 fps=1.2 q=-0.0 size=N/A time=00:00:45.00 bitrate=N/A dup=0 drop=1305 speed=1.16x    \r"
     ]
    },
    {
     "name": "stdout",
     "output_type": "stream",
     "text": [
      "[download]  66.4% of   15.54MiB at    4.95MiB/s ETA 00:013 (frag 44/203)"
     ]
    },
    {
     "name": "stderr",
     "output_type": "stream",
     "text": [
      "frame=    8 fps=0.2 q=-0.0 size=N/A time=00:00:06.00 bitrate=N/A dup=0 drop=302 speed=0.138x     \r"
     ]
    },
    {
     "name": "stdout",
     "output_type": "stream",
     "text": [
      "[download]  22.2% of ~ 648.21MiB at    3.01MiB/s ETA 03:05 (frag 44/203)"
     ]
    },
    {
     "name": "stderr",
     "output_type": "stream",
     "text": [
      "frame=   80 fps=0.3 q=-0.0 size=N/A time=00:01:18.00 bitrate=N/A dup=0 drop=1881 speed=0.314x    \r"
     ]
    },
    {
     "name": "stdout",
     "output_type": "stream",
     "text": [
      "[download]  88.9% of   15.54MiB at    8.06MiB/s ETA 00:002 (frag 45/203)"
     ]
    },
    {
     "name": "stderr",
     "output_type": "stream",
     "text": [
      "frame=   74 fps=0.3 q=-0.0 size=N/A time=00:01:12.00 bitrate=N/A dup=0 drop=1731 speed=0.285x    \r"
     ]
    },
    {
     "name": "stdout",
     "output_type": "stream",
     "text": [
      "[download] 100% of   15.54MiB in 00:00:03 at 4.08MiB/s   0 (frag 45/203)\n",
      "[download]  22.7% of ~ 634.95MiB at    2.95MiB/s ETA 03:01 (frag 45/203)"
     ]
    },
    {
     "name": "stderr",
     "output_type": "stream",
     "text": [
      "frame=   74 fps=0.3 q=-0.0 size=N/A time=00:01:12.00 bitrate=N/A dup=0 drop=1735 speed=0.284x    \r"
     ]
    },
    {
     "name": "stdout",
     "output_type": "stream",
     "text": [
      "[download]  22.7% of ~ 637.14MiB at    2.60MiB/s ETA 03:08 (frag 45/203)"
     ]
    },
    {
     "name": "stderr",
     "output_type": "stream",
     "text": [
      "frame=   80 fps=0.3 q=-0.0 size=N/A time=00:01:18.00 bitrate=N/A dup=0 drop=1891 speed=0.313x    \r"
     ]
    },
    {
     "name": "stdout",
     "output_type": "stream",
     "text": [
      "[download]  22.8% of ~ 639.35MiB at    2.69MiB/s ETA 03:06 (frag 45/203)[Merger] Merging formats into \"./dataset_splited/tx2DaIcoNLQ/video_1080p.webm\"\n",
      "[download]  22.9% of ~ 643.76MiB at    2.93MiB/s ETA 03:02 (frag 45/203)"
     ]
    },
    {
     "name": "stderr",
     "output_type": "stream",
     "text": [
      "frame=  341 fps=1.4 q=-0.0 size=N/A time=00:05:39.00 bitrate=N/A dup=0 drop=8155 speed=1.42x    \r"
     ]
    },
    {
     "name": "stdout",
     "output_type": "stream",
     "text": [
      "[download]  22.1% of ~ 668.96MiB at    3.10MiB/s ETA 02:59 (frag 46/203)"
     ]
    },
    {
     "name": "stderr",
     "output_type": "stream",
     "text": [
      "frame=  337 fps=1.3 q=-0.0 size=N/A time=00:05:35.00 bitrate=N/A dup=0 drop=8043 speed=1.32x     \r"
     ]
    },
    {
     "name": "stdout",
     "output_type": "stream",
     "text": [
      "[download]  23.2% of ~ 638.08MiB at    2.99MiB/s ETA 02:57 (frag 46/203)"
     ]
    },
    {
     "name": "stderr",
     "output_type": "stream",
     "text": [
      "frame=    8 fps=0.2 q=-0.0 size=N/A time=00:00:06.00 bitrate=N/A dup=0 drop=320 speed=0.13x      \r"
     ]
    },
    {
     "name": "stdout",
     "output_type": "stream",
     "text": [
      "[download]  23.2% of ~ 639.15MiB at    2.85MiB/s ETA 02:56 (frag 46/203)"
     ]
    },
    {
     "name": "stderr",
     "output_type": "stream",
     "text": [
      "frame=  338 fps=1.3 q=-0.0 size=N/A time=00:05:36.00 bitrate=N/A dup=0 drop=8063 speed=1.32x    \r"
     ]
    },
    {
     "name": "stdout",
     "output_type": "stream",
     "text": [
      "[download]  23.3% of ~ 642.39MiB at    2.63MiB/s ETA 03:01 (frag 46/203)"
     ]
    },
    {
     "name": "stderr",
     "output_type": "stream",
     "text": [
      "frame=   74 fps=0.3 q=-0.0 size=N/A time=00:01:12.00 bitrate=N/A dup=0 drop=1746 speed=0.282x    \r"
     ]
    },
    {
     "name": "stdout",
     "output_type": "stream",
     "text": [
      "[download]  22.8% of ~ 660.25MiB at    2.44MiB/s ETA 03:09 (frag 47/203)"
     ]
    },
    {
     "name": "stderr",
     "output_type": "stream",
     "text": [
      "frame=   51 fps=1.2 q=-0.0 size=N/A time=00:00:49.00 bitrate=N/A dup=0 drop=1437 speed=1.15x    \r"
     ]
    },
    {
     "name": "stdout",
     "output_type": "stream",
     "text": [
      "[download]  23.6% of ~ 635.70MiB at    2.38MiB/s ETA 03:13 (frag 47/203)"
     ]
    },
    {
     "name": "stderr",
     "output_type": "stream",
     "text": [
      "frame=  344 fps=1.4 q=-0.0 size=N/A time=00:05:42.00 bitrate=N/A dup=0 drop=8220 speed=1.42x     \r"
     ]
    },
    {
     "name": "stdout",
     "output_type": "stream",
     "text": [
      "[download]  23.7% of ~ 636.69MiB at    2.32MiB/s ETA 03:18 (frag 47/203)"
     ]
    },
    {
     "name": "stderr",
     "output_type": "stream",
     "text": [
      "frame=  340 fps=1.3 q=-0.0 size=N/A time=00:05:38.00 bitrate=N/A dup=0 drop=8108 speed=1.33x     \r"
     ]
    },
    {
     "name": "stdout",
     "output_type": "stream",
     "text": [
      "[download]  23.8% of ~ 639.87MiB at    2.49MiB/s ETA 03:16 (frag 47/203)"
     ]
    },
    {
     "name": "stderr",
     "output_type": "stream",
     "text": [
      "frame=   75 fps=0.3 q=-0.0 size=N/A time=00:01:13.00 bitrate=N/A dup=0 drop=1753 speed=0.285x    \r"
     ]
    },
    {
     "name": "stdout",
     "output_type": "stream",
     "text": [
      "[download]  23.4% of ~ 651.20MiB at    2.49MiB/s ETA 03:16 (frag 48/203)"
     ]
    },
    {
     "name": "stderr",
     "output_type": "stream",
     "text": [
      "frame=  212 fps=1.3 q=-0.0 size=N/A time=00:03:30.00 bitrate=N/A dup=0 drop=5044 speed=1.25x    \r"
     ]
    },
    {
     "name": "stdout",
     "output_type": "stream",
     "text": [
      "[download]  24.1% of ~ 630.30MiB at    1.98MiB/s ETA 03:40 (frag 48/203)"
     ]
    },
    {
     "name": "stderr",
     "output_type": "stream",
     "text": [
      "frame=   82 fps=0.3 q=-0.0 size=N/A time=00:01:20.00 bitrate=N/A dup=0 drop=1920 speed=0.316x    \r"
     ]
    },
    {
     "name": "stdout",
     "output_type": "stream",
     "text": [
      "[download]  24.2% of ~ 630.80MiB at    1.85MiB/s ETA 03:54 (frag 48/203)"
     ]
    },
    {
     "name": "stderr",
     "output_type": "stream",
     "text": [
      "frame=    9 fps=0.2 q=-0.0 size=N/A time=00:00:07.00 bitrate=N/A dup=0 drop=336 speed=0.145x     \r"
     ]
    },
    {
     "name": "stdout",
     "output_type": "stream",
     "text": [
      "[download]  24.3% of ~ 634.43MiB at    2.06MiB/s ETA 03:51 (frag 48/203)"
     ]
    },
    {
     "name": "stderr",
     "output_type": "stream",
     "text": [
      "frame=   33 fps=0.3 q=-0.0 size=N/A time=00:00:31.00 bitrate=N/A dup=0 drop=748 speed=0.256x    \r"
     ]
    },
    {
     "name": "stdout",
     "output_type": "stream",
     "text": [
      "[download]  24.2% of ~ 646.86MiB at    2.49MiB/s ETA 03:39 (frag 48/203)"
     ]
    },
    {
     "name": "stderr",
     "output_type": "stream",
     "text": [
      "frame=    9 fps=0.2 q=-0.0 size=N/A time=00:00:07.00 bitrate=N/A dup=0 drop=341 speed=0.143x    \r"
     ]
    },
    {
     "name": "stdout",
     "output_type": "stream",
     "text": [
      "[download]  23.5% of ~ 666.60MiB at    2.62MiB/s ETA 03:34 (frag 49/203)"
     ]
    },
    {
     "name": "stderr",
     "output_type": "stream",
     "text": [
      "frame=  342 fps=1.3 q=-0.0 size=N/A time=00:05:40.00 bitrate=N/A dup=0 drop=8161 speed=1.33x     \r"
     ]
    },
    {
     "name": "stdout",
     "output_type": "stream",
     "text": [
      "[download]  24.6% of ~ 635.50MiB at    2.46MiB/s ETA 03:33 (frag 49/203)"
     ]
    },
    {
     "name": "stderr",
     "output_type": "stream",
     "text": [
      "frame=  214 fps=1.3 q=-0.0 size=N/A time=00:03:32.00 bitrate=N/A dup=0 drop=5093 speed=1.25x     \r"
     ]
    },
    {
     "name": "stdout",
     "output_type": "stream",
     "text": [
      "[download]  24.7% of ~ 636.49MiB at    2.30MiB/s ETA 03:35 (frag 49/203)"
     ]
    },
    {
     "name": "stderr",
     "output_type": "stream",
     "text": [
      "frame=   82 fps=0.3 q=-0.0 size=N/A time=00:01:20.00 bitrate=N/A dup=0 drop=1930 speed=0.315x    \r"
     ]
    },
    {
     "name": "stdout",
     "output_type": "stream",
     "text": [
      "[download]  24.8% of ~ 639.53MiB at    2.54MiB/s ETA 03:27 (frag 49/203)"
     ]
    },
    {
     "name": "stderr",
     "output_type": "stream",
     "text": [
      "frame=   33 fps=0.3 q=-0.0 size=N/A time=00:00:31.00 bitrate=N/A dup=0 drop=757 speed=0.254x     \r"
     ]
    },
    {
     "name": "stdout",
     "output_type": "stream",
     "text": [
      "[download]  24.4% of ~ 650.20MiB at    2.60MiB/s ETA 03:24 (frag 50/203)"
     ]
    },
    {
     "name": "stderr",
     "output_type": "stream",
     "text": [
      "frame=  215 fps=1.3 q=-0.0 size=N/A time=00:03:33.00 bitrate=N/A dup=0 drop=5108 speed=1.25x    \r"
     ]
    },
    {
     "name": "stdout",
     "output_type": "stream",
     "text": [
      "[download]  25.1% of ~ 630.29MiB at    2.53MiB/s ETA 03:19 (frag 50/203)"
     ]
    },
    {
     "name": "stderr",
     "output_type": "stream",
     "text": [
      "frame=   56 fps=1.2 q=-0.0 size=N/A time=00:00:54.00 bitrate=N/A dup=0 drop=1571 speed=1.16x     \r"
     ]
    },
    {
     "name": "stdout",
     "output_type": "stream",
     "text": [
      "[download]  25.2% of ~ 631.22MiB at    2.39MiB/s ETA 03:21 (frag 50/203)"
     ]
    },
    {
     "name": "stderr",
     "output_type": "stream",
     "text": [
      "frame=   83 fps=0.3 q=-0.0 size=N/A time=00:01:21.00 bitrate=N/A dup=0 drop=1940 speed=0.317x    \r"
     ]
    },
    {
     "name": "stdout",
     "output_type": "stream",
     "text": [
      "[download]  25.3% of ~ 634.21MiB at    2.51MiB/s ETA 03:18 (frag 50/203)"
     ]
    },
    {
     "name": "stderr",
     "output_type": "stream",
     "text": [
      "frame=   56 fps=1.2 q=-0.0 size=N/A time=00:00:54.00 bitrate=N/A dup=0 drop=1586 speed=1.15x    \r"
     ]
    },
    {
     "name": "stdout",
     "output_type": "stream",
     "text": [
      "[download]  24.7% of ~ 653.99MiB at    2.80MiB/s ETA 03:10 (frag 51/203)"
     ]
    },
    {
     "name": "stderr",
     "output_type": "stream",
     "text": [
      "frame=  344 fps=1.3 q=-0.0 size=N/A time=00:05:42.00 bitrate=N/A dup=0 drop=8214 speed=1.32x     \r"
     ]
    },
    {
     "name": "stdout",
     "output_type": "stream",
     "text": [
      "[download]  25.6% of ~ 629.77MiB at    2.27MiB/s ETA 03:24 (frag 51/203)"
     ]
    },
    {
     "name": "stderr",
     "output_type": "stream",
     "text": [
      "frame=  216 fps=1.3 q=-0.0 size=N/A time=00:03:34.00 bitrate=N/A dup=0 drop=5151 speed=1.24x    \r"
     ]
    },
    {
     "name": "stdout",
     "output_type": "stream",
     "text": [
      "[download]  25.7% of ~ 630.74MiB at    1.92MiB/s ETA 03:43 (frag 51/203)"
     ]
    },
    {
     "name": "stderr",
     "output_type": "stream",
     "text": [
      "frame=    9 fps=0.2 q=-0.0 size=N/A time=00:00:07.00 bitrate=N/A dup=0 drop=364 speed=0.134x     \r"
     ]
    },
    {
     "name": "stdout",
     "output_type": "stream",
     "text": [
      "[download]  25.8% of ~ 633.66MiB at    2.11MiB/s ETA 03:40 (frag 51/203)"
     ]
    },
    {
     "name": "stderr",
     "output_type": "stream",
     "text": [
      "frame=  217 fps=1.3 q=-0.0 size=N/A time=00:03:35.00 bitrate=N/A dup=0 drop=5166 speed=1.24x    \r"
     ]
    },
    {
     "name": "stdout",
     "output_type": "stream",
     "text": [
      "[download]  25.3% of ~ 648.21MiB at    2.27MiB/s ETA 03:36 (frag 52/203)"
     ]
    },
    {
     "name": "stderr",
     "output_type": "stream",
     "text": [
      "frame=   83 fps=0.3 q=-0.0 size=N/A time=00:01:21.00 bitrate=N/A dup=0 drop=1955 speed=0.315x    \r"
     ]
    },
    {
     "name": "stdout",
     "output_type": "stream",
     "text": [
      "[download]  26.1% of ~ 626.96MiB at    2.04MiB/s ETA 03:43 (frag 52/203)"
     ]
    },
    {
     "name": "stderr",
     "output_type": "stream",
     "text": [
      "frame=   34 fps=0.3 q=-0.0 size=N/A time=00:00:32.00 bitrate=N/A dup=0 drop=771 speed=0.255x    \r"
     ]
    },
    {
     "name": "stdout",
     "output_type": "stream",
     "text": [
      "[download]  26.2% of ~ 628.84MiB at    2.09MiB/s ETA 03:43 (frag 52/203)"
     ]
    },
    {
     "name": "stderr",
     "output_type": "stream",
     "text": [
      "frame=  346 fps=1.3 q=-0.0 size=N/A time=00:05:44.00 bitrate=N/A dup=0 drop=8255 speed=1.32x    \r"
     ]
    },
    {
     "name": "stdout",
     "output_type": "stream",
     "text": [
      "[download]  26.3% of ~ 630.76MiB at    2.20MiB/s ETA 03:40 (frag 52/203)"
     ]
    },
    {
     "name": "stderr",
     "output_type": "stream",
     "text": [
      "frame=  218 fps=1.3 q=-0.0 size=N/A time=00:03:36.00 bitrate=N/A dup=0 drop=5195 speed=1.24x     \r"
     ]
    },
    {
     "name": "stdout",
     "output_type": "stream",
     "text": [
      "[download]  25.6% of ~ 654.76MiB at    2.57MiB/s ETA 03:29 (frag 53/203)"
     ]
    },
    {
     "name": "stderr",
     "output_type": "stream",
     "text": [
      "frame=   84 fps=0.3 q=-0.0 size=N/A time=00:01:22.00 bitrate=N/A dup=0 drop=1964 speed=0.318x    \r"
     ]
    },
    {
     "name": "stdout",
     "output_type": "stream",
     "text": [
      "[download]  26.6% of ~ 628.99MiB at    2.46MiB/s ETA 03:26 (frag 53/203)"
     ]
    },
    {
     "name": "stderr",
     "output_type": "stream",
     "text": [
      "frame=  219 fps=1.3 q=-0.0 size=N/A time=00:03:37.00 bitrate=N/A dup=0 drop=5206 speed=1.24x     \r"
     ]
    },
    {
     "name": "stdout",
     "output_type": "stream",
     "text": [
      "[download]  26.6% of ~ 629.45MiB at    2.28MiB/s ETA 03:29 (frag 53/203)"
     ]
    },
    {
     "name": "stderr",
     "output_type": "stream",
     "text": [
      "frame=  347 fps=1.3 q=-0.0 size=N/A time=00:05:45.00 bitrate=N/A dup=0 drop=8276 speed=1.32x    \r"
     ]
    },
    {
     "name": "stdout",
     "output_type": "stream",
     "text": [
      "[download]  26.8% of ~ 632.74MiB at    2.52MiB/s ETA 03:21 (frag 53/203)"
     ]
    },
    {
     "name": "stderr",
     "output_type": "stream",
     "text": [
      "frame=   60 fps=1.2 q=-0.0 size=N/A time=00:00:58.00 bitrate=N/A dup=0 drop=1683 speed=1.16x     \r"
     ]
    },
    {
     "name": "stdout",
     "output_type": "stream",
     "text": [
      "[download]  26.8% of ~ 636.49MiB at    2.68MiB/s ETA 03:16 (frag 53/203)"
     ]
    },
    {
     "name": "stderr",
     "output_type": "stream",
     "text": [
      "frame=   84 fps=0.3 q=-0.0 size=N/A time=00:01:22.00 bitrate=N/A dup=0 drop=1972 speed=0.316x    \r"
     ]
    },
    {
     "name": "stdout",
     "output_type": "stream",
     "text": [
      "[download]  26.1% of ~ 652.60MiB at    2.81MiB/s ETA 03:12 (frag 54/203)"
     ]
    },
    {
     "name": "stderr",
     "output_type": "stream",
     "text": [
      "frame=  220 fps=1.3 q=-0.0 size=N/A time=00:03:38.00 bitrate=N/A dup=0 drop=5240 speed=1.24x    \r"
     ]
    },
    {
     "name": "stdout",
     "output_type": "stream",
     "text": [
      "[download]  27.1% of ~ 629.17MiB at    2.59MiB/s ETA 03:12 (frag 54/203)"
     ]
    },
    {
     "name": "stderr",
     "output_type": "stream",
     "text": [
      "frame=   10 fps=0.2 q=-0.0 size=N/A time=00:00:08.00 bitrate=N/A dup=0 drop=386 speed=0.144x    \r"
     ]
    },
    {
     "name": "stdout",
     "output_type": "stream",
     "text": [
      "[download]  27.1% of ~ 629.60MiB at    2.46MiB/s ETA 03:13 (frag 54/203)"
     ]
    },
    {
     "name": "stderr",
     "output_type": "stream",
     "text": [
      "frame=   77 fps=0.3 q=-0.0 size=N/A time=00:01:15.00 bitrate=N/A dup=0 drop=1796 speed=0.284x    \r"
     ]
    },
    {
     "name": "stdout",
     "output_type": "stream",
     "text": [
      "[download]  27.2% of ~ 630.98MiB at    2.52MiB/s ETA 03:11 (frag 54/203)"
     ]
    },
    {
     "name": "stderr",
     "output_type": "stream",
     "text": [
      "frame=   84 fps=0.3 q=-0.0 size=N/A time=00:01:22.00 bitrate=N/A dup=0 drop=1979 speed=0.315x    \r"
     ]
    },
    {
     "name": "stdout",
     "output_type": "stream",
     "text": [
      "[download]  26.6% of ~ 651.95MiB at    2.75MiB/s ETA 03:04 (frag 55/203)"
     ]
    },
    {
     "name": "stderr",
     "output_type": "stream",
     "text": [
      "frame=   77 fps=0.3 q=-0.0 size=N/A time=00:01:15.00 bitrate=N/A dup=0 drop=1801 speed=0.283x    \r"
     ]
    },
    {
     "name": "stdout",
     "output_type": "stream",
     "text": [
      "[download]  27.6% of ~ 629.13MiB at    2.45MiB/s ETA 03:09 (frag 55/203)"
     ]
    },
    {
     "name": "stderr",
     "output_type": "stream",
     "text": [
      "frame=   10 fps=0.2 q=-0.0 size=N/A time=00:00:08.00 bitrate=N/A dup=0 drop=394 speed=0.142x    \r"
     ]
    },
    {
     "name": "stdout",
     "output_type": "stream",
     "text": [
      "[download]  27.6% of ~ 630.01MiB at    2.32MiB/s ETA 03:13 (frag 55/203)"
     ]
    },
    {
     "name": "stderr",
     "output_type": "stream",
     "text": [
      "frame=   10 fps=0.2 q=-0.0 size=N/A time=00:00:08.00 bitrate=N/A dup=0 drop=398 speed=0.14x      \r"
     ]
    },
    {
     "name": "stdout",
     "output_type": "stream",
     "text": [
      "[download]  27.7% of ~ 632.73MiB at    2.47MiB/s ETA 03:10 (frag 55/203)"
     ]
    },
    {
     "name": "stderr",
     "output_type": "stream",
     "text": [
      "frame=  350 fps=1.3 q=-0.0 size=N/A time=00:05:48.00 bitrate=N/A dup=0 drop=8355 speed=1.32x     \r"
     ]
    },
    {
     "name": "stdout",
     "output_type": "stream",
     "text": [
      "[download]  27.2% of ~ 648.39MiB at    2.51MiB/s ETA 03:08 (frag 56/203)"
     ]
    },
    {
     "name": "stderr",
     "output_type": "stream",
     "text": [
      "frame=  350 fps=1.3 q=-0.0 size=N/A time=00:05:48.00 bitrate=N/A dup=0 drop=8367 speed=1.31x     \r"
     ]
    },
    {
     "name": "stdout",
     "output_type": "stream",
     "text": [
      "[download]  28.1% of ~ 627.55MiB at    2.26MiB/s ETA 03:15 (frag 56/203)"
     ]
    },
    {
     "name": "stderr",
     "output_type": "stream",
     "text": [
      "frame=   35 fps=0.3 q=-0.0 size=N/A time=00:00:33.00 bitrate=N/A dup=0 drop=797 speed=0.253x    \r"
     ]
    },
    {
     "name": "stdout",
     "output_type": "stream",
     "text": [
      "[download]  28.1% of ~ 627.76MiB at    2.09MiB/s ETA 03:23 (frag 56/203)"
     ]
    },
    {
     "name": "stderr",
     "output_type": "stream",
     "text": [
      "frame=   77 fps=0.3 q=-0.0 size=N/A time=00:01:15.00 bitrate=N/A dup=0 drop=1812 speed=0.281x    \r"
     ]
    },
    {
     "name": "stdout",
     "output_type": "stream",
     "text": [
      "[download]  28.2% of ~ 629.32MiB at    2.09MiB/s ETA 03:25 (frag 56/203)"
     ]
    },
    {
     "name": "stderr",
     "output_type": "stream",
     "text": [
      "frame=   35 fps=0.3 q=-0.0 size=N/A time=00:00:33.00 bitrate=N/A dup=0 drop=800 speed=0.252x     \r"
     ]
    },
    {
     "name": "stdout",
     "output_type": "stream",
     "text": [
      "[download]  28.3% of ~ 634.66MiB at    2.30MiB/s ETA 03:20 (frag 56/203)"
     ]
    },
    {
     "name": "stderr",
     "output_type": "stream",
     "text": [
      "frame=   64 fps=1.2 q=-0.0 size=N/A time=00:01:02.00 bitrate=N/A dup=0 drop=1791 speed=1.14x     \r"
     ]
    },
    {
     "name": "stdout",
     "output_type": "stream",
     "text": [
      "[download]  27.6% of ~ 651.47MiB at    2.33MiB/s ETA 03:20 (frag 57/203)"
     ]
    },
    {
     "name": "stderr",
     "output_type": "stream",
     "text": [
      "frame=   85 fps=0.3 q=-0.0 size=N/A time=00:01:23.00 bitrate=N/A dup=0 drop=1998 speed=0.315x    \r"
     ]
    },
    {
     "name": "stdout",
     "output_type": "stream",
     "text": [
      "[download]  28.6% of ~ 628.48MiB at    2.28MiB/s ETA 03:21 (frag 57/203)"
     ]
    },
    {
     "name": "stderr",
     "output_type": "stream",
     "text": [
      "frame=  360 fps=1.4 q=-0.0 size=N/A time=00:05:58.00 bitrate=N/A dup=0 drop=8597 speed=1.42x    \r"
     ]
    },
    {
     "name": "stdout",
     "output_type": "stream",
     "text": [
      "[download]  28.6% of ~ 628.91MiB at    2.14MiB/s ETA 03:25 (frag 57/203)"
     ]
    },
    {
     "name": "stderr",
     "output_type": "stream",
     "text": [
      "frame=   10 fps=0.2 q=-0.0 size=N/A time=00:00:08.00 bitrate=N/A dup=0 drop=414 speed=0.135x    \r"
     ]
    },
    {
     "name": "stdout",
     "output_type": "stream",
     "text": [
      "[download]  28.7% of ~ 631.98MiB at    2.31MiB/s ETA 03:21 (frag 57/203)"
     ]
    },
    {
     "name": "stderr",
     "output_type": "stream",
     "text": [
      "frame=   10 fps=0.2 q=-0.0 size=N/A time=00:00:08.00 bitrate=N/A dup=0 drop=418 speed=0.134x     \r"
     ]
    },
    {
     "name": "stdout",
     "output_type": "stream",
     "text": [
      "[download]  28.9% of ~ 635.48MiB at    2.45MiB/s ETA 03:17 (frag 57/203)"
     ]
    },
    {
     "name": "stderr",
     "output_type": "stream",
     "text": [
      "frame=   65 fps=1.2 q=-0.0 size=N/A time=00:01:03.00 bitrate=N/A dup=0 drop=1848 speed=1.12x     \r"
     ]
    },
    {
     "name": "stdout",
     "output_type": "stream",
     "text": [
      "[download]  27.9% of ~ 657.76MiB at    2.54MiB/s ETA 03:13 (frag 58/203)"
     ]
    },
    {
     "name": "stderr",
     "output_type": "stream",
     "text": [
      "frame=   78 fps=0.3 q=-0.0 size=N/A time=00:01:16.00 bitrate=N/A dup=0 drop=1826 speed=0.282x    \r"
     ]
    },
    {
     "name": "stdout",
     "output_type": "stream",
     "text": [
      "[download]  29.1% of ~ 632.23MiB at    2.57MiB/s ETA 03:11 (frag 58/203)"
     ]
    },
    {
     "name": "stderr",
     "output_type": "stream",
     "text": [
      "frame=   10 fps=0.2 q=-0.0 size=N/A time=00:00:08.00 bitrate=N/A dup=0 drop=422 speed=0.132x    \r"
     ]
    },
    {
     "name": "stdout",
     "output_type": "stream",
     "text": [
      "[download]  29.1% of ~ 633.08MiB at    2.64MiB/s ETA 03:05 (frag 58/203)"
     ]
    },
    {
     "name": "stderr",
     "output_type": "stream",
     "text": [
      "frame=  354 fps=1.3 q=-0.0 size=N/A time=00:05:52.00 bitrate=N/A dup=0 drop=8453 speed=1.31x     \r"
     ]
    },
    {
     "name": "stdout",
     "output_type": "stream",
     "text": [
      "[download]  29.2% of ~ 639.10MiB at    2.93MiB/s ETA 02:57 (frag 58/203)"
     ]
    },
    {
     "name": "stderr",
     "output_type": "stream",
     "text": [
      "frame=   67 fps=1.2 q=-0.0 size=N/A time=00:01:05.00 bitrate=N/A dup=0 drop=1879 speed=1.14x     \r"
     ]
    },
    {
     "name": "stdout",
     "output_type": "stream",
     "text": [
      "[download]  28.6% of ~ 651.57MiB at    2.94MiB/s ETA 02:55 (frag 59/203)"
     ]
    },
    {
     "name": "stderr",
     "output_type": "stream",
     "text": [
      "frame=   78 fps=0.3 q=-0.0 size=N/A time=00:01:16.00 bitrate=N/A dup=0 drop=1831 speed=0.281x    \r"
     ]
    },
    {
     "name": "stdout",
     "output_type": "stream",
     "text": [
      "[download]  29.6% of ~ 631.20MiB at    2.77MiB/s ETA 02:56 (frag 59/203)"
     ]
    },
    {
     "name": "stderr",
     "output_type": "stream",
     "text": [
      "frame=   10 fps=0.2 q=-0.0 size=N/A time=00:00:08.00 bitrate=N/A dup=0 drop=431 speed=0.13x      \r"
     ]
    },
    {
     "name": "stdout",
     "output_type": "stream",
     "text": [
      "[download]  29.6% of ~ 631.41MiB at    2.66MiB/s ETA 02:55 (frag 59/203)"
     ]
    },
    {
     "name": "stderr",
     "output_type": "stream",
     "text": [
      "frame=  355 fps=1.3 q=-0.0 size=N/A time=00:05:53.00 bitrate=N/A dup=0 drop=8485 speed=1.31x     \r"
     ]
    },
    {
     "name": "stdout",
     "output_type": "stream",
     "text": [
      "[download]  29.6% of ~ 632.89MiB at    2.64MiB/s ETA 02:54 (frag 59/203)"
     ]
    },
    {
     "name": "stderr",
     "output_type": "stream",
     "text": [
      "frame=   68 fps=1.2 q=-0.0 size=N/A time=00:01:06.00 bitrate=N/A dup=0 drop=1911 speed=1.14x     \r"
     ]
    },
    {
     "name": "stdout",
     "output_type": "stream",
     "text": [
      "[download]  29.7% of ~ 634.58MiB at    2.74MiB/s ETA 02:52 (frag 59/203)"
     ]
    },
    {
     "name": "stderr",
     "output_type": "stream",
     "text": [
      "frame=  356 fps=1.3 q=-0.0 size=N/A time=00:05:54.00 bitrate=N/A dup=0 drop=8500 speed=1.31x    \r"
     ]
    },
    {
     "name": "stdout",
     "output_type": "stream",
     "text": [
      "[download]  30.0% of ~ 627.01MiB at    2.34MiB/s ETA 03:03 (frag 60/203)"
     ]
    },
    {
     "name": "stderr",
     "output_type": "stream",
     "text": [
      "frame=   11 fps=0.2 q=-0.0 size=N/A time=00:00:09.00 bitrate=N/A dup=0 drop=439 speed=0.143x    \r"
     ]
    },
    {
     "name": "stdout",
     "output_type": "stream",
     "text": [
      "[download]  30.1% of ~ 627.21MiB at    1.89MiB/s ETA 03:25 (frag 60/203)"
     ]
    },
    {
     "name": "stderr",
     "output_type": "stream",
     "text": [
      "frame=  356 fps=1.3 q=-0.0 size=N/A time=00:05:54.00 bitrate=N/A dup=0 drop=8514 speed=1.31x     \r"
     ]
    },
    {
     "name": "stdout",
     "output_type": "stream",
     "text": [
      "[download]  30.2% of ~ 630.33MiB at    1.98MiB/s ETA 03:32 (frag 60/203)"
     ]
    },
    {
     "name": "stderr",
     "output_type": "stream",
     "text": [
      "frame=  365 fps=1.4 q=-0.0 size=N/A time=00:06:03.00 bitrate=N/A dup=0 drop=8718 speed=1.41x     \r"
     ]
    },
    {
     "name": "stdout",
     "output_type": "stream",
     "text": [
      "[download]  29.5% of ~ 649.77MiB at    2.35MiB/s ETA 03:23 (frag 61/203)"
     ]
    },
    {
     "name": "stderr",
     "output_type": "stream",
     "text": [
      "frame=   69 fps=1.2 q=-0.0 size=N/A time=00:01:07.00 bitrate=N/A dup=0 drop=1961 speed=1.12x    \r"
     ]
    },
    {
     "name": "stdout",
     "output_type": "stream",
     "text": [
      "[download]  30.5% of ~ 628.09MiB at    2.21MiB/s ETA 03:26 (frag 61/203)"
     ]
    },
    {
     "name": "stderr",
     "output_type": "stream",
     "text": [
      "frame=   79 fps=0.3 q=-0.0 size=N/A time=00:01:17.00 bitrate=N/A dup=0 drop=1844 speed=0.282x    \r"
     ]
    },
    {
     "name": "stdout",
     "output_type": "stream",
     "text": [
      "[download]  30.6% of ~ 628.30MiB at    2.00MiB/s ETA 03:33 (frag 61/203)"
     ]
    },
    {
     "name": "stderr",
     "output_type": "stream",
     "text": [
      "frame=   87 fps=0.3 q=-0.0 size=N/A time=00:01:25.00 bitrate=N/A dup=0 drop=2036 speed=0.316x    \r"
     ]
    },
    {
     "name": "stdout",
     "output_type": "stream",
     "text": [
      "[download]  30.6% of ~ 629.73MiB at    2.03MiB/s ETA 03:33 (frag 61/203)"
     ]
    },
    {
     "name": "stderr",
     "output_type": "stream",
     "text": [
      "frame=   11 fps=0.2 q=-0.0 size=N/A time=00:00:09.00 bitrate=N/A dup=0 drop=452 speed=0.139x     \r"
     ]
    },
    {
     "name": "stdout",
     "output_type": "stream",
     "text": [
      "[download]  30.7% of ~ 634.64MiB at    2.40MiB/s ETA 03:23 (frag 61/203)"
     ]
    },
    {
     "name": "stderr",
     "output_type": "stream",
     "text": [
      "frame=  366 fps=1.4 q=-0.0 size=N/A time=00:06:04.00 bitrate=N/A dup=0 drop=8753 speed=1.41x    \r"
     ]
    },
    {
     "name": "stdout",
     "output_type": "stream",
     "text": [
      "[download]  30.1% of ~ 648.50MiB at    2.52MiB/s ETA 03:19 (frag 62/203)"
     ]
    },
    {
     "name": "stderr",
     "output_type": "stream",
     "text": [
      "frame=   79 fps=0.3 q=-0.0 size=N/A time=00:01:17.00 bitrate=N/A dup=0 drop=1850 speed=0.281x    \r"
     ]
    },
    {
     "name": "stdout",
     "output_type": "stream",
     "text": [
      "[download]  31.0% of ~ 628.17MiB at    2.51MiB/s ETA 03:16 (frag 62/203)"
     ]
    },
    {
     "name": "stderr",
     "output_type": "stream",
     "text": [
      "frame=   11 fps=0.2 q=-0.0 size=N/A time=00:00:09.00 bitrate=N/A dup=0 drop=457 speed=0.138x     \r"
     ]
    },
    {
     "name": "stdout",
     "output_type": "stream",
     "text": [
      "[download]  31.0% of ~ 628.37MiB at    2.43MiB/s ETA 03:12 (frag 62/203)"
     ]
    },
    {
     "name": "stderr",
     "output_type": "stream",
     "text": [
      "frame=   37 fps=0.3 q=-0.0 size=N/A time=00:00:35.00 bitrate=N/A dup=0 drop=836 speed=0.254x    \r"
     ]
    },
    {
     "name": "stdout",
     "output_type": "stream",
     "text": [
      "[download]  31.1% of ~ 629.78MiB at    2.48MiB/s ETA 03:08 (frag 62/203)"
     ]
    },
    {
     "name": "stderr",
     "output_type": "stream",
     "text": [
      "frame=  368 fps=1.4 q=-0.0 size=N/A time=00:06:06.00 bitrate=N/A dup=0 drop=8780 speed=1.41x     \r"
     ]
    },
    {
     "name": "stdout",
     "output_type": "stream",
     "text": [
      "[download]  31.3% of ~ 634.61MiB at    2.88MiB/s ETA 02:58 (frag 62/203)"
     ]
    },
    {
     "name": "stderr",
     "output_type": "stream",
     "text": [
      "frame=   37 fps=0.3 q=-0.0 size=N/A time=00:00:35.00 bitrate=N/A dup=0 drop=840 speed=0.253x     \r"
     ]
    },
    {
     "name": "stdout",
     "output_type": "stream",
     "text": [
      "[download]  30.4% of ~ 654.68MiB at    2.92MiB/s ETA 02:56 (frag 63/203)"
     ]
    },
    {
     "name": "stderr",
     "output_type": "stream",
     "text": [
      "frame=   72 fps=1.2 q=-0.0 size=N/A time=00:01:10.00 bitrate=N/A dup=0 drop=2045 speed=1.12x     \r"
     ]
    },
    {
     "name": "stdout",
     "output_type": "stream",
     "text": [
      "[download]  31.5% of ~ 631.50MiB at    2.67MiB/s ETA 02:56 (frag 63/203)"
     ]
    },
    {
     "name": "stderr",
     "output_type": "stream",
     "text": [
      "frame=  361 fps=1.3 q=-0.0 size=N/A time=00:05:59.00 bitrate=N/A dup=0 drop=8612 speed=1.31x    \r"
     ]
    },
    {
     "name": "stdout",
     "output_type": "stream",
     "text": [
      "[download]  31.6% of ~ 632.98MiB at    2.71MiB/s ETA 02:51 (frag 63/203)"
     ]
    },
    {
     "name": "stderr",
     "output_type": "stream",
     "text": [
      "frame=   73 fps=1.2 q=-0.0 size=N/A time=00:01:11.00 bitrate=N/A dup=0 drop=2071 speed=1.13x     \r"
     ]
    },
    {
     "name": "stdout",
     "output_type": "stream",
     "text": [
      "[download]  31.7% of ~ 634.57MiB at    2.86MiB/s ETA 02:47 (frag 63/203)"
     ]
    },
    {
     "name": "stderr",
     "output_type": "stream",
     "text": [
      "frame=   79 fps=0.3 q=-0.0 size=N/A time=00:01:17.00 bitrate=N/A dup=0 drop=1866 speed=0.279x    \r"
     ]
    },
    {
     "name": "stdout",
     "output_type": "stream",
     "text": [
      "[download]  30.9% of ~ 659.12MiB at    3.14MiB/s ETA 02:38 (frag 64/203)"
     ]
    },
    {
     "name": "stderr",
     "output_type": "stream",
     "text": [
      "frame=  371 fps=1.4 q=-0.0 size=N/A time=00:06:09.00 bitrate=N/A dup=0 drop=8866 speed= 1.4x     \r"
     ]
    },
    {
     "name": "stdout",
     "output_type": "stream",
     "text": [
      "[download]  32.0% of ~ 635.35MiB at    2.30MiB/s ETA 03:03 (frag 64/203)"
     ]
    },
    {
     "name": "stderr",
     "output_type": "stream",
     "text": [
      "frame=  364 fps=1.3 q=-0.0 size=N/A time=00:06:02.00 bitrate=N/A dup=0 drop=8684 speed=1.31x    \r"
     ]
    },
    {
     "name": "stdout",
     "output_type": "stream",
     "text": [
      "[download]  32.1% of ~ 636.11MiB at    1.85MiB/s ETA 03:26 (frag 64/203)"
     ]
    },
    {
     "name": "stderr",
     "output_type": "stream",
     "text": [
      "frame=  372 fps=1.4 q=-0.0 size=N/A time=00:06:10.00 bitrate=N/A dup=0 drop=8885 speed= 1.4x     \r"
     ]
    },
    {
     "name": "stdout",
     "output_type": "stream",
     "text": [
      "[download]  31.7% of ~ 646.95MiB at    1.26MiB/s ETA 04:37 (frag 65/203)"
     ]
    },
    {
     "name": "stderr",
     "output_type": "stream",
     "text": [
      "frame=   12 fps=0.2 q=-0.0 size=N/A time=00:00:10.00 bitrate=N/A dup=0 drop=494 speed=0.142x    \r"
     ]
    },
    {
     "name": "stdout",
     "output_type": "stream",
     "text": [
      "[download]  32.5% of ~ 631.52MiB at  975.64KiB/s ETA 05:47 (frag 65/203)"
     ]
    },
    {
     "name": "stderr",
     "output_type": "stream",
     "text": [
      "frame=  372 fps=1.4 q=-0.0 size=N/A time=00:06:10.00 bitrate=N/A dup=0 drop=8897 speed= 1.4x     \r"
     ]
    },
    {
     "name": "stdout",
     "output_type": "stream",
     "text": [
      "[download]  32.7% of ~ 634.50MiB at    1.28MiB/s ETA 06:16 (frag 65/203)"
     ]
    },
    {
     "name": "stderr",
     "output_type": "stream",
     "text": [
      "frame=   12 fps=0.2 q=-0.0 size=N/A time=00:00:10.00 bitrate=N/A dup=0 drop=498 speed=0.141x    \r"
     ]
    },
    {
     "name": "stdout",
     "output_type": "stream",
     "text": [
      "[download]  32.7% of ~ 637.57MiB at    1.93MiB/s ETA 05:51 (frag 65/203)"
     ]
    },
    {
     "name": "stderr",
     "output_type": "stream",
     "text": [
      "frame=   89 fps=0.3 q=-0.0 size=N/A time=00:01:27.00 bitrate=N/A dup=0 drop=2095 speed=0.316x    \r"
     ]
    },
    {
     "name": "stdout",
     "output_type": "stream",
     "text": [
      "[download]  32.0% of ~ 650.69MiB at    2.33MiB/s ETA 05:30 (frag 66/203)"
     ]
    },
    {
     "name": "stderr",
     "output_type": "stream",
     "text": [
      "frame=   12 fps=0.2 q=-0.0 size=N/A time=00:00:10.00 bitrate=N/A dup=0 drop=501 speed=0.14x      \r"
     ]
    },
    {
     "name": "stdout",
     "output_type": "stream",
     "text": [
      "[download]  33.0% of ~ 632.24MiB at    2.55MiB/s ETA 04:31 (frag 66/203)"
     ]
    },
    {
     "name": "stderr",
     "output_type": "stream",
     "text": [
      "frame=   89 fps=0.3 q=-0.0 size=N/A time=00:01:27.00 bitrate=N/A dup=0 drop=2098 speed=0.315x    \r"
     ]
    },
    {
     "name": "stdout",
     "output_type": "stream",
     "text": [
      "[download]  33.2% of ~ 634.52MiB at    2.74MiB/s ETA 04:08 (frag 66/203)"
     ]
    },
    {
     "name": "stderr",
     "output_type": "stream",
     "text": [
      "frame=  374 fps=1.4 q=-0.0 size=N/A time=00:06:12.00 bitrate=N/A dup=0 drop=8944 speed= 1.4x     \r"
     ]
    },
    {
     "name": "stdout",
     "output_type": "stream",
     "text": [
      "[download]  32.5% of ~ 653.41MiB at    3.03MiB/s ETA 03:45 (frag 67/203)"
     ]
    },
    {
     "name": "stderr",
     "output_type": "stream",
     "text": [
      "frame=   81 fps=0.3 q=-0.0 size=N/A time=00:01:19.00 bitrate=N/A dup=0 drop=1892 speed=0.281x    \r"
     ]
    },
    {
     "name": "stdout",
     "output_type": "stream",
     "text": [
      "[download]  33.5% of ~ 633.04MiB at    2.95MiB/s ETA 03:23 (frag 67/203)"
     ]
    },
    {
     "name": "stderr",
     "output_type": "stream",
     "text": [
      "frame=  368 fps=1.3 q=-0.0 size=N/A time=00:06:06.00 bitrate=N/A dup=0 drop=8802 speed=1.31x    \r"
     ]
    },
    {
     "name": "stdout",
     "output_type": "stream",
     "text": [
      "[download]  33.5% of ~ 633.74MiB at    2.86MiB/s ETA 03:13 (frag 67/203)"
     ]
    },
    {
     "name": "stderr",
     "output_type": "stream",
     "text": [
      "frame=  239 fps=1.2 q=-0.0 size=N/A time=00:03:57.00 bitrate=N/A dup=0 drop=5691 speed=1.22x    \r"
     ]
    },
    {
     "name": "stdout",
     "output_type": "stream",
     "text": [
      "[download]  33.6% of ~ 635.98MiB at    2.83MiB/s ETA 03:05 (frag 67/203)"
     ]
    },
    {
     "name": "stderr",
     "output_type": "stream",
     "text": [
      "frame=  369 fps=1.3 q=-0.0 size=N/A time=00:06:07.00 bitrate=N/A dup=0 drop=8816 speed=1.31x     \r"
     ]
    },
    {
     "name": "stdout",
     "output_type": "stream",
     "text": [
      "[download]  33.2% of ~ 643.97MiB at    2.88MiB/s ETA 03:01 (frag 68/203)"
     ]
    },
    {
     "name": "stderr",
     "output_type": "stream",
     "text": [
      "frame=   81 fps=1.2 q=-0.0 size=N/A time=00:01:19.00 bitrate=N/A dup=0 drop=2284 speed=1.14x    \r"
     ]
    },
    {
     "name": "stdout",
     "output_type": "stream",
     "text": [
      "[download]  34.0% of ~ 629.23MiB at    2.79MiB/s ETA 02:59 (frag 68/203)"
     ]
    },
    {
     "name": "stderr",
     "output_type": "stream",
     "text": [
      "frame=  376 fps=1.4 q=-0.0 size=N/A time=00:06:14.00 bitrate=N/A dup=0 drop=8992 speed= 1.4x     \r"
     ]
    },
    {
     "name": "stdout",
     "output_type": "stream",
     "text": [
      "[download]  34.1% of ~ 630.70MiB at    2.16MiB/s ETA 03:11 (frag 68/203)"
     ]
    },
    {
     "name": "stderr",
     "output_type": "stream",
     "text": [
      "frame=  240 fps=1.2 q=-0.0 size=N/A time=00:03:58.00 bitrate=N/A dup=0 drop=5726 speed=1.22x    \r"
     ]
    },
    {
     "name": "stdout",
     "output_type": "stream",
     "text": [
      "[download]  34.3% of ~ 635.11MiB at    2.57MiB/s ETA 03:02 (frag 68/203)"
     ]
    },
    {
     "name": "stderr",
     "output_type": "stream",
     "text": [
      "frame=  371 fps=1.3 q=-0.0 size=N/A time=00:06:09.00 bitrate=N/A dup=0 drop=8852 speed=1.31x     \r"
     ]
    },
    {
     "name": "stdout",
     "output_type": "stream",
     "text": [
      "[download]  33.3% of ~ 654.93MiB at    2.89MiB/s ETA 02:52 (frag 69/203)"
     ]
    },
    {
     "name": "stderr",
     "output_type": "stream",
     "text": [
      "frame=   81 fps=0.3 q=-0.0 size=N/A time=00:01:19.00 bitrate=N/A dup=0 drop=1908 speed=0.279x    \r"
     ]
    },
    {
     "name": "stdout",
     "output_type": "stream",
     "text": [
      "[download]  34.5% of ~ 633.00MiB at    2.39MiB/s ETA 02:58 (frag 69/203)"
     ]
    },
    {
     "name": "stderr",
     "output_type": "stream",
     "text": [
      "frame=   82 fps=1.2 q=-0.0 size=N/A time=00:01:20.00 bitrate=N/A dup=0 drop=2330 speed=1.13x    \r"
     ]
    },
    {
     "name": "stdout",
     "output_type": "stream",
     "text": [
      "[download]  34.6% of ~ 634.35MiB at    2.47MiB/s ETA 02:55 (frag 69/203)"
     ]
    },
    {
     "name": "stderr",
     "output_type": "stream",
     "text": [
      "frame=  372 fps=1.3 q=-0.0 size=N/A time=00:06:10.00 bitrate=N/A dup=0 drop=8885 speed=1.31x     \r"
     ]
    },
    {
     "name": "stdout",
     "output_type": "stream",
     "text": [
      "[download]  34.2% of ~ 643.62MiB at    2.60MiB/s ETA 02:51 (frag 70/203)"
     ]
    },
    {
     "name": "stderr",
     "output_type": "stream",
     "text": [
      "frame=  380 fps=1.4 q=-0.0 size=N/A time=00:06:18.00 bitrate=N/A dup=0 drop=9068 speed= 1.4x    \r"
     ]
    },
    {
     "name": "stdout",
     "output_type": "stream",
     "text": [
      "[download]  35.0% of ~ 629.29MiB at    2.56MiB/s ETA 02:49 (frag 70/203)"
     ]
    },
    {
     "name": "stderr",
     "output_type": "stream",
     "text": [
      "frame=   82 fps=0.3 q=-0.0 size=N/A time=00:01:20.00 bitrate=N/A dup=0 drop=1916 speed=0.281x    \r"
     ]
    },
    {
     "name": "stdout",
     "output_type": "stream",
     "text": [
      "[download]  35.0% of ~ 629.63MiB at    2.37MiB/s ETA 02:52 (frag 70/203)"
     ]
    },
    {
     "name": "stderr",
     "output_type": "stream",
     "text": [
      "frame=   13 fps=0.2 q=-0.0 size=N/A time=00:00:11.00 bitrate=N/A dup=0 drop=540 speed=0.144x    \r"
     ]
    },
    {
     "name": "stdout",
     "output_type": "stream",
     "text": [
      "[download]  35.1% of ~ 630.70MiB at    2.38MiB/s ETA 02:52 (frag 70/203)"
     ]
    },
    {
     "name": "stderr",
     "output_type": "stream",
     "text": [
      "frame=   40 fps=0.3 q=-0.0 size=N/A time=00:00:38.00 bitrate=N/A dup=0 drop=925 speed=0.256x    \r"
     ]
    },
    {
     "name": "stdout",
     "output_type": "stream",
     "text": [
      "[download]  35.3% of ~ 634.99MiB at    2.81MiB/s ETA 02:44 (frag 70/203)"
     ]
    },
    {
     "name": "stderr",
     "output_type": "stream",
     "text": [
      "frame=   91 fps=0.3 q=-0.0 size=N/A time=00:01:29.00 bitrate=N/A dup=0 drop=2133 speed=0.316x    \r"
     ]
    },
    {
     "name": "stdout",
     "output_type": "stream",
     "text": [
      "[download]  34.4% of ~ 651.17MiB at    2.97MiB/s ETA 02:40 (frag 71/203)"
     ]
    },
    {
     "name": "stderr",
     "output_type": "stream",
     "text": [
      "frame=   40 fps=0.3 q=-0.0 size=N/A time=00:00:38.00 bitrate=N/A dup=0 drop=930 speed=0.254x     \r"
     ]
    },
    {
     "name": "stdout",
     "output_type": "stream",
     "text": [
      "Deleting original file ./dataset_splited/tx2DaIcoNLQ/video_1080p.f616.mp4 (pass -k to keep)\n",
      "[download]  35.5% of ~ 631.37MiB at    2.44MiB/s ETA 02:50 (frag 71/203)"
     ]
    },
    {
     "name": "stderr",
     "output_type": "stream",
     "text": [
      "frame=  375 fps=1.3 q=-0.0 size=N/A time=00:06:13.00 bitrate=N/A dup=0 drop=8948 speed=1.31x    \r"
     ]
    },
    {
     "name": "stdout",
     "output_type": "stream",
     "text": [
      "[download]  35.5% of ~ 632.74MiB at    2.38MiB/s ETA 02:51 (frag 71/203)"
     ]
    },
    {
     "name": "stderr",
     "output_type": "stream",
     "text": [
      "frame=   82 fps=0.3 q=-0.0 size=N/A time=00:01:20.00 bitrate=N/A dup=0 drop=1927 speed=0.279x    \r"
     ]
    },
    {
     "name": "stdout",
     "output_type": "stream",
     "text": [
      "[download]  35.6% of ~ 636.97MiB at    2.59MiB/s ETA 02:47 (frag 71/203)"
     ]
    },
    {
     "name": "stderr",
     "output_type": "stream",
     "text": [
      "frame=   85 fps=1.2 q=-0.0 size=N/A time=00:01:23.00 bitrate=N/A dup=0 drop=2414 speed=1.13x    \r"
     ]
    },
    {
     "name": "stdout",
     "output_type": "stream",
     "text": [
      "[download]  35.0% of ~ 648.14MiB at    2.68MiB/s ETA 02:44 (frag 72/203)Deleting original file ./dataset_splited/tx2DaIcoNLQ/video_1080p.f251.webm (pass -k to keep)\n"
     ]
    },
    {
     "name": "stderr",
     "output_type": "stream",
     "text": [
      "frame=  376 fps=1.3 q=-0.0 size=N/A time=00:06:14.00 bitrate=N/A dup=0 drop=8978 speed=1.31x     \r"
     ]
    },
    {
     "name": "stdout",
     "output_type": "stream",
     "text": [
      "[download]  36.0% of ~ 631.32MiB at    2.45MiB/s ETA 02:47 (frag 72/203)"
     ]
    },
    {
     "name": "stderr",
     "output_type": "stream",
     "text": [
      "frame=   86 fps=1.2 q=-0.0 size=N/A time=00:01:24.00 bitrate=N/A dup=0 drop=2442 speed=1.12x     \r"
     ]
    },
    {
     "name": "stdout",
     "output_type": "stream",
     "text": [
      "[download]  36.0% of ~ 631.67MiB at    2.46MiB/s ETA 02:46 (frag 72/203)"
     ]
    },
    {
     "name": "stderr",
     "output_type": "stream",
     "text": [
      "frame=   91 fps=0.3 q=-0.0 size=N/A time=00:01:29.00 bitrate=N/A dup=0 drop=2153 speed=0.314x    \r"
     ]
    },
    {
     "name": "stdout",
     "output_type": "stream",
     "text": [
      "[download]  36.0% of ~ 632.36MiB at    2.47MiB/s ETA 02:46 (frag 72/203)"
     ]
    },
    {
     "name": "stderr",
     "output_type": "stream",
     "text": [
      "frame=  247 fps=1.2 q=-0.0 size=N/A time=00:04:05.00 bitrate=N/A dup=0 drop=5887 speed=1.23x    \r"
     ]
    },
    {
     "name": "stdout",
     "output_type": "stream",
     "text": [
      "[download]  36.3% of ~ 636.53MiB at    2.42MiB/s ETA 02:47 (frag 72/203)"
     ]
    },
    {
     "name": "stderr",
     "output_type": "stream",
     "text": [
      "frame=  377 fps=1.3 q=-0.0 size=N/A time=00:06:15.00 bitrate=N/A dup=0 drop=9005 speed=1.31x     \r"
     ]
    },
    {
     "name": "stdout",
     "output_type": "stream",
     "text": [
      "[download]  35.4% of ~ 652.79MiB at    2.51MiB/s ETA 02:45 (frag 73/203)"
     ]
    },
    {
     "name": "stderr",
     "output_type": "stream",
     "text": [
      "frame=  377 fps=1.3 q=-0.0 size=N/A time=00:06:15.00 bitrate=N/A dup=0 drop=9018 speed= 1.3x     \r"
     ]
    },
    {
     "name": "stdout",
     "output_type": "stream",
     "text": [
      "[download]  36.5% of ~ 633.21MiB at    2.46MiB/s ETA 02:46 (frag 73/203)"
     ]
    },
    {
     "name": "stderr",
     "output_type": "stream",
     "text": [
      "frame=   83 fps=0.3 q=-0.0 size=N/A time=00:01:21.00 bitrate=N/A dup=0 drop=1945 speed=0.28x    \r"
     ]
    },
    {
     "name": "stdout",
     "output_type": "stream",
     "text": [
      "[download]  36.5% of ~ 633.29MiB at    2.14MiB/s ETA 02:56 (frag 73/203)"
     ]
    },
    {
     "name": "stderr",
     "output_type": "stream",
     "text": [
      "frame=   42 fps=0.3 q=-0.0 size=N/A time=00:00:40.00 bitrate=N/A dup=0 drop=958 speed=0.261x    \r"
     ]
    },
    {
     "name": "stdout",
     "output_type": "stream",
     "text": [
      "[download]  36.5% of ~ 633.89MiB at    1.79MiB/s ETA 03:15 (frag 73/203)"
     ]
    },
    {
     "name": "stderr",
     "output_type": "stream",
     "text": [
      "frame=   88 fps=1.1 q=-0.0 size=N/A time=00:01:26.00 bitrate=N/A dup=0 drop=2504 speed=1.12x     \r"
     ]
    },
    {
     "name": "stdout",
     "output_type": "stream",
     "text": [
      "[download]  36.6% of ~ 635.95MiB at    2.01MiB/s ETA 03:13 (frag 73/203)"
     ]
    },
    {
     "name": "stderr",
     "output_type": "stream",
     "text": [
      "frame=   92 fps=0.3 q=-0.0 size=N/A time=00:01:30.00 bitrate=N/A dup=0 drop=2168 speed=0.315x    \r"
     ]
    },
    {
     "name": "stdout",
     "output_type": "stream",
     "text": [
      "[download]  36.8% of ~ 638.69MiB at    2.25MiB/s ETA 03:08 (frag 73/203)"
     ]
    },
    {
     "name": "stderr",
     "output_type": "stream",
     "text": [
      "frame=   83 fps=0.3 q=-0.0 size=N/A time=00:01:21.00 bitrate=N/A dup=0 drop=1951 speed=0.279x    \r"
     ]
    },
    {
     "name": "stdout",
     "output_type": "stream",
     "text": [
      "[download]  35.8% of ~ 657.21MiB at    2.51MiB/s ETA 03:01 (frag 74/203)"
     ]
    },
    {
     "name": "stderr",
     "output_type": "stream",
     "text": [
      "frame=  380 fps=1.3 q=-0.0 size=N/A time=00:06:18.00 bitrate=N/A dup=0 drop=9075 speed=1.31x     \r"
     ]
    },
    {
     "name": "stdout",
     "output_type": "stream",
     "text": [
      "[download]  37.0% of ~ 637.96MiB at    1.84MiB/s ETA 03:26 (frag 74/203)"
     ]
    },
    {
     "name": "stderr",
     "output_type": "stream",
     "text": [
      "frame=   90 fps=1.1 q=-0.0 size=N/A time=00:01:28.00 bitrate=N/A dup=0 drop=2550 speed=1.12x     \r"
     ]
    },
    {
     "name": "stdout",
     "output_type": "stream",
     "text": [
      "[download]  37.1% of ~ 639.31MiB at    2.08MiB/s ETA 03:21 (frag 74/203)"
     ]
    },
    {
     "name": "stderr",
     "output_type": "stream",
     "text": [
      "frame=   14 fps=0.2 q=-0.0 size=N/A time=00:00:12.00 bitrate=N/A dup=0 drop=583 speed=0.145x    \r"
     ]
    },
    {
     "name": "stdout",
     "output_type": "stream",
     "text": [
      "[download]  37.1% of ~ 642.02MiB at    2.33MiB/s ETA 03:14 (frag 74/203)"
     ]
    },
    {
     "name": "stderr",
     "output_type": "stream",
     "text": [
      "frame=   90 fps=1.1 q=-0.0 size=N/A time=00:01:28.00 bitrate=N/A dup=0 drop=2567 speed=1.11x     \r"
     ]
    },
    {
     "name": "stdout",
     "output_type": "stream",
     "text": [
      "[download]  36.5% of ~ 653.21MiB at    2.43MiB/s ETA 03:10 (frag 75/203)"
     ]
    },
    {
     "name": "stderr",
     "output_type": "stream",
     "text": [
      "frame=   93 fps=0.3 q=-0.0 size=N/A time=00:01:31.00 bitrate=N/A dup=0 drop=2180 speed=0.316x    \r"
     ]
    },
    {
     "name": "stdout",
     "output_type": "stream",
     "text": [
      "[download]  37.4% of ~ 636.43MiB at    2.44MiB/s ETA 03:07 (frag 75/203)"
     ]
    },
    {
     "name": "stderr",
     "output_type": "stream",
     "text": [
      "frame=   93 fps=0.3 q=-0.0 size=N/A time=00:01:31.00 bitrate=N/A dup=0 drop=2185 speed=0.315x    \r"
     ]
    },
    {
     "name": "stdout",
     "output_type": "stream",
     "text": [
      "[download]  37.5% of ~ 637.09MiB at    2.18MiB/s ETA 03:07 (frag 75/203)"
     ]
    },
    {
     "name": "stderr",
     "output_type": "stream",
     "text": [
      "frame=   43 fps=0.3 q=-0.0 size=N/A time=00:00:41.00 bitrate=N/A dup=0 drop=980 speed=0.262x    \r"
     ]
    },
    {
     "name": "stdout",
     "output_type": "stream",
     "text": [
      "[download]  37.5% of ~ 637.76MiB at    2.19MiB/s ETA 03:07 (frag 75/203)"
     ]
    },
    {
     "name": "stderr",
     "output_type": "stream",
     "text": [
      "frame=   93 fps=0.3 q=-0.0 size=N/A time=00:01:31.00 bitrate=N/A dup=0 drop=2189 speed=0.315x    \r"
     ]
    },
    {
     "name": "stdout",
     "output_type": "stream",
     "text": [
      "[download]  37.5% of ~ 647.10MiB at    2.30MiB/s ETA 03:04 (frag 75/203)"
     ]
    },
    {
     "name": "stderr",
     "output_type": "stream",
     "text": [
      "ffmpeg version 4.2.7-0ubuntu0.1 Copyright (c) 2000-2022 the FFmpeg developers603 speed=1.12x    \n",
      "  built with gcc 9 (Ubuntu 9.4.0-1ubuntu1~20.04.1)\n",
      "  configuration: --prefix=/usr --extra-version=0ubuntu0.1 --toolchain=hardened --libdir=/usr/lib/x86_64-linux-gnu --incdir=/usr/include/x86_64-linux-gnu --arch=amd64 --enable-gpl --disable-stripping --enable-avresample --disable-filter=resample --enable-avisynth --enable-gnutls --enable-ladspa --enable-libaom --enable-libass --enable-libbluray --enable-libbs2b --enable-libcaca --enable-libcdio --enable-libcodec2 --enable-libflite --enable-libfontconfig --enable-libfreetype --enable-libfribidi --enable-libgme --enable-libgsm --enable-libjack --enable-libmp3lame --enable-libmysofa --enable-libopenjpeg --enable-libopenmpt --enable-libopus --enable-libpulse --enable-librsvg --enable-librubberband --enable-libshine --enable-libsnappy --enable-libsoxr --enable-libspeex --enable-libssh --enable-libtheora --enable-libtwolame --enable-libvidstab --enable-libvorbis --enable-libvpx --enable-libwavpack --enable-libwebp --enable-libx265 --enable-libxml2 --enable-libxvid --enable-libzmq --enable-libzvbi --enable-lv2 --enable-omx --enable-openal --enable-opencl --enable-opengl --enable-sdl2 --enable-libdc1394 --enable-libdrm --enable-libiec61883 --enable-nvenc --enable-chromaprint --enable-frei0r --enable-libx264 --enable-shared\n",
      "  libavutil      56. 31.100 / 56. 31.100\n",
      "  libavcodec     58. 54.100 / 58. 54.100\n",
      "  libavformat    58. 29.100 / 58. 29.100\n",
      "  libavdevice    58.  8.100 / 58.  8.100\n",
      "  libavfilter     7. 57.100 /  7. 57.100\n",
      "  libavresample   4.  0.  0 /  4.  0.  0\n",
      "  libswscale      5.  5.100 /  5.  5.100\n",
      "  libswresample   3.  5.100 /  3.  5.100\n",
      "  libpostproc    55.  5.100 / 55.  5.100\n",
      "frame=  391 fps=1.4 q=-0.0 size=N/A time=00:06:29.00 bitrate=N/A dup=0 drop=9343 speed= 1.4x    \r"
     ]
    },
    {
     "name": "stdout",
     "output_type": "stream",
     "text": [
      "[download]  36.8% of ~ 659.64MiB at    2.47MiB/s ETA 03:00 (frag 76/203)"
     ]
    },
    {
     "name": "stderr",
     "output_type": "stream",
     "text": [
      "frame=  251 fps=1.2 q=-0.0 Lsize=N/A time=00:04:11.00 bitrate=N/A dup=0 drop=5974 speed=1.22x    \n",
      "video:151892kB audio:0kB subtitle:0kB other streams:0kB global headers:0kB muxing overhead: unknown\n",
      "frame=  392 fps=1.4 q=-0.0 size=N/A time=00:06:30.00 bitrate=N/A dup=0 drop=9359 speed= 1.4x     \r"
     ]
    },
    {
     "name": "stdout",
     "output_type": "stream",
     "text": [
      "[download]  37.9% of ~ 639.63MiB at    2.49MiB/s ETA 02:56 (frag 76/203)"
     ]
    },
    {
     "name": "stderr",
     "output_type": "stream",
     "text": [
      "frame=   43 fps=0.3 q=-0.0 size=N/A time=00:00:41.00 bitrate=N/A dup=0 drop=988 speed=0.26x     \r"
     ]
    },
    {
     "name": "stdout",
     "output_type": "stream",
     "text": [
      "[download]  38.0% of ~ 640.93MiB at    2.37MiB/s ETA 02:53 (frag 76/203)"
     ]
    },
    {
     "name": "stderr",
     "output_type": "stream",
     "text": [
      "frame=   14 fps=0.2 q=-0.0 size=N/A time=00:00:12.00 bitrate=N/A dup=0 drop=603 speed=0.14x      \r"
     ]
    },
    {
     "name": "stdout",
     "output_type": "stream",
     "text": [
      "[download]  37.6% of ~ 649.57MiB at    2.29MiB/s ETA 02:55 (frag 77/203)"
     ]
    },
    {
     "name": "stderr",
     "output_type": "stream",
     "text": [
      "Input #0, matroska,webm, from './dataset_splited/tx2DaIcoNLQ/video_1080p.webm':2 speed=1.31x     \n",
      "  Metadata:\n",
      "    COMPATIBLE_BRANDS: iso6mp41\n",
      "    MAJOR_BRAND     : dash\n",
      "    MINOR_VERSION   : 0\n",
      "    ENCODER         : Lavf58.29.100\n",
      "  Duration: 00:15:57.98, start: -0.007000, bitrate: 3115 kb/s\n",
      "    Stream #0:0: Video: vp9 (Profile 0), yuv420p(tv, bt709), 1920x1080, SAR 1:1 DAR 16:9, 25 fps, 25 tbr, 1k tbn, 1k tbc (default)\n",
      "    Metadata:\n",
      "      HANDLER_NAME    : ISO Media file produced by Google Inc. Created on: 12/14/2023.\n",
      "      DURATION        : 00:15:57.920000000\n",
      "    Stream #0:1(eng): Audio: opus, 48000 Hz, stereo, fltp (default)\n",
      "    Metadata:\n",
      "      DURATION        : 00:15:57.981000000\n",
      "Stream mapping:=0.3 q=-0.0 size=N/A time=00:01:22.00 bitrate=N/A dup=0 drop=1977 speed=0.278x    \n"
     ]
    },
    {
     "name": "stdout",
     "output_type": "stream",
     "text": [
      "[download]  38.4% of ~ 636.37MiB at    2.19MiB/s ETA 02:57 (frag 77/203)"
     ]
    },
    {
     "name": "stderr",
     "output_type": "stream",
     "text": [
      "  Stream #0:0 -> #0:0 (vp9 (native) -> png (native))\n",
      "Press [q] to stop, [?] for help\n",
      "frame=   43 fps=0.3 q=-0.0 size=N/A time=00:00:41.00 bitrate=N/A dup=0 drop=998 speed=0.258x    \r"
     ]
    },
    {
     "name": "stdout",
     "output_type": "stream",
     "text": [
      "[download]  38.5% of ~ 637.63MiB at    2.18MiB/s ETA 02:57 (frag 77/203)"
     ]
    },
    {
     "name": "stderr",
     "output_type": "stream",
     "text": [
      "frame=   95 fps=1.1 q=-0.0 size=N/A time=00:01:33.00 bitrate=N/A dup=0 drop=2706 speed=1.12x    \r"
     ]
    },
    {
     "name": "stdout",
     "output_type": "stream",
     "text": [
      "[download]  38.5% of ~ 641.53MiB at    2.18MiB/s ETA 02:58 (frag 77/203)"
     ]
    },
    {
     "name": "stderr",
     "output_type": "stream",
     "text": [
      "frame=   94 fps=0.3 q=-0.0 size=N/A time=00:01:32.00 bitrate=N/A dup=0 drop=2213 speed=0.315x    \r"
     ]
    },
    {
     "name": "stdout",
     "output_type": "stream",
     "text": [
      "[download]  38.1% of ~ 648.49MiB at    1.99MiB/s ETA 03:06 (frag 78/203)"
     ]
    },
    {
     "name": "stderr",
     "output_type": "stream",
     "text": [
      "Output #0, image2, to './dataset_splited/tx2DaIcoNLQ/frames_1080p/frame-%04d.png':peed=0.276x    \n",
      "  Metadata:\n",
      "    COMPATIBLE_BRANDS: iso6mp41\n",
      "    MAJOR_BRAND     : dash\n",
      "    MINOR_VERSION   : 0\n",
      "    encoder         : Lavf58.29.100\n",
      "    Stream #0:0: Video: png, rgb24, 1920x1080 [SAR 1:1 DAR 16:9], q=2-31, 200 kb/s, 1 fps, 1 tbn, 1 tbc (default)\n",
      "    Metadata:\n",
      "      HANDLER_NAME    : ISO Media file produced by Google Inc. Created on: 12/14/2023.\n",
      "      DURATION        : 00:15:57.920000000\n",
      "      encoder         : Lavc58.54.100 png\n",
      "frame=   94 fps=0.3 q=-0.0 size=N/A time=00:01:32.00 bitrate=N/A dup=0 drop=2220 speed=0.314x    \r"
     ]
    },
    {
     "name": "stdout",
     "output_type": "stream",
     "text": [
      "[download]  39.0% of ~ 634.92MiB at    1.29MiB/s ETA 04:04 (frag 78/203)"
     ]
    },
    {
     "name": "stderr",
     "output_type": "stream",
     "text": [
      "frame=  388 fps=1.3 q=-0.0 size=N/A time=00:06:26.00 bitrate=N/A dup=0 drop=9268 speed= 1.3x    \r"
     ]
    },
    {
     "name": "stdout",
     "output_type": "stream",
     "text": [
      "[download]  39.1% of ~ 636.85MiB at    1.41MiB/s ETA 04:10 (frag 78/203)"
     ]
    },
    {
     "name": "stderr",
     "output_type": "stream",
     "text": [
      "frame=  388 fps=1.3 q=-0.0 size=N/A time=00:06:26.00 bitrate=N/A dup=0 drop=9283 speed= 1.3x     \r"
     ]
    },
    {
     "name": "stdout",
     "output_type": "stream",
     "text": [
      "[download]  39.1% of ~ 639.42MiB at    1.61MiB/s ETA 04:03 (frag 78/203)[youtube] Extracting URL: https://www.youtube.com/watch?v=yB7-bVpsOic\n",
      "[youtube] yB7-bVpsOic: Downloading webpage\n",
      "[download]  38.4% of ~ 650.04MiB at    1.69MiB/s ETA 04:00 (frag 79/203)"
     ]
    },
    {
     "name": "stderr",
     "output_type": "stream",
     "text": [
      "frame=   44 fps=0.3 q=-0.0 size=N/A time=00:00:42.00 bitrate=N/A dup=0 drop=1016 speed=0.259x    \r"
     ]
    },
    {
     "name": "stdout",
     "output_type": "stream",
     "text": [
      "[download]  39.4% of ~ 634.13MiB at    1.73MiB/s ETA 03:57 (frag 79/203)"
     ]
    },
    {
     "name": "stderr",
     "output_type": "stream",
     "text": [
      "frame=   98 fps=1.1 q=-0.0 size=N/A time=00:01:36.00 bitrate=N/A dup=0 drop=2800 speed=1.12x     \r"
     ]
    },
    {
     "name": "stdout",
     "output_type": "stream",
     "text": [
      "[download]  39.4% of ~ 634.29MiB at    1.46MiB/s ETA 04:10 (frag 79/203)"
     ]
    },
    {
     "name": "stderr",
     "output_type": "stream",
     "text": [
      "frame=  390 fps=1.3 q=-0.0 size=N/A time=00:06:28.00 bitrate=N/A dup=0 drop=9312 speed= 1.3x     \r"
     ]
    },
    {
     "name": "stdout",
     "output_type": "stream",
     "text": [
      "[download]  39.5% of ~ 636.67MiB at    1.48MiB/s ETA 04:15 (frag 79/203)"
     ]
    },
    {
     "name": "stderr",
     "output_type": "stream",
     "text": [
      "frame=  398 fps=1.4 q=-0.0 size=N/A time=00:06:36.00 bitrate=N/A dup=0 drop=9500 speed=1.39x    \r"
     ]
    },
    {
     "name": "stdout",
     "output_type": "stream",
     "text": [
      "[download]  39.1% of ~ 643.49MiB at    1.66MiB/s ETA 04:08 (frag 80/203)[youtube] yB7-bVpsOic: Downloading ios player API JSON\n"
     ]
    },
    {
     "name": "stderr",
     "output_type": "stream",
     "text": [
      "frame=  398 fps=1.4 q=-0.0 size=N/A time=00:06:36.00 bitrate=N/A dup=0 drop=9517 speed=1.39x     \r"
     ]
    },
    {
     "name": "stdout",
     "output_type": "stream",
     "text": [
      "[download]  39.9% of ~ 630.96MiB at    1.72MiB/s ETA 04:04 (frag 80/203)[youtube] yB7-bVpsOic: Downloading android player API JSON\n",
      "[download]  39.9% of ~ 631.55MiB at    1.78MiB/s ETA 03:57 (frag 80/203)"
     ]
    },
    {
     "name": "stderr",
     "output_type": "stream",
     "text": [
      "frame=   15 fps=0.2 q=-0.0 size=N/A time=00:00:13.00 bitrate=N/A dup=0 drop=638 speed=0.142x     \r"
     ]
    },
    {
     "name": "stdout",
     "output_type": "stream",
     "text": [
      "[download]  40.1% of ~ 633.43MiB at    1.98MiB/s ETA 03:45 (frag 80/203)"
     ]
    },
    {
     "name": "stderr",
     "output_type": "stream",
     "text": [
      "frame=  399 fps=1.4 q=-0.0 size=N/A time=00:06:37.00 bitrate=N/A dup=0 drop=9534 speed=1.39x    \r"
     ]
    },
    {
     "name": "stdout",
     "output_type": "stream",
     "text": [
      "[download]  40.0% of ~ 640.95MiB at    2.18MiB/s ETA 03:37 (frag 80/203)[youtube] yB7-bVpsOic: Downloading m3u8 information\n"
     ]
    },
    {
     "name": "stderr",
     "output_type": "stream",
     "text": [
      "frame=   15 fps=0.2 q=-0.0 size=N/A time=00:00:13.00 bitrate=N/A dup=0 drop=642 speed=0.141x     \r"
     ]
    },
    {
     "name": "stdout",
     "output_type": "stream",
     "text": [
      "[download]  39.2% of ~ 653.02MiB at    2.18MiB/s ETA 03:34 (frag 81/203)"
     ]
    },
    {
     "name": "stderr",
     "output_type": "stream",
     "text": [
      "frame=  400 fps=1.4 q=-0.0 size=N/A time=00:06:38.00 bitrate=N/A dup=0 drop=9567 speed=1.39x     \r"
     ]
    },
    {
     "name": "stdout",
     "output_type": "stream",
     "text": [
      "[download]  40.4% of ~ 634.14MiB at    2.15MiB/s ETA 03:30 (frag 81/203)"
     ]
    },
    {
     "name": "stderr",
     "output_type": "stream",
     "text": [
      "frame=   15 fps=0.2 q=-0.0 size=N/A time=00:00:13.00 bitrate=N/A dup=0 drop=652 speed=0.14x      \r"
     ]
    },
    {
     "name": "stdout",
     "output_type": "stream",
     "text": [
      "[download]  40.4% of ~ 634.76MiB at    1.99MiB/s ETA 03:33 (frag 81/203)"
     ]
    },
    {
     "name": "stderr",
     "output_type": "stream",
     "text": [
      "frame=  401 fps=1.4 q=-0.0 size=N/A time=00:06:39.00 bitrate=N/A dup=0 drop=9589 speed=1.39x     \r"
     ]
    },
    {
     "name": "stdout",
     "output_type": "stream",
     "text": [
      "[download]  40.6% of ~ 636.61MiB at    1.93MiB/s ETA 03:32 (frag 81/203)"
     ]
    },
    {
     "name": "stderr",
     "output_type": "stream",
     "text": [
      "frame=  103 fps=1.2 q=-0.0 size=N/A time=00:01:41.00 bitrate=N/A dup=0 drop=2921 speed=1.13x     \r"
     ]
    },
    {
     "name": "stdout",
     "output_type": "stream",
     "text": [
      "[download]  40.5% of ~ 644.04MiB at    2.24MiB/s ETA 03:24 (frag 81/203)"
     ]
    },
    {
     "name": "stderr",
     "output_type": "stream",
     "text": [
      "frame=   96 fps=0.3 q=-0.0 size=N/A time=00:01:34.00 bitrate=N/A dup=0 drop=2271 speed=0.315x    \r"
     ]
    },
    {
     "name": "stdout",
     "output_type": "stream",
     "text": [
      "[download]  39.7% of ~ 655.98MiB at    2.46MiB/s ETA 03:17 (frag 82/203)"
     ]
    },
    {
     "name": "stderr",
     "output_type": "stream",
     "text": [
      "frame=  396 fps=1.3 q=-0.0 size=N/A time=00:06:34.00 bitrate=N/A dup=0 drop=9458 speed= 1.3x     \r"
     ]
    },
    {
     "name": "stdout",
     "output_type": "stream",
     "text": [
      "[download]  40.9% of ~ 637.44MiB at    2.18MiB/s ETA 03:13 (frag 82/203)"
     ]
    },
    {
     "name": "stderr",
     "output_type": "stream",
     "text": [
      "frame=  404 fps=1.4 q=-0.0 size=N/A time=00:06:42.00 bitrate=N/A dup=0 drop=9663 speed=1.39x     \r"
     ]
    },
    {
     "name": "stdout",
     "output_type": "stream",
     "text": [
      "[download]  41.0% of ~ 638.51MiB at    2.17MiB/s ETA 03:10 (frag 82/203)[info] yB7-bVpsOic: Downloading 1 format(s): 244+251\n",
      "[download]  41.0% of ~ 639.73MiB at    2.31MiB/s ETA 03:05 (frag 82/203)"
     ]
    },
    {
     "name": "stderr",
     "output_type": "stream",
     "text": [
      "frame=   86 fps=0.3 q=-0.0 size=N/A time=00:01:24.00 bitrate=N/A dup=0 drop=2032 speed=0.276x    \r"
     ]
    },
    {
     "name": "stdout",
     "output_type": "stream",
     "text": [
      "[download]  40.6% of ~ 647.05MiB at    2.27MiB/s ETA 03:04 (frag 83/203)"
     ]
    },
    {
     "name": "stderr",
     "output_type": "stream",
     "text": [
      "frame=    3 fps=0.3 q=-0.0 size=N/A time=00:00:01.00 bitrate=N/A dup=0 drop=31 speed=0.103x      \r"
     ]
    },
    {
     "name": "stdout",
     "output_type": "stream",
     "text": [
      "[download]  41.4% of ~ 634.67MiB at    1.54MiB/s ETA 03:52 (frag 83/203)"
     ]
    },
    {
     "name": "stderr",
     "output_type": "stream",
     "text": [
      "frame=   16 fps=0.2 q=-0.0 size=N/A time=00:00:14.00 bitrate=N/A dup=0 drop=682 speed=0.145x     \r"
     ]
    },
    {
     "name": "stdout",
     "output_type": "stream",
     "text": [
      "[download]  41.5% of ~ 636.94MiB at    1.36MiB/s ETA 04:13 (frag 83/203)"
     ]
    },
    {
     "name": "stderr",
     "output_type": "stream",
     "text": [
      "frame=  406 fps=1.4 q=-0.0 size=N/A time=00:06:44.00 bitrate=N/A dup=0 drop=9715 speed=1.39x    \r"
     ]
    },
    {
     "name": "stdout",
     "output_type": "stream",
     "text": [
      "[download]  40.7% of ~ 655.53MiB at    2.22MiB/s ETA 03:49 (frag 84/203)"
     ]
    },
    {
     "name": "stderr",
     "output_type": "stream",
     "text": [
      "frame=  399 fps=1.3 q=-0.0 size=N/A time=00:06:37.00 bitrate=N/A dup=0 drop=9524 speed= 1.3x     \r"
     ]
    },
    {
     "name": "stdout",
     "output_type": "stream",
     "text": [
      "[download] Destination: ./dataset_splited/yB7-bVpsOic/video_480p.f244.webm\n",
      "[download]   0.1% of   49.47MiB at  484.43KiB/s ETA 01:44"
     ]
    },
    {
     "name": "stderr",
     "output_type": "stream",
     "text": [
      "frame=   87 fps=0.3 q=-0.0 size=N/A time=00:01:25.00 bitrate=N/A dup=0 drop=2043 speed=0.278x    \r"
     ]
    },
    {
     "name": "stdout",
     "output_type": "stream",
     "text": [
      "[download]   2.0% of   49.47MiB at    2.65MiB/s ETA 00:185 (frag 84/203)"
     ]
    },
    {
     "name": "stderr",
     "output_type": "stream",
     "text": [
      "frame=   16 fps=0.2 q=-0.0 size=N/A time=00:00:14.00 bitrate=N/A dup=0 drop=690 speed=0.143x     \r"
     ]
    },
    {
     "name": "stdout",
     "output_type": "stream",
     "text": [
      "[download]   4.0% of   49.47MiB at    3.54MiB/s ETA 00:133 (frag 84/203)"
     ]
    },
    {
     "name": "stderr",
     "output_type": "stream",
     "text": [
      "frame=   87 fps=0.3 q=-0.0 size=N/A time=00:01:25.00 bitrate=N/A dup=0 drop=2047 speed=0.277x    \r"
     ]
    },
    {
     "name": "stdout",
     "output_type": "stream",
     "text": [
      "[download]  42.0% of ~ 639.82MiB at    2.67MiB/s ETA 03:06 (frag 84/203)"
     ]
    },
    {
     "name": "stderr",
     "output_type": "stream",
     "text": [
      "frame=   47 fps=0.3 q=-0.0 size=N/A time=00:00:45.00 bitrate=N/A dup=0 drop=1085 speed=0.264x    \r"
     ]
    },
    {
     "name": "stdout",
     "output_type": "stream",
     "text": [
      "[download]  41.9% of ~ 646.99MiB at    3.06MiB/s ETA 02:51 (frag 84/203)"
     ]
    },
    {
     "name": "stderr",
     "output_type": "stream",
     "text": [
      "frame=   87 fps=0.3 q=-0.0 size=N/A time=00:01:25.00 bitrate=N/A dup=0 drop=2052 speed=0.277x    \r"
     ]
    },
    {
     "name": "stdout",
     "output_type": "stream",
     "text": [
      "[download]  41.3% of ~ 656.62MiB at    2.98MiB/s ETA 02:48 (frag 85/203)"
     ]
    },
    {
     "name": "stderr",
     "output_type": "stream",
     "text": [
      "frame=   98 fps=0.3 q=-0.0 size=N/A time=00:01:36.00 bitrate=N/A dup=0 drop=2313 speed=0.316x    \r"
     ]
    },
    {
     "name": "stdout",
     "output_type": "stream",
     "text": [
      "[download]  42.4% of ~ 639.51MiB at    2.95MiB/s ETA 02:40 (frag 85/203)"
     ]
    },
    {
     "name": "stderr",
     "output_type": "stream",
     "text": [
      "frame=  109 fps=1.1 q=-0.0 size=N/A time=00:01:47.00 bitrate=N/A dup=0 drop=3095 speed=1.13x     \r"
     ]
    },
    {
     "name": "stdout",
     "output_type": "stream",
     "text": [
      "[download]  42.4% of ~ 640.68MiB at    3.19MiB/s ETA 02:27 (frag 85/203)"
     ]
    },
    {
     "name": "stderr",
     "output_type": "stream",
     "text": [
      "frame=   98 fps=0.3 q=-0.0 size=N/A time=00:01:36.00 bitrate=N/A dup=0 drop=2319 speed=0.316x    \r"
     ]
    },
    {
     "name": "stdout",
     "output_type": "stream",
     "text": [
      "[download]  20.9% of   49.47MiB at    2.04MiB/s ETA 00:193 (frag 86/203)"
     ]
    },
    {
     "name": "stderr",
     "output_type": "stream",
     "text": [
      "frame=   16 fps=0.2 q=-0.0 size=N/A time=00:00:14.00 bitrate=N/A dup=0 drop=705 speed=0.14x      \r"
     ]
    },
    {
     "name": "stdout",
     "output_type": "stream",
     "text": [
      "[download]  42.9% of ~ 639.34MiB at    3.42MiB/s ETA 02:10 (frag 86/203)"
     ]
    },
    {
     "name": "stderr",
     "output_type": "stream",
     "text": [
      "frame=   88 fps=0.3 q=-0.0 size=N/A time=00:01:26.00 bitrate=N/A dup=0 drop=2061 speed=0.279x    \r"
     ]
    },
    {
     "name": "stdout",
     "output_type": "stream",
     "text": [
      "[download]  43.0% of ~ 641.64MiB at    3.04MiB/s ETA 02:10 (frag 86/203)"
     ]
    },
    {
     "name": "stderr",
     "output_type": "stream",
     "text": [
      "frame=  410 fps=1.4 q=-0.0 size=N/A time=00:06:48.00 bitrate=N/A dup=0 drop=9806 speed=1.39x     \r"
     ]
    },
    {
     "name": "stdout",
     "output_type": "stream",
     "text": [
      "[download]  42.6% of ~ 647.92MiB at    3.09MiB/s ETA 02:08 (frag 87/203)"
     ]
    },
    {
     "name": "stderr",
     "output_type": "stream",
     "text": [
      "frame=    4 fps=0.3 q=-0.0 size=N/A time=00:00:02.00 bitrate=N/A dup=0 drop=57 speed=0.145x      \r"
     ]
    },
    {
     "name": "stdout",
     "output_type": "stream",
     "text": [
      "[download]  43.4% of ~ 636.33MiB at    2.99MiB/s ETA 02:07 (frag 87/203)"
     ]
    },
    {
     "name": "stderr",
     "output_type": "stream",
     "text": [
      "frame=   88 fps=0.3 q=-0.0 size=N/A time=00:01:26.00 bitrate=N/A dup=0 drop=2069 speed=0.278x    \r"
     ]
    },
    {
     "name": "stdout",
     "output_type": "stream",
     "text": [
      "[download]  43.4% of ~ 637.45MiB at    2.57MiB/s ETA 02:14 (frag 87/203)"
     ]
    },
    {
     "name": "stderr",
     "output_type": "stream",
     "text": [
      "frame=  402 fps=1.3 q=-0.0 size=N/A time=00:06:40.00 bitrate=N/A dup=0 drop=9614 speed= 1.3x     \r"
     ]
    },
    {
     "name": "stdout",
     "output_type": "stream",
     "text": [
      "[download]  47.9% of   49.47MiB at    8.14MiB/s ETA 00:036 (frag 87/203)"
     ]
    },
    {
     "name": "stderr",
     "output_type": "stream",
     "text": [
      "frame=    4 fps=0.3 q=-0.0 size=N/A time=00:00:02.00 bitrate=N/A dup=0 drop=63 speed=0.138x     \r"
     ]
    },
    {
     "name": "stdout",
     "output_type": "stream",
     "text": [
      "[download]  56.0% of   49.47MiB at    9.60MiB/s ETA 00:024 (frag 88/203)"
     ]
    },
    {
     "name": "stderr",
     "output_type": "stream",
     "text": [
      "frame=   88 fps=0.3 q=-0.0 size=N/A time=00:01:26.00 bitrate=N/A dup=0 drop=2074 speed=0.277x    \r"
     ]
    },
    {
     "name": "stdout",
     "output_type": "stream",
     "text": [
      "[download]  43.8% of ~ 636.26MiB at    2.71MiB/s ETA 02:14 (frag 88/203)"
     ]
    },
    {
     "name": "stderr",
     "output_type": "stream",
     "text": [
      "frame=  412 fps=1.4 q=-0.0 size=N/A time=00:06:50.00 bitrate=N/A dup=0 drop=9856 speed=1.39x     \r"
     ]
    },
    {
     "name": "stdout",
     "output_type": "stream",
     "text": [
      "[download]  63.9% of   49.47MiB at    5.96MiB/s ETA 00:021 (frag 88/203)"
     ]
    },
    {
     "name": "stderr",
     "output_type": "stream",
     "text": [
      "frame=  404 fps=1.3 q=-0.0 size=N/A time=00:06:42.00 bitrate=N/A dup=0 drop=9644 speed= 1.3x     \r"
     ]
    },
    {
     "name": "stdout",
     "output_type": "stream",
     "text": [
      "[download]  43.4% of ~ 650.33MiB at    2.82MiB/s ETA 02:11 (frag 89/203)"
     ]
    },
    {
     "name": "stderr",
     "output_type": "stream",
     "text": [
      "frame=   48 fps=0.3 q=-0.0 size=N/A time=00:00:46.00 bitrate=N/A dup=0 drop=1107 speed=0.264x    \r"
     ]
    },
    {
     "name": "stdout",
     "output_type": "stream",
     "text": [
      "[download]  79.0% of   49.47MiB at   11.33MiB/s ETA 00:00"
     ]
    },
    {
     "name": "stderr",
     "output_type": "stream",
     "text": [
      "frame=   88 fps=0.3 q=-0.0 size=N/A time=00:01:26.00 bitrate=N/A dup=0 drop=2083 speed=0.276x    \r"
     ]
    },
    {
     "name": "stdout",
     "output_type": "stream",
     "text": [
      "[download]  79.1% of   49.47MiB at  215.52KiB/s ETA 00:490 (frag 89/203)"
     ]
    },
    {
     "name": "stderr",
     "output_type": "stream",
     "text": [
      "frame=  113 fps=1.1 q=-0.0 size=N/A time=00:01:51.00 bitrate=N/A dup=0 drop=3233 speed=1.13x     \r"
     ]
    },
    {
     "name": "stdout",
     "output_type": "stream",
     "text": [
      "[download]  83.1% of   49.47MiB at    4.40MiB/s ETA 00:019 (frag 89/203)"
     ]
    },
    {
     "name": "stderr",
     "output_type": "stream",
     "text": [
      "frame=  114 fps=1.1 q=-0.0 size=N/A time=00:01:52.00 bitrate=N/A dup=0 drop=3242 speed=1.13x     \r"
     ]
    },
    {
     "name": "stdout",
     "output_type": "stream",
     "text": [
      "[download]  44.4% of ~ 645.15MiB at    3.06MiB/s ETA 02:06 (frag 89/203)"
     ]
    },
    {
     "name": "stderr",
     "output_type": "stream",
     "text": [
      "frame=   17 fps=0.2 q=-0.0 size=N/A time=00:00:15.00 bitrate=N/A dup=0 drop=732 speed=0.145x     \r"
     ]
    },
    {
     "name": "stdout",
     "output_type": "stream",
     "text": [
      "[download]  95.2% of   49.47MiB at    7.73MiB/s ETA 00:004 (frag 90/203)"
     ]
    },
    {
     "name": "stderr",
     "output_type": "stream",
     "text": [
      "frame=  415 fps=1.4 q=-0.0 size=N/A time=00:06:53.00 bitrate=N/A dup=0 drop=9925 speed=1.39x     \r"
     ]
    },
    {
     "name": "stdout",
     "output_type": "stream",
     "text": [
      "[download]  98.8% of   49.47MiB at    8.46MiB/s ETA 00:002 (frag 90/203)"
     ]
    },
    {
     "name": "stderr",
     "output_type": "stream",
     "text": [
      "frame=  115 fps=1.1 q=-0.0 size=N/A time=00:01:53.00 bitrate=N/A dup=0 drop=3279 speed=1.13x     \r"
     ]
    },
    {
     "name": "stdout",
     "output_type": "stream",
     "text": [
      "[download]  44.8% of ~ 638.58MiB at    1.13MiB/s ETA 02:37:56 (frag 90/203)"
     ]
    },
    {
     "name": "stderr",
     "output_type": "stream",
     "text": [
      "frame=  118 fps=1.1 q=-0.0 size=N/A time=00:01:56.00 bitrate=N/A dup=0 drop=3382 speed=1.13x     \r"
     ]
    },
    {
     "name": "stdout",
     "output_type": "stream",
     "text": [
      "[download]  44.9% of ~ 639.55MiB at    1.09MiB/s ETA 02:03:30 (frag 90/203)"
     ]
    },
    {
     "name": "stderr",
     "output_type": "stream",
     "text": [
      "frame=  419 fps=1.4 q=-0.0 size=N/A time=00:06:57.00 bitrate=N/A dup=0 drop=10026 speed=1.39x    \r"
     ]
    },
    {
     "name": "stdout",
     "output_type": "stream",
     "text": [
      "[download]  45.0% of ~ 640.67MiB at    1.81MiB/s ETA 01:51:19 (frag 90/203)"
     ]
    },
    {
     "name": "stderr",
     "output_type": "stream",
     "text": [
      "frame=  119 fps=1.2 q=-0.0 size=N/A time=00:01:57.00 bitrate=N/A dup=0 drop=3404 speed=1.13x    \r"
     ]
    },
    {
     "name": "stdout",
     "output_type": "stream",
     "text": [
      "[download] 100% of   49.47MiB in 00:00:10 at 4.86MiB/s   \n",
      "[download]  44.9% of ~ 647.36MiB at    2.73MiB/s ETA 01:40:18 (frag 90/203)[download] Destination: ./dataset_splited/yB7-bVpsOic/video_480p.f251.webm\n",
      "[download]   2.2% of   11.30MiB at    1.19MiB/s ETA 00:090:25 (frag 91/203)"
     ]
    },
    {
     "name": "stderr",
     "output_type": "stream",
     "text": [
      "frame=   90 fps=0.3 q=-0.0 size=N/A time=00:01:28.00 bitrate=N/A dup=0 drop=2111 speed=0.278x    \r"
     ]
    },
    {
     "name": "stdout",
     "output_type": "stream",
     "text": [
      "[download]  45.3% of ~ 640.97MiB at    3.12MiB/s ETA 01:06:25 (frag 91/203)"
     ]
    },
    {
     "name": "stderr",
     "output_type": "stream",
     "text": [
      "frame=   49 fps=0.3 q=-0.0 size=N/A time=00:00:47.00 bitrate=N/A dup=0 drop=1137 speed=0.26x    \r"
     ]
    },
    {
     "name": "stdout",
     "output_type": "stream",
     "text": [
      "[download]  70.8% of   11.30MiB at   11.41MiB/s ETA 00:000 (frag 91/203)   "
     ]
    },
    {
     "name": "stderr",
     "output_type": "stream",
     "text": [
      "frame=   90 fps=0.3 q=-0.0 size=N/A time=00:01:28.00 bitrate=N/A dup=0 drop=2116 speed=0.277x    \r"
     ]
    },
    {
     "name": "stdout",
     "output_type": "stream",
     "text": [
      "[download]  87.5% of   11.30MiB at  675.78KiB/s ETA 00:022 (frag 92/203)"
     ]
    },
    {
     "name": "stderr",
     "output_type": "stream",
     "text": [
      "frame=    6 fps=0.3 q=-0.0 size=N/A time=00:00:04.00 bitrate=N/A dup=0 drop=112 speed=0.183x    \r"
     ]
    },
    {
     "name": "stdout",
     "output_type": "stream",
     "text": [
      "[download]  45.8% of ~ 638.11MiB at    3.10MiB/s ETA 36:10 (frag 92/203)"
     ]
    },
    {
     "name": "stderr",
     "output_type": "stream",
     "text": [
      "frame=   49 fps=0.3 q=-0.0 size=N/A time=00:00:47.00 bitrate=N/A dup=0 drop=1140 speed=0.259x    \r"
     ]
    },
    {
     "name": "stdout",
     "output_type": "stream",
     "text": [
      "[download] 100% of   11.30MiB in 00:00:01 at 7.02MiB/s   6 (frag 92/203)\n",
      "[download]  45.9% of ~ 639.16MiB at    2.88MiB/s ETA 24:26 (frag 92/203)"
     ]
    },
    {
     "name": "stderr",
     "output_type": "stream",
     "text": [
      "frame=  422 fps=1.4 q=-0.0 size=N/A time=00:07:00.00 bitrate=N/A dup=0 drop=10089 speed=1.39x    \r"
     ]
    },
    {
     "name": "stdout",
     "output_type": "stream",
     "text": [
      "[download]  46.0% of ~ 642.44MiB at    3.06MiB/s ETA 22:09 (frag 92/203)"
     ]
    },
    {
     "name": "stderr",
     "output_type": "stream",
     "text": [
      "frame=   49 fps=0.3 q=-0.0 size=N/A time=00:00:47.00 bitrate=N/A dup=0 drop=1143 speed=0.259x    \r"
     ]
    },
    {
     "name": "stdout",
     "output_type": "stream",
     "text": [
      "[Merger] Merging formats into \"./dataset_splited/yB7-bVpsOic/video_480p.webm\"\n",
      "[download]  45.3% of ~ 652.67MiB at    3.13MiB/s ETA 20:07 (frag 93/203)"
     ]
    },
    {
     "name": "stderr",
     "output_type": "stream",
     "text": [
      "frame=   18 fps=0.2 q=-0.0 size=N/A time=00:00:16.00 bitrate=N/A dup=0 drop=781 speed=0.145x     \r"
     ]
    },
    {
     "name": "stdout",
     "output_type": "stream",
     "text": [
      "[download]  46.3% of ~ 638.77MiB at    2.89MiB/s ETA 13:53 (frag 93/203)"
     ]
    },
    {
     "name": "stderr",
     "output_type": "stream",
     "text": [
      "frame=    7 fps=0.3 q=-0.0 size=N/A time=00:00:05.00 bitrate=N/A dup=0 drop=119 speed=0.217x     \r"
     ]
    },
    {
     "name": "stdout",
     "output_type": "stream",
     "text": [
      "[download]  46.5% of ~ 640.66MiB at    2.64MiB/s ETA 11:43 (frag 93/203)"
     ]
    },
    {
     "name": "stderr",
     "output_type": "stream",
     "text": [
      "frame=    7 fps=0.3 q=-0.0 size=N/A time=00:00:05.00 bitrate=N/A dup=0 drop=122 speed=0.212x     \r"
     ]
    },
    {
     "name": "stdout",
     "output_type": "stream",
     "text": [
      "[download]  45.9% of ~ 648.63MiB at    2.62MiB/s ETA 09:54 (frag 94/203)"
     ]
    },
    {
     "name": "stderr",
     "output_type": "stream",
     "text": [
      "frame=  424 fps=1.4 q=-0.0 size=N/A time=00:07:02.00 bitrate=N/A dup=0 drop=10134 speed=1.39x    \r"
     ]
    },
    {
     "name": "stdout",
     "output_type": "stream",
     "text": [
      "[download]  46.8% of ~ 636.81MiB at    2.58MiB/s ETA 08:27 (frag 94/203)"
     ]
    },
    {
     "name": "stderr",
     "output_type": "stream",
     "text": [
      "frame=  103 fps=0.3 q=-0.0 size=N/A time=00:01:41.00 bitrate=N/A dup=0 drop=2420 speed=0.32x     \r"
     ]
    },
    {
     "name": "stdout",
     "output_type": "stream",
     "text": [
      "[download]  46.9% of ~ 637.86MiB at    2.45MiB/s ETA 06:20 (frag 94/203)"
     ]
    },
    {
     "name": "stderr",
     "output_type": "stream",
     "text": [
      "frame=   50 fps=0.3 q=-0.0 size=N/A time=00:00:48.00 bitrate=N/A dup=0 drop=1154 speed=0.261x    \r"
     ]
    },
    {
     "name": "stdout",
     "output_type": "stream",
     "text": [
      "[download]  47.0% of ~ 641.07MiB at    2.68MiB/s ETA 05:30 (frag 94/203)"
     ]
    },
    {
     "name": "stderr",
     "output_type": "stream",
     "text": [
      "frame=  124 fps=1.2 q=-0.0 size=N/A time=00:02:02.00 bitrate=N/A dup=0 drop=3545 speed=1.14x     \r"
     ]
    },
    {
     "name": "stdout",
     "output_type": "stream",
     "text": [
      "[download]  46.3% of ~ 649.64MiB at    2.76MiB/s ETA 05:09 (frag 95/203)"
     ]
    },
    {
     "name": "stderr",
     "output_type": "stream",
     "text": [
      "frame=  415 fps=1.3 q=-0.0 Lsize=N/A time=00:06:55.00 bitrate=N/A dup=0 drop=9913 speed= 1.3x    \n",
      "video:250845kB audio:0kB subtitle:0kB other streams:0kB global headers:0kB muxing overhead: unknown\n",
      "frame=    7 fps=0.3 q=-0.0 size=N/A time=00:00:05.00 bitrate=N/A dup=0 drop=131 speed=0.199x    \r"
     ]
    },
    {
     "name": "stdout",
     "output_type": "stream",
     "text": [
      "[download]  47.4% of ~ 638.63MiB at    2.31MiB/s ETA 04:09 (frag 95/203)"
     ]
    },
    {
     "name": "stderr",
     "output_type": "stream",
     "text": [
      "frame=   50 fps=0.3 q=-0.0 size=N/A time=00:00:48.00 bitrate=N/A dup=0 drop=1163 speed=0.26x     \r"
     ]
    },
    {
     "name": "stdout",
     "output_type": "stream",
     "text": [
      "[download]  47.0% of ~ 644.23MiB at    2.39MiB/s ETA 03:57 (frag 96/203)"
     ]
    },
    {
     "name": "stderr",
     "output_type": "stream",
     "text": [
      "frame=   18 fps=0.2 q=-0.0 size=N/A time=00:00:16.00 bitrate=N/A dup=0 drop=814 speed=0.141x     \r"
     ]
    },
    {
     "name": "stdout",
     "output_type": "stream",
     "text": [
      "[download]  47.8% of ~ 633.90MiB at    2.03MiB/s ETA 03:49 (frag 96/203)"
     ]
    },
    {
     "name": "stderr",
     "output_type": "stream",
     "text": [
      "frame=   91 fps=0.3 q=-0.0 size=N/A time=00:01:29.00 bitrate=N/A dup=0 drop=2149 speed=0.276x    \r"
     ]
    },
    {
     "name": "stdout",
     "output_type": "stream",
     "text": [
      "[download]  47.9% of ~ 635.86MiB at    2.05MiB/s ETA 03:32 (frag 96/203)"
     ]
    },
    {
     "name": "stderr",
     "output_type": "stream",
     "text": [
      "frame=  428 fps=1.4 q=-0.0 size=N/A time=00:07:06.00 bitrate=N/A dup=0 drop=10237 speed=1.39x    \r"
     ]
    },
    {
     "name": "stdout",
     "output_type": "stream",
     "text": [
      "[download]  48.1% of ~ 637.96MiB at    2.12MiB/s ETA 03:25 (frag 96/203)"
     ]
    },
    {
     "name": "stderr",
     "output_type": "stream",
     "text": [
      "frame=   91 fps=0.3 q=-0.0 size=N/A time=00:01:29.00 bitrate=N/A dup=0 drop=2153 speed=0.275x    \r"
     ]
    },
    {
     "name": "stdout",
     "output_type": "stream",
     "text": [
      "[download]  47.8% of ~ 642.14MiB at    2.12MiB/s ETA 03:25 (frag 96/203)"
     ]
    },
    {
     "name": "stderr",
     "output_type": "stream",
     "text": [
      "frame=  429 fps=1.4 q=-0.0 size=N/A time=00:07:07.00 bitrate=N/A dup=0 drop=10254 speed=1.39x    \r"
     ]
    },
    {
     "name": "stdout",
     "output_type": "stream",
     "text": [
      "[download]  47.1% of ~ 651.88MiB at    2.20MiB/s ETA 03:19 (frag 97/203)"
     ]
    },
    {
     "name": "stderr",
     "output_type": "stream",
     "text": [
      "frame=   19 fps=0.2 q=-0.0 size=N/A time=00:00:17.00 bitrate=N/A dup=0 drop=833 speed=0.147x     \r"
     ]
    },
    {
     "name": "stdout",
     "output_type": "stream",
     "text": [
      "[download]  48.3% of ~ 636.30MiB at    1.99MiB/s ETA 03:21 (frag 97/203)[youtube] Extracting URL: https://www.youtube.com/watch?v=yB7-bVpsOic\n",
      "[download]  48.3% of ~ 636.40MiB at    1.85MiB/s ETA 03:23 (frag 97/203)[youtube] yB7-bVpsOic: Downloading webpage\n",
      "[download]  48.3% of ~ 636.53MiB at    1.85MiB/s ETA 03:23 (frag 97/203)"
     ]
    },
    {
     "name": "stderr",
     "output_type": "stream",
     "text": [
      "frame=   51 fps=0.3 q=-0.0 size=N/A time=00:00:49.00 bitrate=N/A dup=0 drop=1183 speed=0.26x     \r"
     ]
    },
    {
     "name": "stdout",
     "output_type": "stream",
     "text": [
      "[download]  48.3% of ~ 640.41MiB at    2.32MiB/s ETA 03:03 (frag 97/203)"
     ]
    },
    {
     "name": "stderr",
     "output_type": "stream",
     "text": [
      "frame=  105 fps=0.3 q=-0.0 size=N/A time=00:01:43.00 bitrate=N/A dup=0 drop=2468 speed=0.321x    \r"
     ]
    },
    {
     "name": "stdout",
     "output_type": "stream",
     "text": [
      "[download]  47.9% of ~ 645.00MiB at    2.38MiB/s ETA 02:58 (frag 98/203)"
     ]
    },
    {
     "name": "stderr",
     "output_type": "stream",
     "text": [
      "frame=   19 fps=0.2 q=-0.0 size=N/A time=00:00:17.00 bitrate=N/A dup=0 drop=840 speed=0.146x    \r"
     ]
    },
    {
     "name": "stdout",
     "output_type": "stream",
     "text": [
      "[download]  48.8% of ~ 634.17MiB at    2.35MiB/s ETA 02:54 (frag 98/203)"
     ]
    },
    {
     "name": "stderr",
     "output_type": "stream",
     "text": [
      "frame=   51 fps=0.3 q=-0.0 size=N/A time=00:00:49.00 bitrate=N/A dup=0 drop=1188 speed=0.259x    \r"
     ]
    },
    {
     "name": "stdout",
     "output_type": "stream",
     "text": [
      "[download]  48.9% of ~ 636.21MiB at    2.26MiB/s ETA 02:42 (frag 98/203)[youtube] yB7-bVpsOic: Downloading ios player API JSON\n"
     ]
    },
    {
     "name": "stderr",
     "output_type": "stream",
     "text": [
      "frame=  432 fps=1.4 q=-0.0 size=N/A time=00:07:10.00 bitrate=N/A dup=0 drop=10338 speed=1.39x    \r"
     ]
    },
    {
     "name": "stdout",
     "output_type": "stream",
     "text": [
      "[download]  48.9% of ~ 638.26MiB at    2.35MiB/s ETA 02:39 (frag 98/203)"
     ]
    },
    {
     "name": "stderr",
     "output_type": "stream",
     "text": [
      "frame=  132 fps=1.2 q=-0.0 size=N/A time=00:02:10.00 bitrate=N/A dup=0 drop=3761 speed=1.15x     \r"
     ]
    },
    {
     "name": "stdout",
     "output_type": "stream",
     "text": [
      "[youtube] yB7-bVpsOic: Downloading android player API JSON\n",
      "[download]  48.3% of ~ 646.94MiB at    2.21MiB/s ETA 02:40 (frag 99/203)"
     ]
    },
    {
     "name": "stderr",
     "output_type": "stream",
     "text": [
      "frame=   19 fps=0.2 q=-0.0 size=N/A time=00:00:17.00 bitrate=N/A dup=0 drop=852 speed=0.145x    \r"
     ]
    },
    {
     "name": "stdout",
     "output_type": "stream",
     "text": [
      "[download]  49.3% of ~ 634.21MiB at    2.08MiB/s ETA 02:43 (frag 99/203)[youtube] yB7-bVpsOic: Downloading m3u8 information\n"
     ]
    },
    {
     "name": "stderr",
     "output_type": "stream",
     "text": [
      "frame=  105 fps=0.3 q=-0.0 size=N/A time=00:01:43.00 bitrate=N/A dup=0 drop=2485 speed=0.319x    \r"
     ]
    },
    {
     "name": "stdout",
     "output_type": "stream",
     "text": [
      "[download]  49.3% of ~ 635.16MiB at    2.31MiB/s ETA 02:36 (frag 99/203)"
     ]
    },
    {
     "name": "stderr",
     "output_type": "stream",
     "text": [
      "frame=   92 fps=0.3 q=-0.0 size=N/A time=00:01:30.00 bitrate=N/A dup=0 drop=2179 speed=0.275x    \r"
     ]
    },
    {
     "name": "stdout",
     "output_type": "stream",
     "text": [
      "[download]  49.3% of ~ 638.21MiB at    2.52MiB/s ETA 02:29 (frag 99/203)"
     ]
    },
    {
     "name": "stderr",
     "output_type": "stream",
     "text": [
      "frame=    9 fps=0.3 q=-0.0 size=N/A time=00:00:07.00 bitrate=N/A dup=0 drop=169 speed=0.221x     \r"
     ]
    },
    {
     "name": "stdout",
     "output_type": "stream",
     "text": [
      "[download]  48.9% of ~ 644.47MiB at    2.50MiB/s ETA 02:27 (frag 100/203)"
     ]
    },
    {
     "name": "stderr",
     "output_type": "stream",
     "text": [
      "frame=  134 fps=1.2 q=-0.0 size=N/A time=00:02:12.00 bitrate=N/A dup=0 drop=3836 speed=1.15x     \r"
     ]
    },
    {
     "name": "stdout",
     "output_type": "stream",
     "text": [
      "[download]  49.8% of ~ 633.48MiB at    2.23MiB/s ETA 02:30 (frag 100/203)"
     ]
    },
    {
     "name": "stderr",
     "output_type": "stream",
     "text": [
      "frame=  436 fps=1.4 q=-0.0 size=N/A time=00:07:14.00 bitrate=N/A dup=0 drop=10428 speed=1.39x    \r"
     ]
    },
    {
     "name": "stdout",
     "output_type": "stream",
     "text": [
      "[download]  49.9% of ~ 634.99MiB at    2.13MiB/s ETA 02:31 (frag 100/203)"
     ]
    },
    {
     "name": "stderr",
     "output_type": "stream",
     "text": [
      "frame=  106 fps=0.3 q=-0.0 size=N/A time=00:01:44.00 bitrate=N/A dup=0 drop=2505 speed=0.32x     \r"
     ]
    },
    {
     "name": "stdout",
     "output_type": "stream",
     "text": [
      "[download]  49.5% of ~ 640.48MiB at    1.97MiB/s ETA 02:36 (frag 101/203)"
     ]
    },
    {
     "name": "stderr",
     "output_type": "stream",
     "text": [
      "frame=   52 fps=0.3 q=-0.0 size=N/A time=00:00:50.00 bitrate=N/A dup=0 drop=1208 speed=0.26x     \r"
     ]
    },
    {
     "name": "stdout",
     "output_type": "stream",
     "text": [
      "[info] yB7-bVpsOic: Downloading 1 format(s): 248+251\n"
     ]
    },
    {
     "name": "stderr",
     "output_type": "stream",
     "text": [
      "frame=  106 fps=0.3 q=-0.0 size=N/A time=00:01:44.00 bitrate=N/A dup=0 drop=2511 speed=0.32x     \r"
     ]
    },
    {
     "name": "stdout",
     "output_type": "stream",
     "text": [
      "[download]  50.3% of ~ 630.99MiB at    1.72MiB/s ETA 02:46 (frag 101/203)"
     ]
    },
    {
     "name": "stderr",
     "output_type": "stream",
     "text": [
      "frame=  438 fps=1.4 q=-0.0 size=N/A time=00:07:16.00 bitrate=N/A dup=0 drop=10460 speed=1.39x    \r"
     ]
    },
    {
     "name": "stdout",
     "output_type": "stream",
     "text": [
      "[download]  50.3% of ~ 634.47MiB at    1.72MiB/s ETA 02:50 (frag 101/203)"
     ]
    },
    {
     "name": "stderr",
     "output_type": "stream",
     "text": [
      "frame=    9 fps=0.3 q=-0.0 size=N/A time=00:00:07.00 bitrate=N/A dup=0 drop=184 speed=0.204x     \r"
     ]
    },
    {
     "name": "stdout",
     "output_type": "stream",
     "text": [
      "[download]  49.9% of ~ 638.87MiB at    1.66MiB/s ETA 02:55 (frag 102/203)"
     ]
    },
    {
     "name": "stderr",
     "output_type": "stream",
     "text": [
      "frame=   20 fps=0.2 q=-0.0 size=N/A time=00:00:18.00 bitrate=N/A dup=0 drop=893 speed=0.148x     \r"
     ]
    },
    {
     "name": "stdout",
     "output_type": "stream",
     "text": [
      "[download]  50.7% of ~ 628.55MiB at    1.69MiB/s ETA 02:55 (frag 102/203)"
     ]
    },
    {
     "name": "stderr",
     "output_type": "stream",
     "text": [
      "frame=  107 fps=0.3 q=-0.0 size=N/A time=00:01:45.00 bitrate=N/A dup=0 drop=2522 speed=0.322x    \r"
     ]
    },
    {
     "name": "stdout",
     "output_type": "stream",
     "text": [
      "[download]  50.8% of ~ 629.01MiB at    1.71MiB/s ETA 02:55 (frag 102/203)[download] Destination: ./dataset_splited/yB7-bVpsOic/video_1080p.f248.webm\n",
      "[download]  50.8% of ~ 629.50MiB at    1.78MiB/s ETA 02:54 (frag 102/203)"
     ]
    },
    {
     "name": "stderr",
     "output_type": "stream",
     "text": [
      "frame=   20 fps=0.2 q=-0.0 size=N/A time=00:00:18.00 bitrate=N/A dup=0 drop=899 speed=0.147x    \r"
     ]
    },
    {
     "name": "stdout",
     "output_type": "stream",
     "text": [
      "[download]   0.2% of  243.26MiB at    1.59MiB/s ETA 02:320 (frag 102/203)"
     ]
    },
    {
     "name": "stderr",
     "output_type": "stream",
     "text": [
      "frame=  107 fps=0.3 q=-0.0 size=N/A time=00:01:45.00 bitrate=N/A dup=0 drop=2526 speed=0.321x    \r"
     ]
    },
    {
     "name": "stdout",
     "output_type": "stream",
     "text": [
      "[download]  50.1% of ~ 645.80MiB at    2.40MiB/s ETA 02:36 (frag 103/203)"
     ]
    },
    {
     "name": "stderr",
     "output_type": "stream",
     "text": [
      "frame=   53 fps=0.3 q=-0.0 size=N/A time=00:00:51.00 bitrate=N/A dup=0 drop=1223 speed=0.262x    \r"
     ]
    },
    {
     "name": "stdout",
     "output_type": "stream",
     "text": [
      "[download]   0.8% of  243.26MiB at    2.31MiB/s ETA 01:44"
     ]
    },
    {
     "name": "stderr",
     "output_type": "stream",
     "text": [
      "frame=  139 fps=1.2 q=-0.0 size=N/A time=00:02:17.00 bitrate=N/A dup=0 drop=3977 speed=1.15x     \r"
     ]
    },
    {
     "name": "stdout",
     "output_type": "stream",
     "text": [
      "[download]  51.2% of ~ 631.06MiB at    2.45MiB/s ETA 02:30 (frag 103/203)"
     ]
    },
    {
     "name": "stderr",
     "output_type": "stream",
     "text": [
      "frame=   94 fps=0.3 q=-0.0 size=N/A time=00:01:32.00 bitrate=N/A dup=0 drop=2213 speed=0.277x    \r"
     ]
    },
    {
     "name": "stdout",
     "output_type": "stream",
     "text": [
      "[download]  51.3% of ~ 632.01MiB at    2.58MiB/s ETA 02:23 (frag 103/203)"
     ]
    },
    {
     "name": "stderr",
     "output_type": "stream",
     "text": [
      "frame=  442 fps=1.4 q=-0.0 size=N/A time=00:07:20.00 bitrate=N/A dup=0 drop=10556 speed=1.39x    \r"
     ]
    },
    {
     "name": "stdout",
     "output_type": "stream",
     "text": [
      "[download]  51.4% of ~ 634.94MiB at    2.88MiB/s ETA 02:15 (frag 103/203)"
     ]
    },
    {
     "name": "stderr",
     "output_type": "stream",
     "text": [
      "frame=  107 fps=0.3 q=-0.0 size=N/A time=00:01:45.00 bitrate=N/A dup=0 drop=2536 speed=0.32x     \r"
     ]
    },
    {
     "name": "stdout",
     "output_type": "stream",
     "text": [
      "[download]  51.7% of ~ 630.56MiB at    2.81MiB/s ETA 02:10 (frag 104/203)"
     ]
    },
    {
     "name": "stderr",
     "output_type": "stream",
     "text": [
      "frame=  140 fps=1.2 q=-0.0 size=N/A time=00:02:18.00 bitrate=N/A dup=0 drop=4021 speed=1.15x     \r"
     ]
    },
    {
     "name": "stdout",
     "output_type": "stream",
     "text": [
      "[download]  51.7% of ~ 630.80MiB at    2.78MiB/s ETA 02:05 (frag 104/203)"
     ]
    },
    {
     "name": "stderr",
     "output_type": "stream",
     "text": [
      "frame=  108 fps=0.3 q=-0.0 size=N/A time=00:01:46.00 bitrate=N/A dup=0 drop=2540 speed=0.322x    \r"
     ]
    },
    {
     "name": "stdout",
     "output_type": "stream",
     "text": [
      "[download]  52.0% of ~ 634.43MiB at    3.35MiB/s ETA 01:54 (frag 104/203)"
     ]
    },
    {
     "name": "stderr",
     "output_type": "stream",
     "text": [
      "frame=   94 fps=0.3 q=-0.0 size=N/A time=00:01:32.00 bitrate=N/A dup=0 drop=2225 speed=0.276x    \r"
     ]
    },
    {
     "name": "stdout",
     "output_type": "stream",
     "text": [
      "[download]   4.2% of  243.26MiB at    1.04MiB/s ETA 03:438 (frag 105/203)"
     ]
    },
    {
     "name": "stderr",
     "output_type": "stream",
     "text": [
      "frame=  108 fps=0.3 q=-0.0 size=N/A time=00:01:46.00 bitrate=N/A dup=0 drop=2547 speed=0.322x    \r"
     ]
    },
    {
     "name": "stdout",
     "output_type": "stream",
     "text": [
      "[download]   4.9% of  243.26MiB at    4.49MiB/s ETA 00:51"
     ]
    },
    {
     "name": "stderr",
     "output_type": "stream",
     "text": [
      "frame=   21 fps=0.2 q=-0.0 size=N/A time=00:00:19.00 bitrate=N/A dup=0 drop=924 speed=0.152x     \r"
     ]
    },
    {
     "name": "stdout",
     "output_type": "stream",
     "text": [
      "[download]  52.2% of ~ 633.10MiB at    3.06MiB/s ETA 01:50 (frag 105/203)"
     ]
    },
    {
     "name": "stderr",
     "output_type": "stream",
     "text": [
      "frame=   95 fps=0.3 q=-0.0 size=N/A time=00:01:33.00 bitrate=N/A dup=0 drop=2230 speed=0.278x    \r"
     ]
    },
    {
     "name": "stdout",
     "output_type": "stream",
     "text": [
      "[download]   7.4% of  243.26MiB at    8.47MiB/s ETA 00:260 (frag 105/203)"
     ]
    },
    {
     "name": "stderr",
     "output_type": "stream",
     "text": [
      "frame=  445 fps=1.4 q=-0.0 size=N/A time=00:07:23.00 bitrate=N/A dup=0 drop=10637 speed=1.39x    \r"
     ]
    },
    {
     "name": "stdout",
     "output_type": "stream",
     "text": [
      "[download]   8.2% of  243.26MiB at    2.75MiB/s ETA 01:216 (frag 106/203)"
     ]
    },
    {
     "name": "stderr",
     "output_type": "stream",
     "text": [
      "frame=   54 fps=0.3 q=-0.0 size=N/A time=00:00:52.00 bitrate=N/A dup=0 drop=1249 speed=0.262x    \r"
     ]
    },
    {
     "name": "stdout",
     "output_type": "stream",
     "text": [
      "[download]  52.7% of ~ 631.05MiB at    2.63MiB/s ETA 01:51 (frag 106/203)"
     ]
    },
    {
     "name": "stderr",
     "output_type": "stream",
     "text": [
      "frame=   21 fps=0.2 q=-0.0 size=N/A time=00:00:19.00 bitrate=N/A dup=0 drop=932 speed=0.15x      \r"
     ]
    },
    {
     "name": "stdout",
     "output_type": "stream",
     "text": [
      "[download]  11.3% of  243.26MiB at    8.75MiB/s ETA 00:245 (frag 106/203)"
     ]
    },
    {
     "name": "stderr",
     "output_type": "stream",
     "text": [
      "frame=  109 fps=0.3 q=-0.0 size=N/A time=00:01:47.00 bitrate=N/A dup=0 drop=2564 speed=0.323x    \r"
     ]
    },
    {
     "name": "stdout",
     "output_type": "stream",
     "text": [
      "[download]  52.4% of ~ 638.11MiB at    2.57MiB/s ETA 01:54 (frag 107/203)Deleting original file ./dataset_splited/yB7-bVpsOic/video_480p.f244.webm (pass -k to keep)\n",
      "[download]  11.9% of  243.26MiB at  Unknown B/s ETA UnknownDeleting original file ./dataset_splited/yB7-bVpsOic/video_480p.f251.webm (pass -k to keep)\n",
      "[download]  11.9% of  243.26MiB at   89.49KiB/s ETA 42:25  "
     ]
    },
    {
     "name": "stderr",
     "output_type": "stream",
     "text": [
      "frame=   54 fps=0.3 q=-0.0 size=N/A time=00:00:52.00 bitrate=N/A dup=0 drop=1251 speed=0.261x    \r"
     ]
    },
    {
     "name": "stdout",
     "output_type": "stream",
     "text": [
      "[download]  53.2% of ~ 628.92MiB at    2.16MiB/s ETA 02:04 (frag 107/203)"
     ]
    },
    {
     "name": "stderr",
     "output_type": "stream",
     "text": [
      "frame=   95 fps=0.3 q=-0.0 size=N/A time=00:01:33.00 bitrate=N/A dup=0 drop=2246 speed=0.277x    \r"
     ]
    },
    {
     "name": "stdout",
     "output_type": "stream",
     "text": [
      "[download]  53.4% of ~ 630.57MiB at    2.06MiB/s ETA 02:09 (frag 107/203)"
     ]
    },
    {
     "name": "stderr",
     "output_type": "stream",
     "text": [
      "frame=  448 fps=1.4 q=-0.0 size=N/A time=00:07:26.00 bitrate=N/A dup=0 drop=10700 speed=1.39x    \r"
     ]
    },
    {
     "name": "stdout",
     "output_type": "stream",
     "text": [
      "[download]  15.2% of  243.26MiB at    8.08MiB/s ETA 00:254 (frag 107/203)"
     ]
    },
    {
     "name": "stderr",
     "output_type": "stream",
     "text": [
      "frame=   95 fps=0.3 q=-0.0 size=N/A time=00:01:33.00 bitrate=N/A dup=0 drop=2251 speed=0.276x    \r"
     ]
    },
    {
     "name": "stdout",
     "output_type": "stream",
     "text": [
      "[download]  15.9% of  243.26MiB at    3.84MiB/s ETA 00:53  (frag 108/203)"
     ]
    },
    {
     "name": "stderr",
     "output_type": "stream",
     "text": [
      "frame=   54 fps=0.3 q=-0.0 size=N/A time=00:00:52.00 bitrate=N/A dup=0 drop=1260 speed=0.259x    \r"
     ]
    },
    {
     "name": "stdout",
     "output_type": "stream",
     "text": [
      "[download]  53.7% of ~ 631.07MiB at    2.55MiB/s ETA 02:02 (frag 108/203)"
     ]
    },
    {
     "name": "stderr",
     "output_type": "stream",
     "text": [
      "frame=  146 fps=1.2 q=-0.0 size=N/A time=00:02:24.00 bitrate=N/A dup=0 drop=4193 speed=1.16x     \r"
     ]
    },
    {
     "name": "stdout",
     "output_type": "stream",
     "text": [
      "[download]  17.6% of  243.26MiB at    7.20MiB/s ETA 00:274 (frag 108/203)"
     ]
    },
    {
     "name": "stderr",
     "output_type": "stream",
     "text": [
      "frame=   12 fps=0.3 q=-0.0 size=N/A time=00:00:10.00 bitrate=N/A dup=0 drop=236 speed=0.238x     \r"
     ]
    },
    {
     "name": "stdout",
     "output_type": "stream",
     "text": [
      "[download]  53.7% of ~ 631.53MiB at    2.37MiB/s ETA 02:04 (frag 108/203)"
     ]
    },
    {
     "name": "stderr",
     "output_type": "stream",
     "text": [
      "frame=  147 fps=1.2 q=-0.0 size=N/A time=00:02:25.00 bitrate=N/A dup=0 drop=4210 speed=1.16x     \r"
     ]
    },
    {
     "name": "stdout",
     "output_type": "stream",
     "text": [
      "[download]  53.7% of ~ 638.52MiB at    2.71MiB/s ETA 01:59 (frag 108/203)"
     ]
    },
    {
     "name": "stderr",
     "output_type": "stream",
     "text": [
      "frame=   12 fps=0.3 q=-0.0 size=N/A time=00:00:10.00 bitrate=N/A dup=0 drop=238 speed=0.234x     \r"
     ]
    },
    {
     "name": "stdout",
     "output_type": "stream",
     "text": [
      "[download]  53.0% of ~ 647.16MiB at    2.82MiB/s ETA 01:57 (frag 109/203)"
     ]
    },
    {
     "name": "stderr",
     "output_type": "stream",
     "text": [
      "frame=  451 fps=1.4 q=-0.0 size=N/A time=00:07:29.00 bitrate=N/A dup=0 drop=10772 speed=1.39x    \r"
     ]
    },
    {
     "name": "stdout",
     "output_type": "stream",
     "text": [
      "[download]  20.8% of  243.26MiB at    5.04MiB/s ETA 00:38"
     ]
    },
    {
     "name": "stderr",
     "output_type": "stream",
     "text": [
      "frame=   12 fps=0.3 q=-0.0 size=N/A time=00:00:10.00 bitrate=N/A dup=0 drop=242 speed=0.231x     \r"
     ]
    },
    {
     "name": "stdout",
     "output_type": "stream",
     "text": [
      "[download]  54.2% of ~ 633.53MiB at    2.96MiB/s ETA 01:50 (frag 109/203)"
     ]
    },
    {
     "name": "stderr",
     "output_type": "stream",
     "text": [
      "frame=  451 fps=1.4 q=-0.0 size=N/A time=00:07:29.00 bitrate=N/A dup=0 drop=10792 speed=1.39x    \r"
     ]
    },
    {
     "name": "stdout",
     "output_type": "stream",
     "text": [
      "[download]  23.2% of  243.26MiB at    8.69MiB/s ETA 00:218 (frag 109/203)"
     ]
    },
    {
     "name": "stderr",
     "output_type": "stream",
     "text": [
      "frame=   12 fps=0.3 q=-0.0 size=N/A time=00:00:10.00 bitrate=N/A dup=0 drop=247 speed=0.228x     \r"
     ]
    },
    {
     "name": "stdout",
     "output_type": "stream",
     "text": [
      "[download]  23.9% of  243.26MiB at  263.52KiB/s ETA 12:00  (frag 110/203)"
     ]
    },
    {
     "name": "stderr",
     "output_type": "stream",
     "text": [
      "ffmpeg version 4.2.7-0ubuntu0.1 Copyright (c) 2000-2022 the FFmpeg developers604 speed=0.322x    \n",
      "  built with gcc 9 (Ubuntu 9.4.0-1ubuntu1~20.04.1)\n",
      "  configuration: --prefix=/usr --extra-version=0ubuntu0.1 --toolchain=hardened --libdir=/usr/lib/x86_64-linux-gnu --incdir=/usr/include/x86_64-linux-gnu --arch=amd64 --enable-gpl --disable-stripping --enable-avresample --disable-filter=resample --enable-avisynth --enable-gnutls --enable-ladspa --enable-libaom --enable-libass --enable-libbluray --enable-libbs2b --enable-libcaca --enable-libcdio --enable-libcodec2 --enable-libflite --enable-libfontconfig --enable-libfreetype --enable-libfribidi --enable-libgme --enable-libgsm --enable-libjack --enable-libmp3lame --enable-libmysofa --enable-libopenjpeg --enable-libopenmpt --enable-libopus --enable-libpulse --enable-librsvg --enable-librubberband --enable-libshine --enable-libsnappy --enable-libsoxr --enable-libspeex --enable-libssh --enable-libtheora --enable-libtwolame --enable-libvidstab --enable-libvorbis --enable-libvpx --enable-libwavpack --enable-libwebp --enable-libx265 --enable-libxml2 --enable-libxvid --enable-libzmq --enable-libzvbi --enable-lv2 --enable-omx --enable-openal --enable-opencl --enable-opengl --enable-sdl2 --enable-libdc1394 --enable-libdrm --enable-libiec61883 --enable-nvenc --enable-chromaprint --enable-frei0r --enable-libx264 --enable-shared\n",
      "  libavutil      56. 31.100 / 56. 31.100\n",
      "  libavcodec     58. 54.100 / 58. 54.100\n",
      "  libavformat    58. 29.100 / 58. 29.100\n",
      "  libavdevice    58.  8.100 / 58.  8.100\n",
      "  libavfilter     7. 57.100 /  7. 57.100\n",
      "  libavresample   4.  0.  0 /  4.  0.  0\n",
      "  libswscale      5.  5.100 /  5.  5.100\n",
      "  libswresample   3.  5.100 /  3.  5.100\n",
      "  libpostproc    55.  5.100 / 55.  5.100\n"
     ]
    },
    {
     "name": "stdout",
     "output_type": "stream",
     "text": [
      "[download]  24.3% of  243.26MiB at    3.76MiB/s ETA 00:483 (frag 110/203)"
     ]
    },
    {
     "name": "stderr",
     "output_type": "stream",
     "text": [
      "frame=   22 fps=0.2 q=-0.0 size=N/A time=00:00:20.00 bitrate=N/A dup=0 drop=973 speed=0.152x     \r"
     ]
    },
    {
     "name": "stdout",
     "output_type": "stream",
     "text": [
      "[download]  54.8% of ~ 632.71MiB at    2.42MiB/s ETA 01:55 (frag 110/203)"
     ]
    },
    {
     "name": "stderr",
     "output_type": "stream",
     "text": [
      "Input #0, matroska,webm, from './dataset_splited/yB7-bVpsOic/video_480p.webm':823 speed=1.39x    \n",
      "  Metadata:\n",
      "    ENCODER         : Lavf58.29.100\n",
      "  Duration: 00:13:03.04, start: -0.007000, bitrate: 650 kb/s\n",
      "    Stream #0:0(eng): Video: vp9 (Profile 0), yuv420p(tv, bt709), 854x480, SAR 1:1 DAR 427:240, 29.97 fps, 29.97 tbr, 1k tbn, 1k tbc (default)\n",
      "    Metadata:\n",
      "      DURATION        : 00:13:03.015000000\n",
      "    Stream #0:1(eng): Audio: opus, 48000 Hz, stereo, fltp (default)\n",
      "    Metadata:\n",
      "      DURATION        : 00:13:03.041000000\n",
      "Stream mapping:\n",
      "  Stream #0:0 -> #0:0 (vp9 (native) -> png (native))\n",
      "Press [q] to stop, [?] for help\n",
      "frame=   55 fps=0.3 q=-0.0 size=N/A time=00:00:53.00 bitrate=N/A dup=0 drop=1275 speed=0.26x     \r"
     ]
    },
    {
     "name": "stdout",
     "output_type": "stream",
     "text": [
      "[download]  54.9% of ~ 635.46MiB at    2.85MiB/s ETA 01:50 (frag 110/203)"
     ]
    },
    {
     "name": "stderr",
     "output_type": "stream",
     "text": [
      "Output #0, image2, to './dataset_splited/yB7-bVpsOic/frames_480p/frame-%04d.png':\n",
      "  Metadata:\n",
      "    encoder         : Lavf58.29.100\n",
      "    Stream #0:0(eng): Video: png, rgb24, 854x480 [SAR 1:1 DAR 427:240], q=2-31, 200 kb/s, 1 fps, 1 tbn, 1 tbc (default)\n",
      "    Metadata:\n",
      "      DURATION        : 00:13:03.015000000\n",
      "      encoder         : Lavc58.54.100 png\n",
      "frame=  151 fps=1.2 q=-0.0 size=N/A time=00:02:29.00 bitrate=N/A dup=0 drop=4326 speed=1.17x     \r"
     ]
    },
    {
     "name": "stdout",
     "output_type": "stream",
     "text": [
      "[download]  27.2% of  243.26MiB at    8.39MiB/s ETA 00:217 (frag 111/203)"
     ]
    },
    {
     "name": "stderr",
     "output_type": "stream",
     "text": [
      "frame=  454 fps=1.4 q=-0.0 size=N/A time=00:07:32.00 bitrate=N/A dup=0 drop=10850 speed=1.39x    \r"
     ]
    },
    {
     "name": "stdout",
     "output_type": "stream",
     "text": [
      "[download]  55.2% of ~ 632.68MiB at    3.09MiB/s ETA 01:45 (frag 111/203)"
     ]
    },
    {
     "name": "stderr",
     "output_type": "stream",
     "text": [
      "frame=   55 fps=0.3 q=-0.0 size=N/A time=00:00:53.00 bitrate=N/A dup=0 drop=1280 speed=0.259x    \r"
     ]
    },
    {
     "name": "stdout",
     "output_type": "stream",
     "text": [
      "[download]  55.2% of ~ 632.91MiB at    2.52MiB/s ETA 01:49 (frag 111/203)"
     ]
    },
    {
     "name": "stderr",
     "output_type": "stream",
     "text": [
      "frame=    2 fps=1.9 q=0.0 size=N/A time=00:00:00.00 bitrate=N/A dup=0 drop=22 speed=   0x        \r"
     ]
    },
    {
     "name": "stdout",
     "output_type": "stream",
     "text": [
      "[download]  55.3% of ~ 633.59MiB at    2.42MiB/s ETA 01:51 (frag 111/203)"
     ]
    },
    {
     "name": "stderr",
     "output_type": "stream",
     "text": [
      "frame=  111 fps=0.3 q=-0.0 size=N/A time=00:01:49.00 bitrate=N/A dup=0 drop=2617 speed=0.323x    \r"
     ]
    },
    {
     "name": "stdout",
     "output_type": "stream",
     "text": [
      "[download]  55.5% of ~ 636.31MiB at    2.82MiB/s ETA 01:47 (frag 111/203)"
     ]
    },
    {
     "name": "stderr",
     "output_type": "stream",
     "text": [
      "frame=  455 fps=1.4 q=-0.0 size=N/A time=00:07:33.00 bitrate=N/A dup=0 drop=10887 speed=1.39x    \r"
     ]
    },
    {
     "name": "stdout",
     "output_type": "stream",
     "text": [
      "[download]  31.8% of  243.26MiB at    8.94MiB/s ETA 00:185 (frag 111/203)"
     ]
    },
    {
     "name": "stderr",
     "output_type": "stream",
     "text": [
      "frame=  111 fps=0.3 q=-0.0 size=N/A time=00:01:49.00 bitrate=N/A dup=0 drop=2624 speed=0.322x    \r"
     ]
    },
    {
     "name": "stdout",
     "output_type": "stream",
     "text": [
      "[download]  31.8% of  243.26MiB at  240.47KiB/s ETA 11:47  (frag 112/203)"
     ]
    },
    {
     "name": "stderr",
     "output_type": "stream",
     "text": [
      "frame=   22 fps=0.2 q=-0.0 size=N/A time=00:00:20.00 bitrate=N/A dup=0 drop=993 speed=0.15x      \r"
     ]
    },
    {
     "name": "stdout",
     "output_type": "stream",
     "text": [
      "[download]  55.7% of ~ 634.90MiB at    3.01MiB/s ETA 01:43 (frag 112/203)"
     ]
    },
    {
     "name": "stderr",
     "output_type": "stream",
     "text": [
      "frame=   97 fps=0.3 q=-0.0 size=N/A time=00:01:35.00 bitrate=N/A dup=0 drop=2285 speed=0.277x    \r"
     ]
    },
    {
     "name": "stdout",
     "output_type": "stream",
     "text": [
      "[download]  55.7% of ~ 635.32MiB at    2.97MiB/s ETA 01:42 (frag 112/203)"
     ]
    },
    {
     "name": "stderr",
     "output_type": "stream",
     "text": [
      "frame=    3 fps=1.2 q=-0.0 size=N/A time=00:00:01.00 bitrate=N/A dup=0 drop=42 speed=0.395x     \r"
     ]
    },
    {
     "name": "stdout",
     "output_type": "stream",
     "text": [
      "[download]  55.8% of ~ 636.67MiB at    3.10MiB/s ETA 01:40 (frag 112/203)"
     ]
    },
    {
     "name": "stderr",
     "output_type": "stream",
     "text": [
      "frame=  457 fps=1.4 q=-0.0 size=N/A time=00:07:35.00 bitrate=N/A dup=0 drop=10921 speed=1.39x    \r"
     ]
    },
    {
     "name": "stdout",
     "output_type": "stream",
     "text": [
      "[download]  55.7% of ~ 642.05MiB at    3.43MiB/s ETA 01:35 (frag 112/203)"
     ]
    },
    {
     "name": "stderr",
     "output_type": "stream",
     "text": [
      "frame=    3 fps=1.0 q=-0.0 size=N/A time=00:00:01.00 bitrate=N/A dup=0 drop=51 speed=0.329x      \r"
     ]
    },
    {
     "name": "stdout",
     "output_type": "stream",
     "text": [
      "[download]  55.0% of ~ 650.62MiB at    3.32MiB/s ETA 01:35 (frag 113/203)"
     ]
    },
    {
     "name": "stderr",
     "output_type": "stream",
     "text": [
      "frame=    4 fps=1.1 q=-0.0 size=N/A time=00:00:02.00 bitrate=N/A dup=0 drop=66 speed=0.561x      \r"
     ]
    },
    {
     "name": "stdout",
     "output_type": "stream",
     "text": [
      "[download]  56.2% of ~ 637.12MiB at    3.11MiB/s ETA 01:34 (frag 113/203)"
     ]
    },
    {
     "name": "stderr",
     "output_type": "stream",
     "text": [
      "frame=   56 fps=0.3 q=-0.0 size=N/A time=00:00:54.00 bitrate=N/A dup=0 drop=1297 speed=0.261x    \r"
     ]
    },
    {
     "name": "stdout",
     "output_type": "stream",
     "text": [
      "[download]  56.2% of ~ 637.99MiB at    3.06MiB/s ETA 01:33 (frag 113/203)"
     ]
    },
    {
     "name": "stderr",
     "output_type": "stream",
     "text": [
      "frame=  156 fps=1.2 q=-0.0 size=N/A time=00:02:34.00 bitrate=N/A dup=0 drop=4457 speed=1.17x     \r"
     ]
    },
    {
     "name": "stdout",
     "output_type": "stream",
     "text": [
      "[download]  56.3% of ~ 638.88MiB at    3.02MiB/s ETA 01:34 (frag 113/203)"
     ]
    },
    {
     "name": "stderr",
     "output_type": "stream",
     "text": [
      "frame=   13 fps=0.3 q=-0.0 size=N/A time=00:00:11.00 bitrate=N/A dup=0 drop=278 speed=0.224x     \r"
     ]
    },
    {
     "name": "stdout",
     "output_type": "stream",
     "text": [
      "[download]  56.3% of ~ 640.67MiB at    2.91MiB/s ETA 01:35 (frag 113/203)"
     ]
    },
    {
     "name": "stderr",
     "output_type": "stream",
     "text": [
      "frame=   97 fps=0.3 q=-0.0 size=N/A time=00:01:35.00 bitrate=N/A dup=0 drop=2297 speed=0.276x    \r"
     ]
    },
    {
     "name": "stdout",
     "output_type": "stream",
     "text": [
      "[download]  55.7% of ~ 647.40MiB at    2.84MiB/s ETA 01:36 (frag 114/203)"
     ]
    },
    {
     "name": "stderr",
     "output_type": "stream",
     "text": [
      "frame=   56 fps=0.3 q=-0.0 size=N/A time=00:00:54.00 bitrate=N/A dup=0 drop=1304 speed=0.259x    \r"
     ]
    },
    {
     "name": "stdout",
     "output_type": "stream",
     "text": [
      "[download]  39.9% of  243.26MiB at  164.36KiB/s ETA 15:10   "
     ]
    },
    {
     "name": "stderr",
     "output_type": "stream",
     "text": [
      "frame=   22 fps=0.2 q=-0.0 size=N/A time=00:00:20.00 bitrate=N/A dup=0 drop=1015 speed=0.146x    \r"
     ]
    },
    {
     "name": "stdout",
     "output_type": "stream",
     "text": [
      "[download]  56.7% of ~ 636.67MiB at    2.55MiB/s ETA 01:41 (frag 114/203)"
     ]
    },
    {
     "name": "stderr",
     "output_type": "stream",
     "text": [
      "frame=  112 fps=0.3 q=-0.0 size=N/A time=00:01:50.00 bitrate=N/A dup=0 drop=2653 speed=0.322x    \r"
     ]
    },
    {
     "name": "stdout",
     "output_type": "stream",
     "text": [
      "[download]  56.7% of ~ 636.78MiB at    1.73MiB/s ETA 02:11 (frag 114/203)"
     ]
    },
    {
     "name": "stderr",
     "output_type": "stream",
     "text": [
      "frame=  460 fps=1.4 q=-0.0 size=N/A time=00:07:38.00 bitrate=N/A dup=0 drop=10998 speed=1.38x    \r"
     ]
    },
    {
     "name": "stdout",
     "output_type": "stream",
     "text": [
      "[download]  56.8% of ~ 638.43MiB at    1.56MiB/s ETA 02:26 (frag 114/203)"
     ]
    },
    {
     "name": "stderr",
     "output_type": "stream",
     "text": [
      "frame=    6 fps=0.9 q=-0.0 size=N/A time=00:00:04.00 bitrate=N/A dup=0 drop=128 speed=0.633x     \r"
     ]
    },
    {
     "name": "stdout",
     "output_type": "stream",
     "text": [
      "[download]  57.1% of ~ 634.43MiB at    1.63MiB/s ETA 02:29 (frag 115/203)"
     ]
    },
    {
     "name": "stderr",
     "output_type": "stream",
     "text": [
      "frame=   56 fps=0.3 q=-0.0 size=N/A time=00:00:54.00 bitrate=N/A dup=0 drop=1310 speed=0.257x    \r"
     ]
    },
    {
     "name": "stdout",
     "output_type": "stream",
     "text": [
      "[download]  44.0% of  243.26MiB at    5.85MiB/s ETA 00:231 (frag 115/203)"
     ]
    },
    {
     "name": "stderr",
     "output_type": "stream",
     "text": [
      "frame=   14 fps=0.3 q=-0.0 size=N/A time=00:00:12.00 bitrate=N/A dup=0 drop=289 speed=0.233x     \r"
     ]
    },
    {
     "name": "stdout",
     "output_type": "stream",
     "text": [
      "[download]  44.0% of  243.26MiB at  101.27KiB/s ETA 22:580 (frag 115/203)"
     ]
    },
    {
     "name": "stderr",
     "output_type": "stream",
     "text": [
      "frame=    7 fps=1.0 q=-0.0 size=N/A time=00:00:05.00 bitrate=N/A dup=0 drop=150 speed=0.681x     \r"
     ]
    },
    {
     "name": "stdout",
     "output_type": "stream",
     "text": [
      "[download]  57.3% of ~ 636.17MiB at    1.25MiB/s ETA 03:07 (frag 115/203)"
     ]
    },
    {
     "name": "stderr",
     "output_type": "stream",
     "text": [
      "frame=  113 fps=0.3 q=-0.0 size=N/A time=00:01:51.00 bitrate=N/A dup=0 drop=2664 speed=0.323x    \r"
     ]
    },
    {
     "name": "stdout",
     "output_type": "stream",
     "text": [
      "[download]  57.5% of ~ 637.92MiB at    1.49MiB/s ETA 03:02 (frag 115/203)"
     ]
    },
    {
     "name": "stderr",
     "output_type": "stream",
     "text": [
      "frame=  113 fps=0.3 q=-0.0 size=N/A time=00:01:51.00 bitrate=N/A dup=0 drop=2668 speed=0.323x    \r"
     ]
    },
    {
     "name": "stdout",
     "output_type": "stream",
     "text": [
      "[download]  56.5% of ~ 648.80MiB at    1.84MiB/s ETA 02:51 (frag 116/203)"
     ]
    },
    {
     "name": "stderr",
     "output_type": "stream",
     "text": [
      "frame=   23 fps=0.2 q=-0.0 size=N/A time=00:00:21.00 bitrate=N/A dup=0 drop=1034 speed=0.15x    \r"
     ]
    },
    {
     "name": "stdout",
     "output_type": "stream",
     "text": [
      "[download]  57.6% of ~ 636.13MiB at    1.89MiB/s ETA 02:48 (frag 116/203)"
     ]
    },
    {
     "name": "stderr",
     "output_type": "stream",
     "text": [
      "frame=  160 fps=1.2 q=-0.0 size=N/A time=00:02:38.00 bitrate=N/A dup=0 drop=4574 speed=1.16x     \r"
     ]
    },
    {
     "name": "stdout",
     "output_type": "stream",
     "text": [
      "[download]  57.6% of ~ 636.18MiB at    1.97MiB/s ETA 02:41 (frag 116/203)"
     ]
    },
    {
     "name": "stderr",
     "output_type": "stream",
     "text": [
      "frame=    8 fps=0.9 q=-0.0 size=N/A time=00:00:06.00 bitrate=N/A dup=0 drop=192 speed=0.671x    \r"
     ]
    },
    {
     "name": "stdout",
     "output_type": "stream",
     "text": [
      "[download]  48.0% of  243.26MiB at  189.13KiB/s ETA 11:256 (frag 116/203)"
     ]
    },
    {
     "name": "stderr",
     "output_type": "stream",
     "text": [
      "frame=   98 fps=0.3 q=-0.0 size=N/A time=00:01:36.00 bitrate=N/A dup=0 drop=2317 speed=0.275x    \r"
     ]
    },
    {
     "name": "stdout",
     "output_type": "stream",
     "text": [
      "[download]  48.4% of  243.26MiB at    2.26MiB/s ETA 00:552 (frag 116/203)"
     ]
    },
    {
     "name": "stderr",
     "output_type": "stream",
     "text": [
      "frame=   14 fps=0.3 q=-0.0 size=N/A time=00:00:12.00 bitrate=N/A dup=0 drop=300 speed=0.222x     \r"
     ]
    },
    {
     "name": "stdout",
     "output_type": "stream",
     "text": [
      "[download]  48.8% of  243.26MiB at    3.45MiB/s ETA 00:36"
     ]
    },
    {
     "name": "stderr",
     "output_type": "stream",
     "text": [
      "frame=  161 fps=1.2 q=-0.0 size=N/A time=00:02:39.00 bitrate=N/A dup=0 drop=4604 speed=1.16x     \r"
     ]
    },
    {
     "name": "stdout",
     "output_type": "stream",
     "text": [
      "[download]  57.7% of ~ 643.07MiB at    2.45MiB/s ETA 02:21 (frag 116/203)"
     ]
    },
    {
     "name": "stderr",
     "output_type": "stream",
     "text": [
      "frame=   57 fps=0.3 q=-0.0 size=N/A time=00:00:55.00 bitrate=N/A dup=0 drop=1324 speed=0.257x    \r"
     ]
    },
    {
     "name": "stdout",
     "output_type": "stream",
     "text": [
      "[download]  57.0% of ~ 651.46MiB at    2.58MiB/s ETA 02:17 (frag 117/203)"
     ]
    },
    {
     "name": "stderr",
     "output_type": "stream",
     "text": [
      "frame=  464 fps=1.4 q=-0.0 size=N/A time=00:07:42.00 bitrate=N/A dup=0 drop=11104 speed=1.38x    \r"
     ]
    },
    {
     "name": "stdout",
     "output_type": "stream",
     "text": [
      "[download]  51.2% of  243.26MiB at    5.55MiB/s ETA 00:21"
     ]
    },
    {
     "name": "stderr",
     "output_type": "stream",
     "text": [
      "frame=  161 fps=1.2 q=-0.0 size=N/A time=00:02:39.00 bitrate=N/A dup=0 drop=4618 speed=1.16x    \r"
     ]
    },
    {
     "name": "stdout",
     "output_type": "stream",
     "text": [
      "[download]  51.9% of  243.26MiB at  Unknown B/s ETA Unknown(frag 117/203)"
     ]
    },
    {
     "name": "stderr",
     "output_type": "stream",
     "text": [
      "frame=   23 fps=0.2 q=-0.0 size=N/A time=00:00:21.00 bitrate=N/A dup=0 drop=1052 speed=0.148x    \r"
     ]
    },
    {
     "name": "stdout",
     "output_type": "stream",
     "text": [
      "[download]  52.1% of  243.26MiB at  977.52KiB/s ETA 02:021 (frag 117/203)"
     ]
    },
    {
     "name": "stderr",
     "output_type": "stream",
     "text": [
      "frame=  114 fps=0.3 q=-0.0 size=N/A time=00:01:52.00 bitrate=N/A dup=0 drop=2687 speed=0.323x    \r"
     ]
    },
    {
     "name": "stdout",
     "output_type": "stream",
     "text": [
      "[download]  58.1% of ~ 641.78MiB at    2.08MiB/s ETA 02:17 (frag 117/203)"
     ]
    },
    {
     "name": "stderr",
     "output_type": "stream",
     "text": [
      "frame=  465 fps=1.4 q=-0.0 size=N/A time=00:07:43.00 bitrate=N/A dup=0 drop=11131 speed=1.38x    \r"
     ]
    },
    {
     "name": "stdout",
     "output_type": "stream",
     "text": [
      "[download]  57.8% of ~ 645.42MiB at    2.17MiB/s ETA 02:15 (frag 118/203)"
     ]
    },
    {
     "name": "stderr",
     "output_type": "stream",
     "text": [
      "frame=   57 fps=0.3 q=-0.0 size=N/A time=00:00:55.00 bitrate=N/A dup=0 drop=1332 speed=0.256x    \r"
     ]
    },
    {
     "name": "stdout",
     "output_type": "stream",
     "text": [
      "[download]  58.6% of ~ 636.54MiB at    2.19MiB/s ETA 02:12 (frag 118/203)"
     ]
    },
    {
     "name": "stderr",
     "output_type": "stream",
     "text": [
      "frame=   11 fps=0.9 q=-0.0 size=N/A time=00:00:09.00 bitrate=N/A dup=0 drop=259 speed=0.766x     \r"
     ]
    },
    {
     "name": "stdout",
     "output_type": "stream",
     "text": [
      "[download]  58.7% of ~ 637.34MiB at    2.28MiB/s ETA 02:07 (frag 118/203)"
     ]
    },
    {
     "name": "stderr",
     "output_type": "stream",
     "text": [
      "frame=  114 fps=0.3 q=-0.0 size=N/A time=00:01:52.00 bitrate=N/A dup=0 drop=2694 speed=0.322x    \r"
     ]
    },
    {
     "name": "stdout",
     "output_type": "stream",
     "text": [
      "[download]  56.2% of  243.26MiB at    2.02MiB/s ETA 00:525 (frag 118/203)"
     ]
    },
    {
     "name": "stderr",
     "output_type": "stream",
     "text": [
      "frame=   57 fps=0.3 q=-0.0 size=N/A time=00:00:55.00 bitrate=N/A dup=0 drop=1338 speed=0.255x    \r"
     ]
    },
    {
     "name": "stdout",
     "output_type": "stream",
     "text": [
      "[download]  56.8% of  243.26MiB at    3.96MiB/s ETA 00:263 (frag 118/203)"
     ]
    },
    {
     "name": "stderr",
     "output_type": "stream",
     "text": [
      "frame=   23 fps=0.2 q=-0.0 size=N/A time=00:00:21.00 bitrate=N/A dup=0 drop=1067 speed=0.146x    \r"
     ]
    },
    {
     "name": "stdout",
     "output_type": "stream",
     "text": [
      "[download]  57.9% of ~ 651.49MiB at    2.32MiB/s ETA 02:02 (frag 119/203)"
     ]
    },
    {
     "name": "stderr",
     "output_type": "stream",
     "text": [
      "frame=   99 fps=0.3 q=-0.0 size=N/A time=00:01:37.00 bitrate=N/A dup=0 drop=2336 speed=0.275x    \r"
     ]
    },
    {
     "name": "stdout",
     "output_type": "stream",
     "text": [
      "[download]  59.3% of  243.26MiB at    8.01MiB/s ETA 00:12"
     ]
    },
    {
     "name": "stderr",
     "output_type": "stream",
     "text": [
      "frame=  164 fps=1.2 q=-0.0 size=N/A time=00:02:42.00 bitrate=N/A dup=0 drop=4688 speed=1.16x     \r"
     ]
    },
    {
     "name": "stdout",
     "output_type": "stream",
     "text": [
      "[download]  59.9% of  243.26MiB at   89.20KiB/s ETA 18:381 (frag 119/203)"
     ]
    },
    {
     "name": "stderr",
     "output_type": "stream",
     "text": [
      "frame=  164 fps=1.2 q=-0.0 size=N/A time=00:02:42.00 bitrate=N/A dup=0 drop=4704 speed=1.15x     \r"
     ]
    },
    {
     "name": "stdout",
     "output_type": "stream",
     "text": [
      "[download]  60.8% of  243.26MiB at    4.27MiB/s ETA 00:226 (frag 119/203)"
     ]
    },
    {
     "name": "stderr",
     "output_type": "stream",
     "text": [
      "frame=  115 fps=0.3 q=-0.0 size=N/A time=00:01:53.00 bitrate=N/A dup=0 drop=2708 speed=0.323x    \r"
     ]
    },
    {
     "name": "stdout",
     "output_type": "stream",
     "text": [
      "[download]  58.5% of ~ 651.89MiB at    2.67MiB/s ETA 01:52 (frag 120/203)"
     ]
    },
    {
     "name": "stderr",
     "output_type": "stream",
     "text": [
      "frame=   58 fps=0.3 q=-0.0 size=N/A time=00:00:56.00 bitrate=N/A dup=0 drop=1349 speed=0.257x    \r"
     ]
    },
    {
     "name": "stdout",
     "output_type": "stream",
     "text": [
      "[download]  63.2% of  243.26MiB at    7.12MiB/s ETA 00:12"
     ]
    },
    {
     "name": "stderr",
     "output_type": "stream",
     "text": [
      "frame=  165 fps=1.2 q=-0.0 size=N/A time=00:02:43.00 bitrate=N/A dup=0 drop=4723 speed=1.15x     \r"
     ]
    },
    {
     "name": "stdout",
     "output_type": "stream",
     "text": [
      "[download]  64.0% of  243.26MiB at  257.76KiB/s ETA 05:477 (frag 120/203)"
     ]
    },
    {
     "name": "stderr",
     "output_type": "stream",
     "text": [
      "frame=   15 fps=0.3 q=-0.0 size=N/A time=00:00:13.00 bitrate=N/A dup=0 drop=329 speed=0.219x     \r"
     ]
    },
    {
     "name": "stdout",
     "output_type": "stream",
     "text": [
      "[download]  59.9% of ~ 643.28MiB at    3.08MiB/s ETA 01:41 (frag 120/203)"
     ]
    },
    {
     "name": "stderr",
     "output_type": "stream",
     "text": [
      "frame=  165 fps=1.2 q=-0.0 size=N/A time=00:02:43.00 bitrate=N/A dup=0 drop=4738 speed=1.15x     \r"
     ]
    },
    {
     "name": "stdout",
     "output_type": "stream",
     "text": [
      "[download]  58.9% of ~ 654.38MiB at    3.17MiB/s ETA 01:37 (frag 121/203)"
     ]
    },
    {
     "name": "stderr",
     "output_type": "stream",
     "text": [
      "frame=   16 fps=0.3 q=-0.0 size=N/A time=00:00:14.00 bitrate=N/A dup=0 drop=332 speed=0.233x     \r"
     ]
    },
    {
     "name": "stdout",
     "output_type": "stream",
     "text": [
      "[download]  67.3% of  243.26MiB at    9.19MiB/s ETA 00:08"
     ]
    },
    {
     "name": "stderr",
     "output_type": "stream",
     "text": [
      "frame=   24 fps=0.2 q=-0.0 size=N/A time=00:00:22.00 bitrate=N/A dup=0 drop=1086 speed=0.149x    \r"
     ]
    },
    {
     "name": "stdout",
     "output_type": "stream",
     "text": [
      "[download]  68.1% of  243.26MiB at  109.43KiB/s ETA 12:063 (frag 121/203)"
     ]
    },
    {
     "name": "stderr",
     "output_type": "stream",
     "text": [
      "frame=   24 fps=0.2 q=-0.0 size=N/A time=00:00:22.00 bitrate=N/A dup=0 drop=1090 speed=0.149x    \r"
     ]
    },
    {
     "name": "stdout",
     "output_type": "stream",
     "text": [
      "[download]  68.9% of  243.26MiB at    4.40MiB/s ETA 00:170 (frag 121/203)"
     ]
    },
    {
     "name": "stderr",
     "output_type": "stream",
     "text": [
      "frame=  100 fps=0.3 q=-0.0 size=N/A time=00:01:38.00 bitrate=N/A dup=0 drop=2351 speed=0.275x    \r"
     ]
    },
    {
     "name": "stdout",
     "output_type": "stream",
     "text": [
      "[download]  69.7% of  243.26MiB at    5.67MiB/s ETA 00:130 (frag 122/203)"
     ]
    },
    {
     "name": "stderr",
     "output_type": "stream",
     "text": [
      "frame=   24 fps=0.2 q=-0.0 size=N/A time=00:00:22.00 bitrate=N/A dup=0 drop=1093 speed=0.148x    \r"
     ]
    },
    {
     "name": "stdout",
     "output_type": "stream",
     "text": [
      "[download]  60.6% of ~ 639.76MiB at    2.63MiB/s ETA 01:35 (frag 122/203)"
     ]
    },
    {
     "name": "stderr",
     "output_type": "stream",
     "text": [
      "frame=  115 fps=0.3 q=-0.0 size=N/A time=00:01:53.00 bitrate=N/A dup=0 drop=2730 speed=0.32x    \r"
     ]
    },
    {
     "name": "stdout",
     "output_type": "stream",
     "text": [
      "[download]  60.6% of ~ 640.17MiB at    2.42MiB/s ETA 01:40 (frag 122/203)"
     ]
    },
    {
     "name": "stderr",
     "output_type": "stream",
     "text": [
      "frame=   59 fps=0.3 q=-0.0 size=N/A time=00:00:57.00 bitrate=N/A dup=0 drop=1367 speed=0.258x    \r"
     ]
    },
    {
     "name": "stdout",
     "output_type": "stream",
     "text": [
      "[download]  72.0% of  243.26MiB at    6.02MiB/s ETA 00:118 (frag 122/203)"
     ]
    },
    {
     "name": "stderr",
     "output_type": "stream",
     "text": [
      "frame=   16 fps=0.3 q=-0.0 size=N/A time=00:00:14.00 bitrate=N/A dup=0 drop=343 speed=0.224x     \r"
     ]
    },
    {
     "name": "stdout",
     "output_type": "stream",
     "text": [
      "[download]  72.0% of  243.26MiB at  238.19KiB/s ETA 04:52  "
     ]
    },
    {
     "name": "stderr",
     "output_type": "stream",
     "text": [
      "frame=   59 fps=0.3 q=-0.0 size=N/A time=00:00:57.00 bitrate=N/A dup=0 drop=1370 speed=0.257x    \r"
     ]
    },
    {
     "name": "stdout",
     "output_type": "stream",
     "text": [
      "[download]  60.0% of ~ 653.49MiB at    2.25MiB/s ETA 01:45 (frag 123/203)"
     ]
    },
    {
     "name": "stderr",
     "output_type": "stream",
     "text": [
      "frame=   16 fps=0.3 q=-0.0 size=N/A time=00:00:14.00 bitrate=N/A dup=0 drop=347 speed=0.222x     \r"
     ]
    },
    {
     "name": "stdout",
     "output_type": "stream",
     "text": [
      "[download]  73.6% of  243.26MiB at    5.16MiB/s ETA 00:12"
     ]
    },
    {
     "name": "stderr",
     "output_type": "stream",
     "text": [
      "frame=  116 fps=0.3 q=-0.0 size=N/A time=00:01:54.00 bitrate=N/A dup=0 drop=2742 speed=0.321x    \r"
     ]
    },
    {
     "name": "stdout",
     "output_type": "stream",
     "text": [
      "[download]  61.1% of ~ 641.42MiB at    2.21MiB/s ETA 01:47 (frag 123/203)"
     ]
    },
    {
     "name": "stderr",
     "output_type": "stream",
     "text": [
      "frame=   18 fps=1.0 q=-0.0 size=N/A time=00:00:16.00 bitrate=N/A dup=0 drop=483 speed=0.848x     \r"
     ]
    },
    {
     "name": "stdout",
     "output_type": "stream",
     "text": [
      "[download]  76.1% of  243.26MiB at    7.45MiB/s ETA 00:078 (frag 123/203)"
     ]
    },
    {
     "name": "stderr",
     "output_type": "stream",
     "text": [
      "frame=  116 fps=0.3 q=-0.0 size=N/A time=00:01:54.00 bitrate=N/A dup=0 drop=2748 speed=0.321x    \r"
     ]
    },
    {
     "name": "stdout",
     "output_type": "stream",
     "text": [
      "[download]  76.1% of  243.26MiB at  122.93KiB/s ETA 08:04  (frag 123/203)"
     ]
    },
    {
     "name": "stderr",
     "output_type": "stream",
     "text": [
      "frame=   19 fps=1.0 q=-0.0 size=N/A time=00:00:17.00 bitrate=N/A dup=0 drop=499 speed=0.874x    \r"
     ]
    },
    {
     "name": "stdout",
     "output_type": "stream",
     "text": [
      "[download]  76.3% of  243.26MiB at    1.78MiB/s ETA 00:326 (frag 123/203)"
     ]
    },
    {
     "name": "stderr",
     "output_type": "stream",
     "text": [
      "frame=  476 fps=1.4 q=-0.0 size=N/A time=00:07:54.00 bitrate=N/A dup=0 drop=11392 speed=1.38x    \r"
     ]
    },
    {
     "name": "stdout",
     "output_type": "stream",
     "text": [
      "[download]  76.9% of  243.26MiB at    4.19MiB/s ETA 00:135 (frag 124/203)"
     ]
    },
    {
     "name": "stderr",
     "output_type": "stream",
     "text": [
      "frame=  116 fps=0.3 q=-0.0 size=N/A time=00:01:54.00 bitrate=N/A dup=0 drop=2751 speed=0.32x     \r"
     ]
    },
    {
     "name": "stdout",
     "output_type": "stream",
     "text": [
      "[download]  77.7% of  243.26MiB at    5.64MiB/s ETA 00:09"
     ]
    },
    {
     "name": "stderr",
     "output_type": "stream",
     "text": [
      "frame=  477 fps=1.4 q=-0.0 size=N/A time=00:07:55.00 bitrate=N/A dup=0 drop=11405 speed=1.38x    \r"
     ]
    },
    {
     "name": "stdout",
     "output_type": "stream",
     "text": [
      "[download]  61.6% of ~ 641.25MiB at    2.33MiB/s ETA 01:46 (frag 124/203)"
     ]
    },
    {
     "name": "stderr",
     "output_type": "stream",
     "text": [
      "frame=   20 fps=1.0 q=-0.0 size=N/A time=00:00:18.00 bitrate=N/A dup=0 drop=529 speed=0.878x     \r"
     ]
    },
    {
     "name": "stdout",
     "output_type": "stream",
     "text": [
      "[download]  61.6% of ~ 641.65MiB at    1.74MiB/s ETA 02:04 (frag 124/203)"
     ]
    },
    {
     "name": "stderr",
     "output_type": "stream",
     "text": [
      "frame=  101 fps=0.3 q=-0.0 size=N/A time=00:01:39.00 bitrate=N/A dup=0 drop=2372 speed=0.274x    \r"
     ]
    },
    {
     "name": "stdout",
     "output_type": "stream",
     "text": [
      "[download]  80.1% of  243.26MiB at    6.37MiB/s ETA 00:078 (frag 124/203)"
     ]
    },
    {
     "name": "stderr",
     "output_type": "stream",
     "text": [
      "frame=   24 fps=0.2 q=-0.0 size=N/A time=00:00:22.00 bitrate=N/A dup=0 drop=1118 speed=0.145x    \r"
     ]
    },
    {
     "name": "stdout",
     "output_type": "stream",
     "text": [
      "[download]  61.3% of ~ 647.75MiB at    1.71MiB/s ETA 02:12 (frag 125/203)"
     ]
    },
    {
     "name": "stderr",
     "output_type": "stream",
     "text": [
      "frame=  171 fps=1.2 q=-0.0 size=N/A time=00:02:49.00 bitrate=N/A dup=0 drop=4914 speed=1.14x     \r"
     ]
    },
    {
     "name": "stdout",
     "output_type": "stream",
     "text": [
      "[download]  80.9% of  243.26MiB at    4.78MiB/s ETA 00:09"
     ]
    },
    {
     "name": "stderr",
     "output_type": "stream",
     "text": [
      "frame=   21 fps=1.0 q=-0.0 size=N/A time=00:00:19.00 bitrate=N/A dup=0 drop=566 speed=0.878x     \r"
     ]
    },
    {
     "name": "stdout",
     "output_type": "stream",
     "text": [
      "[download]  62.1% of ~ 639.38MiB at    1.70MiB/s ETA 02:13 (frag 125/203)"
     ]
    },
    {
     "name": "stderr",
     "output_type": "stream",
     "text": [
      "frame=  172 fps=1.2 q=-0.0 size=N/A time=00:02:50.00 bitrate=N/A dup=0 drop=4920 speed=1.14x     \r"
     ]
    },
    {
     "name": "stdout",
     "output_type": "stream",
     "text": [
      "[download]  62.1% of ~ 639.78MiB at    1.43MiB/s ETA 02:28 (frag 125/203)"
     ]
    },
    {
     "name": "stderr",
     "output_type": "stream",
     "text": [
      "frame=  479 fps=1.4 q=-0.0 size=N/A time=00:07:57.00 bitrate=N/A dup=0 drop=11463 speed=1.37x    \r"
     ]
    },
    {
     "name": "stdout",
     "output_type": "stream",
     "text": [
      "[download]  62.2% of ~ 640.99MiB at    1.39MiB/s ETA 02:34 (frag 125/203)"
     ]
    },
    {
     "name": "stderr",
     "output_type": "stream",
     "text": [
      "frame=  117 fps=0.3 q=-0.0 size=N/A time=00:01:55.00 bitrate=N/A dup=0 drop=2770 speed=0.321x    \r"
     ]
    },
    {
     "name": "stdout",
     "output_type": "stream",
     "text": [
      "[download]  84.0% of  243.26MiB at  202.02KiB/s ETA 03:177 (frag 126/203)"
     ]
    },
    {
     "name": "stderr",
     "output_type": "stream",
     "text": [
      "frame=  101 fps=0.3 q=-0.0 size=N/A time=00:01:39.00 bitrate=N/A dup=0 drop=2385 speed=0.273x    \r"
     ]
    },
    {
     "name": "stdout",
     "output_type": "stream",
     "text": [
      "[download]  84.4% of  243.26MiB at    2.55MiB/s ETA 00:14"
     ]
    },
    {
     "name": "stderr",
     "output_type": "stream",
     "text": [
      "frame=   60 fps=0.3 q=-0.0 size=N/A time=00:00:58.00 bitrate=N/A dup=0 drop=1396 speed=0.256x    \r"
     ]
    },
    {
     "name": "stdout",
     "output_type": "stream",
     "text": [
      "[download]  62.6% of ~ 639.81MiB at    1.76MiB/s ETA 02:26 (frag 126/203)"
     ]
    },
    {
     "name": "stderr",
     "output_type": "stream",
     "text": [
      "frame=   25 fps=0.2 q=-0.0 size=N/A time=00:00:23.00 bitrate=N/A dup=0 drop=1133 speed=0.149x    \r"
     ]
    },
    {
     "name": "stdout",
     "output_type": "stream",
     "text": [
      "[download]  62.6% of ~ 640.61MiB at    1.83MiB/s ETA 02:21 (frag 126/203)"
     ]
    },
    {
     "name": "stderr",
     "output_type": "stream",
     "text": [
      "frame=  481 fps=1.4 q=-0.0 size=N/A time=00:07:59.00 bitrate=N/A dup=0 drop=11510 speed=1.37x    \r"
     ]
    },
    {
     "name": "stdout",
     "output_type": "stream",
     "text": [
      "[download]  62.7% of ~ 641.40MiB at    1.85MiB/s ETA 02:19 (frag 126/203)"
     ]
    },
    {
     "name": "stderr",
     "output_type": "stream",
     "text": [
      "frame=   25 fps=0.2 q=-0.0 size=N/A time=00:00:23.00 bitrate=N/A dup=0 drop=1138 speed=0.148x    \r"
     ]
    },
    {
     "name": "stdout",
     "output_type": "stream",
     "text": [
      "[download]  62.8% of ~ 643.00MiB at    2.01MiB/s ETA 02:16 (frag 126/203)"
     ]
    },
    {
     "name": "stderr",
     "output_type": "stream",
     "text": [
      "frame=  482 fps=1.4 q=-0.0 size=N/A time=00:08:00.00 bitrate=N/A dup=0 drop=11516 speed=1.37x    \r"
     ]
    },
    {
     "name": "stdout",
     "output_type": "stream",
     "text": [
      "[download]  85.7% of  243.26MiB at    2.07MiB/s ETA 00:162 (frag 127/203)"
     ]
    },
    {
     "name": "stderr",
     "output_type": "stream",
     "text": [
      "frame=  118 fps=0.3 q=-0.0 size=N/A time=00:01:56.00 bitrate=N/A dup=0 drop=2780 speed=0.322x    \r"
     ]
    },
    {
     "name": "stdout",
     "output_type": "stream",
     "text": [
      "[download]  86.2% of  243.26MiB at    2.72MiB/s ETA 00:12"
     ]
    },
    {
     "name": "stderr",
     "output_type": "stream",
     "text": [
      "frame=   17 fps=0.2 q=-0.0 size=N/A time=00:00:15.00 bitrate=N/A dup=0 drop=373 speed=0.218x     \r"
     ]
    },
    {
     "name": "stdout",
     "output_type": "stream",
     "text": [
      "[download]  63.1% of ~ 640.28MiB at    2.22MiB/s ETA 02:06 (frag 127/203)"
     ]
    },
    {
     "name": "stderr",
     "output_type": "stream",
     "text": [
      "frame=  101 fps=0.3 q=-0.0 size=N/A time=00:01:39.00 bitrate=N/A dup=0 drop=2395 speed=0.271x    \r"
     ]
    },
    {
     "name": "stdout",
     "output_type": "stream",
     "text": [
      "[download]  63.1% of ~ 640.67MiB at    1.77MiB/s ETA 02:12 (frag 127/203)"
     ]
    },
    {
     "name": "stderr",
     "output_type": "stream",
     "text": [
      "frame=   25 fps=1.0 q=-0.0 size=N/A time=00:00:23.00 bitrate=N/A dup=0 drop=662 speed= 0.9x      \r"
     ]
    },
    {
     "name": "stdout",
     "output_type": "stream",
     "text": [
      "[download]  88.0% of  243.26MiB at  881.79KiB/s ETA 00:331 (frag 127/203)"
     ]
    },
    {
     "name": "stderr",
     "output_type": "stream",
     "text": [
      "frame=  102 fps=0.3 q=-0.0 size=N/A time=00:01:40.00 bitrate=N/A dup=0 drop=2396 speed=0.273x    \r"
     ]
    },
    {
     "name": "stdout",
     "output_type": "stream",
     "text": [
      "[download]  63.4% of ~ 643.45MiB at    2.10MiB/s ETA 02:07 (frag 127/203)"
     ]
    },
    {
     "name": "stderr",
     "output_type": "stream",
     "text": [
      "frame=   25 fps=1.0 q=-0.0 size=N/A time=00:00:23.00 bitrate=N/A dup=0 drop=681 speed=0.881x     \r"
     ]
    },
    {
     "name": "stdout",
     "output_type": "stream",
     "text": [
      "[download]  62.4% of ~ 653.87MiB at    2.38MiB/s ETA 02:00 (frag 128/203)"
     ]
    },
    {
     "name": "stderr",
     "output_type": "stream",
     "text": [
      "frame=   18 fps=0.3 q=-0.0 size=N/A time=00:00:16.00 bitrate=N/A dup=0 drop=380 speed=0.225x     \r"
     ]
    },
    {
     "name": "stdout",
     "output_type": "stream",
     "text": [
      "[download]  91.2% of  243.26MiB at    6.07MiB/s ETA 00:03"
     ]
    },
    {
     "name": "stderr",
     "output_type": "stream",
     "text": [
      "frame=   61 fps=0.3 q=-0.0 size=N/A time=00:00:59.00 bitrate=N/A dup=0 drop=1415 speed=0.256x    \r"
     ]
    },
    {
     "name": "stdout",
     "output_type": "stream",
     "text": [
      "[download]  63.6% of ~ 642.11MiB at    1.84MiB/s ETA 02:09 (frag 128/203)"
     ]
    },
    {
     "name": "stderr",
     "output_type": "stream",
     "text": [
      "frame=   18 fps=0.3 q=-0.0 size=N/A time=00:00:16.00 bitrate=N/A dup=0 drop=382 speed=0.223x     \r"
     ]
    },
    {
     "name": "stdout",
     "output_type": "stream",
     "text": [
      "[download]  92.0% of  243.26MiB at  190.27KiB/s ETA 01:440 (frag 128/203)"
     ]
    },
    {
     "name": "stderr",
     "output_type": "stream",
     "text": [
      "frame=  119 fps=0.3 q=-0.0 size=N/A time=00:01:57.00 bitrate=N/A dup=0 drop=2806 speed=0.322x    \r"
     ]
    },
    {
     "name": "stdout",
     "output_type": "stream",
     "text": [
      "[download]  63.3% of ~ 647.91MiB at    2.00MiB/s ETA 02:06 (frag 129/203)"
     ]
    },
    {
     "name": "stderr",
     "output_type": "stream",
     "text": [
      "frame=   61 fps=0.3 q=-0.0 size=N/A time=00:00:59.00 bitrate=N/A dup=0 drop=1421 speed=0.255x    \r"
     ]
    },
    {
     "name": "stdout",
     "output_type": "stream",
     "text": [
      "[download]  64.0% of ~ 640.07MiB at    2.05MiB/s ETA 02:03 (frag 129/203)"
     ]
    },
    {
     "name": "stderr",
     "output_type": "stream",
     "text": [
      "frame=  119 fps=0.3 q=-0.0 size=N/A time=00:01:57.00 bitrate=N/A dup=0 drop=2813 speed=0.321x    \r"
     ]
    },
    {
     "name": "stdout",
     "output_type": "stream",
     "text": [
      "[download]  64.1% of ~ 640.80MiB at    2.19MiB/s ETA 01:58 (frag 129/203)"
     ]
    },
    {
     "name": "stderr",
     "output_type": "stream",
     "text": [
      "frame=  487 fps=1.4 q=-0.0 size=N/A time=00:08:05.00 bitrate=N/A dup=0 drop=11636 speed=1.37x    \r"
     ]
    },
    {
     "name": "stdout",
     "output_type": "stream",
     "text": [
      "[download]  96.0% of  243.26MiB at    1.65MiB/s ETA 00:051 (frag 129/203)"
     ]
    },
    {
     "name": "stderr",
     "output_type": "stream",
     "text": [
      "frame=  102 fps=0.3 q=-0.0 size=N/A time=00:01:40.00 bitrate=N/A dup=0 drop=2406 speed=0.271x    \r"
     ]
    },
    {
     "name": "stdout",
     "output_type": "stream",
     "text": [
      "[download]  63.4% of ~ 652.78MiB at    2.54MiB/s ETA 01:47 (frag 130/203)"
     ]
    },
    {
     "name": "stderr",
     "output_type": "stream",
     "text": [
      "frame=   27 fps=0.9 q=-0.0 size=N/A time=00:00:25.00 bitrate=N/A dup=0 drop=738 speed=0.871x     \r"
     ]
    },
    {
     "name": "stdout",
     "output_type": "stream",
     "text": [
      "[download]  99.2% of  243.26MiB at   10.80MiB/s ETA 00:007 (frag 130/203)"
     ]
    },
    {
     "name": "stderr",
     "output_type": "stream",
     "text": [
      "frame=  102 fps=0.3 q=-0.0 size=N/A time=00:01:40.00 bitrate=N/A dup=0 drop=2410 speed=0.271x    \r"
     ]
    },
    {
     "name": "stdout",
     "output_type": "stream",
     "text": [
      "[download]  64.6% of ~ 644.57MiB at    2.74MiB/s ETA 01:39 (frag 130/203)"
     ]
    },
    {
     "name": "stderr",
     "output_type": "stream",
     "text": [
      "frame=  179 fps=1.1 q=-0.0 size=N/A time=00:02:57.00 bitrate=N/A dup=0 drop=5135 speed=1.13x     \r"
     ]
    },
    {
     "name": "stdout",
     "output_type": "stream",
     "text": [
      "[download]  64.1% of ~ 649.65MiB at    2.83MiB/s ETA 01:37 (frag 131/203)"
     ]
    },
    {
     "name": "stderr",
     "output_type": "stream",
     "text": [
      "frame=  120 fps=0.3 q=-0.0 size=N/A time=00:01:58.00 bitrate=N/A dup=0 drop=2830 speed=0.322x    \r"
     ]
    },
    {
     "name": "stdout",
     "output_type": "stream",
     "text": [
      "[download] 100% of  243.26MiB in 00:00:39 at 6.10MiB/s   5 (frag 131/203)\n"
     ]
    },
    {
     "name": "stderr",
     "output_type": "stream",
     "text": [
      "frame=   29 fps=1.0 q=-0.0 size=N/A time=00:00:27.00 bitrate=N/A dup=0 drop=777 speed=0.892x     \r"
     ]
    },
    {
     "name": "stdout",
     "output_type": "stream",
     "text": [
      "[download]  65.0% of ~ 640.86MiB at    2.81MiB/s ETA 01:32 (frag 131/203)[download] Destination: ./dataset_splited/yB7-bVpsOic/video_1080p.f251.webm\n",
      "[download]  65.1% of ~ 641.44MiB at    2.78MiB/s ETA 01:31 (frag 131/203)"
     ]
    },
    {
     "name": "stderr",
     "output_type": "stream",
     "text": [
      "frame=  102 fps=0.3 q=-0.0 size=N/A time=00:01:40.00 bitrate=N/A dup=0 drop=2418 speed=0.27x     \r"
     ]
    },
    {
     "name": "stdout",
     "output_type": "stream",
     "text": [
      "[download]  64.7% of ~ 646.38MiB at    2.86MiB/s ETA 01:28 (frag 132/203)"
     ]
    },
    {
     "name": "stderr",
     "output_type": "stream",
     "text": [
      "frame=  491 fps=1.4 q=-0.0 size=N/A time=00:08:09.00 bitrate=N/A dup=0 drop=11732 speed=1.37x    \r"
     ]
    },
    {
     "name": "stdout",
     "output_type": "stream",
     "text": [
      "[download]  35.4% of   11.30MiB at    6.24MiB/s ETA 00:01"
     ]
    },
    {
     "name": "stderr",
     "output_type": "stream",
     "text": [
      "frame=   61 fps=0.3 q=-0.0 size=N/A time=00:00:59.00 bitrate=N/A dup=0 drop=1433 speed=0.251x    \r"
     ]
    },
    {
     "name": "stdout",
     "output_type": "stream",
     "text": [
      "[download]  65.5% of ~ 638.70MiB at    2.43MiB/s ETA 01:33 (frag 132/203)"
     ]
    },
    {
     "name": "stderr",
     "output_type": "stream",
     "text": [
      "frame=  180 fps=1.1 q=-0.0 size=N/A time=00:02:58.00 bitrate=N/A dup=0 drop=5170 speed=1.12x     \r"
     ]
    },
    {
     "name": "stdout",
     "output_type": "stream",
     "text": [
      "[download]  65.5% of ~ 638.88MiB at    1.91MiB/s ETA 01:44 (frag 132/203)"
     ]
    },
    {
     "name": "stderr",
     "output_type": "stream",
     "text": [
      "frame=  120 fps=0.3 q=-0.0 size=N/A time=00:01:58.00 bitrate=N/A dup=0 drop=2844 speed=0.321x    \r"
     ]
    },
    {
     "name": "stdout",
     "output_type": "stream",
     "text": [
      "[download]  86.1% of   11.30MiB at    7.23MiB/s ETA 00:007 (frag 132/203)"
     ]
    },
    {
     "name": "stderr",
     "output_type": "stream",
     "text": [
      "frame=  103 fps=0.3 q=-0.0 size=N/A time=00:01:41.00 bitrate=N/A dup=0 drop=2422 speed=0.271x    \r"
     ]
    },
    {
     "name": "stdout",
     "output_type": "stream",
     "text": [
      "[download]  95.0% of   11.30MiB at    4.51MiB/s ETA 00:002 (frag 132/203)"
     ]
    },
    {
     "name": "stderr",
     "output_type": "stream",
     "text": [
      "frame=  120 fps=0.3 q=-0.0 size=N/A time=00:01:58.00 bitrate=N/A dup=0 drop=2849 speed=0.32x     \r"
     ]
    },
    {
     "name": "stdout",
     "output_type": "stream",
     "text": [
      "[download] 100% of   11.30MiB in 00:00:02 at 5.10MiB/s   0 (frag 133/203)\n"
     ]
    },
    {
     "name": "stderr",
     "output_type": "stream",
     "text": [
      "frame=  103 fps=0.3 q=-0.0 size=N/A time=00:01:41.00 bitrate=N/A dup=0 drop=2426 speed=0.271x    \r"
     ]
    },
    {
     "name": "stdout",
     "output_type": "stream",
     "text": [
      "[download]  66.0% of ~ 639.99MiB at    2.25MiB/s ETA 01:41 (frag 133/203)"
     ]
    },
    {
     "name": "stderr",
     "output_type": "stream",
     "text": [
      "frame=  182 fps=1.1 q=-0.0 size=N/A time=00:03:00.00 bitrate=N/A dup=0 drop=5211 speed=1.12x     \r"
     ]
    },
    {
     "name": "stdout",
     "output_type": "stream",
     "text": [
      "[download]  66.1% of ~ 640.72MiB at    2.25MiB/s ETA 01:40 (frag 133/203)"
     ]
    },
    {
     "name": "stderr",
     "output_type": "stream",
     "text": [
      "frame=   62 fps=0.3 q=-0.0 size=N/A time=00:01:00.00 bitrate=N/A dup=0 drop=1438 speed=0.253x    \r"
     ]
    },
    {
     "name": "stdout",
     "output_type": "stream",
     "text": [
      "[download]  66.1% of ~ 641.48MiB at    2.25MiB/s ETA 01:40 (frag 133/203)[Merger] Merging formats into \"./dataset_splited/yB7-bVpsOic/video_1080p.webm\"\n"
     ]
    },
    {
     "name": "stderr",
     "output_type": "stream",
     "text": [
      "frame=  182 fps=1.1 q=-0.0 size=N/A time=00:03:00.00 bitrate=N/A dup=0 drop=5227 speed=1.12x     \r"
     ]
    },
    {
     "name": "stdout",
     "output_type": "stream",
     "text": [
      "[download]  65.7% of ~ 645.38MiB at    2.20MiB/s ETA 01:41 (frag 134/203)"
     ]
    },
    {
     "name": "stderr",
     "output_type": "stream",
     "text": [
      "frame=   32 fps=1.0 q=-0.0 size=N/A time=00:00:30.00 bitrate=N/A dup=0 drop=864 speed=0.893x     \r"
     ]
    },
    {
     "name": "stdout",
     "output_type": "stream",
     "text": [
      "[download]  66.5% of ~ 638.29MiB at    2.19MiB/s ETA 01:40 (frag 134/203)"
     ]
    },
    {
     "name": "stderr",
     "output_type": "stream",
     "text": [
      "frame=  121 fps=0.3 q=-0.0 size=N/A time=00:01:59.00 bitrate=N/A dup=0 drop=2861 speed=0.322x    \r"
     ]
    },
    {
     "name": "stdout",
     "output_type": "stream",
     "text": [
      "[download]  66.7% of ~ 640.92MiB at    2.56MiB/s ETA 01:34 (frag 134/203)"
     ]
    },
    {
     "name": "stderr",
     "output_type": "stream",
     "text": [
      "frame=  496 fps=1.4 q=-0.0 size=N/A time=00:08:14.00 bitrate=N/A dup=0 drop=11860 speed=1.38x    \r"
     ]
    },
    {
     "name": "stdout",
     "output_type": "stream",
     "text": [
      "[download]  66.0% of ~ 646.93MiB at    2.66MiB/s ETA 01:32 (frag 135/203)"
     ]
    },
    {
     "name": "stderr",
     "output_type": "stream",
     "text": [
      "frame=   62 fps=0.3 q=-0.0 size=N/A time=00:01:00.00 bitrate=N/A dup=0 drop=1447 speed=0.252x    \r"
     ]
    },
    {
     "name": "stdout",
     "output_type": "stream",
     "text": [
      "[download]  67.0% of ~ 637.74MiB at    2.51MiB/s ETA 01:32 (frag 135/203)"
     ]
    },
    {
     "name": "stderr",
     "output_type": "stream",
     "text": [
      "frame=  103 fps=0.3 q=-0.0 size=N/A time=00:01:41.00 bitrate=N/A dup=0 drop=2438 speed=0.269x    \r"
     ]
    },
    {
     "name": "stdout",
     "output_type": "stream",
     "text": [
      "[download]  67.1% of ~ 638.44MiB at    2.16MiB/s ETA 01:35 (frag 135/203)"
     ]
    },
    {
     "name": "stderr",
     "output_type": "stream",
     "text": [
      "frame=  121 fps=0.3 q=-0.0 size=N/A time=00:01:59.00 bitrate=N/A dup=0 drop=2870 speed=0.321x    \r"
     ]
    },
    {
     "name": "stdout",
     "output_type": "stream",
     "text": [
      "[download]  66.6% of ~ 644.78MiB at    2.44MiB/s ETA 01:32 (frag 136/203)"
     ]
    },
    {
     "name": "stderr",
     "output_type": "stream",
     "text": [
      "frame=   19 fps=0.2 q=-0.0 size=N/A time=00:00:17.00 bitrate=N/A dup=0 drop=421 speed=0.212x     \r"
     ]
    },
    {
     "name": "stdout",
     "output_type": "stream",
     "text": [
      "[download]  67.5% of ~ 636.57MiB at    2.43MiB/s ETA 01:31 (frag 136/203)"
     ]
    },
    {
     "name": "stderr",
     "output_type": "stream",
     "text": [
      "frame=  499 fps=1.4 q=-0.0 size=N/A time=00:08:17.00 bitrate=N/A dup=0 drop=11928 speed=1.38x    \r"
     ]
    },
    {
     "name": "stdout",
     "output_type": "stream",
     "text": [
      "[download]  67.6% of ~ 638.04MiB at    2.56MiB/s ETA 01:26 (frag 136/203)"
     ]
    },
    {
     "name": "stderr",
     "output_type": "stream",
     "text": [
      "frame=  122 fps=0.3 q=-0.0 size=N/A time=00:02:00.00 bitrate=N/A dup=0 drop=2878 speed=0.322x    \r"
     ]
    },
    {
     "name": "stdout",
     "output_type": "stream",
     "text": [
      "[download]  67.0% of ~ 646.45MiB at    2.77MiB/s ETA 01:23 (frag 137/203)"
     ]
    },
    {
     "name": "stderr",
     "output_type": "stream",
     "text": [
      "frame=  186 fps=1.1 q=-0.0 size=N/A time=00:03:04.00 bitrate=N/A dup=0 drop=5326 speed=1.12x    \r"
     ]
    },
    {
     "name": "stdout",
     "output_type": "stream",
     "text": [
      "[download]  68.0% of ~ 636.86MiB at    2.83MiB/s ETA 01:21 (frag 137/203)"
     ]
    },
    {
     "name": "stderr",
     "output_type": "stream",
     "text": [
      "frame=   27 fps=0.2 q=-0.0 size=N/A time=00:00:25.00 bitrate=N/A dup=0 drop=1235 speed=0.149x    \r"
     ]
    },
    {
     "name": "stdout",
     "output_type": "stream",
     "text": [
      "[download]  68.0% of ~ 637.22MiB at    2.48MiB/s ETA 01:23 (frag 137/203)"
     ]
    },
    {
     "name": "stderr",
     "output_type": "stream",
     "text": [
      "frame=   20 fps=0.2 q=-0.0 size=N/A time=00:00:18.00 bitrate=N/A dup=0 drop=428 speed=0.22x     \r"
     ]
    },
    {
     "name": "stdout",
     "output_type": "stream",
     "text": [
      "[download]  68.1% of ~ 638.32MiB at    2.55MiB/s ETA 01:22 (frag 137/203)"
     ]
    },
    {
     "name": "stderr",
     "output_type": "stream",
     "text": [
      "frame=   27 fps=0.2 q=-0.0 size=N/A time=00:00:25.00 bitrate=N/A dup=0 drop=1239 speed=0.148x    \r"
     ]
    },
    {
     "name": "stdout",
     "output_type": "stream",
     "text": [
      "[download]  67.7% of ~ 642.36MiB at    2.57MiB/s ETA 01:22 (frag 138/203)"
     ]
    },
    {
     "name": "stderr",
     "output_type": "stream",
     "text": [
      "frame=   35 fps=0.9 q=-0.0 size=N/A time=00:00:33.00 bitrate=N/A dup=0 drop=976 speed=0.872x     \r"
     ]
    },
    {
     "name": "stdout",
     "output_type": "stream",
     "text": [
      "[download]  68.5% of ~ 635.01MiB at    2.22MiB/s ETA 01:26 (frag 138/203)"
     ]
    },
    {
     "name": "stderr",
     "output_type": "stream",
     "text": [
      "frame=  122 fps=0.3 q=-0.0 size=N/A time=00:02:00.00 bitrate=N/A dup=0 drop=2894 speed=0.321x    \r"
     ]
    },
    {
     "name": "stdout",
     "output_type": "stream",
     "text": [
      "[download]  68.5% of ~ 635.19MiB at    2.00MiB/s ETA 01:32 (frag 138/203)"
     ]
    },
    {
     "name": "stderr",
     "output_type": "stream",
     "text": [
      "frame=  187 fps=1.1 q=-0.0 size=N/A time=00:03:05.00 bitrate=N/A dup=0 drop=5379 speed=1.12x    \r"
     ]
    },
    {
     "name": "stdout",
     "output_type": "stream",
     "text": [
      "[download]  68.6% of ~ 635.73MiB at    2.03MiB/s ETA 01:32 (frag 138/203)"
     ]
    },
    {
     "name": "stderr",
     "output_type": "stream",
     "text": [
      "frame=   63 fps=0.3 q=-0.0 size=N/A time=00:01:01.00 bitrate=N/A dup=0 drop=1467 speed=0.252x    \r"
     ]
    },
    {
     "name": "stdout",
     "output_type": "stream",
     "text": [
      "[download]  68.0% of ~ 643.55MiB at    2.44MiB/s ETA 01:28 (frag 139/203)"
     ]
    },
    {
     "name": "stderr",
     "output_type": "stream",
     "text": [
      "frame=   63 fps=0.3 q=-0.0 size=N/A time=00:01:01.00 bitrate=N/A dup=0 drop=1470 speed=0.251x    \r"
     ]
    },
    {
     "name": "stdout",
     "output_type": "stream",
     "text": [
      "[download]  69.0% of ~ 634.71MiB at    2.12MiB/s ETA 01:32 (frag 139/203)"
     ]
    },
    {
     "name": "stderr",
     "output_type": "stream",
     "text": [
      "frame=  189 fps=1.1 q=-0.0 size=N/A time=00:03:07.00 bitrate=N/A dup=0 drop=5417 speed=1.12x     \r"
     ]
    },
    {
     "name": "stdout",
     "output_type": "stream",
     "text": [
      "[download]  69.0% of ~ 634.89MiB at    1.87MiB/s ETA 01:37 (frag 139/203)"
     ]
    },
    {
     "name": "stderr",
     "output_type": "stream",
     "text": [
      "frame=  504 fps=1.4 q=-0.0 size=N/A time=00:08:22.00 bitrate=N/A dup=0 drop=12066 speed=1.38x    \r"
     ]
    },
    {
     "name": "stdout",
     "output_type": "stream",
     "text": [
      "[download]  69.1% of ~ 636.16MiB at    2.06MiB/s ETA 01:36 (frag 139/203)"
     ]
    },
    {
     "name": "stderr",
     "output_type": "stream",
     "text": [
      "frame=  505 fps=1.4 q=-0.0 size=N/A time=00:08:23.00 bitrate=N/A dup=0 drop=12085 speed=1.38x    \r"
     ]
    },
    {
     "name": "stdout",
     "output_type": "stream",
     "text": [
      "[download]  69.0% of ~ 640.51MiB at    2.48MiB/s ETA 01:31 (frag 139/203)"
     ]
    },
    {
     "name": "stderr",
     "output_type": "stream",
     "text": [
      "frame=   27 fps=0.2 q=-0.0 size=N/A time=00:00:25.00 bitrate=N/A dup=0 drop=1259 speed=0.146x    \r"
     ]
    },
    {
     "name": "stdout",
     "output_type": "stream",
     "text": [
      "[download]  68.3% of ~ 646.83MiB at    2.49MiB/s ETA 01:30 (frag 140/203)"
     ]
    },
    {
     "name": "stderr",
     "output_type": "stream",
     "text": [
      "frame=   63 fps=0.3 q=-0.0 size=N/A time=00:01:01.00 bitrate=N/A dup=0 drop=1482 speed=0.25x     \r"
     ]
    },
    {
     "name": "stdout",
     "output_type": "stream",
     "text": [
      "[download]  69.5% of ~ 636.25MiB at    2.58MiB/s ETA 01:26 (frag 140/203)"
     ]
    },
    {
     "name": "stderr",
     "output_type": "stream",
     "text": [
      "frame=   20 fps=0.2 q=-0.0 size=N/A time=00:00:18.00 bitrate=N/A dup=0 drop=449 speed=0.211x     \r"
     ]
    },
    {
     "name": "stdout",
     "output_type": "stream",
     "text": [
      "[download]  69.5% of ~ 636.59MiB at    2.57MiB/s ETA 01:24 (frag 140/203)"
     ]
    },
    {
     "name": "stderr",
     "output_type": "stream",
     "text": [
      "frame=  191 fps=1.1 q=-0.0 size=N/A time=00:03:09.00 bitrate=N/A dup=0 drop=5477 speed=1.12x    \r"
     ]
    },
    {
     "name": "stdout",
     "output_type": "stream",
     "text": [
      "[download]  69.6% of ~ 637.67MiB at    2.75MiB/s ETA 01:21 (frag 140/203)"
     ]
    },
    {
     "name": "stderr",
     "output_type": "stream",
     "text": [
      "frame=   64 fps=0.3 q=-0.0 size=N/A time=00:01:02.00 bitrate=N/A dup=0 drop=1484 speed=0.253x    \r"
     ]
    },
    {
     "name": "stdout",
     "output_type": "stream",
     "text": [
      "[download]  68.9% of ~ 646.57MiB at    2.99MiB/s ETA 01:17 (frag 141/203)"
     ]
    },
    {
     "name": "stderr",
     "output_type": "stream",
     "text": [
      "frame=  105 fps=0.3 q=-0.0 size=N/A time=00:01:43.00 bitrate=N/A dup=0 drop=2472 speed=0.27x     \r"
     ]
    },
    {
     "name": "stdout",
     "output_type": "stream",
     "text": [
      "[download]  70.0% of ~ 637.06MiB at    2.81MiB/s ETA 01:14 (frag 141/203)"
     ]
    },
    {
     "name": "stderr",
     "output_type": "stream",
     "text": [
      "frame=   41 fps=1.0 q=-0.0 size=N/A time=00:00:39.00 bitrate=N/A dup=0 drop=1133 speed=0.926x    \r"
     ]
    },
    {
     "name": "stdout",
     "output_type": "stream",
     "text": [
      "[download]  70.3% of ~ 639.74MiB at    3.13MiB/s ETA 01:11 (frag 141/203)"
     ]
    },
    {
     "name": "stderr",
     "output_type": "stream",
     "text": [
      "frame=   64 fps=0.3 q=-0.0 size=N/A time=00:01:02.00 bitrate=N/A dup=0 drop=1495 speed=0.252x    \r"
     ]
    },
    {
     "name": "stdout",
     "output_type": "stream",
     "text": [
      "[download]  69.3% of ~ 648.79MiB at    3.19MiB/s ETA 01:09 (frag 142/203)"
     ]
    },
    {
     "name": "stderr",
     "output_type": "stream",
     "text": [
      "frame=  105 fps=0.3 q=-0.0 size=N/A time=00:01:43.00 bitrate=N/A dup=0 drop=2480 speed=0.269x    \r"
     ]
    },
    {
     "name": "stdout",
     "output_type": "stream",
     "text": [
      "[download]  70.4% of ~ 638.35MiB at    2.91MiB/s ETA 01:10 (frag 142/203)"
     ]
    },
    {
     "name": "stderr",
     "output_type": "stream",
     "text": [
      "frame=  511 fps=1.4 q=-0.0 size=N/A time=00:08:29.00 bitrate=N/A dup=0 drop=12212 speed=1.38x    \r"
     ]
    },
    {
     "name": "stdout",
     "output_type": "stream",
     "text": [
      "[download]  70.5% of ~ 638.43MiB at    2.84MiB/s ETA 01:09 (frag 142/203)"
     ]
    },
    {
     "name": "stderr",
     "output_type": "stream",
     "text": [
      "frame=  105 fps=0.3 q=-0.0 size=N/A time=00:01:43.00 bitrate=N/A dup=0 drop=2484 speed=0.268x    \r"
     ]
    },
    {
     "name": "stdout",
     "output_type": "stream",
     "text": [
      "[download]  70.6% of ~ 639.76MiB at    3.04MiB/s ETA 01:07 (frag 142/203)"
     ]
    },
    {
     "name": "stderr",
     "output_type": "stream",
     "text": [
      "frame=   43 fps=1.0 q=-0.0 size=N/A time=00:00:41.00 bitrate=N/A dup=0 drop=1184 speed=0.938x    \r"
     ]
    },
    {
     "name": "stdout",
     "output_type": "stream",
     "text": [
      "[download]  69.9% of ~ 649.27MiB at    3.39MiB/s ETA 01:04 (frag 143/203)"
     ]
    },
    {
     "name": "stderr",
     "output_type": "stream",
     "text": [
      "frame=   65 fps=0.3 q=-0.0 size=N/A time=00:01:03.00 bitrate=N/A dup=0 drop=1509 speed=0.254x    \r"
     ]
    },
    {
     "name": "stdout",
     "output_type": "stream",
     "text": [
      "[download]  70.9% of ~ 639.34MiB at    3.18MiB/s ETA 01:04 (frag 143/203)"
     ]
    },
    {
     "name": "stderr",
     "output_type": "stream",
     "text": [
      "frame=   28 fps=0.2 q=-0.0 size=N/A time=00:00:26.00 bitrate=N/A dup=0 drop=1289 speed=0.148x    \r"
     ]
    },
    {
     "name": "stdout",
     "output_type": "stream",
     "text": [
      "[download]  71.0% of ~ 640.04MiB at    2.97MiB/s ETA 01:04 (frag 143/203)"
     ]
    },
    {
     "name": "stderr",
     "output_type": "stream",
     "text": [
      "frame=   44 fps=1.0 q=-0.0 size=N/A time=00:00:42.00 bitrate=N/A dup=0 drop=1226 speed=0.938x    \r"
     ]
    },
    {
     "name": "stdout",
     "output_type": "stream",
     "text": [
      "[download]  71.1% of ~ 640.75MiB at    3.08MiB/s ETA 01:03 (frag 143/203)"
     ]
    },
    {
     "name": "stderr",
     "output_type": "stream",
     "text": [
      "frame=   28 fps=0.2 q=-0.0 size=N/A time=00:00:26.00 bitrate=N/A dup=0 drop=1295 speed=0.147x    \r"
     ]
    },
    {
     "name": "stdout",
     "output_type": "stream",
     "text": [
      "[download]  70.3% of ~ 651.09MiB at    3.19MiB/s ETA 01:02 (frag 144/203)"
     ]
    },
    {
     "name": "stderr",
     "output_type": "stream",
     "text": [
      "frame=   65 fps=0.3 q=-0.0 size=N/A time=00:01:03.00 bitrate=N/A dup=0 drop=1519 speed=0.253x    \r"
     ]
    },
    {
     "name": "stdout",
     "output_type": "stream",
     "text": [
      "[download]  71.4% of ~ 640.76MiB at    3.08MiB/s ETA 01:02 (frag 144/203)"
     ]
    },
    {
     "name": "stderr",
     "output_type": "stream",
     "text": [
      "frame=   22 fps=0.2 q=-0.0 size=N/A time=00:00:20.00 bitrate=N/A dup=0 drop=478 speed=0.223x     \r"
     ]
    },
    {
     "name": "stdout",
     "output_type": "stream",
     "text": [
      "[download]  71.4% of ~ 640.81MiB at    2.97MiB/s ETA 01:03 (frag 144/203)"
     ]
    },
    {
     "name": "stderr",
     "output_type": "stream",
     "text": [
      "frame=   65 fps=0.3 q=-0.0 size=N/A time=00:01:03.00 bitrate=N/A dup=0 drop=1525 speed=0.252x    \r"
     ]
    },
    {
     "name": "stdout",
     "output_type": "stream",
     "text": [
      "[download]  71.5% of ~ 641.46MiB at    3.01MiB/s ETA 01:02 (frag 144/203)"
     ]
    },
    {
     "name": "stderr",
     "output_type": "stream",
     "text": [
      "frame=   28 fps=0.2 q=-0.0 size=N/A time=00:00:26.00 bitrate=N/A dup=0 drop=1304 speed=0.146x    \r"
     ]
    },
    {
     "name": "stdout",
     "output_type": "stream",
     "text": [
      "[download]  71.0% of ~ 649.43MiB at    3.38MiB/s ETA 00:59 (frag 145/203)"
     ]
    },
    {
     "name": "stderr",
     "output_type": "stream",
     "text": [
      "frame=  125 fps=0.3 q=-0.0 size=N/A time=00:02:03.00 bitrate=N/A dup=0 drop=2963 speed=0.321x    \r"
     ]
    },
    {
     "name": "stdout",
     "output_type": "stream",
     "text": [
      "[download]  72.0% of ~ 641.37MiB at    2.88MiB/s ETA 01:02 (frag 145/203)"
     ]
    },
    {
     "name": "stderr",
     "output_type": "stream",
     "text": [
      "frame=  198 fps=1.1 q=-0.0 size=N/A time=00:03:16.00 bitrate=N/A dup=0 drop=5689 speed=1.12x     \r"
     ]
    },
    {
     "name": "stdout",
     "output_type": "stream",
     "text": [
      "[download]  71.3% of ~ 651.45MiB at    3.36MiB/s ETA 00:59 (frag 146/203)"
     ]
    },
    {
     "name": "stderr",
     "output_type": "stream",
     "text": [
      "frame=  106 fps=0.3 q=-0.0 size=N/A time=00:01:44.00 bitrate=N/A dup=0 drop=2502 speed=0.268x    \r"
     ]
    },
    {
     "name": "stdout",
     "output_type": "stream",
     "text": [
      "[download]  72.4% of ~ 641.71MiB at    2.68MiB/s ETA 01:03 (frag 146/203)"
     ]
    },
    {
     "name": "stderr",
     "output_type": "stream",
     "text": [
      "frame=   48 fps=1.0 q=-0.0 size=N/A time=00:00:46.00 bitrate=N/A dup=0 drop=1346 speed=0.955x    \r"
     ]
    },
    {
     "name": "stdout",
     "output_type": "stream",
     "text": [
      "[download]  72.5% of ~ 643.05MiB at    2.68MiB/s ETA 01:04 (frag 146/203)"
     ]
    },
    {
     "name": "stderr",
     "output_type": "stream",
     "text": [
      "frame=  199 fps=1.1 q=-0.0 size=N/A time=00:03:17.00 bitrate=N/A dup=0 drop=5730 speed=1.12x    \r"
     ]
    },
    {
     "name": "stdout",
     "output_type": "stream",
     "text": [
      "[download]  72.1% of ~ 646.74MiB at    2.78MiB/s ETA 01:03 (frag 147/203)"
     ]
    },
    {
     "name": "stderr",
     "output_type": "stream",
     "text": [
      "frame=   22 fps=0.2 q=-0.0 size=N/A time=00:00:20.00 bitrate=N/A dup=0 drop=499 speed=0.215x     \r"
     ]
    },
    {
     "name": "stdout",
     "output_type": "stream",
     "text": [
      "[download]  72.9% of ~ 640.02MiB at    2.46MiB/s ETA 01:06 (frag 147/203)"
     ]
    },
    {
     "name": "stderr",
     "output_type": "stream",
     "text": [
      "frame=  126 fps=0.3 q=-0.0 size=N/A time=00:02:04.00 bitrate=N/A dup=0 drop=2985 speed=0.322x    \r"
     ]
    },
    {
     "name": "stdout",
     "output_type": "stream",
     "text": [
      "[download]  73.1% of ~ 641.22MiB at    2.43MiB/s ETA 01:08 (frag 147/203)"
     ]
    },
    {
     "name": "stderr",
     "output_type": "stream",
     "text": [
      "frame=   66 fps=0.3 q=-0.0 size=N/A time=00:01:04.00 bitrate=N/A dup=0 drop=1545 speed=0.253x    \r"
     ]
    },
    {
     "name": "stdout",
     "output_type": "stream",
     "text": [
      "[download]  72.4% of ~ 649.51MiB at    2.87MiB/s ETA 01:05 (frag 148/203)"
     ]
    },
    {
     "name": "stderr",
     "output_type": "stream",
     "text": [
      "frame=   23 fps=0.2 q=-0.0 size=N/A time=00:00:21.00 bitrate=N/A dup=0 drop=504 speed=0.223x     \r"
     ]
    },
    {
     "name": "stdout",
     "output_type": "stream",
     "text": [
      "[download]  73.4% of ~ 640.37MiB at    2.66MiB/s ETA 01:06 (frag 148/203)"
     ]
    },
    {
     "name": "stderr",
     "output_type": "stream",
     "text": [
      "frame=  523 fps=1.4 q=-0.0 size=N/A time=00:08:41.00 bitrate=N/A dup=0 drop=12501 speed=1.39x    \r"
     ]
    },
    {
     "name": "stdout",
     "output_type": "stream",
     "text": [
      "[download]  73.5% of ~ 641.03MiB at    2.24MiB/s ETA 01:11 (frag 148/203)"
     ]
    },
    {
     "name": "stderr",
     "output_type": "stream",
     "text": [
      "frame=   29 fps=0.2 q=-0.0 size=N/A time=00:00:27.00 bitrate=N/A dup=0 drop=1342 speed=0.148x    \r"
     ]
    },
    {
     "name": "stdout",
     "output_type": "stream",
     "text": [
      "[download]  72.9% of ~ 649.36MiB at    2.69MiB/s ETA 01:08 (frag 149/203)"
     ]
    },
    {
     "name": "stderr",
     "output_type": "stream",
     "text": [
      "frame=  127 fps=0.3 q=-0.0 size=N/A time=00:02:05.00 bitrate=N/A dup=0 drop=2999 speed=0.323x    \r"
     ]
    },
    {
     "name": "stdout",
     "output_type": "stream",
     "text": [
      "[download]  73.9% of ~ 640.58MiB at    2.70MiB/s ETA 01:06 (frag 149/203)"
     ]
    },
    {
     "name": "stderr",
     "output_type": "stream",
     "text": [
      "frame=  525 fps=1.4 q=-0.0 size=N/A time=00:08:43.00 bitrate=N/A dup=0 drop=12548 speed=1.39x    \r"
     ]
    },
    {
     "name": "stdout",
     "output_type": "stream",
     "text": [
      "[download]  74.0% of ~ 641.23MiB at    2.64MiB/s ETA 01:06 (frag 149/203)"
     ]
    },
    {
     "name": "stderr",
     "output_type": "stream",
     "text": [
      "frame=  204 fps=1.1 q=-0.0 size=N/A time=00:03:22.00 bitrate=N/A dup=0 drop=5847 speed=1.13x     \r"
     ]
    },
    {
     "name": "stdout",
     "output_type": "stream",
     "text": [
      "[download]  74.0% of ~ 641.91MiB at    2.75MiB/s ETA 01:05 (frag 149/203)"
     ]
    },
    {
     "name": "stderr",
     "output_type": "stream",
     "text": [
      "frame=   23 fps=0.2 q=-0.0 size=N/A time=00:00:21.00 bitrate=N/A dup=0 drop=517 speed=0.218x     \r"
     ]
    },
    {
     "name": "stdout",
     "output_type": "stream",
     "text": [
      "[download]  73.4% of ~ 649.58MiB at    3.09MiB/s ETA 01:02 (frag 150/203)"
     ]
    },
    {
     "name": "stderr",
     "output_type": "stream",
     "text": [
      "frame=  127 fps=0.3 q=-0.0 size=N/A time=00:02:05.00 bitrate=N/A dup=0 drop=3008 speed=0.322x    \r"
     ]
    },
    {
     "name": "stdout",
     "output_type": "stream",
     "text": [
      "[download]  74.4% of ~ 640.80MiB at    2.84MiB/s ETA 01:03 (frag 150/203)"
     ]
    },
    {
     "name": "stderr",
     "output_type": "stream",
     "text": [
      "frame=  204 fps=1.1 q=-0.0 size=N/A time=00:03:22.00 bitrate=N/A dup=0 drop=5875 speed=1.12x     \r"
     ]
    },
    {
     "name": "stdout",
     "output_type": "stream",
     "text": [
      "[download]  74.4% of ~ 640.97MiB at    2.58MiB/s ETA 01:04 (frag 150/203)"
     ]
    },
    {
     "name": "stderr",
     "output_type": "stream",
     "text": [
      "frame=  127 fps=0.3 q=-0.0 size=N/A time=00:02:05.00 bitrate=N/A dup=0 drop=3013 speed=0.322x    \r"
     ]
    },
    {
     "name": "stdout",
     "output_type": "stream",
     "text": [
      "[download]  74.5% of ~ 642.14MiB at    2.78MiB/s ETA 01:02 (frag 150/203)"
     ]
    },
    {
     "name": "stderr",
     "output_type": "stream",
     "text": [
      "frame=  205 fps=1.1 q=-0.0 size=N/A time=00:03:23.00 bitrate=N/A dup=0 drop=5893 speed=1.13x     \r"
     ]
    },
    {
     "name": "stdout",
     "output_type": "stream",
     "text": [
      "[download]  74.1% of ~ 645.81MiB at    2.82MiB/s ETA 01:02 (frag 151/203)"
     ]
    },
    {
     "name": "stderr",
     "output_type": "stream",
     "text": [
      "frame=   29 fps=0.2 q=-0.0 size=N/A time=00:00:27.00 bitrate=N/A dup=0 drop=1360 speed=0.146x    \r"
     ]
    },
    {
     "name": "stdout",
     "output_type": "stream",
     "text": [
      "[download]  74.9% of ~ 639.08MiB at    2.81MiB/s ETA 01:01 (frag 151/203)"
     ]
    },
    {
     "name": "stderr",
     "output_type": "stream",
     "text": [
      "frame=  528 fps=1.4 q=-0.0 size=N/A time=00:08:46.00 bitrate=N/A dup=0 drop=12638 speed=1.39x    \r"
     ]
    },
    {
     "name": "stdout",
     "output_type": "stream",
     "text": [
      "[download]  74.9% of ~ 639.24MiB at    2.51MiB/s ETA 01:03 (frag 151/203)"
     ]
    },
    {
     "name": "stderr",
     "output_type": "stream",
     "text": [
      "frame=   53 fps=1.0 q=-0.0 size=N/A time=00:00:51.00 bitrate=N/A dup=0 drop=1500 speed=0.954x    \r"
     ]
    },
    {
     "name": "stdout",
     "output_type": "stream",
     "text": [
      "[download]  74.9% of ~ 641.74MiB at    2.41MiB/s ETA 01:05 (frag 151/203)"
     ]
    },
    {
     "name": "stderr",
     "output_type": "stream",
     "text": [
      "frame=  128 fps=0.3 q=-0.0 size=N/A time=00:02:06.00 bitrate=N/A dup=0 drop=3020 speed=0.323x    \r"
     ]
    },
    {
     "name": "stdout",
     "output_type": "stream",
     "text": [
      "[download]  74.6% of ~ 644.60MiB at    2.46MiB/s ETA 01:04 (frag 152/203)"
     ]
    },
    {
     "name": "stderr",
     "output_type": "stream",
     "text": [
      "frame=   24 fps=0.2 q=-0.0 size=N/A time=00:00:22.00 bitrate=N/A dup=0 drop=531 speed=0.223x     \r"
     ]
    },
    {
     "name": "stdout",
     "output_type": "stream",
     "text": [
      "[download]  75.4% of ~ 637.81MiB at    2.37MiB/s ETA 01:05 (frag 152/203)"
     ]
    },
    {
     "name": "stderr",
     "output_type": "stream",
     "text": [
      "frame=   55 fps=1.0 q=-0.0 size=N/A time=00:00:53.00 bitrate=N/A dup=0 drop=1533 speed=0.971x    \r"
     ]
    },
    {
     "name": "stdout",
     "output_type": "stream",
     "text": [
      "[download]  75.5% of ~ 638.97MiB at    2.36MiB/s ETA 01:06 (frag 152/203)"
     ]
    },
    {
     "name": "stderr",
     "output_type": "stream",
     "text": [
      "frame=  108 fps=0.3 q=-0.0 size=N/A time=00:01:46.00 bitrate=N/A dup=0 drop=2540 speed=0.268x    \r"
     ]
    },
    {
     "name": "stdout",
     "output_type": "stream",
     "text": [
      "[download]  74.9% of ~ 645.30MiB at    2.34MiB/s ETA 01:06 (frag 153/203)"
     ]
    },
    {
     "name": "stderr",
     "output_type": "stream",
     "text": [
      "frame=   55 fps=1.0 q=-0.0 size=N/A time=00:00:53.00 bitrate=N/A dup=0 drop=1549 speed=0.961x    \r"
     ]
    },
    {
     "name": "stdout",
     "output_type": "stream",
     "text": [
      "[download]  75.9% of ~ 637.32MiB at    2.35MiB/s ETA 01:06 (frag 153/203)"
     ]
    },
    {
     "name": "stderr",
     "output_type": "stream",
     "text": [
      "frame=  128 fps=0.3 q=-0.0 size=N/A time=00:02:06.00 bitrate=N/A dup=0 drop=3036 speed=0.322x    \r"
     ]
    },
    {
     "name": "stdout",
     "output_type": "stream",
     "text": [
      "[download]  75.9% of ~ 637.96MiB at    2.44MiB/s ETA 01:05 (frag 153/203)"
     ]
    },
    {
     "name": "stderr",
     "output_type": "stream",
     "text": [
      "frame=  108 fps=0.3 q=-0.0 size=N/A time=00:01:46.00 bitrate=N/A dup=0 drop=2547 speed=0.268x    \r"
     ]
    },
    {
     "name": "stdout",
     "output_type": "stream",
     "text": [
      "[download]  76.0% of ~ 639.94MiB at    2.59MiB/s ETA 01:03 (frag 153/203)"
     ]
    },
    {
     "name": "stderr",
     "output_type": "stream",
     "text": [
      "frame=   24 fps=0.2 q=-0.0 size=N/A time=00:00:22.00 bitrate=N/A dup=0 drop=543 speed=0.219x    \r"
     ]
    },
    {
     "name": "stdout",
     "output_type": "stream",
     "text": [
      "[download]  75.4% of ~ 645.71MiB at    2.72MiB/s ETA 01:02 (frag 154/203)"
     ]
    },
    {
     "name": "stderr",
     "output_type": "stream",
     "text": [
      "frame=   57 fps=1.0 q=-0.0 size=N/A time=00:00:55.00 bitrate=N/A dup=0 drop=1595 speed=0.969x    \r"
     ]
    },
    {
     "name": "stdout",
     "output_type": "stream",
     "text": [
      "[download]  76.4% of ~ 637.70MiB at    2.32MiB/s ETA 01:04 (frag 154/203)"
     ]
    },
    {
     "name": "stderr",
     "output_type": "stream",
     "text": [
      "frame=   25 fps=0.2 q=-0.0 size=N/A time=00:00:23.00 bitrate=N/A dup=0 drop=548 speed=0.227x     \r"
     ]
    },
    {
     "name": "stdout",
     "output_type": "stream",
     "text": [
      "[download]  76.4% of ~ 642.61MiB at    2.94MiB/s ETA 01:00 (frag 154/203)"
     ]
    },
    {
     "name": "stderr",
     "output_type": "stream",
     "text": [
      "frame=   30 fps=0.2 q=-0.0 size=N/A time=00:00:28.00 bitrate=N/A dup=0 drop=1395 speed=0.148x    \r"
     ]
    },
    {
     "name": "stdout",
     "output_type": "stream",
     "text": [
      "[download]  75.7% of ~ 648.13MiB at    2.79MiB/s ETA 01:00 (frag 155/203)"
     ]
    },
    {
     "name": "stderr",
     "output_type": "stream",
     "text": [
      "frame=  129 fps=0.3 q=-0.0 size=N/A time=00:02:07.00 bitrate=N/A dup=0 drop=3051 speed=0.322x    \r"
     ]
    },
    {
     "name": "stdout",
     "output_type": "stream",
     "text": [
      "[download]  76.9% of ~ 639.28MiB at    2.67MiB/s ETA 00:59 (frag 155/203)"
     ]
    },
    {
     "name": "stderr",
     "output_type": "stream",
     "text": [
      "frame=  129 fps=0.3 q=-0.0 size=N/A time=00:02:07.00 bitrate=N/A dup=0 drop=3056 speed=0.322x    \r"
     ]
    },
    {
     "name": "stdout",
     "output_type": "stream",
     "text": [
      "[download]  77.1% of ~ 641.23MiB at    2.98MiB/s ETA 00:56 (frag 155/203)Deleting original file ./dataset_splited/yB7-bVpsOic/video_1080p.f251.webm (pass -k to keep)\n",
      "Deleting original file ./dataset_splited/yB7-bVpsOic/video_1080p.f248.webm (pass -k to keep)\n",
      "[download]  76.3% of ~ 647.43MiB at    2.97MiB/s ETA 00:55 (frag 156/203)"
     ]
    },
    {
     "name": "stderr",
     "output_type": "stream",
     "text": [
      "frame=  537 fps=1.4 q=-0.0 size=N/A time=00:08:55.00 bitrate=N/A dup=0 drop=12854 speed=1.39x    \r"
     ]
    },
    {
     "name": "stdout",
     "output_type": "stream",
     "text": [
      "[download]  77.3% of ~ 638.95MiB at    2.97MiB/s ETA 00:54 (frag 156/203)"
     ]
    },
    {
     "name": "stderr",
     "output_type": "stream",
     "text": [
      "frame=  129 fps=0.3 q=-0.0 size=N/A time=00:02:07.00 bitrate=N/A dup=0 drop=3062 speed=0.321x    \r"
     ]
    },
    {
     "name": "stdout",
     "output_type": "stream",
     "text": [
      "[download]  77.4% of ~ 639.58MiB at    3.14MiB/s ETA 00:52 (frag 156/203)"
     ]
    },
    {
     "name": "stderr",
     "output_type": "stream",
     "text": [
      "frame=   25 fps=0.2 q=-0.0 size=N/A time=00:00:23.00 bitrate=N/A dup=0 drop=566 speed=0.221x     \r"
     ]
    },
    {
     "name": "stdout",
     "output_type": "stream",
     "text": [
      "[download]  77.5% of ~ 640.23MiB at    3.20MiB/s ETA 00:51 (frag 156/203)"
     ]
    },
    {
     "name": "stderr",
     "output_type": "stream",
     "text": [
      "frame=   68 fps=0.3 q=-0.0 size=N/A time=00:01:06.00 bitrate=N/A dup=0 drop=1590 speed=0.251x    \r"
     ]
    },
    {
     "name": "stdout",
     "output_type": "stream",
     "text": [
      "[download]  77.0% of ~ 643.79MiB at    3.10MiB/s ETA 00:51 (frag 157/203)"
     ]
    },
    {
     "name": "stderr",
     "output_type": "stream",
     "text": [
      "frame=  109 fps=0.3 q=-0.0 size=N/A time=00:01:47.00 bitrate=N/A dup=0 drop=2584 speed=0.267x    \r"
     ]
    },
    {
     "name": "stdout",
     "output_type": "stream",
     "text": [
      "[download]  77.8% of ~ 637.38MiB at    2.17MiB/s ETA 00:59 (frag 157/203)"
     ]
    },
    {
     "name": "stderr",
     "output_type": "stream",
     "text": [
      "frame=  214 fps=1.1 q=-0.0 size=N/A time=00:03:32.00 bitrate=N/A dup=0 drop=6148 speed=1.13x     \r"
     ]
    },
    {
     "name": "stdout",
     "output_type": "stream",
     "text": [
      "[download]  77.9% of ~ 637.94MiB at    2.05MiB/s ETA 01:02 (frag 157/203)"
     ]
    },
    {
     "name": "stderr",
     "output_type": "stream",
     "text": [
      "frame=  110 fps=0.3 q=-0.0 size=N/A time=00:01:48.00 bitrate=N/A dup=0 drop=2588 speed=0.269x    \r"
     ]
    },
    {
     "name": "stdout",
     "output_type": "stream",
     "text": [
      "[download]  78.0% of ~ 638.58MiB at    2.07MiB/s ETA 01:03 (frag 157/203)"
     ]
    },
    {
     "name": "stderr",
     "output_type": "stream",
     "text": [
      "frame=  130 fps=0.3 q=-0.0 size=N/A time=00:02:08.00 bitrate=N/A dup=0 drop=3082 speed=0.322x    \r"
     ]
    },
    {
     "name": "stdout",
     "output_type": "stream",
     "text": [
      "[download]  77.9% of ~ 642.44MiB at    2.05MiB/s ETA 01:04 (frag 157/203)"
     ]
    },
    {
     "name": "stderr",
     "output_type": "stream",
     "text": [
      "frame=  542 fps=1.4 q=-0.0 size=N/A time=00:09:00.00 bitrate=N/A dup=0 drop=12967 speed= 1.4x    \r"
     ]
    },
    {
     "name": "stdout",
     "output_type": "stream",
     "text": [
      "[download]  77.2% of ~ 648.25MiB at    2.08MiB/s ETA 01:04 (frag 158/203)"
     ]
    },
    {
     "name": "stderr",
     "output_type": "stream",
     "text": [
      "frame=  110 fps=0.3 q=-0.0 size=N/A time=00:01:48.00 bitrate=N/A dup=0 drop=2593 speed=0.269x    \r"
     ]
    },
    {
     "name": "stdout",
     "output_type": "stream",
     "text": [
      "[download]  78.3% of ~ 638.75MiB at    1.97MiB/s ETA 01:06 (frag 158/203)"
     ]
    },
    {
     "name": "stderr",
     "output_type": "stream",
     "text": [
      "frame=   68 fps=0.3 q=-0.0 size=N/A time=00:01:06.00 bitrate=N/A dup=0 drop=1602 speed=0.248x    \r"
     ]
    },
    {
     "name": "stdout",
     "output_type": "stream",
     "text": [
      "[download]  78.4% of ~ 639.37MiB at    1.78MiB/s ETA 01:11 (frag 158/203)"
     ]
    },
    {
     "name": "stderr",
     "output_type": "stream",
     "text": [
      "frame=  131 fps=0.3 q=-0.0 size=N/A time=00:02:09.00 bitrate=N/A dup=0 drop=3093 speed=0.324x    \r"
     ]
    },
    {
     "name": "stdout",
     "output_type": "stream",
     "text": [
      "[download]  78.0% of ~ 643.75MiB at    2.03MiB/s ETA 01:09 (frag 159/203)"
     ]
    },
    {
     "name": "stderr",
     "output_type": "stream",
     "text": [
      "frame=   31 fps=0.2 q=-0.0 size=N/A time=00:00:29.00 bitrate=N/A dup=0 drop=1438 speed=0.149x    \r"
     ]
    },
    {
     "name": "stdout",
     "output_type": "stream",
     "text": [
      "[download]  78.8% of ~ 637.39MiB at    2.50MiB/s ETA 01:02 (frag 159/203)"
     ]
    },
    {
     "name": "stderr",
     "output_type": "stream",
     "text": [
      "frame=  131 fps=0.3 q=-0.0 size=N/A time=00:02:09.00 bitrate=N/A dup=0 drop=3099 speed=0.323x    \r"
     ]
    },
    {
     "name": "stdout",
     "output_type": "stream",
     "text": [
      "[download]  79.1% of ~ 639.77MiB at    3.01MiB/s ETA 00:57 (frag 159/203)"
     ]
    },
    {
     "name": "stderr",
     "output_type": "stream",
     "text": [
      "ffmpeg version 4.2.7-0ubuntu0.1 Copyright (c) 2000-2022 the FFmpeg developers442 speed=0.149x    \n",
      "  built with gcc 9 (Ubuntu 9.4.0-1ubuntu1~20.04.1)\n",
      "  configuration: --prefix=/usr --extra-version=0ubuntu0.1 --toolchain=hardened --libdir=/usr/lib/x86_64-linux-gnu --incdir=/usr/include/x86_64-linux-gnu --arch=amd64 --enable-gpl --disable-stripping --enable-avresample --disable-filter=resample --enable-avisynth --enable-gnutls --enable-ladspa --enable-libaom --enable-libass --enable-libbluray --enable-libbs2b --enable-libcaca --enable-libcdio --enable-libcodec2 --enable-libflite --enable-libfontconfig --enable-libfreetype --enable-libfribidi --enable-libgme --enable-libgsm --enable-libjack --enable-libmp3lame --enable-libmysofa --enable-libopenjpeg --enable-libopenmpt --enable-libopus --enable-libpulse --enable-librsvg --enable-librubberband --enable-libshine --enable-libsnappy --enable-libsoxr --enable-libspeex --enable-libssh --enable-libtheora --enable-libtwolame --enable-libvidstab --enable-libvorbis --enable-libvpx --enable-libwavpack --enable-libwebp --enable-libx265 --enable-libxml2 --enable-libxvid --enable-libzmq --enable-libzvbi --enable-lv2 --enable-omx --enable-openal --enable-opencl --enable-opengl --enable-sdl2 --enable-libdc1394 --enable-libdrm --enable-libiec61883 --enable-nvenc --enable-chromaprint --enable-frei0r --enable-libx264 --enable-shared\n",
      "  libavutil      56. 31.100 / 56. 31.100\n",
      "  libavcodec     58. 54.100 / 58. 54.100\n",
      "  libavformat    58. 29.100 / 58. 29.100\n",
      "  libavdevice    58.  8.100 / 58.  8.100\n",
      "  libavfilter     7. 57.100 /  7. 57.100\n",
      "  libavresample   4.  0.  0 /  4.  0.  0\n",
      "  libswscale      5.  5.100 /  5.  5.100\n",
      "  libswresample   3.  5.100 /  3.  5.100\n",
      "  libpostproc    55.  5.100 / 55.  5.100\n",
      "frame=  110 fps=0.3 q=-0.0 size=N/A time=00:01:48.00 bitrate=N/A dup=0 drop=2608 speed=0.267x    \r"
     ]
    },
    {
     "name": "stdout",
     "output_type": "stream",
     "text": [
      "[download]  78.2% of ~ 646.86MiB at    3.14MiB/s ETA 00:55 (frag 160/203)"
     ]
    },
    {
     "name": "stderr",
     "output_type": "stream",
     "text": [
      "frame=   69 fps=0.3 q=-0.0 size=N/A time=00:01:07.00 bitrate=N/A dup=0 drop=1608 speed=0.25x     \r"
     ]
    },
    {
     "name": "stdout",
     "output_type": "stream",
     "text": [
      "[download]  79.3% of ~ 638.08MiB at    3.15MiB/s ETA 00:53 (frag 160/203)"
     ]
    },
    {
     "name": "stderr",
     "output_type": "stream",
     "text": [
      "frame=  218 fps=1.1 q=-0.0 size=N/A time=00:03:36.00 bitrate=N/A dup=0 drop=6257 speed=1.13x     \r"
     ]
    },
    {
     "name": "stdout",
     "output_type": "stream",
     "text": [
      "[download]  79.3% of ~ 638.37MiB at    2.95MiB/s ETA 00:51 (frag 160/203)"
     ]
    },
    {
     "name": "stderr",
     "output_type": "stream",
     "text": [
      "frame=   69 fps=0.3 q=-0.0 size=N/A time=00:01:07.00 bitrate=N/A dup=0 drop=1611 speed=0.25x     \r"
     ]
    },
    {
     "name": "stdout",
     "output_type": "stream",
     "text": [
      "[download]  79.4% of ~ 640.58MiB at    2.74MiB/s ETA 00:52 (frag 160/203)"
     ]
    },
    {
     "name": "stderr",
     "output_type": "stream",
     "text": [
      "Input #0, matroska,webm, from './dataset_splited/yB7-bVpsOic/video_1080p.webm':\n",
      "  Metadata:\n",
      "    ENCODER         : Lavf58.29.100\n",
      "  Duration: 00:13:03.04, start: -0.007000, bitrate: 2726 kb/s\n",
      "    Stream #0:0(eng): Video: vp9 (Profile 0), yuv420p(tv, bt709), 1920x1080, SAR 1:1 DAR 16:9, 29.97 fps, 29.97 tbr, 1k tbn, 1k tbc (default)\n",
      "    Metadata:\n",
      "      DURATION        : 00:13:03.015000000\n",
      "    Stream #0:1(eng): Audio: opus, 48000 Hz, stereo, fltp (default)\n",
      "    Metadata:\n",
      "      DURATION        : 00:13:03.041000000\n",
      "Stream mapping:\n",
      "  Stream #0:0 -> #0:0 (vp9 (native) -> png (native))\n",
      "Press [q] to stop, [?] for help\n",
      "frame=   27 fps=0.2 q=-0.0 size=N/A time=00:00:25.00 bitrate=N/A dup=0 drop=600 speed=0.229x     \r"
     ]
    },
    {
     "name": "stdout",
     "output_type": "stream",
     "text": [
      "[download]  78.9% of ~ 644.86MiB at    2.77MiB/s ETA 00:51 (frag 161/203)"
     ]
    },
    {
     "name": "stderr",
     "output_type": "stream",
     "text": [
      "frame=   31 fps=0.2 q=-0.0 size=N/A time=00:00:29.00 bitrate=N/A dup=0 drop=1453 speed=0.148x    \r"
     ]
    },
    {
     "name": "stdout",
     "output_type": "stream",
     "text": [
      "[download]  79.8% of ~ 637.50MiB at    2.80MiB/s ETA 00:50 (frag 161/203)"
     ]
    },
    {
     "name": "stderr",
     "output_type": "stream",
     "text": [
      "Output #0, image2, to './dataset_splited/yB7-bVpsOic/frames_1080p/frame-%04d.png':peed=0.324x    \n",
      "  Metadata:\n",
      "    encoder         : Lavf58.29.100\n",
      "    Stream #0:0(eng): Video: png, rgb24, 1920x1080 [SAR 1:1 DAR 16:9], q=2-31, 200 kb/s, 1 fps, 1 tbn, 1 tbc (default)\n",
      "    Metadata:\n",
      "      DURATION        : 00:13:03.015000000\n",
      "      encoder         : Lavc58.54.100 png\n",
      "frame=    1 fps=0.0 q=0.0 size=N/A time=00:00:00.00 bitrate=N/A speed=   0x    \r"
     ]
    },
    {
     "name": "stdout",
     "output_type": "stream",
     "text": [
      "[download]  79.8% of ~ 637.57MiB at    2.74MiB/s ETA 00:49 (frag 161/203)"
     ]
    },
    {
     "name": "stderr",
     "output_type": "stream",
     "text": [
      "frame=   31 fps=0.2 q=-0.0 size=N/A time=00:00:29.00 bitrate=N/A dup=0 drop=1457 speed=0.147x    \r"
     ]
    },
    {
     "name": "stdout",
     "output_type": "stream",
     "text": [
      "[download]  80.0% of ~ 638.75MiB at    2.73MiB/s ETA 00:49 (frag 161/203)"
     ]
    },
    {
     "name": "stderr",
     "output_type": "stream",
     "text": [
      "frame=  132 fps=0.3 q=-0.0 size=N/A time=00:02:10.00 bitrate=N/A dup=0 drop=3122 speed=0.323x    \r"
     ]
    },
    {
     "name": "stdout",
     "output_type": "stream",
     "text": [
      "[download]  79.4% of ~ 644.04MiB at    2.91MiB/s ETA 00:48 (frag 162/203)"
     ]
    },
    {
     "name": "stderr",
     "output_type": "stream",
     "text": [
      "frame=  551 fps=1.4 q=-0.0 size=N/A time=00:09:09.00 bitrate=N/A dup=0 drop=13194 speed= 1.4x    \r"
     ]
    },
    {
     "name": "stdout",
     "output_type": "stream",
     "text": [
      "[download]  80.4% of ~ 637.46MiB at    2.19MiB/s ETA 00:54 (frag 162/203)"
     ]
    },
    {
     "name": "stderr",
     "output_type": "stream",
     "text": [
      "frame=  132 fps=0.3 q=-0.0 size=N/A time=00:02:10.00 bitrate=N/A dup=0 drop=3131 speed=0.323x    \r"
     ]
    },
    {
     "name": "stdout",
     "output_type": "stream",
     "text": [
      "[download]  80.5% of ~ 638.08MiB at    2.28MiB/s ETA 00:54 (frag 162/203)"
     ]
    },
    {
     "name": "stderr",
     "output_type": "stream",
     "text": [
      "frame=  553 fps=1.4 q=-0.0 size=N/A time=00:09:11.00 bitrate=N/A dup=0 drop=13220 speed=1.41x    \r"
     ]
    },
    {
     "name": "stdout",
     "output_type": "stream",
     "text": [
      "[download]  79.6% of ~ 647.31MiB at    2.63MiB/s ETA 00:52 (frag 163/203)"
     ]
    },
    {
     "name": "stderr",
     "output_type": "stream",
     "text": [
      "frame=   69 fps=1.0 q=-0.0 size=N/A time=00:01:07.00 bitrate=N/A dup=0 drop=1946 speed=0.992x    \r"
     ]
    },
    {
     "name": "stdout",
     "output_type": "stream",
     "text": [
      "[download]  80.8% of ~ 638.16MiB at    2.54MiB/s ETA 00:52 (frag 163/203)"
     ]
    },
    {
     "name": "stderr",
     "output_type": "stream",
     "text": [
      "frame=    2 fps=0.7 q=0.0 size=N/A time=00:00:00.00 bitrate=N/A dup=0 drop=15 speed=   0x        \r"
     ]
    },
    {
     "name": "stdout",
     "output_type": "stream",
     "text": [
      "[download]  80.8% of ~ 638.31MiB at    2.57MiB/s ETA 00:50 (frag 163/203)"
     ]
    },
    {
     "name": "stderr",
     "output_type": "stream",
     "text": [
      "frame=  554 fps=1.4 q=-0.0 size=N/A time=00:09:12.00 bitrate=N/A dup=0 drop=13264 speed= 1.4x    \r"
     ]
    },
    {
     "name": "stdout",
     "output_type": "stream",
     "text": [
      "[download]  80.9% of ~ 639.39MiB at    2.71MiB/s ETA 00:49 (frag 163/203)"
     ]
    },
    {
     "name": "stderr",
     "output_type": "stream",
     "text": [
      "frame=   32 fps=0.2 q=-0.0 size=N/A time=00:00:30.00 bitrate=N/A dup=0 drop=1476 speed=0.15x     \r"
     ]
    },
    {
     "name": "stdout",
     "output_type": "stream",
     "text": [
      "[download]  80.2% of ~ 647.55MiB at    3.10MiB/s ETA 00:46 (frag 164/203)"
     ]
    },
    {
     "name": "stderr",
     "output_type": "stream",
     "text": [
      "frame=   32 fps=0.2 q=-0.0 size=N/A time=00:00:30.00 bitrate=N/A dup=0 drop=1480 speed=0.15x     \r"
     ]
    },
    {
     "name": "stdout",
     "output_type": "stream",
     "text": [
      "[download]  81.3% of ~ 639.26MiB at    3.02MiB/s ETA 00:44 (frag 164/203)"
     ]
    },
    {
     "name": "stderr",
     "output_type": "stream",
     "text": [
      "frame=  556 fps=1.4 q=-0.0 size=N/A time=00:09:14.00 bitrate=N/A dup=0 drop=13300 speed=1.41x    \r"
     ]
    },
    {
     "name": "stdout",
     "output_type": "stream",
     "text": [
      "[download]  81.4% of ~ 639.57MiB at    3.08MiB/s ETA 00:43 (frag 164/203)"
     ]
    },
    {
     "name": "stderr",
     "output_type": "stream",
     "text": [
      "frame=    2 fps=0.4 q=0.0 size=N/A time=00:00:00.00 bitrate=N/A dup=0 drop=23 speed=   0x    \r"
     ]
    },
    {
     "name": "stdout",
     "output_type": "stream",
     "text": [
      "[download]  81.0% of ~ 643.63MiB at    3.23MiB/s ETA 00:42 (frag 165/203)"
     ]
    },
    {
     "name": "stderr",
     "output_type": "stream",
     "text": [
      "frame=  133 fps=0.3 q=-0.0 size=N/A time=00:02:11.00 bitrate=N/A dup=0 drop=3154 speed=0.323x    \r"
     ]
    },
    {
     "name": "stdout",
     "output_type": "stream",
     "text": [
      "[download]  81.8% of ~ 637.43MiB at    3.12MiB/s ETA 00:41 (frag 165/203)"
     ]
    },
    {
     "name": "stderr",
     "output_type": "stream",
     "text": [
      "frame=   28 fps=0.2 q=-0.0 size=N/A time=00:00:26.00 bitrate=N/A dup=0 drop=632 speed=0.227x     \r"
     ]
    },
    {
     "name": "stdout",
     "output_type": "stream",
     "text": [
      "[download]  81.9% of ~ 638.04MiB at    2.64MiB/s ETA 00:43 (frag 165/203)"
     ]
    },
    {
     "name": "stderr",
     "output_type": "stream",
     "text": [
      "frame=   70 fps=0.3 q=-0.0 size=N/A time=00:01:08.00 bitrate=N/A dup=0 drop=1634 speed=0.248x    \r"
     ]
    },
    {
     "name": "stdout",
     "output_type": "stream",
     "text": [
      "[download]  81.9% of ~ 638.65MiB at    2.64MiB/s ETA 00:43 (frag 165/203)"
     ]
    },
    {
     "name": "stderr",
     "output_type": "stream",
     "text": [
      "frame=   32 fps=0.2 q=-0.0 size=N/A time=00:00:30.00 bitrate=N/A dup=0 drop=1491 speed=0.149x    \r"
     ]
    },
    {
     "name": "stdout",
     "output_type": "stream",
     "text": [
      "[download]  81.2% of ~ 645.73MiB at    2.96MiB/s ETA 00:42 (frag 166/203)"
     ]
    },
    {
     "name": "stderr",
     "output_type": "stream",
     "text": [
      "frame=  113 fps=0.3 q=-0.0 size=N/A time=00:01:51.00 bitrate=N/A dup=0 drop=2660 speed=0.27x     \r"
     ]
    },
    {
     "name": "stdout",
     "output_type": "stream",
     "text": [
      "[download]  82.3% of ~ 637.89MiB at    2.67MiB/s ETA 00:42 (frag 166/203)"
     ]
    },
    {
     "name": "stderr",
     "output_type": "stream",
     "text": [
      "frame=   70 fps=0.3 q=-0.0 size=N/A time=00:01:08.00 bitrate=N/A dup=0 drop=1639 speed=0.248x    \r"
     ]
    },
    {
     "name": "stdout",
     "output_type": "stream",
     "text": [
      "[download]  82.4% of ~ 638.95MiB at    2.49MiB/s ETA 00:43 (frag 166/203)"
     ]
    },
    {
     "name": "stderr",
     "output_type": "stream",
     "text": [
      "frame=  113 fps=0.3 q=-0.0 size=N/A time=00:01:51.00 bitrate=N/A dup=0 drop=2665 speed=0.27x     \r"
     ]
    },
    {
     "name": "stdout",
     "output_type": "stream",
     "text": [
      "[download]  82.0% of ~ 642.26MiB at    2.54MiB/s ETA 00:43 (frag 167/203)"
     ]
    },
    {
     "name": "stderr",
     "output_type": "stream",
     "text": [
      "frame=  226 fps=1.1 q=-0.0 size=N/A time=00:03:44.00 bitrate=N/A dup=0 drop=6511 speed=1.13x    \r"
     ]
    },
    {
     "name": "stdout",
     "output_type": "stream",
     "text": [
      "[download]  82.8% of ~ 636.21MiB at    2.46MiB/s ETA 00:44 (frag 167/203)"
     ]
    },
    {
     "name": "stderr",
     "output_type": "stream",
     "text": [
      "frame=  134 fps=0.3 q=-0.0 size=N/A time=00:02:12.00 bitrate=N/A dup=0 drop=3178 speed=0.323x    \r"
     ]
    },
    {
     "name": "stdout",
     "output_type": "stream",
     "text": [
      "[download]  82.8% of ~ 636.80MiB at    2.40MiB/s ETA 00:44 (frag 167/203)"
     ]
    },
    {
     "name": "stderr",
     "output_type": "stream",
     "text": [
      "frame=   32 fps=0.2 q=-0.0 size=N/A time=00:00:30.00 bitrate=N/A dup=0 drop=1504 speed=0.147x    \r"
     ]
    },
    {
     "name": "stdout",
     "output_type": "stream",
     "text": [
      "[download]  82.4% of ~ 642.34MiB at    2.54MiB/s ETA 00:44 (frag 168/203)"
     ]
    },
    {
     "name": "stderr",
     "output_type": "stream",
     "text": [
      "frame=   70 fps=0.3 q=-0.0 size=N/A time=00:01:08.00 bitrate=N/A dup=0 drop=1646 speed=0.246x    \r"
     ]
    },
    {
     "name": "stdout",
     "output_type": "stream",
     "text": [
      "[download]  83.3% of ~ 635.52MiB at    2.59MiB/s ETA 00:43 (frag 168/203)"
     ]
    },
    {
     "name": "stderr",
     "output_type": "stream",
     "text": [
      "frame=  562 fps=1.4 q=-0.0 size=N/A time=00:09:20.00 bitrate=N/A dup=0 drop=13436 speed=1.41x    \r"
     ]
    },
    {
     "name": "stdout",
     "output_type": "stream",
     "text": [
      "[download]  83.3% of ~ 636.08MiB at    2.45MiB/s ETA 00:43 (frag 168/203)"
     ]
    },
    {
     "name": "stderr",
     "output_type": "stream",
     "text": [
      "frame=  113 fps=0.3 q=-0.0 size=N/A time=00:01:51.00 bitrate=N/A dup=0 drop=2678 speed=0.269x    \r"
     ]
    },
    {
     "name": "stdout",
     "output_type": "stream",
     "text": [
      "[download]  83.4% of ~ 636.68MiB at    2.38MiB/s ETA 00:43 (frag 168/203)"
     ]
    },
    {
     "name": "stderr",
     "output_type": "stream",
     "text": [
      "frame=    3 fps=0.3 q=-0.0 size=N/A time=00:00:01.00 bitrate=N/A dup=0 drop=34 speed=0.113x      \r"
     ]
    },
    {
     "name": "stdout",
     "output_type": "stream",
     "text": [
      "[download]  83.3% of ~ 640.29MiB at    2.62MiB/s ETA 00:42 (frag 168/203)"
     ]
    },
    {
     "name": "stderr",
     "output_type": "stream",
     "text": [
      "frame=   29 fps=0.2 q=-0.0 size=N/A time=00:00:27.00 bitrate=N/A dup=0 drop=657 speed=0.228x     \r"
     ]
    },
    {
     "name": "stdout",
     "output_type": "stream",
     "text": [
      "[download]  82.6% of ~ 645.74MiB at    2.74MiB/s ETA 00:42 (frag 169/203)"
     ]
    },
    {
     "name": "stderr",
     "output_type": "stream",
     "text": [
      "frame=   76 fps=1.0 q=-0.0 size=N/A time=00:01:14.00 bitrate=N/A dup=0 drop=2151 speed=0.998x    \r"
     ]
    },
    {
     "name": "stdout",
     "output_type": "stream",
     "text": [
      "[download]  83.7% of ~ 636.86MiB at    2.66MiB/s ETA 00:41 (frag 169/203)"
     ]
    },
    {
     "name": "stderr",
     "output_type": "stream",
     "text": [
      "frame=  230 fps=1.1 q=-0.0 size=N/A time=00:03:48.00 bitrate=N/A dup=0 drop=6610 speed=1.13x     \r"
     ]
    },
    {
     "name": "stdout",
     "output_type": "stream",
     "text": [
      "[download]  83.8% of ~ 637.44MiB at    2.53MiB/s ETA 00:42 (frag 169/203)"
     ]
    },
    {
     "name": "stderr",
     "output_type": "stream",
     "text": [
      "frame=  135 fps=0.3 q=-0.0 size=N/A time=00:02:13.00 bitrate=N/A dup=0 drop=3202 speed=0.324x    \r"
     ]
    },
    {
     "name": "stdout",
     "output_type": "stream",
     "text": [
      "[download]  83.3% of ~ 643.99MiB at    3.02MiB/s ETA 00:39 (frag 170/203)"
     ]
    },
    {
     "name": "stderr",
     "output_type": "stream",
     "text": [
      "frame=  231 fps=1.1 q=-0.0 size=N/A time=00:03:49.00 bitrate=N/A dup=0 drop=6653 speed=1.13x     \r"
     ]
    },
    {
     "name": "stdout",
     "output_type": "stream",
     "text": [
      "[download]  84.2% of ~ 636.69MiB at    2.71MiB/s ETA 00:39 (frag 170/203)"
     ]
    },
    {
     "name": "stderr",
     "output_type": "stream",
     "text": [
      "frame=  565 fps=1.4 q=-0.0 size=N/A time=00:09:23.00 bitrate=N/A dup=0 drop=13531 speed=1.41x    \r"
     ]
    },
    {
     "name": "stdout",
     "output_type": "stream",
     "text": [
      "[download]  84.3% of ~ 637.26MiB at    2.71MiB/s ETA 00:38 (frag 170/203)"
     ]
    },
    {
     "name": "stderr",
     "output_type": "stream",
     "text": [
      "frame=   71 fps=0.3 q=-0.0 size=N/A time=00:01:09.00 bitrate=N/A dup=0 drop=1661 speed=0.247x    \r"
     ]
    },
    {
     "name": "stdout",
     "output_type": "stream",
     "text": [
      "[download]  84.4% of ~ 637.86MiB at    2.82MiB/s ETA 00:38 (frag 170/203)"
     ]
    },
    {
     "name": "stderr",
     "output_type": "stream",
     "text": [
      "frame=  566 fps=1.4 q=-0.0 size=N/A time=00:09:24.00 bitrate=N/A dup=0 drop=13550 speed=1.41x    \r"
     ]
    },
    {
     "name": "stdout",
     "output_type": "stream",
     "text": [
      "[download]  83.6% of ~ 647.00MiB at    2.80MiB/s ETA 00:37 (frag 171/203)"
     ]
    },
    {
     "name": "stderr",
     "output_type": "stream",
     "text": [
      "frame=   33 fps=0.2 q=-0.0 size=N/A time=00:00:31.00 bitrate=N/A dup=0 drop=1533 speed=0.149x    \r"
     ]
    },
    {
     "name": "stdout",
     "output_type": "stream",
     "text": [
      "[download]  84.7% of ~ 638.12MiB at    2.71MiB/s ETA 00:37 (frag 171/203)"
     ]
    },
    {
     "name": "stderr",
     "output_type": "stream",
     "text": [
      "frame=  568 fps=1.4 q=-0.0 size=N/A time=00:09:26.00 bitrate=N/A dup=0 drop=13587 speed=1.41x    \r"
     ]
    },
    {
     "name": "stdout",
     "output_type": "stream",
     "text": [
      "[download]  84.8% of ~ 638.40MiB at    2.63MiB/s ETA 00:37 (frag 171/203)"
     ]
    },
    {
     "name": "stderr",
     "output_type": "stream",
     "text": [
      "frame=  114 fps=0.3 q=-0.0 size=N/A time=00:01:52.00 bitrate=N/A dup=0 drop=2705 speed=0.268x    \r"
     ]
    },
    {
     "name": "stdout",
     "output_type": "stream",
     "text": [
      "[download]  84.9% of ~ 640.46MiB at    3.04MiB/s ETA 00:35 (frag 171/203)"
     ]
    },
    {
     "name": "stderr",
     "output_type": "stream",
     "text": [
      "frame=   79 fps=1.0 q=-0.0 size=N/A time=00:01:17.00 bitrate=N/A dup=0 drop=2239 speed=0.992x    \r"
     ]
    },
    {
     "name": "stdout",
     "output_type": "stream",
     "text": [
      "[download]  84.2% of ~ 645.54MiB at    3.01MiB/s ETA 00:35 (frag 172/203)"
     ]
    },
    {
     "name": "stderr",
     "output_type": "stream",
     "text": [
      "frame=  569 fps=1.4 q=-0.0 size=N/A time=00:09:27.00 bitrate=N/A dup=0 drop=13612 speed=1.41x    \r"
     ]
    },
    {
     "name": "stdout",
     "output_type": "stream",
     "text": [
      "[download]  85.2% of ~ 638.12MiB at    2.79MiB/s ETA 00:35 (frag 172/203)"
     ]
    },
    {
     "name": "stderr",
     "output_type": "stream",
     "text": [
      "frame=    4 fps=0.3 q=-0.0 size=N/A time=00:00:02.00 bitrate=N/A dup=0 drop=66 speed=0.15x       \r"
     ]
    },
    {
     "name": "stdout",
     "output_type": "stream",
     "text": [
      "[download]  85.3% of ~ 638.40MiB at    2.78MiB/s ETA 00:35 (frag 172/203)"
     ]
    },
    {
     "name": "stderr",
     "output_type": "stream",
     "text": [
      "frame=   79 fps=1.0 q=-0.0 size=N/A time=00:01:17.00 bitrate=N/A dup=0 drop=2253 speed=0.984x    \r"
     ]
    },
    {
     "name": "stdout",
     "output_type": "stream",
     "text": [
      "[download]  85.4% of ~ 639.28MiB at    2.91MiB/s ETA 00:34 (frag 172/203)"
     ]
    },
    {
     "name": "stderr",
     "output_type": "stream",
     "text": [
      "frame=  235 fps=1.1 q=-0.0 size=N/A time=00:03:53.00 bitrate=N/A dup=0 drop=6771 speed=1.13x    \r"
     ]
    },
    {
     "name": "stdout",
     "output_type": "stream",
     "text": [
      "[download]  84.6% of ~ 647.49MiB at    3.34MiB/s ETA 00:32 (frag 173/203)"
     ]
    },
    {
     "name": "stderr",
     "output_type": "stream",
     "text": [
      "frame=   80 fps=1.0 q=-0.0 size=N/A time=00:01:18.00 bitrate=N/A dup=0 drop=2266 speed=0.991x    \r"
     ]
    },
    {
     "name": "stdout",
     "output_type": "stream",
     "text": [
      "[download]  85.7% of ~ 639.10MiB at    3.14MiB/s ETA 00:33 (frag 173/203)"
     ]
    },
    {
     "name": "stderr",
     "output_type": "stream",
     "text": [
      "frame=  572 fps=1.4 q=-0.0 size=N/A time=00:09:30.00 bitrate=N/A dup=0 drop=13680 speed=1.41x    \r"
     ]
    },
    {
     "name": "stdout",
     "output_type": "stream",
     "text": [
      "[download]  85.7% of ~ 639.14MiB at    2.84MiB/s ETA 00:33 (frag 173/203)"
     ]
    },
    {
     "name": "stderr",
     "output_type": "stream",
     "text": [
      "frame=   30 fps=0.2 q=-0.0 size=N/A time=00:00:28.00 bitrate=N/A dup=0 drop=686 speed=0.226x     \r"
     ]
    },
    {
     "name": "stdout",
     "output_type": "stream",
     "text": [
      "[download]  85.8% of ~ 639.69MiB at    2.82MiB/s ETA 00:33 (frag 173/203)"
     ]
    },
    {
     "name": "stderr",
     "output_type": "stream",
     "text": [
      "frame=  237 fps=1.1 q=-0.0 size=N/A time=00:03:55.00 bitrate=N/A dup=0 drop=6804 speed=1.14x     \r"
     ]
    },
    {
     "name": "stdout",
     "output_type": "stream",
     "text": [
      "[download]  85.8% of ~ 640.27MiB at    2.82MiB/s ETA 00:33 (frag 173/203)"
     ]
    },
    {
     "name": "stderr",
     "output_type": "stream",
     "text": [
      "frame=   33 fps=0.2 q=-0.0 size=N/A time=00:00:31.00 bitrate=N/A dup=0 drop=1558 speed=0.147x    \r"
     ]
    },
    {
     "name": "stdout",
     "output_type": "stream",
     "text": [
      "[download]  85.4% of ~ 643.43MiB at    2.89MiB/s ETA 00:33 (frag 174/203)"
     ]
    },
    {
     "name": "stderr",
     "output_type": "stream",
     "text": [
      "frame=  237 fps=1.1 q=-0.0 size=N/A time=00:03:55.00 bitrate=N/A dup=0 drop=6823 speed=1.13x     \r"
     ]
    },
    {
     "name": "stdout",
     "output_type": "stream",
     "text": [
      "[download]  86.2% of ~ 637.75MiB at    2.37MiB/s ETA 00:35 (frag 174/203)"
     ]
    },
    {
     "name": "stderr",
     "output_type": "stream",
     "text": [
      "frame=  137 fps=0.3 q=-0.0 size=N/A time=00:02:15.00 bitrate=N/A dup=0 drop=3250 speed=0.324x    \r"
     ]
    },
    {
     "name": "stdout",
     "output_type": "stream",
     "text": [
      "[download]  86.4% of ~ 638.76MiB at    2.52MiB/s ETA 00:34 (frag 174/203)"
     ]
    },
    {
     "name": "stderr",
     "output_type": "stream",
     "text": [
      "frame=   34 fps=0.2 q=-0.0 size=N/A time=00:00:32.00 bitrate=N/A dup=0 drop=1562 speed=0.151x    \r"
     ]
    },
    {
     "name": "stdout",
     "output_type": "stream",
     "text": [
      "[download]  85.9% of ~ 642.05MiB at    2.56MiB/s ETA 00:34 (frag 175/203)"
     ]
    },
    {
     "name": "stderr",
     "output_type": "stream",
     "text": [
      "frame=  137 fps=0.3 q=-0.0 size=N/A time=00:02:15.00 bitrate=N/A dup=0 drop=3255 speed=0.324x    \r"
     ]
    },
    {
     "name": "stdout",
     "output_type": "stream",
     "text": [
      "[download]  86.7% of ~ 636.20MiB at    2.54MiB/s ETA 00:34 (frag 175/203)"
     ]
    },
    {
     "name": "stderr",
     "output_type": "stream",
     "text": [
      "frame=  116 fps=0.3 q=-0.0 size=N/A time=00:01:54.00 bitrate=N/A dup=0 drop=2732 speed=0.27x    \r"
     ]
    },
    {
     "name": "stdout",
     "output_type": "stream",
     "text": [
      "[download]  86.8% of ~ 636.77MiB at    1.96MiB/s ETA 00:38 (frag 175/203)"
     ]
    },
    {
     "name": "stderr",
     "output_type": "stream",
     "text": [
      "frame=   31 fps=0.2 q=-0.0 size=N/A time=00:00:29.00 bitrate=N/A dup=0 drop=698 speed=0.23x      \r"
     ]
    },
    {
     "name": "stdout",
     "output_type": "stream",
     "text": [
      "[download]  86.9% of ~ 637.34MiB at    1.96MiB/s ETA 00:39 (frag 175/203)"
     ]
    },
    {
     "name": "stderr",
     "output_type": "stream",
     "text": [
      "frame=  239 fps=1.1 q=-0.0 size=N/A time=00:03:57.00 bitrate=N/A dup=0 drop=6872 speed=1.13x     \r"
     ]
    },
    {
     "name": "stdout",
     "output_type": "stream",
     "text": [
      "[download]  86.7% of ~ 640.80MiB at    2.35MiB/s ETA 00:37 (frag 175/203)"
     ]
    },
    {
     "name": "stderr",
     "output_type": "stream",
     "text": [
      "frame=   83 fps=1.0 q=-0.0 size=N/A time=00:01:21.00 bitrate=N/A dup=0 drop=2365 speed=0.988x    \r"
     ]
    },
    {
     "name": "stdout",
     "output_type": "stream",
     "text": [
      "[download]  86.0% of ~ 646.09MiB at    2.46MiB/s ETA 00:37 (frag 176/203)"
     ]
    },
    {
     "name": "stderr",
     "output_type": "stream",
     "text": [
      "frame=  138 fps=0.3 q=-0.0 size=N/A time=00:02:16.00 bitrate=N/A dup=0 drop=3263 speed=0.325x    \r"
     ]
    },
    {
     "name": "stdout",
     "output_type": "stream",
     "text": [
      "[download]  87.2% of ~ 637.52MiB at    2.44MiB/s ETA 00:36 (frag 176/203)"
     ]
    },
    {
     "name": "stderr",
     "output_type": "stream",
     "text": [
      "frame=   34 fps=0.2 q=-0.0 size=N/A time=00:00:32.00 bitrate=N/A dup=0 drop=1575 speed=0.149x    \r"
     ]
    },
    {
     "name": "stdout",
     "output_type": "stream",
     "text": [
      "[download]  87.2% of ~ 637.66MiB at    2.28MiB/s ETA 00:36 (frag 176/203)"
     ]
    },
    {
     "name": "stderr",
     "output_type": "stream",
     "text": [
      "frame=  138 fps=0.3 q=-0.0 size=N/A time=00:02:16.00 bitrate=N/A dup=0 drop=3269 speed=0.325x    \r"
     ]
    },
    {
     "name": "stdout",
     "output_type": "stream",
     "text": [
      "[download]  87.3% of ~ 638.67MiB at    2.49MiB/s ETA 00:35 (frag 176/203)"
     ]
    },
    {
     "name": "stderr",
     "output_type": "stream",
     "text": [
      "frame=   31 fps=0.2 q=-0.0 size=N/A time=00:00:29.00 bitrate=N/A dup=0 drop=706 speed=0.227x     \r"
     ]
    },
    {
     "name": "stdout",
     "output_type": "stream",
     "text": [
      "[download]  87.5% of ~ 639.81MiB at    2.77MiB/s ETA 00:34 (frag 176/203)"
     ]
    },
    {
     "name": "stderr",
     "output_type": "stream",
     "text": [
      "frame=   34 fps=0.2 q=-0.0 size=N/A time=00:00:32.00 bitrate=N/A dup=0 drop=1581 speed=0.149x    \r"
     ]
    },
    {
     "name": "stdout",
     "output_type": "stream",
     "text": [
      "[download]  86.6% of ~ 646.74MiB at    2.90MiB/s ETA 00:33 (frag 177/203)"
     ]
    },
    {
     "name": "stderr",
     "output_type": "stream",
     "text": [
      "frame=  116 fps=0.3 q=-0.0 size=N/A time=00:01:54.00 bitrate=N/A dup=0 drop=2751 speed=0.269x    \r"
     ]
    },
    {
     "name": "stdout",
     "output_type": "stream",
     "text": [
      "[download]  87.7% of ~ 638.53MiB at    2.87MiB/s ETA 00:32 (frag 177/203)"
     ]
    },
    {
     "name": "stderr",
     "output_type": "stream",
     "text": [
      "frame=    6 fps=0.3 q=-0.0 size=N/A time=00:00:04.00 bitrate=N/A dup=0 drop=111 speed=0.206x     \r"
     ]
    },
    {
     "name": "stdout",
     "output_type": "stream",
     "text": [
      "[download]  87.7% of ~ 638.81MiB at    2.89MiB/s ETA 00:31 (frag 177/203)"
     ]
    },
    {
     "name": "stderr",
     "output_type": "stream",
     "text": [
      "frame=   31 fps=0.2 q=-0.0 size=N/A time=00:00:29.00 bitrate=N/A dup=0 drop=713 speed=0.225x     \r"
     ]
    },
    {
     "name": "stdout",
     "output_type": "stream",
     "text": [
      "[download]  87.8% of ~ 639.66MiB at    2.96MiB/s ETA 00:30 (frag 177/203)"
     ]
    },
    {
     "name": "stderr",
     "output_type": "stream",
     "text": [
      "frame=  580 fps=1.4 q=-0.0 size=N/A time=00:09:38.00 bitrate=N/A dup=0 drop=13889 speed=1.41x    \r"
     ]
    },
    {
     "name": "stdout",
     "output_type": "stream",
     "text": [
      "[download]  87.4% of ~ 642.87MiB at    2.90MiB/s ETA 00:29 (frag 178/203)"
     ]
    },
    {
     "name": "stderr",
     "output_type": "stream",
     "text": [
      "frame=   73 fps=0.3 q=-0.0 size=N/A time=00:01:11.00 bitrate=N/A dup=0 drop=1704 speed=0.246x    \r"
     ]
    },
    {
     "name": "stdout",
     "output_type": "stream",
     "text": [
      "[download]  88.2% of ~ 637.12MiB at    2.63MiB/s ETA 00:30 (frag 178/203)"
     ]
    },
    {
     "name": "stderr",
     "output_type": "stream",
     "text": [
      "frame=  581 fps=1.4 q=-0.0 size=N/A time=00:09:39.00 bitrate=N/A dup=0 drop=13906 speed=1.41x    \r"
     ]
    },
    {
     "name": "stdout",
     "output_type": "stream",
     "text": [
      "[download]  88.2% of ~ 637.40MiB at    2.34MiB/s ETA 00:31 (frag 178/203)"
     ]
    },
    {
     "name": "stderr",
     "output_type": "stream",
     "text": [
      "frame=    6 fps=0.3 q=-0.0 size=N/A time=00:00:04.00 bitrate=N/A dup=0 drop=119 speed=0.193x     \r"
     ]
    },
    {
     "name": "stdout",
     "output_type": "stream",
     "text": [
      "[download]  88.3% of ~ 638.25MiB at    2.43MiB/s ETA 00:31 (frag 178/203)"
     ]
    },
    {
     "name": "stderr",
     "output_type": "stream",
     "text": [
      "frame=   34 fps=0.2 q=-0.0 size=N/A time=00:00:32.00 bitrate=N/A dup=0 drop=1601 speed=0.147x    \r"
     ]
    },
    {
     "name": "stdout",
     "output_type": "stream",
     "text": [
      "[download]  87.8% of ~ 642.78MiB at    2.46MiB/s ETA 00:31 (frag 179/203)"
     ]
    },
    {
     "name": "stderr",
     "output_type": "stream",
     "text": [
      "frame=   88 fps=1.0 q=-0.0 size=N/A time=00:01:26.00 bitrate=N/A dup=0 drop=2513 speed=0.999x    \r"
     ]
    },
    {
     "name": "stdout",
     "output_type": "stream",
     "text": [
      "[download]  88.7% of ~ 636.39MiB at    2.17MiB/s ETA 00:32 (frag 179/203)"
     ]
    },
    {
     "name": "stderr",
     "output_type": "stream",
     "text": [
      "frame=   34 fps=0.2 q=-0.0 size=N/A time=00:00:32.00 bitrate=N/A dup=0 drop=1608 speed=0.147x    \r"
     ]
    },
    {
     "name": "stdout",
     "output_type": "stream",
     "text": [
      "[download]  88.7% of ~ 636.42MiB at    1.84MiB/s ETA 00:35 (frag 179/203)"
     ]
    },
    {
     "name": "stderr",
     "output_type": "stream",
     "text": [
      "frame=   89 fps=1.0 q=-0.0 size=N/A time=00:01:27.00 bitrate=N/A dup=0 drop=2516 speed=   1x     \r"
     ]
    },
    {
     "name": "stdout",
     "output_type": "stream",
     "text": [
      "[download]  88.7% of ~ 636.95MiB at    1.82MiB/s ETA 00:36 (frag 179/203)"
     ]
    },
    {
     "name": "stderr",
     "output_type": "stream",
     "text": [
      "frame=    6 fps=0.3 q=-0.0 size=N/A time=00:00:04.00 bitrate=N/A dup=0 drop=127 speed=0.183x     \r"
     ]
    },
    {
     "name": "stdout",
     "output_type": "stream",
     "text": [
      "[download]  89.0% of ~ 638.64MiB at    2.20MiB/s ETA 00:34 (frag 179/203)"
     ]
    },
    {
     "name": "stderr",
     "output_type": "stream",
     "text": [
      "frame=   32 fps=0.2 q=-0.0 size=N/A time=00:00:30.00 bitrate=N/A dup=0 drop=727 speed=0.228x     \r"
     ]
    },
    {
     "name": "stdout",
     "output_type": "stream",
     "text": [
      "[download]  88.1% of ~ 644.95MiB at    2.35MiB/s ETA 00:34 (frag 180/203)"
     ]
    },
    {
     "name": "stderr",
     "output_type": "stream",
     "text": [
      "frame=   73 fps=0.3 q=-0.0 size=N/A time=00:01:11.00 bitrate=N/A dup=0 drop=1714 speed=0.244x    \r"
     ]
    },
    {
     "name": "stdout",
     "output_type": "stream",
     "text": [
      "[download]  89.2% of ~ 637.13MiB at    2.37MiB/s ETA 00:33 (frag 180/203)"
     ]
    },
    {
     "name": "stderr",
     "output_type": "stream",
     "text": [
      "frame=  139 fps=0.3 q=-0.0 size=N/A time=00:02:17.00 bitrate=N/A dup=0 drop=3303 speed=0.323x    \r"
     ]
    },
    {
     "name": "stdout",
     "output_type": "stream",
     "text": [
      "[download]  89.2% of ~ 637.41MiB at    2.33MiB/s ETA 00:32 (frag 180/203)"
     ]
    },
    {
     "name": "stderr",
     "output_type": "stream",
     "text": [
      "frame=  585 fps=1.4 q=-0.0 size=N/A time=00:09:43.00 bitrate=N/A dup=0 drop=13995 speed=1.41x    \r"
     ]
    },
    {
     "name": "stdout",
     "output_type": "stream",
     "text": [
      "[download]  88.6% of ~ 645.45MiB at    2.94MiB/s ETA 00:29 (frag 181/203)"
     ]
    },
    {
     "name": "stderr",
     "output_type": "stream",
     "text": [
      "frame=   32 fps=0.2 q=-0.0 size=N/A time=00:00:30.00 bitrate=N/A dup=0 drop=738 speed=0.226x     \r"
     ]
    },
    {
     "name": "stdout",
     "output_type": "stream",
     "text": [
      "[download]  89.7% of ~ 637.90MiB at    2.74MiB/s ETA 00:27 (frag 181/203)"
     ]
    },
    {
     "name": "stderr",
     "output_type": "stream",
     "text": [
      "frame=    6 fps=0.3 q=-0.0 size=N/A time=00:00:04.00 bitrate=N/A dup=0 drop=139 speed=0.167x    \r"
     ]
    },
    {
     "name": "stdout",
     "output_type": "stream",
     "text": [
      "[download]  89.8% of ~ 638.88MiB at    2.97MiB/s ETA 00:26 (frag 181/203)"
     ]
    },
    {
     "name": "stderr",
     "output_type": "stream",
     "text": [
      "frame=  118 fps=0.3 q=-0.0 size=N/A time=00:01:56.00 bitrate=N/A dup=0 drop=2785 speed=0.27x     \r"
     ]
    },
    {
     "name": "stdout",
     "output_type": "stream",
     "text": [
      "[download]  89.4% of ~ 641.91MiB at    3.07MiB/s ETA 00:25 (frag 182/203)"
     ]
    },
    {
     "name": "stderr",
     "output_type": "stream",
     "text": [
      "frame=   91 fps=1.0 q=-0.0 size=N/A time=00:01:29.00 bitrate=N/A dup=0 drop=2596 speed=0.997x    \r"
     ]
    },
    {
     "name": "stdout",
     "output_type": "stream",
     "text": [
      "[download]  90.1% of ~ 636.34MiB at    3.10MiB/s ETA 00:25 (frag 182/203)"
     ]
    },
    {
     "name": "stderr",
     "output_type": "stream",
     "text": [
      "frame=  588 fps=1.4 q=-0.0 size=N/A time=00:09:46.00 bitrate=N/A dup=0 drop=14064 speed=1.41x    \r"
     ]
    },
    {
     "name": "stdout",
     "output_type": "stream",
     "text": [
      "[download]  90.2% of ~ 636.62MiB at    2.87MiB/s ETA 00:24 (frag 182/203)"
     ]
    },
    {
     "name": "stderr",
     "output_type": "stream",
     "text": [
      "frame=    7 fps=0.3 q=-0.0 size=N/A time=00:00:05.00 bitrate=N/A dup=0 drop=145 speed=0.199x     \r"
     ]
    },
    {
     "name": "stdout",
     "output_type": "stream",
     "text": [
      "[download]  90.2% of ~ 636.90MiB at    2.69MiB/s ETA 00:24 (frag 182/203)"
     ]
    },
    {
     "name": "stderr",
     "output_type": "stream",
     "text": [
      "frame=   35 fps=0.2 q=-0.0 size=N/A time=00:00:33.00 bitrate=N/A dup=0 drop=1634 speed=0.149x    \r"
     ]
    },
    {
     "name": "stdout",
     "output_type": "stream",
     "text": [
      "[download]  89.5% of ~ 645.44MiB at    3.03MiB/s ETA 00:23 (frag 183/203)"
     ]
    },
    {
     "name": "stderr",
     "output_type": "stream",
     "text": [
      "frame=   33 fps=0.2 q=-0.0 size=N/A time=00:00:31.00 bitrate=N/A dup=0 drop=752 speed=0.229x     \r"
     ]
    },
    {
     "name": "stdout",
     "output_type": "stream",
     "text": [
      "[download]  90.6% of ~ 637.41MiB at    3.01MiB/s ETA 00:23 (frag 183/203)"
     ]
    },
    {
     "name": "stderr",
     "output_type": "stream",
     "text": [
      "frame=   74 fps=0.3 q=-0.0 size=N/A time=00:01:12.00 bitrate=N/A dup=0 drop=1730 speed=0.244x    \r"
     ]
    },
    {
     "name": "stdout",
     "output_type": "stream",
     "text": [
      "[download]  90.7% of ~ 637.48MiB at    2.54MiB/s ETA 00:24 (frag 183/203)"
     ]
    },
    {
     "name": "stderr",
     "output_type": "stream",
     "text": [
      "frame=  591 fps=1.4 q=-0.0 size=N/A time=00:09:49.00 bitrate=N/A dup=0 drop=14132 speed=1.42x    \r"
     ]
    },
    {
     "name": "stdout",
     "output_type": "stream",
     "text": [
      "[download]  90.7% of ~ 637.96MiB at    2.49MiB/s ETA 00:24 (frag 183/203)"
     ]
    },
    {
     "name": "stderr",
     "output_type": "stream",
     "text": [
      "frame=    7 fps=0.3 q=-0.0 size=N/A time=00:00:05.00 bitrate=N/A dup=0 drop=154 speed=0.189x    \r"
     ]
    },
    {
     "name": "stdout",
     "output_type": "stream",
     "text": [
      "[download]  90.4% of ~ 640.94MiB at    2.57MiB/s ETA 00:24 (frag 184/203)"
     ]
    },
    {
     "name": "stderr",
     "output_type": "stream",
     "text": [
      "frame=    7 fps=0.3 q=-0.0 size=N/A time=00:00:05.00 bitrate=N/A dup=0 drop=157 speed=0.185x     \r"
     ]
    },
    {
     "name": "stdout",
     "output_type": "stream",
     "text": [
      "[download]  91.1% of ~ 635.79MiB at    2.23MiB/s ETA 00:24 (frag 184/203)"
     ]
    },
    {
     "name": "stderr",
     "output_type": "stream",
     "text": [
      "frame=  592 fps=1.4 q=-0.0 size=N/A time=00:09:50.00 bitrate=N/A dup=0 drop=14169 speed=1.42x    \r"
     ]
    },
    {
     "name": "stdout",
     "output_type": "stream",
     "text": [
      "[download]  91.3% of ~ 636.81MiB at    2.36MiB/s ETA 00:24 (frag 184/203)"
     ]
    },
    {
     "name": "stderr",
     "output_type": "stream",
     "text": [
      "frame=  141 fps=0.3 q=-0.0 size=N/A time=00:02:19.00 bitrate=N/A dup=0 drop=3338 speed=0.325x    \r"
     ]
    },
    {
     "name": "stdout",
     "output_type": "stream",
     "text": [
      "[download]  90.8% of ~ 640.60MiB at    2.54MiB/s ETA 00:23 (frag 185/203)"
     ]
    },
    {
     "name": "stderr",
     "output_type": "stream",
     "text": [
      "frame=  141 fps=0.3 q=-0.0 size=N/A time=00:02:19.00 bitrate=N/A dup=0 drop=3343 speed=0.324x    \r"
     ]
    },
    {
     "name": "stdout",
     "output_type": "stream",
     "text": [
      "[download]  91.6% of ~ 634.80MiB at    2.02MiB/s ETA 00:25 (frag 185/203)"
     ]
    },
    {
     "name": "stderr",
     "output_type": "stream",
     "text": [
      "frame=   36 fps=0.2 q=-0.0 size=N/A time=00:00:34.00 bitrate=N/A dup=0 drop=1659 speed=0.151x    \r"
     ]
    },
    {
     "name": "stdout",
     "output_type": "stream",
     "text": [
      "[download]  91.7% of ~ 635.28MiB at    1.78MiB/s ETA 00:27 (frag 185/203)"
     ]
    },
    {
     "name": "stderr",
     "output_type": "stream",
     "text": [
      "frame=    7 fps=0.2 q=-0.0 size=N/A time=00:00:05.00 bitrate=N/A dup=0 drop=168 speed=0.177x    \r"
     ]
    },
    {
     "name": "stdout",
     "output_type": "stream",
     "text": [
      "[download]  91.7% of ~ 636.91MiB at    2.01MiB/s ETA 00:26 (frag 185/203)"
     ]
    },
    {
     "name": "stderr",
     "output_type": "stream",
     "text": [
      "frame=   36 fps=0.2 q=-0.0 size=N/A time=00:00:34.00 bitrate=N/A dup=0 drop=1662 speed=0.151x    \r"
     ]
    },
    {
     "name": "stdout",
     "output_type": "stream",
     "text": [
      "[download]  91.3% of ~ 639.66MiB at    2.05MiB/s ETA 00:26 (frag 186/203)"
     ]
    },
    {
     "name": "stderr",
     "output_type": "stream",
     "text": [
      "frame=   34 fps=0.2 q=-0.0 size=N/A time=00:00:32.00 bitrate=N/A dup=0 drop=774 speed=0.231x     \r"
     ]
    },
    {
     "name": "stdout",
     "output_type": "stream",
     "text": [
      "[download]  92.1% of ~ 633.92MiB at    2.00MiB/s ETA 00:26 (frag 186/203)"
     ]
    },
    {
     "name": "stderr",
     "output_type": "stream",
     "text": [
      "frame=  253 fps=1.1 q=-0.0 size=N/A time=00:04:11.00 bitrate=N/A dup=0 drop=7271 speed=1.13x     \r"
     ]
    },
    {
     "name": "stdout",
     "output_type": "stream",
     "text": [
      "[download]  92.3% of ~ 634.87MiB at    2.03MiB/s ETA 00:25 (frag 186/203)"
     ]
    },
    {
     "name": "stderr",
     "output_type": "stream",
     "text": [
      "frame=   34 fps=0.2 q=-0.0 size=N/A time=00:00:32.00 bitrate=N/A dup=0 drop=778 speed=0.23x      \r"
     ]
    },
    {
     "name": "stdout",
     "output_type": "stream",
     "text": [
      "[download]  91.7% of ~ 640.05MiB at    2.36MiB/s ETA 00:24 (frag 187/203)"
     ]
    },
    {
     "name": "stderr",
     "output_type": "stream",
     "text": [
      "frame=  120 fps=0.3 q=-0.0 size=N/A time=00:01:58.00 bitrate=N/A dup=0 drop=2828 speed=0.271x    \r"
     ]
    },
    {
     "name": "stdout",
     "output_type": "stream",
     "text": [
      "[download]  92.6% of ~ 633.57MiB at    2.27MiB/s ETA 00:23 (frag 187/203)"
     ]
    },
    {
     "name": "stderr",
     "output_type": "stream",
     "text": [
      "frame=  254 fps=1.1 q=-0.0 size=N/A time=00:04:12.00 bitrate=N/A dup=0 drop=7307 speed=1.13x    \r"
     ]
    },
    {
     "name": "stdout",
     "output_type": "stream",
     "text": [
      "[download]  92.7% of ~ 634.07MiB at    2.11MiB/s ETA 00:23 (frag 187/203)"
     ]
    },
    {
     "name": "stderr",
     "output_type": "stream",
     "text": [
      "frame=  142 fps=0.3 q=-0.0 size=N/A time=00:02:20.00 bitrate=N/A dup=0 drop=3365 speed=0.324x    \r"
     ]
    },
    {
     "name": "stdout",
     "output_type": "stream",
     "text": [
      "[download]  92.9% of ~ 635.69MiB at    2.52MiB/s ETA 00:22 (frag 187/203)"
     ]
    },
    {
     "name": "stderr",
     "output_type": "stream",
     "text": [
      "frame=  120 fps=0.3 q=-0.0 size=N/A time=00:01:58.00 bitrate=N/A dup=0 drop=2835 speed=0.271x    \r"
     ]
    },
    {
     "name": "stdout",
     "output_type": "stream",
     "text": [
      "[download]  92.0% of ~ 641.84MiB at    2.70MiB/s ETA 00:21 (frag 188/203)"
     ]
    },
    {
     "name": "stderr",
     "output_type": "stream",
     "text": [
      "frame=  142 fps=0.3 q=-0.0 size=N/A time=00:02:20.00 bitrate=N/A dup=0 drop=3370 speed=0.324x    \r"
     ]
    },
    {
     "name": "stdout",
     "output_type": "stream",
     "text": [
      "[download]  93.1% of ~ 634.31MiB at    2.72MiB/s ETA 00:20 (frag 188/203)"
     ]
    },
    {
     "name": "stderr",
     "output_type": "stream",
     "text": [
      "frame=    8 fps=0.3 q=-0.0 size=N/A time=00:00:06.00 bitrate=N/A dup=0 drop=189 speed=0.19x      \r"
     ]
    },
    {
     "name": "stdout",
     "output_type": "stream",
     "text": [
      "[download]  93.1% of ~ 634.44MiB at    2.54MiB/s ETA 00:20 (frag 188/203)"
     ]
    },
    {
     "name": "stderr",
     "output_type": "stream",
     "text": [
      "frame=  142 fps=0.3 q=-0.0 size=N/A time=00:02:20.00 bitrate=N/A dup=0 drop=3373 speed=0.324x    \r"
     ]
    },
    {
     "name": "stdout",
     "output_type": "stream",
     "text": [
      "[download]  93.3% of ~ 635.38MiB at    2.79MiB/s ETA 00:19 (frag 188/203)"
     ]
    },
    {
     "name": "stderr",
     "output_type": "stream",
     "text": [
      "frame=  599 fps=1.4 q=-0.0 size=N/A time=00:09:57.00 bitrate=N/A dup=0 drop=14332 speed=1.42x    \r"
     ]
    },
    {
     "name": "stdout",
     "output_type": "stream",
     "text": [
      "[download]  92.5% of ~ 642.28MiB at    3.18MiB/s ETA 00:18 (frag 189/203)"
     ]
    },
    {
     "name": "stderr",
     "output_type": "stream",
     "text": [
      "frame=  120 fps=0.3 q=-0.0 size=N/A time=00:01:58.00 bitrate=N/A dup=0 drop=2849 speed=0.27x     \r"
     ]
    },
    {
     "name": "stdout",
     "output_type": "stream",
     "text": [
      "[download]  93.6% of ~ 634.95MiB at    2.79MiB/s ETA 00:17 (frag 189/203)"
     ]
    },
    {
     "name": "stderr",
     "output_type": "stream",
     "text": [
      "frame=    8 fps=0.2 q=-0.0 size=N/A time=00:00:06.00 bitrate=N/A dup=0 drop=197 speed=0.184x     \r"
     ]
    },
    {
     "name": "stdout",
     "output_type": "stream",
     "text": [
      "[download]  93.6% of ~ 635.20MiB at    2.81MiB/s ETA 00:16 (frag 189/203)"
     ]
    },
    {
     "name": "stderr",
     "output_type": "stream",
     "text": [
      "frame=  257 fps=1.1 q=-0.0 size=N/A time=00:04:15.00 bitrate=N/A dup=0 drop=7410 speed=1.13x     \r"
     ]
    },
    {
     "name": "stdout",
     "output_type": "stream",
     "text": [
      "[download]  93.3% of ~ 638.52MiB at    3.00MiB/s ETA 00:15 (frag 190/203)"
     ]
    },
    {
     "name": "stderr",
     "output_type": "stream",
     "text": [
      "frame=  143 fps=0.3 q=-0.0 size=N/A time=00:02:21.00 bitrate=N/A dup=0 drop=3386 speed=0.325x    \r"
     ]
    },
    {
     "name": "stdout",
     "output_type": "stream",
     "text": [
      "[download]  94.1% of ~ 633.40MiB at    2.86MiB/s ETA 00:15 (frag 190/203)"
     ]
    },
    {
     "name": "stderr",
     "output_type": "stream",
     "text": [
      "frame=    9 fps=0.3 q=-0.0 size=N/A time=00:00:07.00 bitrate=N/A dup=0 drop=203 speed=0.208x     \r"
     ]
    },
    {
     "name": "stdout",
     "output_type": "stream",
     "text": [
      "[download]  94.2% of ~ 633.93MiB at    2.37MiB/s ETA 00:15 (frag 190/203)"
     ]
    },
    {
     "name": "stderr",
     "output_type": "stream",
     "text": [
      "frame=  103 fps=1.0 q=-0.0 size=N/A time=00:01:41.00 bitrate=N/A dup=0 drop=2936 speed=1.02x     \r"
     ]
    },
    {
     "name": "stdout",
     "output_type": "stream",
     "text": [
      "[download]  93.7% of ~ 638.73MiB at    2.61MiB/s ETA 00:15 (frag 191/203)"
     ]
    },
    {
     "name": "stderr",
     "output_type": "stream",
     "text": [
      "frame=   35 fps=0.2 q=-0.0 size=N/A time=00:00:33.00 bitrate=N/A dup=0 drop=809 speed=0.229x     \r"
     ]
    },
    {
     "name": "stdout",
     "output_type": "stream",
     "text": [
      "[download]  94.6% of ~ 632.78MiB at    1.91MiB/s ETA 00:16 (frag 191/203)"
     ]
    },
    {
     "name": "stderr",
     "output_type": "stream",
     "text": [
      "frame=  260 fps=1.1 q=-0.0 size=N/A time=00:04:18.00 bitrate=N/A dup=0 drop=7487 speed=1.14x     \r"
     ]
    },
    {
     "name": "stdout",
     "output_type": "stream",
     "text": [
      "[download]  94.6% of ~ 633.02MiB at    1.70MiB/s ETA 00:18 (frag 191/203)"
     ]
    },
    {
     "name": "stderr",
     "output_type": "stream",
     "text": [
      "frame=  104 fps=1.0 q=-0.0 size=N/A time=00:01:42.00 bitrate=N/A dup=0 drop=2973 speed=1.02x     \r"
     ]
    },
    {
     "name": "stdout",
     "output_type": "stream",
     "text": [
      "[download]  94.7% of ~ 633.81MiB at    1.88MiB/s ETA 00:17 (frag 191/203)"
     ]
    },
    {
     "name": "stderr",
     "output_type": "stream",
     "text": [
      "frame=   76 fps=0.3 q=-0.0 size=N/A time=00:01:14.00 bitrate=N/A dup=0 drop=1775 speed=0.244x    \r"
     ]
    },
    {
     "name": "stdout",
     "output_type": "stream",
     "text": [
      "[download]  94.0% of ~ 640.44MiB at    2.26MiB/s ETA 00:16 (frag 192/203)"
     ]
    },
    {
     "name": "stderr",
     "output_type": "stream",
     "text": [
      "frame=  121 fps=0.3 q=-0.0 size=N/A time=00:01:59.00 bitrate=N/A dup=0 drop=2869 speed=0.27x     \r"
     ]
    },
    {
     "name": "stdout",
     "output_type": "stream",
     "text": [
      "[download]  95.1% of ~ 633.30MiB at    2.23MiB/s ETA 00:16 (frag 192/203)"
     ]
    },
    {
     "name": "stderr",
     "output_type": "stream",
     "text": [
      "frame=  144 fps=0.3 q=-0.0 size=N/A time=00:02:22.00 bitrate=N/A dup=0 drop=3409 speed=0.325x    \r"
     ]
    },
    {
     "name": "stdout",
     "output_type": "stream",
     "text": [
      "[download]  95.2% of ~ 633.82MiB at    2.23MiB/s ETA 00:15 (frag 192/203)"
     ]
    },
    {
     "name": "stderr",
     "output_type": "stream",
     "text": [
      "frame=   36 fps=0.2 q=-0.0 size=N/A time=00:00:34.00 bitrate=N/A dup=0 drop=820 speed=0.233x     \r"
     ]
    },
    {
     "name": "stdout",
     "output_type": "stream",
     "text": [
      "[download]  95.2% of ~ 634.35MiB at    2.38MiB/s ETA 00:15 (frag 192/203)"
     ]
    },
    {
     "name": "stderr",
     "output_type": "stream",
     "text": [
      "frame=  144 fps=0.3 q=-0.0 size=N/A time=00:02:22.00 bitrate=N/A dup=0 drop=3413 speed=0.325x    \r"
     ]
    },
    {
     "name": "stdout",
     "output_type": "stream",
     "text": [
      "[download]  94.5% of ~ 641.01MiB at    2.68MiB/s ETA 00:14 (frag 193/203)"
     ]
    },
    {
     "name": "stderr",
     "output_type": "stream",
     "text": [
      "frame=  122 fps=0.3 q=-0.0 size=N/A time=00:02:00.00 bitrate=N/A dup=0 drop=2877 speed=0.271x    \r"
     ]
    },
    {
     "name": "stdout",
     "output_type": "stream",
     "text": [
      "[download]  95.6% of ~ 633.87MiB at    2.62MiB/s ETA 00:14 (frag 193/203)"
     ]
    },
    {
     "name": "stderr",
     "output_type": "stream",
     "text": [
      "frame=   36 fps=0.2 q=-0.0 size=N/A time=00:00:34.00 bitrate=N/A dup=0 drop=824 speed=0.232x     \r"
     ]
    },
    {
     "name": "stdout",
     "output_type": "stream",
     "text": [
      "[download]  95.6% of ~ 634.13MiB at    2.65MiB/s ETA 00:13 (frag 193/203)"
     ]
    },
    {
     "name": "stderr",
     "output_type": "stream",
     "text": [
      "frame=   76 fps=0.2 q=-0.0 size=N/A time=00:01:14.00 bitrate=N/A dup=0 drop=1781 speed=0.242x    \r"
     ]
    },
    {
     "name": "stdout",
     "output_type": "stream",
     "text": [
      "[download]  95.3% of ~ 637.76MiB at    2.88MiB/s ETA 00:12 (frag 194/203)"
     ]
    },
    {
     "name": "stderr",
     "output_type": "stream",
     "text": [
      "frame=  608 fps=1.4 q=-0.0 size=N/A time=00:10:06.00 bitrate=N/A dup=0 drop=14562 speed=1.42x    \r"
     ]
    },
    {
     "name": "stdout",
     "output_type": "stream",
     "text": [
      "[download]  96.1% of ~ 632.56MiB at    2.69MiB/s ETA 00:11 (frag 194/203)"
     ]
    },
    {
     "name": "stderr",
     "output_type": "stream",
     "text": [
      "frame=   10 fps=0.3 q=-0.0 size=N/A time=00:00:08.00 bitrate=N/A dup=0 drop=234 speed=0.209x     \r"
     ]
    },
    {
     "name": "stdout",
     "output_type": "stream",
     "text": [
      "[download]  96.1% of ~ 633.07MiB at    2.37MiB/s ETA 00:11 (frag 194/203)"
     ]
    },
    {
     "name": "stderr",
     "output_type": "stream",
     "text": [
      "frame=   36 fps=0.2 q=-0.0 size=N/A time=00:00:34.00 bitrate=N/A dup=0 drop=833 speed=0.23x      \r"
     ]
    },
    {
     "name": "stdout",
     "output_type": "stream",
     "text": [
      "[download]  96.6% of ~ 631.25MiB at    2.54MiB/s ETA 00:10 (frag 195/203)"
     ]
    },
    {
     "name": "stderr",
     "output_type": "stream",
     "text": [
      "frame=  108 fps=1.0 q=-0.0 size=N/A time=00:01:46.00 bitrate=N/A dup=0 drop=3086 speed=1.02x     \r"
     ]
    },
    {
     "name": "stdout",
     "output_type": "stream",
     "text": [
      "[download]  96.6% of ~ 631.76MiB at    2.60MiB/s ETA 00:10 (frag 195/203)"
     ]
    },
    {
     "name": "stderr",
     "output_type": "stream",
     "text": [
      "frame=  265 fps=1.1 q=-0.0 size=N/A time=00:04:23.00 bitrate=N/A dup=0 drop=7629 speed=1.14x     \r"
     ]
    },
    {
     "name": "stdout",
     "output_type": "stream",
     "text": [
      "[download]  96.7% of ~ 633.32MiB at    2.66MiB/s ETA 00:09 (frag 195/203)"
     ]
    },
    {
     "name": "stderr",
     "output_type": "stream",
     "text": [
      "frame=   10 fps=0.3 q=-0.0 size=N/A time=00:00:08.00 bitrate=N/A dup=0 drop=242 speed=0.201x     \r"
     ]
    },
    {
     "name": "stdout",
     "output_type": "stream",
     "text": [
      "[download]  96.1% of ~ 637.03MiB at    2.52MiB/s ETA 00:09 (frag 196/203)"
     ]
    },
    {
     "name": "stderr",
     "output_type": "stream",
     "text": [
      "frame=   76 fps=0.2 q=-0.0 size=N/A time=00:01:14.00 bitrate=N/A dup=0 drop=1791 speed=0.24x     \r"
     ]
    },
    {
     "name": "stdout",
     "output_type": "stream",
     "text": [
      "[download]  97.0% of ~ 630.92MiB at    2.46MiB/s ETA 00:09 (frag 196/203)"
     ]
    },
    {
     "name": "stderr",
     "output_type": "stream",
     "text": [
      "frame=  611 fps=1.4 q=-0.0 size=N/A time=00:10:09.00 bitrate=N/A dup=0 drop=14634 speed=1.42x    \r"
     ]
    },
    {
     "name": "stdout",
     "output_type": "stream",
     "text": [
      "[download]  97.1% of ~ 631.18MiB at    2.34MiB/s ETA 00:09 (frag 196/203)"
     ]
    },
    {
     "name": "stderr",
     "output_type": "stream",
     "text": [
      "frame=  110 fps=1.0 q=-0.0 size=N/A time=00:01:48.00 bitrate=N/A dup=0 drop=3124 speed=1.03x     \r"
     ]
    },
    {
     "name": "stdout",
     "output_type": "stream",
     "text": [
      "[download]  97.2% of ~ 631.95MiB at    2.45MiB/s ETA 00:08 (frag 196/203)"
     ]
    },
    {
     "name": "stderr",
     "output_type": "stream",
     "text": [
      "frame=   37 fps=0.2 q=-0.0 size=N/A time=00:00:35.00 bitrate=N/A dup=0 drop=844 speed=0.233x     \r"
     ]
    },
    {
     "name": "stdout",
     "output_type": "stream",
     "text": [
      "[download]  97.4% of ~ 632.98MiB at    2.61MiB/s ETA 00:08 (frag 196/203)"
     ]
    },
    {
     "name": "stderr",
     "output_type": "stream",
     "text": [
      "frame=   77 fps=0.2 q=-0.0 size=N/A time=00:01:15.00 bitrate=N/A dup=0 drop=1796 speed=0.243x    \r"
     ]
    },
    {
     "name": "stdout",
     "output_type": "stream",
     "text": [
      "[download]  96.4% of ~ 639.37MiB at    2.77MiB/s ETA 00:08 (frag 197/203)"
     ]
    },
    {
     "name": "stderr",
     "output_type": "stream",
     "text": [
      "frame=   77 fps=0.2 q=-0.0 size=N/A time=00:01:15.00 bitrate=N/A dup=0 drop=1797 speed=0.242x    \r"
     ]
    },
    {
     "name": "stdout",
     "output_type": "stream",
     "text": [
      "[download]  97.5% of ~ 631.94MiB at    2.79MiB/s ETA 00:07 (frag 197/203)"
     ]
    },
    {
     "name": "stderr",
     "output_type": "stream",
     "text": [
      "frame=   38 fps=0.2 q=-0.0 size=N/A time=00:00:36.00 bitrate=N/A dup=0 drop=1760 speed=0.151x    \r"
     ]
    },
    {
     "name": "stdout",
     "output_type": "stream",
     "text": [
      "[download]  97.6% of ~ 632.06MiB at    2.56MiB/s ETA 00:07 (frag 197/203)"
     ]
    },
    {
     "name": "stderr",
     "output_type": "stream",
     "text": [
      "frame=  614 fps=1.4 q=-0.0 size=N/A time=00:10:12.00 bitrate=N/A dup=0 drop=14688 speed=1.42x    \r"
     ]
    },
    {
     "name": "stdout",
     "output_type": "stream",
     "text": [
      "[download]  97.3% of ~ 635.21MiB at    2.78MiB/s ETA 00:06 (frag 198/203)"
     ]
    },
    {
     "name": "stderr",
     "output_type": "stream",
     "text": [
      "frame=  615 fps=1.4 q=-0.0 size=N/A time=00:10:13.00 bitrate=N/A dup=0 drop=14708 speed=1.42x    \r"
     ]
    },
    {
     "name": "stdout",
     "output_type": "stream",
     "text": [
      "[download]  98.0% of ~ 630.45MiB at    2.23MiB/s ETA 00:06 (frag 198/203)"
     ]
    },
    {
     "name": "stderr",
     "output_type": "stream",
     "text": [
      "frame=  146 fps=0.3 q=-0.0 size=N/A time=00:02:24.00 bitrate=N/A dup=0 drop=3460 speed=0.325x    \r"
     ]
    },
    {
     "name": "stdout",
     "output_type": "stream",
     "text": [
      "[download]  98.1% of ~ 630.90MiB at    2.22MiB/s ETA 00:06 (frag 198/203)"
     ]
    },
    {
     "name": "stderr",
     "output_type": "stream",
     "text": [
      "frame=  123 fps=0.3 q=-0.0 size=N/A time=00:02:01.00 bitrate=N/A dup=0 drop=2916 speed=0.27x     \r"
     ]
    },
    {
     "name": "stdout",
     "output_type": "stream",
     "text": [
      "[download]  98.2% of ~ 632.43MiB at    2.59MiB/s ETA 00:05 (frag 198/203)"
     ]
    },
    {
     "name": "stderr",
     "output_type": "stream",
     "text": [
      "frame=   37 fps=0.2 q=-0.0 size=N/A time=00:00:35.00 bitrate=N/A dup=0 drop=859 speed=0.23x      \r"
     ]
    },
    {
     "name": "stdout",
     "output_type": "stream",
     "text": [
      "[download]  97.5% of ~ 637.24MiB at    2.73MiB/s ETA 00:05 (frag 199/203)"
     ]
    },
    {
     "name": "stderr",
     "output_type": "stream",
     "text": [
      "frame=  616 fps=1.4 q=-0.0 size=N/A time=00:10:14.00 bitrate=N/A dup=0 drop=14749 speed=1.42x    \r"
     ]
    },
    {
     "name": "stdout",
     "output_type": "stream",
     "text": [
      "[download]  98.5% of ~ 630.65MiB at    2.64MiB/s ETA 00:05 (frag 199/203)"
     ]
    },
    {
     "name": "stderr",
     "output_type": "stream",
     "text": [
      "frame=   77 fps=0.2 q=-0.0 size=N/A time=00:01:15.00 bitrate=N/A dup=0 drop=1805 speed=0.24x    \r"
     ]
    },
    {
     "name": "stdout",
     "output_type": "stream",
     "text": [
      "[download]  98.5% of ~ 630.77MiB at    2.08MiB/s ETA 00:05 (frag 199/203)"
     ]
    },
    {
     "name": "stderr",
     "output_type": "stream",
     "text": [
      "frame=  617 fps=1.4 q=-0.0 size=N/A time=00:10:15.00 bitrate=N/A dup=0 drop=14767 speed=1.42x    \r"
     ]
    },
    {
     "name": "stdout",
     "output_type": "stream",
     "text": [
      "[download]  98.7% of ~ 631.66MiB at    2.13MiB/s ETA 00:05 (frag 199/203)"
     ]
    },
    {
     "name": "stderr",
     "output_type": "stream",
     "text": [
      "frame=   77 fps=0.2 q=-0.0 size=N/A time=00:01:15.00 bitrate=N/A dup=0 drop=1808 speed=0.24x    \r"
     ]
    },
    {
     "name": "stdout",
     "output_type": "stream",
     "text": [
      "[download]  98.1% of ~ 635.82MiB at    2.43MiB/s ETA 00:04 (frag 200/203)"
     ]
    },
    {
     "name": "stderr",
     "output_type": "stream",
     "text": [
      "frame=  124 fps=0.3 q=-0.0 size=N/A time=00:02:02.00 bitrate=N/A dup=0 drop=2926 speed=0.272x    \r"
     ]
    },
    {
     "name": "stdout",
     "output_type": "stream",
     "text": [
      "[download]  99.0% of ~ 630.09MiB at    2.26MiB/s ETA 00:04 (frag 200/203)"
     ]
    },
    {
     "name": "stderr",
     "output_type": "stream",
     "text": [
      "frame=  114 fps=1.0 q=-0.0 size=N/A time=00:01:52.00 bitrate=N/A dup=0 drop=3261 speed=1.02x    \r"
     ]
    },
    {
     "name": "stdout",
     "output_type": "stream",
     "text": [
      "[download]  99.1% of ~ 630.33MiB at    2.20MiB/s ETA 00:04 (frag 200/203)"
     ]
    },
    {
     "name": "stderr",
     "output_type": "stream",
     "text": [
      "frame=   38 fps=0.2 q=-0.0 size=N/A time=00:00:36.00 bitrate=N/A dup=0 drop=1789 speed=0.149x    \r"
     ]
    },
    {
     "name": "stdout",
     "output_type": "stream",
     "text": [
      "[download]  99.2% of ~ 631.09MiB at    2.37MiB/s ETA 00:03 (frag 200/203)"
     ]
    },
    {
     "name": "stderr",
     "output_type": "stream",
     "text": [
      "frame=  620 fps=1.4 q=-0.0 size=N/A time=00:10:18.00 bitrate=N/A dup=0 drop=14828 speed=1.42x    \r"
     ]
    },
    {
     "name": "stdout",
     "output_type": "stream",
     "text": [
      "[download]  98.5% of ~ 636.23MiB at    2.68MiB/s ETA 00:03 (frag 201/203)"
     ]
    },
    {
     "name": "stderr",
     "output_type": "stream",
     "text": [
      "frame=   77 fps=0.2 q=-0.0 size=N/A time=00:01:15.00 bitrate=N/A dup=0 drop=1814 speed=0.238x    \r"
     ]
    },
    {
     "name": "stdout",
     "output_type": "stream",
     "text": [
      "[download]  99.5% of ~ 630.15MiB at    2.16MiB/s ETA 00:02 (frag 201/203)"
     ]
    },
    {
     "name": "stderr",
     "output_type": "stream",
     "text": [
      "frame=  116 fps=1.0 q=-0.0 size=N/A time=00:01:54.00 bitrate=N/A dup=0 drop=3298 speed=1.03x     \r"
     ]
    },
    {
     "name": "stdout",
     "output_type": "stream",
     "text": [
      "[download]  99.7% of ~ 631.03MiB at    2.20MiB/s ETA 00:02 (frag 201/203)"
     ]
    },
    {
     "name": "stderr",
     "output_type": "stream",
     "text": [
      "frame=  621 fps=1.4 q=-0.0 size=N/A time=00:10:19.00 bitrate=N/A dup=0 drop=14870 speed=1.42x    \r"
     ]
    },
    {
     "name": "stdout",
     "output_type": "stream",
     "text": [
      "[download]  99.6% of ~ 634.04MiB at    2.71MiB/s ETA 00:02 (frag 201/203)"
     ]
    },
    {
     "name": "stderr",
     "output_type": "stream",
     "text": [
      "frame=  124 fps=0.3 q=-0.0 size=N/A time=00:02:02.00 bitrate=N/A dup=0 drop=2937 speed=0.27x     \r"
     ]
    },
    {
     "name": "stdout",
     "output_type": "stream",
     "text": [
      "[download]  98.8% of ~ 638.81MiB at    2.71MiB/s ETA 00:02 (frag 202/203)"
     ]
    },
    {
     "name": "stderr",
     "output_type": "stream",
     "text": [
      "frame=  147 fps=0.3 q=-0.0 size=N/A time=00:02:25.00 bitrate=N/A dup=0 drop=3497 speed=0.323x    \r"
     ]
    },
    {
     "name": "stdout",
     "output_type": "stream",
     "text": [
      "[download] 100.0% of ~ 631.32MiB at    2.66MiB/s ETA 00:01 (frag 202/203)"
     ]
    },
    {
     "name": "stderr",
     "output_type": "stream",
     "text": [
      "frame=   39 fps=0.2 q=-0.0 size=N/A time=00:00:37.00 bitrate=N/A dup=0 drop=1806 speed=0.152x    \r"
     ]
    },
    {
     "name": "stdout",
     "output_type": "stream",
     "text": [
      "[download] 100.0% of ~ 634.81MiB at    3.03MiB/s ETA 00:01 (frag 202/203)"
     ]
    },
    {
     "name": "stderr",
     "output_type": "stream",
     "text": [
      "frame=  118 fps=1.0 q=-0.0 size=N/A time=00:01:56.00 bitrate=N/A dup=0 drop=3356 speed=1.03x     \r"
     ]
    },
    {
     "name": "stdout",
     "output_type": "stream",
     "text": [
      "[download]  99.4% of ~ 638.34MiB at    3.03MiB/s ETA 00:01 (frag 203/203)"
     ]
    },
    {
     "name": "stderr",
     "output_type": "stream",
     "text": [
      "frame=   13 fps=0.3 q=-0.0 size=N/A time=00:00:11.00 bitrate=N/A dup=0 drop=314 speed=0.228x     \r"
     ]
    },
    {
     "name": "stdout",
     "output_type": "stream",
     "text": [
      "[download] 100.0% of ~ 634.82MiB at    2.94MiB/s ETA 00:00 (frag 203/203)"
     ]
    },
    {
     "name": "stderr",
     "output_type": "stream",
     "text": [
      "frame=  624 fps=1.4 q=-0.0 size=N/A time=00:10:22.00 bitrate=N/A dup=0 drop=14946 speed=1.42x    \r"
     ]
    },
    {
     "name": "stdout",
     "output_type": "stream",
     "text": [
      "[download] 100.0% of ~ 634.94MiB at    2.91MiB/s ETA 00:00 (frag 203/203)"
     ]
    },
    {
     "name": "stderr",
     "output_type": "stream",
     "text": [
      "frame=   39 fps=0.2 q=-0.0 size=N/A time=00:00:37.00 bitrate=N/A dup=0 drop=895 speed=0.234x    \r"
     ]
    },
    {
     "name": "stdout",
     "output_type": "stream",
     "text": [
      "[download] 100.0% of ~ 636.81MiB at    2.91MiB/s ETA 00:00 (frag 203/203)"
     ]
    },
    {
     "name": "stderr",
     "output_type": "stream",
     "text": [
      "frame=   39 fps=0.2 q=-0.0 size=N/A time=00:00:37.00 bitrate=N/A dup=0 drop=1819 speed=0.151x    \r"
     ]
    },
    {
     "name": "stdout",
     "output_type": "stream",
     "text": [
      "[download]  99.8% of ~ 640.93MiB at    3.09MiB/s ETA 00:00 (frag 204/203)"
     ]
    },
    {
     "name": "stderr",
     "output_type": "stream",
     "text": [
      "frame=   39 fps=0.2 q=-0.0 size=N/A time=00:00:37.00 bitrate=N/A dup=0 drop=1825 speed=0.15x     \r"
     ]
    },
    {
     "name": "stdout",
     "output_type": "stream",
     "text": [
      "[download] 100% of  639.45MiB in 00:04:16 at 2.49MiB/s                   \n"
     ]
    },
    {
     "name": "stderr",
     "output_type": "stream",
     "text": [
      "frame=   13 fps=0.3 q=-0.0 size=N/A time=00:00:11.00 bitrate=N/A dup=0 drop=330 speed=0.22x     \r"
     ]
    },
    {
     "name": "stdout",
     "output_type": "stream",
     "text": [
      "[download] Destination: ./dataset_splited/BWkt79xkd00/video_1080p.f251.webm\n",
      "[download]   0.8% of   15.22MiB at  816.81KiB/s ETA 00:18"
     ]
    },
    {
     "name": "stderr",
     "output_type": "stream",
     "text": [
      "frame=  627 fps=1.4 q=-0.0 size=N/A time=00:10:25.00 bitrate=N/A dup=0 drop=15006 speed=1.42x    \r"
     ]
    },
    {
     "name": "stdout",
     "output_type": "stream",
     "text": [
      "[download]   6.6% of   15.22MiB at    1.94MiB/s ETA 00:07"
     ]
    },
    {
     "name": "stderr",
     "output_type": "stream",
     "text": [
      "frame=  125 fps=0.3 q=-0.0 size=N/A time=00:02:03.00 bitrate=N/A dup=0 drop=2964 speed=0.27x     \r"
     ]
    },
    {
     "name": "stdout",
     "output_type": "stream",
     "text": [
      "[download]  13.1% of   15.22MiB at    2.16MiB/s ETA 00:06"
     ]
    },
    {
     "name": "stderr",
     "output_type": "stream",
     "text": [
      "frame=  125 fps=0.3 q=-0.0 size=N/A time=00:02:03.00 bitrate=N/A dup=0 drop=2970 speed=0.27x     \r"
     ]
    },
    {
     "name": "stdout",
     "output_type": "stream",
     "text": [
      "[download]  26.3% of   15.22MiB at    2.50MiB/s ETA 00:04"
     ]
    },
    {
     "name": "stderr",
     "output_type": "stream",
     "text": [
      "frame=  279 fps=1.1 q=-0.0 size=N/A time=00:04:37.00 bitrate=N/A dup=0 drop=8035 speed=1.13x     \r"
     ]
    },
    {
     "name": "stdout",
     "output_type": "stream",
     "text": [
      "[download]  45.7% of   15.22MiB at    2.99MiB/s ETA 00:02"
     ]
    },
    {
     "name": "stderr",
     "output_type": "stream",
     "text": [
      "frame=  279 fps=1.1 q=-0.0 size=N/A time=00:04:37.00 bitrate=N/A dup=0 drop=8048 speed=1.13x     \r"
     ]
    },
    {
     "name": "stdout",
     "output_type": "stream",
     "text": [
      "[download]  65.7% of   15.22MiB at    3.77MiB/s ETA 00:01"
     ]
    },
    {
     "name": "stderr",
     "output_type": "stream",
     "text": [
      "frame=   39 fps=0.2 q=-0.0 size=N/A time=00:00:37.00 bitrate=N/A dup=0 drop=1853 speed=0.149x    \r"
     ]
    },
    {
     "name": "stdout",
     "output_type": "stream",
     "text": [
      "[download]  66.1% of   15.22MiB at  583.33KiB/s ETA 00:09  "
     ]
    },
    {
     "name": "stderr",
     "output_type": "stream",
     "text": [
      "frame=   40 fps=0.2 q=-0.0 size=N/A time=00:00:38.00 bitrate=N/A dup=0 drop=920 speed=0.234x     \r"
     ]
    },
    {
     "name": "stdout",
     "output_type": "stream",
     "text": [
      "[download]  78.8% of   15.22MiB at    5.70MiB/s ETA 00:00"
     ]
    },
    {
     "name": "stderr",
     "output_type": "stream",
     "text": [
      "frame=  124 fps=1.0 q=-0.0 size=N/A time=00:02:02.00 bitrate=N/A dup=0 drop=3530 speed=1.03x     \r"
     ]
    },
    {
     "name": "stdout",
     "output_type": "stream",
     "text": [
      "[download]  91.9% of   15.22MiB at    7.02MiB/s ETA 00:00"
     ]
    },
    {
     "name": "stderr",
     "output_type": "stream",
     "text": [
      "frame=  632 fps=1.4 q=-0.0 size=N/A time=00:10:30.00 bitrate=N/A dup=0 drop=15139 speed=1.42x    \r"
     ]
    },
    {
     "name": "stdout",
     "output_type": "stream",
     "text": [
      "[download] 100% of   15.22MiB in 00:00:03 at 3.81MiB/s   \n"
     ]
    },
    {
     "name": "stderr",
     "output_type": "stream",
     "text": [
      "frame=  126 fps=0.3 q=-0.0 size=N/A time=00:02:04.00 bitrate=N/A dup=0 drop=2991 speed=0.27x     \r"
     ]
    },
    {
     "name": "stdout",
     "output_type": "stream",
     "text": [
      "[Merger] Merging formats into \"./dataset_splited/BWkt79xkd00/video_1080p.webm\"\n"
     ]
    },
    {
     "name": "stderr",
     "output_type": "stream",
     "text": [
      "frame=   46 fps=0.2 q=-0.0 size=N/A time=00:00:44.00 bitrate=N/A dup=0 drop=2157 speed=0.149x    \r"
     ]
    },
    {
     "name": "stdout",
     "output_type": "stream",
     "text": [
      "Deleting original file ./dataset_splited/BWkt79xkd00/video_1080p.f251.webm (pass -k to keep)\n",
      "Deleting original file ./dataset_splited/BWkt79xkd00/video_1080p.f616.mp4 (pass -k to keep)\n"
     ]
    },
    {
     "name": "stderr",
     "output_type": "stream",
     "text": [
      "ffmpeg version 4.2.7-0ubuntu0.1 Copyright (c) 2000-2022 the FFmpeg developers7151 speed=1.44x    \n",
      "  built with gcc 9 (Ubuntu 9.4.0-1ubuntu1~20.04.1)\n",
      "  configuration: --prefix=/usr --extra-version=0ubuntu0.1 --toolchain=hardened --libdir=/usr/lib/x86_64-linux-gnu --incdir=/usr/include/x86_64-linux-gnu --arch=amd64 --enable-gpl --disable-stripping --enable-avresample --disable-filter=resample --enable-avisynth --enable-gnutls --enable-ladspa --enable-libaom --enable-libass --enable-libbluray --enable-libbs2b --enable-libcaca --enable-libcdio --enable-libcodec2 --enable-libflite --enable-libfontconfig --enable-libfreetype --enable-libfribidi --enable-libgme --enable-libgsm --enable-libjack --enable-libmp3lame --enable-libmysofa --enable-libopenjpeg --enable-libopenmpt --enable-libopus --enable-libpulse --enable-librsvg --enable-librubberband --enable-libshine --enable-libsnappy --enable-libsoxr --enable-libspeex --enable-libssh --enable-libtheora --enable-libtwolame --enable-libvidstab --enable-libvorbis --enable-libvpx --enable-libwavpack --enable-libwebp --enable-libx265 --enable-libxml2 --enable-libxvid --enable-libzmq --enable-libzvbi --enable-lv2 --enable-omx --enable-openal --enable-opencl --enable-opengl --enable-sdl2 --enable-libdc1394 --enable-libdrm --enable-libiec61883 --enable-nvenc --enable-chromaprint --enable-frei0r --enable-libx264 --enable-shared\n",
      "  libavutil      56. 31.100 / 56. 31.100\n",
      "  libavcodec     58. 54.100 / 58. 54.100\n",
      "  libavformat    58. 29.100 / 58. 29.100\n",
      "  libavdevice    58.  8.100 / 58.  8.100\n",
      "  libavfilter     7. 57.100 /  7. 57.100\n",
      "  libavresample   4.  0.  0 /  4.  0.  0\n",
      "  libswscale      5.  5.100 /  5.  5.100\n",
      "  libswresample   3.  5.100 /  3.  5.100\n",
      "  libpostproc    55.  5.100 / 55.  5.100\n",
      "Input #0, matroska,webm, from './dataset_splited/BWkt79xkd00/video_1080p.webm':31 speed=1.44x    \n",
      "  Metadata:\n",
      "    COMPATIBLE_BRANDS: iso6mp41\n",
      "    MAJOR_BRAND     : dash\n",
      "    MINOR_VERSION   : 0\n",
      "    ENCODER         : Lavf58.29.100\n",
      "  Duration: 00:17:22.62, start: -0.007000, bitrate: 5266 kb/s\n",
      "    Stream #0:0: Video: vp9 (Profile 0), yuv420p(tv, bt709), 1920x1080, SAR 1:1 DAR 16:9, 29.97 fps, 29.97 tbr, 1k tbn, 1k tbc (default)\n",
      "    Metadata:\n",
      "      HANDLER_NAME    : ISO Media file produced by Google Inc. Created on: 12/14/2023.\n",
      "      DURATION        : 00:17:22.542000000\n",
      "    Stream #0:1(eng): Audio: opus, 48000 Hz, stereo, fltp (default)\n",
      "    Metadata:\n",
      "      DURATION        : 00:17:22.621000000\n",
      "Stream mapping:\n",
      "  Stream #0:0 -> #0:0 (vp9 (native) -> png (native))\n",
      "Press [q] to stop, [?] for help\n",
      "Output #0, image2, to './dataset_splited/BWkt79xkd00/frames_1080p/frame-%04d.png':peed=0.229x    \n",
      "  Metadata:\n",
      "    COMPATIBLE_BRANDS: iso6mp41\n",
      "    MAJOR_BRAND     : dash\n",
      "    MINOR_VERSION   : 0\n",
      "    encoder         : Lavf58.29.100\n",
      "    Stream #0:0: Video: png, rgb24, 1920x1080 [SAR 1:1 DAR 16:9], q=2-31, 200 kb/s, 1 fps, 1 tbn, 1 tbc (default)\n",
      "    Metadata:\n",
      "      HANDLER_NAME    : ISO Media file produced by Google Inc. Created on: 12/14/2023.\n",
      "      DURATION        : 00:17:22.542000000\n",
      "      encoder         : Lavc58.54.100 png\n",
      "frame=  213 fps=0.3 q=-0.0 Lsize=N/A time=00:03:33.00 bitrate=N/A dup=0 drop=5072 speed=0.311x    \n",
      "video:317685kB audio:0kB subtitle:0kB other streams:0kB global headers:0kB muxing overhead: unknown\n",
      "frame=  933 fps=1.4 q=-0.0 size=N/A time=00:15:31.00 bitrate=N/A dup=0 drop=22347 speed=1.38x    \r"
     ]
    },
    {
     "name": "stdout",
     "output_type": "stream",
     "text": [
      "[youtube] Extracting URL: https://www.youtube.com/watch?v=WkLTWmlTaJM\n",
      "[youtube] WkLTWmlTaJM: Downloading webpage\n"
     ]
    },
    {
     "name": "stderr",
     "output_type": "stream",
     "text": [
      "frame=  518 fps=1.1 q=-0.0 size=N/A time=00:08:36.00 bitrate=N/A dup=0 drop=14968 speed=1.07x     \r"
     ]
    },
    {
     "name": "stdout",
     "output_type": "stream",
     "text": [
      "[youtube] WkLTWmlTaJM: Downloading ios player API JSON\n"
     ]
    },
    {
     "name": "stderr",
     "output_type": "stream",
     "text": [
      "frame=  186 fps=0.3 q=-0.0 size=N/A time=00:03:04.00 bitrate=N/A dup=0 drop=4413 speed=0.265x     \r"
     ]
    },
    {
     "name": "stdout",
     "output_type": "stream",
     "text": [
      "[youtube] WkLTWmlTaJM: Downloading android player API JSON\n"
     ]
    },
    {
     "name": "stderr",
     "output_type": "stream",
     "text": [
      "frame=  960 fps=1.4 q=-0.0 Lsize=N/A time=00:16:00.00 bitrate=N/A dup=0 drop=22989 speed=1.38x    \n",
      "video:370760kB audio:0kB subtitle:0kB other streams:0kB global headers:0kB muxing overhead: unknown\n",
      "frame=   97 fps=0.2 q=-0.0 size=N/A time=00:01:35.00 bitrate=N/A dup=0 drop=2293 speed=0.226x     \r"
     ]
    },
    {
     "name": "stdout",
     "output_type": "stream",
     "text": [
      "[youtube] Extracting URL: https://www.youtube.com/watch?v=WkLTWmlTaJM\n",
      "[youtube] WkLTWmlTaJM: Downloading webpage\n"
     ]
    },
    {
     "name": "stderr",
     "output_type": "stream",
     "text": [
      "frame=  380 fps=1.0 q=-0.0 size=N/A time=00:06:18.00 bitrate=N/A dup=0 drop=10956 speed=0.999x    \r"
     ]
    },
    {
     "name": "stdout",
     "output_type": "stream",
     "text": [
      "[youtube] WkLTWmlTaJM: Downloading ios player API JSON\n"
     ]
    },
    {
     "name": "stderr",
     "output_type": "stream",
     "text": [
      "frame=  127 fps=0.2 q=-0.0 size=N/A time=00:02:05.00 bitrate=N/A dup=0 drop=3007 speed=0.215x    \r"
     ]
    },
    {
     "name": "stdout",
     "output_type": "stream",
     "text": [
      "[youtube] WkLTWmlTaJM: Downloading android player API JSON\n"
     ]
    },
    {
     "name": "stderr",
     "output_type": "stream",
     "text": [
      "frame=  200 fps=0.3 q=-0.0 size=N/A time=00:03:18.00 bitrate=N/A dup=0 drop=4754 speed=0.269x     \r"
     ]
    },
    {
     "name": "stdout",
     "output_type": "stream",
     "text": [
      "[youtube] WkLTWmlTaJM: Downloading m3u8 information\n"
     ]
    },
    {
     "name": "stderr",
     "output_type": "stream",
     "text": [
      "frame=  410 fps=1.0 q=-0.0 size=N/A time=00:06:48.00 bitrate=N/A dup=0 drop=11815 speed=1.01x    \r"
     ]
    },
    {
     "name": "stdout",
     "output_type": "stream",
     "text": [
      "[info] WkLTWmlTaJM: Downloading 1 format(s): 244+251-3\n"
     ]
    },
    {
     "name": "stderr",
     "output_type": "stream",
     "text": [
      "frame=  204 fps=0.3 q=-0.0 size=N/A time=00:03:22.00 bitrate=N/A dup=0 drop=4859 speed=0.27x     \r"
     ]
    },
    {
     "name": "stdout",
     "output_type": "stream",
     "text": [
      "[download] Destination: ./dataset_splited/WkLTWmlTaJM/video_480p.f244.webm\n",
      "[download]   1.3% of   37.68MiB at    1.11MiB/s ETA 00:33   "
     ]
    },
    {
     "name": "stderr",
     "output_type": "stream",
     "text": [
      "frame=  584 fps=1.1 q=-0.0 size=N/A time=00:09:42.00 bitrate=N/A dup=0 drop=16870 speed=1.09x    \r"
     ]
    },
    {
     "name": "stdout",
     "output_type": "stream",
     "text": [
      "[download]   2.7% of   37.68MiB at    1.49MiB/s ETA 00:24"
     ]
    },
    {
     "name": "stderr",
     "output_type": "stream",
     "text": [
      "frame=   46 fps=0.2 q=-0.0 size=N/A time=00:00:44.00 bitrate=N/A dup=0 drop=1280 speed=0.187x    \r"
     ]
    },
    {
     "name": "stdout",
     "output_type": "stream",
     "text": [
      "[download]   5.3% of   37.68MiB at    2.00MiB/s ETA 00:17"
     ]
    },
    {
     "name": "stderr",
     "output_type": "stream",
     "text": [
      "frame=   46 fps=0.2 q=-0.0 size=N/A time=00:00:44.00 bitrate=N/A dup=0 drop=1284 speed=0.186x    \r"
     ]
    },
    {
     "name": "stdout",
     "output_type": "stream",
     "text": [
      "[download]  10.6% of   37.68MiB at    2.56MiB/s ETA 00:13"
     ]
    },
    {
     "name": "stderr",
     "output_type": "stream",
     "text": [
      "frame=  136 fps=0.2 q=-0.0 size=N/A time=00:02:14.00 bitrate=N/A dup=0 drop=3228 speed=0.218x    \r"
     ]
    },
    {
     "name": "stdout",
     "output_type": "stream",
     "text": [
      "[download]  20.1% of   37.68MiB at    3.33MiB/s ETA 00:09"
     ]
    },
    {
     "name": "stderr",
     "output_type": "stream",
     "text": [
      "frame=  205 fps=0.3 q=-0.0 size=N/A time=00:03:23.00 bitrate=N/A dup=0 drop=4879 speed=0.27x     \r"
     ]
    },
    {
     "name": "stdout",
     "output_type": "stream",
     "text": [
      "[download]  26.1% of   37.68MiB at    3.73MiB/s ETA 00:07"
     ]
    },
    {
     "name": "stderr",
     "output_type": "stream",
     "text": [
      "frame=  107 fps=0.2 q=-0.0 size=N/A time=00:01:45.00 bitrate=N/A dup=0 drop=2524 speed=0.23x     \r"
     ]
    },
    {
     "name": "stdout",
     "output_type": "stream",
     "text": [
      "[download]  26.8% of   37.68MiB at    1.63MiB/s ETA 00:16  "
     ]
    },
    {
     "name": "stderr",
     "output_type": "stream",
     "text": [
      "frame=  588 fps=1.1 q=-0.0 size=N/A time=00:09:46.00 bitrate=N/A dup=0 drop=16998 speed=1.09x    \r"
     ]
    },
    {
     "name": "stdout",
     "output_type": "stream",
     "text": [
      "[download]  31.4% of   37.68MiB at    5.50MiB/s ETA 00:04"
     ]
    },
    {
     "name": "stderr",
     "output_type": "stream",
     "text": [
      "frame=   46 fps=0.2 q=-0.0 size=N/A time=00:00:44.00 bitrate=N/A dup=0 drop=1297 speed=0.185x    \r"
     ]
    },
    {
     "name": "stdout",
     "output_type": "stream",
     "text": [
      "[download]  36.8% of   37.68MiB at    6.68MiB/s ETA 00:03"
     ]
    },
    {
     "name": "stderr",
     "output_type": "stream",
     "text": [
      "frame=  589 fps=1.1 q=-0.0 size=N/A time=00:09:47.00 bitrate=N/A dup=0 drop=17014 speed=1.09x    \r"
     ]
    },
    {
     "name": "stdout",
     "output_type": "stream",
     "text": [
      "[download]  47.4% of   37.68MiB at    8.53MiB/s ETA 00:02"
     ]
    },
    {
     "name": "stderr",
     "output_type": "stream",
     "text": [
      "frame=   79 fps=0.2 q=-0.0 size=N/A time=00:01:17.00 bitrate=N/A dup=0 drop=2233 speed=0.221x    \r"
     ]
    },
    {
     "name": "stdout",
     "output_type": "stream",
     "text": [
      "[download]  52.0% of   37.68MiB at    8.90MiB/s ETA 00:02"
     ]
    },
    {
     "name": "stderr",
     "output_type": "stream",
     "text": [
      "frame=  590 fps=1.1 q=-0.0 size=N/A time=00:09:48.00 bitrate=N/A dup=0 drop=17036 speed=1.09x    \r"
     ]
    },
    {
     "name": "stdout",
     "output_type": "stream",
     "text": [
      "[download]  52.0% of   37.68MiB at  796.36KiB/s ETA 00:23  "
     ]
    },
    {
     "name": "stderr",
     "output_type": "stream",
     "text": [
      "frame=   47 fps=0.2 q=-0.0 size=N/A time=00:00:45.00 bitrate=N/A dup=0 drop=1303 speed=0.188x    \r"
     ]
    },
    {
     "name": "stdout",
     "output_type": "stream",
     "text": [
      "[download]  54.6% of   37.68MiB at    4.34MiB/s ETA 00:03"
     ]
    },
    {
     "name": "stderr",
     "output_type": "stream",
     "text": [
      "frame=  206 fps=0.3 q=-0.0 size=N/A time=00:03:24.00 bitrate=N/A dup=0 drop=4900 speed=0.271x    \r"
     ]
    },
    {
     "name": "stdout",
     "output_type": "stream",
     "text": [
      "[download]  57.3% of   37.68MiB at    5.99MiB/s ETA 00:02"
     ]
    },
    {
     "name": "stderr",
     "output_type": "stream",
     "text": [
      "frame=   47 fps=0.2 q=-0.0 size=N/A time=00:00:45.00 bitrate=N/A dup=0 drop=1309 speed=0.188x    \r"
     ]
    },
    {
     "name": "stdout",
     "output_type": "stream",
     "text": [
      "[download]  73.2% of   37.68MiB at    9.85MiB/s ETA 00:01"
     ]
    },
    {
     "name": "stderr",
     "output_type": "stream",
     "text": [
      "frame=  591 fps=1.1 q=-0.0 size=N/A time=00:09:49.00 bitrate=N/A dup=0 drop=17075 speed=1.09x    \r"
     ]
    },
    {
     "name": "stdout",
     "output_type": "stream",
     "text": [
      "[download]  78.4% of   37.68MiB at    9.39MiB/s ETA 00:00"
     ]
    },
    {
     "name": "stderr",
     "output_type": "stream",
     "text": [
      "frame=  137 fps=0.2 q=-0.0 size=N/A time=00:02:15.00 bitrate=N/A dup=0 drop=3245 speed=0.218x    \r"
     ]
    },
    {
     "name": "stdout",
     "output_type": "stream",
     "text": [
      "[download]  81.0% of   37.68MiB at    5.16MiB/s ETA 00:01"
     ]
    },
    {
     "name": "stderr",
     "output_type": "stream",
     "text": [
      "frame=  421 fps=1.0 q=-0.0 size=N/A time=00:06:59.00 bitrate=N/A dup=0 drop=12143 speed=1.01x    \r"
     ]
    },
    {
     "name": "stdout",
     "output_type": "stream",
     "text": [
      "[download]  89.0% of   37.68MiB at   11.45MiB/s ETA 00:00"
     ]
    },
    {
     "name": "stderr",
     "output_type": "stream",
     "text": [
      "frame=  108 fps=0.2 q=-0.0 size=N/A time=00:01:46.00 bitrate=N/A dup=0 drop=2544 speed=0.231x    \r"
     ]
    },
    {
     "name": "stdout",
     "output_type": "stream",
     "text": [
      "[download] 100.0% of   37.68MiB at   11.56MiB/s ETA 00:00"
     ]
    },
    {
     "name": "stderr",
     "output_type": "stream",
     "text": [
      "frame=  593 fps=1.1 q=-0.0 size=N/A time=00:09:51.00 bitrate=N/A dup=0 drop=17137 speed=1.09x    \r"
     ]
    },
    {
     "name": "stdout",
     "output_type": "stream",
     "text": [
      "[download] 100% of   37.68MiB in 00:00:07 at 4.81MiB/s   \n"
     ]
    },
    {
     "name": "stderr",
     "output_type": "stream",
     "text": [
      "frame=  137 fps=0.2 q=-0.0 size=N/A time=00:02:15.00 bitrate=N/A dup=0 drop=3250 speed=0.218x    \r"
     ]
    },
    {
     "name": "stdout",
     "output_type": "stream",
     "text": [
      "[download] Destination: ./dataset_splited/WkLTWmlTaJM/video_480p.f251-3.webm\n",
      "[download]   6.4% of    7.78MiB at    1.08MiB/s ETA 00:06"
     ]
    },
    {
     "name": "stderr",
     "output_type": "stream",
     "text": [
      "frame=  207 fps=0.3 q=-0.0 size=N/A time=00:03:25.00 bitrate=N/A dup=0 drop=4930 speed=0.271x    \r"
     ]
    },
    {
     "name": "stdout",
     "output_type": "stream",
     "text": [
      "[download]  12.8% of    7.78MiB at    1.73MiB/s ETA 00:03"
     ]
    },
    {
     "name": "stderr",
     "output_type": "stream",
     "text": [
      "frame=  424 fps=1.0 q=-0.0 size=N/A time=00:07:02.00 bitrate=N/A dup=0 drop=12221 speed=1.01x    \r"
     ]
    },
    {
     "name": "stdout",
     "output_type": "stream",
     "text": [
      "[download]  25.7% of    7.78MiB at    2.09MiB/s ETA 00:02"
     ]
    },
    {
     "name": "stderr",
     "output_type": "stream",
     "text": [
      "frame=  207 fps=0.3 q=-0.0 size=N/A time=00:03:25.00 bitrate=N/A dup=0 drop=4939 speed=0.271x    \r"
     ]
    },
    {
     "name": "stdout",
     "output_type": "stream",
     "text": [
      "[download]  51.4% of    7.78MiB at    2.54MiB/s ETA 00:01"
     ]
    },
    {
     "name": "stderr",
     "output_type": "stream",
     "text": [
      "frame=  597 fps=1.1 q=-0.0 size=N/A time=00:09:55.00 bitrate=N/A dup=0 drop=17232 speed=1.09x    \r"
     ]
    },
    {
     "name": "stdout",
     "output_type": "stream",
     "text": [
      "[download]  92.9% of    7.78MiB at    2.94MiB/s ETA 00:00"
     ]
    },
    {
     "name": "stderr",
     "output_type": "stream",
     "text": [
      "frame=   81 fps=0.1 q=-0.0 size=N/A time=00:01:19.00 bitrate=N/A dup=0 drop=3911 speed=0.144x    \r"
     ]
    },
    {
     "name": "stdout",
     "output_type": "stream",
     "text": [
      "[download] 100.0% of    7.78MiB at    2.95MiB/s ETA 00:00"
     ]
    },
    {
     "name": "stderr",
     "output_type": "stream",
     "text": [
      "frame=  597 fps=1.1 q=-0.0 size=N/A time=00:09:55.00 bitrate=N/A dup=0 drop=17250 speed=1.09x    \r"
     ]
    },
    {
     "name": "stdout",
     "output_type": "stream",
     "text": [
      "[download] 100% of    7.78MiB in 00:00:03 at 2.39MiB/s   \n",
      "[youtube] WkLTWmlTaJM: Downloading m3u8 information\n"
     ]
    },
    {
     "name": "stderr",
     "output_type": "stream",
     "text": [
      "frame=  208 fps=0.3 q=-0.0 size=N/A time=00:03:26.00 bitrate=N/A dup=0 drop=4954 speed=0.271x    \r"
     ]
    },
    {
     "name": "stdout",
     "output_type": "stream",
     "text": [
      "[Merger] Merging formats into \"./dataset_splited/WkLTWmlTaJM/video_480p.webm\"\n"
     ]
    },
    {
     "name": "stderr",
     "output_type": "stream",
     "text": [
      "frame=   50 fps=0.2 q=-0.0 size=N/A time=00:00:48.00 bitrate=N/A dup=0 drop=1396 speed=0.19x     \r"
     ]
    },
    {
     "name": "stdout",
     "output_type": "stream",
     "text": [
      "[info] WkLTWmlTaJM: Downloading 1 format(s): 303+251-3\n"
     ]
    },
    {
     "name": "stderr",
     "output_type": "stream",
     "text": [
      "frame=  610 fps=1.1 q=-0.0 size=N/A time=00:10:08.00 bitrate=N/A dup=0 drop=17620 speed=1.09x    \r"
     ]
    },
    {
     "name": "stdout",
     "output_type": "stream",
     "text": [
      "[download] Destination: ./dataset_splited/WkLTWmlTaJM/video_1080p.f303.webm\n",
      "[download]   0.0% of  226.60MiB at  513.43KiB/s ETA 07:31"
     ]
    },
    {
     "name": "stderr",
     "output_type": "stream",
     "text": [
      "frame=  439 fps=1.0 q=-0.0 size=N/A time=00:07:17.00 bitrate=N/A dup=0 drop=12659 speed=1.02x    \r"
     ]
    },
    {
     "name": "stdout",
     "output_type": "stream",
     "text": [
      "[download]   0.4% of  226.60MiB at    2.39MiB/s ETA 01:34"
     ]
    },
    {
     "name": "stderr",
     "output_type": "stream",
     "text": [
      "frame=   83 fps=0.2 q=-0.0 size=N/A time=00:01:21.00 bitrate=N/A dup=0 drop=2351 speed=0.222x    \r"
     ]
    },
    {
     "name": "stdout",
     "output_type": "stream",
     "text": [
      "[download]   0.9% of  226.60MiB at    2.92MiB/s ETA 01:16"
     ]
    },
    {
     "name": "stderr",
     "output_type": "stream",
     "text": [
      "frame=  113 fps=0.2 q=-0.0 size=N/A time=00:01:51.00 bitrate=N/A dup=0 drop=2660 speed=0.234x    \r"
     ]
    },
    {
     "name": "stdout",
     "output_type": "stream",
     "text": [
      "[download]   1.8% of  226.60MiB at    3.13MiB/s ETA 01:11"
     ]
    },
    {
     "name": "stderr",
     "output_type": "stream",
     "text": [
      "frame=   84 fps=0.1 q=-0.0 size=N/A time=00:01:22.00 bitrate=N/A dup=0 drop=4025 speed=0.146x    \r"
     ]
    },
    {
     "name": "stdout",
     "output_type": "stream",
     "text": [
      "[download]   3.3% of  226.60MiB at    3.56MiB/s ETA 01:01"
     ]
    },
    {
     "name": "stderr",
     "output_type": "stream",
     "text": [
      "frame=   84 fps=0.1 q=-0.0 size=N/A time=00:01:22.00 bitrate=N/A dup=0 drop=4031 speed=0.146x    \r"
     ]
    },
    {
     "name": "stdout",
     "output_type": "stream",
     "text": [
      "Deleting original file ./dataset_splited/WkLTWmlTaJM/video_480p.f251-3.webm (pass -k to keep)\n",
      "Deleting original file ./dataset_splited/WkLTWmlTaJM/video_480p.f244.webm (pass -k to keep)\n"
     ]
    },
    {
     "name": "stderr",
     "output_type": "stream",
     "text": [
      "frame=   83 fps=0.2 q=-0.0 size=N/A time=00:01:21.00 bitrate=N/A dup=0 drop=2370 speed=0.221x    \r"
     ]
    },
    {
     "name": "stdout",
     "output_type": "stream",
     "text": [
      "[download]   4.3% of  226.60MiB at    3.93MiB/s ETA 00:55  "
     ]
    },
    {
     "name": "stderr",
     "output_type": "stream",
     "text": [
      "frame=   84 fps=0.1 q=-0.0 size=N/A time=00:01:22.00 bitrate=N/A dup=0 drop=4038 speed=0.145x    \r"
     ]
    },
    {
     "name": "stdout",
     "output_type": "stream",
     "text": [
      "[download]   4.7% of  226.60MiB at    4.69MiB/s ETA 00:46"
     ]
    },
    {
     "name": "stderr",
     "output_type": "stream",
     "text": [
      "frame=   51 fps=0.2 q=-0.0 size=N/A time=00:00:49.00 bitrate=N/A dup=0 drop=1432 speed=0.189x    \r"
     ]
    },
    {
     "name": "stdout",
     "output_type": "stream",
     "text": [
      "[download]   6.1% of  226.60MiB at    6.40MiB/s ETA 00:33"
     ]
    },
    {
     "name": "stderr",
     "output_type": "stream",
     "text": [
      "frame=  113 fps=0.2 q=-0.0 size=N/A time=00:01:51.00 bitrate=N/A dup=0 drop=2683 speed=0.232x    \r"
     ]
    },
    {
     "name": "stdout",
     "output_type": "stream",
     "text": [
      "[download]   7.8% of  226.60MiB at    6.74MiB/s ETA 00:30"
     ]
    },
    {
     "name": "stderr",
     "output_type": "stream",
     "text": [
      "frame=  114 fps=0.2 q=-0.0 size=N/A time=00:01:52.00 bitrate=N/A dup=0 drop=2685 speed=0.234x    \r"
     ]
    },
    {
     "name": "stdout",
     "output_type": "stream",
     "text": [
      "[download]   8.6% of  226.60MiB at    6.98MiB/s ETA 00:29"
     ]
    },
    {
     "name": "stderr",
     "output_type": "stream",
     "text": [
      "frame=  615 fps=1.1 q=-0.0 size=N/A time=00:10:13.00 bitrate=N/A dup=0 drop=17766 speed=1.09x    \r"
     ]
    },
    {
     "name": "stdout",
     "output_type": "stream",
     "text": [
      "[download]   8.7% of  226.60MiB at    1.32MiB/s ETA 02:36  "
     ]
    },
    {
     "name": "stderr",
     "output_type": "stream",
     "text": [
      "frame=  114 fps=0.2 q=-0.0 size=N/A time=00:01:52.00 bitrate=N/A dup=0 drop=2692 speed=0.234x    \r"
     ]
    },
    {
     "name": "stdout",
     "output_type": "stream",
     "text": [
      "[download]   9.1% of  226.60MiB at    3.91MiB/s ETA 00:52"
     ]
    },
    {
     "name": "stderr",
     "output_type": "stream",
     "text": [
      "frame=  615 fps=1.1 q=-0.0 size=N/A time=00:10:13.00 bitrate=N/A dup=0 drop=17782 speed=1.09x    \r"
     ]
    },
    {
     "name": "stdout",
     "output_type": "stream",
     "text": [
      "[download]  10.4% of  226.60MiB at    6.08MiB/s ETA 00:33"
     ]
    },
    {
     "name": "stderr",
     "output_type": "stream",
     "text": [
      "frame=  446 fps=1.0 q=-0.0 size=N/A time=00:07:24.00 bitrate=N/A dup=0 drop=12875 speed=1.02x    \r"
     ]
    },
    {
     "name": "stdout",
     "output_type": "stream",
     "text": [
      "[download]  12.2% of  226.60MiB at    7.09MiB/s ETA 00:28"
     ]
    },
    {
     "name": "stderr",
     "output_type": "stream",
     "text": [
      "frame=   84 fps=0.2 q=-0.0 size=N/A time=00:01:22.00 bitrate=N/A dup=0 drop=2397 speed=0.221x    \r"
     ]
    },
    {
     "name": "stdout",
     "output_type": "stream",
     "text": [
      "[download]  13.0% of  226.60MiB at    7.77MiB/s ETA 00:25"
     ]
    },
    {
     "name": "stderr",
     "output_type": "stream",
     "text": [
      "frame=  214 fps=0.3 q=-0.0 size=N/A time=00:03:32.00 bitrate=N/A dup=0 drop=5102 speed=0.273x    \r"
     ]
    },
    {
     "name": "stdout",
     "output_type": "stream",
     "text": [
      "[download]  13.0% of  226.60MiB at  702.09KiB/s ETA 04:47   "
     ]
    },
    {
     "name": "stderr",
     "output_type": "stream",
     "text": [
      "frame=  114 fps=0.2 q=-0.0 size=N/A time=00:01:52.00 bitrate=N/A dup=0 drop=2704 speed=0.233x    \r"
     ]
    },
    {
     "name": "stdout",
     "output_type": "stream",
     "text": [
      "[download]  13.9% of  226.60MiB at    5.77MiB/s ETA 00:33"
     ]
    },
    {
     "name": "stderr",
     "output_type": "stream",
     "text": [
      "frame=  447 fps=1.0 q=-0.0 size=N/A time=00:07:25.00 bitrate=N/A dup=0 drop=12914 speed=1.02x    \r"
     ]
    },
    {
     "name": "stdout",
     "output_type": "stream",
     "text": [
      "[download]  14.7% of  226.60MiB at    7.05MiB/s ETA 00:27"
     ]
    },
    {
     "name": "stderr",
     "output_type": "stream",
     "text": [
      "ffmpeg version 4.2.7-0ubuntu0.1 Copyright (c) 2000-2022 the FFmpeg developers361 speed=0.219x    \n",
      "  built with gcc 9 (Ubuntu 9.4.0-1ubuntu1~20.04.1)\n",
      "  configuration: --prefix=/usr --extra-version=0ubuntu0.1 --toolchain=hardened --libdir=/usr/lib/x86_64-linux-gnu --incdir=/usr/include/x86_64-linux-gnu --arch=amd64 --enable-gpl --disable-stripping --enable-avresample --disable-filter=resample --enable-avisynth --enable-gnutls --enable-ladspa --enable-libaom --enable-libass --enable-libbluray --enable-libbs2b --enable-libcaca --enable-libcdio --enable-libcodec2 --enable-libflite --enable-libfontconfig --enable-libfreetype --enable-libfribidi --enable-libgme --enable-libgsm --enable-libjack --enable-libmp3lame --enable-libmysofa --enable-libopenjpeg --enable-libopenmpt --enable-libopus --enable-libpulse --enable-librsvg --enable-librubberband --enable-libshine --enable-libsnappy --enable-libsoxr --enable-libspeex --enable-libssh --enable-libtheora --enable-libtwolame --enable-libvidstab --enable-libvorbis --enable-libvpx --enable-libwavpack --enable-libwebp --enable-libx265 --enable-libxml2 --enable-libxvid --enable-libzmq --enable-libzvbi --enable-lv2 --enable-omx --enable-openal --enable-opencl --enable-opengl --enable-sdl2 --enable-libdc1394 --enable-libdrm --enable-libiec61883 --enable-nvenc --enable-chromaprint --enable-frei0r --enable-libx264 --enable-shared\n",
      "  libavutil      56. 31.100 / 56. 31.100\n",
      "  libavcodec     58. 54.100 / 58. 54.100\n",
      "  libavformat    58. 29.100 / 58. 29.100\n",
      "  libavdevice    58.  8.100 / 58.  8.100\n",
      "  libavfilter     7. 57.100 /  7. 57.100\n",
      "  libavresample   4.  0.  0 /  4.  0.  0\n",
      "  libswscale      5.  5.100 /  5.  5.100\n",
      "  libswresample   3.  5.100 /  3.  5.100\n",
      "  libpostproc    55.  5.100 / 55.  5.100\n"
     ]
    },
    {
     "name": "stdout",
     "output_type": "stream",
     "text": [
      "[download]  16.5% of  226.60MiB at    9.09MiB/s ETA 00:20"
     ]
    },
    {
     "name": "stderr",
     "output_type": "stream",
     "text": [
      "frame=  448 fps=1.0 q=-0.0 size=N/A time=00:07:26.00 bitrate=N/A dup=0 drop=12936 speed=1.02x    \r"
     ]
    },
    {
     "name": "stdout",
     "output_type": "stream",
     "text": [
      "[download]  17.3% of  226.60MiB at    9.58MiB/s ETA 00:19"
     ]
    },
    {
     "name": "stderr",
     "output_type": "stream",
     "text": [
      "Input #0, matroska,webm, from './dataset_splited/WkLTWmlTaJM/video_480p.webm':\n",
      "  Metadata:\n",
      "    ENCODER         : Lavf58.29.100\n",
      "  Duration: 00:08:04.06, start: -0.007000, bitrate: 787 kb/s\n",
      "    Stream #0:0(eng): Video: vp9 (Profile 0), yuv420p(tv, bt709), 854x480, SAR 1:1 DAR 427:240, 25 fps, 25 tbr, 1k tbn, 1k tbc (default)\n",
      "    Metadata:\n",
      "      DURATION        : 00:08:04.040000000\n",
      "    Stream #0:1(eng): Audio: opus, 48000 Hz, stereo, fltp (default)\n",
      "    Metadata:\n",
      "      DURATION        : 00:08:04.061000000\n",
      "Stream mapping:\n",
      "  Stream #0:0 -> #0:0 (vp9 (native) -> png (native))\n",
      "Press [q] to stop, [?] for help\n",
      "frame=   85 fps=0.2 q=-0.0 size=N/A time=00:01:23.00 bitrate=N/A dup=0 drop=2409 speed=0.223x    \r"
     ]
    },
    {
     "name": "stdout",
     "output_type": "stream",
     "text": [
      "[download]  17.3% of  226.60MiB at  175.91KiB/s ETA 18:10  "
     ]
    },
    {
     "name": "stderr",
     "output_type": "stream",
     "text": [
      "Output #0, image2, to './dataset_splited/WkLTWmlTaJM/frames_480p/frame-%04d.png': speed=1.09x    \n",
      "  Metadata:\n",
      "    encoder         : Lavf58.29.100\n",
      "    Stream #0:0(eng): Video: png, rgb24, 854x480 [SAR 1:1 DAR 427:240], q=2-31, 200 kb/s, 1 fps, 1 tbn, 1 tbc (default)\n",
      "    Metadata:\n",
      "      DURATION        : 00:08:04.040000000\n",
      "      encoder         : Lavc58.54.100 png\n",
      "frame=   52 fps=0.2 q=-0.0 size=N/A time=00:00:50.00 bitrate=N/A dup=0 drop=1459 speed=0.189x    \r"
     ]
    },
    {
     "name": "stdout",
     "output_type": "stream",
     "text": [
      "[download]  17.5% of  226.60MiB at    1.59MiB/s ETA 01:57"
     ]
    },
    {
     "name": "stderr",
     "output_type": "stream",
     "text": [
      "frame=    2 fps=0.0 q=0.0 size=N/A time=00:00:00.00 bitrate=N/A dup=0 drop=10 speed=   0x        \r"
     ]
    },
    {
     "name": "stdout",
     "output_type": "stream",
     "text": [
      "[download]  18.2% of  226.60MiB at    4.28MiB/s ETA 00:43"
     ]
    },
    {
     "name": "stderr",
     "output_type": "stream",
     "text": [
      "frame=  115 fps=0.2 q=-0.0 size=N/A time=00:01:53.00 bitrate=N/A dup=0 drop=2718 speed=0.234x    \r"
     ]
    },
    {
     "name": "stdout",
     "output_type": "stream",
     "text": [
      "[download]  20.9% of  226.60MiB at    8.49MiB/s ETA 00:21"
     ]
    },
    {
     "name": "stderr",
     "output_type": "stream",
     "text": [
      "frame=   85 fps=0.2 q=-0.0 size=N/A time=00:01:23.00 bitrate=N/A dup=0 drop=2420 speed=0.222x    \r"
     ]
    },
    {
     "name": "stdout",
     "output_type": "stream",
     "text": [
      "[download]  21.7% of  226.60MiB at    9.65MiB/s ETA 00:18"
     ]
    },
    {
     "name": "stderr",
     "output_type": "stream",
     "text": [
      "frame=  115 fps=0.2 q=-0.0 size=N/A time=00:01:53.00 bitrate=N/A dup=0 drop=2722 speed=0.234x    \r"
     ]
    },
    {
     "name": "stdout",
     "output_type": "stream",
     "text": [
      "[download]  21.8% of  226.60MiB at  733.02KiB/s ETA 04:07  "
     ]
    },
    {
     "name": "stderr",
     "output_type": "stream",
     "text": [
      "frame=   52 fps=0.2 q=-0.0 size=N/A time=00:00:50.00 bitrate=N/A dup=0 drop=1470 speed=0.188x    \r"
     ]
    },
    {
     "name": "stdout",
     "output_type": "stream",
     "text": [
      "[download]  22.1% of  226.60MiB at    3.36MiB/s ETA 00:52"
     ]
    },
    {
     "name": "stderr",
     "output_type": "stream",
     "text": [
      "frame=   85 fps=0.1 q=-0.0 size=N/A time=00:01:23.00 bitrate=N/A dup=0 drop=4101 speed=0.145x    \r"
     ]
    },
    {
     "name": "stdout",
     "output_type": "stream",
     "text": [
      "[download]  22.6% of  226.60MiB at    4.64MiB/s ETA 00:37"
     ]
    },
    {
     "name": "stderr",
     "output_type": "stream",
     "text": [
      "frame=  622 fps=1.1 q=-0.0 size=N/A time=00:10:20.00 bitrate=N/A dup=0 drop=17964 speed=1.09x    \r"
     ]
    },
    {
     "name": "stdout",
     "output_type": "stream",
     "text": [
      "[download]  23.5% of  226.60MiB at    5.98MiB/s ETA 00:29"
     ]
    },
    {
     "name": "stderr",
     "output_type": "stream",
     "text": [
      "frame=    4 fps=1.6 q=-0.0 size=N/A time=00:00:02.00 bitrate=N/A dup=0 drop=64 speed=0.805x      \r"
     ]
    },
    {
     "name": "stdout",
     "output_type": "stream",
     "text": [
      "[download]  25.2% of  226.60MiB at    8.35MiB/s ETA 00:20"
     ]
    },
    {
     "name": "stderr",
     "output_type": "stream",
     "text": [
      "frame=  216 fps=0.3 q=-0.0 size=N/A time=00:03:34.00 bitrate=N/A dup=0 drop=5132 speed=0.274x    \r"
     ]
    },
    {
     "name": "stdout",
     "output_type": "stream",
     "text": [
      "[download]  26.0% of  226.60MiB at    8.99MiB/s ETA 00:18"
     ]
    },
    {
     "name": "stderr",
     "output_type": "stream",
     "text": [
      "frame=  452 fps=1.0 q=-0.0 size=N/A time=00:07:30.00 bitrate=N/A dup=0 drop=13048 speed=1.02x    \r"
     ]
    },
    {
     "name": "stdout",
     "output_type": "stream",
     "text": [
      "[download]  26.1% of  226.60MiB at  859.04KiB/s ETA 03:19   "
     ]
    },
    {
     "name": "stderr",
     "output_type": "stream",
     "text": [
      "frame=    6 fps=1.7 q=-0.0 size=N/A time=00:00:04.00 bitrate=N/A dup=0 drop=96 speed=1.15x       \r"
     ]
    },
    {
     "name": "stdout",
     "output_type": "stream",
     "text": [
      "[download]  26.9% of  226.60MiB at    3.99MiB/s ETA 00:41"
     ]
    },
    {
     "name": "stderr",
     "output_type": "stream",
     "text": [
      "frame=   53 fps=0.2 q=-0.0 size=N/A time=00:00:51.00 bitrate=N/A dup=0 drop=1482 speed=0.191x    \r"
     ]
    },
    {
     "name": "stdout",
     "output_type": "stream",
     "text": [
      "[download]  27.7% of  226.60MiB at    6.41MiB/s ETA 00:25"
     ]
    },
    {
     "name": "stderr",
     "output_type": "stream",
     "text": [
      "frame=   86 fps=0.2 q=-0.0 size=N/A time=00:01:24.00 bitrate=N/A dup=0 drop=4114 speed=0.147x    \r"
     ]
    },
    {
     "name": "stdout",
     "output_type": "stream",
     "text": [
      "[download]  30.2% of  226.60MiB at    9.72MiB/s ETA 00:16"
     ]
    },
    {
     "name": "stderr",
     "output_type": "stream",
     "text": [
      "frame=  453 fps=1.0 q=-0.0 size=N/A time=00:07:31.00 bitrate=N/A dup=0 drop=13087 speed=1.02x    \r"
     ]
    },
    {
     "name": "stdout",
     "output_type": "stream",
     "text": [
      "[download]  30.3% of  226.60MiB at  586.44KiB/s ETA 04:35  "
     ]
    },
    {
     "name": "stderr",
     "output_type": "stream",
     "text": [
      "frame=   86 fps=0.2 q=-0.0 size=N/A time=00:01:24.00 bitrate=N/A dup=0 drop=4120 speed=0.147x    \r"
     ]
    },
    {
     "name": "stdout",
     "output_type": "stream",
     "text": [
      "[download]  31.1% of  226.60MiB at    4.52MiB/s ETA 00:34"
     ]
    },
    {
     "name": "stderr",
     "output_type": "stream",
     "text": [
      "frame=  143 fps=0.2 q=-0.0 size=N/A time=00:02:21.00 bitrate=N/A dup=0 drop=3390 speed=0.218x    \r"
     ]
    },
    {
     "name": "stdout",
     "output_type": "stream",
     "text": [
      "[download]  32.0% of  226.60MiB at    6.36MiB/s ETA 00:24"
     ]
    },
    {
     "name": "stderr",
     "output_type": "stream",
     "text": [
      "frame=  216 fps=0.3 q=-0.0 size=N/A time=00:03:34.00 bitrate=N/A dup=0 drop=5153 speed=0.274x    \r"
     ]
    },
    {
     "name": "stdout",
     "output_type": "stream",
     "text": [
      "[download]  34.4% of  226.60MiB at    9.74MiB/s ETA 00:15"
     ]
    },
    {
     "name": "stderr",
     "output_type": "stream",
     "text": [
      "frame=  455 fps=1.0 q=-0.0 size=N/A time=00:07:33.00 bitrate=N/A dup=0 drop=13119 speed=1.02x    \r"
     ]
    },
    {
     "name": "stdout",
     "output_type": "stream",
     "text": [
      "[download]  34.5% of  226.60MiB at  736.89KiB/s ETA 03:26  "
     ]
    },
    {
     "name": "stderr",
     "output_type": "stream",
     "text": [
      "frame=  626 fps=1.1 q=-0.0 size=N/A time=00:10:24.00 bitrate=N/A dup=0 drop=18097 speed=1.09x    \r"
     ]
    },
    {
     "name": "stdout",
     "output_type": "stream",
     "text": [
      "[download]  34.9% of  226.60MiB at    3.51MiB/s ETA 00:42"
     ]
    },
    {
     "name": "stderr",
     "output_type": "stream",
     "text": [
      "frame=  117 fps=0.2 q=-0.0 size=N/A time=00:01:55.00 bitrate=N/A dup=0 drop=2757 speed=0.236x    \r"
     ]
    },
    {
     "name": "stdout",
     "output_type": "stream",
     "text": [
      "[download]  36.2% of  226.60MiB at    6.31MiB/s ETA 00:22"
     ]
    },
    {
     "name": "stderr",
     "output_type": "stream",
     "text": [
      "frame=  143 fps=0.2 q=-0.0 size=N/A time=00:02:21.00 bitrate=N/A dup=0 drop=3396 speed=0.218x    \r"
     ]
    },
    {
     "name": "stdout",
     "output_type": "stream",
     "text": [
      "[download]  38.8% of  226.60MiB at    8.97MiB/s ETA 00:15"
     ]
    },
    {
     "name": "stderr",
     "output_type": "stream",
     "text": [
      "frame=   11 fps=1.5 q=-0.0 size=N/A time=00:00:09.00 bitrate=N/A dup=0 drop=225 speed=1.24x      \r"
     ]
    },
    {
     "name": "stdout",
     "output_type": "stream",
     "text": [
      "[download]  38.8% of  226.60MiB at  117.04KiB/s ETA 20:12  "
     ]
    },
    {
     "name": "stderr",
     "output_type": "stream",
     "text": [
      "frame=  457 fps=1.0 q=-0.0 size=N/A time=00:07:35.00 bitrate=N/A dup=0 drop=13177 speed=1.02x    \r"
     ]
    },
    {
     "name": "stdout",
     "output_type": "stream",
     "text": [
      "[download]  39.7% of  226.60MiB at    4.75MiB/s ETA 00:28"
     ]
    },
    {
     "name": "stderr",
     "output_type": "stream",
     "text": [
      "frame=  144 fps=0.2 q=-0.0 size=N/A time=00:02:22.00 bitrate=N/A dup=0 drop=3404 speed=0.219x    \r"
     ]
    },
    {
     "name": "stdout",
     "output_type": "stream",
     "text": [
      "[download]  40.6% of  226.60MiB at    5.74MiB/s ETA 00:23"
     ]
    },
    {
     "name": "stderr",
     "output_type": "stream",
     "text": [
      "frame=  629 fps=1.1 q=-0.0 size=N/A time=00:10:27.00 bitrate=N/A dup=0 drop=18166 speed= 1.1x    \r"
     ]
    },
    {
     "name": "stdout",
     "output_type": "stream",
     "text": [
      "[download]  43.1% of  226.60MiB at    9.02MiB/s ETA 00:14"
     ]
    },
    {
     "name": "stderr",
     "output_type": "stream",
     "text": [
      "frame=   13 fps=1.5 q=-0.0 size=N/A time=00:00:11.00 bitrate=N/A dup=0 drop=276 speed=1.25x      \r"
     ]
    },
    {
     "name": "stdout",
     "output_type": "stream",
     "text": [
      "[download]  43.2% of  226.60MiB at    1.05MiB/s ETA 02:02  "
     ]
    },
    {
     "name": "stderr",
     "output_type": "stream",
     "text": [
      "frame=   87 fps=0.2 q=-0.0 size=N/A time=00:01:25.00 bitrate=N/A dup=0 drop=2476 speed=0.223x    \r"
     ]
    },
    {
     "name": "stdout",
     "output_type": "stream",
     "text": [
      "[download]  44.0% of  226.60MiB at    4.16MiB/s ETA 00:30"
     ]
    },
    {
     "name": "stderr",
     "output_type": "stream",
     "text": [
      "frame=   14 fps=1.5 q=-0.0 size=N/A time=00:00:12.00 bitrate=N/A dup=0 drop=294 speed=1.29x      \r"
     ]
    },
    {
     "name": "stdout",
     "output_type": "stream",
     "text": [
      "[download]  44.9% of  226.60MiB at    6.25MiB/s ETA 00:20"
     ]
    },
    {
     "name": "stderr",
     "output_type": "stream",
     "text": [
      "frame=  118 fps=0.2 q=-0.0 size=N/A time=00:01:56.00 bitrate=N/A dup=0 drop=2780 speed=0.236x    \r"
     ]
    },
    {
     "name": "stdout",
     "output_type": "stream",
     "text": [
      "[download]  47.5% of  226.60MiB at    8.10MiB/s ETA 00:14"
     ]
    },
    {
     "name": "stderr",
     "output_type": "stream",
     "text": [
      "frame=  631 fps=1.1 q=-0.0 size=N/A time=00:10:29.00 bitrate=N/A dup=0 drop=18237 speed= 1.1x    \r"
     ]
    },
    {
     "name": "stdout",
     "output_type": "stream",
     "text": [
      "[download]  47.5% of  226.60MiB at   56.70KiB/s ETA 35:49  "
     ]
    },
    {
     "name": "stderr",
     "output_type": "stream",
     "text": [
      "frame=  460 fps=1.0 q=-0.0 size=N/A time=00:07:38.00 bitrate=N/A dup=0 drop=13276 speed=1.02x    \r"
     ]
    },
    {
     "name": "stdout",
     "output_type": "stream",
     "text": [
      "[download]  47.6% of  226.60MiB at  944.65KiB/s ETA 02:08"
     ]
    },
    {
     "name": "stderr",
     "output_type": "stream",
     "text": [
      "frame=  118 fps=0.2 q=-0.0 size=N/A time=00:01:56.00 bitrate=N/A dup=0 drop=2785 speed=0.236x    \r"
     ]
    },
    {
     "name": "stdout",
     "output_type": "stream",
     "text": [
      "[download]  48.4% of  226.60MiB at    4.71MiB/s ETA 00:24"
     ]
    },
    {
     "name": "stderr",
     "output_type": "stream",
     "text": [
      "frame=   55 fps=0.2 q=-0.0 size=N/A time=00:00:53.00 bitrate=N/A dup=0 drop=1531 speed=0.193x    \r"
     ]
    },
    {
     "name": "stdout",
     "output_type": "stream",
     "text": [
      "[download]  49.2% of  226.60MiB at    6.35MiB/s ETA 00:18"
     ]
    },
    {
     "name": "stderr",
     "output_type": "stream",
     "text": [
      "frame=   16 fps=1.4 q=-0.0 size=N/A time=00:00:14.00 bitrate=N/A dup=0 drop=349 speed=1.27x      \r"
     ]
    },
    {
     "name": "stdout",
     "output_type": "stream",
     "text": [
      "[download]  51.0% of  226.60MiB at    8.59MiB/s ETA 00:12"
     ]
    },
    {
     "name": "stderr",
     "output_type": "stream",
     "text": [
      "frame=  118 fps=0.2 q=-0.0 size=N/A time=00:01:56.00 bitrate=N/A dup=0 drop=2790 speed=0.235x    \r"
     ]
    },
    {
     "name": "stdout",
     "output_type": "stream",
     "text": [
      "[download]  51.8% of  226.60MiB at    9.08MiB/s ETA 00:12"
     ]
    },
    {
     "name": "stderr",
     "output_type": "stream",
     "text": [
      "frame=  144 fps=0.2 q=-0.0 size=N/A time=00:02:22.00 bitrate=N/A dup=0 drop=3421 speed=0.218x    \r"
     ]
    },
    {
     "name": "stdout",
     "output_type": "stream",
     "text": [
      "[download]  51.8% of  226.60MiB at   99.56KiB/s ETA 18:43   "
     ]
    },
    {
     "name": "stderr",
     "output_type": "stream",
     "text": [
      "frame=   88 fps=0.2 q=-0.0 size=N/A time=00:01:26.00 bitrate=N/A dup=0 drop=2497 speed=0.224x    \r"
     ]
    },
    {
     "name": "stdout",
     "output_type": "stream",
     "text": [
      "[download]  52.2% of  226.60MiB at    2.82MiB/s ETA 00:38"
     ]
    },
    {
     "name": "stderr",
     "output_type": "stream",
     "text": [
      "frame=   18 fps=1.5 q=-0.0 size=N/A time=00:00:16.00 bitrate=N/A dup=0 drop=385 speed=1.32x      \r"
     ]
    },
    {
     "name": "stdout",
     "output_type": "stream",
     "text": [
      "[download]  53.5% of  226.60MiB at    6.02MiB/s ETA 00:17"
     ]
    },
    {
     "name": "stderr",
     "output_type": "stream",
     "text": [
      "frame=   18 fps=1.4 q=-0.0 size=N/A time=00:00:16.00 bitrate=N/A dup=0 drop=403 speed=1.26x      \r"
     ]
    },
    {
     "name": "stdout",
     "output_type": "stream",
     "text": [
      "[download]  56.2% of  226.60MiB at    8.66MiB/s ETA 00:11"
     ]
    },
    {
     "name": "stderr",
     "output_type": "stream",
     "text": [
      "frame=  463 fps=1.0 q=-0.0 size=N/A time=00:07:41.00 bitrate=N/A dup=0 drop=13353 speed=1.02x    \r"
     ]
    },
    {
     "name": "stdout",
     "output_type": "stream",
     "text": [
      "[download]  56.2% of  226.60MiB at   94.23KiB/s ETA 17:59  "
     ]
    },
    {
     "name": "stderr",
     "output_type": "stream",
     "text": [
      "frame=   19 fps=1.4 q=-0.0 size=N/A time=00:00:17.00 bitrate=N/A dup=0 drop=421 speed=1.29x      \r"
     ]
    },
    {
     "name": "stdout",
     "output_type": "stream",
     "text": [
      "[download]  56.4% of  226.60MiB at    1.47MiB/s ETA 01:07"
     ]
    },
    {
     "name": "stderr",
     "output_type": "stream",
     "text": [
      "frame=   55 fps=0.2 q=-0.0 size=N/A time=00:00:53.00 bitrate=N/A dup=0 drop=1546 speed=0.191x    \r"
     ]
    },
    {
     "name": "stdout",
     "output_type": "stream",
     "text": [
      "[download]  57.0% of  226.60MiB at    4.14MiB/s ETA 00:23"
     ]
    },
    {
     "name": "stderr",
     "output_type": "stream",
     "text": [
      "frame=  119 fps=0.2 q=-0.0 size=N/A time=00:01:57.00 bitrate=N/A dup=0 drop=2806 speed=0.236x    \r"
     ]
    },
    {
     "name": "stdout",
     "output_type": "stream",
     "text": [
      "[download]  57.9% of  226.60MiB at    6.28MiB/s ETA 00:15"
     ]
    },
    {
     "name": "stderr",
     "output_type": "stream",
     "text": [
      "frame=  219 fps=0.3 q=-0.0 size=N/A time=00:03:37.00 bitrate=N/A dup=0 drop=5223 speed=0.274x    \r"
     ]
    },
    {
     "name": "stdout",
     "output_type": "stream",
     "text": [
      "[download]  60.4% of  226.60MiB at    8.57MiB/s ETA 00:10"
     ]
    },
    {
     "name": "stderr",
     "output_type": "stream",
     "text": [
      "frame=  119 fps=0.2 q=-0.0 size=N/A time=00:01:57.00 bitrate=N/A dup=0 drop=2810 speed=0.236x    \r"
     ]
    },
    {
     "name": "stdout",
     "output_type": "stream",
     "text": [
      "[download]  60.4% of  226.60MiB at  161.07KiB/s ETA 09:30  "
     ]
    },
    {
     "name": "stderr",
     "output_type": "stream",
     "text": [
      "frame=  637 fps=1.1 q=-0.0 size=N/A time=00:10:35.00 bitrate=N/A dup=0 drop=18391 speed= 1.1x    \r"
     ]
    },
    {
     "name": "stdout",
     "output_type": "stream",
     "text": [
      "[download]  60.9% of  226.60MiB at    2.76MiB/s ETA 00:32"
     ]
    },
    {
     "name": "stderr",
     "output_type": "stream",
     "text": [
      "frame=  119 fps=0.2 q=-0.0 size=N/A time=00:01:57.00 bitrate=N/A dup=0 drop=2815 speed=0.236x    \r"
     ]
    },
    {
     "name": "stdout",
     "output_type": "stream",
     "text": [
      "[download]  62.2% of  226.60MiB at    6.38MiB/s ETA 00:13"
     ]
    },
    {
     "name": "stderr",
     "output_type": "stream",
     "text": [
      "frame=  637 fps=1.1 q=-0.0 size=N/A time=00:10:35.00 bitrate=N/A dup=0 drop=18411 speed= 1.1x    \r"
     ]
    },
    {
     "name": "stdout",
     "output_type": "stream",
     "text": [
      "[download]  64.8% of  226.60MiB at    9.20MiB/s ETA 00:08"
     ]
    },
    {
     "name": "stderr",
     "output_type": "stream",
     "text": [
      "frame=   23 fps=1.5 q=-0.0 size=N/A time=00:00:21.00 bitrate=N/A dup=0 drop=511 speed=1.33x      \r"
     ]
    },
    {
     "name": "stdout",
     "output_type": "stream",
     "text": [
      "[download]  64.8% of  226.60MiB at  Unknown B/s ETA Unknown"
     ]
    },
    {
     "name": "stderr",
     "output_type": "stream",
     "text": [
      "frame=  220 fps=0.3 q=-0.0 size=N/A time=00:03:38.00 bitrate=N/A dup=0 drop=5236 speed=0.275x    \r"
     ]
    },
    {
     "name": "stdout",
     "output_type": "stream",
     "text": [
      "[download]  65.2% of  226.60MiB at    4.25MiB/s ETA 00:18  "
     ]
    },
    {
     "name": "stderr",
     "output_type": "stream",
     "text": [
      "frame=   24 fps=1.5 q=-0.0 size=N/A time=00:00:22.00 bitrate=N/A dup=0 drop=525 speed=1.34x      \r"
     ]
    },
    {
     "name": "stdout",
     "output_type": "stream",
     "text": [
      "[download]  66.6% of  226.60MiB at    8.10MiB/s ETA 00:09"
     ]
    },
    {
     "name": "stderr",
     "output_type": "stream",
     "text": [
      "frame=   88 fps=0.2 q=-0.0 size=N/A time=00:01:26.00 bitrate=N/A dup=0 drop=4223 speed=0.147x    \r"
     ]
    },
    {
     "name": "stdout",
     "output_type": "stream",
     "text": [
      "[download]  68.3% of  226.60MiB at   11.42MiB/s ETA 00:06"
     ]
    },
    {
     "name": "stderr",
     "output_type": "stream",
     "text": [
      "frame=  145 fps=0.2 q=-0.0 size=N/A time=00:02:23.00 bitrate=N/A dup=0 drop=3444 speed=0.218x    \r"
     ]
    },
    {
     "name": "stdout",
     "output_type": "stream",
     "text": [
      "[download]  69.1% of  226.60MiB at   10.99MiB/s ETA 00:06"
     ]
    },
    {
     "name": "stderr",
     "output_type": "stream",
     "text": [
      "frame=  467 fps=1.0 q=-0.0 size=N/A time=00:07:45.00 bitrate=N/A dup=0 drop=13477 speed=1.02x    \r"
     ]
    },
    {
     "name": "stdout",
     "output_type": "stream",
     "text": [
      "[download]  69.2% of  226.60MiB at  111.98KiB/s ETA 10:39  "
     ]
    },
    {
     "name": "stderr",
     "output_type": "stream",
     "text": [
      "frame=  120 fps=0.2 q=-0.0 size=N/A time=00:01:58.00 bitrate=N/A dup=0 drop=2829 speed=0.236x    \r"
     ]
    },
    {
     "name": "stdout",
     "output_type": "stream",
     "text": [
      "[download]  69.4% of  226.60MiB at    1.73MiB/s ETA 00:40"
     ]
    },
    {
     "name": "stderr",
     "output_type": "stream",
     "text": [
      "frame=   88 fps=0.2 q=-0.0 size=N/A time=00:01:26.00 bitrate=N/A dup=0 drop=4232 speed=0.147x    \r"
     ]
    },
    {
     "name": "stdout",
     "output_type": "stream",
     "text": [
      "[download]  70.0% of  226.60MiB at    4.84MiB/s ETA 00:14"
     ]
    },
    {
     "name": "stderr",
     "output_type": "stream",
     "text": [
      "frame=  145 fps=0.2 q=-0.0 size=N/A time=00:02:23.00 bitrate=N/A dup=0 drop=3451 speed=0.217x    \r"
     ]
    },
    {
     "name": "stdout",
     "output_type": "stream",
     "text": [
      "[download]  70.9% of  226.60MiB at    5.36MiB/s ETA 00:12"
     ]
    },
    {
     "name": "stderr",
     "output_type": "stream",
     "text": [
      "frame=   88 fps=0.2 q=-0.0 size=N/A time=00:01:26.00 bitrate=N/A dup=0 drop=4238 speed=0.147x    \r"
     ]
    },
    {
     "name": "stdout",
     "output_type": "stream",
     "text": [
      "[download]  72.7% of  226.60MiB at    7.33MiB/s ETA 00:08"
     ]
    },
    {
     "name": "stderr",
     "output_type": "stream",
     "text": [
      "frame=  120 fps=0.2 q=-0.0 size=N/A time=00:01:58.00 bitrate=N/A dup=0 drop=2833 speed=0.236x    \r"
     ]
    },
    {
     "name": "stdout",
     "output_type": "stream",
     "text": [
      "[download]  73.5% of  226.60MiB at    7.72MiB/s ETA 00:07"
     ]
    },
    {
     "name": "stderr",
     "output_type": "stream",
     "text": [
      "frame=   90 fps=0.2 q=-0.0 size=N/A time=00:01:28.00 bitrate=N/A dup=0 drop=2545 speed=0.225x    \r"
     ]
    },
    {
     "name": "stdout",
     "output_type": "stream",
     "text": [
      "[download]  73.5% of  226.60MiB at   51.05KiB/s ETA 20:04"
     ]
    },
    {
     "name": "stderr",
     "output_type": "stream",
     "text": [
      "frame=  221 fps=0.3 q=-0.0 size=N/A time=00:03:39.00 bitrate=N/A dup=0 drop=5264 speed=0.275x    \r"
     ]
    },
    {
     "name": "stdout",
     "output_type": "stream",
     "text": [
      "[download]  73.6% of  226.60MiB at    1.10MiB/s ETA 00:54"
     ]
    },
    {
     "name": "stderr",
     "output_type": "stream",
     "text": [
      "frame=   88 fps=0.1 q=-0.0 size=N/A time=00:01:26.00 bitrate=N/A dup=0 drop=4248 speed=0.146x    \r"
     ]
    },
    {
     "name": "stdout",
     "output_type": "stream",
     "text": [
      "[download]  74.4% of  226.60MiB at    4.25MiB/s ETA 00:13"
     ]
    },
    {
     "name": "stderr",
     "output_type": "stream",
     "text": [
      "frame=  146 fps=0.2 q=-0.0 size=N/A time=00:02:24.00 bitrate=N/A dup=0 drop=3456 speed=0.218x    \r"
     ]
    },
    {
     "name": "stdout",
     "output_type": "stream",
     "text": [
      "[download]  75.3% of  226.60MiB at    5.94MiB/s ETA 00:09"
     ]
    },
    {
     "name": "stderr",
     "output_type": "stream",
     "text": [
      "frame=  643 fps=1.1 q=-0.0 size=N/A time=00:10:41.00 bitrate=N/A dup=0 drop=18577 speed= 1.1x    \r"
     ]
    },
    {
     "name": "stdout",
     "output_type": "stream",
     "text": [
      "[download]  77.8% of  226.60MiB at    8.77MiB/s ETA 00:05"
     ]
    },
    {
     "name": "stderr",
     "output_type": "stream",
     "text": [
      "frame=  146 fps=0.2 q=-0.0 size=N/A time=00:02:24.00 bitrate=N/A dup=0 drop=3460 speed=0.218x    \r"
     ]
    },
    {
     "name": "stdout",
     "output_type": "stream",
     "text": [
      "[download]  77.8% of  226.60MiB at  Unknown B/s ETA Unknown"
     ]
    },
    {
     "name": "stderr",
     "output_type": "stream",
     "text": [
      "frame=  644 fps=1.1 q=-0.0 size=N/A time=00:10:42.00 bitrate=N/A dup=0 drop=18597 speed= 1.1x    \r"
     ]
    },
    {
     "name": "stdout",
     "output_type": "stream",
     "text": [
      "[download]  78.0% of  226.60MiB at    1.87MiB/s ETA 00:26  "
     ]
    },
    {
     "name": "stderr",
     "output_type": "stream",
     "text": [
      "frame=  120 fps=0.2 q=-0.0 size=N/A time=00:01:58.00 bitrate=N/A dup=0 drop=2845 speed=0.235x    \r"
     ]
    },
    {
     "name": "stdout",
     "output_type": "stream",
     "text": [
      "[download]  78.7% of  226.60MiB at    6.22MiB/s ETA 00:07"
     ]
    },
    {
     "name": "stderr",
     "output_type": "stream",
     "text": [
      "frame=  222 fps=0.3 q=-0.0 size=N/A time=00:03:40.00 bitrate=N/A dup=0 drop=5278 speed=0.276x    \r"
     ]
    },
    {
     "name": "stdout",
     "output_type": "stream",
     "text": [
      "[download]  79.6% of  226.60MiB at    7.86MiB/s ETA 00:05"
     ]
    },
    {
     "name": "stderr",
     "output_type": "stream",
     "text": [
      "frame=   30 fps=1.4 q=-0.0 size=N/A time=00:00:28.00 bitrate=N/A dup=0 drop=668 speed=1.31x      \r"
     ]
    },
    {
     "name": "stdout",
     "output_type": "stream",
     "text": [
      "[download]  81.3% of  226.60MiB at    9.21MiB/s ETA 00:04"
     ]
    },
    {
     "name": "stderr",
     "output_type": "stream",
     "text": [
      "frame=  222 fps=0.3 q=-0.0 size=N/A time=00:03:40.00 bitrate=N/A dup=0 drop=5283 speed=0.275x    \r"
     ]
    },
    {
     "name": "stdout",
     "output_type": "stream",
     "text": [
      "[download]  82.1% of  226.60MiB at    9.62MiB/s ETA 00:04"
     ]
    },
    {
     "name": "stderr",
     "output_type": "stream",
     "text": [
      "frame=   57 fps=0.2 q=-0.0 size=N/A time=00:00:55.00 bitrate=N/A dup=0 drop=1598 speed=0.193x    \r"
     ]
    },
    {
     "name": "stdout",
     "output_type": "stream",
     "text": [
      "[download]  82.1% of  226.60MiB at   99.39KiB/s ETA 06:57  "
     ]
    },
    {
     "name": "stderr",
     "output_type": "stream",
     "text": [
      "frame=   90 fps=0.2 q=-0.0 size=N/A time=00:01:28.00 bitrate=N/A dup=0 drop=2563 speed=0.223x    \r"
     ]
    },
    {
     "name": "stdout",
     "output_type": "stream",
     "text": [
      "[download]  82.2% of  226.60MiB at    1.10MiB/s ETA 00:36"
     ]
    },
    {
     "name": "stderr",
     "output_type": "stream",
     "text": [
      "frame=  646 fps=1.1 q=-0.0 size=N/A time=00:10:44.00 bitrate=N/A dup=0 drop=18653 speed= 1.1x    \r"
     ]
    },
    {
     "name": "stdout",
     "output_type": "stream",
     "text": [
      "[download]  83.0% of  226.60MiB at    5.06MiB/s ETA 00:07"
     ]
    },
    {
     "name": "stderr",
     "output_type": "stream",
     "text": [
      "frame=  222 fps=0.3 q=-0.0 size=N/A time=00:03:40.00 bitrate=N/A dup=0 drop=5293 speed=0.275x    \r"
     ]
    },
    {
     "name": "stdout",
     "output_type": "stream",
     "text": [
      "[download]  85.7% of  226.60MiB at   10.19MiB/s ETA 00:03"
     ]
    },
    {
     "name": "stderr",
     "output_type": "stream",
     "text": [
      "frame=   57 fps=0.2 q=-0.0 size=N/A time=00:00:55.00 bitrate=N/A dup=0 drop=1604 speed=0.192x    \r"
     ]
    },
    {
     "name": "stdout",
     "output_type": "stream",
     "text": [
      "[download]  86.4% of  226.60MiB at    9.90MiB/s ETA 00:03"
     ]
    },
    {
     "name": "stderr",
     "output_type": "stream",
     "text": [
      "frame=   90 fps=0.2 q=-0.0 size=N/A time=00:01:28.00 bitrate=N/A dup=0 drop=2571 speed=0.223x    \r"
     ]
    },
    {
     "name": "stdout",
     "output_type": "stream",
     "text": [
      "[download]  86.4% of  226.60MiB at  Unknown B/s ETA Unknown"
     ]
    },
    {
     "name": "stderr",
     "output_type": "stream",
     "text": [
      "frame=  223 fps=0.3 q=-0.0 size=N/A time=00:03:41.00 bitrate=N/A dup=0 drop=5300 speed=0.276x    \r"
     ]
    },
    {
     "name": "stdout",
     "output_type": "stream",
     "text": [
      "[download]  86.8% of  226.60MiB at    2.66MiB/s ETA 00:11  "
     ]
    },
    {
     "name": "stderr",
     "output_type": "stream",
     "text": [
      "frame=  475 fps=1.0 q=-0.0 size=N/A time=00:07:53.00 bitrate=N/A dup=0 drop=13698 speed=1.03x    \r"
     ]
    },
    {
     "name": "stdout",
     "output_type": "stream",
     "text": [
      "[download]  87.8% of  226.60MiB at    2.55MiB/s ETA 00:10"
     ]
    },
    {
     "name": "stderr",
     "output_type": "stream",
     "text": [
      "frame=   34 fps=1.4 q=-0.0 size=N/A time=00:00:32.00 bitrate=N/A dup=0 drop=764 speed=1.29x      \r"
     ]
    },
    {
     "name": "stdout",
     "output_type": "stream",
     "text": [
      "[download]  88.8% of  226.60MiB at    3.88MiB/s ETA 00:06"
     ]
    },
    {
     "name": "stderr",
     "output_type": "stream",
     "text": [
      "frame=  648 fps=1.1 q=-0.0 size=N/A time=00:10:46.00 bitrate=N/A dup=0 drop=18718 speed= 1.1x    \r"
     ]
    },
    {
     "name": "stdout",
     "output_type": "stream",
     "text": [
      "[download]  90.6% of  226.60MiB at    5.55MiB/s ETA 00:03"
     ]
    },
    {
     "name": "stderr",
     "output_type": "stream",
     "text": [
      "frame=   35 fps=1.4 q=-0.0 size=N/A time=00:00:33.00 bitrate=N/A dup=0 drop=788 speed= 1.3x      \r"
     ]
    },
    {
     "name": "stdout",
     "output_type": "stream",
     "text": [
      "[download]  90.6% of  226.60MiB at  242.41KiB/s ETA 01:29  "
     ]
    },
    {
     "name": "stderr",
     "output_type": "stream",
     "text": [
      "frame=  223 fps=0.3 q=-0.0 size=N/A time=00:03:41.00 bitrate=N/A dup=0 drop=5315 speed=0.275x    \r"
     ]
    },
    {
     "name": "stdout",
     "output_type": "stream",
     "text": [
      "[download]  91.5% of  226.60MiB at    5.97MiB/s ETA 00:03"
     ]
    },
    {
     "name": "stderr",
     "output_type": "stream",
     "text": [
      "frame=   35 fps=1.4 q=-0.0 size=N/A time=00:00:33.00 bitrate=N/A dup=0 drop=807 speed=1.27x      \r"
     ]
    },
    {
     "name": "stdout",
     "output_type": "stream",
     "text": [
      "[download]  92.4% of  226.60MiB at    7.79MiB/s ETA 00:02"
     ]
    },
    {
     "name": "stderr",
     "output_type": "stream",
     "text": [
      "frame=   58 fps=0.2 q=-0.0 size=N/A time=00:00:56.00 bitrate=N/A dup=0 drop=1624 speed=0.193x    \r"
     ]
    },
    {
     "name": "stdout",
     "output_type": "stream",
     "text": [
      "[download]  94.8% of  226.60MiB at   12.07MiB/s ETA 00:00"
     ]
    },
    {
     "name": "stderr",
     "output_type": "stream",
     "text": [
      "frame=  477 fps=1.0 q=-0.0 size=N/A time=00:07:55.00 bitrate=N/A dup=0 drop=13775 speed=1.02x    \r"
     ]
    },
    {
     "name": "stdout",
     "output_type": "stream",
     "text": [
      "[download]  94.9% of  226.60MiB at  144.52KiB/s ETA 01:22  "
     ]
    },
    {
     "name": "stderr",
     "output_type": "stream",
     "text": [
      "frame=   91 fps=0.2 q=-0.0 size=N/A time=00:01:29.00 bitrate=N/A dup=0 drop=2592 speed=0.223x    \r"
     ]
    },
    {
     "name": "stdout",
     "output_type": "stream",
     "text": [
      "[download]  95.3% of  226.60MiB at    3.41MiB/s ETA 00:03"
     ]
    },
    {
     "name": "stderr",
     "output_type": "stream",
     "text": [
      "frame=  223 fps=0.3 q=-0.0 size=N/A time=00:03:41.00 bitrate=N/A dup=0 drop=5323 speed=0.275x    \r"
     ]
    },
    {
     "name": "stdout",
     "output_type": "stream",
     "text": [
      "[download]  96.6% of  226.60MiB at    7.35MiB/s ETA 00:01"
     ]
    },
    {
     "name": "stderr",
     "output_type": "stream",
     "text": [
      "frame=   91 fps=0.2 q=-0.0 size=N/A time=00:01:29.00 bitrate=N/A dup=0 drop=2596 speed=0.223x    \r"
     ]
    },
    {
     "name": "stdout",
     "output_type": "stream",
     "text": [
      "[download]  99.1% of  226.60MiB at   10.56MiB/s ETA 00:00"
     ]
    },
    {
     "name": "stderr",
     "output_type": "stream",
     "text": [
      "frame=   58 fps=0.2 q=-0.0 size=N/A time=00:00:56.00 bitrate=N/A dup=0 drop=1632 speed=0.192x    \r"
     ]
    },
    {
     "name": "stdout",
     "output_type": "stream",
     "text": [
      "[download]  99.1% of  226.60MiB at    1.31MiB/s ETA 00:01  "
     ]
    },
    {
     "name": "stderr",
     "output_type": "stream",
     "text": [
      "frame=   90 fps=0.2 q=-0.0 size=N/A time=00:01:28.00 bitrate=N/A dup=0 drop=4320 speed=0.148x    \r"
     ]
    },
    {
     "name": "stdout",
     "output_type": "stream",
     "text": [
      "[download]  99.5% of  226.60MiB at    3.80MiB/s ETA 00:00"
     ]
    },
    {
     "name": "stderr",
     "output_type": "stream",
     "text": [
      "frame=  224 fps=0.3 q=-0.0 size=N/A time=00:03:42.00 bitrate=N/A dup=0 drop=5332 speed=0.276x    \r"
     ]
    },
    {
     "name": "stdout",
     "output_type": "stream",
     "text": [
      "[download] 100.0% of  226.60MiB at    4.98MiB/s ETA 00:00"
     ]
    },
    {
     "name": "stderr",
     "output_type": "stream",
     "text": [
      "frame=  224 fps=0.3 q=-0.0 size=N/A time=00:03:42.00 bitrate=N/A dup=0 drop=5336 speed=0.275x    \r"
     ]
    },
    {
     "name": "stdout",
     "output_type": "stream",
     "text": [
      "[download] 100% of  226.60MiB in 00:00:36 at 6.13MiB/s   \n"
     ]
    },
    {
     "name": "stderr",
     "output_type": "stream",
     "text": [
      "frame=   39 fps=1.3 q=-0.0 size=N/A time=00:00:37.00 bitrate=N/A dup=0 drop=902 speed=1.28x      \r"
     ]
    },
    {
     "name": "stdout",
     "output_type": "stream",
     "text": [
      "[download] Destination: ./dataset_splited/WkLTWmlTaJM/video_1080p.f251-3.webm\n",
      "[download]   0.4% of    7.78MiB at  245.80KiB/s ETA 00:32"
     ]
    },
    {
     "name": "stderr",
     "output_type": "stream",
     "text": [
      "frame=  224 fps=0.3 q=-0.0 size=N/A time=00:03:42.00 bitrate=N/A dup=0 drop=5341 speed=0.275x    \r"
     ]
    },
    {
     "name": "stdout",
     "output_type": "stream",
     "text": [
      "[download]   6.4% of    7.78MiB at    1.43MiB/s ETA 00:05"
     ]
    },
    {
     "name": "stderr",
     "output_type": "stream",
     "text": [
      "frame=  653 fps=1.1 q=-0.0 size=N/A time=00:10:51.00 bitrate=N/A dup=0 drop=18869 speed= 1.1x    \r"
     ]
    },
    {
     "name": "stdout",
     "output_type": "stream",
     "text": [
      "[download]  12.8% of    7.78MiB at    1.80MiB/s ETA 00:03"
     ]
    },
    {
     "name": "stderr",
     "output_type": "stream",
     "text": [
      "frame=  654 fps=1.1 q=-0.0 size=N/A time=00:10:52.00 bitrate=N/A dup=0 drop=18888 speed= 1.1x    \r"
     ]
    },
    {
     "name": "stdout",
     "output_type": "stream",
     "text": [
      "[download]  25.7% of    7.78MiB at    2.12MiB/s ETA 00:02"
     ]
    },
    {
     "name": "stderr",
     "output_type": "stream",
     "text": [
      "frame=   41 fps=1.3 q=-0.0 size=N/A time=00:00:39.00 bitrate=N/A dup=0 drop=948 speed=1.28x      \r"
     ]
    },
    {
     "name": "stdout",
     "output_type": "stream",
     "text": [
      "[download]  51.4% of    7.78MiB at    2.44MiB/s ETA 00:01"
     ]
    },
    {
     "name": "stderr",
     "output_type": "stream",
     "text": [
      "frame=   92 fps=0.2 q=-0.0 size=N/A time=00:01:30.00 bitrate=N/A dup=0 drop=2622 speed=0.223x    \r"
     ]
    },
    {
     "name": "stdout",
     "output_type": "stream",
     "text": [
      "[download]  88.1% of    7.78MiB at    2.83MiB/s ETA 00:00"
     ]
    },
    {
     "name": "stderr",
     "output_type": "stream",
     "text": [
      "frame=   59 fps=0.2 q=-0.0 size=N/A time=00:00:57.00 bitrate=N/A dup=0 drop=1653 speed=0.193x    \r"
     ]
    },
    {
     "name": "stdout",
     "output_type": "stream",
     "text": [
      "[download] 100% of    7.78MiB in 00:00:02 at 2.64MiB/s   \n"
     ]
    },
    {
     "name": "stderr",
     "output_type": "stream",
     "text": [
      "frame=   92 fps=0.2 q=-0.0 size=N/A time=00:01:30.00 bitrate=N/A dup=0 drop=2631 speed=0.222x    \r"
     ]
    },
    {
     "name": "stdout",
     "output_type": "stream",
     "text": [
      "[Merger] Merging formats into \"./dataset_splited/WkLTWmlTaJM/video_1080p.webm\"\n"
     ]
    },
    {
     "name": "stderr",
     "output_type": "stream",
     "text": [
      "frame=  232 fps=0.3 q=-0.0 size=N/A time=00:03:50.00 bitrate=N/A dup=0 drop=5527 speed=0.277x    \r"
     ]
    },
    {
     "name": "stdout",
     "output_type": "stream",
     "text": [
      "Deleting original file ./dataset_splited/WkLTWmlTaJM/video_1080p.f303.webm (pass -k to keep)\n"
     ]
    },
    {
     "name": "stderr",
     "output_type": "stream",
     "text": [
      "frame=  152 fps=0.2 q=-0.0 size=N/A time=00:02:30.00 bitrate=N/A dup=0 drop=3606 speed=0.216x    \r"
     ]
    },
    {
     "name": "stdout",
     "output_type": "stream",
     "text": [
      "Deleting original file ./dataset_splited/WkLTWmlTaJM/video_1080p.f251-3.webm (pass -k to keep)\n"
     ]
    },
    {
     "name": "stderr",
     "output_type": "stream",
     "text": [
      "ffmpeg version 4.2.7-0ubuntu0.1 Copyright (c) 2000-2022 the FFmpeg developersframe=   77 fps=1.3 q=-0.0 size=N/A time=00:01:15.00 bitrate=N/A dup=0 drop=1798 speed=1.23x    \n",
      "  built with gcc 9 (Ubuntu 9.4.0-1ubuntu1~20.04.1)\n",
      "  configuration: --prefix=/usr --extra-version=0ubuntu0.1 --toolchain=hardened --libdir=/usr/lib/x86_64-linux-gnu --incdir=/usr/include/x86_64-linux-gnu --arch=amd64 --enable-gpl --disable-stripping --enable-avresample --disable-filter=resample --enable-avisynth --enable-gnutls --enable-ladspa --enable-libaom --enable-libass --enable-libbluray --enable-libbs2b --enable-libcaca --enable-libcdio --enable-libcodec2 --enable-libflite --enable-libfontconfig --enable-libfreetype --enable-libfribidi --enable-libgme --enable-libgsm --enable-libjack --enable-libmp3lame --enable-libmysofa --enable-libopenjpeg --enable-libopenmpt --enable-libopus --enable-libpulse --enable-librsvg --enable-librubberband --enable-libshine --enable-libsnappy --enable-libsoxr --enable-libspeex --enable-libssh --enable-libtheora --enable-libtwolame --enable-libvidstab --enable-libvorbis --enable-libvpx --enable-libwavpack --enable-libwebp --enable-libx265 --enable-libxml2 --enable-libxvid --enable-libzmq --enable-libzvbi --enable-lv2 --enable-omx --enable-openal --enable-opencl --enable-opengl --enable-sdl2 --enable-libdc1394 --enable-libdrm --enable-libiec61883 --enable-nvenc --enable-chromaprint --enable-frei0r --enable-libx264 --enable-shared\n",
      "  libavutil      56. 31.100 / 56. 31.100\n",
      "  libavcodec     58. 54.100 / 58. 54.100\n",
      "  libavformat    58. 29.100 / 58. 29.100\n",
      "  libavdevice    58.  8.100 / 58.  8.100\n",
      "  libavfilter     7. 57.100 /  7. 57.100\n",
      "  libavresample   4.  0.  0 /  4.  0.  0\n",
      "  libswscale      5.  5.100 /  5.  5.100\n",
      "  libswresample   3.  5.100 /  3.  5.100\n",
      "  libpostproc    55.  5.100 / 55.  5.100\n",
      "Input #0, matroska,webm, from './dataset_splited/WkLTWmlTaJM/video_1080p.webm':08 speed= 1.1x    \n",
      "  Metadata:\n",
      "    ENCODER         : Lavf58.29.100\n",
      "  Duration: 00:08:04.06, start: -0.007000, bitrate: 4061 kb/s\n",
      "    Stream #0:0(eng): Video: vp9 (Profile 0), yuv420p(tv, bt709), 1920x1080, SAR 1:1 DAR 16:9, 50 fps, 50 tbr, 1k tbn, 1k tbc (default)\n",
      "    Metadata:\n",
      "      DURATION        : 00:08:04.040000000\n",
      "    Stream #0:1(eng): Audio: opus, 48000 Hz, stereo, fltp (default)\n",
      "    Metadata:ps=0.3 q=-0.0 size=N/A time=00:03:53.00 bitrate=N/A dup=0 drop=5589 speed=0.277x    \n",
      "      DURATION        : 00:08:04.061000000\n",
      "Stream mapping:\n",
      "  Stream #0:0 -> #0:0 (vp9 (native) -> png (native))\n",
      "Press [q] to stop, [?] for help\n",
      "Output #0, image2, to './dataset_splited/WkLTWmlTaJM/frames_1080p/frame-%04d.png':speed=1.03x    \n",
      "  Metadata:\n",
      "    encoder         : Lavf58.29.100\n",
      "    Stream #0:0(eng): Video: png, rgb24, 1920x1080 [SAR 1:1 DAR 16:9], q=2-31, 200 kb/s, 1 fps, 1 tbn, 1 tbc (default)\n",
      "    Metadata:\n",
      "      DURATION        : 00:08:04.040000000\n",
      "      encoder         : Lavc58.54.100 png\n",
      "frame=  239 fps=0.3 q=-0.0 Lsize=N/A time=00:03:59.00 bitrate=N/A dup=0 drop=5703 speed=0.279x    \n",
      "video:553581kB audio:0kB subtitle:0kB other streams:0kB global headers:0kB muxing overhead: unknown\n",
      "frame=  136 fps=0.2 q=-0.0 size=N/A time=00:02:14.00 bitrate=N/A dup=0 drop=3223 speed=0.238x    \r"
     ]
    },
    {
     "name": "stdout",
     "output_type": "stream",
     "text": [
      "[youtube] Extracting URL: https://www.youtube.com/watch?v=AaCGGopQOJ0\n",
      "[youtube] AaCGGopQOJ0: Downloading webpage\n"
     ]
    },
    {
     "name": "stderr",
     "output_type": "stream",
     "text": [
      "frame=  103 fps=1.2 q=-0.0 size=N/A time=00:01:41.00 bitrate=N/A dup=0 drop=2421 speed= 1.2x     \r"
     ]
    },
    {
     "name": "stdout",
     "output_type": "stream",
     "text": [
      "[youtube] AaCGGopQOJ0: Downloading ios player API JSON\n"
     ]
    },
    {
     "name": "stderr",
     "output_type": "stream",
     "text": [
      "frame=  712 fps=1.1 q=-0.0 size=N/A time=00:11:50.00 bitrate=N/A dup=0 drop=20568 speed=1.09x    \r"
     ]
    },
    {
     "name": "stdout",
     "output_type": "stream",
     "text": [
      "[youtube] AaCGGopQOJ0: Downloading android player API JSON\n"
     ]
    },
    {
     "name": "stderr",
     "output_type": "stream",
     "text": [
      "frame=  539 fps=1.0 q=-0.0 size=N/A time=00:08:57.00 bitrate=N/A dup=0 drop=15570 speed=1.03x    \r"
     ]
    },
    {
     "name": "stdout",
     "output_type": "stream",
     "text": [
      "[youtube] AaCGGopQOJ0: Downloading m3u8 information\n"
     ]
    },
    {
     "name": "stderr",
     "output_type": "stream",
     "text": [
      "frame=  543 fps=1.0 q=-0.0 size=N/A time=00:09:01.00 bitrate=N/A dup=0 drop=15690 speed=1.03x    \r"
     ]
    },
    {
     "name": "stdout",
     "output_type": "stream",
     "text": [
      "[info] AaCGGopQOJ0: Downloading 1 format(s): 244+251\n"
     ]
    },
    {
     "name": "stderr",
     "output_type": "stream",
     "text": [
      "frame=  139 fps=0.2 q=-0.0 size=N/A time=00:02:17.00 bitrate=N/A dup=0 drop=3286 speed=0.24x     \r"
     ]
    },
    {
     "name": "stdout",
     "output_type": "stream",
     "text": [
      "[download] Destination: ./dataset_splited/AaCGGopQOJ0/video_480p.f244.webm\n",
      "[download]   0.1% of   26.01MiB at  253.97KiB/s ETA 01:44"
     ]
    },
    {
     "name": "stderr",
     "output_type": "stream",
     "text": [
      "frame=  111 fps=1.2 q=-0.0 size=N/A time=00:01:49.00 bitrate=N/A dup=0 drop=2633 speed=1.21x     \r"
     ]
    },
    {
     "name": "stdout",
     "output_type": "stream",
     "text": [
      "[download]   1.9% of   26.01MiB at    1.84MiB/s ETA 00:13"
     ]
    },
    {
     "name": "stderr",
     "output_type": "stream",
     "text": [
      "frame=  546 fps=1.0 q=-0.0 size=N/A time=00:09:04.00 bitrate=N/A dup=0 drop=15769 speed=1.03x    \r"
     ]
    },
    {
     "name": "stdout",
     "output_type": "stream",
     "text": [
      "[download]   3.8% of   26.01MiB at    2.50MiB/s ETA 00:10"
     ]
    },
    {
     "name": "stderr",
     "output_type": "stream",
     "text": [
      "frame=  112 fps=1.2 q=-0.0 size=N/A time=00:01:50.00 bitrate=N/A dup=0 drop=2652 speed=1.21x     \r"
     ]
    },
    {
     "name": "stdout",
     "output_type": "stream",
     "text": [
      "[download]   7.7% of   26.01MiB at    3.10MiB/s ETA 00:07"
     ]
    },
    {
     "name": "stderr",
     "output_type": "stream",
     "text": [
      "frame=  106 fps=0.2 q=-0.0 size=N/A time=00:01:44.00 bitrate=N/A dup=0 drop=3030 speed=0.224x    \r"
     ]
    },
    {
     "name": "stdout",
     "output_type": "stream",
     "text": [
      "[download]  15.4% of   26.01MiB at    3.61MiB/s ETA 00:06"
     ]
    },
    {
     "name": "stderr",
     "output_type": "stream",
     "text": [
      "frame=    6 fps=0.2 q=-0.0 size=N/A time=00:00:04.00 bitrate=N/A dup=0 drop=218 speed=0.139x     \r"
     ]
    },
    {
     "name": "stdout",
     "output_type": "stream",
     "text": [
      "[download]  30.8% of   26.01MiB at    4.01MiB/s ETA 00:04"
     ]
    },
    {
     "name": "stderr",
     "output_type": "stream",
     "text": [
      "frame=  107 fps=0.2 q=-0.0 size=N/A time=00:01:45.00 bitrate=N/A dup=0 drop=3038 speed=0.226x    \r"
     ]
    },
    {
     "name": "stdout",
     "output_type": "stream",
     "text": [
      "[download]  36.6% of   26.01MiB at    4.30MiB/s ETA 00:03"
     ]
    },
    {
     "name": "stderr",
     "output_type": "stream",
     "text": [
      "frame=  114 fps=1.2 q=-0.0 size=N/A time=00:01:52.00 bitrate=N/A dup=0 drop=2706 speed=1.21x     \r"
     ]
    },
    {
     "name": "stdout",
     "output_type": "stream",
     "text": [
      "[download]  38.6% of   26.01MiB at    2.18MiB/s ETA 00:07  "
     ]
    },
    {
     "name": "stderr",
     "output_type": "stream",
     "text": [
      "frame=  115 fps=1.2 q=-0.0 size=N/A time=00:01:53.00 bitrate=N/A dup=0 drop=2721 speed=1.22x     \r"
     ]
    },
    {
     "name": "stdout",
     "output_type": "stream",
     "text": [
      "[download]  52.0% of   26.01MiB at    6.64MiB/s ETA 00:01"
     ]
    },
    {
     "name": "stderr",
     "output_type": "stream",
     "text": [
      "frame=    6 fps=0.2 q=-0.0 size=N/A time=00:00:04.00 bitrate=N/A dup=0 drop=226 speed=0.133x     \r"
     ]
    },
    {
     "name": "stdout",
     "output_type": "stream",
     "text": [
      "[download]  67.4% of   26.01MiB at    9.75MiB/s ETA 00:00"
     ]
    },
    {
     "name": "stderr",
     "output_type": "stream",
     "text": [
      "frame=  100 fps=0.2 q=-0.0 size=N/A time=00:01:38.00 bitrate=N/A dup=0 drop=4821 speed=0.148x    \r"
     ]
    },
    {
     "name": "stdout",
     "output_type": "stream",
     "text": [
      "[download]  74.9% of   26.01MiB at    1.00MiB/s ETA 00:06  "
     ]
    },
    {
     "name": "stderr",
     "output_type": "stream",
     "text": [
      "frame=  724 fps=1.1 q=-0.0 size=N/A time=00:12:02.00 bitrate=N/A dup=0 drop=20917 speed= 1.1x    \r"
     ]
    },
    {
     "name": "stdout",
     "output_type": "stream",
     "text": [
      "[download]  89.3% of   26.01MiB at    6.52MiB/s ETA 00:00"
     ]
    },
    {
     "name": "stderr",
     "output_type": "stream",
     "text": [
      "frame=  117 fps=1.2 q=-0.0 size=N/A time=00:01:55.00 bitrate=N/A dup=0 drop=2771 speed=1.22x     \r"
     ]
    },
    {
     "name": "stdout",
     "output_type": "stream",
     "text": [
      "[download] 100.0% of   26.01MiB at    8.78MiB/s ETA 00:00"
     ]
    },
    {
     "name": "stderr",
     "output_type": "stream",
     "text": [
      "frame=  159 fps=0.2 q=-0.0 size=N/A time=00:02:37.00 bitrate=N/A dup=0 drop=3783 speed=0.214x    \r"
     ]
    },
    {
     "name": "stdout",
     "output_type": "stream",
     "text": [
      "[download] 100% of   26.01MiB in 00:00:04 at 5.57MiB/s   \n",
      "[download] Destination: ./dataset_splited/AaCGGopQOJ0/video_480p.f251.webm\n",
      "[download]   0.0% of    5.55MiB at   29.20KiB/s ETA 03:14"
     ]
    },
    {
     "name": "stderr",
     "output_type": "stream",
     "text": [
      "frame=  100 fps=0.2 q=-0.0 size=N/A time=00:01:38.00 bitrate=N/A dup=0 drop=4831 speed=0.148x    \r"
     ]
    },
    {
     "name": "stdout",
     "output_type": "stream",
     "text": [
      "[download]  18.0% of    5.55MiB at    3.53MiB/s ETA 00:01"
     ]
    },
    {
     "name": "stderr",
     "output_type": "stream",
     "text": [
      "frame=  107 fps=0.2 q=-0.0 size=N/A time=00:01:45.00 bitrate=N/A dup=0 drop=3051 speed=0.225x    \r"
     ]
    },
    {
     "name": "stdout",
     "output_type": "stream",
     "text": [
      "[download] 100.0% of    5.55MiB at    9.31MiB/s ETA 00:00"
     ]
    },
    {
     "name": "stderr",
     "output_type": "stream",
     "text": [
      "frame=  100 fps=0.2 q=-0.0 size=N/A time=00:01:38.00 bitrate=N/A dup=0 drop=4832 speed=0.148x    \r"
     ]
    },
    {
     "name": "stdout",
     "output_type": "stream",
     "text": [
      "[download] 100% of    5.55MiB in 00:00:00 at 7.03MiB/s   \n"
     ]
    },
    {
     "name": "stderr",
     "output_type": "stream",
     "text": [
      "frame=  160 fps=0.2 q=-0.0 size=N/A time=00:02:38.00 bitrate=N/A dup=0 drop=3789 speed=0.215x    \r"
     ]
    },
    {
     "name": "stdout",
     "output_type": "stream",
     "text": [
      "[Merger] Merging formats into \"./dataset_splited/AaCGGopQOJ0/video_480p.webm\"\n"
     ]
    },
    {
     "name": "stderr",
     "output_type": "stream",
     "text": [
      "frame=    9 fps=0.2 q=-0.0 size=N/A time=00:00:07.00 bitrate=N/A dup=0 drop=340 speed=0.162x     \r"
     ]
    },
    {
     "name": "stdout",
     "output_type": "stream",
     "text": [
      "Deleting original file ./dataset_splited/AaCGGopQOJ0/video_480p.f251.webm (pass -k to keep)\n",
      "Deleting original file ./dataset_splited/AaCGGopQOJ0/video_480p.f244.webm (pass -k to keep)\n"
     ]
    },
    {
     "name": "stderr",
     "output_type": "stream",
     "text": [
      "ffmpeg version 4.2.7-0ubuntu0.1 Copyright (c) 2000-2022 the FFmpeg developers434 speed=0.242x    \n",
      "  built with gcc 9 (Ubuntu 9.4.0-1ubuntu1~20.04.1)\n",
      "  configuration: --prefix=/usr --extra-version=0ubuntu0.1 --toolchain=hardened --libdir=/usr/lib/x86_64-linux-gnu --incdir=/usr/include/x86_64-linux-gnu --arch=amd64 --enable-gpl --disable-stripping --enable-avresample --disable-filter=resample --enable-avisynth --enable-gnutls --enable-ladspa --enable-libaom --enable-libass --enable-libbluray --enable-libbs2b --enable-libcaca --enable-libcdio --enable-libcodec2 --enable-libflite --enable-libfontconfig --enable-libfreetype --enable-libfribidi --enable-libgme --enable-libgsm --enable-libjack --enable-libmp3lame --enable-libmysofa --enable-libopenjpeg --enable-libopenmpt --enable-libopus --enable-libpulse --enable-librsvg --enable-librubberband --enable-libshine --enable-libsnappy --enable-libsoxr --enable-libspeex --enable-libssh --enable-libtheora --enable-libtwolame --enable-libvidstab --enable-libvorbis --enable-libvpx --enable-libwavpack --enable-libwebp --enable-libx265 --enable-libxml2 --enable-libxvid --enable-libzmq --enable-libzvbi --enable-lv2 --enable-omx --enable-openal --enable-opencl --enable-opengl --enable-sdl2 --enable-libdc1394 --enable-libdrm --enable-libiec61883 --enable-nvenc --enable-chromaprint --enable-frei0r --enable-libx264 --enable-shared\n",
      "  libavutil      56. 31.100 / 56. 31.100\n",
      "  libavcodec     58. 54.100 / 58. 54.100\n",
      "  libavformat    58. 29.100 / 58. 29.100\n",
      "  libavdevice    58.  8.100 / 58.  8.100\n",
      "  libavfilter     7. 57.100 /  7. 57.100\n",
      "  libavresample   4.  0.  0 /  4.  0.  0\n",
      "  libswscale      5.  5.100 /  5.  5.100\n",
      "  libswresample   3.  5.100 /  3.  5.100\n",
      "  libpostproc    55.  5.100 / 55.  5.100\n",
      "Input #0, matroska,webm, from './dataset_splited/AaCGGopQOJ0/video_480p.webm':14 speed=0.195x    \n",
      "  Metadata: fps=0.2 q=-0.0 size=N/A time=00:00:07.00 bitrate=N/A dup=0 drop=380 speed=0.147x    \n",
      "    ENCODER         : Lavf58.29.100\n",
      "  Duration: 00:05:53.42, start: -0.007000, bitrate: 749 kb/s\n",
      "    Stream #0:0(eng): Video: vp9 (Profile 0), yuv420p(tv, bt709), 854x480, SAR 1:1 DAR 427:240, 25 fps, 25 tbr, 1k tbn, 1k tbc (default)\n",
      "    Metadata:\n",
      "      DURATION        : 00:05:53.400000000\n",
      "    Stream #0:1(eng): Audio: opus, 48000 Hz, stereo, fltp (default)\n",
      "    Metadata:\n",
      "      DURATION        : 00:05:53.421000000\n",
      "Stream mapping:=0.2 q=-0.0 size=N/A time=00:01:41.00 bitrate=N/A dup=0 drop=4955 speed=0.149x    \n",
      "  Stream #0:0 -> #0:0 (vp9 (native) -> png (native))\n",
      "Press [q] to stop, [?] for help\n",
      "Output #0, image2, to './dataset_splited/AaCGGopQOJ0/frames_480p/frame-%04d.png': speed=1.03x    \n",
      "  Metadata:\n",
      "    encoder         : Lavf58.29.100\n",
      "    Stream #0:0(eng): Video: png, rgb24, 854x480 [SAR 1:1 DAR 427:240], q=2-31, 200 kb/s, 1 fps, 1 tbn, 1 tbc (default)\n",
      "    Metadata:\n",
      "      DURATION        : 00:05:53.400000000\n",
      "      encoder         : Lavc58.54.100 png\n",
      "frame=  785 fps=1.0 q=-0.0 Lsize=N/A time=00:13:05.00 bitrate=N/A dup=0 drop=22682 speed=1.04x    \n",
      "video:485053kB audio:0kB subtitle:0kB other streams:0kB global headers:0kB muxing overhead: unknown\n",
      "frame=  208 fps=0.2 q=-0.0 size=N/A time=00:03:26.00 bitrate=N/A dup=0 drop=4948 speed=0.213x    \r"
     ]
    },
    {
     "name": "stdout",
     "output_type": "stream",
     "text": [
      "[youtube] Extracting URL: https://www.youtube.com/watch?v=AaCGGopQOJ0\n",
      "[youtube] AaCGGopQOJ0: Downloading webpage\n"
     ]
    },
    {
     "name": "stderr",
     "output_type": "stream",
     "text": [
      "frame=  388 fps=1.2 q=-0.0 size=N/A time=00:06:26.00 bitrate=N/A dup=0 drop=9278 speed=1.18x     \r"
     ]
    },
    {
     "name": "stdout",
     "output_type": "stream",
     "text": [
      "[youtube] AaCGGopQOJ0: Downloading ios player API JSON\n"
     ]
    },
    {
     "name": "stderr",
     "output_type": "stream",
     "text": [
      "frame=  134 fps=0.1 q=-0.0 size=N/A time=00:02:12.00 bitrate=N/A dup=0 drop=6509 speed=0.147x    \r"
     ]
    },
    {
     "name": "stdout",
     "output_type": "stream",
     "text": [
      "[youtube] AaCGGopQOJ0: Downloading android player API JSON\n"
     ]
    },
    {
     "name": "stderr",
     "output_type": "stream",
     "text": [
      "frame=  389 fps=1.2 q=-0.0 size=N/A time=00:06:27.00 bitrate=N/A dup=0 drop=9288 speed=1.18x    \r"
     ]
    },
    {
     "name": "stdout",
     "output_type": "stream",
     "text": [
      "[youtube] AaCGGopQOJ0: Downloading m3u8 information\n"
     ]
    },
    {
     "name": "stderr",
     "output_type": "stream",
     "text": [
      "frame=  114 fps=0.2 q=-0.0 size=N/A time=00:01:52.00 bitrate=N/A dup=0 drop=3246 speed=0.188x    \r"
     ]
    },
    {
     "name": "stdout",
     "output_type": "stream",
     "text": [
      "[info] AaCGGopQOJ0: Downloading 1 format(s): 616+251\n"
     ]
    },
    {
     "name": "stderr",
     "output_type": "stream",
     "text": [
      "frame=  396 fps=1.2 q=-0.0 size=N/A time=00:06:34.00 bitrate=N/A dup=0 drop=9466 speed=1.18x     \r"
     ]
    },
    {
     "name": "stdout",
     "output_type": "stream",
     "text": [
      "[hlsnative] Downloading m3u8 manifest\n"
     ]
    },
    {
     "name": "stderr",
     "output_type": "stream",
     "text": [
      "frame=  159 fps=0.2 q=-0.0 size=N/A time=00:02:37.00 bitrate=N/A dup=0 drop=4549 speed=0.223x    \r"
     ]
    },
    {
     "name": "stdout",
     "output_type": "stream",
     "text": [
      "[hlsnative] Total fragments: 68\n",
      "[download] Destination: ./dataset_splited/AaCGGopQOJ0/video_1080p.f616.mp4\n"
     ]
    },
    {
     "name": "stderr",
     "output_type": "stream",
     "text": [
      "frame=  136 fps=0.2 q=-0.0 size=N/A time=00:02:14.00 bitrate=N/A dup=0 drop=6561 speed=0.149x    \r"
     ]
    },
    {
     "name": "stdout",
     "output_type": "stream",
     "text": [
      "[download]   0.7% of ~  94.56KiB at    431.28B/s ETA Unknown (frag 1/68)"
     ]
    },
    {
     "name": "stderr",
     "output_type": "stream",
     "text": [
      "frame=   43 fps=0.2 q=-0.0 size=N/A time=00:00:41.00 bitrate=N/A dup=0 drop=2006 speed=0.151x    \r"
     ]
    },
    {
     "name": "stdout",
     "output_type": "stream",
     "text": [
      "[download]   5.9% of ~   2.11MiB at   19.73KiB/s ETA 00:17 (frag 1/68)  "
     ]
    },
    {
     "name": "stderr",
     "output_type": "stream",
     "text": [
      "frame=  398 fps=1.2 q=-0.0 size=N/A time=00:06:36.00 bitrate=N/A dup=0 drop=9516 speed=1.18x     \r"
     ]
    },
    {
     "name": "stdout",
     "output_type": "stream",
     "text": [
      "[download]   5.9% of ~   8.49MiB at  166.08KiB/s ETA 00:17 (frag 1/68)"
     ]
    },
    {
     "name": "stderr",
     "output_type": "stream",
     "text": [
      "frame=  136 fps=0.2 q=-0.0 size=N/A time=00:02:14.00 bitrate=N/A dup=0 drop=6570 speed=0.148x    \r"
     ]
    },
    {
     "name": "stdout",
     "output_type": "stream",
     "text": [
      "[download]   5.9% of ~  16.99MiB at  309.40KiB/s ETA 00:18 (frag 1/68)"
     ]
    },
    {
     "name": "stderr",
     "output_type": "stream",
     "text": [
      "frame=   43 fps=0.2 q=-0.0 size=N/A time=00:00:41.00 bitrate=N/A dup=0 drop=2017 speed=0.151x    \r"
     ]
    },
    {
     "name": "stdout",
     "output_type": "stream",
     "text": [
      "[download]   5.9% of ~  33.99MiB at  518.51KiB/s ETA 00:20 (frag 1/68)"
     ]
    },
    {
     "name": "stderr",
     "output_type": "stream",
     "text": [
      "frame=  159 fps=0.2 q=-0.0 size=N/A time=00:02:37.00 bitrate=N/A dup=0 drop=4568 speed=0.222x    \r"
     ]
    },
    {
     "name": "stdout",
     "output_type": "stream",
     "text": [
      "[download]   1.5% of ~ 203.38MiB at  879.31KiB/s ETA 00:38 (frag 2/68)"
     ]
    },
    {
     "name": "stderr",
     "output_type": "stream",
     "text": [
      "frame=  201 fps=0.2 q=-0.0 size=N/A time=00:03:19.00 bitrate=N/A dup=0 drop=4795 speed=0.243x    \r"
     ]
    },
    {
     "name": "stdout",
     "output_type": "stream",
     "text": [
      "[download]   4.4% of ~  67.96MiB at 1019.04KiB/s ETA 00:41 (frag 2/68)"
     ]
    },
    {
     "name": "stderr",
     "output_type": "stream",
     "text": [
      "frame=  401 fps=1.2 q=-0.0 size=N/A time=00:06:39.00 bitrate=N/A dup=0 drop=9576 speed=1.19x     \r"
     ]
    },
    {
     "name": "stdout",
     "output_type": "stream",
     "text": [
      "[download]   4.8% of ~  73.45MiB at    1.05MiB/s ETA 00:46 (frag 2/68)"
     ]
    },
    {
     "name": "stderr",
     "output_type": "stream",
     "text": [
      "frame=  261 fps=1.2 q=-0.0 size=N/A time=00:04:19.00 bitrate=N/A dup=0 drop=6234 speed=1.15x     \r"
     ]
    },
    {
     "name": "stdout",
     "output_type": "stream",
     "text": [
      "[download]   4.6% of ~ 113.11MiB at    1.45MiB/s ETA 00:48 (frag 2/68)"
     ]
    },
    {
     "name": "stderr",
     "output_type": "stream",
     "text": [
      "frame=  401 fps=1.2 q=-0.0 size=N/A time=00:06:39.00 bitrate=N/A dup=0 drop=9587 speed=1.18x     \r"
     ]
    },
    {
     "name": "stdout",
     "output_type": "stream",
     "text": [
      "[download]   3.1% of ~ 167.77MiB at    1.54MiB/s ETA 00:52 (frag 3/68)"
     ]
    },
    {
     "name": "stderr",
     "output_type": "stream",
     "text": [
      "frame=  402 fps=1.2 q=-0.0 size=N/A time=00:06:40.00 bitrate=N/A dup=0 drop=9605 speed=1.18x     \r"
     ]
    },
    {
     "name": "stdout",
     "output_type": "stream",
     "text": [
      "[download]   5.9% of ~  88.59MiB at    1.43MiB/s ETA 00:54 (frag 3/68)"
     ]
    },
    {
     "name": "stderr",
     "output_type": "stream",
     "text": [
      "frame=  136 fps=0.2 q=-0.0 size=N/A time=00:02:14.00 bitrate=N/A dup=0 drop=6596 speed=0.148x    \r"
     ]
    },
    {
     "name": "stdout",
     "output_type": "stream",
     "text": [
      "[download]   6.4% of ~  96.82MiB at    1.37MiB/s ETA 00:57 (frag 3/68)"
     ]
    },
    {
     "name": "stderr",
     "output_type": "stream",
     "text": [
      "frame=  403 fps=1.2 q=-0.0 size=N/A time=00:06:41.00 bitrate=N/A dup=0 drop=9620 speed=1.19x     \r"
     ]
    },
    {
     "name": "stdout",
     "output_type": "stream",
     "text": [
      "[download]   6.8% of ~ 105.32MiB at    1.45MiB/s ETA 00:57 (frag 3/68)"
     ]
    },
    {
     "name": "stderr",
     "output_type": "stream",
     "text": [
      "frame=  115 fps=0.2 q=-0.0 size=N/A time=00:01:53.00 bitrate=N/A dup=0 drop=3285 speed=0.188x    \r"
     ]
    },
    {
     "name": "stdout",
     "output_type": "stream",
     "text": [
      "[download]   4.3% of ~ 197.13MiB at    1.67MiB/s ETA 01:02 (frag 4/68)"
     ]
    },
    {
     "name": "stderr",
     "output_type": "stream",
     "text": [
      "frame=   43 fps=0.2 q=-0.0 size=N/A time=00:00:41.00 bitrate=N/A dup=0 drop=2043 speed=0.149x    \r"
     ]
    },
    {
     "name": "stdout",
     "output_type": "stream",
     "text": [
      "[download]   7.4% of ~ 114.39MiB at    1.80MiB/s ETA 01:00 (frag 4/68)"
     ]
    },
    {
     "name": "stderr",
     "output_type": "stream",
     "text": [
      "frame=  160 fps=0.2 q=-0.0 size=N/A time=00:02:38.00 bitrate=N/A dup=0 drop=4595 speed=0.222x    \r"
     ]
    },
    {
     "name": "stdout",
     "output_type": "stream",
     "text": [
      "[download]   7.6% of ~ 117.58MiB at    1.88MiB/s ETA 00:59 (frag 4/68)"
     ]
    },
    {
     "name": "stderr",
     "output_type": "stream",
     "text": [
      "frame=   43 fps=0.2 q=-0.0 size=N/A time=00:00:41.00 bitrate=N/A dup=0 drop=2046 speed=0.148x    \r"
     ]
    },
    {
     "name": "stdout",
     "output_type": "stream",
     "text": [
      "[download]   8.1% of ~ 127.78MiB at    2.03MiB/s ETA 00:58 (frag 4/68)"
     ]
    },
    {
     "name": "stderr",
     "output_type": "stream",
     "text": [
      "frame=  203 fps=0.2 q=-0.0 size=N/A time=00:03:21.00 bitrate=N/A dup=0 drop=4825 speed=0.245x    \r"
     ]
    },
    {
     "name": "stdout",
     "output_type": "stream",
     "text": [
      "[download]   8.8% of ~ 141.38MiB at    2.17MiB/s ETA 00:58 (frag 4/68)"
     ]
    },
    {
     "name": "stderr",
     "output_type": "stream",
     "text": [
      "frame=  212 fps=0.2 q=-0.0 size=N/A time=00:03:30.00 bitrate=N/A dup=0 drop=5036 speed=0.214x    \r"
     ]
    },
    {
     "name": "stdout",
     "output_type": "stream",
     "text": [
      "[download]   5.5% of ~ 231.28MiB at    2.51MiB/s ETA 00:59 (frag 5/68)"
     ]
    },
    {
     "name": "stderr",
     "output_type": "stream",
     "text": [
      "frame=  161 fps=0.2 q=-0.0 size=N/A time=00:02:39.00 bitrate=N/A dup=0 drop=4602 speed=0.223x    \r"
     ]
    },
    {
     "name": "stdout",
     "output_type": "stream",
     "text": [
      "[download]   8.8% of ~ 144.02MiB at    2.52MiB/s ETA 00:58 (frag 5/68)"
     ]
    },
    {
     "name": "stderr",
     "output_type": "stream",
     "text": [
      "frame=   44 fps=0.2 q=-0.0 size=N/A time=00:00:42.00 bitrate=N/A dup=0 drop=2058 speed=0.151x    \r"
     ]
    },
    {
     "name": "stdout",
     "output_type": "stream",
     "text": [
      "[download]   9.2% of ~ 149.60MiB at    2.53MiB/s ETA 00:56 (frag 5/68)"
     ]
    },
    {
     "name": "stderr",
     "output_type": "stream",
     "text": [
      "frame=  406 fps=1.2 q=-0.0 size=N/A time=00:06:44.00 bitrate=N/A dup=0 drop=9715 speed=1.18x     \r"
     ]
    },
    {
     "name": "stdout",
     "output_type": "stream",
     "text": [
      "[download]   9.5% of ~ 155.27MiB at    2.53MiB/s ETA 00:56 (frag 5/68)"
     ]
    },
    {
     "name": "stderr",
     "output_type": "stream",
     "text": [
      "frame=  137 fps=0.2 q=-0.0 size=N/A time=00:02:15.00 bitrate=N/A dup=0 drop=6623 speed=0.148x    \r"
     ]
    },
    {
     "name": "stdout",
     "output_type": "stream",
     "text": [
      "[download]   7.3% of ~ 218.69MiB at    2.58MiB/s ETA 00:58 (frag 6/68)"
     ]
    },
    {
     "name": "stderr",
     "output_type": "stream",
     "text": [
      "frame=  161 fps=0.2 q=-0.0 size=N/A time=00:02:39.00 bitrate=N/A dup=0 drop=4614 speed=0.223x    \r"
     ]
    },
    {
     "name": "stdout",
     "output_type": "stream",
     "text": [
      "[download]  10.4% of ~ 156.62MiB at    2.55MiB/s ETA 00:57 (frag 6/68)"
     ]
    },
    {
     "name": "stderr",
     "output_type": "stream",
     "text": [
      "frame=  269 fps=1.2 q=-0.0 size=N/A time=00:04:27.00 bitrate=N/A dup=0 drop=6409 speed=1.15x     \r"
     ]
    },
    {
     "name": "stdout",
     "output_type": "stream",
     "text": [
      "[download]  10.4% of ~ 165.12MiB at    2.48MiB/s ETA 00:58 (frag 6/68)"
     ]
    },
    {
     "name": "stderr",
     "output_type": "stream",
     "text": [
      "frame=   44 fps=0.2 q=-0.0 size=N/A time=00:00:42.00 bitrate=N/A dup=0 drop=2070 speed=0.15x     \r"
     ]
    },
    {
     "name": "stdout",
     "output_type": "stream",
     "text": [
      "[download]   9.6% of ~ 179.41MiB at    2.43MiB/s ETA 00:59 (frag 7/68)"
     ]
    },
    {
     "name": "stderr",
     "output_type": "stream",
     "text": [
      "frame=  204 fps=0.2 q=-0.0 size=N/A time=00:03:22.00 bitrate=N/A dup=0 drop=4855 speed=0.245x    \r"
     ]
    },
    {
     "name": "stdout",
     "output_type": "stream",
     "text": [
      "[download]  11.8% of ~ 147.54MiB at    2.00MiB/s ETA 01:03 (frag 7/68)"
     ]
    },
    {
     "name": "stderr",
     "output_type": "stream",
     "text": [
      "frame=   44 fps=0.2 q=-0.0 size=N/A time=00:00:42.00 bitrate=N/A dup=0 drop=2073 speed=0.15x    \r"
     ]
    },
    {
     "name": "stdout",
     "output_type": "stream",
     "text": [
      "[download]  11.2% of ~ 162.24MiB at    1.97MiB/s ETA 01:04 (frag 8/68)"
     ]
    },
    {
     "name": "stderr",
     "output_type": "stream",
     "text": [
      "frame=  161 fps=0.2 q=-0.0 size=N/A time=00:02:39.00 bitrate=N/A dup=0 drop=4629 speed=0.222x    \r"
     ]
    },
    {
     "name": "stdout",
     "output_type": "stream",
     "text": [
      "[download]  13.2% of ~ 137.26MiB at    1.78MiB/s ETA 01:06 (frag 8/68)"
     ]
    },
    {
     "name": "stderr",
     "output_type": "stream",
     "text": [
      "frame=  410 fps=1.2 q=-0.0 size=N/A time=00:06:48.00 bitrate=N/A dup=0 drop=9800 speed=1.19x     \r"
     ]
    },
    {
     "name": "stdout",
     "output_type": "stream",
     "text": [
      "[download]  12.9% of ~ 143.39MiB at    1.17MiB/s ETA 01:27 (frag 9/68)"
     ]
    },
    {
     "name": "stderr",
     "output_type": "stream",
     "text": [
      "frame=  205 fps=0.2 q=-0.0 size=N/A time=00:03:23.00 bitrate=N/A dup=0 drop=4873 speed=0.246x    \r"
     ]
    },
    {
     "name": "stdout",
     "output_type": "stream",
     "text": [
      "[download]  14.7% of ~ 126.29MiB at    1.02MiB/s ETA 01:33 (frag 9/68)"
     ]
    },
    {
     "name": "stderr",
     "output_type": "stream",
     "text": [
      "frame=  116 fps=0.2 q=-0.0 size=N/A time=00:01:54.00 bitrate=N/A dup=0 drop=3319 speed=0.187x    \r"
     ]
    },
    {
     "name": "stdout",
     "output_type": "stream",
     "text": [
      "[download]  14.9% of ~ 127.97MiB at  800.49KiB/s ETA 01:52 (frag 9/68)"
     ]
    },
    {
     "name": "stderr",
     "output_type": "stream",
     "text": [
      "frame=  205 fps=0.2 q=-0.0 size=N/A time=00:03:23.00 bitrate=N/A dup=0 drop=4880 speed=0.245x    \r"
     ]
    },
    {
     "name": "stdout",
     "output_type": "stream",
     "text": [
      "[download]  13.9% of ~ 140.87MiB at  878.58KiB/s ETA 01:57 (frag 10/68)"
     ]
    },
    {
     "name": "stderr",
     "output_type": "stream",
     "text": [
      "frame= 1000 fps=1.1 q=-0.0 size=N/A time=00:16:38.00 bitrate=N/A dup=0 drop=28926 speed= 1.1x    \r"
     ]
    },
    {
     "name": "stdout",
     "output_type": "stream",
     "text": [
      "[download]  16.2% of ~ 121.52MiB at  712.90KiB/s ETA 02:10 (frag 10/68)"
     ]
    },
    {
     "name": "stderr",
     "output_type": "stream",
     "text": [
      "frame=  162 fps=0.2 q=-0.0 size=N/A time=00:02:40.00 bitrate=N/A dup=0 drop=4646 speed=0.223x    \r"
     ]
    },
    {
     "name": "stdout",
     "output_type": "stream",
     "text": [
      "[download]  16.4% of ~ 122.97MiB at  640.65KiB/s ETA 02:20 (frag 10/68)"
     ]
    },
    {
     "name": "stderr",
     "output_type": "stream",
     "text": [
      "frame=  275 fps=1.2 q=-0.0 size=N/A time=00:04:33.00 bitrate=N/A dup=0 drop=6548 speed=1.16x     \r"
     ]
    },
    {
     "name": "stdout",
     "output_type": "stream",
     "text": [
      "[download]  16.4% of ~ 127.60MiB at  819.81KiB/s ETA 02:14 (frag 10/68)"
     ]
    },
    {
     "name": "stderr",
     "output_type": "stream",
     "text": [
      "frame=  413 fps=1.2 q=-0.0 size=N/A time=00:06:51.00 bitrate=N/A dup=0 drop=9878 speed=1.18x     \r"
     ]
    },
    {
     "name": "stdout",
     "output_type": "stream",
     "text": [
      "[download]  15.2% of ~ 138.04MiB at  867.99KiB/s ETA 02:13 (frag 11/68)"
     ]
    },
    {
     "name": "stderr",
     "output_type": "stream",
     "text": [
      "frame=  275 fps=1.2 q=-0.0 size=N/A time=00:04:33.00 bitrate=N/A dup=0 drop=6566 speed=1.15x     \r"
     ]
    },
    {
     "name": "stdout",
     "output_type": "stream",
     "text": [
      "[download]  17.6% of ~ 118.92MiB at  864.03KiB/s ETA 02:11 (frag 11/68)"
     ]
    },
    {
     "name": "stderr",
     "output_type": "stream",
     "text": [
      "frame=  162 fps=0.2 q=-0.0 size=N/A time=00:02:40.00 bitrate=N/A dup=0 drop=4653 speed=0.222x    \r"
     ]
    },
    {
     "name": "stdout",
     "output_type": "stream",
     "text": [
      "[download]  17.7% of ~ 119.10MiB at  911.14KiB/s ETA 02:05 (frag 11/68)"
     ]
    },
    {
     "name": "stderr",
     "output_type": "stream",
     "text": [
      "frame= 1002 fps=1.1 q=-0.0 size=N/A time=00:16:40.00 bitrate=N/A dup=0 drop=28979 speed= 1.1x    \r"
     ]
    },
    {
     "name": "stdout",
     "output_type": "stream",
     "text": [
      "[download]  18.1% of ~ 121.75MiB at    1.01MiB/s ETA 01:59 (frag 11/68)"
     ]
    },
    {
     "name": "stderr",
     "output_type": "stream",
     "text": [
      "frame=  415 fps=1.2 q=-0.0 size=N/A time=00:06:53.00 bitrate=N/A dup=0 drop=9908 speed=1.19x    \r"
     ]
    },
    {
     "name": "stdout",
     "output_type": "stream",
     "text": [
      "[download]  18.2% of ~ 130.25MiB at    1.33MiB/s ETA 01:48 (frag 11/68)"
     ]
    },
    {
     "name": "stderr",
     "output_type": "stream",
     "text": [
      "frame=  162 fps=0.2 q=-0.0 size=N/A time=00:02:40.00 bitrate=N/A dup=0 drop=4658 speed=0.222x    \r"
     ]
    },
    {
     "name": "stdout",
     "output_type": "stream",
     "text": [
      "[download]  15.8% of ~ 149.60MiB at    1.45MiB/s ETA 01:45 (frag 12/68)"
     ]
    },
    {
     "name": "stderr",
     "output_type": "stream",
     "text": [
      "frame= 1003 fps=1.1 q=-0.0 size=N/A time=00:16:41.00 bitrate=N/A dup=0 drop=29019 speed= 1.1x    \r"
     ]
    },
    {
     "name": "stdout",
     "output_type": "stream",
     "text": [
      "[download]  19.1% of ~ 123.97MiB at    1.48MiB/s ETA 01:34 (frag 12/68)"
     ]
    },
    {
     "name": "stderr",
     "output_type": "stream",
     "text": [
      "frame=  138 fps=0.2 q=-0.0 size=N/A time=00:02:16.00 bitrate=N/A dup=0 drop=6682 speed=0.148x    \r"
     ]
    },
    {
     "name": "stdout",
     "output_type": "stream",
     "text": [
      "[download]  19.3% of ~ 125.24MiB at    1.45MiB/s ETA 01:27 (frag 12/68)"
     ]
    },
    {
     "name": "stderr",
     "output_type": "stream",
     "text": [
      "frame=  206 fps=0.2 q=-0.0 size=N/A time=00:03:24.00 bitrate=N/A dup=0 drop=4914 speed=0.246x    \r"
     ]
    },
    {
     "name": "stdout",
     "output_type": "stream",
     "text": [
      "[download]  19.9% of ~ 129.16MiB at    1.67MiB/s ETA 01:21 (frag 12/68)"
     ]
    },
    {
     "name": "stderr",
     "output_type": "stream",
     "text": [
      "frame=  214 fps=0.2 q=-0.0 size=N/A time=00:03:32.00 bitrate=N/A dup=0 drop=5087 speed=0.214x    \r"
     ]
    },
    {
     "name": "stdout",
     "output_type": "stream",
     "text": [
      "[download]  17.2% of ~ 155.40MiB at    1.83MiB/s ETA 01:17 (frag 13/68)"
     ]
    },
    {
     "name": "stderr",
     "output_type": "stream",
     "text": [
      "frame=  214 fps=0.2 q=-0.0 size=N/A time=00:03:32.00 bitrate=N/A dup=0 drop=5090 speed=0.214x    \r"
     ]
    },
    {
     "name": "stdout",
     "output_type": "stream",
     "text": [
      "[download]  20.6% of ~ 129.70MiB at    1.88MiB/s ETA 01:13 (frag 13/68)"
     ]
    },
    {
     "name": "stderr",
     "output_type": "stream",
     "text": [
      "frame=  418 fps=1.2 q=-0.0 size=N/A time=00:06:56.00 bitrate=N/A dup=0 drop=9993 speed=1.19x     \r"
     ]
    },
    {
     "name": "stdout",
     "output_type": "stream",
     "text": [
      "[download]  20.7% of ~ 130.29MiB at    1.74MiB/s ETA 01:10 (frag 13/68)"
     ]
    },
    {
     "name": "stderr",
     "output_type": "stream",
     "text": [
      "frame=  214 fps=0.2 q=-0.0 size=N/A time=00:03:32.00 bitrate=N/A dup=0 drop=5093 speed=0.214x    \r"
     ]
    },
    {
     "name": "stdout",
     "output_type": "stream",
     "text": [
      "[download]  21.0% of ~ 132.11MiB at    1.62MiB/s ETA 01:09 (frag 13/68)"
     ]
    },
    {
     "name": "stderr",
     "output_type": "stream",
     "text": [
      "frame=   45 fps=0.2 q=-0.0 size=N/A time=00:00:43.00 bitrate=N/A dup=0 drop=2133 speed=0.149x    \r"
     ]
    },
    {
     "name": "stdout",
     "output_type": "stream",
     "text": [
      "[download]  21.7% of ~ 139.40MiB at    1.94MiB/s ETA 01:06 (frag 13/68)"
     ]
    },
    {
     "name": "stderr",
     "output_type": "stream",
     "text": [
      "frame= 1006 fps=1.1 q=-0.0 size=N/A time=00:16:44.00 bitrate=N/A dup=0 drop=29102 speed= 1.1x    \r"
     ]
    },
    {
     "name": "stdout",
     "output_type": "stream",
     "text": [
      "[download]  18.4% of ~ 164.36MiB at    2.11MiB/s ETA 01:05 (frag 14/68)"
     ]
    },
    {
     "name": "stderr",
     "output_type": "stream",
     "text": [
      "frame=  214 fps=0.2 q=-0.0 size=N/A time=00:03:32.00 bitrate=N/A dup=0 drop=5096 speed=0.214x    \r"
     ]
    },
    {
     "name": "stdout",
     "output_type": "stream",
     "text": [
      "[download]  22.1% of ~ 137.22MiB at    2.14MiB/s ETA 01:03 (frag 14/68)"
     ]
    },
    {
     "name": "stderr",
     "output_type": "stream",
     "text": [
      "frame=  163 fps=0.2 q=-0.0 size=N/A time=00:02:41.00 bitrate=N/A dup=0 drop=4685 speed=0.222x    \r"
     ]
    },
    {
     "name": "stdout",
     "output_type": "stream",
     "text": [
      "[download]  22.2% of ~ 138.35MiB at    2.21MiB/s ETA 00:59 (frag 14/68)"
     ]
    },
    {
     "name": "stderr",
     "output_type": "stream",
     "text": [
      "frame=  214 fps=0.2 q=-0.0 size=N/A time=00:03:32.00 bitrate=N/A dup=0 drop=5099 speed=0.213x    \r"
     ]
    },
    {
     "name": "stdout",
     "output_type": "stream",
     "text": [
      "[download]  22.8% of ~ 141.75MiB at    2.23MiB/s ETA 00:57 (frag 14/68)"
     ]
    },
    {
     "name": "stderr",
     "output_type": "stream",
     "text": [
      "frame=  282 fps=1.2 q=-0.0 size=N/A time=00:04:40.00 bitrate=N/A dup=0 drop=6738 speed=1.16x     \r"
     ]
    },
    {
     "name": "stdout",
     "output_type": "stream",
     "text": [
      "[download]  20.2% of ~ 165.49MiB at    2.41MiB/s ETA 00:55 (frag 15/68)"
     ]
    },
    {
     "name": "stderr",
     "output_type": "stream",
     "text": [
      "frame=  214 fps=0.2 q=-0.0 size=N/A time=00:03:32.00 bitrate=N/A dup=0 drop=5106 speed=0.213x    \r"
     ]
    },
    {
     "name": "stdout",
     "output_type": "stream",
     "text": [
      "[download]  23.6% of ~ 142.43MiB at    2.31MiB/s ETA 00:52 (frag 15/68)"
     ]
    },
    {
     "name": "stderr",
     "output_type": "stream",
     "text": [
      "frame=  284 fps=1.2 q=-0.0 size=N/A time=00:04:42.00 bitrate=N/A dup=0 drop=6777 speed=1.16x     \r"
     ]
    },
    {
     "name": "stdout",
     "output_type": "stream",
     "text": [
      "[download]  24.2% of ~ 146.15MiB at    2.53MiB/s ETA 00:49 (frag 15/68)"
     ]
    },
    {
     "name": "stderr",
     "output_type": "stream",
     "text": [
      "frame=  215 fps=0.2 q=-0.0 size=N/A time=00:03:33.00 bitrate=N/A dup=0 drop=5108 speed=0.214x    \r"
     ]
    },
    {
     "name": "stdout",
     "output_type": "stream",
     "text": [
      "[download]  24.4% of ~ 150.40MiB at    2.60MiB/s ETA 00:49 (frag 15/68)"
     ]
    },
    {
     "name": "stderr",
     "output_type": "stream",
     "text": [
      "frame=  208 fps=0.2 q=-0.0 size=N/A time=00:03:26.00 bitrate=N/A dup=0 drop=4953 speed=0.246x    \r"
     ]
    },
    {
     "name": "stdout",
     "output_type": "stream",
     "text": [
      "[download]  21.6% of ~ 170.21MiB at    2.50MiB/s ETA 00:50 (frag 16/68)"
     ]
    },
    {
     "name": "stderr",
     "output_type": "stream",
     "text": [
      "frame= 1010 fps=1.1 q=-0.0 size=N/A time=00:16:48.00 bitrate=N/A dup=0 drop=29213 speed= 1.1x    \r"
     ]
    },
    {
     "name": "stdout",
     "output_type": "stream",
     "text": [
      "[download]  25.0% of ~ 146.88MiB at    2.42MiB/s ETA 00:49 (frag 16/68)"
     ]
    },
    {
     "name": "stderr",
     "output_type": "stream",
     "text": [
      "frame=  118 fps=0.2 q=-0.0 size=N/A time=00:01:56.00 bitrate=N/A dup=0 drop=3368 speed=0.188x    \r"
     ]
    },
    {
     "name": "stdout",
     "output_type": "stream",
     "text": [
      "[download]  25.2% of ~ 147.87MiB at    2.26MiB/s ETA 00:49 (frag 16/68)"
     ]
    },
    {
     "name": "stderr",
     "output_type": "stream",
     "text": [
      "frame=  215 fps=0.2 q=-0.0 size=N/A time=00:03:33.00 bitrate=N/A dup=0 drop=5115 speed=0.214x    \r"
     ]
    },
    {
     "name": "stdout",
     "output_type": "stream",
     "text": [
      "[download]  25.7% of ~ 150.87MiB at    2.27MiB/s ETA 00:49 (frag 16/68)"
     ]
    },
    {
     "name": "stderr",
     "output_type": "stream",
     "text": [
      "frame=   46 fps=0.2 q=-0.0 size=N/A time=00:00:44.00 bitrate=N/A dup=0 drop=2160 speed=0.151x    \r"
     ]
    },
    {
     "name": "stdout",
     "output_type": "stream",
     "text": [
      "[download]  23.4% of ~ 168.71MiB at    2.19MiB/s ETA 00:51 (frag 17/68)"
     ]
    },
    {
     "name": "stderr",
     "output_type": "stream",
     "text": [
      "frame= 1012 fps=1.1 q=-0.0 size=N/A time=00:16:50.00 bitrate=N/A dup=0 drop=29273 speed= 1.1x    \r"
     ]
    },
    {
     "name": "stdout",
     "output_type": "stream",
     "text": [
      "[download]  26.8% of ~ 150.91MiB at    2.16MiB/s ETA 00:51 (frag 17/68)"
     ]
    },
    {
     "name": "stderr",
     "output_type": "stream",
     "text": [
      "frame=  426 fps=1.2 q=-0.0 size=N/A time=00:07:04.00 bitrate=N/A dup=0 drop=10175 speed=1.19x    \r"
     ]
    },
    {
     "name": "stdout",
     "output_type": "stream",
     "text": [
      "[download]  27.0% of ~ 156.58MiB at    2.39MiB/s ETA 00:49 (frag 17/68)"
     ]
    },
    {
     "name": "stderr",
     "output_type": "stream",
     "text": [
      "frame=  215 fps=0.2 q=-0.0 size=N/A time=00:03:33.00 bitrate=N/A dup=0 drop=5123 speed=0.214x    \r"
     ]
    },
    {
     "name": "stdout",
     "output_type": "stream",
     "text": [
      "[download]  24.9% of ~ 169.81MiB at    2.37MiB/s ETA 00:50 (frag 18/68)"
     ]
    },
    {
     "name": "stderr",
     "output_type": "stream",
     "text": [
      "frame=  209 fps=0.2 q=-0.0 size=N/A time=00:03:27.00 bitrate=N/A dup=0 drop=4981 speed=0.247x    \r"
     ]
    },
    {
     "name": "stdout",
     "output_type": "stream",
     "text": [
      "[download]  28.0% of ~ 151.14MiB at    2.16MiB/s ETA 00:50 (frag 18/68)"
     ]
    },
    {
     "name": "stderr",
     "output_type": "stream",
     "text": [
      "frame=  139 fps=0.2 q=-0.0 size=N/A time=00:02:17.00 bitrate=N/A dup=0 drop=6751 speed=0.148x    \r"
     ]
    },
    {
     "name": "stdout",
     "output_type": "stream",
     "text": [
      "[download]  28.3% of ~ 152.81MiB at    2.11MiB/s ETA 00:51 (frag 18/68)"
     ]
    },
    {
     "name": "stderr",
     "output_type": "stream",
     "text": [
      "frame=   46 fps=0.2 q=-0.0 size=N/A time=00:00:44.00 bitrate=N/A dup=0 drop=2178 speed=0.149x    \r"
     ]
    },
    {
     "name": "stdout",
     "output_type": "stream",
     "text": [
      "[download]  28.6% of ~ 154.60MiB at    2.22MiB/s ETA 00:50 (frag 18/68)"
     ]
    },
    {
     "name": "stderr",
     "output_type": "stream",
     "text": [
      "frame=  165 fps=0.2 q=-0.0 size=N/A time=00:02:43.00 bitrate=N/A dup=0 drop=4727 speed=0.223x    \r"
     ]
    },
    {
     "name": "stdout",
     "output_type": "stream",
     "text": [
      "[download]  26.0% of ~ 175.68MiB at    2.34MiB/s ETA 00:50 (frag 19/68)"
     ]
    },
    {
     "name": "stderr",
     "output_type": "stream",
     "text": [
      "frame= 1016 fps=1.1 q=-0.0 size=N/A time=00:16:54.00 bitrate=N/A dup=0 drop=29371 speed= 1.1x    \r"
     ]
    },
    {
     "name": "stdout",
     "output_type": "stream",
     "text": [
      "[download]  29.4% of ~ 155.21MiB at    2.28MiB/s ETA 00:50 (frag 19/68)"
     ]
    },
    {
     "name": "stderr",
     "output_type": "stream",
     "text": [
      "frame=  140 fps=0.2 q=-0.0 size=N/A time=00:02:18.00 bitrate=N/A dup=0 drop=6760 speed=0.149x    \r"
     ]
    },
    {
     "name": "stdout",
     "output_type": "stream",
     "text": [
      "[download]  29.5% of ~ 155.61MiB at    2.21MiB/s ETA 00:50 (frag 19/68)"
     ]
    },
    {
     "name": "stderr",
     "output_type": "stream",
     "text": [
      "frame=  165 fps=0.2 q=-0.0 size=N/A time=00:02:43.00 bitrate=N/A dup=0 drop=4736 speed=0.223x    \r"
     ]
    },
    {
     "name": "stdout",
     "output_type": "stream",
     "text": [
      "[download]  30.0% of ~ 158.58MiB at    2.26MiB/s ETA 00:49 (frag 19/68)"
     ]
    },
    {
     "name": "stderr",
     "output_type": "stream",
     "text": [
      "frame=  119 fps=0.2 q=-0.0 size=N/A time=00:01:57.00 bitrate=N/A dup=0 drop=3390 speed=0.188x    \r"
     ]
    },
    {
     "name": "stdout",
     "output_type": "stream",
     "text": [
      "[download]  27.9% of ~ 172.59MiB at    2.21MiB/s ETA 00:50 (frag 20/68)"
     ]
    },
    {
     "name": "stderr",
     "output_type": "stream",
     "text": [
      "frame=  430 fps=1.2 q=-0.0 size=N/A time=00:07:08.00 bitrate=N/A dup=0 drop=10273 speed=1.19x    \r"
     ]
    },
    {
     "name": "stdout",
     "output_type": "stream",
     "text": [
      "[download]  30.9% of ~ 156.09MiB at    2.20MiB/s ETA 00:50 (frag 20/68)"
     ]
    },
    {
     "name": "stderr",
     "output_type": "stream",
     "text": [
      "frame=  292 fps=1.2 q=-0.0 size=N/A time=00:04:50.00 bitrate=N/A dup=0 drop=6965 speed=1.16x     \r"
     ]
    },
    {
     "name": "stdout",
     "output_type": "stream",
     "text": [
      "[download]  31.0% of ~ 156.48MiB at    2.14MiB/s ETA 00:51 (frag 20/68)"
     ]
    },
    {
     "name": "stderr",
     "output_type": "stream",
     "text": [
      "frame=  165 fps=0.2 q=-0.0 size=N/A time=00:02:43.00 bitrate=N/A dup=0 drop=4742 speed=0.222x    \r"
     ]
    },
    {
     "name": "stdout",
     "output_type": "stream",
     "text": [
      "[download]  31.3% of ~ 159.32MiB at    2.28MiB/s ETA 00:50 (frag 20/68)"
     ]
    },
    {
     "name": "stderr",
     "output_type": "stream",
     "text": [
      "frame=   46 fps=0.2 q=-0.0 size=N/A time=00:00:44.00 bitrate=N/A dup=0 drop=2196 speed=0.148x    \r"
     ]
    },
    {
     "name": "stdout",
     "output_type": "stream",
     "text": [
      "[download]  29.8% of ~ 167.29MiB at    2.29MiB/s ETA 00:50 (frag 21/68)"
     ]
    },
    {
     "name": "stderr",
     "output_type": "stream",
     "text": [
      "frame=  293 fps=1.2 q=-0.0 size=N/A time=00:04:51.00 bitrate=N/A dup=0 drop=7001 speed=1.16x     \r"
     ]
    },
    {
     "name": "stdout",
     "output_type": "stream",
     "text": [
      "[download]  32.4% of ~ 154.34MiB at    1.98MiB/s ETA 00:52 (frag 21/68)"
     ]
    },
    {
     "name": "stderr",
     "output_type": "stream",
     "text": [
      "frame=  432 fps=1.2 q=-0.0 size=N/A time=00:07:10.00 bitrate=N/A dup=0 drop=10324 speed=1.19x    \r"
     ]
    },
    {
     "name": "stdout",
     "output_type": "stream",
     "text": [
      "[download]  32.4% of ~ 154.72MiB at    1.79MiB/s ETA 00:54 (frag 21/68)"
     ]
    },
    {
     "name": "stderr",
     "output_type": "stream",
     "text": [
      "frame=  140 fps=0.2 q=-0.0 size=N/A time=00:02:18.00 bitrate=N/A dup=0 drop=6785 speed=0.148x    \r"
     ]
    },
    {
     "name": "stdout",
     "output_type": "stream",
     "text": [
      "[download]  32.7% of ~ 155.88MiB at    1.76MiB/s ETA 00:56 (frag 21/68)"
     ]
    },
    {
     "name": "stderr",
     "output_type": "stream",
     "text": [
      "frame=  433 fps=1.2 q=-0.0 size=N/A time=00:07:11.00 bitrate=N/A dup=0 drop=10340 speed=1.19x    \r"
     ]
    },
    {
     "name": "stdout",
     "output_type": "stream",
     "text": [
      "[download]  31.1% of ~ 167.62MiB at    1.91MiB/s ETA 00:55 (frag 22/68)"
     ]
    },
    {
     "name": "stderr",
     "output_type": "stream",
     "text": [
      "frame=  166 fps=0.2 q=-0.0 size=N/A time=00:02:44.00 bitrate=N/A dup=0 drop=4755 speed=0.223x    \r"
     ]
    },
    {
     "name": "stdout",
     "output_type": "stream",
     "text": [
      "[download]  33.8% of ~ 153.98MiB at    1.79MiB/s ETA 00:56 (frag 22/68)"
     ]
    },
    {
     "name": "stderr",
     "output_type": "stream",
     "text": [
      "frame=  433 fps=1.2 q=-0.0 size=N/A time=00:07:11.00 bitrate=N/A dup=0 drop=10361 speed=1.19x    \r"
     ]
    },
    {
     "name": "stdout",
     "output_type": "stream",
     "text": [
      "[download]  33.9% of ~ 154.16MiB at    1.60MiB/s ETA 00:59 (frag 22/68)"
     ]
    },
    {
     "name": "stderr",
     "output_type": "stream",
     "text": [
      "frame=  217 fps=0.2 q=-0.0 size=N/A time=00:03:35.00 bitrate=N/A dup=0 drop=5156 speed=0.214x    \r"
     ]
    },
    {
     "name": "stdout",
     "output_type": "stream",
     "text": [
      "[download]  34.5% of ~ 156.93MiB at    1.68MiB/s ETA 01:00 (frag 22/68)"
     ]
    },
    {
     "name": "stderr",
     "output_type": "stream",
     "text": [
      "frame=  166 fps=0.2 q=-0.0 size=N/A time=00:02:44.00 bitrate=N/A dup=0 drop=4760 speed=0.223x    \r"
     ]
    },
    {
     "name": "stdout",
     "output_type": "stream",
     "text": [
      "[download]  32.0% of ~ 172.36MiB at    1.77MiB/s ETA 01:00 (frag 23/68)"
     ]
    },
    {
     "name": "stderr",
     "output_type": "stream",
     "text": [
      "frame=  297 fps=1.2 q=-0.0 size=N/A time=00:04:55.00 bitrate=N/A dup=0 drop=7081 speed=1.16x     \r"
     ]
    },
    {
     "name": "stdout",
     "output_type": "stream",
     "text": [
      "[download]  35.3% of ~ 156.37MiB at    1.81MiB/s ETA 00:59 (frag 23/68)"
     ]
    },
    {
     "name": "stderr",
     "output_type": "stream",
     "text": [
      "frame=  436 fps=1.2 q=-0.0 size=N/A time=00:07:14.00 bitrate=N/A dup=0 drop=10419 speed=1.19x    \r"
     ]
    },
    {
     "name": "stdout",
     "output_type": "stream",
     "text": [
      "[download]  35.3% of ~ 156.55MiB at    1.82MiB/s ETA 00:58 (frag 23/68)"
     ]
    },
    {
     "name": "stderr",
     "output_type": "stream",
     "text": [
      "frame=  166 fps=0.2 q=-0.0 size=N/A time=00:02:44.00 bitrate=N/A dup=0 drop=4766 speed=0.223x    \r"
     ]
    },
    {
     "name": "stdout",
     "output_type": "stream",
     "text": [
      "[download]  35.9% of ~ 159.20MiB at    2.09MiB/s ETA 00:55 (frag 23/68)"
     ]
    },
    {
     "name": "stderr",
     "output_type": "stream",
     "text": [
      "frame=  212 fps=0.3 q=-0.0 size=N/A time=00:03:30.00 bitrate=N/A dup=0 drop=5046 speed=0.248x    \r"
     ]
    },
    {
     "name": "stdout",
     "output_type": "stream",
     "text": [
      "[download]  33.5% of ~ 174.34MiB at    2.13MiB/s ETA 00:54 (frag 24/68)"
     ]
    },
    {
     "name": "stderr",
     "output_type": "stream",
     "text": [
      "frame=  437 fps=1.2 q=-0.0 size=N/A time=00:07:15.00 bitrate=N/A dup=0 drop=10442 speed=1.19x    \r"
     ]
    },
    {
     "name": "stdout",
     "output_type": "stream",
     "text": [
      "[download]  36.8% of ~ 158.78MiB at    2.19MiB/s ETA 00:52 (frag 24/68)"
     ]
    },
    {
     "name": "stderr",
     "output_type": "stream",
     "text": [
      "frame=  298 fps=1.2 q=-0.0 size=N/A time=00:04:56.00 bitrate=N/A dup=0 drop=7123 speed=1.16x     \r"
     ]
    },
    {
     "name": "stdout",
     "output_type": "stream",
     "text": [
      "[download]  37.4% of ~ 161.46MiB at    2.43MiB/s ETA 00:48 (frag 24/68)"
     ]
    },
    {
     "name": "stderr",
     "output_type": "stream",
     "text": [
      "frame=  167 fps=0.2 q=-0.0 size=N/A time=00:02:45.00 bitrate=N/A dup=0 drop=4778 speed=0.223x    \r"
     ]
    },
    {
     "name": "stdout",
     "output_type": "stream",
     "text": [
      "[download]  35.3% of ~ 172.24MiB at    2.50MiB/s ETA 00:47 (frag 25/68)"
     ]
    },
    {
     "name": "stderr",
     "output_type": "stream",
     "text": [
      "frame=  217 fps=0.2 q=-0.0 size=N/A time=00:03:35.00 bitrate=N/A dup=0 drop=5170 speed=0.214x    \r"
     ]
    },
    {
     "name": "stdout",
     "output_type": "stream",
     "text": [
      "[download]  38.2% of ~ 159.12MiB at    2.42MiB/s ETA 00:47 (frag 25/68)"
     ]
    },
    {
     "name": "stderr",
     "output_type": "stream",
     "text": [
      "frame=  213 fps=0.3 q=-0.0 size=N/A time=00:03:31.00 bitrate=N/A dup=0 drop=5061 speed=0.249x    \r"
     ]
    },
    {
     "name": "stdout",
     "output_type": "stream",
     "text": [
      "[download]  38.4% of ~ 159.78MiB at    2.20MiB/s ETA 00:46 (frag 25/68)"
     ]
    },
    {
     "name": "stderr",
     "output_type": "stream",
     "text": [
      "frame=  439 fps=1.2 q=-0.0 size=N/A time=00:07:17.00 bitrate=N/A dup=0 drop=10492 speed=1.19x    \r"
     ]
    },
    {
     "name": "stdout",
     "output_type": "stream",
     "text": [
      "[download]  37.9% of ~ 162.09MiB at    2.16MiB/s ETA 00:46 (frag 26/68)"
     ]
    },
    {
     "name": "stderr",
     "output_type": "stream",
     "text": [
      "frame=  120 fps=0.2 q=-0.0 size=N/A time=00:01:58.00 bitrate=N/A dup=0 drop=3430 speed=0.187x    \r"
     ]
    },
    {
     "name": "stdout",
     "output_type": "stream",
     "text": [
      "[download]  39.7% of ~ 154.81MiB at    1.38MiB/s ETA 00:58 (frag 26/68)"
     ]
    },
    {
     "name": "stderr",
     "output_type": "stream",
     "text": [
      "frame=  302 fps=1.2 q=-0.0 size=N/A time=00:05:00.00 bitrate=N/A dup=0 drop=7196 speed=1.17x     \r"
     ]
    },
    {
     "name": "stdout",
     "output_type": "stream",
     "text": [
      "[download]  40.0% of ~ 155.92MiB at    1.41MiB/s ETA 01:00 (frag 26/68)"
     ]
    },
    {
     "name": "stderr",
     "output_type": "stream",
     "text": [
      "frame=  141 fps=0.2 q=-0.0 size=N/A time=00:02:19.00 bitrate=N/A dup=0 drop=6837 speed=0.148x    \r"
     ]
    },
    {
     "name": "stdout",
     "output_type": "stream",
     "text": [
      "[download]  38.4% of ~ 165.13MiB at    1.62MiB/s ETA 00:59 (frag 27/68)"
     ]
    },
    {
     "name": "stderr",
     "output_type": "stream",
     "text": [
      "frame=  441 fps=1.2 q=-0.0 size=N/A time=00:07:19.00 bitrate=N/A dup=0 drop=10554 speed=1.19x    \r"
     ]
    },
    {
     "name": "stdout",
     "output_type": "stream",
     "text": [
      "[download]  41.2% of ~ 154.19MiB at    1.33MiB/s ETA 01:04 (frag 27/68)"
     ]
    },
    {
     "name": "stderr",
     "output_type": "stream",
     "text": [
      "frame=  141 fps=0.2 q=-0.0 size=N/A time=00:02:19.00 bitrate=N/A dup=0 drop=6844 speed=0.148x    \r"
     ]
    },
    {
     "name": "stdout",
     "output_type": "stream",
     "text": [
      "[download]  41.3% of ~ 154.49MiB at    1.18MiB/s ETA 01:09 (frag 27/68)"
     ]
    },
    {
     "name": "stderr",
     "output_type": "stream",
     "text": [
      "frame=  168 fps=0.2 q=-0.0 size=N/A time=00:02:46.00 bitrate=N/A dup=0 drop=4804 speed=0.224x    \r"
     ]
    },
    {
     "name": "stdout",
     "output_type": "stream",
     "text": [
      "[download]  41.8% of ~ 156.61MiB at    1.38MiB/s ETA 01:07 (frag 27/68)"
     ]
    },
    {
     "name": "stderr",
     "output_type": "stream",
     "text": [
      "frame=   48 fps=0.2 q=-0.0 size=N/A time=00:00:46.00 bitrate=N/A dup=0 drop=2252 speed=0.15x     \r"
     ]
    },
    {
     "name": "stdout",
     "output_type": "stream",
     "text": [
      "[download]  42.3% of ~ 159.04MiB at    1.61MiB/s ETA 01:05 (frag 27/68)"
     ]
    },
    {
     "name": "stderr",
     "output_type": "stream",
     "text": [
      "frame=  213 fps=0.3 q=-0.0 size=N/A time=00:03:31.00 bitrate=N/A dup=0 drop=5082 speed=0.248x    \r"
     ]
    },
    {
     "name": "stdout",
     "output_type": "stream",
     "text": [
      "[download]  39.0% of ~ 172.24MiB at    1.77MiB/s ETA 01:03 (frag 28/68)"
     ]
    },
    {
     "name": "stderr",
     "output_type": "stream",
     "text": [
      "frame=  142 fps=0.2 q=-0.0 size=N/A time=00:02:20.00 bitrate=N/A dup=0 drop=6853 speed=0.149x    \r"
     ]
    },
    {
     "name": "stdout",
     "output_type": "stream",
     "text": [
      "[download]  42.7% of ~ 157.62MiB at    1.86MiB/s ETA 01:01 (frag 28/68)"
     ]
    },
    {
     "name": "stderr",
     "output_type": "stream",
     "text": [
      "frame= 1030 fps=1.1 q=-0.0 size=N/A time=00:17:08.00 bitrate=N/A dup=0 drop=29776 speed= 1.1x    \r"
     ]
    },
    {
     "name": "stdout",
     "output_type": "stream",
     "text": [
      "[download]  43.0% of ~ 158.76MiB at    1.97MiB/s ETA 00:58 (frag 28/68)"
     ]
    },
    {
     "name": "stderr",
     "output_type": "stream",
     "text": [
      "frame=  168 fps=0.2 q=-0.0 size=N/A time=00:02:46.00 bitrate=N/A dup=0 drop=4815 speed=0.224x    \r"
     ]
    },
    {
     "name": "stdout",
     "output_type": "stream",
     "text": [
      "[download]  43.2% of ~ 162.27MiB at    2.37MiB/s ETA 00:53 (frag 28/68)"
     ]
    },
    {
     "name": "stderr",
     "output_type": "stream",
     "text": [
      "frame= 1030 fps=1.1 q=-0.0 size=N/A time=00:17:08.00 bitrate=N/A dup=0 drop=29791 speed= 1.1x    \r"
     ]
    },
    {
     "name": "stdout",
     "output_type": "stream",
     "text": [
      "[download]  40.9% of ~ 171.41MiB at    2.43MiB/s ETA 00:52 (frag 29/68)"
     ]
    },
    {
     "name": "stderr",
     "output_type": "stream",
     "text": [
      "frame= 1031 fps=1.1 q=-0.0 size=N/A time=00:17:09.00 bitrate=N/A dup=0 drop=29809 speed= 1.1x    \r"
     ]
    },
    {
     "name": "stdout",
     "output_type": "stream",
     "text": [
      "[download]  44.1% of ~ 159.03MiB at    2.45MiB/s ETA 00:49 (frag 29/68)"
     ]
    },
    {
     "name": "stderr",
     "output_type": "stream",
     "text": [
      "frame=  306 fps=1.2 q=-0.0 size=N/A time=00:05:04.00 bitrate=N/A dup=0 drop=7295 speed=1.16x     \r"
     ]
    },
    {
     "name": "stdout",
     "output_type": "stream",
     "text": [
      "[download]  44.3% of ~ 159.58MiB at    2.41MiB/s ETA 00:46 (frag 29/68)"
     ]
    },
    {
     "name": "stderr",
     "output_type": "stream",
     "text": [
      "frame=  168 fps=0.2 q=-0.0 size=N/A time=00:02:46.00 bitrate=N/A dup=0 drop=4824 speed=0.223x    \r"
     ]
    },
    {
     "name": "stdout",
     "output_type": "stream",
     "text": [
      "[download]  44.2% of ~ 163.54MiB at    2.71MiB/s ETA 00:42 (frag 29/68)"
     ]
    },
    {
     "name": "stderr",
     "output_type": "stream",
     "text": [
      "frame=  168 fps=0.2 q=-0.0 size=N/A time=00:02:46.00 bitrate=N/A dup=0 drop=4828 speed=0.223x    \r"
     ]
    },
    {
     "name": "stdout",
     "output_type": "stream",
     "text": [
      "[download]  42.8% of ~ 168.92MiB at    2.60MiB/s ETA 00:42 (frag 30/68)"
     ]
    },
    {
     "name": "stderr",
     "output_type": "stream",
     "text": [
      "frame=  121 fps=0.2 q=-0.0 size=N/A time=00:01:59.00 bitrate=N/A dup=0 drop=3456 speed=0.187x    \r"
     ]
    },
    {
     "name": "stdout",
     "output_type": "stream",
     "text": [
      "[download]  45.6% of ~ 158.68MiB at    2.45MiB/s ETA 00:42 (frag 30/68)"
     ]
    },
    {
     "name": "stderr",
     "output_type": "stream",
     "text": [
      "frame=  169 fps=0.2 q=-0.0 size=N/A time=00:02:47.00 bitrate=N/A dup=0 drop=4833 speed=0.224x    \r"
     ]
    },
    {
     "name": "stdout",
     "output_type": "stream",
     "text": [
      "[download]  45.7% of ~ 158.95MiB at    2.14MiB/s ETA 00:42 (frag 30/68)"
     ]
    },
    {
     "name": "stderr",
     "output_type": "stream",
     "text": [
      "frame=  219 fps=0.2 q=-0.0 size=N/A time=00:03:37.00 bitrate=N/A dup=0 drop=5204 speed=0.214x    \r"
     ]
    },
    {
     "name": "stdout",
     "output_type": "stream",
     "text": [
      "[download]  45.9% of ~ 159.77MiB at    2.10MiB/s ETA 00:42 (frag 30/68)"
     ]
    },
    {
     "name": "stderr",
     "output_type": "stream",
     "text": [
      "frame=  121 fps=0.2 q=-0.0 size=N/A time=00:01:59.00 bitrate=N/A dup=0 drop=3462 speed=0.187x    \r"
     ]
    },
    {
     "name": "stdout",
     "output_type": "stream",
     "text": [
      "[download]  46.2% of ~ 160.87MiB at    2.18MiB/s ETA 00:42 (frag 30/68)"
     ]
    },
    {
     "name": "stderr",
     "output_type": "stream",
     "text": [
      "frame= 1033 fps=1.1 q=-0.0 size=N/A time=00:17:11.00 bitrate=N/A dup=0 drop=29882 speed= 1.1x    \r"
     ]
    },
    {
     "name": "stdout",
     "output_type": "stream",
     "text": [
      "[download]  43.5% of ~ 174.69MiB at    2.16MiB/s ETA 00:42 (frag 31/68)"
     ]
    },
    {
     "name": "stderr",
     "output_type": "stream",
     "text": [
      "frame= 1034 fps=1.1 q=-0.0 size=N/A time=00:17:12.00 bitrate=N/A dup=0 drop=29895 speed= 1.1x    \r"
     ]
    },
    {
     "name": "stdout",
     "output_type": "stream",
     "text": [
      "[download]  47.1% of ~ 161.48MiB at    2.12MiB/s ETA 00:42 (frag 31/68)"
     ]
    },
    {
     "name": "stderr",
     "output_type": "stream",
     "text": [
      "frame=  121 fps=0.2 q=-0.0 size=N/A time=00:01:59.00 bitrate=N/A dup=0 drop=3467 speed=0.187x    \r"
     ]
    },
    {
     "name": "stdout",
     "output_type": "stream",
     "text": [
      "[download]  47.4% of ~ 162.54MiB at    2.08MiB/s ETA 00:42 (frag 31/68)"
     ]
    },
    {
     "name": "stderr",
     "output_type": "stream",
     "text": [
      "frame=  121 fps=0.2 q=-0.0 size=N/A time=00:01:59.00 bitrate=N/A dup=0 drop=3470 speed=0.186x    \r"
     ]
    },
    {
     "name": "stdout",
     "output_type": "stream",
     "text": [
      "[download]  47.8% of ~ 165.72MiB at    2.21MiB/s ETA 00:41 (frag 31/68)"
     ]
    },
    {
     "name": "stderr",
     "output_type": "stream",
     "text": [
      "frame=  169 fps=0.2 q=-0.0 size=N/A time=00:02:47.00 bitrate=N/A dup=0 drop=4851 speed=0.223x    \r"
     ]
    },
    {
     "name": "stdout",
     "output_type": "stream",
     "text": [
      "[download]  45.2% of ~ 175.28MiB at    2.26MiB/s ETA 00:41 (frag 32/68)"
     ]
    },
    {
     "name": "stderr",
     "output_type": "stream",
     "text": [
      "frame=  142 fps=0.2 q=-0.0 size=N/A time=00:02:20.00 bitrate=N/A dup=0 drop=6898 speed=0.148x    \r"
     ]
    },
    {
     "name": "stdout",
     "output_type": "stream",
     "text": [
      "[download]  48.5% of ~ 163.28MiB at    2.29MiB/s ETA 00:40 (frag 32/68)"
     ]
    },
    {
     "name": "stderr",
     "output_type": "stream",
     "text": [
      "frame=  122 fps=0.2 q=-0.0 size=N/A time=00:02:00.00 bitrate=N/A dup=0 drop=3478 speed=0.188x    \r"
     ]
    },
    {
     "name": "stdout",
     "output_type": "stream",
     "text": [
      "[download]  48.6% of ~ 163.53MiB at    2.31MiB/s ETA 00:39 (frag 32/68)"
     ]
    },
    {
     "name": "stderr",
     "output_type": "stream",
     "text": [
      "frame=  215 fps=0.3 q=-0.0 size=N/A time=00:03:33.00 bitrate=N/A dup=0 drop=5113 speed=0.248x    \r"
     ]
    },
    {
     "name": "stdout",
     "output_type": "stream",
     "text": [
      "[download]  48.8% of ~ 164.30MiB at    2.23MiB/s ETA 00:39 (frag 32/68)"
     ]
    },
    {
     "name": "stderr",
     "output_type": "stream",
     "text": [
      "frame= 1036 fps=1.1 q=-0.0 size=N/A time=00:17:14.00 bitrate=N/A dup=0 drop=29969 speed= 1.1x    \r"
     ]
    },
    {
     "name": "stdout",
     "output_type": "stream",
     "text": [
      "[download]  49.1% of ~ 165.33MiB at    2.26MiB/s ETA 00:39 (frag 32/68)"
     ]
    },
    {
     "name": "stderr",
     "output_type": "stream",
     "text": [
      "frame=  170 fps=0.2 q=-0.0 size=N/A time=00:02:48.00 bitrate=N/A dup=0 drop=4862 speed=0.224x    \r"
     ]
    },
    {
     "name": "stdout",
     "output_type": "stream",
     "text": [
      "[download]  48.7% of ~ 171.52MiB at    2.33MiB/s ETA 00:38 (frag 32/68)"
     ]
    },
    {
     "name": "stderr",
     "output_type": "stream",
     "text": [
      "frame= 1037 fps=1.1 q=-0.0 size=N/A time=00:17:15.00 bitrate=N/A dup=0 drop=29986 speed= 1.1x    \r"
     ]
    },
    {
     "name": "stdout",
     "output_type": "stream",
     "text": [
      "[download]  46.1% of ~ 181.16MiB at    2.52MiB/s ETA 00:38 (frag 33/68)"
     ]
    },
    {
     "name": "stderr",
     "output_type": "stream",
     "text": [
      "frame= 1037 fps=1.1 q=-0.0 size=N/A time=00:17:15.00 bitrate=N/A dup=0 drop=30007 speed= 1.1x    \r"
     ]
    },
    {
     "name": "stdout",
     "output_type": "stream",
     "text": [
      "[download]  50.1% of ~ 167.65MiB at    2.35MiB/s ETA 00:37 (frag 33/68)"
     ]
    },
    {
     "name": "stderr",
     "output_type": "stream",
     "text": [
      "frame=   49 fps=0.2 q=-0.0 size=N/A time=00:00:47.00 bitrate=N/A dup=0 drop=2302 speed=0.149x    \r"
     ]
    },
    {
     "name": "stdout",
     "output_type": "stream",
     "text": [
      "[download]  50.6% of ~ 169.15MiB at    2.28MiB/s ETA 00:37 (frag 33/68)"
     ]
    },
    {
     "name": "stderr",
     "output_type": "stream",
     "text": [
      "frame=  143 fps=0.2 q=-0.0 size=N/A time=00:02:21.00 bitrate=N/A dup=0 drop=6918 speed=0.149x    \r"
     ]
    },
    {
     "name": "stdout",
     "output_type": "stream",
     "text": [
      "[download]  48.4% of ~ 178.62MiB at    2.50MiB/s ETA 00:36 (frag 34/68)"
     ]
    },
    {
     "name": "stderr",
     "output_type": "stream",
     "text": [
      "frame=  313 fps=1.2 q=-0.0 size=N/A time=00:05:11.00 bitrate=N/A dup=0 drop=7483 speed=1.16x     \r"
     ]
    },
    {
     "name": "stdout",
     "output_type": "stream",
     "text": [
      "[download]  51.5% of ~ 167.95MiB at    2.48MiB/s ETA 00:35 (frag 34/68)"
     ]
    },
    {
     "name": "stderr",
     "output_type": "stream",
     "text": [
      "frame= 1039 fps=1.1 q=-0.0 size=N/A time=00:17:17.00 bitrate=N/A dup=0 drop=30062 speed= 1.1x    \r"
     ]
    },
    {
     "name": "stdout",
     "output_type": "stream",
     "text": [
      "[download]  51.5% of ~ 168.07MiB at    2.38MiB/s ETA 00:35 (frag 34/68)"
     ]
    },
    {
     "name": "stderr",
     "output_type": "stream",
     "text": [
      "frame=  143 fps=0.2 q=-0.0 size=N/A time=00:02:21.00 bitrate=N/A dup=0 drop=6928 speed=0.149x    \r"
     ]
    },
    {
     "name": "stdout",
     "output_type": "stream",
     "text": [
      "[download]  51.6% of ~ 168.43MiB at    2.21MiB/s ETA 00:36 (frag 34/68)"
     ]
    },
    {
     "name": "stderr",
     "output_type": "stream",
     "text": [
      "frame=  314 fps=1.2 q=-0.0 size=N/A time=00:05:12.00 bitrate=N/A dup=0 drop=7496 speed=1.16x     \r"
     ]
    },
    {
     "name": "stdout",
     "output_type": "stream",
     "text": [
      "[download]  52.0% of ~ 169.89MiB at    2.10MiB/s ETA 00:37 (frag 34/68)"
     ]
    },
    {
     "name": "stderr",
     "output_type": "stream",
     "text": [
      "frame=  215 fps=0.2 q=-0.0 size=N/A time=00:03:33.00 bitrate=N/A dup=0 drop=5128 speed=0.247x    \r"
     ]
    },
    {
     "name": "stdout",
     "output_type": "stream",
     "text": [
      "[download]  50.4% of ~ 175.30MiB at    1.99MiB/s ETA 00:38 (frag 35/68)"
     ]
    },
    {
     "name": "stderr",
     "output_type": "stream",
     "text": [
      "frame=   49 fps=0.2 q=-0.0 size=N/A time=00:00:47.00 bitrate=N/A dup=0 drop=2319 speed=0.148x    \r"
     ]
    },
    {
     "name": "stdout",
     "output_type": "stream",
     "text": [
      "[download]  52.9% of ~ 166.86MiB at    1.80MiB/s ETA 00:40 (frag 35/68)"
     ]
    },
    {
     "name": "stderr",
     "output_type": "stream",
     "text": [
      "frame=  143 fps=0.2 q=-0.0 size=N/A time=00:02:21.00 bitrate=N/A dup=0 drop=6938 speed=0.149x    \r"
     ]
    },
    {
     "name": "stdout",
     "output_type": "stream",
     "text": [
      "[download]  53.1% of ~ 167.33MiB at    1.59MiB/s ETA 00:43 (frag 35/68)"
     ]
    },
    {
     "name": "stderr",
     "output_type": "stream",
     "text": [
      "frame=  171 fps=0.2 q=-0.0 size=N/A time=00:02:49.00 bitrate=N/A dup=0 drop=4891 speed=0.224x    \r"
     ]
    },
    {
     "name": "stdout",
     "output_type": "stream",
     "text": [
      "[download]  53.2% of ~ 167.80MiB at    1.49MiB/s ETA 00:45 (frag 35/68)"
     ]
    },
    {
     "name": "stderr",
     "output_type": "stream",
     "text": [
      "frame=  457 fps=1.2 q=-0.0 size=N/A time=00:07:35.00 bitrate=N/A dup=0 drop=10922 speed=1.19x    \r"
     ]
    },
    {
     "name": "stdout",
     "output_type": "stream",
     "text": [
      "[download]  51.7% of ~ 175.13MiB at    1.47MiB/s ETA 00:48 (frag 36/68)"
     ]
    },
    {
     "name": "stderr",
     "output_type": "stream",
     "text": [
      "frame=  123 fps=0.2 q=-0.0 size=N/A time=00:02:01.00 bitrate=N/A dup=0 drop=3511 speed=0.187x    \r"
     ]
    },
    {
     "name": "stdout",
     "output_type": "stream",
     "text": [
      "[download]  54.4% of ~ 166.40MiB at    1.38MiB/s ETA 00:50 (frag 36/68)"
     ]
    },
    {
     "name": "stderr",
     "output_type": "stream",
     "text": [
      "frame=   49 fps=0.2 q=-0.0 size=N/A time=00:00:47.00 bitrate=N/A dup=0 drop=2331 speed=0.147x    \r"
     ]
    },
    {
     "name": "stdout",
     "output_type": "stream",
     "text": [
      "[download]  54.6% of ~ 166.83MiB at    1.32MiB/s ETA 00:52 (frag 36/68)"
     ]
    },
    {
     "name": "stderr",
     "output_type": "stream",
     "text": [
      "frame=  317 fps=1.2 q=-0.0 size=N/A time=00:05:15.00 bitrate=N/A dup=0 drop=7568 speed=1.16x     \r"
     ]
    },
    {
     "name": "stdout",
     "output_type": "stream",
     "text": [
      "[download]  55.0% of ~ 168.21MiB at    1.33MiB/s ETA 00:53 (frag 36/68)"
     ]
    },
    {
     "name": "stderr",
     "output_type": "stream",
     "text": [
      "frame=  458 fps=1.2 q=-0.0 size=N/A time=00:07:36.00 bitrate=N/A dup=0 drop=10959 speed=1.19x    \r"
     ]
    },
    {
     "name": "stdout",
     "output_type": "stream",
     "text": [
      "[download]  52.2% of ~ 180.75MiB at    1.88MiB/s ETA 00:49 (frag 37/68)"
     ]
    },
    {
     "name": "stderr",
     "output_type": "stream",
     "text": [
      "frame=  221 fps=0.2 q=-0.0 size=N/A time=00:03:39.00 bitrate=N/A dup=0 drop=5252 speed=0.214x    \r"
     ]
    },
    {
     "name": "stdout",
     "output_type": "stream",
     "text": [
      "[download]  55.9% of ~ 169.02MiB at    1.83MiB/s ETA 00:48 (frag 37/68)"
     ]
    },
    {
     "name": "stderr",
     "output_type": "stream",
     "text": [
      "frame=  171 fps=0.2 q=-0.0 size=N/A time=00:02:49.00 bitrate=N/A dup=0 drop=4911 speed=0.223x    \r"
     ]
    },
    {
     "name": "stdout",
     "output_type": "stream",
     "text": [
      "[download]  56.0% of ~ 169.44MiB at    1.68MiB/s ETA 00:47 (frag 37/68)"
     ]
    },
    {
     "name": "stderr",
     "output_type": "stream",
     "text": [
      "frame=  318 fps=1.2 q=-0.0 size=N/A time=00:05:16.00 bitrate=N/A dup=0 drop=7601 speed=1.16x     \r"
     ]
    },
    {
     "name": "stdout",
     "output_type": "stream",
     "text": [
      "[download]  57.0% of ~ 172.57MiB at    2.24MiB/s ETA 00:44 (frag 37/68)"
     ]
    },
    {
     "name": "stderr",
     "output_type": "stream",
     "text": [
      "frame= 1044 fps=1.1 q=-0.0 Lsize=N/A time=00:17:24.00 bitrate=N/A dup=0 drop=30202 speed= 1.1x    \n",
      "video:513578kB audio:0kB subtitle:0kB other streams:0kB global headers:0kB muxing overhead: unknown\n",
      "frame=  144 fps=0.2 q=-0.0 size=N/A time=00:02:22.00 bitrate=N/A dup=0 drop=6966 speed=0.149x    \r"
     ]
    },
    {
     "name": "stdout",
     "output_type": "stream",
     "text": [
      "[download]  56.0% of ~ 176.15MiB at    2.53MiB/s ETA 00:42 (frag 37/68)"
     ]
    },
    {
     "name": "stderr",
     "output_type": "stream",
     "text": [
      "frame=  171 fps=0.2 q=-0.0 size=N/A time=00:02:49.00 bitrate=N/A dup=0 drop=4916 speed=0.223x    \r"
     ]
    },
    {
     "name": "stdout",
     "output_type": "stream",
     "text": [
      "[download]  53.6% of ~ 183.87MiB at    2.63MiB/s ETA 00:41 (frag 38/68)"
     ]
    },
    {
     "name": "stderr",
     "output_type": "stream",
     "text": [
      "frame=   50 fps=0.2 q=-0.0 size=N/A time=00:00:48.00 bitrate=N/A dup=0 drop=2357 speed=0.149x    \r"
     ]
    },
    {
     "name": "stdout",
     "output_type": "stream",
     "text": [
      "[download]  57.4% of ~ 171.92MiB at    2.26MiB/s ETA 00:42 (frag 38/68)"
     ]
    },
    {
     "name": "stderr",
     "output_type": "stream",
     "text": [
      "frame=  462 fps=1.2 q=-0.0 size=N/A time=00:07:40.00 bitrate=N/A dup=0 drop=11041 speed=1.19x    \r"
     ]
    },
    {
     "name": "stdout",
     "output_type": "stream",
     "text": [
      "[download]  57.5% of ~ 172.34MiB at    2.00MiB/s ETA 00:42 (frag 38/68)"
     ]
    },
    {
     "name": "stderr",
     "output_type": "stream",
     "text": [
      "frame=  221 fps=0.2 q=-0.0 size=N/A time=00:03:39.00 bitrate=N/A dup=0 drop=5267 speed=0.213x    \r"
     ]
    },
    {
     "name": "stdout",
     "output_type": "stream",
     "text": [
      "[download]  57.6% of ~ 172.78MiB at    1.98MiB/s ETA 00:41 (frag 38/68)"
     ]
    },
    {
     "name": "stderr",
     "output_type": "stream",
     "text": [
      "frame=  462 fps=1.2 q=-0.0 size=N/A time=00:07:40.00 bitrate=N/A dup=0 drop=11058 speed=1.19x    \r"
     ]
    },
    {
     "name": "stdout",
     "output_type": "stream",
     "text": [
      "[download]  58.4% of ~ 175.39MiB at    2.23MiB/s ETA 00:39 (frag 38/68)"
     ]
    },
    {
     "name": "stderr",
     "output_type": "stream",
     "text": [
      "frame=  144 fps=0.2 q=-0.0 size=N/A time=00:02:22.00 bitrate=N/A dup=0 drop=6982 speed=0.149x    \r"
     ]
    },
    {
     "name": "stdout",
     "output_type": "stream",
     "text": [
      "[download]  55.3% of ~ 185.33MiB at    2.36MiB/s ETA 00:38 (frag 39/68)"
     ]
    },
    {
     "name": "stderr",
     "output_type": "stream",
     "text": [
      "frame=  464 fps=1.2 q=-0.0 size=N/A time=00:07:42.00 bitrate=N/A dup=0 drop=11095 speed=1.19x    \r"
     ]
    },
    {
     "name": "stdout",
     "output_type": "stream",
     "text": [
      "[download]  58.8% of ~ 174.18MiB at    2.05MiB/s ETA 00:39 (frag 39/68)"
     ]
    },
    {
     "name": "stderr",
     "output_type": "stream",
     "text": [
      "frame=   50 fps=0.2 q=-0.0 size=N/A time=00:00:48.00 bitrate=N/A dup=0 drop=2373 speed=0.148x    \r"
     ]
    },
    {
     "name": "stdout",
     "output_type": "stream",
     "text": [
      "[download]  59.1% of ~ 175.00MiB at    2.07MiB/s ETA 00:38 (frag 39/68)[youtube] Extracting URL: https://www.youtube.com/watch?v=OiDgFekE2ak\n"
     ]
    },
    {
     "name": "stderr",
     "output_type": "stream",
     "text": [
      "frame=  465 fps=1.2 q=-0.0 size=N/A time=00:07:43.00 bitrate=N/A dup=0 drop=11108 speed=1.19x    \r"
     ]
    },
    {
     "name": "stdout",
     "output_type": "stream",
     "text": [
      "[youtube] OiDgFekE2ak: Downloading webpage\n",
      "[download]  57.9% of ~ 179.61MiB at    2.15MiB/s ETA 00:37 (frag 40/68)"
     ]
    },
    {
     "name": "stderr",
     "output_type": "stream",
     "text": [
      "frame=  173 fps=0.2 q=-0.0 size=N/A time=00:02:51.00 bitrate=N/A dup=0 drop=4949 speed=0.225x    \r"
     ]
    },
    {
     "name": "stdout",
     "output_type": "stream",
     "text": [
      "[download]  60.3% of ~ 172.57MiB at    1.98MiB/s ETA 00:37 (frag 40/68)"
     ]
    },
    {
     "name": "stderr",
     "output_type": "stream",
     "text": [
      "frame=   50 fps=0.2 q=-0.0 size=N/A time=00:00:48.00 bitrate=N/A dup=0 drop=2382 speed=0.147x    \r"
     ]
    },
    {
     "name": "stdout",
     "output_type": "stream",
     "text": [
      "[download]  60.3% of ~ 172.67MiB at    1.77MiB/s ETA 00:38 (frag 40/68)"
     ]
    },
    {
     "name": "stderr",
     "output_type": "stream",
     "text": [
      "frame=  222 fps=0.2 q=-0.0 size=N/A time=00:03:40.00 bitrate=N/A dup=0 drop=5281 speed=0.214x    \r"
     ]
    },
    {
     "name": "stdout",
     "output_type": "stream",
     "text": [
      "[download]  60.9% of ~ 174.22MiB at    1.50MiB/s ETA 00:41 (frag 40/68)"
     ]
    },
    {
     "name": "stderr",
     "output_type": "stream",
     "text": [
      "frame=  467 fps=1.2 q=-0.0 size=N/A time=00:07:45.00 bitrate=N/A dup=0 drop=11172 speed=1.19x    \r"
     ]
    },
    {
     "name": "stdout",
     "output_type": "stream",
     "text": [
      "[download]  60.8% of ~ 175.88MiB at    1.69MiB/s ETA 00:40 (frag 40/68)[youtube] OiDgFekE2ak: Downloading ios player API JSON\n",
      "[download]  58.7% of ~ 182.01MiB at    1.79MiB/s ETA 00:40 (frag 41/68)"
     ]
    },
    {
     "name": "stderr",
     "output_type": "stream",
     "text": [
      "frame=  173 fps=0.2 q=-0.0 size=N/A time=00:02:51.00 bitrate=N/A dup=0 drop=4958 speed=0.224x    \r"
     ]
    },
    {
     "name": "stdout",
     "output_type": "stream",
     "text": [
      "[youtube] OiDgFekE2ak: Downloading android player API JSON\n"
     ]
    },
    {
     "name": "stderr",
     "output_type": "stream",
     "text": [
      "frame=  145 fps=0.2 q=-0.0 size=N/A time=00:02:23.00 bitrate=N/A dup=0 drop=7008 speed=0.149x    \r"
     ]
    },
    {
     "name": "stdout",
     "output_type": "stream",
     "text": [
      "[youtube] OiDgFekE2ak: Downloading m3u8 information\n",
      "[download]  61.8% of ~ 173.08MiB at    1.70MiB/s ETA 00:40 (frag 41/68)"
     ]
    },
    {
     "name": "stderr",
     "output_type": "stream",
     "text": [
      "frame=  469 fps=1.2 q=-0.0 size=N/A time=00:07:47.00 bitrate=N/A dup=0 drop=11209 speed=1.19x    \r"
     ]
    },
    {
     "name": "stdout",
     "output_type": "stream",
     "text": [
      "[download]  61.9% of ~ 173.47MiB at    1.62MiB/s ETA 00:41 (frag 41/68)"
     ]
    },
    {
     "name": "stderr",
     "output_type": "stream",
     "text": [
      "frame=  125 fps=0.2 q=-0.0 size=N/A time=00:02:03.00 bitrate=N/A dup=0 drop=3561 speed=0.188x    \r"
     ]
    },
    {
     "name": "stdout",
     "output_type": "stream",
     "text": [
      "[download]  62.3% of ~ 174.69MiB at    1.64MiB/s ETA 00:40 (frag 41/68)"
     ]
    },
    {
     "name": "stderr",
     "output_type": "stream",
     "text": [
      "frame=  327 fps=1.2 q=-0.0 size=N/A time=00:05:25.00 bitrate=N/A dup=0 drop=7797 speed=1.16x     \r"
     ]
    },
    {
     "name": "stdout",
     "output_type": "stream",
     "text": [
      "[download]  60.1% of ~ 182.63MiB at    1.90MiB/s ETA 00:39 (frag 42/68)"
     ]
    },
    {
     "name": "stderr",
     "output_type": "stream",
     "text": [
      "frame=  470 fps=1.2 q=-0.0 size=N/A time=00:07:48.00 bitrate=N/A dup=0 drop=11242 speed=1.19x    \r"
     ]
    },
    {
     "name": "stdout",
     "output_type": "stream",
     "text": [
      "[download]  63.3% of ~ 173.81MiB at    1.52MiB/s ETA 00:42 (frag 42/68)"
     ]
    },
    {
     "name": "stderr",
     "output_type": "stream",
     "text": [
      "frame=  145 fps=0.2 q=-0.0 size=N/A time=00:02:23.00 bitrate=N/A dup=0 drop=7026 speed=0.149x    \r"
     ]
    },
    {
     "name": "stdout",
     "output_type": "stream",
     "text": [
      "[download]  63.4% of ~ 174.11MiB at    1.39MiB/s ETA 00:43 (frag 42/68)"
     ]
    },
    {
     "name": "stderr",
     "output_type": "stream",
     "text": [
      "frame=  471 fps=1.2 q=-0.0 size=N/A time=00:07:49.00 bitrate=N/A dup=0 drop=11258 speed=1.19x    \r"
     ]
    },
    {
     "name": "stdout",
     "output_type": "stream",
     "text": [
      "[download]  63.6% of ~ 176.88MiB at    1.80MiB/s ETA 00:40 (frag 42/68)"
     ]
    },
    {
     "name": "stderr",
     "output_type": "stream",
     "text": [
      "frame=  329 fps=1.2 q=-0.0 size=N/A time=00:05:27.00 bitrate=N/A dup=0 drop=7866 speed=1.16x     \r"
     ]
    },
    {
     "name": "stdout",
     "output_type": "stream",
     "text": [
      "[download]  61.7% of ~ 182.31MiB at    1.83MiB/s ETA 00:40 (frag 43/68)"
     ]
    },
    {
     "name": "stderr",
     "output_type": "stream",
     "text": [
      "frame=  473 fps=1.2 q=-0.0 size=N/A time=00:07:51.00 bitrate=N/A dup=0 drop=11306 speed=1.19x    \r"
     ]
    },
    {
     "name": "stdout",
     "output_type": "stream",
     "text": [
      "[download]  64.8% of ~ 174.16MiB at    1.48MiB/s ETA 00:42 (frag 43/68)"
     ]
    },
    {
     "name": "stderr",
     "output_type": "stream",
     "text": [
      "frame=  223 fps=0.2 q=-0.0 size=N/A time=00:03:41.00 bitrate=N/A dup=0 drop=5303 speed=0.213x    \r"
     ]
    },
    {
     "name": "stdout",
     "output_type": "stream",
     "text": [
      "[download]  65.0% of ~ 174.74MiB at    1.42MiB/s ETA 00:43 (frag 43/68)"
     ]
    },
    {
     "name": "stderr",
     "output_type": "stream",
     "text": [
      "frame=  145 fps=0.2 q=-0.0 size=N/A time=00:02:23.00 bitrate=N/A dup=0 drop=7044 speed=0.148x    \r"
     ]
    },
    {
     "name": "stdout",
     "output_type": "stream",
     "text": [
      "[download]  65.3% of ~ 175.51MiB at    1.48MiB/s ETA 00:42 (frag 43/68)"
     ]
    },
    {
     "name": "stderr",
     "output_type": "stream",
     "text": [
      "frame=  223 fps=0.2 q=-0.0 size=N/A time=00:03:41.00 bitrate=N/A dup=0 drop=5306 speed=0.213x    \r"
     ]
    },
    {
     "name": "stdout",
     "output_type": "stream",
     "text": [
      "[download]  65.7% of ~ 177.06MiB at    1.68MiB/s ETA 00:41 (frag 43/68)"
     ]
    },
    {
     "name": "stderr",
     "output_type": "stream",
     "text": [
      "frame=  333 fps=1.2 q=-0.0 size=N/A time=00:05:31.00 bitrate=N/A dup=0 drop=7940 speed=1.16x     \r"
     ]
    },
    {
     "name": "stdout",
     "output_type": "stream",
     "text": [
      "[download]  62.7% of ~ 185.62MiB at    1.59MiB/s ETA 00:42 (frag 44/68)"
     ]
    },
    {
     "name": "stderr",
     "output_type": "stream",
     "text": [
      "frame=  477 fps=1.2 q=-0.0 size=N/A time=00:07:55.00 bitrate=N/A dup=0 drop=11408 speed=1.19x    \r"
     ]
    },
    {
     "name": "stdout",
     "output_type": "stream",
     "text": [
      "[download]  66.2% of ~ 175.81MiB at    1.50MiB/s ETA 00:42 (frag 44/68)"
     ]
    },
    {
     "name": "stderr",
     "output_type": "stream",
     "text": [
      "frame=  334 fps=1.2 q=-0.0 size=N/A time=00:05:32.00 bitrate=N/A dup=0 drop=7981 speed=1.16x     \r"
     ]
    },
    {
     "name": "stdout",
     "output_type": "stream",
     "text": [
      "[download]  66.5% of ~ 176.55MiB at    1.23MiB/s ETA 00:45 (frag 44/68)"
     ]
    },
    {
     "name": "stderr",
     "output_type": "stream",
     "text": [
      "frame=  478 fps=1.2 q=-0.0 size=N/A time=00:07:56.00 bitrate=N/A dup=0 drop=11431 speed=1.19x    \r"
     ]
    },
    {
     "name": "stdout",
     "output_type": "stream",
     "text": [
      "[download]  66.4% of ~ 178.82MiB at    1.25MiB/s ETA 00:45 (frag 44/68)"
     ]
    },
    {
     "name": "stderr",
     "output_type": "stream",
     "text": [
      "frame=  479 fps=1.2 q=-0.0 size=N/A time=00:07:57.00 bitrate=N/A dup=0 drop=11450 speed= 1.2x    \r"
     ]
    },
    {
     "name": "stdout",
     "output_type": "stream",
     "text": [
      "[download]  64.9% of ~ 182.96MiB at    1.17MiB/s ETA 00:47 (frag 45/68)"
     ]
    },
    {
     "name": "stderr",
     "output_type": "stream",
     "text": [
      "frame=  220 fps=0.2 q=-0.0 size=N/A time=00:03:38.00 bitrate=N/A dup=0 drop=5234 speed=0.247x    \r"
     ]
    },
    {
     "name": "stdout",
     "output_type": "stream",
     "text": [
      "[info] OiDgFekE2ak: Downloading 1 format(s): 244+251\n",
      "[download]  67.7% of ~ 175.49MiB at  841.72KiB/s ETA 04:41:22 (frag 45/68)"
     ]
    },
    {
     "name": "stderr",
     "output_type": "stream",
     "text": [
      "frame=  176 fps=0.2 q=-0.0 size=N/A time=00:02:54.00 bitrate=N/A dup=0 drop=5051 speed=0.225x    \r"
     ]
    },
    {
     "name": "stdout",
     "output_type": "stream",
     "text": [
      "[download]  67.8% of ~ 175.85MiB at  548.58KiB/s ETA 03:48:36 (frag 45/68)"
     ]
    },
    {
     "name": "stderr",
     "output_type": "stream",
     "text": [
      "frame=  340 fps=1.2 q=-0.0 size=N/A time=00:05:38.00 bitrate=N/A dup=0 drop=8122 speed=1.16x     \r"
     ]
    },
    {
     "name": "stdout",
     "output_type": "stream",
     "text": [
      "[download]  65.7% of ~ 186.31MiB at    3.48MiB/s ETA 02:30:04 (frag 46/68)"
     ]
    },
    {
     "name": "stderr",
     "output_type": "stream",
     "text": [
      "frame=  486 fps=1.2 q=-0.0 Lsize=N/A time=00:08:06.00 bitrate=N/A dup=0 drop=11615 speed= 1.2x    \n",
      "video:223231kB audio:0kB subtitle:0kB other streams:0kB global headers:0kB muxing overhead: unknown\n",
      "frame=   53 fps=0.2 q=-0.0 size=N/A time=00:00:51.00 bitrate=N/A dup=0 drop=2492 speed=0.15x    \r"
     ]
    },
    {
     "name": "stdout",
     "output_type": "stream",
     "text": [
      "[download]  69.1% of ~ 177.09MiB at    2.66MiB/s ETA 02:01:39 (frag 46/68)[download] Destination: ./dataset_splited/OiDgFekE2ak/video_480p.f244.webm\n",
      "[download]   0.0% of   25.62MiB at   91.11KiB/s ETA 04:47"
     ]
    },
    {
     "name": "stderr",
     "output_type": "stream",
     "text": [
      "frame=  147 fps=0.2 q=-0.0 size=N/A time=00:02:25.00 bitrate=N/A dup=0 drop=7116 speed=0.149x    \r"
     ]
    },
    {
     "name": "stdout",
     "output_type": "stream",
     "text": [
      "[download]   3.9% of   25.62MiB at    2.02MiB/s ETA 00:128:48 (frag 46/68)"
     ]
    },
    {
     "name": "stderr",
     "output_type": "stream",
     "text": [
      "frame=  221 fps=0.2 q=-0.0 size=N/A time=00:03:39.00 bitrate=N/A dup=0 drop=5261 speed=0.247x    \r"
     ]
    },
    {
     "name": "stdout",
     "output_type": "stream",
     "text": [
      "[download]   7.8% of   25.62MiB at    2.57MiB/s ETA 00:099:58 (frag 47/68)"
     ]
    },
    {
     "name": "stderr",
     "output_type": "stream",
     "text": [
      "frame=  147 fps=0.2 q=-0.0 size=N/A time=00:02:25.00 bitrate=N/A dup=0 drop=7125 speed=0.149x    \r"
     ]
    },
    {
     "name": "stdout",
     "output_type": "stream",
     "text": [
      "[download]  15.6% of   25.62MiB at    3.00MiB/s ETA 00:07"
     ]
    },
    {
     "name": "stderr",
     "output_type": "stream",
     "text": [
      "frame=  226 fps=0.2 q=-0.0 size=N/A time=00:03:44.00 bitrate=N/A dup=0 drop=5375 speed=0.214x    \r"
     ]
    },
    {
     "name": "stdout",
     "output_type": "stream",
     "text": [
      "[download]  70.6% of ~ 176.12MiB at    1.36MiB/s ETA 58:33 (frag 47/68)   "
     ]
    },
    {
     "name": "stderr",
     "output_type": "stream",
     "text": [
      "frame=  222 fps=0.3 q=-0.0 size=N/A time=00:03:40.00 bitrate=N/A dup=0 drop=5276 speed=0.248x    \r"
     ]
    },
    {
     "name": "stdout",
     "output_type": "stream",
     "text": [
      "[download]  70.9% of ~ 176.74MiB at    1.24MiB/s ETA 47:34 (frag 47/68)"
     ]
    },
    {
     "name": "stderr",
     "output_type": "stream",
     "text": [
      "frame=  177 fps=0.2 q=-0.0 size=N/A time=00:02:55.00 bitrate=N/A dup=0 drop=5083 speed=0.225x    \r"
     ]
    },
    {
     "name": "stdout",
     "output_type": "stream",
     "text": [
      "[download]  38.3% of   25.62MiB at    3.73MiB/s ETA 00:047 (frag 47/68)"
     ]
    },
    {
     "name": "stderr",
     "output_type": "stream",
     "text": [
      "frame=  222 fps=0.2 q=-0.0 size=N/A time=00:03:40.00 bitrate=N/A dup=0 drop=5282 speed=0.248x    \r"
     ]
    },
    {
     "name": "stdout",
     "output_type": "stream",
     "text": [
      "[download]  38.8% of   25.62MiB at    2.46MiB/s ETA 00:062 (frag 48/68)"
     ]
    },
    {
     "name": "stderr",
     "output_type": "stream",
     "text": [
      "frame=   53 fps=0.2 q=-0.0 size=N/A time=00:00:51.00 bitrate=N/A dup=0 drop=2521 speed=0.148x    \r"
     ]
    },
    {
     "name": "stdout",
     "output_type": "stream",
     "text": [
      "[download]  46.1% of   25.62MiB at    5.42MiB/s ETA 00:02"
     ]
    },
    {
     "name": "stderr",
     "output_type": "stream",
     "text": [
      "frame=  177 fps=0.2 q=-0.0 size=N/A time=00:02:55.00 bitrate=N/A dup=0 drop=5088 speed=0.225x    \r"
     ]
    },
    {
     "name": "stdout",
     "output_type": "stream",
     "text": [
      "[download]  53.9% of   25.62MiB at    7.65MiB/s ETA 00:01"
     ]
    },
    {
     "name": "stderr",
     "output_type": "stream",
     "text": [
      "frame=  128 fps=0.2 q=-0.0 size=N/A time=00:02:06.00 bitrate=N/A dup=0 drop=3651 speed=0.188x    \r"
     ]
    },
    {
     "name": "stdout",
     "output_type": "stream",
     "text": [
      "[download]  69.6% of   25.62MiB at   10.80MiB/s ETA 00:00[youtube] Extracting URL: https://www.youtube.com/watch?v=OiDgFekE2ak\n",
      "[youtube] OiDgFekE2ak: Downloading webpage\n",
      "[download]  75.5% of   25.62MiB at   11.86MiB/s ETA 00:00"
     ]
    },
    {
     "name": "stderr",
     "output_type": "stream",
     "text": [
      "frame=  226 fps=0.2 q=-0.0 size=N/A time=00:03:44.00 bitrate=N/A dup=0 drop=5391 speed=0.214x    \r"
     ]
    },
    {
     "name": "stdout",
     "output_type": "stream",
     "text": [
      "[download]  75.5% of   25.62MiB at  444.94KiB/s ETA 00:14  (frag 48/68)"
     ]
    },
    {
     "name": "stderr",
     "output_type": "stream",
     "text": [
      "frame=  128 fps=0.2 q=-0.0 size=N/A time=00:02:06.00 bitrate=N/A dup=0 drop=3655 speed=0.188x    \r"
     ]
    },
    {
     "name": "stdout",
     "output_type": "stream",
     "text": [
      "[download]  72.6% of ~ 179.69MiB at    2.22MiB/s ETA 20:42 (frag 48/68)"
     ]
    },
    {
     "name": "stderr",
     "output_type": "stream",
     "text": [
      "frame=  348 fps=1.2 q=-0.0 size=N/A time=00:05:46.00 bitrate=N/A dup=0 drop=8318 speed=1.16x     \r"
     ]
    },
    {
     "name": "stdout",
     "output_type": "stream",
     "text": [
      "[download]  91.1% of   25.62MiB at    7.45MiB/s ETA 00:000 (frag 49/68)"
     ]
    },
    {
     "name": "stderr",
     "output_type": "stream",
     "text": [
      "frame=   53 fps=0.2 q=-0.0 size=N/A time=00:00:51.00 bitrate=N/A dup=0 drop=2536 speed=0.148x    \r"
     ]
    },
    {
     "name": "stdout",
     "output_type": "stream",
     "text": [
      "[download] 100.0% of   25.62MiB at    8.73MiB/s ETA 00:00"
     ]
    },
    {
     "name": "stderr",
     "output_type": "stream",
     "text": [
      "frame=  148 fps=0.2 q=-0.0 size=N/A time=00:02:26.00 bitrate=N/A dup=0 drop=7157 speed=0.149x    \r"
     ]
    },
    {
     "name": "stdout",
     "output_type": "stream",
     "text": [
      "[download] 100% of   25.62MiB in 00:00:05 at 4.59MiB/s   \n",
      "[youtube] OiDgFekE2ak: Downloading ios player API JSON\n",
      "[download]  73.5% of ~ 178.50MiB at    2.10MiB/s ETA 13:43 (frag 49/68)"
     ]
    },
    {
     "name": "stderr",
     "output_type": "stream",
     "text": [
      "frame=  227 fps=0.2 q=-0.0 size=N/A time=00:03:45.00 bitrate=N/A dup=0 drop=5396 speed=0.214x    \r"
     ]
    },
    {
     "name": "stdout",
     "output_type": "stream",
     "text": [
      "[download]  73.6% of ~ 178.57MiB at    1.57MiB/s ETA 11:15 (frag 49/68)[youtube] OiDgFekE2ak: Downloading android player API JSON\n",
      "[download]  73.7% of ~ 178.83MiB at    1.43MiB/s ETA 10:12 (frag 49/68)"
     ]
    },
    {
     "name": "stderr",
     "output_type": "stream",
     "text": [
      "frame=  178 fps=0.2 q=-0.0 size=N/A time=00:02:56.00 bitrate=N/A dup=0 drop=5099 speed=0.225x    \r"
     ]
    },
    {
     "name": "stdout",
     "output_type": "stream",
     "text": [
      "[download] Destination: ./dataset_splited/OiDgFekE2ak/video_480p.f251.webm\n",
      "[download]   1.3% of    9.79MiB at  769.16KiB/s ETA 00:124 (frag 49/68)"
     ]
    },
    {
     "name": "stderr",
     "output_type": "stream",
     "text": [
      "frame=  223 fps=0.3 q=-0.0 size=N/A time=00:03:41.00 bitrate=N/A dup=0 drop=5301 speed=0.248x    \r"
     ]
    },
    {
     "name": "stdout",
     "output_type": "stream",
     "text": [
      "[download]  20.4% of    9.79MiB at    2.40MiB/s ETA 00:033 (frag 49/68)[youtube] OiDgFekE2ak: Downloading m3u8 information\n",
      "[download]  72.0% of ~ 186.32MiB at    1.94MiB/s ETA 06:50 (frag 50/68)"
     ]
    },
    {
     "name": "stderr",
     "output_type": "stream",
     "text": [
      "frame=  148 fps=0.2 q=-0.0 size=N/A time=00:02:26.00 bitrate=N/A dup=0 drop=7169 speed=0.149x    \r"
     ]
    },
    {
     "name": "stdout",
     "output_type": "stream",
     "text": [
      "[download]  40.9% of    9.79MiB at    2.95MiB/s ETA 00:01"
     ]
    },
    {
     "name": "stderr",
     "output_type": "stream",
     "text": [
      "frame=   54 fps=0.2 q=-0.0 size=N/A time=00:00:52.00 bitrate=N/A dup=0 drop=2546 speed=0.15x    \r"
     ]
    },
    {
     "name": "stdout",
     "output_type": "stream",
     "text": [
      "[download]  75.1% of ~ 178.99MiB at    1.56MiB/s ETA 05:39 (frag 50/68)"
     ]
    },
    {
     "name": "stderr",
     "output_type": "stream",
     "text": [
      "frame=  227 fps=0.2 q=-0.0 size=N/A time=00:03:45.00 bitrate=N/A dup=0 drop=5405 speed=0.214x    \r"
     ]
    },
    {
     "name": "stdout",
     "output_type": "stream",
     "text": [
      "[download]  75.6% of ~ 180.16MiB at    1.73MiB/s ETA 04:39 (frag 50/68)"
     ]
    },
    {
     "name": "stderr",
     "output_type": "stream",
     "text": [
      "frame=  178 fps=0.2 q=-0.0 size=N/A time=00:02:56.00 bitrate=N/A dup=0 drop=5111 speed=0.225x    \r"
     ]
    },
    {
     "name": "stdout",
     "output_type": "stream",
     "text": [
      "[download]  75.7% of ~ 181.49MiB at    1.93MiB/s ETA 04:13 (frag 50/68)"
     ]
    },
    {
     "name": "stderr",
     "output_type": "stream",
     "text": [
      "frame=   54 fps=0.2 q=-0.0 size=N/A time=00:00:52.00 bitrate=N/A dup=0 drop=2553 speed=0.149x    \r"
     ]
    },
    {
     "name": "stdout",
     "output_type": "stream",
     "text": [
      "[download]  98.9% of    9.79MiB at    3.49MiB/s ETA 00:000 (frag 51/68)"
     ]
    },
    {
     "name": "stderr",
     "output_type": "stream",
     "text": [
      "frame=  227 fps=0.2 q=-0.0 size=N/A time=00:03:45.00 bitrate=N/A dup=0 drop=5408 speed=0.214x    \r"
     ]
    },
    {
     "name": "stdout",
     "output_type": "stream",
     "text": [
      "[download]  98.9% of    9.79MiB at  209.11KiB/s ETA 00:00  "
     ]
    },
    {
     "name": "stderr",
     "output_type": "stream",
     "text": [
      "frame=   54 fps=0.2 q=-0.0 size=N/A time=00:00:52.00 bitrate=N/A dup=0 drop=2557 speed=0.149x    \r"
     ]
    },
    {
     "name": "stdout",
     "output_type": "stream",
     "text": [
      "[download] 100.0% of    9.79MiB at  851.76KiB/s ETA 00:00"
     ]
    },
    {
     "name": "stderr",
     "output_type": "stream",
     "text": [
      "frame=  129 fps=0.2 q=-0.0 size=N/A time=00:02:07.00 bitrate=N/A dup=0 drop=3682 speed=0.188x    \r"
     ]
    },
    {
     "name": "stdout",
     "output_type": "stream",
     "text": [
      "[download] 100% of    9.79MiB in 00:00:04 at 2.44MiB/s   0 (frag 51/68)\n",
      "[download]  76.5% of ~ 179.75MiB at    1.59MiB/s ETA 03:13 (frag 51/68)"
     ]
    },
    {
     "name": "stderr",
     "output_type": "stream",
     "text": [
      "frame=  227 fps=0.2 q=-0.0 size=N/A time=00:03:45.00 bitrate=N/A dup=0 drop=5411 speed=0.214x    \r"
     ]
    },
    {
     "name": "stdout",
     "output_type": "stream",
     "text": [
      "[download]  76.7% of ~ 180.40MiB at    1.63MiB/s ETA 02:28 (frag 51/68)"
     ]
    },
    {
     "name": "stderr",
     "output_type": "stream",
     "text": [
      "frame=   54 fps=0.2 q=-0.0 size=N/A time=00:00:52.00 bitrate=N/A dup=0 drop=2562 speed=0.148x    \r"
     ]
    },
    {
     "name": "stdout",
     "output_type": "stream",
     "text": [
      "[download]  77.0% of ~ 181.05MiB at    1.63MiB/s ETA 02:28 (frag 51/68)"
     ]
    },
    {
     "name": "stderr",
     "output_type": "stream",
     "text": [
      "frame=  179 fps=0.2 q=-0.0 size=N/A time=00:02:57.00 bitrate=N/A dup=0 drop=5125 speed=0.225x    \r"
     ]
    },
    {
     "name": "stdout",
     "output_type": "stream",
     "text": [
      "[Merger] Merging formats into \"./dataset_splited/OiDgFekE2ak/video_480p.webm\"\n",
      "[download]  74.8% of ~ 188.09MiB at    2.03MiB/s ETA 02:03 (frag 52/68)"
     ]
    },
    {
     "name": "stderr",
     "output_type": "stream",
     "text": [
      "frame=  355 fps=1.2 q=-0.0 Lsize=N/A time=00:05:55.00 bitrate=N/A dup=0 drop=8480 speed=1.17x    \n",
      "video:197200kB audio:0kB subtitle:0kB other streams:0kB global headers:0kB muxing overhead: unknown\n",
      "frame=   54 fps=0.2 q=-0.0 size=N/A time=00:00:52.00 bitrate=N/A dup=0 drop=2574 speed=0.148x    \r"
     ]
    },
    {
     "name": "stdout",
     "output_type": "stream",
     "text": [
      "[download]  78.0% of ~ 180.52MiB at    1.74MiB/s ETA 01:45 (frag 52/68)"
     ]
    },
    {
     "name": "stderr",
     "output_type": "stream",
     "text": [
      "frame=  179 fps=0.2 q=-0.0 size=N/A time=00:02:57.00 bitrate=N/A dup=0 drop=5142 speed=0.225x    \r"
     ]
    },
    {
     "name": "stdout",
     "output_type": "stream",
     "text": [
      "[download]  78.4% of ~ 181.73MiB at    1.74MiB/s ETA 01:23 (frag 52/68)"
     ]
    },
    {
     "name": "stderr",
     "output_type": "stream",
     "text": [
      "frame=  228 fps=0.2 q=-0.0 size=N/A time=00:03:46.00 bitrate=N/A dup=0 drop=5424 speed=0.214x    \r"
     ]
    },
    {
     "name": "stdout",
     "output_type": "stream",
     "text": [
      "[download]  77.0% of ~ 184.96MiB at    1.75MiB/s ETA 01:17 (frag 53/68)"
     ]
    },
    {
     "name": "stderr",
     "output_type": "stream",
     "text": [
      "frame=  228 fps=0.2 q=-0.0 size=N/A time=00:03:46.00 bitrate=N/A dup=0 drop=5431 speed=0.214x    \r"
     ]
    },
    {
     "name": "stdout",
     "output_type": "stream",
     "text": [
      "[download]  79.6% of ~ 180.58MiB at    1.19MiB/s ETA 01:07 (frag 53/68)[info] OiDgFekE2ak: Downloading 1 format(s): 616+251\n"
     ]
    },
    {
     "name": "stderr",
     "output_type": "stream",
     "text": [
      "frame=  180 fps=0.2 q=-0.0 size=N/A time=00:02:58.00 bitrate=N/A dup=0 drop=5160 speed=0.225x    \r"
     ]
    },
    {
     "name": "stdout",
     "output_type": "stream",
     "text": [
      "[download]  78.7% of ~ 182.47MiB at    1.28MiB/s ETA 01:03 (frag 54/68)"
     ]
    },
    {
     "name": "stderr",
     "output_type": "stream",
     "text": [
      "frame=  180 fps=0.2 q=-0.0 size=N/A time=00:02:58.00 bitrate=N/A dup=0 drop=5167 speed=0.225x    \r"
     ]
    },
    {
     "name": "stdout",
     "output_type": "stream",
     "text": [
      "[download]  80.9% of ~ 177.64MiB at    1.21MiB/s ETA 01:00 (frag 54/68)[hlsnative] Downloading m3u8 manifest\n",
      "[download]  81.0% of ~ 177.76MiB at    1.16MiB/s ETA 00:57 (frag 54/68)"
     ]
    },
    {
     "name": "stderr",
     "output_type": "stream",
     "text": [
      "frame=   55 fps=0.2 q=-0.0 size=N/A time=00:00:53.00 bitrate=N/A dup=0 drop=2606 speed=0.149x    \r"
     ]
    },
    {
     "name": "stdout",
     "output_type": "stream",
     "text": [
      "[download]  81.2% of ~ 178.22MiB at    1.20MiB/s ETA 00:54 (frag 54/68)[hlsnative] Total fragments: 128\n",
      "[download] Destination: ./dataset_splited/OiDgFekE2ak/video_1080p.f616.mp4\n",
      "[download]  81.4% of ~ 178.84MiB at    1.25MiB/s ETA 00:51 (frag 54/68)"
     ]
    },
    {
     "name": "stderr",
     "output_type": "stream",
     "text": [
      "frame=  149 fps=0.2 q=-0.0 size=N/A time=00:02:27.00 bitrate=N/A dup=0 drop=7237 speed=0.149x    \r"
     ]
    },
    {
     "name": "stdout",
     "output_type": "stream",
     "text": [
      "[download]  78.9% of ~ 186.55MiB at    1.48MiB/s ETA 00:45 (frag 55/68)"
     ]
    },
    {
     "name": "stderr",
     "output_type": "stream",
     "text": [
      "frame=   55 fps=0.2 q=-0.0 size=N/A time=00:00:53.00 bitrate=N/A dup=0 drop=2612 speed=0.149x    \r"
     ]
    },
    {
     "name": "stdout",
     "output_type": "stream",
     "text": [
      "[download]   0.4% of ~ 178.00KiB at    384.65B/s ETA Unknown (frag 1/128)"
     ]
    },
    {
     "name": "stderr",
     "output_type": "stream",
     "text": [
      "frame=  226 fps=0.3 q=-0.0 size=N/A time=00:03:44.00 bitrate=N/A dup=0 drop=5376 speed=0.249x    \r"
     ]
    },
    {
     "name": "stdout",
     "output_type": "stream",
     "text": [
      "[download]  82.4% of ~ 178.98MiB at    1.79MiB/s ETA 00:35 (frag 55/68)"
     ]
    },
    {
     "name": "stderr",
     "output_type": "stream",
     "text": [
      "frame=   55 fps=0.2 q=-0.0 size=N/A time=00:00:53.00 bitrate=N/A dup=0 drop=2620 speed=0.149x    \r"
     ]
    },
    {
     "name": "stdout",
     "output_type": "stream",
     "text": [
      "[download]  81.3% of ~ 183.55MiB at    2.09MiB/s ETA 00:29 (frag 56/68)  "
     ]
    },
    {
     "name": "stderr",
     "output_type": "stream",
     "text": [
      "frame=  229 fps=0.2 q=-0.0 size=N/A time=00:03:47.00 bitrate=N/A dup=0 drop=5447 speed=0.214x    \r"
     ]
    },
    {
     "name": "stdout",
     "output_type": "stream",
     "text": [
      "[download]   3.1% of ~  31.98MiB at  303.94KiB/s ETA 00:33 (frag 1/128)"
     ]
    },
    {
     "name": "stderr",
     "output_type": "stream",
     "text": [
      "frame=   55 fps=0.2 q=-0.0 size=N/A time=00:00:53.00 bitrate=N/A dup=0 drop=2624 speed=0.148x    \r"
     ]
    },
    {
     "name": "stdout",
     "output_type": "stream",
     "text": [
      "[download]   0.8% of ~ 223.42MiB at  632.33KiB/s ETA 00:57 (frag 2/128)"
     ]
    },
    {
     "name": "stderr",
     "output_type": "stream",
     "text": [
      "frame=  226 fps=0.3 q=-0.0 size=N/A time=00:03:44.00 bitrate=N/A dup=0 drop=5382 speed=0.248x    \r"
     ]
    },
    {
     "name": "stdout",
     "output_type": "stream",
     "text": [
      "[download]  83.8% of ~ 178.03MiB at    2.23MiB/s ETA 00:26 (frag 56/68)"
     ]
    },
    {
     "name": "stderr",
     "output_type": "stream",
     "text": [
      "frame=  229 fps=0.2 q=-0.0 size=N/A time=00:03:47.00 bitrate=N/A dup=0 drop=5452 speed=0.214x    \r"
     ]
    },
    {
     "name": "stdout",
     "output_type": "stream",
     "text": [
      "[download]  83.9% of ~ 178.16MiB at    2.24MiB/s ETA 00:22 (frag 56/68)"
     ]
    },
    {
     "name": "stderr",
     "output_type": "stream",
     "text": [
      "frame=  131 fps=0.2 q=-0.0 size=N/A time=00:02:09.00 bitrate=N/A dup=0 drop=3734 speed=0.189x    \r"
     ]
    },
    {
     "name": "stdout",
     "output_type": "stream",
     "text": [
      "[download]  84.0% of ~ 180.40MiB at    2.50MiB/s ETA 00:19 (frag 56/68)"
     ]
    },
    {
     "name": "stderr",
     "output_type": "stream",
     "text": [
      "frame=  131 fps=0.2 q=-0.0 size=N/A time=00:02:09.00 bitrate=N/A dup=0 drop=3738 speed=0.188x    \r"
     ]
    },
    {
     "name": "stdout",
     "output_type": "stream",
     "text": [
      "[download]   2.6% of ~  85.11MiB at  672.69KiB/s ETA 01:13 (frag 2/128)"
     ]
    },
    {
     "name": "stderr",
     "output_type": "stream",
     "text": [
      "frame=  150 fps=0.2 q=-0.0 size=N/A time=00:02:28.00 bitrate=N/A dup=0 drop=7266 speed=0.15x     \r"
     ]
    },
    {
     "name": "stdout",
     "output_type": "stream",
     "text": [
      "[download]  85.4% of ~ 178.01MiB at    1.89MiB/s ETA 00:17 (frag 57/68)"
     ]
    },
    {
     "name": "stderr",
     "output_type": "stream",
     "text": [
      "frame=   56 fps=0.2 q=-0.0 size=N/A time=00:00:54.00 bitrate=N/A dup=0 drop=2639 speed=0.151x    \r"
     ]
    },
    {
     "name": "stdout",
     "output_type": "stream",
     "text": [
      "[download]  85.9% of ~ 178.89MiB at    2.11MiB/s ETA 00:16 (frag 57/68)"
     ]
    },
    {
     "name": "stderr",
     "output_type": "stream",
     "text": [
      "frame=  229 fps=0.2 q=-0.0 size=N/A time=00:03:47.00 bitrate=N/A dup=0 drop=5459 speed=0.214x    \r"
     ]
    },
    {
     "name": "stdout",
     "output_type": "stream",
     "text": [
      "[download]   3.1% of ~  70.68MiB at  779.31KiB/s ETA 01:18 (frag 3/128)"
     ]
    },
    {
     "name": "stderr",
     "output_type": "stream",
     "text": [
      "frame=   56 fps=0.2 q=-0.0 size=N/A time=00:00:54.00 bitrate=N/A dup=0 drop=2644 speed=0.15x     \r"
     ]
    },
    {
     "name": "stdout",
     "output_type": "stream",
     "text": [
      "[download]   3.7% of ~  86.18MiB at  841.72KiB/s ETA 01:19 (frag 3/128)"
     ]
    },
    {
     "name": "stderr",
     "output_type": "stream",
     "text": [
      "frame=  227 fps=0.3 q=-0.0 size=N/A time=00:03:45.00 bitrate=N/A dup=0 drop=5400 speed=0.249x    \r"
     ]
    },
    {
     "name": "stdout",
     "output_type": "stream",
     "text": [
      "[download]  86.8% of ~ 177.70MiB at    2.19MiB/s ETA 00:15 (frag 58/68)"
     ]
    },
    {
     "name": "stderr",
     "output_type": "stream",
     "text": [
      "frame=  229 fps=0.2 q=-0.0 size=N/A time=00:03:47.00 bitrate=N/A dup=0 drop=5461 speed=0.214x    \r"
     ]
    },
    {
     "name": "stdout",
     "output_type": "stream",
     "text": [
      "[download]  86.9% of ~ 177.98MiB at    2.00MiB/s ETA 00:14 (frag 58/68)"
     ]
    },
    {
     "name": "stderr",
     "output_type": "stream",
     "text": [
      "frame=  227 fps=0.3 q=-0.0 size=N/A time=00:03:45.00 bitrate=N/A dup=0 drop=5405 speed=0.249x    \r"
     ]
    },
    {
     "name": "stdout",
     "output_type": "stream",
     "text": [
      "[download]  87.0% of ~ 180.00MiB at    2.33MiB/s ETA 00:13 (frag 58/68)"
     ]
    },
    {
     "name": "stderr",
     "output_type": "stream",
     "text": [
      "frame=  229 fps=0.2 q=-0.0 size=N/A time=00:03:47.00 bitrate=N/A dup=0 drop=5466 speed=0.213x    \r"
     ]
    },
    {
     "name": "stdout",
     "output_type": "stream",
     "text": [
      "[download]   4.0% of ~  93.00MiB at  926.66KiB/s ETA 01:29 (frag 4/128)"
     ]
    },
    {
     "name": "stderr",
     "output_type": "stream",
     "text": [
      "frame=  131 fps=0.2 q=-0.0 size=N/A time=00:02:09.00 bitrate=N/A dup=0 drop=3753 speed=0.188x    \r"
     ]
    },
    {
     "name": "stdout",
     "output_type": "stream",
     "text": [
      "[download]  88.3% of ~ 177.48MiB at    1.96MiB/s ETA 00:12 (frag 59/68)"
     ]
    },
    {
     "name": "stderr",
     "output_type": "stream",
     "text": [
      "frame=  227 fps=0.3 q=-0.0 size=N/A time=00:03:45.00 bitrate=N/A dup=0 drop=5417 speed=0.248x    \r"
     ]
    },
    {
     "name": "stdout",
     "output_type": "stream",
     "text": [
      "[download]  88.8% of ~ 178.54MiB at    2.12MiB/s ETA 00:11 (frag 59/68)"
     ]
    },
    {
     "name": "stderr",
     "output_type": "stream",
     "text": [
      "frame=  151 fps=0.2 q=-0.0 size=N/A time=00:02:29.00 bitrate=N/A dup=0 drop=7295 speed=0.15x     \r"
     ]
    },
    {
     "name": "stdout",
     "output_type": "stream",
     "text": [
      "[download]  86.6% of ~ 184.34MiB at    2.43MiB/s ETA 00:11 (frag 60/68)"
     ]
    },
    {
     "name": "stderr",
     "output_type": "stream",
     "text": [
      "frame=  228 fps=0.3 q=-0.0 size=N/A time=00:03:46.00 bitrate=N/A dup=0 drop=5420 speed=0.249x    \r"
     ]
    },
    {
     "name": "stdout",
     "output_type": "stream",
     "text": [
      "[download]   4.7% of ~  93.98MiB at  883.90KiB/s ETA 01:38 (frag 5/128)"
     ]
    },
    {
     "name": "stderr",
     "output_type": "stream",
     "text": [
      "frame=  151 fps=0.2 q=-0.0 size=N/A time=00:02:29.00 bitrate=N/A dup=0 drop=7301 speed=0.15x    \r"
     ]
    },
    {
     "name": "stdout",
     "output_type": "stream",
     "text": [
      "[download]  89.8% of ~ 178.05MiB at    2.22MiB/s ETA 00:10 (frag 60/68)"
     ]
    },
    {
     "name": "stderr",
     "output_type": "stream",
     "text": [
      "frame=  182 fps=0.2 q=-0.0 size=N/A time=00:03:00.00 bitrate=N/A dup=0 drop=5220 speed=0.226x    \r"
     ]
    },
    {
     "name": "stdout",
     "output_type": "stream",
     "text": [
      "[download]  90.5% of ~ 180.14MiB at    2.48MiB/s ETA 00:09 (frag 60/68)"
     ]
    },
    {
     "name": "stderr",
     "output_type": "stream",
     "text": [
      "frame=  228 fps=0.3 q=-0.0 size=N/A time=00:03:46.00 bitrate=N/A dup=0 drop=5429 speed=0.249x    \r"
     ]
    },
    {
     "name": "stdout",
     "output_type": "stream",
     "text": [
      "[download]   3.2% of ~ 272.13MiB at    1.60MiB/s ETA 01:49 (frag 6/128)"
     ]
    },
    {
     "name": "stderr",
     "output_type": "stream",
     "text": [
      "frame=  151 fps=0.2 q=-0.0 size=N/A time=00:02:29.00 bitrate=N/A dup=0 drop=7313 speed=0.15x     \r"
     ]
    },
    {
     "name": "stdout",
     "output_type": "stream",
     "text": [
      "[download]  91.2% of ~ 178.72MiB at    2.55MiB/s ETA 00:09 (frag 61/68)Deleting original file ./dataset_splited/OiDgFekE2ak/video_480p.f251.webm (pass -k to keep)\n",
      "[download]  91.2% of ~ 178.73MiB at    2.51MiB/s ETA 00:08 (frag 61/68)Deleting original file ./dataset_splited/OiDgFekE2ak/video_480p.f244.webm (pass -k to keep)\n",
      "[download]  91.2% of ~ 178.86MiB at    2.43MiB/s ETA 00:08 (frag 61/68)"
     ]
    },
    {
     "name": "stderr",
     "output_type": "stream",
     "text": [
      "frame=  182 fps=0.2 q=-0.0 size=N/A time=00:03:00.00 bitrate=N/A dup=0 drop=5230 speed=0.225x    \r"
     ]
    },
    {
     "name": "stdout",
     "output_type": "stream",
     "text": [
      "[download]  92.2% of ~ 180.92MiB at    2.83MiB/s ETA 00:07 (frag 61/68)"
     ]
    },
    {
     "name": "stderr",
     "output_type": "stream",
     "text": [
      "frame=   57 fps=0.2 q=-0.0 size=N/A time=00:00:55.00 bitrate=N/A dup=0 drop=2690 speed=0.151x    \r"
     ]
    },
    {
     "name": "stdout",
     "output_type": "stream",
     "text": [
      "[download]   5.8% of ~ 165.97MiB at    1.92MiB/s ETA 01:37 (frag 6/128)"
     ]
    },
    {
     "name": "stderr",
     "output_type": "stream",
     "text": [
      "frame=  151 fps=0.2 q=-0.0 size=N/A time=00:02:29.00 bitrate=N/A dup=0 drop=7327 speed=0.15x     \r"
     ]
    },
    {
     "name": "stdout",
     "output_type": "stream",
     "text": [
      "[download]   4.5% of ~ 242.39MiB at    2.29MiB/s ETA 01:32 (frag 7/128)"
     ]
    },
    {
     "name": "stderr",
     "output_type": "stream",
     "text": [
      "frame=  230 fps=0.2 q=-0.0 size=N/A time=00:03:48.00 bitrate=N/A dup=0 drop=5490 speed=0.213x    \r"
     ]
    },
    {
     "name": "stdout",
     "output_type": "stream",
     "text": [
      "[download]  92.7% of ~ 180.13MiB at    2.73MiB/s ETA 00:07 (frag 62/68)"
     ]
    },
    {
     "name": "stderr",
     "output_type": "stream",
     "text": [
      "frame=  229 fps=0.3 q=-0.0 size=N/A time=00:03:47.00 bitrate=N/A dup=0 drop=5448 speed=0.25x     \r"
     ]
    },
    {
     "name": "stdout",
     "output_type": "stream",
     "text": [
      "[download]  92.9% of ~ 180.64MiB at    2.63MiB/s ETA 00:06 (frag 62/68)"
     ]
    },
    {
     "name": "stderr",
     "output_type": "stream",
     "text": [
      "frame=   57 fps=0.2 q=-0.0 size=N/A time=00:00:55.00 bitrate=N/A dup=0 drop=2703 speed=0.151x    \r"
     ]
    },
    {
     "name": "stdout",
     "output_type": "stream",
     "text": [
      "[download]  93.5% of ~ 182.26MiB at    2.81MiB/s ETA 00:06 (frag 62/68)"
     ]
    },
    {
     "name": "stderr",
     "output_type": "stream",
     "text": [
      "frame=  183 fps=0.2 q=-0.0 size=N/A time=00:03:01.00 bitrate=N/A dup=0 drop=5248 speed=0.226x    \r"
     ]
    },
    {
     "name": "stdout",
     "output_type": "stream",
     "text": [
      "[download]   6.3% of ~ 174.90MiB at    1.86MiB/s ETA 01:42 (frag 7/128)"
     ]
    },
    {
     "name": "stderr",
     "output_type": "stream",
     "text": [
      "frame=   57 fps=0.2 q=-0.0 size=N/A time=00:00:55.00 bitrate=N/A dup=0 drop=2709 speed=0.15x     \r"
     ]
    },
    {
     "name": "stdout",
     "output_type": "stream",
     "text": [
      "[download]  94.1% of ~ 181.10MiB at    2.75MiB/s ETA 00:05 (frag 63/68)"
     ]
    },
    {
     "name": "stderr",
     "output_type": "stream",
     "text": [
      "frame=  152 fps=0.2 q=-0.0 size=N/A time=00:02:30.00 bitrate=N/A dup=0 drop=7343 speed=0.15x     \r"
     ]
    },
    {
     "name": "stdout",
     "output_type": "stream",
     "text": [
      "[download]   5.3% of ~ 256.70MiB at    1.82MiB/s ETA 01:57 (frag 8/128)"
     ]
    },
    {
     "name": "stderr",
     "output_type": "stream",
     "text": [
      "ffmpeg version 4.2.7-0ubuntu0.1 Copyright (c) 2000-2022 the FFmpeg developers715 speed=0.15x     \n",
      "  built with gcc 9 (Ubuntu 9.4.0-1ubuntu1~20.04.1)00 bitrate=N/A dup=0 drop=5259 speed=0.226x    \n",
      "  configuration: --prefix=/usr --extra-version=0ubuntu0.1 --toolchain=hardened --libdir=/usr/lib/x86_64-linux-gnu --incdir=/usr/include/x86_64-linux-gnu --arch=amd64 --enable-gpl --disable-stripping --enable-avresample --disable-filter=resample --enable-avisynth --enable-gnutls --enable-ladspa --enable-libaom --enable-libass --enable-libbluray --enable-libbs2b --enable-libcaca --enable-libcdio --enable-libcodec2 --enable-libflite --enable-libfontconfig --enable-libfreetype --enable-libfribidi --enable-libgme --enable-libgsm --enable-libjack --enable-libmp3lame --enable-libmysofa --enable-libopenjpeg --enable-libopenmpt --enable-libopus --enable-libpulse --enable-librsvg --enable-librubberband --enable-libshine --enable-libsnappy --enable-libsoxr --enable-libspeex --enable-libssh --enable-libtheora --enable-libtwolame --enable-libvidstab --enable-libvorbis --enable-libvpx --enable-libwavpack --enable-libwebp --enable-libx265 --enable-libxml2 --enable-libxvid --enable-libzmq --enable-libzvbi --enable-lv2 --enable-omx --enable-openal --enable-opencl --enable-opengl --enable-sdl2 --enable-libdc1394 --enable-libdrm --enable-libiec61883 --enable-nvenc --enable-chromaprint --enable-frei0r --enable-libx264 --enable-shared\n",
      "  libavutil      56. 31.100 / 56. 31.100\n",
      "  libavcodec     58. 54.100 / 58. 54.100\n",
      "  libavformat    58. 29.100 / 58. 29.100\n",
      "  libavdevice    58.  8.100 / 58.  8.100\n",
      "  libavfilter     7. 57.100 /  7. 57.100\n",
      "  libavresample   4.  0.  0 /  4.  0.  0\n",
      "  libswscale      5.  5.100 /  5.  5.100\n",
      "  libswresample   3.  5.100 /  3.  5.100\n",
      "  libpostproc    55.  5.100 / 55.  5.100\n"
     ]
    },
    {
     "name": "stdout",
     "output_type": "stream",
     "text": [
      "[download]  92.2% of ~ 188.88MiB at    3.09MiB/s ETA 00:05 (frag 64/68)"
     ]
    },
    {
     "name": "stderr",
     "output_type": "stream",
     "text": [
      "Input #0, matroska,webm, from './dataset_splited/OiDgFekE2ak/video_480p.webm':\n",
      "  Metadata:\n",
      "    ENCODER         : Lavf58.29.100\n",
      "  Duration: 00:11:32.26, start: -0.007000, bitrate: 429 kb/s\n",
      "    Stream #0:0(eng): Video: vp9 (Profile 0), yuv420p(tv, bt709), 854x480, SAR 1:1 DAR 427:240, 25 fps, 25 tbr, 1k tbn, 1k tbc (default)\n",
      "    Metadata:\n",
      "      DURATION        : 00:11:32.240000000\n",
      "    Stream #0:1(eng): Audio: opus, 48000 Hz, stereo, fltp (default)\n",
      "    Metadata:\n",
      "      DURATION        : 00:11:32.261000000\n",
      "Stream mapping:\n",
      "  Stream #0:0 -> #0:0 (vp9 (native) -> png (native))\n",
      "Press [q] to stop, [?] for help\n",
      "Output #0, image2, to './dataset_splited/OiDgFekE2ak/frames_480p/frame-%04d.png':speed=0.214x    \n",
      "  Metadata:\n",
      "    encoder         : Lavf58.29.100\n",
      "    Stream #0:0(eng): Video: png, rgb24, 854x480 [SAR 1:1 DAR 427:240], q=2-31, 200 kb/s, 1 fps, 1 tbn, 1 tbc (default)\n",
      "    Metadata:\n",
      "      DURATION        : 00:11:32.240000000\n",
      "      encoder         : Lavc58.54.100 png\n"
     ]
    },
    {
     "name": "stdout",
     "output_type": "stream",
     "text": [
      "[download]  95.6% of ~ 182.14MiB at    2.91MiB/s ETA 00:04 (frag 64/68)"
     ]
    },
    {
     "name": "stderr",
     "output_type": "stream",
     "text": [
      "frame=  229 fps=0.3 q=-0.0 size=N/A time=00:03:47.00 bitrate=N/A dup=0 drop=5461 speed=0.249x    \r"
     ]
    },
    {
     "name": "stdout",
     "output_type": "stream",
     "text": [
      "[download]   7.1% of ~ 192.59MiB at    1.63MiB/s ETA 01:58 (frag 8/128)"
     ]
    },
    {
     "name": "stderr",
     "output_type": "stream",
     "text": [
      "frame=  231 fps=0.2 q=-0.0 size=N/A time=00:03:49.00 bitrate=N/A dup=0 drop=5508 speed=0.214x    \r"
     ]
    },
    {
     "name": "stdout",
     "output_type": "stream",
     "text": [
      "[download]  94.3% of ~ 187.27MiB at    3.34MiB/s ETA 00:03 (frag 65/68)"
     ]
    },
    {
     "name": "stderr",
     "output_type": "stream",
     "text": [
      "frame=  229 fps=0.3 q=-0.0 size=N/A time=00:03:47.00 bitrate=N/A dup=0 drop=5467 speed=0.249x    \r"
     ]
    },
    {
     "name": "stdout",
     "output_type": "stream",
     "text": [
      "[download]  97.1% of ~ 181.92MiB at    3.33MiB/s ETA 00:03 (frag 65/68)"
     ]
    },
    {
     "name": "stderr",
     "output_type": "stream",
     "text": [
      "frame=  231 fps=0.2 q=-0.0 size=N/A time=00:03:49.00 bitrate=N/A dup=0 drop=5514 speed=0.214x    \r"
     ]
    },
    {
     "name": "stdout",
     "output_type": "stream",
     "text": [
      "[download]  97.6% of ~ 182.94MiB at    3.33MiB/s ETA 00:02 (frag 65/68)"
     ]
    },
    {
     "name": "stderr",
     "output_type": "stream",
     "text": [
      "frame=  184 fps=0.2 q=-0.0 size=N/A time=00:03:02.00 bitrate=N/A dup=0 drop=5275 speed=0.227x    \r"
     ]
    },
    {
     "name": "stdout",
     "output_type": "stream",
     "text": [
      "[download]   8.1% of ~ 199.94MiB at    1.59MiB/s ETA 02:03 (frag 9/128)"
     ]
    },
    {
     "name": "stderr",
     "output_type": "stream",
     "text": [
      "frame=  152 fps=0.2 q=-0.0 size=N/A time=00:02:30.00 bitrate=N/A dup=0 drop=7367 speed=0.15x    \r"
     ]
    },
    {
     "name": "stdout",
     "output_type": "stream",
     "text": [
      "[download]   7.3% of ~ 222.52MiB at    1.69MiB/s ETA 02:01 (frag 10/128)"
     ]
    },
    {
     "name": "stderr",
     "output_type": "stream",
     "text": [
      "frame=  184 fps=0.2 q=-0.0 size=N/A time=00:03:02.00 bitrate=N/A dup=0 drop=5279 speed=0.226x    \r"
     ]
    },
    {
     "name": "stdout",
     "output_type": "stream",
     "text": [
      "[download]  98.7% of ~ 182.17MiB at    3.10MiB/s ETA 00:02 (frag 66/68)"
     ]
    },
    {
     "name": "stderr",
     "output_type": "stream",
     "text": [
      "frame=  133 fps=0.2 q=-0.0 size=N/A time=00:02:11.00 bitrate=N/A dup=0 drop=3810 speed=0.188x    \r"
     ]
    },
    {
     "name": "stdout",
     "output_type": "stream",
     "text": [
      "[download]  98.9% of ~ 183.95MiB at    3.15MiB/s ETA 00:01 (frag 66/68)"
     ]
    },
    {
     "name": "stderr",
     "output_type": "stream",
     "text": [
      "frame=  184 fps=0.2 q=-0.0 size=N/A time=00:03:02.00 bitrate=N/A dup=0 drop=5285 speed=0.226x    \r"
     ]
    },
    {
     "name": "stdout",
     "output_type": "stream",
     "text": [
      "[download]  97.1% of ~ 187.20MiB at    3.02MiB/s ETA 00:01 (frag 67/68)"
     ]
    },
    {
     "name": "stderr",
     "output_type": "stream",
     "text": [
      "frame=    6 fps=2.1 q=-0.0 size=N/A time=00:00:04.00 bitrate=N/A dup=0 drop=97 speed=1.38x       \r"
     ]
    },
    {
     "name": "stdout",
     "output_type": "stream",
     "text": [
      "[download] 100.0% of ~ 181.85MiB at    2.94MiB/s ETA 00:01 (frag 67/68))"
     ]
    },
    {
     "name": "stderr",
     "output_type": "stream",
     "text": [
      "frame=  152 fps=0.2 q=-0.0 size=N/A time=00:02:30.00 bitrate=N/A dup=0 drop=7379 speed=0.15x     \r"
     ]
    },
    {
     "name": "stdout",
     "output_type": "stream",
     "text": [
      "[download]   9.2% of ~ 212.39MiB at    1.60MiB/s ETA 02:05 (frag 10/128)"
     ]
    },
    {
     "name": "stderr",
     "output_type": "stream",
     "text": [
      "frame=  134 fps=0.2 q=-0.0 size=N/A time=00:02:12.00 bitrate=N/A dup=0 drop=3819 speed=0.189x    \r"
     ]
    },
    {
     "name": "stdout",
     "output_type": "stream",
     "text": [
      "[download]  98.9% of ~ 186.09MiB at    2.87MiB/s ETA 00:01 (frag 68/68))"
     ]
    },
    {
     "name": "stderr",
     "output_type": "stream",
     "text": [
      "frame=    8 fps=2.0 q=-0.0 size=N/A time=00:00:06.00 bitrate=N/A dup=0 drop=148 speed=1.47x      \r"
     ]
    },
    {
     "name": "stdout",
     "output_type": "stream",
     "text": [
      "[download] 100.0% of ~ 184.97MiB at    2.62MiB/s ETA 00:00 (frag 68/68)"
     ]
    },
    {
     "name": "stderr",
     "output_type": "stream",
     "text": [
      "frame=  153 fps=0.2 q=-0.0 size=N/A time=00:02:31.00 bitrate=N/A dup=0 drop=7392 speed=0.151x    \r"
     ]
    },
    {
     "name": "stdout",
     "output_type": "stream",
     "text": [
      "[download] 100.0% of ~ 186.78MiB at    2.59MiB/s ETA 00:00 (frag 68/68)"
     ]
    },
    {
     "name": "stderr",
     "output_type": "stream",
     "text": [
      "frame=    9 fps=2.0 q=-0.0 size=N/A time=00:00:07.00 bitrate=N/A dup=0 drop=173 speed=1.52x      \r"
     ]
    },
    {
     "name": "stdout",
     "output_type": "stream",
     "text": [
      "[download]   9.6% of ~ 214.01MiB at    1.45MiB/s ETA 02:10 (frag 11/128)"
     ]
    },
    {
     "name": "stderr",
     "output_type": "stream",
     "text": [
      "frame=  185 fps=0.2 q=-0.0 size=N/A time=00:03:03.00 bitrate=N/A dup=0 drop=5309 speed=0.227x    \r"
     ]
    },
    {
     "name": "stdout",
     "output_type": "stream",
     "text": [
      "[download] 100% of  186.78MiB in 00:01:41 at 1.84MiB/s                 \n",
      "[download]   9.8% of ~ 230.01MiB at    2.08MiB/s ETA 01:59 (frag 11/128)[download] Destination: ./dataset_splited/AaCGGopQOJ0/video_1080p.f251.webm\n",
      "[download]   0.1% of    5.55MiB at  347.63KiB/s ETA 00:16"
     ]
    },
    {
     "name": "stderr",
     "output_type": "stream",
     "text": [
      "frame=   58 fps=0.2 q=-0.0 size=N/A time=00:00:56.00 bitrate=N/A dup=0 drop=2770 speed=0.151x    \r"
     ]
    },
    {
     "name": "stdout",
     "output_type": "stream",
     "text": [
      "[download]  18.0% of    5.55MiB at    4.83MiB/s ETA 00:007 (frag 12/128)"
     ]
    },
    {
     "name": "stderr",
     "output_type": "stream",
     "text": [
      "frame=  134 fps=0.2 q=-0.0 size=N/A time=00:02:12.00 bitrate=N/A dup=0 drop=3831 speed=0.189x    \r"
     ]
    },
    {
     "name": "stdout",
     "output_type": "stream",
     "text": [
      "[download]  72.1% of    5.55MiB at    9.61MiB/s ETA 00:00"
     ]
    },
    {
     "name": "stderr",
     "output_type": "stream",
     "text": [
      "frame=   58 fps=0.2 q=-0.0 size=N/A time=00:00:56.00 bitrate=N/A dup=0 drop=2776 speed=0.15x     \r"
     ]
    },
    {
     "name": "stdout",
     "output_type": "stream",
     "text": [
      "[download] 100% of    5.55MiB in 00:00:00 at 6.41MiB/s   \n"
     ]
    },
    {
     "name": "stderr",
     "output_type": "stream",
     "text": [
      "frame=  153 fps=0.2 q=-0.0 size=N/A time=00:02:31.00 bitrate=N/A dup=0 drop=7414 speed=0.15x     \r"
     ]
    },
    {
     "name": "stdout",
     "output_type": "stream",
     "text": [
      "[Merger] Merging formats into \"./dataset_splited/AaCGGopQOJ0/video_1080p.webm\"\n",
      "[download]  10.2% of ~ 222.36MiB at    1.64MiB/s ETA 02:11 (frag 12/128)"
     ]
    },
    {
     "name": "stderr",
     "output_type": "stream",
     "text": [
      "frame=   58 fps=0.2 q=-0.0 size=N/A time=00:00:56.00 bitrate=N/A dup=0 drop=2781 speed=0.15x    \r"
     ]
    },
    {
     "name": "stdout",
     "output_type": "stream",
     "text": [
      "[download]  10.4% of ~ 226.67MiB at    1.73MiB/s ETA 02:07 (frag 12/128)"
     ]
    },
    {
     "name": "stderr",
     "output_type": "stream",
     "text": [
      "frame=   14 fps=2.1 q=-0.0 size=N/A time=00:00:12.00 bitrate=N/A dup=0 drop=284 speed=1.79x      \r"
     ]
    },
    {
     "name": "stdout",
     "output_type": "stream",
     "text": [
      "[download]  10.6% of ~ 231.59MiB at    1.90MiB/s ETA 02:03 (frag 12/128)"
     ]
    },
    {
     "name": "stderr",
     "output_type": "stream",
     "text": [
      "frame=  153 fps=0.2 q=-0.0 size=N/A time=00:02:31.00 bitrate=N/A dup=0 drop=7423 speed=0.15x     \r"
     ]
    },
    {
     "name": "stdout",
     "output_type": "stream",
     "text": [
      "[download]   9.3% of ~ 269.85MiB at    2.08MiB/s ETA 01:59 (frag 13/128)"
     ]
    },
    {
     "name": "stderr",
     "output_type": "stream",
     "text": [
      "frame=  231 fps=0.3 q=-0.0 size=N/A time=00:03:49.00 bitrate=N/A dup=0 drop=5507 speed=0.249x    \r"
     ]
    },
    {
     "name": "stdout",
     "output_type": "stream",
     "text": [
      "[download]  11.0% of ~ 228.81MiB at    1.70MiB/s ETA 02:06 (frag 13/128)"
     ]
    },
    {
     "name": "stderr",
     "output_type": "stream",
     "text": [
      "frame=  153 fps=0.2 q=-0.0 size=N/A time=00:02:31.00 bitrate=N/A dup=0 drop=7438 speed=0.15x     \r"
     ]
    },
    {
     "name": "stdout",
     "output_type": "stream",
     "text": [
      "[download]  11.3% of ~ 237.38MiB at    1.44MiB/s ETA 02:15 (frag 13/128)"
     ]
    },
    {
     "name": "stderr",
     "output_type": "stream",
     "text": [
      "frame=  186 fps=0.2 q=-0.0 size=N/A time=00:03:04.00 bitrate=N/A dup=0 drop=5345 speed=0.227x    \r"
     ]
    },
    {
     "name": "stdout",
     "output_type": "stream",
     "text": [
      "[download]  10.2% of ~ 261.51MiB at    1.64MiB/s ETA 02:13 (frag 14/128)"
     ]
    },
    {
     "name": "stderr",
     "output_type": "stream",
     "text": [
      "frame=  135 fps=0.2 q=-0.0 size=N/A time=00:02:13.00 bitrate=N/A dup=0 drop=3859 speed=0.189x    \r"
     ]
    },
    {
     "name": "stdout",
     "output_type": "stream",
     "text": [
      "[download]  11.7% of ~ 228.61MiB at    1.61MiB/s ETA 02:13 (frag 14/128)"
     ]
    },
    {
     "name": "stderr",
     "output_type": "stream",
     "text": [
      "frame=   59 fps=0.2 q=-0.0 size=N/A time=00:00:57.00 bitrate=N/A dup=0 drop=2813 speed=0.152x    \r"
     ]
    },
    {
     "name": "stdout",
     "output_type": "stream",
     "text": [
      "[download]  11.9% of ~ 232.81MiB at    1.56MiB/s ETA 02:13 (frag 14/128)"
     ]
    },
    {
     "name": "stderr",
     "output_type": "stream",
     "text": [
      "frame=  135 fps=0.2 q=-0.0 size=N/A time=00:02:13.00 bitrate=N/A dup=0 drop=3863 speed=0.189x    \r"
     ]
    },
    {
     "name": "stdout",
     "output_type": "stream",
     "text": [
      "[download]  10.9% of ~ 263.72MiB at    1.74MiB/s ETA 02:10 (frag 15/128)"
     ]
    },
    {
     "name": "stderr",
     "output_type": "stream",
     "text": [
      "frame=  187 fps=0.2 q=-0.0 size=N/A time=00:03:05.00 bitrate=N/A dup=0 drop=5355 speed=0.228x    \r"
     ]
    },
    {
     "name": "stdout",
     "output_type": "stream",
     "text": [
      "[download]  12.5% of ~ 230.81MiB at    1.68MiB/s ETA 02:09 (frag 15/128)"
     ]
    },
    {
     "name": "stderr",
     "output_type": "stream",
     "text": [
      "frame=  232 fps=0.3 q=-0.0 size=N/A time=00:03:50.00 bitrate=N/A dup=0 drop=5527 speed=0.249x    \r"
     ]
    },
    {
     "name": "stdout",
     "output_type": "stream",
     "text": [
      "[download]  12.6% of ~ 232.74MiB at    1.60MiB/s ETA 02:10 (frag 15/128)"
     ]
    },
    {
     "name": "stderr",
     "output_type": "stream",
     "text": [
      "frame=  234 fps=0.2 q=-0.0 size=N/A time=00:03:52.00 bitrate=N/A dup=0 drop=5577 speed=0.215x    \r"
     ]
    },
    {
     "name": "stdout",
     "output_type": "stream",
     "text": [
      "[download]  11.9% of ~ 254.98MiB at    1.73MiB/s ETA 02:07 (frag 16/128)"
     ]
    },
    {
     "name": "stderr",
     "output_type": "stream",
     "text": [
      "frame=  232 fps=0.3 q=-0.0 size=N/A time=00:03:50.00 bitrate=N/A dup=0 drop=5530 speed=0.249x    \r"
     ]
    },
    {
     "name": "stdout",
     "output_type": "stream",
     "text": [
      "[download]  13.3% of ~ 228.69MiB at    1.59MiB/s ETA 02:09 (frag 16/128)"
     ]
    },
    {
     "name": "stderr",
     "output_type": "stream",
     "text": [
      "frame=  154 fps=0.2 q=-0.0 size=N/A time=00:02:32.00 bitrate=N/A dup=0 drop=7476 speed=0.151x    \r"
     ]
    },
    {
     "name": "stdout",
     "output_type": "stream",
     "text": [
      "[download]  12.7% of ~ 250.48MiB at    1.64MiB/s ETA 02:08 (frag 17/128)"
     ]
    },
    {
     "name": "stderr",
     "output_type": "stream",
     "text": [
      "frame=  233 fps=0.3 q=-0.0 size=N/A time=00:03:51.00 bitrate=N/A dup=0 drop=5540 speed=0.25x     \r"
     ]
    },
    {
     "name": "stdout",
     "output_type": "stream",
     "text": [
      "[download]  14.1% of ~ 226.33MiB at    1.36MiB/s ETA 02:17 (frag 17/128)"
     ]
    },
    {
     "name": "stderr",
     "output_type": "stream",
     "text": [
      "frame=  235 fps=0.2 q=-0.0 size=N/A time=00:03:53.00 bitrate=N/A dup=0 drop=5598 speed=0.215x    \r"
     ]
    },
    {
     "name": "stdout",
     "output_type": "stream",
     "text": [
      "[download]  14.5% of ~ 233.33MiB at    1.40MiB/s ETA 02:22 (frag 17/128)"
     ]
    },
    {
     "name": "stderr",
     "output_type": "stream",
     "text": [
      "frame=   60 fps=0.2 q=-0.0 size=N/A time=00:00:58.00 bitrate=N/A dup=0 drop=2854 speed=0.153x    \r"
     ]
    },
    {
     "name": "stdout",
     "output_type": "stream",
     "text": [
      "[download]  13.1% of ~ 261.39MiB at    1.56MiB/s ETA 02:19 (frag 18/128)"
     ]
    },
    {
     "name": "stderr",
     "output_type": "stream",
     "text": [
      "frame=  155 fps=0.2 q=-0.0 size=N/A time=00:02:33.00 bitrate=N/A dup=0 drop=7502 speed=0.151x    \r"
     ]
    },
    {
     "name": "stdout",
     "output_type": "stream",
     "text": [
      "[download]  14.9% of ~ 231.07MiB at    1.46MiB/s ETA 02:21 (frag 18/128)"
     ]
    },
    {
     "name": "stderr",
     "output_type": "stream",
     "text": [
      "frame=  188 fps=0.2 q=-0.0 size=N/A time=00:03:06.00 bitrate=N/A dup=0 drop=5403 speed=0.228x    \r"
     ]
    },
    {
     "name": "stdout",
     "output_type": "stream",
     "text": [
      "[download]  15.5% of ~ 244.44MiB at    1.92MiB/s ETA 02:20 (frag 18/128)"
     ]
    },
    {
     "name": "stderr",
     "output_type": "stream",
     "text": [
      "frame=  236 fps=0.2 q=-0.0 size=N/A time=00:03:54.00 bitrate=N/A dup=0 drop=5613 speed=0.216x    \r"
     ]
    },
    {
     "name": "stdout",
     "output_type": "stream",
     "text": [
      "[download]  13.5% of ~ 280.72MiB at    2.16MiB/s ETA 02:15 (frag 19/128)"
     ]
    },
    {
     "name": "stderr",
     "output_type": "stream",
     "text": [
      "frame=  155 fps=0.2 q=-0.0 size=N/A time=00:02:33.00 bitrate=N/A dup=0 drop=7520 speed=0.151x    \r"
     ]
    },
    {
     "name": "stdout",
     "output_type": "stream",
     "text": [
      "[download]  15.7% of ~ 243.45MiB at    1.60MiB/s ETA 02:21 (frag 19/128)"
     ]
    },
    {
     "name": "stderr",
     "output_type": "stream",
     "text": [
      "frame=  234 fps=0.3 q=-0.0 size=N/A time=00:03:52.00 bitrate=N/A dup=0 drop=5571 speed=0.25x     \r"
     ]
    },
    {
     "name": "stdout",
     "output_type": "stream",
     "text": [
      "[download]  16.0% of ~ 249.45MiB at    2.10MiB/s ETA 02:07 (frag 19/128)"
     ]
    },
    {
     "name": "stderr",
     "output_type": "stream",
     "text": [
      "frame=  155 fps=0.2 q=-0.0 size=N/A time=00:02:33.00 bitrate=N/A dup=0 drop=7525 speed=0.151x    \r"
     ]
    },
    {
     "name": "stdout",
     "output_type": "stream",
     "text": [
      "[download]  14.9% of ~ 267.92MiB at    2.21MiB/s ETA 02:04 (frag 20/128)"
     ]
    },
    {
     "name": "stderr",
     "output_type": "stream",
     "text": [
      "frame=   61 fps=0.2 q=-0.0 size=N/A time=00:00:59.00 bitrate=N/A dup=0 drop=2895 speed=0.153x    \r"
     ]
    },
    {
     "name": "stdout",
     "output_type": "stream",
     "text": [
      "[download]  16.5% of ~ 244.08MiB at    1.46MiB/s ETA 02:24 (frag 20/128)"
     ]
    },
    {
     "name": "stderr",
     "output_type": "stream",
     "text": [
      "frame=  235 fps=0.3 q=-0.0 size=N/A time=00:03:53.00 bitrate=N/A dup=0 drop=5588 speed=0.251x    \r"
     ]
    },
    {
     "name": "stdout",
     "output_type": "stream",
     "text": [
      "[download]  16.6% of ~ 255.51MiB at    1.53MiB/s ETA 02:30 (frag 20/128)"
     ]
    },
    {
     "name": "stderr",
     "output_type": "stream",
     "text": [
      "frame=  156 fps=0.2 q=-0.0 size=N/A time=00:02:34.00 bitrate=N/A dup=0 drop=7539 speed=0.151x    \r"
     ]
    },
    {
     "name": "stdout",
     "output_type": "stream",
     "text": [
      "[download]  15.5% of ~ 272.95MiB at    1.68MiB/s ETA 02:26 (frag 21/128)"
     ]
    },
    {
     "name": "stderr",
     "output_type": "stream",
     "text": [
      "frame=  156 fps=0.2 q=-0.0 size=N/A time=00:02:34.00 bitrate=N/A dup=0 drop=7552 speed=0.151x    \r"
     ]
    },
    {
     "name": "stdout",
     "output_type": "stream",
     "text": [
      "[download]  17.2% of ~ 246.58MiB at    1.25MiB/s ETA 02:44 (frag 21/128)"
     ]
    },
    {
     "name": "stderr",
     "output_type": "stream",
     "text": [
      "frame=  190 fps=0.2 q=-0.0 size=N/A time=00:03:08.00 bitrate=N/A dup=0 drop=5454 speed=0.229x    \r"
     ]
    },
    {
     "name": "stdout",
     "output_type": "stream",
     "text": [
      "[download]  17.6% of ~ 252.21MiB at    1.45MiB/s ETA 02:42 (frag 21/128)"
     ]
    },
    {
     "name": "stderr",
     "output_type": "stream",
     "text": [
      "frame=   37 fps=1.8 q=-0.0 size=N/A time=00:00:35.00 bitrate=N/A dup=0 drop=836 speed=1.73x      \r"
     ]
    },
    {
     "name": "stdout",
     "output_type": "stream",
     "text": [
      "[download]  16.2% of ~ 279.85MiB at    1.81MiB/s ETA 02:31 (frag 22/128)"
     ]
    },
    {
     "name": "stderr",
     "output_type": "stream",
     "text": [
      "frame=  190 fps=0.2 q=-0.0 size=N/A time=00:03:08.00 bitrate=N/A dup=0 drop=5458 speed=0.229x    \r"
     ]
    },
    {
     "name": "stdout",
     "output_type": "stream",
     "text": [
      "Deleting original file ./dataset_splited/AaCGGopQOJ0/video_1080p.f251.webm (pass -k to keep)\n",
      "Deleting original file ./dataset_splited/AaCGGopQOJ0/video_1080p.f616.mp4 (pass -k to keep)\n"
     ]
    },
    {
     "name": "stderr",
     "output_type": "stream",
     "text": [
      "frame=   39 fps=1.8 q=-0.0 size=N/A time=00:00:37.00 bitrate=N/A dup=0 drop=884 speed=1.74x      \r"
     ]
    },
    {
     "name": "stdout",
     "output_type": "stream",
     "text": [
      "[download]  18.0% of ~ 251.77MiB at    1.56MiB/s ETA 02:37 (frag 22/128)"
     ]
    },
    {
     "name": "stderr",
     "output_type": "stream",
     "text": [
      "frame=  138 fps=0.2 q=-0.0 size=N/A time=00:02:16.00 bitrate=N/A dup=0 drop=3947 speed=0.19x     \r"
     ]
    },
    {
     "name": "stdout",
     "output_type": "stream",
     "text": [
      "[download]  18.2% of ~ 254.46MiB at    1.65MiB/s ETA 02:30 (frag 22/128)"
     ]
    },
    {
     "name": "stderr",
     "output_type": "stream",
     "text": [
      "frame=   40 fps=1.8 q=-0.0 size=N/A time=00:00:38.00 bitrate=N/A dup=0 drop=908 speed=1.74x      \r"
     ]
    },
    {
     "name": "stdout",
     "output_type": "stream",
     "text": [
      "[download]  17.3% of ~ 270.53MiB at    1.92MiB/s ETA 02:20 (frag 23/128)"
     ]
    },
    {
     "name": "stderr",
     "output_type": "stream",
     "text": [
      "frame=  236 fps=0.3 q=-0.0 size=N/A time=00:03:54.00 bitrate=N/A dup=0 drop=5629 speed=0.251x    \r"
     ]
    },
    {
     "name": "stdout",
     "output_type": "stream",
     "text": [
      "[download]  18.8% of ~ 250.25MiB at    1.79MiB/s ETA 02:20 (frag 23/128)"
     ]
    },
    {
     "name": "stderr",
     "output_type": "stream",
     "text": [
      "frame=   42 fps=1.8 q=-0.0 size=N/A time=00:00:40.00 bitrate=N/A dup=0 drop=956 speed=1.74x      \r"
     ]
    },
    {
     "name": "stdout",
     "output_type": "stream",
     "text": [
      "[download]  18.8% of ~ 250.89MiB at    1.29MiB/s ETA 02:35 (frag 23/128)"
     ]
    },
    {
     "name": "stderr",
     "output_type": "stream",
     "text": [
      "frame=  191 fps=0.2 q=-0.0 size=N/A time=00:03:09.00 bitrate=N/A dup=0 drop=5478 speed=0.229x    \r"
     ]
    },
    {
     "name": "stdout",
     "output_type": "stream",
     "text": [
      "[download]  19.1% of ~ 255.56MiB at    1.23MiB/s ETA 02:40 (frag 23/128)"
     ]
    },
    {
     "name": "stderr",
     "output_type": "stream",
     "text": [
      "frame=   62 fps=0.2 q=-0.0 size=N/A time=00:01:00.00 bitrate=N/A dup=0 drop=2949 speed=0.154x    \r"
     ]
    },
    {
     "name": "stdout",
     "output_type": "stream",
     "text": [
      "[download]  18.0% of ~ 272.95MiB at    1.42MiB/s ETA 02:37 (frag 24/128)"
     ]
    },
    {
     "name": "stderr",
     "output_type": "stream",
     "text": [
      "ffmpeg version 4.2.7-0ubuntu0.1 Copyright (c) 2000-2022 the FFmpeg developers637 speed=0.251x    \n",
      "  built with gcc 9 (Ubuntu 9.4.0-1ubuntu1~20.04.1)\n",
      "  configuration: --prefix=/usr --extra-version=0ubuntu0.1 --toolchain=hardened --libdir=/usr/lib/x86_64-linux-gnu --incdir=/usr/include/x86_64-linux-gnu --arch=amd64 --enable-gpl --disable-stripping --enable-avresample --disable-filter=resample --enable-avisynth --enable-gnutls --enable-ladspa --enable-libaom --enable-libass --enable-libbluray --enable-libbs2b --enable-libcaca --enable-libcdio --enable-libcodec2 --enable-libflite --enable-libfontconfig --enable-libfreetype --enable-libfribidi --enable-libgme --enable-libgsm --enable-libjack --enable-libmp3lame --enable-libmysofa --enable-libopenjpeg --enable-libopenmpt --enable-libopus --enable-libpulse --enable-librsvg --enable-librubberband --enable-libshine --enable-libsnappy --enable-libsoxr --enable-libspeex --enable-libssh --enable-libtheora --enable-libtwolame --enable-libvidstab --enable-libvorbis --enable-libvpx --enable-libwavpack --enable-libwebp --enable-libx265 --enable-libxml2 --enable-libxvid --enable-libzmq --enable-libzvbi --enable-lv2 --enable-omx --enable-openal --enable-opencl --enable-opengl --enable-sdl2 --enable-libdc1394 --enable-libdrm --enable-libiec61883 --enable-nvenc --enable-chromaprint --enable-frei0r --enable-libx264 --enable-shared\n",
      "  libavutil      56. 31.100 / 56. 31.100\n",
      "  libavcodec     58. 54.100 / 58. 54.100\n",
      "  libavformat    58. 29.100 / 58. 29.100\n",
      "  libavdevice    58.  8.100 / 58.  8.100\n",
      "  libavfilter     7. 57.100 /  7. 57.100\n",
      "  libavresample   4.  0.  0 /  4.  0.  0\n",
      "  libswscale      5.  5.100 /  5.  5.100\n",
      "  libswresample   3.  5.100 /  3.  5.100\n",
      "  libpostproc    55.  5.100 / 55.  5.100\n",
      "frame=  237 fps=0.3 q=-0.0 size=N/A time=00:03:55.00 bitrate=N/A dup=0 drop=5643 speed=0.251x    \r"
     ]
    },
    {
     "name": "stdout",
     "output_type": "stream",
     "text": [
      "[download]  19.5% of ~ 251.20MiB at    1.40MiB/s ETA 02:36 (frag 24/128)"
     ]
    },
    {
     "name": "stderr",
     "output_type": "stream",
     "text": [
      "frame=   62 fps=0.2 q=-0.0 size=N/A time=00:01:00.00 bitrate=N/A dup=0 drop=2963 speed=0.153x    \r"
     ]
    },
    {
     "name": "stdout",
     "output_type": "stream",
     "text": [
      "[download]  19.8% of ~ 256.24MiB at    1.51MiB/s ETA 02:29 (frag 24/128)"
     ]
    },
    {
     "name": "stderr",
     "output_type": "stream",
     "text": [
      "Input #0, matroska,webm, from './dataset_splited/AaCGGopQOJ0/video_1080p.webm':7 speed=0.152x    \n",
      "  Metadata:\n",
      "    COMPATIBLE_BRANDS: iso6mp41\n",
      "    MAJOR_BRAND     : dash\n",
      "    MINOR_VERSION   : 0\n",
      "    ENCODER         : Lavf58.29.100\n",
      "  Duration: 00:05:53.42, start: -0.007000, bitrate: 4564 kb/s\n",
      " (default) #0:0: Video: vp9 (Profile 0), yuv420p(tv, bt709), 1920x1080, SAR 1:1 DAR 16:9, 25 fps, 25 tbr, 1k tbn, 1k tbcframe=  238 fps=0.2 q=-0.0 size=N/A time=00:03:56.00 bitrate=N/A dup=0 drop=5677 speed=0.215x    \n",
      "    Metadata:\n",
      "      HANDLER_NAME    : ISO Media file produced by Google Inc. Created on: 12/14/2023.\n",
      "      DURATION        : 00:05:53.360000000\n",
      "    Stream #0:1(eng): Audio: opus, 48000 Hz, stereo, fltp (default)\n",
      "    Metadata:\n",
      "      DURATION        : 00:05:53.421000000\n",
      "Stream mapping:\n",
      "  Stream #0:0 -> #0:0 (vp9 (native) -> png (native))\n",
      "Press [q] to stop, [?] for help\n",
      "frame=  139 fps=0.2 q=-0.0 size=N/A time=00:02:17.00 bitrate=N/A dup=0 drop=3973 speed=0.191x    \r"
     ]
    },
    {
     "name": "stdout",
     "output_type": "stream",
     "text": [
      "[download]  18.9% of ~ 267.10MiB at    1.43MiB/s ETA 02:32 (frag 25/128)"
     ]
    },
    {
     "name": "stderr",
     "output_type": "stream",
     "text": [
      "frame=   62 fps=0.2 q=-0.0 size=N/A time=00:01:00.00 bitrate=N/A dup=0 drop=2969 speed=0.153x    \r"
     ]
    },
    {
     "name": "stdout",
     "output_type": "stream",
     "text": [
      "[download]  20.3% of ~ 249.45MiB at    1.46MiB/s ETA 02:28 (frag 25/128)"
     ]
    },
    {
     "name": "stderr",
     "output_type": "stream",
     "text": [
      "Output #0, image2, to './dataset_splited/AaCGGopQOJ0/frames_1080p/frame-%04d.png':peed=1.73x     \n",
      "  Metadata:\n",
      "    COMPATIBLE_BRANDS: iso6mp41\n",
      "    MAJOR_BRAND     : dash\n",
      "    MINOR_VERSION   : 0\n",
      "    encoder         : Lavf58.29.100\n",
      "    Stream #0:0: Video: png, rgb24, 1920x1080 [SAR 1:1 DAR 16:9], q=2-31, 200 kb/s, 1 fps, 1 tbn, 1 tbc (default)\n",
      "    Metadata:\n",
      "      HANDLER_NAME    : ISO Media file produced by Google Inc. Created on: 12/14/2023.\n",
      "      DURATION        : 00:05:53.360000000\n",
      "      encoder         : Lavc58.54.100 png\n",
      "frame=  157 fps=0.2 q=-0.0 size=N/A time=00:02:35.00 bitrate=N/A dup=0 drop=7613 speed=0.151x    \r"
     ]
    },
    {
     "name": "stdout",
     "output_type": "stream",
     "text": [
      "[download]  20.0% of ~ 256.85MiB at    1.57MiB/s ETA 02:21 (frag 26/128)"
     ]
    },
    {
     "name": "stderr",
     "output_type": "stream",
     "text": [
      "frame=  192 fps=0.2 q=-0.0 size=N/A time=00:03:10.00 bitrate=N/A dup=0 drop=5513 speed=0.229x    \r"
     ]
    },
    {
     "name": "stdout",
     "output_type": "stream",
     "text": [
      "[download]  21.2% of ~ 244.81MiB at    1.12MiB/s ETA 02:42 (frag 26/128)"
     ]
    },
    {
     "name": "stderr",
     "output_type": "stream",
     "text": [
      "frame=   49 fps=1.8 q=-0.0 size=N/A time=00:00:47.00 bitrate=N/A dup=0 drop=1124 speed=1.74x    \r"
     ]
    },
    {
     "name": "stdout",
     "output_type": "stream",
     "text": [
      "[download]  21.5% of ~ 248.37MiB at    1.24MiB/s ETA 02:38 (frag 26/128)"
     ]
    },
    {
     "name": "stderr",
     "output_type": "stream",
     "text": [
      "frame=  140 fps=0.2 q=-0.0 size=N/A time=00:02:18.00 bitrate=N/A dup=0 drop=3993 speed=0.192x    \r"
     ]
    },
    {
     "name": "stdout",
     "output_type": "stream",
     "text": [
      "[download]  21.2% of ~ 262.59MiB at    1.67MiB/s ETA 02:26 (frag 26/128)"
     ]
    },
    {
     "name": "stderr",
     "output_type": "stream",
     "text": [
      "frame=   50 fps=1.8 q=-0.0 size=N/A time=00:00:48.00 bitrate=N/A dup=0 drop=1148 speed=1.75x     \r"
     ]
    },
    {
     "name": "stdout",
     "output_type": "stream",
     "text": [
      "[download]  19.6% of ~ 284.95MiB at    1.71MiB/s ETA 02:25 (frag 27/128)"
     ]
    },
    {
     "name": "stderr",
     "output_type": "stream",
     "text": [
      "frame=   63 fps=0.2 q=-0.0 size=N/A time=00:01:01.00 bitrate=N/A dup=0 drop=3009 speed=0.154x    \r"
     ]
    },
    {
     "name": "stdout",
     "output_type": "stream",
     "text": [
      "[download]  22.3% of ~ 259.42MiB at    2.33MiB/s ETA 02:00 (frag 27/128)"
     ]
    },
    {
     "name": "stderr",
     "output_type": "stream",
     "text": [
      "frame=  158 fps=0.2 q=-0.0 size=N/A time=00:02:36.00 bitrate=N/A dup=0 drop=7643 speed=0.152x    \r"
     ]
    },
    {
     "name": "stdout",
     "output_type": "stream",
     "text": [
      "[download]  21.9% of ~ 273.13MiB at    2.65MiB/s ETA 01:54 (frag 27/128)"
     ]
    },
    {
     "name": "stderr",
     "output_type": "stream",
     "text": [
      "frame=  239 fps=0.3 q=-0.0 size=N/A time=00:03:57.00 bitrate=N/A dup=0 drop=5684 speed=0.252x    \r"
     ]
    },
    {
     "name": "stdout",
     "output_type": "stream",
     "text": [
      "[download]  20.5% of ~ 292.12MiB at    2.81MiB/s ETA 01:50 (frag 28/128)"
     ]
    },
    {
     "name": "stderr",
     "output_type": "stream",
     "text": [
      "frame=  239 fps=0.3 q=-0.0 size=N/A time=00:03:57.00 bitrate=N/A dup=0 drop=5688 speed=0.252x    \r"
     ]
    },
    {
     "name": "stdout",
     "output_type": "stream",
     "text": [
      "[download]  22.7% of ~ 264.19MiB at    2.10MiB/s ETA 01:56 (frag 28/128)"
     ]
    },
    {
     "name": "stderr",
     "output_type": "stream",
     "text": [
      "frame=   55 fps=1.8 q=-0.0 size=N/A time=00:00:53.00 bitrate=N/A dup=0 drop=1276 speed=1.73x     \r"
     ]
    },
    {
     "name": "stdout",
     "output_type": "stream",
     "text": [
      "[download]  22.8% of ~ 265.15MiB at    2.09MiB/s ETA 01:55 (frag 28/128)"
     ]
    },
    {
     "name": "stderr",
     "output_type": "stream",
     "text": [
      "frame=  193 fps=0.2 q=-0.0 size=N/A time=00:03:11.00 bitrate=N/A dup=0 drop=5544 speed=0.229x    \r"
     ]
    },
    {
     "name": "stdout",
     "output_type": "stream",
     "text": [
      "[download]  21.9% of ~ 283.07MiB at    2.50MiB/s ETA 01:47 (frag 29/128)"
     ]
    },
    {
     "name": "stderr",
     "output_type": "stream",
     "text": [
      "frame=   64 fps=0.2 q=-0.0 size=N/A time=00:01:02.00 bitrate=N/A dup=0 drop=3041 speed=0.156x    \r"
     ]
    },
    {
     "name": "stdout",
     "output_type": "stream",
     "text": [
      "[download]  23.5% of ~ 264.71MiB at    2.17MiB/s ETA 01:45 (frag 29/128)"
     ]
    },
    {
     "name": "stderr",
     "output_type": "stream",
     "text": [
      "frame=  193 fps=0.2 q=-0.0 size=N/A time=00:03:11.00 bitrate=N/A dup=0 drop=5553 speed=0.229x    \r"
     ]
    },
    {
     "name": "stdout",
     "output_type": "stream",
     "text": [
      "[download]  23.7% of ~ 268.71MiB at    1.80MiB/s ETA 01:51 (frag 29/128)"
     ]
    },
    {
     "name": "stderr",
     "output_type": "stream",
     "text": [
      "frame=   64 fps=0.2 q=-0.0 size=N/A time=00:01:02.00 bitrate=N/A dup=0 drop=3046 speed=0.155x    \r"
     ]
    },
    {
     "name": "stdout",
     "output_type": "stream",
     "text": [
      "[download]  22.8% of ~ 279.29MiB at    1.67MiB/s ETA 01:55 (frag 30/128)"
     ]
    },
    {
     "name": "stderr",
     "output_type": "stream",
     "text": [
      "frame=   64 fps=0.2 q=-0.0 size=N/A time=00:01:02.00 bitrate=N/A dup=0 drop=3052 speed=0.155x    \r"
     ]
    },
    {
     "name": "stdout",
     "output_type": "stream",
     "text": [
      "[download]  24.2% of ~ 263.11MiB at    1.59MiB/s ETA 01:58 (frag 30/128)"
     ]
    },
    {
     "name": "stderr",
     "output_type": "stream",
     "text": [
      "frame=  240 fps=0.2 q=-0.0 size=N/A time=00:03:58.00 bitrate=N/A dup=0 drop=5731 speed=0.216x    \r"
     ]
    },
    {
     "name": "stdout",
     "output_type": "stream",
     "text": [
      "[download]  24.4% of ~ 265.16MiB at    1.50MiB/s ETA 02:02 (frag 30/128)"
     ]
    },
    {
     "name": "stderr",
     "output_type": "stream",
     "text": [
      "frame=    3 fps=0.4 q=-0.0 size=N/A time=00:00:01.00 bitrate=N/A dup=0 drop=38 speed=0.119x      \r"
     ]
    },
    {
     "name": "stdout",
     "output_type": "stream",
     "text": [
      "[download]  24.5% of ~ 267.22MiB at    1.55MiB/s ETA 02:02 (frag 30/128)"
     ]
    },
    {
     "name": "stderr",
     "output_type": "stream",
     "text": [
      "frame=  158 fps=0.2 q=-0.0 size=N/A time=00:02:36.00 bitrate=N/A dup=0 drop=7679 speed=0.151x    \r"
     ]
    },
    {
     "name": "stdout",
     "output_type": "stream",
     "text": [
      "[download]  23.6% of ~ 276.67MiB at    1.46MiB/s ETA 02:07 (frag 31/128)"
     ]
    },
    {
     "name": "stderr",
     "output_type": "stream",
     "text": [
      "frame=  159 fps=0.2 q=-0.0 size=N/A time=00:02:37.00 bitrate=N/A dup=0 drop=7687 speed=0.152x    \r"
     ]
    },
    {
     "name": "stdout",
     "output_type": "stream",
     "text": [
      "[download]  25.0% of ~ 261.57MiB at    1.34MiB/s ETA 02:13 (frag 31/128)"
     ]
    },
    {
     "name": "stderr",
     "output_type": "stream",
     "text": [
      "frame=   64 fps=0.2 q=-0.0 size=N/A time=00:01:02.00 bitrate=N/A dup=0 drop=3070 speed=0.154x    \r"
     ]
    },
    {
     "name": "stdout",
     "output_type": "stream",
     "text": [
      "[download]  25.2% of ~ 265.44MiB at    1.40MiB/s ETA 02:14 (frag 31/128)"
     ]
    },
    {
     "name": "stderr",
     "output_type": "stream",
     "text": [
      "frame=  159 fps=0.2 q=-0.0 size=N/A time=00:02:37.00 bitrate=N/A dup=0 drop=7688 speed=0.152x    \r"
     ]
    },
    {
     "name": "stdout",
     "output_type": "stream",
     "text": [
      "[download]  24.5% of ~ 273.11MiB at    1.44MiB/s ETA 02:14 (frag 32/128)"
     ]
    },
    {
     "name": "stderr",
     "output_type": "stream",
     "text": [
      "frame=   63 fps=1.8 q=-0.0 size=N/A time=00:01:01.00 bitrate=N/A dup=0 drop=1468 speed= 1.7x     \r"
     ]
    },
    {
     "name": "stdout",
     "output_type": "stream",
     "text": [
      "[download]  26.0% of ~ 261.11MiB at    1.29MiB/s ETA 02:24 (frag 32/128)"
     ]
    },
    {
     "name": "stderr",
     "output_type": "stream",
     "text": [
      "frame=  195 fps=0.2 q=-0.0 size=N/A time=00:03:13.00 bitrate=N/A dup=0 drop=5587 speed=0.23x    \r"
     ]
    },
    {
     "name": "stdout",
     "output_type": "stream",
     "text": [
      "[download]  24.8% of ~ 279.63MiB at    1.65MiB/s ETA 02:14 (frag 33/128)"
     ]
    },
    {
     "name": "stderr",
     "output_type": "stream",
     "text": [
      "frame=  159 fps=0.2 q=-0.0 size=N/A time=00:02:37.00 bitrate=N/A dup=0 drop=7710 speed=0.152x    \r"
     ]
    },
    {
     "name": "stdout",
     "output_type": "stream",
     "text": [
      "[download]  26.6% of ~ 261.95MiB at    1.62MiB/s ETA 02:12 (frag 33/128)"
     ]
    },
    {
     "name": "stderr",
     "output_type": "stream",
     "text": [
      "frame=  195 fps=0.2 q=-0.0 size=N/A time=00:03:13.00 bitrate=N/A dup=0 drop=5597 speed=0.23x     \r"
     ]
    },
    {
     "name": "stdout",
     "output_type": "stream",
     "text": [
      "[download]  26.0% of ~ 272.25MiB at    1.77MiB/s ETA 02:05 (frag 34/128)"
     ]
    },
    {
     "name": "stderr",
     "output_type": "stream",
     "text": [
      "frame=  159 fps=0.2 q=-0.0 size=N/A time=00:02:37.00 bitrate=N/A dup=0 drop=7717 speed=0.152x    \r"
     ]
    },
    {
     "name": "stdout",
     "output_type": "stream",
     "text": [
      "[download]  27.3% of ~ 259.29MiB at    1.70MiB/s ETA 02:03 (frag 34/128)"
     ]
    },
    {
     "name": "stderr",
     "output_type": "stream",
     "text": [
      "frame=   67 fps=1.7 q=-0.0 size=N/A time=00:01:05.00 bitrate=N/A dup=0 drop=1563 speed=1.69x     \r"
     ]
    },
    {
     "name": "stdout",
     "output_type": "stream",
     "text": [
      "[download]  27.4% of ~ 260.15MiB at    1.65MiB/s ETA 02:02 (frag 34/128)"
     ]
    },
    {
     "name": "stderr",
     "output_type": "stream",
     "text": [
      "frame=   65 fps=0.2 q=-0.0 size=N/A time=00:01:03.00 bitrate=N/A dup=0 drop=3111 speed=0.155x    \r"
     ]
    },
    {
     "name": "stdout",
     "output_type": "stream",
     "text": [
      "[download]  26.7% of ~ 273.04MiB at    1.88MiB/s ETA 01:55 (frag 35/128)"
     ]
    },
    {
     "name": "stderr",
     "output_type": "stream",
     "text": [
      "frame=  195 fps=0.2 q=-0.0 size=N/A time=00:03:13.00 bitrate=N/A dup=0 drop=5612 speed=0.229x    \r"
     ]
    },
    {
     "name": "stdout",
     "output_type": "stream",
     "text": [
      "[download]  28.1% of ~ 258.75MiB at    1.71MiB/s ETA 01:58 (frag 35/128)"
     ]
    },
    {
     "name": "stderr",
     "output_type": "stream",
     "text": [
      "frame=  243 fps=0.2 q=-0.0 size=N/A time=00:04:01.00 bitrate=N/A dup=0 drop=5783 speed=0.217x    \r"
     ]
    },
    {
     "name": "stdout",
     "output_type": "stream",
     "text": [
      "[download]  28.2% of ~ 259.18MiB at    1.41MiB/s ETA 02:06 (frag 35/128)"
     ]
    },
    {
     "name": "stderr",
     "output_type": "stream",
     "text": [
      "frame=   65 fps=0.2 q=-0.0 size=N/A time=00:01:03.00 bitrate=N/A dup=0 drop=3124 speed=0.155x    \r"
     ]
    },
    {
     "name": "stdout",
     "output_type": "stream",
     "text": [
      "[download]  27.5% of ~ 271.71MiB at    1.52MiB/s ETA 02:05 (frag 36/128)"
     ]
    },
    {
     "name": "stderr",
     "output_type": "stream",
     "text": [
      "frame=  196 fps=0.2 q=-0.0 size=N/A time=00:03:14.00 bitrate=N/A dup=0 drop=5623 speed=0.23x     \r"
     ]
    },
    {
     "name": "stdout",
     "output_type": "stream",
     "text": [
      "[download]  28.9% of ~ 258.08MiB at    1.47MiB/s ETA 02:06 (frag 36/128)"
     ]
    },
    {
     "name": "stderr",
     "output_type": "stream",
     "text": [
      "frame=    5 fps=0.3 q=-0.0 size=N/A time=00:00:03.00 bitrate=N/A dup=0 drop=85 speed=0.184x    \r"
     ]
    },
    {
     "name": "stdout",
     "output_type": "stream",
     "text": [
      "[download]  29.0% of ~ 258.92MiB at    1.37MiB/s ETA 02:10 (frag 36/128)"
     ]
    },
    {
     "name": "stderr",
     "output_type": "stream",
     "text": [
      "frame=  243 fps=0.2 q=-0.0 size=N/A time=00:04:01.00 bitrate=N/A dup=0 drop=5795 speed=0.217x    \r"
     ]
    },
    {
     "name": "stdout",
     "output_type": "stream",
     "text": [
      "[download]  29.3% of ~ 261.52MiB at    1.47MiB/s ETA 02:07 (frag 36/128)"
     ]
    },
    {
     "name": "stderr",
     "output_type": "stream",
     "text": [
      "frame=  196 fps=0.2 q=-0.0 size=N/A time=00:03:14.00 bitrate=N/A dup=0 drop=5629 speed=0.23x     \r"
     ]
    },
    {
     "name": "stdout",
     "output_type": "stream",
     "text": [
      "[download]  28.0% of ~ 275.37MiB at    1.47MiB/s ETA 02:08 (frag 37/128)"
     ]
    },
    {
     "name": "stderr",
     "output_type": "stream",
     "text": [
      "frame=  160 fps=0.2 q=-0.0 size=N/A time=00:02:38.00 bitrate=N/A dup=0 drop=7762 speed=0.152x    \r"
     ]
    },
    {
     "name": "stdout",
     "output_type": "stream",
     "text": [
      "[download]  29.9% of ~ 261.38MiB at    1.47MiB/s ETA 02:07 (frag 37/128)"
     ]
    },
    {
     "name": "stderr",
     "output_type": "stream",
     "text": [
      "frame=  144 fps=0.2 q=-0.0 size=N/A time=00:02:22.00 bitrate=N/A dup=0 drop=4122 speed=0.193x    \r"
     ]
    },
    {
     "name": "stdout",
     "output_type": "stream",
     "text": [
      "[download]  29.2% of ~ 268.86MiB at    1.38MiB/s ETA 02:10 (frag 38/128)"
     ]
    },
    {
     "name": "stderr",
     "output_type": "stream",
     "text": [
      "frame=   66 fps=0.2 q=-0.0 size=N/A time=00:01:04.00 bitrate=N/A dup=0 drop=3153 speed=0.156x    \r"
     ]
    },
    {
     "name": "stdout",
     "output_type": "stream",
     "text": [
      "[download]  30.5% of ~ 257.60MiB at    1.35MiB/s ETA 02:11 (frag 38/128)"
     ]
    },
    {
     "name": "stderr",
     "output_type": "stream",
     "text": [
      "frame=  244 fps=0.2 q=-0.0 size=N/A time=00:04:02.00 bitrate=N/A dup=0 drop=5812 speed=0.217x    \r"
     ]
    },
    {
     "name": "stdout",
     "output_type": "stream",
     "text": [
      "[download]  30.7% of ~ 259.14MiB at    1.36MiB/s ETA 02:11 (frag 38/128)"
     ]
    },
    {
     "name": "stderr",
     "output_type": "stream",
     "text": [
      "frame=  197 fps=0.2 q=-0.0 size=N/A time=00:03:15.00 bitrate=N/A dup=0 drop=5646 speed=0.23x    \r"
     ]
    },
    {
     "name": "stdout",
     "output_type": "stream",
     "text": [
      "[download]  30.7% of ~ 264.06MiB at    1.56MiB/s ETA 02:06 (frag 38/128)"
     ]
    },
    {
     "name": "stderr",
     "output_type": "stream",
     "text": [
      "frame=   66 fps=0.2 q=-0.0 size=N/A time=00:01:04.00 bitrate=N/A dup=0 drop=3159 speed=0.156x    \r"
     ]
    },
    {
     "name": "stdout",
     "output_type": "stream",
     "text": [
      "[download]  29.6% of ~ 273.92MiB at    1.48MiB/s ETA 02:08 (frag 39/128)"
     ]
    },
    {
     "name": "stderr",
     "output_type": "stream",
     "text": [
      "frame=   66 fps=0.2 q=-0.0 size=N/A time=00:01:04.00 bitrate=N/A dup=0 drop=3165 speed=0.155x    \r"
     ]
    },
    {
     "name": "stdout",
     "output_type": "stream",
     "text": [
      "[download]  31.3% of ~ 259.12MiB at    1.42MiB/s ETA 02:08 (frag 39/128)"
     ]
    },
    {
     "name": "stderr",
     "output_type": "stream",
     "text": [
      "frame=   79 fps=1.7 q=-0.0 size=N/A time=00:01:17.00 bitrate=N/A dup=0 drop=1844 speed=1.69x     \r"
     ]
    },
    {
     "name": "stdout",
     "output_type": "stream",
     "text": [
      "[download]  31.4% of ~ 260.67MiB at    1.48MiB/s ETA 02:06 (frag 39/128)"
     ]
    },
    {
     "name": "stderr",
     "output_type": "stream",
     "text": [
      "frame=  244 fps=0.2 q=-0.0 size=N/A time=00:04:02.00 bitrate=N/A dup=0 drop=5824 speed=0.217x    \r"
     ]
    },
    {
     "name": "stdout",
     "output_type": "stream",
     "text": [
      "[download]  30.7% of ~ 267.79MiB at    1.51MiB/s ETA 02:05 (frag 40/128)"
     ]
    },
    {
     "name": "stderr",
     "output_type": "stream",
     "text": [
      "frame=  245 fps=0.2 q=-0.0 size=N/A time=00:04:03.00 bitrate=N/A dup=0 drop=5828 speed=0.218x    \r"
     ]
    },
    {
     "name": "stdout",
     "output_type": "stream",
     "text": [
      "[download]  32.0% of ~ 257.01MiB at    1.49MiB/s ETA 02:05 (frag 40/128)"
     ]
    },
    {
     "name": "stderr",
     "output_type": "stream",
     "text": [
      "frame=   66 fps=0.2 q=-0.0 size=N/A time=00:01:04.00 bitrate=N/A dup=0 drop=3177 speed=0.155x    \r"
     ]
    },
    {
     "name": "stdout",
     "output_type": "stream",
     "text": [
      "[download]  32.2% of ~ 258.56MiB at    1.49MiB/s ETA 02:03 (frag 40/128)"
     ]
    },
    {
     "name": "stderr",
     "output_type": "stream",
     "text": [
      "frame=  244 fps=0.3 q=-0.0 size=N/A time=00:04:02.00 bitrate=N/A dup=0 drop=5816 speed=0.253x    \r"
     ]
    },
    {
     "name": "stdout",
     "output_type": "stream",
     "text": [
      "[download]  31.3% of ~ 269.01MiB at    1.70MiB/s ETA 01:58 (frag 41/128)"
     ]
    },
    {
     "name": "stderr",
     "output_type": "stream",
     "text": [
      "frame=  245 fps=0.2 q=-0.0 size=N/A time=00:04:03.00 bitrate=N/A dup=0 drop=5842 speed=0.217x    \r"
     ]
    },
    {
     "name": "stdout",
     "output_type": "stream",
     "text": [
      "[download]  32.8% of ~ 256.84MiB at    1.44MiB/s ETA 02:01 (frag 41/128)"
     ]
    },
    {
     "name": "stderr",
     "output_type": "stream",
     "text": [
      "frame=   67 fps=0.2 q=-0.0 size=N/A time=00:01:05.00 bitrate=N/A dup=0 drop=3188 speed=0.157x    \r"
     ]
    },
    {
     "name": "stdout",
     "output_type": "stream",
     "text": [
      "[download]  32.2% of ~ 266.77MiB at    1.58MiB/s ETA 01:58 (frag 42/128)"
     ]
    },
    {
     "name": "stderr",
     "output_type": "stream",
     "text": [
      "frame=  146 fps=0.2 q=-0.0 size=N/A time=00:02:24.00 bitrate=N/A dup=0 drop=4171 speed=0.194x    \r"
     ]
    },
    {
     "name": "stdout",
     "output_type": "stream",
     "text": [
      "[download]  33.6% of ~ 255.76MiB at    1.48MiB/s ETA 01:58 (frag 42/128)"
     ]
    },
    {
     "name": "stderr",
     "output_type": "stream",
     "text": [
      "frame=   67 fps=0.2 q=-0.0 size=N/A time=00:01:05.00 bitrate=N/A dup=0 drop=3200 speed=0.156x    \r"
     ]
    },
    {
     "name": "stdout",
     "output_type": "stream",
     "text": [
      "[download]  33.8% of ~ 257.16MiB at    1.50MiB/s ETA 01:57 (frag 42/128)"
     ]
    },
    {
     "name": "stderr",
     "output_type": "stream",
     "text": [
      "frame=  246 fps=0.2 q=-0.0 size=N/A time=00:04:04.00 bitrate=N/A dup=0 drop=5852 speed=0.218x    \r"
     ]
    },
    {
     "name": "stdout",
     "output_type": "stream",
     "text": [
      "[download]  33.2% of ~ 262.20MiB at    1.51MiB/s ETA 01:57 (frag 43/128)"
     ]
    },
    {
     "name": "stderr",
     "output_type": "stream",
     "text": [
      "frame=  146 fps=0.2 q=-0.0 size=N/A time=00:02:24.00 bitrate=N/A dup=0 drop=4179 speed=0.194x    \r"
     ]
    },
    {
     "name": "stdout",
     "output_type": "stream",
     "text": [
      "[download]  34.4% of ~ 253.09MiB at    1.22MiB/s ETA 02:07 (frag 43/128)"
     ]
    },
    {
     "name": "stderr",
     "output_type": "stream",
     "text": [
      "frame=   87 fps=1.7 q=-0.0 size=N/A time=00:01:25.00 bitrate=N/A dup=0 drop=2045 speed=1.68x     \r"
     ]
    },
    {
     "name": "stdout",
     "output_type": "stream",
     "text": [
      "[download]  34.5% of ~ 254.50MiB at    1.19MiB/s ETA 02:12 (frag 43/128)"
     ]
    },
    {
     "name": "stderr",
     "output_type": "stream",
     "text": [
      "frame=  146 fps=0.2 q=-0.0 size=N/A time=00:02:24.00 bitrate=N/A dup=0 drop=4184 speed=0.194x    \r"
     ]
    },
    {
     "name": "stdout",
     "output_type": "stream",
     "text": [
      "[download]  34.1% of ~ 257.70MiB at    1.19MiB/s ETA 02:13 (frag 44/128)"
     ]
    },
    {
     "name": "stderr",
     "output_type": "stream",
     "text": [
      "frame=  146 fps=0.2 q=-0.0 size=N/A time=00:02:24.00 bitrate=N/A dup=0 drop=4192 speed=0.193x    \r"
     ]
    },
    {
     "name": "stdout",
     "output_type": "stream",
     "text": [
      "[download]  35.2% of ~ 249.72MiB at    1.04MiB/s ETA 02:22 (frag 44/128)"
     ]
    },
    {
     "name": "stderr",
     "output_type": "stream",
     "text": [
      "frame=   67 fps=0.2 q=-0.0 size=N/A time=00:01:05.00 bitrate=N/A dup=0 drop=3224 speed=0.155x    \r"
     ]
    },
    {
     "name": "stdout",
     "output_type": "stream",
     "text": [
      "[download]  35.2% of ~ 250.05MiB at  881.49KiB/s ETA 02:40 (frag 44/128)"
     ]
    },
    {
     "name": "stderr",
     "output_type": "stream",
     "text": [
      "frame=  246 fps=0.2 q=-0.0 size=N/A time=00:04:04.00 bitrate=N/A dup=0 drop=5873 speed=0.217x    \r"
     ]
    },
    {
     "name": "stdout",
     "output_type": "stream",
     "text": [
      "[download]  35.4% of ~ 255.39MiB at    1.02MiB/s ETA 02:38 (frag 44/128)"
     ]
    },
    {
     "name": "stderr",
     "output_type": "stream",
     "text": [
      "frame=  199 fps=0.2 q=-0.0 size=N/A time=00:03:17.00 bitrate=N/A dup=0 drop=5710 speed=0.231x    \r"
     ]
    },
    {
     "name": "stdout",
     "output_type": "stream",
     "text": [
      "[download]  34.1% of ~ 265.09MiB at    1.16MiB/s ETA 02:34 (frag 45/128)"
     ]
    },
    {
     "name": "stderr",
     "output_type": "stream",
     "text": [
      "frame=    8 fps=0.3 q=-0.0 size=N/A time=00:00:06.00 bitrate=N/A dup=0 drop=148 speed=0.208x     \r"
     ]
    },
    {
     "name": "stdout",
     "output_type": "stream",
     "text": [
      "[download]  35.9% of ~ 251.84MiB at    1.09MiB/s ETA 02:36 (frag 45/128)"
     ]
    },
    {
     "name": "stderr",
     "output_type": "stream",
     "text": [
      "frame=  199 fps=0.2 q=-0.0 size=N/A time=00:03:17.00 bitrate=N/A dup=0 drop=5718 speed=0.23x     \r"
     ]
    },
    {
     "name": "stdout",
     "output_type": "stream",
     "text": [
      "[download]  36.0% of ~ 252.14MiB at    1.18MiB/s ETA 02:32 (frag 45/128)"
     ]
    },
    {
     "name": "stderr",
     "output_type": "stream",
     "text": [
      "frame=  199 fps=0.2 q=-0.0 size=N/A time=00:03:17.00 bitrate=N/A dup=0 drop=5720 speed=0.23x     \r"
     ]
    },
    {
     "name": "stdout",
     "output_type": "stream",
     "text": [
      "[download]  36.3% of ~ 254.58MiB at    1.59MiB/s ETA 02:16 (frag 45/128)"
     ]
    },
    {
     "name": "stderr",
     "output_type": "stream",
     "text": [
      "frame=   92 fps=1.7 q=-0.0 size=N/A time=00:01:30.00 bitrate=N/A dup=0 drop=2176 speed=1.66x    \r"
     ]
    },
    {
     "name": "stdout",
     "output_type": "stream",
     "text": [
      "[download]  35.1% of ~ 264.70MiB at    1.79MiB/s ETA 02:06 (frag 46/128)"
     ]
    },
    {
     "name": "stderr",
     "output_type": "stream",
     "text": [
      "frame=  246 fps=0.3 q=-0.0 size=N/A time=00:04:04.00 bitrate=N/A dup=0 drop=5865 speed=0.252x    \r"
     ]
    },
    {
     "name": "stdout",
     "output_type": "stream",
     "text": [
      "[download]  36.7% of ~ 252.77MiB at    1.56MiB/s ETA 02:09 (frag 46/128)"
     ]
    },
    {
     "name": "stderr",
     "output_type": "stream",
     "text": [
      "frame=  247 fps=0.2 q=-0.0 size=N/A time=00:04:05.00 bitrate=N/A dup=0 drop=5892 speed=0.218x    \r"
     ]
    },
    {
     "name": "stdout",
     "output_type": "stream",
     "text": [
      "[download]  36.8% of ~ 253.43MiB at    1.20MiB/s ETA 02:21 (frag 46/128)"
     ]
    },
    {
     "name": "stderr",
     "output_type": "stream",
     "text": [
      "frame=   95 fps=1.7 q=-0.0 size=N/A time=00:01:33.00 bitrate=N/A dup=0 drop=2231 speed=1.67x     \r"
     ]
    },
    {
     "name": "stdout",
     "output_type": "stream",
     "text": [
      "[download]  36.2% of ~ 259.72MiB at    1.42MiB/s ETA 02:13 (frag 47/128)"
     ]
    },
    {
     "name": "stderr",
     "output_type": "stream",
     "text": [
      "frame=   68 fps=0.2 q=-0.0 size=N/A time=00:01:06.00 bitrate=N/A dup=0 drop=3264 speed=0.156x    \r"
     ]
    },
    {
     "name": "stdout",
     "output_type": "stream",
     "text": [
      "[download]  37.5% of ~ 250.92MiB at    1.36MiB/s ETA 02:12 (frag 47/128)"
     ]
    },
    {
     "name": "stderr",
     "output_type": "stream",
     "text": [
      "frame=  200 fps=0.2 q=-0.0 size=N/A time=00:03:18.00 bitrate=N/A dup=0 drop=5737 speed=0.23x     \r"
     ]
    },
    {
     "name": "stdout",
     "output_type": "stream",
     "text": [
      "[download]  37.6% of ~ 251.56MiB at    1.19MiB/s ETA 02:15 (frag 47/128)"
     ]
    },
    {
     "name": "stderr",
     "output_type": "stream",
     "text": [
      "frame=  246 fps=0.3 q=-0.0 size=N/A time=00:04:04.00 bitrate=N/A dup=0 drop=5875 speed=0.252x    \r"
     ]
    },
    {
     "name": "stdout",
     "output_type": "stream",
     "text": [
      "[download]  37.9% of ~ 253.56MiB at    1.11MiB/s ETA 02:19 (frag 47/128)"
     ]
    },
    {
     "name": "stderr",
     "output_type": "stream",
     "text": [
      "frame=   68 fps=0.2 q=-0.0 size=N/A time=00:01:06.00 bitrate=N/A dup=0 drop=3270 speed=0.156x    \r"
     ]
    },
    {
     "name": "stdout",
     "output_type": "stream",
     "text": [
      "[download]  36.6% of ~ 263.82MiB at    1.32MiB/s ETA 02:13 (frag 48/128)"
     ]
    },
    {
     "name": "stderr",
     "output_type": "stream",
     "text": [
      "frame=  163 fps=0.2 q=-0.0 size=N/A time=00:02:41.00 bitrate=N/A dup=0 drop=7882 speed=0.152x    \r"
     ]
    },
    {
     "name": "stdout",
     "output_type": "stream",
     "text": [
      "[download]  38.3% of ~ 252.43MiB at    1.26MiB/s ETA 02:12 (frag 48/128)"
     ]
    },
    {
     "name": "stderr",
     "output_type": "stream",
     "text": [
      "frame=  247 fps=0.3 q=-0.0 size=N/A time=00:04:05.00 bitrate=N/A dup=0 drop=5885 speed=0.253x    \r"
     ]
    },
    {
     "name": "stdout",
     "output_type": "stream",
     "text": [
      "[download]  38.7% of ~ 254.72MiB at    1.23MiB/s ETA 02:12 (frag 48/128)"
     ]
    },
    {
     "name": "stderr",
     "output_type": "stream",
     "text": [
      "frame=  200 fps=0.2 q=-0.0 size=N/A time=00:03:18.00 bitrate=N/A dup=0 drop=5752 speed=0.23x     \r"
     ]
    },
    {
     "name": "stdout",
     "output_type": "stream",
     "text": [
      "[download]  37.5% of ~ 263.43MiB at    1.55MiB/s ETA 02:04 (frag 49/128)"
     ]
    },
    {
     "name": "stderr",
     "output_type": "stream",
     "text": [
      "frame=   69 fps=0.2 q=-0.0 size=N/A time=00:01:07.00 bitrate=N/A dup=0 drop=3290 speed=0.157x    \r"
     ]
    },
    {
     "name": "stdout",
     "output_type": "stream",
     "text": [
      "[download]  39.3% of ~ 253.89MiB at    1.44MiB/s ETA 01:58 (frag 49/128)"
     ]
    },
    {
     "name": "stderr",
     "output_type": "stream",
     "text": [
      "frame=    9 fps=0.3 q=-0.0 size=N/A time=00:00:07.00 bitrate=N/A dup=0 drop=179 speed=0.197x     \r"
     ]
    },
    {
     "name": "stdout",
     "output_type": "stream",
     "text": [
      "[download]  38.4% of ~ 260.92MiB at    1.39MiB/s ETA 01:58 (frag 50/128)"
     ]
    },
    {
     "name": "stderr",
     "output_type": "stream",
     "text": [
      "frame=  201 fps=0.2 q=-0.0 size=N/A time=00:03:19.00 bitrate=N/A dup=0 drop=5772 speed=0.231x    \r"
     ]
    },
    {
     "name": "stdout",
     "output_type": "stream",
     "text": [
      "[download]  39.8% of ~ 251.74MiB at    1.39MiB/s ETA 01:57 (frag 50/128)"
     ]
    },
    {
     "name": "stderr",
     "output_type": "stream",
     "text": [
      "frame=  102 fps=1.7 q=-0.0 size=N/A time=00:01:40.00 bitrate=N/A dup=0 drop=2406 speed=1.63x    \r"
     ]
    },
    {
     "name": "stdout",
     "output_type": "stream",
     "text": [
      "[download]  39.9% of ~ 252.36MiB at    1.39MiB/s ETA 01:54 (frag 50/128)"
     ]
    },
    {
     "name": "stderr",
     "output_type": "stream",
     "text": [
      "frame=   10 fps=0.3 q=-0.0 size=N/A time=00:00:08.00 bitrate=N/A dup=0 drop=188 speed=0.218x     \r"
     ]
    },
    {
     "name": "stdout",
     "output_type": "stream",
     "text": [
      "[download]  40.0% of ~ 256.75MiB at    1.47MiB/s ETA 01:50 (frag 50/128)"
     ]
    },
    {
     "name": "stderr",
     "output_type": "stream",
     "text": [
      "frame=  103 fps=1.7 q=-0.0 size=N/A time=00:01:41.00 bitrate=N/A dup=0 drop=2426 speed=1.64x     \r"
     ]
    },
    {
     "name": "stdout",
     "output_type": "stream",
     "text": [
      "[download]  38.9% of ~ 264.09MiB at    1.46MiB/s ETA 01:51 (frag 51/128)"
     ]
    },
    {
     "name": "stderr",
     "output_type": "stream",
     "text": [
      "frame=  249 fps=0.2 q=-0.0 size=N/A time=00:04:07.00 bitrate=N/A dup=0 drop=5939 speed=0.218x    \r"
     ]
    },
    {
     "name": "stdout",
     "output_type": "stream",
     "text": [
      "[download]  40.6% of ~ 252.98MiB at    1.37MiB/s ETA 01:52 (frag 51/128)"
     ]
    },
    {
     "name": "stderr",
     "output_type": "stream",
     "text": [
      "frame=   10 fps=0.3 q=-0.0 size=N/A time=00:00:08.00 bitrate=N/A dup=0 drop=195 speed=0.209x    \r"
     ]
    },
    {
     "name": "stdout",
     "output_type": "stream",
     "text": [
      "[download]  40.7% of ~ 253.56MiB at    1.08MiB/s ETA 02:06 (frag 51/128)"
     ]
    },
    {
     "name": "stderr",
     "output_type": "stream",
     "text": [
      "frame=  163 fps=0.2 q=-0.0 size=N/A time=00:02:41.00 bitrate=N/A dup=0 drop=7918 speed=0.152x    \r"
     ]
    },
    {
     "name": "stdout",
     "output_type": "stream",
     "text": [
      "[download]  41.0% of ~ 255.41MiB at    1.43MiB/s ETA 01:58 (frag 51/128)"
     ]
    },
    {
     "name": "stderr",
     "output_type": "stream",
     "text": [
      "frame=  249 fps=0.2 q=-0.0 size=N/A time=00:04:07.00 bitrate=N/A dup=0 drop=5944 speed=0.218x    \r"
     ]
    },
    {
     "name": "stdout",
     "output_type": "stream",
     "text": [
      "[download]  39.4% of ~ 269.63MiB at    1.84MiB/s ETA 01:49 (frag 52/128)"
     ]
    },
    {
     "name": "stderr",
     "output_type": "stream",
     "text": [
      "frame=  163 fps=0.2 q=-0.0 size=N/A time=00:02:41.00 bitrate=N/A dup=0 drop=7926 speed=0.151x    \r"
     ]
    },
    {
     "name": "stdout",
     "output_type": "stream",
     "text": [
      "[download]  41.4% of ~ 256.38MiB at    1.63MiB/s ETA 01:51 (frag 52/128)"
     ]
    },
    {
     "name": "stderr",
     "output_type": "stream",
     "text": [
      "frame=  149 fps=0.2 q=-0.0 size=N/A time=00:02:27.00 bitrate=N/A dup=0 drop=4278 speed=0.194x    \r"
     ]
    },
    {
     "name": "stdout",
     "output_type": "stream",
     "text": [
      "[download]  41.8% of ~ 258.77MiB at    1.91MiB/s ETA 01:45 (frag 52/128)"
     ]
    },
    {
     "name": "stderr",
     "output_type": "stream",
     "text": [
      "frame=   10 fps=0.2 q=-0.0 size=N/A time=00:00:08.00 bitrate=N/A dup=0 drop=209 speed=0.198x     \r"
     ]
    },
    {
     "name": "stdout",
     "output_type": "stream",
     "text": [
      "[download]  40.6% of ~ 266.81MiB at    2.17MiB/s ETA 01:37 (frag 53/128)"
     ]
    },
    {
     "name": "stderr",
     "output_type": "stream",
     "text": [
      "frame=   11 fps=0.3 q=-0.0 size=N/A time=00:00:09.00 bitrate=N/A dup=0 drop=212 speed=0.219x     \r"
     ]
    },
    {
     "name": "stdout",
     "output_type": "stream",
     "text": [
      "[download]  42.2% of ~ 256.76MiB at    2.08MiB/s ETA 01:35 (frag 53/128)"
     ]
    },
    {
     "name": "stderr",
     "output_type": "stream",
     "text": [
      "frame=  203 fps=0.2 q=-0.0 size=N/A time=00:03:21.00 bitrate=N/A dup=0 drop=5818 speed=0.231x    \r"
     ]
    },
    {
     "name": "stdout",
     "output_type": "stream",
     "text": [
      "[download]  42.3% of ~ 259.11MiB at    1.73MiB/s ETA 01:32 (frag 53/128)"
     ]
    },
    {
     "name": "stderr",
     "output_type": "stream",
     "text": [
      "frame=  110 fps=1.7 q=-0.0 size=N/A time=00:01:48.00 bitrate=N/A dup=0 drop=2590 speed=1.62x     \r"
     ]
    },
    {
     "name": "stdout",
     "output_type": "stream",
     "text": [
      "[download]  41.7% of ~ 262.66MiB at    1.57MiB/s ETA 01:36 (frag 54/128)"
     ]
    },
    {
     "name": "stderr",
     "output_type": "stream",
     "text": [
      "frame=  164 fps=0.2 q=-0.0 size=N/A time=00:02:42.00 bitrate=N/A dup=0 drop=7948 speed=0.152x    \r"
     ]
    },
    {
     "name": "stdout",
     "output_type": "stream",
     "text": [
      "[download]  43.0% of ~ 255.12MiB at    1.40MiB/s ETA 01:40 (frag 54/128)"
     ]
    },
    {
     "name": "stderr",
     "output_type": "stream",
     "text": [
      "frame=  112 fps=1.7 q=-0.0 size=N/A time=00:01:50.00 bitrate=N/A dup=0 drop=2636 speed=1.62x     \r"
     ]
    },
    {
     "name": "stdout",
     "output_type": "stream",
     "text": [
      "[download]  43.0% of ~ 259.63MiB at    1.52MiB/s ETA 01:39 (frag 54/128)"
     ]
    },
    {
     "name": "stderr",
     "output_type": "stream",
     "text": [
      "frame=  250 fps=0.3 q=-0.0 size=N/A time=00:04:08.00 bitrate=N/A dup=0 drop=5951 speed=0.253x    \r"
     ]
    },
    {
     "name": "stdout",
     "output_type": "stream",
     "text": [
      "[download]  42.2% of ~ 264.76MiB at    1.52MiB/s ETA 01:39 (frag 55/128)"
     ]
    },
    {
     "name": "stderr",
     "output_type": "stream",
     "text": [
      "frame=  251 fps=0.2 q=-0.0 size=N/A time=00:04:09.00 bitrate=N/A dup=0 drop=5976 speed=0.219x    \r"
     ]
    },
    {
     "name": "stdout",
     "output_type": "stream",
     "text": [
      "[download]  43.8% of ~ 255.24MiB at    1.42MiB/s ETA 01:41 (frag 55/128)"
     ]
    },
    {
     "name": "stderr",
     "output_type": "stream",
     "text": [
      "frame=   11 fps=0.2 q=-0.0 size=N/A time=00:00:09.00 bitrate=N/A dup=0 drop=229 speed=0.203x     \r"
     ]
    },
    {
     "name": "stdout",
     "output_type": "stream",
     "text": [
      "[download]  43.9% of ~ 256.37MiB at    1.30MiB/s ETA 01:45 (frag 55/128)"
     ]
    },
    {
     "name": "stderr",
     "output_type": "stream",
     "text": [
      "frame=  164 fps=0.2 q=-0.0 size=N/A time=00:02:42.00 bitrate=N/A dup=0 drop=7965 speed=0.152x    \r"
     ]
    },
    {
     "name": "stdout",
     "output_type": "stream",
     "text": [
      "[download]  43.1% of ~ 263.35MiB at    1.37MiB/s ETA 01:45 (frag 56/128)"
     ]
    },
    {
     "name": "stderr",
     "output_type": "stream",
     "text": [
      "frame=  204 fps=0.2 q=-0.0 size=N/A time=00:03:22.00 bitrate=N/A dup=0 drop=5856 speed=0.232x    \r"
     ]
    },
    {
     "name": "stdout",
     "output_type": "stream",
     "text": [
      "[download]  44.5% of ~ 254.81MiB at    1.35MiB/s ETA 01:45 (frag 56/128)"
     ]
    },
    {
     "name": "stderr",
     "output_type": "stream",
     "text": [
      "frame=  151 fps=0.2 q=-0.0 size=N/A time=00:02:29.00 bitrate=N/A dup=0 drop=4319 speed=0.195x    \r"
     ]
    },
    {
     "name": "stdout",
     "output_type": "stream",
     "text": [
      "[download]  44.7% of ~ 255.86MiB at    1.42MiB/s ETA 01:43 (frag 56/128)"
     ]
    },
    {
     "name": "stderr",
     "output_type": "stream",
     "text": [
      "frame=  164 fps=0.2 q=-0.0 size=N/A time=00:02:42.00 bitrate=N/A dup=0 drop=7978 speed=0.152x    \r"
     ]
    },
    {
     "name": "stdout",
     "output_type": "stream",
     "text": [
      "[download]  43.7% of ~ 264.75MiB at    1.44MiB/s ETA 01:42 (frag 57/128)"
     ]
    },
    {
     "name": "stderr",
     "output_type": "stream",
     "text": [
      "frame=   71 fps=0.2 q=-0.0 size=N/A time=00:01:09.00 bitrate=N/A dup=0 drop=3397 speed=0.157x    \r"
     ]
    },
    {
     "name": "stdout",
     "output_type": "stream",
     "text": [
      "[download]  45.4% of ~ 255.54MiB at    1.38MiB/s ETA 01:42 (frag 57/128)"
     ]
    },
    {
     "name": "stderr",
     "output_type": "stream",
     "text": [
      "frame=  119 fps=1.6 q=-0.0 size=N/A time=00:01:57.00 bitrate=N/A dup=0 drop=2826 speed=1.62x     \r"
     ]
    },
    {
     "name": "stdout",
     "output_type": "stream",
     "text": [
      "[download]  45.7% of ~ 257.47MiB at    1.35MiB/s ETA 01:43 (frag 57/128)"
     ]
    },
    {
     "name": "stderr",
     "output_type": "stream",
     "text": [
      "frame=   71 fps=0.2 q=-0.0 size=N/A time=00:01:09.00 bitrate=N/A dup=0 drop=3403 speed=0.157x    \r"
     ]
    },
    {
     "name": "stdout",
     "output_type": "stream",
     "text": [
      "[download]  44.5% of ~ 264.39MiB at    1.54MiB/s ETA 01:40 (frag 58/128)"
     ]
    },
    {
     "name": "stderr",
     "output_type": "stream",
     "text": [
      "frame=  205 fps=0.2 q=-0.0 size=N/A time=00:03:23.00 bitrate=N/A dup=0 drop=5882 speed=0.232x    \r"
     ]
    },
    {
     "name": "stdout",
     "output_type": "stream",
     "text": [
      "[download]  46.1% of ~ 255.49MiB at    1.49MiB/s ETA 01:39 (frag 58/128)"
     ]
    },
    {
     "name": "stderr",
     "output_type": "stream",
     "text": [
      "frame=  165 fps=0.2 q=-0.0 size=N/A time=00:02:43.00 bitrate=N/A dup=0 drop=8004 speed=0.152x    \r"
     ]
    },
    {
     "name": "stdout",
     "output_type": "stream",
     "text": [
      "[download]  46.3% of ~ 256.51MiB at    1.37MiB/s ETA 01:41 (frag 58/128)"
     ]
    },
    {
     "name": "stderr",
     "output_type": "stream",
     "text": [
      "frame=  122 fps=1.7 q=-0.0 size=N/A time=00:02:00.00 bitrate=N/A dup=0 drop=2899 speed=1.63x     \r"
     ]
    },
    {
     "name": "stdout",
     "output_type": "stream",
     "text": [
      "[download]  45.5% of ~ 262.66MiB at    1.32MiB/s ETA 01:43 (frag 59/128)"
     ]
    },
    {
     "name": "stderr",
     "output_type": "stream",
     "text": [
      "frame=  123 fps=1.7 q=-0.0 size=N/A time=00:02:01.00 bitrate=N/A dup=0 drop=2914 speed=1.63x     \r"
     ]
    },
    {
     "name": "stdout",
     "output_type": "stream",
     "text": [
      "[download]  46.9% of ~ 254.73MiB at    1.33MiB/s ETA 01:42 (frag 59/128)"
     ]
    },
    {
     "name": "stderr",
     "output_type": "stream",
     "text": [
      "frame=  252 fps=0.2 q=-0.0 size=N/A time=00:04:10.00 bitrate=N/A dup=0 drop=6012 speed=0.218x    \r"
     ]
    },
    {
     "name": "stdout",
     "output_type": "stream",
     "text": [
      "[download]  47.0% of ~ 255.25MiB at    1.34MiB/s ETA 01:42 (frag 59/128)"
     ]
    },
    {
     "name": "stderr",
     "output_type": "stream",
     "text": [
      "frame=  152 fps=0.2 q=-0.0 size=N/A time=00:02:30.00 bitrate=N/A dup=0 drop=4350 speed=0.195x    \r"
     ]
    },
    {
     "name": "stdout",
     "output_type": "stream",
     "text": [
      "[download]  46.6% of ~ 257.82MiB at    1.34MiB/s ETA 01:42 (frag 60/128)"
     ]
    },
    {
     "name": "stderr",
     "output_type": "stream",
     "text": [
      "frame=  165 fps=0.2 q=-0.0 size=N/A time=00:02:43.00 bitrate=N/A dup=0 drop=8025 speed=0.152x    \r"
     ]
    },
    {
     "name": "stdout",
     "output_type": "stream",
     "text": [
      "[download]  47.7% of ~ 252.20MiB at    1.14MiB/s ETA 01:49 (frag 60/128)"
     ]
    },
    {
     "name": "stderr",
     "output_type": "stream",
     "text": [
      "frame=  253 fps=0.2 q=-0.0 size=N/A time=00:04:11.00 bitrate=N/A dup=0 drop=6020 speed=0.219x    \r"
     ]
    },
    {
     "name": "stdout",
     "output_type": "stream",
     "text": [
      "[download]  47.9% of ~ 253.12MiB at    1.08MiB/s ETA 01:53 (frag 60/128)"
     ]
    },
    {
     "name": "stderr",
     "output_type": "stream",
     "text": [
      "frame=  166 fps=0.2 q=-0.0 size=N/A time=00:02:44.00 bitrate=N/A dup=0 drop=8029 speed=0.153x    \r"
     ]
    },
    {
     "name": "stdout",
     "output_type": "stream",
     "text": [
      "[download]  47.7% of ~ 256.27MiB at    1.19MiB/s ETA 01:51 (frag 60/128)"
     ]
    },
    {
     "name": "stderr",
     "output_type": "stream",
     "text": [
      "frame=  253 fps=0.2 q=-0.0 size=N/A time=00:04:11.00 bitrate=N/A dup=0 drop=6023 speed=0.219x    \r"
     ]
    },
    {
     "name": "stdout",
     "output_type": "stream",
     "text": [
      "[download]  46.8% of ~ 261.25MiB at    1.20MiB/s ETA 01:51 (frag 61/128)"
     ]
    },
    {
     "name": "stderr",
     "output_type": "stream",
     "text": [
      "frame=  166 fps=0.2 q=-0.0 size=N/A time=00:02:44.00 bitrate=N/A dup=0 drop=8041 speed=0.152x    \r"
     ]
    },
    {
     "name": "stdout",
     "output_type": "stream",
     "text": [
      "[download]  48.4% of ~ 252.58MiB at    1.09MiB/s ETA 01:55 (frag 61/128)"
     ]
    },
    {
     "name": "stderr",
     "output_type": "stream",
     "text": [
      "frame=  129 fps=1.7 q=-0.0 size=N/A time=00:02:07.00 bitrate=N/A dup=0 drop=3051 speed=1.63x     \r"
     ]
    },
    {
     "name": "stdout",
     "output_type": "stream",
     "text": [
      "[download]  48.6% of ~ 253.55MiB at    1.05MiB/s ETA 01:59 (frag 61/128)"
     ]
    },
    {
     "name": "stderr",
     "output_type": "stream",
     "text": [
      "frame=  253 fps=0.2 q=-0.0 size=N/A time=00:04:11.00 bitrate=N/A dup=0 drop=6037 speed=0.219x    \r"
     ]
    },
    {
     "name": "stdout",
     "output_type": "stream",
     "text": [
      "[download]  48.5% of ~ 260.78MiB at    1.96MiB/s ETA 01:42 (frag 61/128)"
     ]
    },
    {
     "name": "stderr",
     "output_type": "stream",
     "text": [
      "frame=   72 fps=0.2 q=-0.0 size=N/A time=00:01:10.00 bitrate=N/A dup=0 drop=3454 speed=0.157x    \r"
     ]
    },
    {
     "name": "stdout",
     "output_type": "stream",
     "text": [
      "[download]  46.9% of ~ 269.68MiB at    2.10MiB/s ETA 01:37 (frag 62/128)"
     ]
    },
    {
     "name": "stderr",
     "output_type": "stream",
     "text": [
      "frame=  153 fps=0.2 q=-0.0 size=N/A time=00:02:31.00 bitrate=N/A dup=0 drop=4379 speed=0.196x    \r"
     ]
    },
    {
     "name": "stdout",
     "output_type": "stream",
     "text": [
      "[download]  49.2% of ~ 256.96MiB at    2.06MiB/s ETA 01:34 (frag 62/128)"
     ]
    },
    {
     "name": "stderr",
     "output_type": "stream",
     "text": [
      "frame=  166 fps=0.2 q=-0.0 size=N/A time=00:02:44.00 bitrate=N/A dup=0 drop=8057 speed=0.152x    \r"
     ]
    },
    {
     "name": "stdout",
     "output_type": "stream",
     "text": [
      "[download]  49.3% of ~ 257.46MiB at    1.72MiB/s ETA 01:32 (frag 62/128)"
     ]
    },
    {
     "name": "stderr",
     "output_type": "stream",
     "text": [
      "frame=   72 fps=0.2 q=-0.0 size=N/A time=00:01:10.00 bitrate=N/A dup=0 drop=3463 speed=0.157x    \r"
     ]
    },
    {
     "name": "stdout",
     "output_type": "stream",
     "text": [
      "[download]  49.1% of ~ 258.30MiB at    1.67MiB/s ETA 01:31 (frag 63/128)"
     ]
    },
    {
     "name": "stderr",
     "output_type": "stream",
     "text": [
      "frame=   73 fps=0.2 q=-0.0 size=N/A time=00:01:11.00 bitrate=N/A dup=0 drop=3473 speed=0.159x    \r"
     ]
    },
    {
     "name": "stdout",
     "output_type": "stream",
     "text": [
      "[download]  50.0% of ~ 253.85MiB at    1.58MiB/s ETA 01:29 (frag 63/128)"
     ]
    },
    {
     "name": "stderr",
     "output_type": "stream",
     "text": [
      "frame=  153 fps=0.2 q=-0.0 size=N/A time=00:02:31.00 bitrate=N/A dup=0 drop=4392 speed=0.195x    \r"
     ]
    },
    {
     "name": "stdout",
     "output_type": "stream",
     "text": [
      "[download]  50.4% of ~ 255.60MiB at    1.58MiB/s ETA 01:26 (frag 63/128)"
     ]
    },
    {
     "name": "stderr",
     "output_type": "stream",
     "text": [
      "frame=  254 fps=0.3 q=-0.0 size=N/A time=00:04:12.00 bitrate=N/A dup=0 drop=6046 speed=0.254x    \r"
     ]
    },
    {
     "name": "stdout",
     "output_type": "stream",
     "text": [
      "[download]  48.5% of ~ 270.29MiB at    1.55MiB/s ETA 01:26 (frag 64/128)"
     ]
    },
    {
     "name": "stderr",
     "output_type": "stream",
     "text": [
      "frame=  135 fps=1.6 q=-0.0 size=N/A time=00:02:13.00 bitrate=N/A dup=0 drop=3209 speed=1.61x     \r"
     ]
    },
    {
     "name": "stdout",
     "output_type": "stream",
     "text": [
      "[download]  50.8% of ~ 257.98MiB at    1.75MiB/s ETA 01:22 (frag 64/128)"
     ]
    },
    {
     "name": "stderr",
     "output_type": "stream",
     "text": [
      "frame=  154 fps=0.2 q=-0.0 size=N/A time=00:02:32.00 bitrate=N/A dup=0 drop=4405 speed=0.196x    \r"
     ]
    },
    {
     "name": "stdout",
     "output_type": "stream",
     "text": [
      "[download]  51.0% of ~ 258.90MiB at    1.95MiB/s ETA 01:16 (frag 64/128)"
     ]
    },
    {
     "name": "stderr",
     "output_type": "stream",
     "text": [
      "frame=  167 fps=0.2 q=-0.0 size=N/A time=00:02:45.00 bitrate=N/A dup=0 drop=8093 speed=0.153x    \r"
     ]
    },
    {
     "name": "stdout",
     "output_type": "stream",
     "text": [
      "[download]  51.2% of ~ 259.88MiB at    2.09MiB/s ETA 01:13 (frag 64/128)"
     ]
    },
    {
     "name": "stderr",
     "output_type": "stream",
     "text": [
      "frame=  255 fps=0.2 q=-0.0 size=N/A time=00:04:13.00 bitrate=N/A dup=0 drop=6075 speed=0.219x    \r"
     ]
    },
    {
     "name": "stdout",
     "output_type": "stream",
     "text": [
      "[download]  49.3% of ~ 274.03MiB at    2.61MiB/s ETA 01:06 (frag 65/128)"
     ]
    },
    {
     "name": "stderr",
     "output_type": "stream",
     "text": [
      "frame=  255 fps=0.2 q=-0.0 size=N/A time=00:04:13.00 bitrate=N/A dup=0 drop=6083 speed=0.219x    \r"
     ]
    },
    {
     "name": "stdout",
     "output_type": "stream",
     "text": [
      "[download]  51.7% of ~ 262.43MiB at    2.25MiB/s ETA 01:05 (frag 65/128)"
     ]
    },
    {
     "name": "stderr",
     "output_type": "stream",
     "text": [
      "frame=  167 fps=0.2 q=-0.0 size=N/A time=00:02:45.00 bitrate=N/A dup=0 drop=8111 speed=0.152x    \r"
     ]
    },
    {
     "name": "stdout",
     "output_type": "stream",
     "text": [
      "[download]  51.9% of ~ 263.88MiB at    2.36MiB/s ETA 01:02 (frag 65/128)"
     ]
    },
    {
     "name": "stderr",
     "output_type": "stream",
     "text": [
      "frame=   15 fps=0.2 q=-0.0 size=N/A time=00:00:13.00 bitrate=N/A dup=0 drop=320 speed=0.216x    \r"
     ]
    },
    {
     "name": "stdout",
     "output_type": "stream",
     "text": [
      "[download]  50.6% of ~ 271.56MiB at    2.47MiB/s ETA 01:00 (frag 66/128)"
     ]
    },
    {
     "name": "stderr",
     "output_type": "stream",
     "text": [
      "frame=  256 fps=0.2 q=-0.0 size=N/A time=00:04:14.00 bitrate=N/A dup=0 drop=6093 speed=0.22x     \r"
     ]
    },
    {
     "name": "stdout",
     "output_type": "stream",
     "text": [
      "[download]  52.3% of ~ 262.77MiB at    2.00MiB/s ETA 01:08 (frag 66/128)"
     ]
    },
    {
     "name": "stderr",
     "output_type": "stream",
     "text": [
      "frame=  154 fps=0.2 q=-0.0 size=N/A time=00:02:32.00 bitrate=N/A dup=0 drop=4427 speed=0.195x    \r"
     ]
    },
    {
     "name": "stdout",
     "output_type": "stream",
     "text": [
      "[download]  52.5% of ~ 263.72MiB at    1.36MiB/s ETA 01:23 (frag 66/128)"
     ]
    },
    {
     "name": "stderr",
     "output_type": "stream",
     "text": [
      "frame=  142 fps=1.6 q=-0.0 size=N/A time=00:02:20.00 bitrate=N/A dup=0 drop=3356 speed=1.62x     \r"
     ]
    },
    {
     "name": "stdout",
     "output_type": "stream",
     "text": [
      "[download]  52.7% of ~ 264.68MiB at    1.43MiB/s ETA 01:23 (frag 66/128)"
     ]
    },
    {
     "name": "stderr",
     "output_type": "stream",
     "text": [
      "frame=  155 fps=0.2 q=-0.0 size=N/A time=00:02:33.00 bitrate=N/A dup=0 drop=4431 speed=0.196x    \r"
     ]
    },
    {
     "name": "stdout",
     "output_type": "stream",
     "text": [
      "[download]  51.6% of ~ 270.78MiB at    1.68MiB/s ETA 01:21 (frag 67/128)"
     ]
    },
    {
     "name": "stderr",
     "output_type": "stream",
     "text": [
      "frame=   74 fps=0.2 q=-0.0 size=N/A time=00:01:12.00 bitrate=N/A dup=0 drop=3521 speed=0.159x    \r"
     ]
    },
    {
     "name": "stdout",
     "output_type": "stream",
     "text": [
      "[download]  53.1% of ~ 262.91MiB at    1.59MiB/s ETA 01:20 (frag 67/128)"
     ]
    },
    {
     "name": "stderr",
     "output_type": "stream",
     "text": [
      "frame=  168 fps=0.2 q=-0.0 size=N/A time=00:02:46.00 bitrate=N/A dup=0 drop=8138 speed=0.153x    \r"
     ]
    },
    {
     "name": "stdout",
     "output_type": "stream",
     "text": [
      "[download]  53.3% of ~ 263.79MiB at    1.51MiB/s ETA 01:21 (frag 67/128)"
     ]
    },
    {
     "name": "stderr",
     "output_type": "stream",
     "text": [
      "frame=  168 fps=0.2 q=-0.0 size=N/A time=00:02:46.00 bitrate=N/A dup=0 drop=8142 speed=0.153x    \r"
     ]
    },
    {
     "name": "stdout",
     "output_type": "stream",
     "text": [
      "[download]  52.4% of ~ 270.26MiB at    1.45MiB/s ETA 01:23 (frag 68/128)"
     ]
    },
    {
     "name": "stderr",
     "output_type": "stream",
     "text": [
      "frame=  155 fps=0.2 q=-0.0 size=N/A time=00:02:33.00 bitrate=N/A dup=0 drop=4451 speed=0.196x    \r"
     ]
    },
    {
     "name": "stdout",
     "output_type": "stream",
     "text": [
      "[download]  54.0% of ~ 263.62MiB at    1.51MiB/s ETA 01:22 (frag 68/128)"
     ]
    },
    {
     "name": "stderr",
     "output_type": "stream",
     "text": [
      "frame=  145 fps=1.6 q=-0.0 size=N/A time=00:02:23.00 bitrate=N/A dup=0 drop=3448 speed= 1.6x     \r"
     ]
    },
    {
     "name": "stdout",
     "output_type": "stream",
     "text": [
      "[download]  53.6% of ~ 265.54MiB at    1.45MiB/s ETA 01:23 (frag 69/128)"
     ]
    },
    {
     "name": "stderr",
     "output_type": "stream",
     "text": [
      "frame=  256 fps=0.3 q=-0.0 size=N/A time=00:04:14.00 bitrate=N/A dup=0 drop=6109 speed=0.254x    \r"
     ]
    },
    {
     "name": "stdout",
     "output_type": "stream",
     "text": [
      "[download]  54.7% of ~ 260.35MiB at    1.29MiB/s ETA 01:27 (frag 69/128)"
     ]
    },
    {
     "name": "stderr",
     "output_type": "stream",
     "text": [
      "frame=   17 fps=0.3 q=-0.0 size=N/A time=00:00:15.00 bitrate=N/A dup=0 drop=356 speed=0.228x     \r"
     ]
    },
    {
     "name": "stdout",
     "output_type": "stream",
     "text": [
      "[download]  54.9% of ~ 261.25MiB at    1.09MiB/s ETA 01:36 (frag 69/128)"
     ]
    },
    {
     "name": "stderr",
     "output_type": "stream",
     "text": [
      "frame=  257 fps=0.2 q=-0.0 size=N/A time=00:04:15.00 bitrate=N/A dup=0 drop=6135 speed=0.22x    \r"
     ]
    },
    {
     "name": "stdout",
     "output_type": "stream",
     "text": [
      "[download]  55.1% of ~ 262.17MiB at    1.05MiB/s ETA 01:39 (frag 69/128)"
     ]
    },
    {
     "name": "stderr",
     "output_type": "stream",
     "text": [
      "frame=  256 fps=0.3 q=-0.0 size=N/A time=00:04:14.00 bitrate=N/A dup=0 drop=6113 speed=0.253x    \r"
     ]
    },
    {
     "name": "stdout",
     "output_type": "stream",
     "text": [
      "[download]  54.7% of ~ 267.65MiB at    1.22MiB/s ETA 01:36 (frag 69/128)"
     ]
    },
    {
     "name": "stderr",
     "output_type": "stream",
     "text": [
      "frame=  168 fps=0.2 q=-0.0 size=N/A time=00:02:46.00 bitrate=N/A dup=0 drop=8168 speed=0.152x    \r"
     ]
    },
    {
     "name": "stdout",
     "output_type": "stream",
     "text": [
      "[download]  53.2% of ~ 275.23MiB at    1.49MiB/s ETA 01:33 (frag 70/128)"
     ]
    },
    {
     "name": "stderr",
     "output_type": "stream",
     "text": [
      "frame=  210 fps=0.2 q=-0.0 size=N/A time=00:03:28.00 bitrate=N/A dup=0 drop=6030 speed=0.233x    \r"
     ]
    },
    {
     "name": "stdout",
     "output_type": "stream",
     "text": [
      "[download]  55.5% of ~ 264.24MiB at    1.69MiB/s ETA 01:27 (frag 70/128)"
     ]
    },
    {
     "name": "stderr",
     "output_type": "stream",
     "text": [
      "frame=   74 fps=0.2 q=-0.0 size=N/A time=00:01:12.00 bitrate=N/A dup=0 drop=3565 speed=0.157x    \r"
     ]
    },
    {
     "name": "stdout",
     "output_type": "stream",
     "text": [
      "[download]  55.5% of ~ 267.62MiB at    2.22MiB/s ETA 01:19 (frag 70/128)"
     ]
    },
    {
     "name": "stderr",
     "output_type": "stream",
     "text": [
      "frame=  169 fps=0.2 q=-0.0 size=N/A time=00:02:47.00 bitrate=N/A dup=0 drop=8182 speed=0.153x    \r"
     ]
    },
    {
     "name": "stdout",
     "output_type": "stream",
     "text": [
      "[download]  54.7% of ~ 271.26MiB at    2.36MiB/s ETA 01:15 (frag 71/128)"
     ]
    },
    {
     "name": "stderr",
     "output_type": "stream",
     "text": [
      "frame=  258 fps=0.2 q=-0.0 size=N/A time=00:04:16.00 bitrate=N/A dup=0 drop=6155 speed=0.22x     \r"
     ]
    },
    {
     "name": "stdout",
     "output_type": "stream",
     "text": [
      "[download]  56.3% of ~ 263.93MiB at    1.87MiB/s ETA 01:23 (frag 71/128)"
     ]
    },
    {
     "name": "stderr",
     "output_type": "stream",
     "text": [
      "frame=  257 fps=0.3 q=-0.0 size=N/A time=00:04:15.00 bitrate=N/A dup=0 drop=6138 speed=0.254x    \r"
     ]
    },
    {
     "name": "stdout",
     "output_type": "stream",
     "text": [
      "[download]  56.4% of ~ 264.81MiB at    1.10MiB/s ETA 01:43 (frag 71/128)"
     ]
    },
    {
     "name": "stderr",
     "output_type": "stream",
     "text": [
      "frame=  157 fps=0.2 q=-0.0 size=N/A time=00:02:35.00 bitrate=N/A dup=0 drop=4492 speed=0.197x    \r"
     ]
    },
    {
     "name": "stdout",
     "output_type": "stream",
     "text": [
      "[download]  56.9% of ~ 267.48MiB at    1.67MiB/s ETA 01:34 (frag 71/128)"
     ]
    },
    {
     "name": "stderr",
     "output_type": "stream",
     "text": [
      "frame=  211 fps=0.2 q=-0.0 size=N/A time=00:03:29.00 bitrate=N/A dup=0 drop=6050 speed=0.233x    \r"
     ]
    },
    {
     "name": "stdout",
     "output_type": "stream",
     "text": [
      "[download]  54.9% of ~ 276.76MiB at    1.86MiB/s ETA 01:30 (frag 72/128)"
     ]
    },
    {
     "name": "stderr",
     "output_type": "stream",
     "text": [
      "frame=   75 fps=0.2 q=-0.0 size=N/A time=00:01:13.00 bitrate=N/A dup=0 drop=3591 speed=0.158x    \r"
     ]
    },
    {
     "name": "stdout",
     "output_type": "stream",
     "text": [
      "[download]  57.0% of ~ 266.66MiB at    1.67MiB/s ETA 01:30 (frag 72/128)"
     ]
    },
    {
     "name": "stderr",
     "output_type": "stream",
     "text": [
      "frame=  259 fps=0.2 q=-0.0 size=N/A time=00:04:17.00 bitrate=N/A dup=0 drop=6169 speed=0.22x     \r"
     ]
    },
    {
     "name": "stdout",
     "output_type": "stream",
     "text": [
      "[download]  57.2% of ~ 267.51MiB at    1.95MiB/s ETA 01:21 (frag 72/128)"
     ]
    },
    {
     "name": "stderr",
     "output_type": "stream",
     "text": [
      "frame=  156 fps=1.6 q=-0.0 size=N/A time=00:02:34.00 bitrate=N/A dup=0 drop=3692 speed=1.61x    \r"
     ]
    },
    {
     "name": "stdout",
     "output_type": "stream",
     "text": [
      "[download]  57.2% of ~ 270.14MiB at    2.31MiB/s ETA 01:13 (frag 72/128)"
     ]
    },
    {
     "name": "stderr",
     "output_type": "stream",
     "text": [
      "frame=   75 fps=0.2 q=-0.0 size=N/A time=00:01:13.00 bitrate=N/A dup=0 drop=3598 speed=0.158x    \r"
     ]
    },
    {
     "name": "stdout",
     "output_type": "stream",
     "text": [
      "[download]  56.1% of ~ 275.59MiB at    2.39MiB/s ETA 01:11 (frag 73/128)"
     ]
    },
    {
     "name": "stderr",
     "output_type": "stream",
     "text": [
      "frame=  158 fps=1.6 q=-0.0 size=N/A time=00:02:36.00 bitrate=N/A dup=0 drop=3740 speed=1.61x     \r"
     ]
    },
    {
     "name": "stdout",
     "output_type": "stream",
     "text": [
      "[download]  57.8% of ~ 267.46MiB at    2.10MiB/s ETA 01:12 (frag 73/128)"
     ]
    },
    {
     "name": "stderr",
     "output_type": "stream",
     "text": [
      "frame=  258 fps=0.3 q=-0.0 size=N/A time=00:04:16.00 bitrate=N/A dup=0 drop=6158 speed=0.254x    \r"
     ]
    },
    {
     "name": "stdout",
     "output_type": "stream",
     "text": [
      "[download]  57.9% of ~ 267.88MiB at    1.50MiB/s ETA 01:21 (frag 73/128)"
     ]
    },
    {
     "name": "stderr",
     "output_type": "stream",
     "text": [
      "frame=   18 fps=0.2 q=-0.0 size=N/A time=00:00:16.00 bitrate=N/A dup=0 drop=398 speed=0.22x      \r"
     ]
    },
    {
     "name": "stdout",
     "output_type": "stream",
     "text": [
      "[download]  58.1% of ~ 270.91MiB at    1.80MiB/s ETA 01:17 (frag 73/128)"
     ]
    },
    {
     "name": "stderr",
     "output_type": "stream",
     "text": [
      "frame=  158 fps=0.2 q=-0.0 size=N/A time=00:02:36.00 bitrate=N/A dup=0 drop=4515 speed=0.197x    \r"
     ]
    },
    {
     "name": "stdout",
     "output_type": "stream",
     "text": [
      "[download]  56.8% of ~ 277.15MiB at    1.98MiB/s ETA 01:15 (frag 74/128)"
     ]
    },
    {
     "name": "stderr",
     "output_type": "stream",
     "text": [
      "frame=  161 fps=1.6 q=-0.0 size=N/A time=00:02:39.00 bitrate=N/A dup=0 drop=3812 speed=1.61x     \r"
     ]
    },
    {
     "name": "stdout",
     "output_type": "stream",
     "text": [
      "[download]  58.6% of ~ 268.72MiB at    1.73MiB/s ETA 01:15 (frag 74/128)"
     ]
    },
    {
     "name": "stderr",
     "output_type": "stream",
     "text": [
      "frame=   76 fps=0.2 q=-0.0 size=N/A time=00:01:14.00 bitrate=N/A dup=0 drop=3619 speed=0.159x    \r"
     ]
    },
    {
     "name": "stdout",
     "output_type": "stream",
     "text": [
      "[download]  58.9% of ~ 270.38MiB at    1.39MiB/s ETA 01:19 (frag 74/128)"
     ]
    },
    {
     "name": "stderr",
     "output_type": "stream",
     "text": [
      "frame=  158 fps=0.2 q=-0.0 size=N/A time=00:02:36.00 bitrate=N/A dup=0 drop=4523 speed=0.197x    \r"
     ]
    },
    {
     "name": "stdout",
     "output_type": "stream",
     "text": [
      "[download]  57.9% of ~ 275.17MiB at    1.63MiB/s ETA 01:17 (frag 75/128)"
     ]
    },
    {
     "name": "stderr",
     "output_type": "stream",
     "text": [
      "frame=  164 fps=1.6 q=-0.0 size=N/A time=00:02:42.00 bitrate=N/A dup=0 drop=3891 speed=1.62x     \r"
     ]
    },
    {
     "name": "stdout",
     "output_type": "stream",
     "text": [
      "[download]  59.4% of ~ 268.45MiB at    1.23MiB/s ETA 01:25 (frag 75/128)"
     ]
    },
    {
     "name": "stderr",
     "output_type": "stream",
     "text": [
      "frame=  259 fps=0.3 q=-0.0 size=N/A time=00:04:17.00 bitrate=N/A dup=0 drop=6184 speed=0.254x    \r"
     ]
    },
    {
     "name": "stdout",
     "output_type": "stream",
     "text": [
      "[download]  59.7% of ~ 270.03MiB at    1.31MiB/s ETA 01:29 (frag 75/128)"
     ]
    },
    {
     "name": "stderr",
     "output_type": "stream",
     "text": [
      "frame=  212 fps=0.2 q=-0.0 size=N/A time=00:03:30.00 bitrate=N/A dup=0 drop=6103 speed=0.233x    \r"
     ]
    },
    {
     "name": "stdout",
     "output_type": "stream",
     "text": [
      "[download]  58.4% of ~ 277.66MiB at    1.68MiB/s ETA 01:22 (frag 76/128)"
     ]
    },
    {
     "name": "stderr",
     "output_type": "stream",
     "text": [
      "frame=   19 fps=0.2 q=-0.0 size=N/A time=00:00:17.00 bitrate=N/A dup=0 drop=425 speed=0.221x     \r"
     ]
    },
    {
     "name": "stdout",
     "output_type": "stream",
     "text": [
      "[download]  60.2% of ~ 269.48MiB at    1.60MiB/s ETA 01:22 (frag 76/128)"
     ]
    },
    {
     "name": "stderr",
     "output_type": "stream",
     "text": [
      "frame=  159 fps=0.2 q=-0.0 size=N/A time=00:02:37.00 bitrate=N/A dup=0 drop=4544 speed=0.197x    \r"
     ]
    },
    {
     "name": "stdout",
     "output_type": "stream",
     "text": [
      "[download]  60.2% of ~ 269.87MiB at    1.35MiB/s ETA 01:23 (frag 76/128)"
     ]
    },
    {
     "name": "stderr",
     "output_type": "stream",
     "text": [
      "frame=  159 fps=0.2 q=-0.0 size=N/A time=00:02:37.00 bitrate=N/A dup=0 drop=4544 speed=0.197x    \r"
     ]
    },
    {
     "name": "stdout",
     "output_type": "stream",
     "text": [
      "[download]  60.4% of ~ 271.12MiB at    1.59MiB/s ETA 01:20 (frag 76/128)"
     ]
    },
    {
     "name": "stderr",
     "output_type": "stream",
     "text": [
      "frame=  260 fps=0.2 q=-0.0 size=N/A time=00:04:18.00 bitrate=N/A dup=0 drop=6204 speed=0.22x     \r"
     ]
    },
    {
     "name": "stdout",
     "output_type": "stream",
     "text": [
      "[download]  59.5% of ~ 275.06MiB at    1.74MiB/s ETA 01:17 (frag 77/128)"
     ]
    },
    {
     "name": "stderr",
     "output_type": "stream",
     "text": [
      "frame=  171 fps=0.2 q=-0.0 size=N/A time=00:02:49.00 bitrate=N/A dup=0 drop=8297 speed=0.153x    \r"
     ]
    },
    {
     "name": "stdout",
     "output_type": "stream",
     "text": [
      "[download]  60.9% of ~ 268.79MiB at    1.50MiB/s ETA 01:18 (frag 77/128)"
     ]
    },
    {
     "name": "stderr",
     "output_type": "stream",
     "text": [
      "frame=  260 fps=0.2 q=-0.0 size=N/A time=00:04:18.00 bitrate=N/A dup=0 drop=6209 speed=0.22x     \r"
     ]
    },
    {
     "name": "stdout",
     "output_type": "stream",
     "text": [
      "[download]  61.0% of ~ 269.18MiB at    1.02MiB/s ETA 01:33 (frag 77/128)"
     ]
    },
    {
     "name": "stderr",
     "output_type": "stream",
     "text": [
      "frame=  171 fps=1.6 q=-0.0 size=N/A time=00:02:49.00 bitrate=N/A dup=0 drop=4059 speed=1.62x     \r"
     ]
    },
    {
     "name": "stdout",
     "output_type": "stream",
     "text": [
      "[download]  61.3% of ~ 270.41MiB at    1.00MiB/s ETA 01:35 (frag 77/128)"
     ]
    },
    {
     "name": "stderr",
     "output_type": "stream",
     "text": [
      "frame=  171 fps=0.2 q=-0.0 size=N/A time=00:02:49.00 bitrate=N/A dup=0 drop=8303 speed=0.153x    \r"
     ]
    },
    {
     "name": "stdout",
     "output_type": "stream",
     "text": [
      "[download]  60.1% of ~ 276.67MiB at    1.40MiB/s ETA 01:28 (frag 78/128)"
     ]
    },
    {
     "name": "stderr",
     "output_type": "stream",
     "text": [
      "frame=   76 fps=0.2 q=-0.0 size=N/A time=00:01:14.00 bitrate=N/A dup=0 drop=3666 speed=0.157x    \r"
     ]
    },
    {
     "name": "stdout",
     "output_type": "stream",
     "text": [
      "[download]  61.7% of ~ 269.29MiB at    1.39MiB/s ETA 01:27 (frag 78/128)"
     ]
    },
    {
     "name": "stderr",
     "output_type": "stream",
     "text": [
      "frame=  171 fps=0.2 q=-0.0 size=N/A time=00:02:49.00 bitrate=N/A dup=0 drop=8315 speed=0.153x    \r"
     ]
    },
    {
     "name": "stdout",
     "output_type": "stream",
     "text": [
      "[download]  61.9% of ~ 270.08MiB at    1.30MiB/s ETA 01:25 (frag 78/128)"
     ]
    },
    {
     "name": "stderr",
     "output_type": "stream",
     "text": [
      "frame=   21 fps=0.3 q=-0.0 size=N/A time=00:00:19.00 bitrate=N/A dup=0 drop=452 speed=0.235x     \r"
     ]
    },
    {
     "name": "stdout",
     "output_type": "stream",
     "text": [
      "[download]  61.2% of ~ 273.90MiB at    1.49MiB/s ETA 01:22 (frag 79/128)"
     ]
    },
    {
     "name": "stderr",
     "output_type": "stream",
     "text": [
      "frame=  261 fps=0.2 q=-0.0 size=N/A time=00:04:19.00 bitrate=N/A dup=0 drop=6224 speed=0.22x     \r"
     ]
    },
    {
     "name": "stdout",
     "output_type": "stream",
     "text": [
      "[download]  62.5% of ~ 268.19MiB at    1.43MiB/s ETA 01:21 (frag 79/128)"
     ]
    },
    {
     "name": "stderr",
     "output_type": "stream",
     "text": [
      "frame=  160 fps=0.2 q=-0.0 size=N/A time=00:02:38.00 bitrate=N/A dup=0 drop=4574 speed=0.197x    \r"
     ]
    },
    {
     "name": "stdout",
     "output_type": "stream",
     "text": [
      "[download]  62.6% of ~ 268.59MiB at    1.21MiB/s ETA 01:23 (frag 79/128)"
     ]
    },
    {
     "name": "stderr",
     "output_type": "stream",
     "text": [
      "frame=  214 fps=0.2 q=-0.0 size=N/A time=00:03:32.00 bitrate=N/A dup=0 drop=6146 speed=0.233x    \r"
     ]
    },
    {
     "name": "stdout",
     "output_type": "stream",
     "text": [
      "[download]  62.9% of ~ 269.79MiB at    1.12MiB/s ETA 01:27 (frag 79/128)"
     ]
    },
    {
     "name": "stderr",
     "output_type": "stream",
     "text": [
      "frame=  176 fps=1.6 q=-0.0 size=N/A time=00:02:54.00 bitrate=N/A dup=0 drop=4180 speed=1.62x     \r"
     ]
    },
    {
     "name": "stdout",
     "output_type": "stream",
     "text": [
      "[download]  62.9% of ~ 271.39MiB at    1.23MiB/s ETA 01:25 (frag 79/128)"
     ]
    },
    {
     "name": "stderr",
     "output_type": "stream",
     "text": [
      "frame=  172 fps=0.2 q=-0.0 size=N/A time=00:02:50.00 bitrate=N/A dup=0 drop=8336 speed=0.154x    \r"
     ]
    },
    {
     "name": "stdout",
     "output_type": "stream",
     "text": [
      "[download]  61.4% of ~ 278.06MiB at    1.42MiB/s ETA 01:22 (frag 80/128)"
     ]
    },
    {
     "name": "stderr",
     "output_type": "stream",
     "text": [
      "frame=  261 fps=0.3 q=-0.0 size=N/A time=00:04:19.00 bitrate=N/A dup=0 drop=6235 speed=0.254x    \r"
     ]
    },
    {
     "name": "stdout",
     "output_type": "stream",
     "text": [
      "[download]  63.3% of ~ 269.95MiB at    1.21MiB/s ETA 01:24 (frag 80/128)"
     ]
    },
    {
     "name": "stderr",
     "output_type": "stream",
     "text": [
      "frame=  172 fps=0.2 q=-0.0 size=N/A time=00:02:50.00 bitrate=N/A dup=0 drop=8348 speed=0.154x    \r"
     ]
    },
    {
     "name": "stdout",
     "output_type": "stream",
     "text": [
      "[download]  62.7% of ~ 274.99MiB at    1.73MiB/s ETA 01:16 (frag 81/128)"
     ]
    },
    {
     "name": "stderr",
     "output_type": "stream",
     "text": [
      "frame=  180 fps=1.6 q=-0.0 size=N/A time=00:02:58.00 bitrate=N/A dup=0 drop=4268 speed=1.63x     \r"
     ]
    },
    {
     "name": "stdout",
     "output_type": "stream",
     "text": [
      "[download]  64.1% of ~ 269.07MiB at    1.70MiB/s ETA 01:13 (frag 81/128)"
     ]
    },
    {
     "name": "stderr",
     "output_type": "stream",
     "text": [
      "frame=  262 fps=0.2 q=-0.0 size=N/A time=00:04:20.00 bitrate=N/A dup=0 drop=6243 speed=0.22x     \r"
     ]
    },
    {
     "name": "stdout",
     "output_type": "stream",
     "text": [
      "[download]  64.2% of ~ 269.83MiB at    1.77MiB/s ETA 01:08 (frag 81/128)"
     ]
    },
    {
     "name": "stderr",
     "output_type": "stream",
     "text": [
      "frame=  160 fps=0.2 q=-0.0 size=N/A time=00:02:38.00 bitrate=N/A dup=0 drop=4594 speed=0.197x    \r"
     ]
    },
    {
     "name": "stdout",
     "output_type": "stream",
     "text": [
      "[download]  63.7% of ~ 272.26MiB at    1.75MiB/s ETA 01:05 (frag 82/128)"
     ]
    },
    {
     "name": "stderr",
     "output_type": "stream",
     "text": [
      "frame=   77 fps=0.2 q=-0.0 size=N/A time=00:01:15.00 bitrate=N/A dup=0 drop=3707 speed=0.157x    \r"
     ]
    },
    {
     "name": "stdout",
     "output_type": "stream",
     "text": [
      "[download]  64.9% of ~ 267.44MiB at    1.42MiB/s ETA 01:09 (frag 82/128)"
     ]
    },
    {
     "name": "stderr",
     "output_type": "stream",
     "text": [
      "frame=  262 fps=0.3 q=-0.0 size=N/A time=00:04:20.00 bitrate=N/A dup=0 drop=6252 speed=0.254x    \r"
     ]
    },
    {
     "name": "stdout",
     "output_type": "stream",
     "text": [
      "[download]  65.0% of ~ 268.16MiB at    1.31MiB/s ETA 01:11 (frag 82/128)"
     ]
    },
    {
     "name": "stderr",
     "output_type": "stream",
     "text": [
      "frame=  172 fps=0.2 q=-0.0 size=N/A time=00:02:50.00 bitrate=N/A dup=0 drop=8368 speed=0.153x    \r"
     ]
    },
    {
     "name": "stdout",
     "output_type": "stream",
     "text": [
      "[download]  64.2% of ~ 272.80MiB at    1.43MiB/s ETA 01:09 (frag 83/128)"
     ]
    },
    {
     "name": "stderr",
     "output_type": "stream",
     "text": [
      "frame=  173 fps=0.2 q=-0.0 size=N/A time=00:02:51.00 bitrate=N/A dup=0 drop=8378 speed=0.154x    \r"
     ]
    },
    {
     "name": "stdout",
     "output_type": "stream",
     "text": [
      "[download]  65.6% of ~ 266.93MiB at    1.09MiB/s ETA 01:17 (frag 83/128)"
     ]
    },
    {
     "name": "stderr",
     "output_type": "stream",
     "text": [
      "frame=  215 fps=0.2 q=-0.0 size=N/A time=00:03:33.00 bitrate=N/A dup=0 drop=6183 speed=0.233x    \r"
     ]
    },
    {
     "name": "stdout",
     "output_type": "stream",
     "text": [
      "[download]  65.7% of ~ 267.26MiB at    1.01MiB/s ETA 01:21 (frag 83/128)"
     ]
    },
    {
     "name": "stderr",
     "output_type": "stream",
     "text": [
      "frame=  173 fps=0.2 q=-0.0 size=N/A time=00:02:51.00 bitrate=N/A dup=0 drop=8382 speed=0.154x    \r"
     ]
    },
    {
     "name": "stdout",
     "output_type": "stream",
     "text": [
      "[download]  66.1% of ~ 269.93MiB at    1.38MiB/s ETA 01:18 (frag 83/128)"
     ]
    },
    {
     "name": "stderr",
     "output_type": "stream",
     "text": [
      "frame=  187 fps=1.7 q=-0.0 size=N/A time=00:03:05.00 bitrate=N/A dup=0 drop=4436 speed=1.63x     \r"
     ]
    },
    {
     "name": "stdout",
     "output_type": "stream",
     "text": [
      "[download]  64.4% of ~ 277.21MiB at    1.58MiB/s ETA 01:15 (frag 84/128)"
     ]
    },
    {
     "name": "stderr",
     "output_type": "stream",
     "text": [
      "frame=  263 fps=0.2 q=-0.0 size=N/A time=00:04:21.00 bitrate=N/A dup=0 drop=6263 speed=0.22x     \r"
     ]
    },
    {
     "name": "stdout",
     "output_type": "stream",
     "text": [
      "[download]  66.4% of ~ 268.87MiB at    1.45MiB/s ETA 01:15 (frag 84/128)"
     ]
    },
    {
     "name": "stderr",
     "output_type": "stream",
     "text": [
      "frame=  215 fps=0.2 q=-0.0 size=N/A time=00:03:33.00 bitrate=N/A dup=0 drop=6194 speed=0.233x    \r"
     ]
    },
    {
     "name": "stdout",
     "output_type": "stream",
     "text": [
      "[download]  66.6% of ~ 269.60MiB at    1.78MiB/s ETA 01:09 (frag 84/128)"
     ]
    },
    {
     "name": "stderr",
     "output_type": "stream",
     "text": [
      "frame=   23 fps=0.3 q=-0.0 size=N/A time=00:00:21.00 bitrate=N/A dup=0 drop=518 speed=0.234x     \r"
     ]
    },
    {
     "name": "stdout",
     "output_type": "stream",
     "text": [
      "[download]  65.9% of ~ 273.11MiB at    2.03MiB/s ETA 01:03 (frag 85/128)"
     ]
    },
    {
     "name": "stderr",
     "output_type": "stream",
     "text": [
      "frame=  263 fps=0.2 q=-0.0 size=N/A time=00:04:21.00 bitrate=N/A dup=0 drop=6271 speed=0.22x     \r"
     ]
    },
    {
     "name": "stdout",
     "output_type": "stream",
     "text": [
      "[download]  67.2% of ~ 267.92MiB at    1.46MiB/s ETA 01:06 (frag 85/128)"
     ]
    },
    {
     "name": "stderr",
     "output_type": "stream",
     "text": [
      "frame=   24 fps=0.3 q=-0.0 size=N/A time=00:00:22.00 bitrate=N/A dup=0 drop=527 speed=0.241x     \r"
     ]
    },
    {
     "name": "stdout",
     "output_type": "stream",
     "text": [
      "[download]  67.4% of ~ 268.57MiB at    1.20MiB/s ETA 01:11 (frag 85/128)"
     ]
    },
    {
     "name": "stderr",
     "output_type": "stream",
     "text": [
      "frame=  264 fps=0.3 q=-0.0 size=N/A time=00:04:22.00 bitrate=N/A dup=0 drop=6292 speed=0.255x    \r"
     ]
    },
    {
     "name": "stdout",
     "output_type": "stream",
     "text": [
      "[download]  66.0% of ~ 277.23MiB at    1.59MiB/s ETA 01:07 (frag 86/128)"
     ]
    },
    {
     "name": "stderr",
     "output_type": "stream",
     "text": [
      "frame=  263 fps=0.2 q=-0.0 size=N/A time=00:04:21.00 bitrate=N/A dup=0 drop=6279 speed=0.22x     \r"
     ]
    },
    {
     "name": "stdout",
     "output_type": "stream",
     "text": [
      "[download]  68.0% of ~ 269.42MiB at    1.36MiB/s ETA 01:08 (frag 86/128)"
     ]
    },
    {
     "name": "stderr",
     "output_type": "stream",
     "text": [
      "frame=   78 fps=0.2 q=-0.0 size=N/A time=00:01:16.00 bitrate=N/A dup=0 drop=3761 speed=0.157x    \r"
     ]
    },
    {
     "name": "stdout",
     "output_type": "stream",
     "text": [
      "[download]  68.1% of ~ 269.76MiB at    1.44MiB/s ETA 01:07 (frag 86/128)"
     ]
    },
    {
     "name": "stderr",
     "output_type": "stream",
     "text": [
      "frame=  264 fps=0.3 q=-0.0 size=N/A time=00:04:22.00 bitrate=N/A dup=0 drop=6301 speed=0.255x    \r"
     ]
    },
    {
     "name": "stdout",
     "output_type": "stream",
     "text": [
      "[download]  67.5% of ~ 273.55MiB at    1.77MiB/s ETA 01:02 (frag 87/128)"
     ]
    },
    {
     "name": "stderr",
     "output_type": "stream",
     "text": [
      "frame=   79 fps=0.2 q=-0.0 size=N/A time=00:01:17.00 bitrate=N/A dup=0 drop=3770 speed=0.159x    \r"
     ]
    },
    {
     "name": "stdout",
     "output_type": "stream",
     "text": [
      "[download]  68.8% of ~ 268.40MiB at    1.70MiB/s ETA 01:01 (frag 87/128)"
     ]
    },
    {
     "name": "stderr",
     "output_type": "stream",
     "text": [
      "frame=  195 fps=1.6 q=-0.0 size=N/A time=00:03:13.00 bitrate=N/A dup=0 drop=4651 speed=1.63x    \r"
     ]
    },
    {
     "name": "stdout",
     "output_type": "stream",
     "text": [
      "[download]  68.9% of ~ 269.11MiB at    1.59MiB/s ETA 00:59 (frag 87/128)"
     ]
    },
    {
     "name": "stderr",
     "output_type": "stream",
     "text": [
      "frame=  265 fps=0.3 q=-0.0 size=N/A time=00:04:23.00 bitrate=N/A dup=0 drop=6308 speed=0.255x    \r"
     ]
    },
    {
     "name": "stdout",
     "output_type": "stream",
     "text": [
      "[download]  68.9% of ~ 271.29MiB at    1.52MiB/s ETA 00:58 (frag 87/128)"
     ]
    },
    {
     "name": "stderr",
     "output_type": "stream",
     "text": [
      "frame=   24 fps=0.3 q=-0.0 size=N/A time=00:00:22.00 bitrate=N/A dup=0 drop=545 speed=0.233x    \r"
     ]
    },
    {
     "name": "stdout",
     "output_type": "stream",
     "text": [
      "[download]  67.8% of ~ 275.62MiB at    1.47MiB/s ETA 00:59 (frag 88/128)"
     ]
    },
    {
     "name": "stderr",
     "output_type": "stream",
     "text": [
      "frame=  217 fps=0.2 q=-0.0 size=N/A time=00:03:35.00 bitrate=N/A dup=0 drop=6240 speed=0.233x    \r"
     ]
    },
    {
     "name": "stdout",
     "output_type": "stream",
     "text": [
      "[download]  69.5% of ~ 268.95MiB at    1.42MiB/s ETA 00:59 (frag 88/128)"
     ]
    },
    {
     "name": "stderr",
     "output_type": "stream",
     "text": [
      "frame=   79 fps=0.2 q=-0.0 size=N/A time=00:01:17.00 bitrate=N/A dup=0 drop=3786 speed=0.158x    \r"
     ]
    },
    {
     "name": "stdout",
     "output_type": "stream",
     "text": [
      "[download]  69.9% of ~ 270.39MiB at    1.40MiB/s ETA 01:00 (frag 88/128)"
     ]
    },
    {
     "name": "stderr",
     "output_type": "stream",
     "text": [
      "frame=  199 fps=1.6 q=-0.0 size=N/A time=00:03:17.00 bitrate=N/A dup=0 drop=4738 speed=1.63x     \r"
     ]
    },
    {
     "name": "stdout",
     "output_type": "stream",
     "text": [
      "[download]  68.6% of ~ 276.54MiB at    1.73MiB/s ETA 00:56 (frag 89/128)"
     ]
    },
    {
     "name": "stderr",
     "output_type": "stream",
     "text": [
      "frame=  265 fps=0.3 q=-0.0 size=N/A time=00:04:23.00 bitrate=N/A dup=0 drop=6328 speed=0.255x    \r"
     ]
    },
    {
     "name": "stdout",
     "output_type": "stream",
     "text": [
      "[download]  70.3% of ~ 269.73MiB at    1.34MiB/s ETA 01:01 (frag 89/128)"
     ]
    },
    {
     "name": "stderr",
     "output_type": "stream",
     "text": [
      "frame=  174 fps=0.2 q=-0.0 size=N/A time=00:02:52.00 bitrate=N/A dup=0 drop=8467 speed=0.154x    \r"
     ]
    },
    {
     "name": "stdout",
     "output_type": "stream",
     "text": [
      "[download]  70.5% of ~ 270.42MiB at    1.26MiB/s ETA 01:04 (frag 89/128)"
     ]
    },
    {
     "name": "stderr",
     "output_type": "stream",
     "text": [
      "frame=  202 fps=1.7 q=-0.0 size=N/A time=00:03:20.00 bitrate=N/A dup=0 drop=4800 speed=1.63x     \r"
     ]
    },
    {
     "name": "stdout",
     "output_type": "stream",
     "text": [
      "[download]  70.7% of ~ 271.13MiB at    1.50MiB/s ETA 01:02 (frag 89/128)"
     ]
    },
    {
     "name": "stderr",
     "output_type": "stream",
     "text": [
      "frame=  175 fps=0.2 q=-0.0 size=N/A time=00:02:53.00 bitrate=N/A dup=0 drop=8471 speed=0.154x    \r"
     ]
    },
    {
     "name": "stdout",
     "output_type": "stream",
     "text": [
      "[download]  70.3% of ~ 275.40MiB at    2.05MiB/s ETA 00:56 (frag 89/128)"
     ]
    },
    {
     "name": "stderr",
     "output_type": "stream",
     "text": [
      "frame=   79 fps=0.2 q=-0.0 size=N/A time=00:01:17.00 bitrate=N/A dup=0 drop=3807 speed=0.157x    \r"
     ]
    },
    {
     "name": "stdout",
     "output_type": "stream",
     "text": [
      "[download]  68.9% of ~ 281.11MiB at    2.17MiB/s ETA 00:54 (frag 90/128)"
     ]
    },
    {
     "name": "stderr",
     "output_type": "stream",
     "text": [
      "frame=  163 fps=0.2 q=-0.0 size=N/A time=00:02:41.00 bitrate=N/A dup=0 drop=4686 speed=0.197x    \r"
     ]
    },
    {
     "name": "stdout",
     "output_type": "stream",
     "text": [
      "[download]  71.3% of ~ 273.08MiB at    2.05MiB/s ETA 00:48 (frag 90/128)"
     ]
    },
    {
     "name": "stderr",
     "output_type": "stream",
     "text": [
      "frame=  205 fps=1.6 q=-0.0 size=N/A time=00:03:23.00 bitrate=N/A dup=0 drop=4875 speed=1.63x     \r"
     ]
    },
    {
     "name": "stdout",
     "output_type": "stream",
     "text": [
      "[download]  70.4% of ~ 277.66MiB at    2.24MiB/s ETA 00:45 (frag 91/128)"
     ]
    },
    {
     "name": "stderr",
     "output_type": "stream",
     "text": [
      "frame=  219 fps=0.2 q=-0.0 size=N/A time=00:03:37.00 bitrate=N/A dup=0 drop=6282 speed=0.234x    \r"
     ]
    },
    {
     "name": "stdout",
     "output_type": "stream",
     "text": [
      "[download]  71.9% of ~ 272.05MiB at    1.44MiB/s ETA 00:58 (frag 91/128)"
     ]
    },
    {
     "name": "stderr",
     "output_type": "stream",
     "text": [
      "frame=   26 fps=0.3 q=-0.0 size=N/A time=00:00:24.00 bitrate=N/A dup=0 drop=583 speed=0.238x    \r"
     ]
    },
    {
     "name": "stdout",
     "output_type": "stream",
     "text": [
      "[download]  72.0% of ~ 272.38MiB at 1010.65KiB/s ETA 01:11 (frag 91/128)"
     ]
    },
    {
     "name": "stderr",
     "output_type": "stream",
     "text": [
      "frame=  267 fps=0.3 q=-0.0 size=N/A time=00:04:25.00 bitrate=N/A dup=0 drop=6356 speed=0.256x    \r"
     ]
    },
    {
     "name": "stdout",
     "output_type": "stream",
     "text": [
      "[download]  72.2% of ~ 273.42MiB at    1.25MiB/s ETA 01:08 (frag 91/128)"
     ]
    },
    {
     "name": "stderr",
     "output_type": "stream",
     "text": [
      "frame=  266 fps=0.2 q=-0.0 size=N/A time=00:04:24.00 bitrate=N/A dup=0 drop=6335 speed=0.221x    \r"
     ]
    },
    {
     "name": "stdout",
     "output_type": "stream",
     "text": [
      "[download]  70.5% of ~ 282.76MiB at    1.86MiB/s ETA 01:01 (frag 92/128)"
     ]
    },
    {
     "name": "stderr",
     "output_type": "stream",
     "text": [
      "frame=  266 fps=0.2 q=-0.0 size=N/A time=00:04:24.00 bitrate=N/A dup=0 drop=6342 speed=0.22x     \r"
     ]
    },
    {
     "name": "stdout",
     "output_type": "stream",
     "text": [
      "[download]  72.7% of ~ 274.76MiB at    1.82MiB/s ETA 00:57 (frag 92/128)"
     ]
    },
    {
     "name": "stderr",
     "output_type": "stream",
     "text": [
      "frame=  164 fps=0.2 q=-0.0 size=N/A time=00:02:42.00 bitrate=N/A dup=0 drop=4708 speed=0.197x    \r"
     ]
    },
    {
     "name": "stdout",
     "output_type": "stream",
     "text": [
      "[download]  73.0% of ~ 275.79MiB at    2.11MiB/s ETA 00:52 (frag 92/128)"
     ]
    },
    {
     "name": "stderr",
     "output_type": "stream",
     "text": [
      "frame=  219 fps=0.2 q=-0.0 size=N/A time=00:03:37.00 bitrate=N/A dup=0 drop=6299 speed=0.233x    \r"
     ]
    },
    {
     "name": "stdout",
     "output_type": "stream",
     "text": [
      "[download]  71.4% of ~ 284.25MiB at    2.50MiB/s ETA 00:47 (frag 93/128)"
     ]
    },
    {
     "name": "stderr",
     "output_type": "stream",
     "text": [
      "frame=   80 fps=0.2 q=-0.0 size=N/A time=00:01:18.00 bitrate=N/A dup=0 drop=3855 speed=0.157x    \r"
     ]
    },
    {
     "name": "stdout",
     "output_type": "stream",
     "text": [
      "[download]  73.5% of ~ 276.45MiB at    1.85MiB/s ETA 00:49 (frag 93/128)"
     ]
    },
    {
     "name": "stderr",
     "output_type": "stream",
     "text": [
      "frame=  176 fps=0.2 q=-0.0 size=N/A time=00:02:54.00 bitrate=N/A dup=0 drop=8519 speed=0.154x    \r"
     ]
    },
    {
     "name": "stdout",
     "output_type": "stream",
     "text": [
      "[download]  73.6% of ~ 277.04MiB at    2.06MiB/s ETA 00:46 (frag 93/128)"
     ]
    },
    {
     "name": "stderr",
     "output_type": "stream",
     "text": [
      "frame=  220 fps=0.2 q=-0.0 size=N/A time=00:03:38.00 bitrate=N/A dup=0 drop=6311 speed=0.234x    \r"
     ]
    },
    {
     "name": "stdout",
     "output_type": "stream",
     "text": [
      "[download]  72.8% of ~ 281.17MiB at    2.26MiB/s ETA 00:43 (frag 94/128)"
     ]
    },
    {
     "name": "stderr",
     "output_type": "stream",
     "text": [
      "frame=   80 fps=0.2 q=-0.0 size=N/A time=00:01:18.00 bitrate=N/A dup=0 drop=3863 speed=0.157x    \r"
     ]
    },
    {
     "name": "stdout",
     "output_type": "stream",
     "text": [
      "[download]  74.2% of ~ 275.85MiB at    1.86MiB/s ETA 00:44 (frag 94/128)"
     ]
    },
    {
     "name": "stderr",
     "output_type": "stream",
     "text": [
      "frame=  267 fps=0.2 q=-0.0 size=N/A time=00:04:25.00 bitrate=N/A dup=0 drop=6363 speed=0.221x    \r"
     ]
    },
    {
     "name": "stdout",
     "output_type": "stream",
     "text": [
      "[download]  74.6% of ~ 277.18MiB at    1.29MiB/s ETA 00:52 (frag 94/128)"
     ]
    },
    {
     "name": "stderr",
     "output_type": "stream",
     "text": [
      "frame=  220 fps=0.2 q=-0.0 size=N/A time=00:03:38.00 bitrate=N/A dup=0 drop=6328 speed=0.234x    \r"
     ]
    },
    {
     "name": "stdout",
     "output_type": "stream",
     "text": [
      "[download]  73.3% of ~ 283.13MiB at    1.58MiB/s ETA 00:50 (frag 95/128)"
     ]
    },
    {
     "name": "stderr",
     "output_type": "stream",
     "text": [
      "frame=  219 fps=1.7 q=-0.0 size=N/A time=00:03:37.00 bitrate=N/A dup=0 drop=5208 speed=1.64x     \r"
     ]
    },
    {
     "name": "stdout",
     "output_type": "stream",
     "text": [
      "[download]  75.0% of ~ 276.59MiB at    1.50MiB/s ETA 00:50 (frag 95/128)"
     ]
    },
    {
     "name": "stderr",
     "output_type": "stream",
     "text": [
      "frame=  165 fps=0.2 q=-0.0 size=N/A time=00:02:43.00 bitrate=N/A dup=0 drop=4732 speed=0.197x    \r"
     ]
    },
    {
     "name": "stdout",
     "output_type": "stream",
     "text": [
      "[download]  75.2% of ~ 277.24MiB at    1.19MiB/s ETA 00:54 (frag 95/128)"
     ]
    },
    {
     "name": "stderr",
     "output_type": "stream",
     "text": [
      "frame=  220 fps=1.7 q=-0.0 size=N/A time=00:03:38.00 bitrate=N/A dup=0 drop=5228 speed=1.64x     \r"
     ]
    },
    {
     "name": "stdout",
     "output_type": "stream",
     "text": [
      "[download]  74.0% of ~ 283.91MiB at    1.93MiB/s ETA 00:48 (frag 96/128)"
     ]
    },
    {
     "name": "stderr",
     "output_type": "stream",
     "text": [
      "frame=   29 fps=0.3 q=-0.0 size=N/A time=00:00:27.00 bitrate=N/A dup=0 drop=644 speed=0.247x     \r"
     ]
    },
    {
     "name": "stdout",
     "output_type": "stream",
     "text": [
      "[download]  75.8% of ~ 277.36MiB at    1.70MiB/s ETA 00:49 (frag 96/128)"
     ]
    },
    {
     "name": "stderr",
     "output_type": "stream",
     "text": [
      "frame=  165 fps=0.2 q=-0.0 size=N/A time=00:02:43.00 bitrate=N/A dup=0 drop=4741 speed=0.197x    \r"
     ]
    },
    {
     "name": "stdout",
     "output_type": "stream",
     "text": [
      "[download]  75.9% of ~ 277.68MiB at    1.33MiB/s ETA 00:53 (frag 96/128)"
     ]
    },
    {
     "name": "stderr",
     "output_type": "stream",
     "text": [
      "frame=  223 fps=1.7 q=-0.0 size=N/A time=00:03:41.00 bitrate=N/A dup=0 drop=5300 speed=1.64x     \r"
     ]
    },
    {
     "name": "stdout",
     "output_type": "stream",
     "text": [
      "[download]  76.1% of ~ 278.67MiB at    1.64MiB/s ETA 00:50 (frag 96/128)"
     ]
    },
    {
     "name": "stderr",
     "output_type": "stream",
     "text": [
      "frame=  165 fps=0.2 q=-0.0 size=N/A time=00:02:43.00 bitrate=N/A dup=0 drop=4745 speed=0.197x    \r"
     ]
    },
    {
     "name": "stdout",
     "output_type": "stream",
     "text": [
      "[download]  76.4% of ~ 279.99MiB at    1.92MiB/s ETA 00:47 (frag 96/128)"
     ]
    },
    {
     "name": "stderr",
     "output_type": "stream",
     "text": [
      "frame=  269 fps=0.3 q=-0.0 size=N/A time=00:04:27.00 bitrate=N/A dup=0 drop=6419 speed=0.255x    \r"
     ]
    },
    {
     "name": "stdout",
     "output_type": "stream",
     "text": [
      "[download]  74.5% of ~ 287.39MiB at    2.07MiB/s ETA 00:45 (frag 97/128)"
     ]
    },
    {
     "name": "stderr",
     "output_type": "stream",
     "text": [
      "frame=  270 fps=0.3 q=-0.0 size=N/A time=00:04:28.00 bitrate=N/A dup=0 drop=6428 speed=0.256x    \r"
     ]
    },
    {
     "name": "stdout",
     "output_type": "stream",
     "text": [
      "[download]  76.6% of ~ 279.49MiB at    1.92MiB/s ETA 00:45 (frag 97/128)"
     ]
    },
    {
     "name": "stderr",
     "output_type": "stream",
     "text": [
      "frame=   81 fps=0.2 q=-0.0 size=N/A time=00:01:19.00 bitrate=N/A dup=0 drop=3907 speed=0.157x    \r"
     ]
    },
    {
     "name": "stdout",
     "output_type": "stream",
     "text": [
      "[download]  76.7% of ~ 279.82MiB at    1.65MiB/s ETA 00:44 (frag 97/128)"
     ]
    },
    {
     "name": "stderr",
     "output_type": "stream",
     "text": [
      "frame=  177 fps=0.2 q=-0.0 size=N/A time=00:02:55.00 bitrate=N/A dup=0 drop=8580 speed=0.154x    \r"
     ]
    },
    {
     "name": "stdout",
     "output_type": "stream",
     "text": [
      "[download]  76.9% of ~ 280.80MiB at    1.76MiB/s ETA 00:43 (frag 97/128)"
     ]
    },
    {
     "name": "stderr",
     "output_type": "stream",
     "text": [
      "frame=   81 fps=0.2 q=-0.0 size=N/A time=00:01:19.00 bitrate=N/A dup=0 drop=3911 speed=0.157x    \r"
     ]
    },
    {
     "name": "stdout",
     "output_type": "stream",
     "text": [
      "[download]  75.4% of ~ 288.49MiB at    2.07MiB/s ETA 00:40 (frag 98/128)"
     ]
    },
    {
     "name": "stderr",
     "output_type": "stream",
     "text": [
      "frame=  166 fps=0.2 q=-0.0 size=N/A time=00:02:44.00 bitrate=N/A dup=0 drop=4759 speed=0.197x    \r"
     ]
    },
    {
     "name": "stdout",
     "output_type": "stream",
     "text": [
      "[download]  77.3% of ~ 281.14MiB at    1.93MiB/s ETA 00:39 (frag 98/128)"
     ]
    },
    {
     "name": "stderr",
     "output_type": "stream",
     "text": [
      "frame=  177 fps=0.2 q=-0.0 size=N/A time=00:02:55.00 bitrate=N/A dup=0 drop=8593 speed=0.154x    \r"
     ]
    },
    {
     "name": "stdout",
     "output_type": "stream",
     "text": [
      "[download]  77.4% of ~ 281.44MiB at    1.81MiB/s ETA 00:38 (frag 98/128)"
     ]
    },
    {
     "name": "stderr",
     "output_type": "stream",
     "text": [
      "frame=   30 fps=0.3 q=-0.0 size=N/A time=00:00:28.00 bitrate=N/A dup=0 drop=675 speed=0.245x     \r"
     ]
    },
    {
     "name": "stdout",
     "output_type": "stream",
     "text": [
      "[download]  77.4% of ~ 282.41MiB at    1.85MiB/s ETA 00:37 (frag 98/128)"
     ]
    },
    {
     "name": "stderr",
     "output_type": "stream",
     "text": [
      "frame=  177 fps=0.2 q=-0.0 size=N/A time=00:02:55.00 bitrate=N/A dup=0 drop=8599 speed=0.154x    \r"
     ]
    },
    {
     "name": "stdout",
     "output_type": "stream",
     "text": [
      "[download]  76.9% of ~ 284.10MiB at    1.84MiB/s ETA 00:37 (frag 99/128)"
     ]
    },
    {
     "name": "stderr",
     "output_type": "stream",
     "text": [
      "frame=   30 fps=0.3 q=-0.0 size=N/A time=00:00:28.00 bitrate=N/A dup=0 drop=685 speed=0.243x     \r"
     ]
    },
    {
     "name": "stdout",
     "output_type": "stream",
     "text": [
      "[download]  78.1% of ~ 279.79MiB at    1.41MiB/s ETA 00:48 (frag 99/128)"
     ]
    },
    {
     "name": "stderr",
     "output_type": "stream",
     "text": [
      "frame=  177 fps=0.2 q=-0.0 size=N/A time=00:02:55.00 bitrate=N/A dup=0 drop=8608 speed=0.154x    \r"
     ]
    },
    {
     "name": "stdout",
     "output_type": "stream",
     "text": [
      "[download]  78.2% of ~ 280.11MiB at  830.70KiB/s ETA 01:11 (frag 99/128)"
     ]
    },
    {
     "name": "stderr",
     "output_type": "stream",
     "text": [
      "frame=   82 fps=0.2 q=-0.0 size=N/A time=00:01:20.00 bitrate=N/A dup=0 drop=3935 speed=0.158x    \r"
     ]
    },
    {
     "name": "stdout",
     "output_type": "stream",
     "text": [
      "[download]  78.5% of ~ 281.07MiB at    1.01MiB/s ETA 01:08 (frag 99/128)"
     ]
    },
    {
     "name": "stderr",
     "output_type": "stream",
     "text": [
      "frame=  166 fps=0.2 q=-0.0 size=N/A time=00:02:44.00 bitrate=N/A dup=0 drop=4771 speed=0.197x    \r"
     ]
    },
    {
     "name": "stdout",
     "output_type": "stream",
     "text": [
      "[download]  78.6% of ~ 282.35MiB at    1.22MiB/s ETA 01:04 (frag 99/128)"
     ]
    },
    {
     "name": "stderr",
     "output_type": "stream",
     "text": [
      "frame=   31 fps=0.3 q=-0.0 size=N/A time=00:00:29.00 bitrate=N/A dup=0 drop=695 speed=0.249x     \r"
     ]
    },
    {
     "name": "stdout",
     "output_type": "stream",
     "text": [
      "[download]  77.0% of ~ 288.19MiB at    1.35MiB/s ETA 01:02 (frag 100/128)"
     ]
    },
    {
     "name": "stderr",
     "output_type": "stream",
     "text": [
      "frame=  271 fps=0.3 q=-0.0 size=N/A time=00:04:29.00 bitrate=N/A dup=0 drop=6457 speed=0.255x    \r"
     ]
    },
    {
     "name": "stdout",
     "output_type": "stream",
     "text": [
      "[download]  78.9% of ~ 281.22MiB at    1.55MiB/s ETA 00:55 (frag 100/128)"
     ]
    },
    {
     "name": "stderr",
     "output_type": "stream",
     "text": [
      "frame=  223 fps=0.2 q=-0.0 size=N/A time=00:03:41.00 bitrate=N/A dup=0 drop=6403 speed=0.234x    \r"
     ]
    },
    {
     "name": "stdout",
     "output_type": "stream",
     "text": [
      "[download]  79.1% of ~ 281.81MiB at    1.60MiB/s ETA 00:51 (frag 100/128)"
     ]
    },
    {
     "name": "stderr",
     "output_type": "stream",
     "text": [
      "frame=  271 fps=0.3 q=-0.0 size=N/A time=00:04:29.00 bitrate=N/A dup=0 drop=6460 speed=0.255x    \r"
     ]
    },
    {
     "name": "stdout",
     "output_type": "stream",
     "text": [
      "[download]  78.4% of ~ 284.83MiB at    1.74MiB/s ETA 00:47 (frag 101/128)"
     ]
    },
    {
     "name": "stderr",
     "output_type": "stream",
     "text": [
      "frame=   82 fps=0.2 q=-0.0 size=N/A time=00:01:20.00 bitrate=N/A dup=0 drop=3954 speed=0.157x    \r"
     ]
    },
    {
     "name": "stdout",
     "output_type": "stream",
     "text": [
      "[download]  79.7% of ~ 280.24MiB at    1.60MiB/s ETA 00:47 (frag 101/128)"
     ]
    },
    {
     "name": "stderr",
     "output_type": "stream",
     "text": [
      "frame=  235 fps=1.6 q=-0.0 size=N/A time=00:03:53.00 bitrate=N/A dup=0 drop=5609 speed=1.62x    \r"
     ]
    },
    {
     "name": "stdout",
     "output_type": "stream",
     "text": [
      "[download]  79.8% of ~ 280.54MiB at    1.42MiB/s ETA 00:48 (frag 101/128)"
     ]
    },
    {
     "name": "stderr",
     "output_type": "stream",
     "text": [
      "frame=   82 fps=0.2 q=-0.0 size=N/A time=00:01:20.00 bitrate=N/A dup=0 drop=3957 speed=0.157x    \r"
     ]
    },
    {
     "name": "stdout",
     "output_type": "stream",
     "text": [
      "[download]  79.9% of ~ 281.48MiB at    1.19MiB/s ETA 00:50 (frag 101/128)"
     ]
    },
    {
     "name": "stderr",
     "output_type": "stream",
     "text": [
      "frame=  178 fps=0.2 q=-0.0 size=N/A time=00:02:56.00 bitrate=N/A dup=0 drop=8634 speed=0.154x    \r"
     ]
    },
    {
     "name": "stdout",
     "output_type": "stream",
     "text": [
      "[download]  79.1% of ~ 284.30MiB at    1.28MiB/s ETA 00:49 (frag 102/128)"
     ]
    },
    {
     "name": "stderr",
     "output_type": "stream",
     "text": [
      "frame=  271 fps=0.3 q=-0.0 size=N/A time=00:04:29.00 bitrate=N/A dup=0 drop=6472 speed=0.255x    \r"
     ]
    },
    {
     "name": "stdout",
     "output_type": "stream",
     "text": [
      "[download]  80.5% of ~ 280.14MiB at    1.15MiB/s ETA 00:49 (frag 102/128)"
     ]
    },
    {
     "name": "stderr",
     "output_type": "stream",
     "text": [
      "frame=  223 fps=0.2 q=-0.0 size=N/A time=00:03:41.00 bitrate=N/A dup=0 drop=6426 speed=0.233x    \r"
     ]
    },
    {
     "name": "stdout",
     "output_type": "stream",
     "text": [
      "[download]  80.3% of ~ 280.97MiB at    1.13MiB/s ETA 00:49 (frag 103/128)"
     ]
    },
    {
     "name": "stderr",
     "output_type": "stream",
     "text": [
      "frame=  272 fps=0.3 q=-0.0 size=N/A time=00:04:30.00 bitrate=N/A dup=0 drop=6479 speed=0.255x    \r"
     ]
    },
    {
     "name": "stdout",
     "output_type": "stream",
     "text": [
      "[download]  81.3% of ~ 277.71MiB at  927.99KiB/s ETA 00:54 (frag 103/128)"
     ]
    },
    {
     "name": "stderr",
     "output_type": "stream",
     "text": [
      "frame=  167 fps=0.2 q=-0.0 size=N/A time=00:02:45.00 bitrate=N/A dup=0 drop=4800 speed=0.196x    \r"
     ]
    },
    {
     "name": "stdout",
     "output_type": "stream",
     "text": [
      "[download]  80.7% of ~ 281.34MiB at  956.35KiB/s ETA 00:54 (frag 104/128)"
     ]
    },
    {
     "name": "stderr",
     "output_type": "stream",
     "text": [
      "frame=   33 fps=0.3 q=-0.0 size=N/A time=00:00:31.00 bitrate=N/A dup=0 drop=749 speed=0.252x     \r"
     ]
    },
    {
     "name": "stdout",
     "output_type": "stream",
     "text": [
      "[download]  82.0% of ~ 276.80MiB at  850.28KiB/s ETA 00:56 (frag 104/128)"
     ]
    },
    {
     "name": "stderr",
     "output_type": "stream",
     "text": [
      "frame=  272 fps=0.3 q=-0.0 size=N/A time=00:04:30.00 bitrate=N/A dup=0 drop=6491 speed=0.255x    \r"
     ]
    },
    {
     "name": "stdout",
     "output_type": "stream",
     "text": [
      "[download]  82.4% of ~ 278.00MiB at  958.71KiB/s ETA 00:57 (frag 104/128)"
     ]
    },
    {
     "name": "stderr",
     "output_type": "stream",
     "text": [
      "frame=   33 fps=0.3 q=-0.0 size=N/A time=00:00:31.00 bitrate=N/A dup=0 drop=753 speed=0.251x     \r"
     ]
    },
    {
     "name": "stdout",
     "output_type": "stream",
     "text": [
      "[download]  81.2% of ~ 282.64MiB at    1.19MiB/s ETA 00:54 (frag 105/128)"
     ]
    },
    {
     "name": "stderr",
     "output_type": "stream",
     "text": [
      "frame=  224 fps=0.2 q=-0.0 size=N/A time=00:03:42.00 bitrate=N/A dup=0 drop=6452 speed=0.233x    \r"
     ]
    },
    {
     "name": "stdout",
     "output_type": "stream",
     "text": [
      "[download]  82.8% of ~ 277.09MiB at    1.26MiB/s ETA 00:50 (frag 105/128)"
     ]
    },
    {
     "name": "stderr",
     "output_type": "stream",
     "text": [
      "frame=  273 fps=0.3 q=-0.0 size=N/A time=00:04:31.00 bitrate=N/A dup=0 drop=6500 speed=0.255x    \r"
     ]
    },
    {
     "name": "stdout",
     "output_type": "stream",
     "text": [
      "[download]  82.9% of ~ 277.37MiB at    1.29MiB/s ETA 00:48 (frag 105/128)"
     ]
    },
    {
     "name": "stderr",
     "output_type": "stream",
     "text": [
      "frame=   83 fps=0.2 q=-0.0 size=N/A time=00:01:21.00 bitrate=N/A dup=0 drop=4001 speed=0.157x    \r"
     ]
    },
    {
     "name": "stdout",
     "output_type": "stream",
     "text": [
      "[download]  82.4% of ~ 279.98MiB at    1.36MiB/s ETA 00:44 (frag 106/128)"
     ]
    },
    {
     "name": "stderr",
     "output_type": "stream",
     "text": [
      "frame=  271 fps=0.2 q=-0.0 size=N/A time=00:04:29.00 bitrate=N/A dup=0 drop=6453 speed=0.22x     \r"
     ]
    },
    {
     "name": "stdout",
     "output_type": "stream",
     "text": [
      "[download]  83.6% of ~ 276.00MiB at    1.27MiB/s ETA 00:42 (frag 106/128)"
     ]
    },
    {
     "name": "stderr",
     "output_type": "stream",
     "text": [
      "frame=  225 fps=0.2 q=-0.0 size=N/A time=00:03:43.00 bitrate=N/A dup=0 drop=6462 speed=0.234x    \r"
     ]
    },
    {
     "name": "stdout",
     "output_type": "stream",
     "text": [
      "[download]  83.3% of ~ 277.59MiB at    1.24MiB/s ETA 00:40 (frag 107/128)"
     ]
    },
    {
     "name": "stderr",
     "output_type": "stream",
     "text": [
      "frame=   84 fps=0.2 q=-0.0 size=N/A time=00:01:22.00 bitrate=N/A dup=0 drop=4018 speed=0.158x    \r"
     ]
    },
    {
     "name": "stdout",
     "output_type": "stream",
     "text": [
      "[download]  84.4% of ~ 274.23MiB at  982.73KiB/s ETA 00:44 (frag 107/128)"
     ]
    },
    {
     "name": "stderr",
     "output_type": "stream",
     "text": [
      "frame=  248 fps=1.6 q=-0.0 size=N/A time=00:04:06.00 bitrate=N/A dup=0 drop=5912 speed=1.62x    \r"
     ]
    },
    {
     "name": "stdout",
     "output_type": "stream",
     "text": [
      "[download]  84.6% of ~ 274.78MiB at  926.97KiB/s ETA 00:46 (frag 107/128)"
     ]
    },
    {
     "name": "stderr",
     "output_type": "stream",
     "text": [
      "frame=  169 fps=0.2 q=-0.0 size=N/A time=00:02:47.00 bitrate=N/A dup=0 drop=4835 speed=0.197x    \r"
     ]
    },
    {
     "name": "stdout",
     "output_type": "stream",
     "text": [
      "[download]  84.5% of ~ 276.56MiB at  964.65KiB/s ETA 00:45 (frag 107/128)"
     ]
    },
    {
     "name": "stderr",
     "output_type": "stream",
     "text": [
      "frame=  271 fps=0.2 q=-0.0 size=N/A time=00:04:29.00 bitrate=N/A dup=0 drop=6466 speed=0.22x     \r"
     ]
    },
    {
     "name": "stdout",
     "output_type": "stream",
     "text": [
      "[download]  83.6% of ~ 279.46MiB at  982.68KiB/s ETA 00:45 (frag 108/128)"
     ]
    },
    {
     "name": "stderr",
     "output_type": "stream",
     "text": [
      "frame=  179 fps=0.2 q=-0.0 size=N/A time=00:02:57.00 bitrate=N/A dup=0 drop=8700 speed=0.154x    \r"
     ]
    },
    {
     "name": "stdout",
     "output_type": "stream",
     "text": [
      "[download]  85.2% of ~ 274.58MiB at  895.95KiB/s ETA 00:46 (frag 108/128)"
     ]
    },
    {
     "name": "stderr",
     "output_type": "stream",
     "text": [
      "frame=  226 fps=0.2 q=-0.0 size=N/A time=00:03:44.00 bitrate=N/A dup=0 drop=6485 speed=0.234x    \r"
     ]
    },
    {
     "name": "stdout",
     "output_type": "stream",
     "text": [
      "[download]  84.7% of ~ 277.44MiB at    1.26MiB/s ETA 00:41 (frag 109/128)"
     ]
    },
    {
     "name": "stderr",
     "output_type": "stream",
     "text": [
      "frame=  226 fps=0.2 q=-0.0 size=N/A time=00:03:44.00 bitrate=N/A dup=0 drop=6492 speed=0.234x    \r"
     ]
    },
    {
     "name": "stdout",
     "output_type": "stream",
     "text": [
      "[download]  85.9% of ~ 273.36MiB at    1.03MiB/s ETA 00:45 (frag 109/128)"
     ]
    },
    {
     "name": "stderr",
     "output_type": "stream",
     "text": [
      "frame=  274 fps=0.3 q=-0.0 size=N/A time=00:04:32.00 bitrate=N/A dup=0 drop=6534 speed=0.255x    \r"
     ]
    },
    {
     "name": "stdout",
     "output_type": "stream",
     "text": [
      "[download]  86.0% of ~ 273.65MiB at  811.43KiB/s ETA 00:50 (frag 109/128)"
     ]
    },
    {
     "name": "stderr",
     "output_type": "stream",
     "text": [
      "frame=   36 fps=0.3 q=-0.0 size=N/A time=00:00:34.00 bitrate=N/A dup=0 drop=812 speed=0.259x    \r"
     ]
    },
    {
     "name": "stdout",
     "output_type": "stream",
     "text": [
      "[download]  86.3% of ~ 274.52MiB at    1.06MiB/s ETA 00:46 (frag 109/128)"
     ]
    },
    {
     "name": "stderr",
     "output_type": "stream",
     "text": [
      "frame=  169 fps=0.2 q=-0.0 size=N/A time=00:02:47.00 bitrate=N/A dup=0 drop=4859 speed=0.197x    \r"
     ]
    },
    {
     "name": "stdout",
     "output_type": "stream",
     "text": [
      "[download]  86.0% of ~ 278.01MiB at    1.60MiB/s ETA 00:41 (frag 109/128)"
     ]
    },
    {
     "name": "stderr",
     "output_type": "stream",
     "text": [
      "frame=  254 fps=1.6 q=-0.0 size=N/A time=00:04:12.00 bitrate=N/A dup=0 drop=6051 speed=1.61x    \r"
     ]
    },
    {
     "name": "stdout",
     "output_type": "stream",
     "text": [
      "[download]  84.4% of ~ 283.39MiB at    1.73MiB/s ETA 00:39 (frag 110/128)"
     ]
    },
    {
     "name": "stderr",
     "output_type": "stream",
     "text": [
      "frame=  256 fps=1.6 q=-0.0 size=N/A time=00:04:14.00 bitrate=N/A dup=0 drop=6092 speed=1.61x     \r"
     ]
    },
    {
     "name": "stdout",
     "output_type": "stream",
     "text": [
      "[download]  86.7% of ~ 275.87MiB at    1.76MiB/s ETA 00:35 (frag 110/128)"
     ]
    },
    {
     "name": "stderr",
     "output_type": "stream",
     "text": [
      "frame=  256 fps=1.6 q=-0.0 size=N/A time=00:04:14.00 bitrate=N/A dup=0 drop=6101 speed=1.61x     \r"
     ]
    },
    {
     "name": "stdout",
     "output_type": "stream",
     "text": [
      "[download]  86.9% of ~ 276.44MiB at    1.80MiB/s ETA 00:29 (frag 110/128)"
     ]
    },
    {
     "name": "stderr",
     "output_type": "stream",
     "text": [
      "frame=   85 fps=0.2 q=-0.0 size=N/A time=00:01:23.00 bitrate=N/A dup=0 drop=4061 speed=0.158x    \r"
     ]
    },
    {
     "name": "stdout",
     "output_type": "stream",
     "text": [
      "[download]  87.1% of ~ 277.02MiB at    1.90MiB/s ETA 00:28 (frag 110/128)"
     ]
    },
    {
     "name": "stderr",
     "output_type": "stream",
     "text": [
      "frame=  275 fps=0.3 q=-0.0 size=N/A time=00:04:33.00 bitrate=N/A dup=0 drop=6548 speed=0.255x    \r"
     ]
    },
    {
     "name": "stdout",
     "output_type": "stream",
     "text": [
      "[download]  85.7% of ~ 282.42MiB at    2.11MiB/s ETA 00:26 (frag 111/128)"
     ]
    },
    {
     "name": "stderr",
     "output_type": "stream",
     "text": [
      "frame=   37 fps=0.3 q=-0.0 size=N/A time=00:00:35.00 bitrate=N/A dup=0 drop=840 speed=0.259x     \r"
     ]
    },
    {
     "name": "stdout",
     "output_type": "stream",
     "text": [
      "[download]  87.5% of ~ 276.65MiB at    1.90MiB/s ETA 00:25 (frag 111/128)"
     ]
    },
    {
     "name": "stderr",
     "output_type": "stream",
     "text": [
      "frame=  273 fps=0.2 q=-0.0 size=N/A time=00:04:31.00 bitrate=N/A dup=0 drop=6513 speed=0.22x     \r"
     ]
    },
    {
     "name": "stdout",
     "output_type": "stream",
     "text": [
      "[download]  87.6% of ~ 276.94MiB at    1.49MiB/s ETA 00:25 (frag 111/128)"
     ]
    },
    {
     "name": "stderr",
     "output_type": "stream",
     "text": [
      "frame=  227 fps=0.2 q=-0.0 size=N/A time=00:03:45.00 bitrate=N/A dup=0 drop=6526 speed=0.234x    \r"
     ]
    },
    {
     "name": "stdout",
     "output_type": "stream",
     "text": [
      "[download]  87.7% of ~ 277.22MiB at    1.52MiB/s ETA 00:25 (frag 111/128)"
     ]
    },
    {
     "name": "stderr",
     "output_type": "stream",
     "text": [
      "frame=  170 fps=0.2 q=-0.0 size=N/A time=00:02:48.00 bitrate=N/A dup=0 drop=4882 speed=0.197x    \r"
     ]
    },
    {
     "name": "stdout",
     "output_type": "stream",
     "text": [
      "[download]  87.7% of ~ 278.94MiB at    1.76MiB/s ETA 00:23 (frag 111/128)"
     ]
    },
    {
     "name": "stderr",
     "output_type": "stream",
     "text": [
      "frame=  273 fps=0.2 q=-0.0 size=N/A time=00:04:31.00 bitrate=N/A dup=0 drop=6518 speed=0.22x     \r"
     ]
    },
    {
     "name": "stdout",
     "output_type": "stream",
     "text": [
      "[download]  86.6% of ~ 282.76MiB at    1.81MiB/s ETA 00:23 (frag 112/128)"
     ]
    },
    {
     "name": "stderr",
     "output_type": "stream",
     "text": [
      "frame=   85 fps=0.2 q=-0.0 size=N/A time=00:01:23.00 bitrate=N/A dup=0 drop=4087 speed=0.157x    \r"
     ]
    },
    {
     "name": "stdout",
     "output_type": "stream",
     "text": [
      "[download]  88.3% of ~ 277.30MiB at    1.41MiB/s ETA 00:24 (frag 112/128)"
     ]
    },
    {
     "name": "stderr",
     "output_type": "stream",
     "text": [
      "frame=   38 fps=0.3 q=-0.0 size=N/A time=00:00:36.00 bitrate=N/A dup=0 drop=860 speed=0.262x    \r"
     ]
    },
    {
     "name": "stdout",
     "output_type": "stream",
     "text": [
      "[download]  88.3% of ~ 277.37MiB at    1.34MiB/s ETA 00:24 (frag 112/128)"
     ]
    },
    {
     "name": "stderr",
     "output_type": "stream",
     "text": [
      "frame=  274 fps=0.2 q=-0.0 size=N/A time=00:04:32.00 bitrate=N/A dup=0 drop=6524 speed=0.221x    \r"
     ]
    },
    {
     "name": "stdout",
     "output_type": "stream",
     "text": [
      "[download]  88.5% of ~ 278.36MiB at    1.37MiB/s ETA 00:24 (frag 112/128)"
     ]
    },
    {
     "name": "stderr",
     "output_type": "stream",
     "text": [
      "frame=  275 fps=0.3 q=-0.0 size=N/A time=00:04:33.00 bitrate=N/A dup=0 drop=6566 speed=0.254x    \r"
     ]
    },
    {
     "name": "stdout",
     "output_type": "stream",
     "text": [
      "[download]  87.7% of ~ 280.75MiB at    1.39MiB/s ETA 00:24 (frag 113/128)"
     ]
    },
    {
     "name": "stderr",
     "output_type": "stream",
     "text": [
      "frame=  171 fps=0.2 q=-0.0 size=N/A time=00:02:49.00 bitrate=N/A dup=0 drop=4898 speed=0.197x    \r"
     ]
    },
    {
     "name": "stdout",
     "output_type": "stream",
     "text": [
      "[download]  89.1% of ~ 276.56MiB at    1.13MiB/s ETA 00:27 (frag 113/128)"
     ]
    },
    {
     "name": "stderr",
     "output_type": "stream",
     "text": [
      "frame=  181 fps=0.2 q=-0.0 size=N/A time=00:02:59.00 bitrate=N/A dup=0 drop=8768 speed=0.154x    \r"
     ]
    },
    {
     "name": "stdout",
     "output_type": "stream",
     "text": [
      "[download]  89.2% of ~ 276.82MiB at  999.85KiB/s ETA 00:29 (frag 113/128)"
     ]
    },
    {
     "name": "stderr",
     "output_type": "stream",
     "text": [
      "frame=  171 fps=0.2 q=-0.0 size=N/A time=00:02:49.00 bitrate=N/A dup=0 drop=4902 speed=0.197x    \r"
     ]
    },
    {
     "name": "stdout",
     "output_type": "stream",
     "text": [
      "[download]  89.4% of ~ 277.67MiB at    1.15MiB/s ETA 00:28 (frag 113/128)"
     ]
    },
    {
     "name": "stderr",
     "output_type": "stream",
     "text": [
      "frame=  228 fps=0.2 q=-0.0 size=N/A time=00:03:46.00 bitrate=N/A dup=0 drop=6551 speed=0.234x    \r"
     ]
    },
    {
     "name": "stdout",
     "output_type": "stream",
     "text": [
      "[download]  88.4% of ~ 280.75MiB at    1.21MiB/s ETA 00:27 (frag 114/128)"
     ]
    },
    {
     "name": "stderr",
     "output_type": "stream",
     "text": [
      "frame=  228 fps=0.2 q=-0.0 size=N/A time=00:03:46.00 bitrate=N/A dup=0 drop=6554 speed=0.234x    \r"
     ]
    },
    {
     "name": "stdout",
     "output_type": "stream",
     "text": [
      "[download]  89.8% of ~ 276.22MiB at    1.04MiB/s ETA 00:29 (frag 114/128)"
     ]
    },
    {
     "name": "stderr",
     "output_type": "stream",
     "text": [
      "frame=  276 fps=0.3 q=-0.0 size=N/A time=00:04:34.00 bitrate=N/A dup=0 drop=6582 speed=0.254x    \r"
     ]
    },
    {
     "name": "stdout",
     "output_type": "stream",
     "text": [
      "[download]  89.8% of ~ 276.24MiB at  943.10KiB/s ETA 00:30 (frag 114/128)"
     ]
    },
    {
     "name": "stderr",
     "output_type": "stream",
     "text": [
      "frame=  181 fps=0.2 q=-0.0 size=N/A time=00:02:59.00 bitrate=N/A dup=0 drop=8780 speed=0.154x    \r"
     ]
    },
    {
     "name": "stdout",
     "output_type": "stream",
     "text": [
      "[download]  90.0% of ~ 276.78MiB at    1.01MiB/s ETA 00:29 (frag 114/128)"
     ]
    },
    {
     "name": "stderr",
     "output_type": "stream",
     "text": [
      "frame=  171 fps=0.2 q=-0.0 size=N/A time=00:02:49.00 bitrate=N/A dup=0 drop=4911 speed=0.197x    \r"
     ]
    },
    {
     "name": "stdout",
     "output_type": "stream",
     "text": [
      "[download]  90.3% of ~ 278.45MiB at    1.35MiB/s ETA 00:27 (frag 114/128)"
     ]
    },
    {
     "name": "stderr",
     "output_type": "stream",
     "text": [
      "frame=  275 fps=0.2 q=-0.0 size=N/A time=00:04:33.00 bitrate=N/A dup=0 drop=6550 speed=0.221x    \r"
     ]
    },
    {
     "name": "stdout",
     "output_type": "stream",
     "text": [
      "[download]  88.7% of ~ 283.62MiB at    1.47MiB/s ETA 00:26 (frag 115/128)"
     ]
    },
    {
     "name": "stderr",
     "output_type": "stream",
     "text": [
      "frame=   39 fps=0.3 q=-0.0 size=N/A time=00:00:37.00 bitrate=N/A dup=0 drop=907 speed=0.258x     \r"
     ]
    },
    {
     "name": "stdout",
     "output_type": "stream",
     "text": [
      "[download]  90.6% of ~ 277.54MiB at    1.34MiB/s ETA 00:24 (frag 115/128)"
     ]
    },
    {
     "name": "stderr",
     "output_type": "stream",
     "text": [
      "frame=   86 fps=0.2 q=-0.0 size=N/A time=00:01:24.00 bitrate=N/A dup=0 drop=4130 speed=0.157x    \r"
     ]
    },
    {
     "name": "stdout",
     "output_type": "stream",
     "text": [
      "[download]  90.8% of ~ 278.06MiB at    1.38MiB/s ETA 00:23 (frag 115/128)"
     ]
    },
    {
     "name": "stderr",
     "output_type": "stream",
     "text": [
      "frame=  229 fps=0.2 q=-0.0 size=N/A time=00:03:47.00 bitrate=N/A dup=0 drop=6571 speed=0.234x    \r"
     ]
    },
    {
     "name": "stdout",
     "output_type": "stream",
     "text": [
      "[download]  91.0% of ~ 279.71MiB at    1.68MiB/s ETA 00:21 (frag 115/128)"
     ]
    },
    {
     "name": "stderr",
     "output_type": "stream",
     "text": [
      "frame=  172 fps=0.2 q=-0.0 size=N/A time=00:02:50.00 bitrate=N/A dup=0 drop=4925 speed=0.197x    \r"
     ]
    },
    {
     "name": "stdout",
     "output_type": "stream",
     "text": [
      "[download]  89.6% of ~ 283.99MiB at    1.74MiB/s ETA 00:20 (frag 116/128)"
     ]
    },
    {
     "name": "stderr",
     "output_type": "stream",
     "text": [
      "frame=  229 fps=0.2 q=-0.0 size=N/A time=00:03:47.00 bitrate=N/A dup=0 drop=6580 speed=0.234x    \r"
     ]
    },
    {
     "name": "stdout",
     "output_type": "stream",
     "text": [
      "[download]  91.4% of ~ 278.35MiB at    1.61MiB/s ETA 00:19 (frag 116/128)"
     ]
    },
    {
     "name": "stderr",
     "output_type": "stream",
     "text": [
      "frame=  181 fps=0.2 q=-0.0 size=N/A time=00:02:59.00 bitrate=N/A dup=0 drop=8810 speed=0.153x    \r"
     ]
    },
    {
     "name": "stdout",
     "output_type": "stream",
     "text": [
      "[download]  91.5% of ~ 278.48MiB at    1.50MiB/s ETA 00:19 (frag 116/128)"
     ]
    },
    {
     "name": "stderr",
     "output_type": "stream",
     "text": [
      "frame=  172 fps=0.2 q=-0.0 size=N/A time=00:02:50.00 bitrate=N/A dup=0 drop=4933 speed=0.197x    \r"
     ]
    },
    {
     "name": "stdout",
     "output_type": "stream",
     "text": [
      "[download]  91.6% of ~ 278.89MiB at    1.54MiB/s ETA 00:18 (frag 116/128)"
     ]
    },
    {
     "name": "stderr",
     "output_type": "stream",
     "text": [
      "frame=  277 fps=0.3 q=-0.0 size=N/A time=00:04:35.00 bitrate=N/A dup=0 drop=6609 speed=0.254x    \r"
     ]
    },
    {
     "name": "stdout",
     "output_type": "stream",
     "text": [
      "[download]  90.8% of ~ 282.15MiB at    1.65MiB/s ETA 00:17 (frag 117/128)"
     ]
    },
    {
     "name": "stderr",
     "output_type": "stream",
     "text": [
      "frame=  273 fps=1.6 q=-0.0 size=N/A time=00:04:31.00 bitrate=N/A dup=0 drop=6511 speed=1.58x     \r"
     ]
    },
    {
     "name": "stdout",
     "output_type": "stream",
     "text": [
      "[download]  92.3% of ~ 278.14MiB at    1.08MiB/s ETA 00:21 (frag 117/128)"
     ]
    },
    {
     "name": "stderr",
     "output_type": "stream",
     "text": [
      "frame=  278 fps=0.3 q=-0.0 size=N/A time=00:04:36.00 bitrate=N/A dup=0 drop=6620 speed=0.255x    \r"
     ]
    },
    {
     "name": "stdout",
     "output_type": "stream",
     "text": [
      "[download]  92.5% of ~ 278.96MiB at    1.27MiB/s ETA 00:19 (frag 117/128)"
     ]
    },
    {
     "name": "stderr",
     "output_type": "stream",
     "text": [
      "frame=   41 fps=0.3 q=-0.0 size=N/A time=00:00:39.00 bitrate=N/A dup=0 drop=941 speed=0.264x    \r"
     ]
    },
    {
     "name": "stdout",
     "output_type": "stream",
     "text": [
      "[download]  91.4% of ~ 282.62MiB at    1.39MiB/s ETA 00:18 (frag 118/128)"
     ]
    },
    {
     "name": "stderr",
     "output_type": "stream",
     "text": [
      "frame=  173 fps=0.2 q=-0.0 size=N/A time=00:02:51.00 bitrate=N/A dup=0 drop=4949 speed=0.197x    \r"
     ]
    },
    {
     "name": "stdout",
     "output_type": "stream",
     "text": [
      "[download]  93.0% of ~ 277.91MiB at    1.17MiB/s ETA 00:19 (frag 118/128)"
     ]
    },
    {
     "name": "stderr",
     "output_type": "stream",
     "text": [
      "frame=   87 fps=0.2 q=-0.0 size=N/A time=00:01:25.00 bitrate=N/A dup=0 drop=4173 speed=0.157x    \r"
     ]
    },
    {
     "name": "stdout",
     "output_type": "stream",
     "text": [
      "[download]  93.1% of ~ 278.43MiB at    1.24MiB/s ETA 00:18 (frag 118/128)"
     ]
    },
    {
     "name": "stderr",
     "output_type": "stream",
     "text": [
      "frame=  182 fps=0.2 q=-0.0 size=N/A time=00:03:00.00 bitrate=N/A dup=0 drop=8835 speed=0.154x    \r"
     ]
    },
    {
     "name": "stdout",
     "output_type": "stream",
     "text": [
      "[download]  93.3% of ~ 278.97MiB at    1.38MiB/s ETA 00:17 (frag 118/128)"
     ]
    },
    {
     "name": "stderr",
     "output_type": "stream",
     "text": [
      "frame=   87 fps=0.2 q=-0.0 size=N/A time=00:01:25.00 bitrate=N/A dup=0 drop=4177 speed=0.157x    \r"
     ]
    },
    {
     "name": "stdout",
     "output_type": "stream",
     "text": [
      "[download]  92.0% of ~ 283.82MiB at    1.59MiB/s ETA 00:16 (frag 119/128)"
     ]
    },
    {
     "name": "stderr",
     "output_type": "stream",
     "text": [
      "frame=  182 fps=0.2 q=-0.0 size=N/A time=00:03:00.00 bitrate=N/A dup=0 drop=8842 speed=0.153x    \r"
     ]
    },
    {
     "name": "stdout",
     "output_type": "stream",
     "text": [
      "[download]  93.8% of ~ 278.52MiB at    1.39MiB/s ETA 00:16 (frag 119/128)"
     ]
    },
    {
     "name": "stderr",
     "output_type": "stream",
     "text": [
      "frame=  173 fps=0.2 q=-0.0 size=N/A time=00:02:51.00 bitrate=N/A dup=0 drop=4960 speed=0.197x    \r"
     ]
    },
    {
     "name": "stdout",
     "output_type": "stream",
     "text": [
      "[download]  93.8% of ~ 278.58MiB at    1.33MiB/s ETA 00:15 (frag 119/128)"
     ]
    },
    {
     "name": "stderr",
     "output_type": "stream",
     "text": [
      "frame=  230 fps=0.2 q=-0.0 size=N/A time=00:03:48.00 bitrate=N/A dup=0 drop=6617 speed=0.233x    \r"
     ]
    },
    {
     "name": "stdout",
     "output_type": "stream",
     "text": [
      "[download]  93.8% of ~ 278.78MiB at    1.37MiB/s ETA 00:15 (frag 119/128)"
     ]
    },
    {
     "name": "stderr",
     "output_type": "stream",
     "text": [
      "frame=  279 fps=0.3 q=-0.0 size=N/A time=00:04:37.00 bitrate=N/A dup=0 drop=6646 speed=0.255x    \r"
     ]
    },
    {
     "name": "stdout",
     "output_type": "stream",
     "text": [
      "[download]  94.1% of ~ 279.58MiB at    1.60MiB/s ETA 00:14 (frag 119/128)"
     ]
    },
    {
     "name": "stderr",
     "output_type": "stream",
     "text": [
      "frame=  173 fps=0.2 q=-0.0 size=N/A time=00:02:51.00 bitrate=N/A dup=0 drop=4964 speed=0.197x    \r"
     ]
    },
    {
     "name": "stdout",
     "output_type": "stream",
     "text": [
      "[download]  93.1% of ~ 282.57MiB at    1.66MiB/s ETA 00:14 (frag 120/128)"
     ]
    },
    {
     "name": "stderr",
     "output_type": "stream",
     "text": [
      "frame=  182 fps=0.2 q=-0.0 size=N/A time=00:03:00.00 bitrate=N/A dup=0 drop=8854 speed=0.153x    \r"
     ]
    },
    {
     "name": "stdout",
     "output_type": "stream",
     "text": [
      "[download]  94.5% of ~ 278.23MiB at    1.44MiB/s ETA 00:14 (frag 120/128)"
     ]
    },
    {
     "name": "stderr",
     "output_type": "stream",
     "text": [
      "frame=  280 fps=1.6 q=-0.0 size=N/A time=00:04:38.00 bitrate=N/A dup=0 drop=6690 speed=1.57x    \r"
     ]
    },
    {
     "name": "stdout",
     "output_type": "stream",
     "text": [
      "[download]  94.6% of ~ 278.29MiB at 1002.32KiB/s ETA 00:15 (frag 120/128)"
     ]
    },
    {
     "name": "stderr",
     "output_type": "stream",
     "text": [
      "frame=  277 fps=0.2 q=-0.0 size=N/A time=00:04:35.00 bitrate=N/A dup=0 drop=6602 speed=0.22x     \r"
     ]
    },
    {
     "name": "stdout",
     "output_type": "stream",
     "text": [
      "[download]  94.7% of ~ 278.75MiB at  954.61KiB/s ETA 00:16 (frag 120/128)"
     ]
    },
    {
     "name": "stderr",
     "output_type": "stream",
     "text": [
      "frame=  173 fps=0.2 q=-0.0 size=N/A time=00:02:51.00 bitrate=N/A dup=0 drop=4972 speed=0.196x    \r"
     ]
    },
    {
     "name": "stdout",
     "output_type": "stream",
     "text": [
      "[download]  93.7% of ~ 283.43MiB at    1.57MiB/s ETA 00:14 (frag 121/128)"
     ]
    },
    {
     "name": "stderr",
     "output_type": "stream",
     "text": [
      "frame=   43 fps=0.3 q=-0.0 size=N/A time=00:00:41.00 bitrate=N/A dup=0 drop=992 speed=0.266x     \r"
     ]
    },
    {
     "name": "stdout",
     "output_type": "stream",
     "text": [
      "[download]  95.3% of ~ 278.56MiB at    1.40MiB/s ETA 00:13 (frag 121/128)"
     ]
    },
    {
     "name": "stderr",
     "output_type": "stream",
     "text": [
      "frame=  183 fps=0.2 q=-0.0 size=N/A time=00:03:01.00 bitrate=N/A dup=0 drop=8867 speed=0.154x    \r"
     ]
    },
    {
     "name": "stdout",
     "output_type": "stream",
     "text": [
      "[download]  95.4% of ~ 280.62MiB at    1.39MiB/s ETA 00:12 (frag 121/128)"
     ]
    },
    {
     "name": "stderr",
     "output_type": "stream",
     "text": [
      "frame=  279 fps=0.3 q=-0.0 size=N/A time=00:04:37.00 bitrate=N/A dup=0 drop=6667 speed=0.254x    \r"
     ]
    },
    {
     "name": "stdout",
     "output_type": "stream",
     "text": [
      "[download]  94.6% of ~ 283.04MiB at    1.60MiB/s ETA 00:11 (frag 122/128)"
     ]
    },
    {
     "name": "stderr",
     "output_type": "stream",
     "text": [
      "frame=  183 fps=0.2 q=-0.0 size=N/A time=00:03:01.00 bitrate=N/A dup=0 drop=8880 speed=0.154x    \r"
     ]
    },
    {
     "name": "stdout",
     "output_type": "stream",
     "text": [
      "[download]  96.1% of ~ 278.51MiB at    1.39MiB/s ETA 00:11 (frag 122/128)"
     ]
    },
    {
     "name": "stderr",
     "output_type": "stream",
     "text": [
      "frame=  231 fps=0.2 q=-0.0 size=N/A time=00:03:49.00 bitrate=N/A dup=0 drop=6653 speed=0.233x    \r"
     ]
    },
    {
     "name": "stdout",
     "output_type": "stream",
     "text": [
      "[download]  96.3% of ~ 279.02MiB at 1011.89KiB/s ETA 00:12 (frag 122/128)"
     ]
    },
    {
     "name": "stderr",
     "output_type": "stream",
     "text": [
      "frame=  280 fps=0.3 q=-0.0 size=N/A time=00:04:38.00 bitrate=N/A dup=0 drop=6675 speed=0.254x    \r"
     ]
    },
    {
     "name": "stdout",
     "output_type": "stream",
     "text": [
      "[download]  96.4% of ~ 280.58MiB at    1.54MiB/s ETA 00:10 (frag 122/128)"
     ]
    },
    {
     "name": "stderr",
     "output_type": "stream",
     "text": [
      "frame=  174 fps=0.2 q=-0.0 size=N/A time=00:02:52.00 bitrate=N/A dup=0 drop=4995 speed=0.197x    \r"
     ]
    },
    {
     "name": "stdout",
     "output_type": "stream",
     "text": [
      "[download]  95.1% of ~ 284.55MiB at    1.70MiB/s ETA 00:10 (frag 123/128)"
     ]
    },
    {
     "name": "stderr",
     "output_type": "stream",
     "text": [
      "frame=  183 fps=0.2 q=-0.0 size=N/A time=00:03:01.00 bitrate=N/A dup=0 drop=8894 speed=0.153x    \r"
     ]
    },
    {
     "name": "stdout",
     "output_type": "stream",
     "text": [
      "[download]  96.9% of ~ 279.29MiB at    1.34MiB/s ETA 00:10 (frag 123/128)"
     ]
    },
    {
     "name": "stderr",
     "output_type": "stream",
     "text": [
      "frame=  280 fps=0.3 q=-0.0 size=N/A time=00:04:38.00 bitrate=N/A dup=0 drop=6683 speed=0.254x    \r"
     ]
    },
    {
     "name": "stdout",
     "output_type": "stream",
     "text": [
      "[download]  97.1% of ~ 279.77MiB at    1.64MiB/s ETA 00:08 (frag 123/128)"
     ]
    },
    {
     "name": "stderr",
     "output_type": "stream",
     "text": [
      "frame=   88 fps=0.2 q=-0.0 size=N/A time=00:01:26.00 bitrate=N/A dup=0 drop=4241 speed=0.157x    \r"
     ]
    },
    {
     "name": "stdout",
     "output_type": "stream",
     "text": [
      "[download]  97.1% of ~ 281.32MiB at    1.97MiB/s ETA 00:07 (frag 123/128)"
     ]
    },
    {
     "name": "stderr",
     "output_type": "stream",
     "text": [
      "frame=  280 fps=0.3 q=-0.0 size=N/A time=00:04:38.00 bitrate=N/A dup=0 drop=6686 speed=0.254x    \r"
     ]
    },
    {
     "name": "stdout",
     "output_type": "stream",
     "text": [
      "[download]  96.0% of ~ 284.40MiB at    2.04MiB/s ETA 00:07 (frag 124/128)"
     ]
    },
    {
     "name": "stderr",
     "output_type": "stream",
     "text": [
      "frame=   45 fps=0.3 q=-0.0 size=N/A time=00:00:43.00 bitrate=N/A dup=0 drop=1048 speed=0.27x     \r"
     ]
    },
    {
     "name": "stdout",
     "output_type": "stream",
     "text": [
      "[download]  97.8% of ~ 280.09MiB at    1.19MiB/s ETA 00:07 (frag 124/128)"
     ]
    },
    {
     "name": "stderr",
     "output_type": "stream",
     "text": [
      "frame=  175 fps=0.2 q=-0.0 size=N/A time=00:02:53.00 bitrate=N/A dup=0 drop=5013 speed=0.197x    \r"
     ]
    },
    {
     "name": "stdout",
     "output_type": "stream",
     "text": [
      "[download]  97.9% of ~ 281.62MiB at    1.69MiB/s ETA 00:06 (frag 124/128)"
     ]
    },
    {
     "name": "stderr",
     "output_type": "stream",
     "text": [
      "frame=   89 fps=0.2 q=-0.0 size=N/A time=00:01:27.00 bitrate=N/A dup=0 drop=4256 speed=0.158x    \r"
     ]
    },
    {
     "name": "stdout",
     "output_type": "stream",
     "text": [
      "[download]  96.7% of ~ 284.94MiB at    1.81MiB/s ETA 00:06 (frag 125/128)"
     ]
    },
    {
     "name": "stderr",
     "output_type": "stream",
     "text": [
      "frame=  281 fps=0.3 q=-0.0 size=N/A time=00:04:39.00 bitrate=N/A dup=0 drop=6697 speed=0.254x    \r"
     ]
    },
    {
     "name": "stdout",
     "output_type": "stream",
     "text": [
      "[download]  98.4% of ~ 280.03MiB at    1.59MiB/s ETA 00:06 (frag 125/128)"
     ]
    },
    {
     "name": "stderr",
     "output_type": "stream",
     "text": [
      "frame=  294 fps=1.6 q=-0.0 size=N/A time=00:04:52.00 bitrate=N/A dup=0 drop=7014 speed=1.57x     \r"
     ]
    },
    {
     "name": "stdout",
     "output_type": "stream",
     "text": [
      "[download]  98.5% of ~ 280.27MiB at    1.26MiB/s ETA 00:05 (frag 125/128)"
     ]
    },
    {
     "name": "stderr",
     "output_type": "stream",
     "text": [
      "frame=  233 fps=0.2 q=-0.0 size=N/A time=00:03:51.00 bitrate=N/A dup=0 drop=6692 speed=0.234x    \r"
     ]
    },
    {
     "name": "stdout",
     "output_type": "stream",
     "text": [
      "[download]  97.8% of ~ 283.85MiB at    1.59MiB/s ETA 00:04 (frag 126/128)"
     ]
    },
    {
     "name": "stderr",
     "output_type": "stream",
     "text": [
      "frame=  279 fps=0.2 q=-0.0 size=N/A time=00:04:37.00 bitrate=N/A dup=0 drop=6660 speed=0.22x     \r"
     ]
    },
    {
     "name": "stdout",
     "output_type": "stream",
     "text": [
      "[download]  99.2% of ~ 279.72MiB at    1.58MiB/s ETA 00:04 (frag 126/128)"
     ]
    },
    {
     "name": "stderr",
     "output_type": "stream",
     "text": [
      "frame=   89 fps=0.2 q=-0.0 size=N/A time=00:01:27.00 bitrate=N/A dup=0 drop=4279 speed=0.157x    \r"
     ]
    },
    {
     "name": "stdout",
     "output_type": "stream",
     "text": [
      "[download]  99.4% of ~ 280.22MiB at    1.62MiB/s ETA 00:03 (frag 126/128)"
     ]
    },
    {
     "name": "stderr",
     "output_type": "stream",
     "text": [
      "frame=   89 fps=0.2 q=-0.0 size=N/A time=00:01:27.00 bitrate=N/A dup=0 drop=4283 speed=0.157x    \r"
     ]
    },
    {
     "name": "stdout",
     "output_type": "stream",
     "text": [
      "[download]  98.6% of ~ 283.54MiB at    1.50MiB/s ETA 00:03 (frag 127/128)"
     ]
    },
    {
     "name": "stderr",
     "output_type": "stream",
     "text": [
      "frame=  233 fps=0.2 q=-0.0 size=N/A time=00:03:51.00 bitrate=N/A dup=0 drop=6713 speed=0.233x    \r"
     ]
    },
    {
     "name": "stdout",
     "output_type": "stream",
     "text": [
      "[download] 100.0% of ~ 279.92MiB at    1.38MiB/s ETA 00:02 (frag 127/128)"
     ]
    },
    {
     "name": "stderr",
     "output_type": "stream",
     "text": [
      "frame=  176 fps=0.2 q=-0.0 size=N/A time=00:02:54.00 bitrate=N/A dup=0 drop=5043 speed=0.197x    \r"
     ]
    },
    {
     "name": "stdout",
     "output_type": "stream",
     "text": [
      "[download]  99.6% of ~ 281.65MiB at    1.40MiB/s ETA 00:01 (frag 128/128)"
     ]
    },
    {
     "name": "stderr",
     "output_type": "stream",
     "text": [
      "frame=  176 fps=0.2 q=-0.0 size=N/A time=00:02:54.00 bitrate=N/A dup=0 drop=5048 speed=0.197x    \r"
     ]
    },
    {
     "name": "stdout",
     "output_type": "stream",
     "text": [
      "[download] 100.0% of ~ 280.66MiB at    1.30MiB/s ETA 00:01 (frag 128/128)"
     ]
    },
    {
     "name": "stderr",
     "output_type": "stream",
     "text": [
      "frame=  234 fps=0.2 q=-0.0 size=N/A time=00:03:52.00 bitrate=N/A dup=0 drop=6720 speed=0.234x    \r"
     ]
    },
    {
     "name": "stdout",
     "output_type": "stream",
     "text": [
      "[download] 100.0% of ~ 280.70MiB at    1.23MiB/s ETA 00:01 (frag 129/128)"
     ]
    },
    {
     "name": "stderr",
     "output_type": "stream",
     "text": [
      "frame=  282 fps=0.3 q=-0.0 size=N/A time=00:04:40.00 bitrate=N/A dup=0 drop=6724 speed=0.254x    \r"
     ]
    },
    {
     "name": "stdout",
     "output_type": "stream",
     "text": [
      "[download] 100% of  280.70MiB in 00:03:21 at 1.39MiB/s                   \n"
     ]
    },
    {
     "name": "stderr",
     "output_type": "stream",
     "text": [
      "frame=  301 fps=1.6 q=-0.0 size=N/A time=00:04:59.00 bitrate=N/A dup=0 drop=7172 speed=1.57x     \r"
     ]
    },
    {
     "name": "stdout",
     "output_type": "stream",
     "text": [
      "[download] Destination: ./dataset_splited/OiDgFekE2ak/video_1080p.f251.webm\n",
      "[download]   0.3% of    9.79MiB at  413.88KiB/s ETA 00:24"
     ]
    },
    {
     "name": "stderr",
     "output_type": "stream",
     "text": [
      "frame=  176 fps=0.2 q=-0.0 size=N/A time=00:02:54.00 bitrate=N/A dup=0 drop=5053 speed=0.197x    \r"
     ]
    },
    {
     "name": "stdout",
     "output_type": "stream",
     "text": [
      "[download]  20.4% of    9.79MiB at    6.02MiB/s ETA 00:01"
     ]
    },
    {
     "name": "stderr",
     "output_type": "stream",
     "text": [
      "frame=   90 fps=0.2 q=-0.0 size=N/A time=00:01:28.00 bitrate=N/A dup=0 drop=4309 speed=0.158x    \r"
     ]
    },
    {
     "name": "stdout",
     "output_type": "stream",
     "text": [
      "[download]  40.9% of    9.79MiB at    6.99MiB/s ETA 00:00"
     ]
    },
    {
     "name": "stderr",
     "output_type": "stream",
     "text": [
      "frame=   90 fps=0.2 q=-0.0 size=N/A time=00:01:28.00 bitrate=N/A dup=0 drop=4314 speed=0.158x    \r"
     ]
    },
    {
     "name": "stdout",
     "output_type": "stream",
     "text": [
      "[download]  98.1% of    9.79MiB at  645.51KiB/s ETA 00:00  "
     ]
    },
    {
     "name": "stderr",
     "output_type": "stream",
     "text": [
      "frame=  185 fps=0.2 q=-0.0 size=N/A time=00:03:03.00 bitrate=N/A dup=0 drop=8971 speed=0.154x    \r"
     ]
    },
    {
     "name": "stdout",
     "output_type": "stream",
     "text": [
      "[download] 100.0% of    9.79MiB at    1.01MiB/s ETA 00:00"
     ]
    },
    {
     "name": "stderr",
     "output_type": "stream",
     "text": [
      "frame=   90 fps=0.2 q=-0.0 size=N/A time=00:01:28.00 bitrate=N/A dup=0 drop=4321 speed=0.158x    \r"
     ]
    },
    {
     "name": "stdout",
     "output_type": "stream",
     "text": [
      "[download] 100% of    9.79MiB in 00:00:01 at 5.15MiB/s   \n"
     ]
    },
    {
     "name": "stderr",
     "output_type": "stream",
     "text": [
      "frame=   49 fps=0.3 q=-0.0 size=N/A time=00:00:47.00 bitrate=N/A dup=0 drop=1130 speed=0.28x     \r"
     ]
    },
    {
     "name": "stdout",
     "output_type": "stream",
     "text": [
      "[Merger] Merging formats into \"./dataset_splited/OiDgFekE2ak/video_1080p.webm\"\n"
     ]
    },
    {
     "name": "stderr",
     "output_type": "stream",
     "text": [
      "frame=  288 fps=0.3 q=-0.0 size=N/A time=00:04:46.00 bitrate=N/A dup=0 drop=6871 speed=0.253x    \r"
     ]
    },
    {
     "name": "stdout",
     "output_type": "stream",
     "text": [
      "Deleting original file ./dataset_splited/OiDgFekE2ak/video_1080p.f251.webm (pass -k to keep)\n",
      "Deleting original file ./dataset_splited/OiDgFekE2ak/video_1080p.f616.mp4 (pass -k to keep)\n"
     ]
    },
    {
     "name": "stderr",
     "output_type": "stream",
     "text": [
      "ffmpeg version 4.2.7-0ubuntu0.1 Copyright (c) 2000-2022 the FFmpeg developers344 speed=0.278x    \n",
      "  built with gcc 9 (Ubuntu 9.4.0-1ubuntu1~20.04.1)\n",
      "  configuration: --prefix=/usr --extra-version=0ubuntu0.1 --toolchain=hardened --libdir=/usr/lib/x86_64-linux-gnu --incdir=/usr/include/x86_64-linux-gnu --arch=amd64 --enable-gpl --disable-stripping --enable-avresample --disable-filter=resample --enable-avisynth --enable-gnutls --enable-ladspa --enable-libaom --enable-libass --enable-libbluray --enable-libbs2b --enable-libcaca --enable-libcdio --enable-libcodec2 --enable-libflite --enable-libfontconfig --enable-libfreetype --enable-libfribidi --enable-libgme --enable-libgsm --enable-libjack --enable-libmp3lame --enable-libmysofa --enable-libopenjpeg --enable-libopenmpt --enable-libopus --enable-libpulse --enable-librsvg --enable-librubberband --enable-libshine --enable-libsnappy --enable-libsoxr --enable-libspeex --enable-libssh --enable-libtheora --enable-libtwolame --enable-libvidstab --enable-libvorbis --enable-libvpx --enable-libwavpack --enable-libwebp --enable-libx265 --enable-libxml2 --enable-libxvid --enable-libzmq --enable-libzvbi --enable-lv2 --enable-omx --enable-openal --enable-opencl --enable-opengl --enable-sdl2 --enable-libdc1394 --enable-libdrm --enable-libiec61883 --enable-nvenc --enable-chromaprint --enable-frei0r --enable-libx264 --enable-shared\n",
      "  libavutil      56. 31.100 / 56. 31.100\n",
      "  libavcodec     58. 54.100 / 58. 54.100\n",
      "  libavformat    58. 29.100 / 58. 29.100\n",
      "  libavdevice    58.  8.100 / 58.  8.100\n",
      "  libavfilter     7. 57.100 /  7. 57.100\n",
      "  libavresample   4.  0.  0 /  4.  0.  0\n",
      "  libswscale      5.  5.100 /  5.  5.100\n",
      "  libswresample   3.  5.100 /  3.  5.100\n",
      "  libpostproc    55.  5.100 / 55.  5.100\n",
      "Input #0, matroska,webm, from './dataset_splited/OiDgFekE2ak/video_1080p.webm':0 speed=0.156x    \n",
      "  Metadata:\n",
      "    COMPATIBLE_BRANDS: iso6mp41\n",
      "    MAJOR_BRAND     : dash\n",
      "    MINOR_VERSION   : 0\n",
      "    ENCODER         : Lavf58.29.100\n",
      "  Duration: 00:11:32.26, start: -0.007000, bitrate: 3519 kb/s\n",
      "    Stream #0:0: Video: vp9 (Profile 0), yuv420p(tv, bt709), 1920x1080, SAR 1:1 DAR 16:9, 25 fps, 25 tbr, 1k tbn, 1k tbc (default)\n",
      "    Metadata:\n",
      "      HANDLER_NAME    : ISO Media file produced by Google Inc. Created on: 12/14/2023.\n",
      "      DURATION        : 00:11:32.200000000\n",
      "    Stream #0:1(eng): Audio: opus, 48000 Hz, stereo, fltp (default)\n",
      "    Metadata:\n",
      "      DURATION        : 00:11:32.261000000\n",
      "Stream mapping:\n",
      "  Stream #0:0 -> #0:0 (vp9 (native) -> png (native))\n",
      "Press [q] to stop, [?] for help\n",
      "Output #0, image2, to './dataset_splited/OiDgFekE2ak/frames_1080p/frame-%04d.png':peed=1.54x     \n",
      "  Metadata:\n",
      "    COMPATIBLE_BRANDS: iso6mp41\n",
      "    MAJOR_BRAND     : dash\n",
      "    MINOR_VERSION   : 0\n",
      "    encoder         : Lavf58.29.100\n",
      "    Stream #0:0: Video: png, rgb24, 1920x1080 [SAR 1:1 DAR 16:9], q=2-31, 200 kb/s, 1 fps, 1 tbn, 1 tbc (default)\n",
      "    Metadata:\n",
      "      HANDLER_NAME    : ISO Media file produced by Google Inc. Created on: 12/14/2023.\n",
      "      DURATION        : 00:11:32.200000000\n",
      "      encoder         : Lavc58.54.100 png\n",
      "frame=  694 fps=1.5 q=-0.0 Lsize=N/A time=00:11:34.00 bitrate=N/A dup=0 drop=16612 speed= 1.5x    \n",
      "video:228710kB audio:0kB subtitle:0kB other streams:0kB global headers:0kB muxing overhead: unknown\n",
      "frame=  251 fps=0.2 q=-0.0 Lsize=N/A time=00:04:11.00 bitrate=N/A dup=0 drop=12199 speed=0.156x    \n",
      "video:578970kB audio:0kB subtitle:0kB other streams:0kB global headers:0kB muxing overhead: unknown\n",
      "frame=  415 fps=0.2 q=-0.0 Lsize=N/A time=00:06:55.00 bitrate=N/A dup=0 drop=9913 speed=0.234x    \n",
      "video:991686kB audio:0kB subtitle:0kB other streams:0kB global headers:0kB muxing overhead: unknown\n",
      "frame=  355 fps=0.3 q=-0.0 Lsize=N/A time=00:05:55.00 bitrate=N/A dup=0 drop=8480 speed=0.312x    \n",
      "video:712243kB audio:0kB subtitle:0kB other streams:0kB global headers:0kB muxing overhead: unknown\n",
      "frame=  785 fps=0.3 q=-0.0 Lsize=N/A time=00:13:05.00 bitrate=N/A dup=0 drop=22682 speed=0.315x    \n",
      "video:2078710kB audio:0kB subtitle:0kB other streams:0kB global headers:0kB muxing overhead: unknown\n",
      "frame=  960 fps=0.4 q=-0.0 Lsize=N/A time=00:16:00.00 bitrate=N/A dup=0 drop=22989 speed=0.362x    \n",
      "video:1296417kB audio:0kB subtitle:0kB other streams:0kB global headers:0kB muxing overhead: unknown\n",
      "frame=  486 fps=0.2 q=-0.0 Lsize=N/A time=00:08:06.00 bitrate=N/A dup=0 drop=23716 speed=0.225x    \n",
      "video:800501kB audio:0kB subtitle:0kB other streams:0kB global headers:0kB muxing overhead: unknown\n",
      "frame=  694 fps=0.4 q=-0.0 Lsize=N/A time=00:11:34.00 bitrate=N/A dup=0 drop=16612 speed=0.44x    \n",
      "video:890373kB audio:0kB subtitle:0kB other streams:0kB global headers:0kB muxing overhead: unknown\n",
      "frame= 1044 fps=0.4 q=-0.0 size=N/A time=00:17:22.00 bitrate=N/A dup=0 drop=30185 speed=0.388x    \r"
     ]
    },
    {
     "name": "stdout",
     "output_type": "stream",
     "text": [
      "Time taken to upload directory: 3220.7020611763 seconds\n"
     ]
    },
    {
     "name": "stderr",
     "output_type": "stream",
     "text": [
      "frame= 1044 fps=0.4 q=-0.0 Lsize=N/A time=00:17:24.00 bitrate=N/A dup=0 drop=30202 speed=0.388x    \n",
      "video:2124271kB audio:0kB subtitle:0kB other streams:0kB global headers:0kB muxing overhead: unknown\n"
     ]
    }
   ],
   "source": [
    "import os\n",
    "import subprocess\n",
    "import time\n",
    "from concurrent.futures import ThreadPoolExecutor\n",
    "\n",
    "import boto3\n",
    "import botocore\n",
    "# from boto3.dynamodb.conditions import Attr\n",
    "from yt_dlp import YoutubeDL\n",
    "\n",
    "dataset_bucket_name = 'up-scaling-prod-dataset-videos'\n",
    "dataset_dynamodb_name = 'up_scaling_prod_dataset'\n",
    "\n",
    "s3 = boto3.client('s3', config=botocore.client.Config(max_pool_connections=500))\n",
    "dynamodb = boto3.resource('dynamodb')\n",
    "\n",
    "table = dynamodb.Table(dataset_dynamodb_name)\n",
    "\n",
    "default_dir = 'dataset_splited'\n",
    "\n",
    "def download_video(video_id: str, video_url: str, quality_p=1080):\n",
    "    path = f'./{default_dir}/{video_id}/video_{quality_p}p.webm'\n",
    "    # Configuration for youtube-dl\n",
    "    ydl_opts = {\n",
    "        'format': f'bestvideo[height<={quality_p}]+bestaudio/best[height<={quality_p}]',\n",
    "        'outtmpl': f'./{default_dir}/%(id)s/video_{quality_p}p.%(ext)s',\n",
    "    }\n",
    "    with YoutubeDL(ydl_opts) as ydl:\n",
    "        ydl.download([video_url])\n",
    "\n",
    "    return path\n",
    "\n",
    "\n",
    "def upload_file_to_s3(bucket_name: str, key: str, file_path: str):\n",
    "    s3.upload_file(file_path, bucket_name, key)\n",
    "\n",
    "\n",
    "def set_dynamo_db_flags(video_id: str):\n",
    "    # Update the 'upload' attribute to True\n",
    "    table.update_item(\n",
    "        Key={'id': video_id},\n",
    "        UpdateExpression='SET upload = :val',\n",
    "        ExpressionAttributeValues={\n",
    "            ':val': True\n",
    "        }\n",
    "    )\n",
    "\n",
    "\n",
    "def youtube_video_to_s3(video_id: str, video_url: str, quality_p):\n",
    "    video_path = download_video(video_id, video_url, quality_p=quality_p)\n",
    "    frames_directory = split_video_into_frames(video_path, video_id, quality_p)\n",
    "\n",
    "    # Remove S3 upload to test SageMaker local dir\n",
    "    max_workers = 500\n",
    "    with ThreadPoolExecutor(max_workers=max_workers) as executor:\n",
    "        executor.submit(upload_file_to_s3, dataset_bucket_name, f'{video_id}/video/{quality_p}.webm', video_path)\n",
    "\n",
    "        # Upload each frame to S3\n",
    "        for frame_file in os.listdir(frames_directory):\n",
    "            frame_path = os.path.join(frames_directory, frame_file)\n",
    "            frame_key = f'{video_id}/frames/{quality_p}/{frame_file}'\n",
    "            executor.submit(upload_file_to_s3, dataset_bucket_name, frame_key, frame_path)\n",
    "\n",
    "    set_dynamo_db_flags(video_id)\n",
    "\n",
    "\n",
    "def split_video_into_frames(video_path: str, video_id: str, quality_p: int):\n",
    "    frames_directory = f'./{default_dir}/{video_id}/frames_{quality_p}p'\n",
    "    os.makedirs(frames_directory, exist_ok=True)\n",
    "    frames_path = os.path.join(frames_directory, 'frame-%04d.png')\n",
    "\n",
    "    # Run FFmpeg command to extract 5 frames per second\n",
    "    subprocess.run(['ffmpeg', '-i', video_path, '-r', '1', frames_path], check=True)\n",
    "    return frames_directory\n",
    "\n",
    "\n",
    "def handler(event, context):\n",
    "    response = {\n",
    "        'Items': [\n",
    "            {'id': 'tx2DaIcoNLQ'},\n",
    "            {'id': 'E895PNqSgEI'},\n",
    "            {'id': 'RW94mABPEpw'},\n",
    "            {'id': 'Z3nOh8Yig0o'},\n",
    "            {'id': 'XniKiPMM24g'},\n",
    "            {'id': 'dWB3iP3ai-o'},\n",
    "            {'id': 'MoxFkJlVZlA'},\n",
    "            {'id': 'm3GPb-A9CQ4'},\n",
    "            {'id': 'BWkt79xkd00'},\n",
    "            {'id': 'yB7-bVpsOic'},\n",
    "            {'id': 'WkLTWmlTaJM'},\n",
    "            {'id': 'AaCGGopQOJ0'},\n",
    "            {'id': 'OiDgFekE2ak'},\n",
    "        ]\n",
    "    }\n",
    "\n",
    "    print(response)\n",
    "\n",
    "    max_workers = 10\n",
    "    with ThreadPoolExecutor(max_workers=max_workers) as executor:\n",
    "        # Iterate over the items returned by the scan\n",
    "        for item in response['Items']:\n",
    "            video_id = item['id']\n",
    "            video_url = f'https://www.youtube.com/watch?v={video_id}'\n",
    "\n",
    "            executor.submit(youtube_video_to_s3, video_id, video_url, 480)\n",
    "            executor.submit(youtube_video_to_s3, video_id, video_url, 1080)\n",
    "\n",
    "    return {\n",
    "        'statusCode': 200,\n",
    "        'body': 'Videos processed successfully'\n",
    "    }\n",
    "\n",
    "\n",
    "if __name__ == '__main__':\n",
    "    start_time = time.time()\n",
    "    handler('', '')\n",
    "    end_time = time.time()\n",
    "    print(f\"Time taken to upload directory: {end_time - start_time} seconds\")\n"
   ]
  },
  {
   "cell_type": "code",
   "execution_count": 5,
   "id": "a84b66b5-f5d8-4ad8-80e4-2af6ec3410d3",
   "metadata": {
    "tags": []
   },
   "outputs": [
    {
     "name": "stdout",
     "output_type": "stream",
     "text": [
      "Done for MoxFkJlVZlA : 1080\n",
      "Done for MoxFkJlVZlA : 480\n",
      "Done for OiDgFekE2ak : 480\n",
      "Done for OiDgFekE2ak : 1080\n",
      "Done for AaCGGopQOJ0 : 480\n",
      "Done for AaCGGopQOJ0 : 1080\n",
      "Done for dWB3iP3ai-o : 1080\n",
      "Done for dWB3iP3ai-o : 480\n",
      "Done for RW94mABPEpw : 480\n",
      "Done for RW94mABPEpw : 1080\n",
      "Done for E895PNqSgEI : 480\n",
      "Done for E895PNqSgEI : 1080\n",
      "Done for XniKiPMM24g : 480\n",
      "Done for XniKiPMM24g : 1080\n",
      "Done for WkLTWmlTaJM : 480\n",
      "Done for WkLTWmlTaJM : 1080\n",
      "Done for tx2DaIcoNLQ : 1080\n",
      "Done for tx2DaIcoNLQ : 480\n",
      "Done for yB7-bVpsOic : 1080\n",
      "Done for yB7-bVpsOic : 480\n",
      "Done for BWkt79xkd00 : 1080\n",
      "Done for BWkt79xkd00 : 480\n",
      "Time taken to upload directory: 177.814594745636 seconds\n"
     ]
    }
   ],
   "source": [
    "import os\n",
    "import shutil\n",
    "\n",
    "def copy(src_file, dst_file):\n",
    "    shutil.copy2(src_file, dst_file)\n",
    "\n",
    "def duplicate_subdir(subsubdir_path, dataset_quality, video_id, quality_p):\n",
    "    max_workers = 10000\n",
    "    with ThreadPoolExecutor(max_workers=max_workers) as executor_subdir:\n",
    "        # Copy all files from the old directory to the new directory\n",
    "        for file in os.listdir(subsubdir_path):\n",
    "            src_file = os.path.join(subsubdir_path, file)\n",
    "            dst_file = os.path.join(dataset_quality, f'{video_id}-{file}')\n",
    "            executor_subdir.submit(copy, src_file, dst_file)\n",
    "    print(f'Done for {video_id} : {quality_p}')\n",
    "\n",
    "def duplicate_data(default_dir):\n",
    "    base_directory = f'./{default_dir}'\n",
    "    dataset_directory = './dataset'\n",
    "    dataset480p = f'{dataset_directory}/480p'\n",
    "    dataset1080p = f'{dataset_directory}/1080p'\n",
    "\n",
    "    # Create dataset directory if it doesn't exist\n",
    "    if not os.path.exists(dataset_directory):\n",
    "        os.makedirs(dataset_directory)\n",
    "    if not os.path.exists(dataset480p):\n",
    "        os.makedirs(dataset480p)\n",
    "    if not os.path.exists(dataset1080p):\n",
    "        os.makedirs(dataset1080p)\n",
    "\n",
    "    # Loop through each subdirectory in the base directory\n",
    "    for video_id in os.listdir(base_directory):\n",
    "        subdir_path = os.path.join(base_directory, video_id)\n",
    "        if not os.path.isdir(subdir_path):\n",
    "            continue  # Skip if it's not a directory\n",
    "        # print(subdir)\n",
    "\n",
    "        max_workers = 5\n",
    "        with ThreadPoolExecutor(max_workers=max_workers) as executor:\n",
    "            for subsubdir in os.listdir(subdir_path):\n",
    "                subsubdir_path = os.path.join(subdir_path, subsubdir)\n",
    "                if not os.path.isdir(subsubdir_path):\n",
    "                    continue  # Skip if it's not a directory\n",
    "\n",
    "                # Extract video_id and quality_p from the directory name\n",
    "                parts = subsubdir_path.split('_')\n",
    "                if len(parts) < 3:\n",
    "                    continue  # Skip if the directory name doesn't match the expected pattern\n",
    "\n",
    "                quality_p = parts[2].replace('p', '')\n",
    "                dataset_quality = f'{dataset_directory}/{quality_p}p'\n",
    "\n",
    "                executor.submit(duplicate_subdir, subsubdir_path, dataset_quality, video_id, quality_p)\n",
    "\n",
    "\n",
    "start_time = time.time()\n",
    "\n",
    "default_dir = 'dataset_splited'\n",
    "duplicate_data(default_dir)\n",
    "\n",
    "end_time = time.time()\n",
    "print(f\"Time taken to upload directory: {end_time - start_time} seconds\")"
   ]
  },
  {
   "cell_type": "code",
   "execution_count": 6,
   "id": "8965c27a-62ce-49f6-911f-48fc5e7e855a",
   "metadata": {
    "tags": []
   },
   "outputs": [
    {
     "name": "stdout",
     "output_type": "stream",
     "text": [
      "Total size of './dataset/' is: 13371980100 bytes\n"
     ]
    }
   ],
   "source": [
    "import os\n",
    "\n",
    "def get_directory_size(directory):\n",
    "    total_size = 0\n",
    "    for dirpath, dirnames, filenames in os.walk(directory):\n",
    "        for f in filenames:\n",
    "            fp = os.path.join(dirpath, f)\n",
    "            # Skip if it is symbolic link\n",
    "            if not os.path.islink(fp):\n",
    "                total_size += os.path.getsize(fp)\n",
    "\n",
    "    return total_size\n",
    "\n",
    "# Example usage\n",
    "directory_path = './dataset/'\n",
    "size = get_directory_size(directory_path)\n",
    "print(f\"Total size of '{directory_path}' is: {size} bytes\")\n"
   ]
  }
 ],
 "metadata": {
  "availableInstances": [
   {
    "_defaultOrder": 0,
    "_isFastLaunch": true,
    "category": "General purpose",
    "gpuNum": 0,
    "hideHardwareSpecs": false,
    "memoryGiB": 4,
    "name": "ml.t3.medium",
    "vcpuNum": 2
   },
   {
    "_defaultOrder": 1,
    "_isFastLaunch": false,
    "category": "General purpose",
    "gpuNum": 0,
    "hideHardwareSpecs": false,
    "memoryGiB": 8,
    "name": "ml.t3.large",
    "vcpuNum": 2
   },
   {
    "_defaultOrder": 2,
    "_isFastLaunch": false,
    "category": "General purpose",
    "gpuNum": 0,
    "hideHardwareSpecs": false,
    "memoryGiB": 16,
    "name": "ml.t3.xlarge",
    "vcpuNum": 4
   },
   {
    "_defaultOrder": 3,
    "_isFastLaunch": false,
    "category": "General purpose",
    "gpuNum": 0,
    "hideHardwareSpecs": false,
    "memoryGiB": 32,
    "name": "ml.t3.2xlarge",
    "vcpuNum": 8
   },
   {
    "_defaultOrder": 4,
    "_isFastLaunch": true,
    "category": "General purpose",
    "gpuNum": 0,
    "hideHardwareSpecs": false,
    "memoryGiB": 8,
    "name": "ml.m5.large",
    "vcpuNum": 2
   },
   {
    "_defaultOrder": 5,
    "_isFastLaunch": false,
    "category": "General purpose",
    "gpuNum": 0,
    "hideHardwareSpecs": false,
    "memoryGiB": 16,
    "name": "ml.m5.xlarge",
    "vcpuNum": 4
   },
   {
    "_defaultOrder": 6,
    "_isFastLaunch": false,
    "category": "General purpose",
    "gpuNum": 0,
    "hideHardwareSpecs": false,
    "memoryGiB": 32,
    "name": "ml.m5.2xlarge",
    "vcpuNum": 8
   },
   {
    "_defaultOrder": 7,
    "_isFastLaunch": false,
    "category": "General purpose",
    "gpuNum": 0,
    "hideHardwareSpecs": false,
    "memoryGiB": 64,
    "name": "ml.m5.4xlarge",
    "vcpuNum": 16
   },
   {
    "_defaultOrder": 8,
    "_isFastLaunch": false,
    "category": "General purpose",
    "gpuNum": 0,
    "hideHardwareSpecs": false,
    "memoryGiB": 128,
    "name": "ml.m5.8xlarge",
    "vcpuNum": 32
   },
   {
    "_defaultOrder": 9,
    "_isFastLaunch": false,
    "category": "General purpose",
    "gpuNum": 0,
    "hideHardwareSpecs": false,
    "memoryGiB": 192,
    "name": "ml.m5.12xlarge",
    "vcpuNum": 48
   },
   {
    "_defaultOrder": 10,
    "_isFastLaunch": false,
    "category": "General purpose",
    "gpuNum": 0,
    "hideHardwareSpecs": false,
    "memoryGiB": 256,
    "name": "ml.m5.16xlarge",
    "vcpuNum": 64
   },
   {
    "_defaultOrder": 11,
    "_isFastLaunch": false,
    "category": "General purpose",
    "gpuNum": 0,
    "hideHardwareSpecs": false,
    "memoryGiB": 384,
    "name": "ml.m5.24xlarge",
    "vcpuNum": 96
   },
   {
    "_defaultOrder": 12,
    "_isFastLaunch": false,
    "category": "General purpose",
    "gpuNum": 0,
    "hideHardwareSpecs": false,
    "memoryGiB": 8,
    "name": "ml.m5d.large",
    "vcpuNum": 2
   },
   {
    "_defaultOrder": 13,
    "_isFastLaunch": false,
    "category": "General purpose",
    "gpuNum": 0,
    "hideHardwareSpecs": false,
    "memoryGiB": 16,
    "name": "ml.m5d.xlarge",
    "vcpuNum": 4
   },
   {
    "_defaultOrder": 14,
    "_isFastLaunch": false,
    "category": "General purpose",
    "gpuNum": 0,
    "hideHardwareSpecs": false,
    "memoryGiB": 32,
    "name": "ml.m5d.2xlarge",
    "vcpuNum": 8
   },
   {
    "_defaultOrder": 15,
    "_isFastLaunch": false,
    "category": "General purpose",
    "gpuNum": 0,
    "hideHardwareSpecs": false,
    "memoryGiB": 64,
    "name": "ml.m5d.4xlarge",
    "vcpuNum": 16
   },
   {
    "_defaultOrder": 16,
    "_isFastLaunch": false,
    "category": "General purpose",
    "gpuNum": 0,
    "hideHardwareSpecs": false,
    "memoryGiB": 128,
    "name": "ml.m5d.8xlarge",
    "vcpuNum": 32
   },
   {
    "_defaultOrder": 17,
    "_isFastLaunch": false,
    "category": "General purpose",
    "gpuNum": 0,
    "hideHardwareSpecs": false,
    "memoryGiB": 192,
    "name": "ml.m5d.12xlarge",
    "vcpuNum": 48
   },
   {
    "_defaultOrder": 18,
    "_isFastLaunch": false,
    "category": "General purpose",
    "gpuNum": 0,
    "hideHardwareSpecs": false,
    "memoryGiB": 256,
    "name": "ml.m5d.16xlarge",
    "vcpuNum": 64
   },
   {
    "_defaultOrder": 19,
    "_isFastLaunch": false,
    "category": "General purpose",
    "gpuNum": 0,
    "hideHardwareSpecs": false,
    "memoryGiB": 384,
    "name": "ml.m5d.24xlarge",
    "vcpuNum": 96
   },
   {
    "_defaultOrder": 20,
    "_isFastLaunch": false,
    "category": "General purpose",
    "gpuNum": 0,
    "hideHardwareSpecs": true,
    "memoryGiB": 0,
    "name": "ml.geospatial.interactive",
    "supportedImageNames": [
     "sagemaker-geospatial-v1-0"
    ],
    "vcpuNum": 0
   },
   {
    "_defaultOrder": 21,
    "_isFastLaunch": true,
    "category": "Compute optimized",
    "gpuNum": 0,
    "hideHardwareSpecs": false,
    "memoryGiB": 4,
    "name": "ml.c5.large",
    "vcpuNum": 2
   },
   {
    "_defaultOrder": 22,
    "_isFastLaunch": false,
    "category": "Compute optimized",
    "gpuNum": 0,
    "hideHardwareSpecs": false,
    "memoryGiB": 8,
    "name": "ml.c5.xlarge",
    "vcpuNum": 4
   },
   {
    "_defaultOrder": 23,
    "_isFastLaunch": false,
    "category": "Compute optimized",
    "gpuNum": 0,
    "hideHardwareSpecs": false,
    "memoryGiB": 16,
    "name": "ml.c5.2xlarge",
    "vcpuNum": 8
   },
   {
    "_defaultOrder": 24,
    "_isFastLaunch": false,
    "category": "Compute optimized",
    "gpuNum": 0,
    "hideHardwareSpecs": false,
    "memoryGiB": 32,
    "name": "ml.c5.4xlarge",
    "vcpuNum": 16
   },
   {
    "_defaultOrder": 25,
    "_isFastLaunch": false,
    "category": "Compute optimized",
    "gpuNum": 0,
    "hideHardwareSpecs": false,
    "memoryGiB": 72,
    "name": "ml.c5.9xlarge",
    "vcpuNum": 36
   },
   {
    "_defaultOrder": 26,
    "_isFastLaunch": false,
    "category": "Compute optimized",
    "gpuNum": 0,
    "hideHardwareSpecs": false,
    "memoryGiB": 96,
    "name": "ml.c5.12xlarge",
    "vcpuNum": 48
   },
   {
    "_defaultOrder": 27,
    "_isFastLaunch": false,
    "category": "Compute optimized",
    "gpuNum": 0,
    "hideHardwareSpecs": false,
    "memoryGiB": 144,
    "name": "ml.c5.18xlarge",
    "vcpuNum": 72
   },
   {
    "_defaultOrder": 28,
    "_isFastLaunch": false,
    "category": "Compute optimized",
    "gpuNum": 0,
    "hideHardwareSpecs": false,
    "memoryGiB": 192,
    "name": "ml.c5.24xlarge",
    "vcpuNum": 96
   },
   {
    "_defaultOrder": 29,
    "_isFastLaunch": true,
    "category": "Accelerated computing",
    "gpuNum": 1,
    "hideHardwareSpecs": false,
    "memoryGiB": 16,
    "name": "ml.g4dn.xlarge",
    "vcpuNum": 4
   },
   {
    "_defaultOrder": 30,
    "_isFastLaunch": false,
    "category": "Accelerated computing",
    "gpuNum": 1,
    "hideHardwareSpecs": false,
    "memoryGiB": 32,
    "name": "ml.g4dn.2xlarge",
    "vcpuNum": 8
   },
   {
    "_defaultOrder": 31,
    "_isFastLaunch": false,
    "category": "Accelerated computing",
    "gpuNum": 1,
    "hideHardwareSpecs": false,
    "memoryGiB": 64,
    "name": "ml.g4dn.4xlarge",
    "vcpuNum": 16
   },
   {
    "_defaultOrder": 32,
    "_isFastLaunch": false,
    "category": "Accelerated computing",
    "gpuNum": 1,
    "hideHardwareSpecs": false,
    "memoryGiB": 128,
    "name": "ml.g4dn.8xlarge",
    "vcpuNum": 32
   },
   {
    "_defaultOrder": 33,
    "_isFastLaunch": false,
    "category": "Accelerated computing",
    "gpuNum": 4,
    "hideHardwareSpecs": false,
    "memoryGiB": 192,
    "name": "ml.g4dn.12xlarge",
    "vcpuNum": 48
   },
   {
    "_defaultOrder": 34,
    "_isFastLaunch": false,
    "category": "Accelerated computing",
    "gpuNum": 1,
    "hideHardwareSpecs": false,
    "memoryGiB": 256,
    "name": "ml.g4dn.16xlarge",
    "vcpuNum": 64
   },
   {
    "_defaultOrder": 35,
    "_isFastLaunch": false,
    "category": "Accelerated computing",
    "gpuNum": 1,
    "hideHardwareSpecs": false,
    "memoryGiB": 61,
    "name": "ml.p3.2xlarge",
    "vcpuNum": 8
   },
   {
    "_defaultOrder": 36,
    "_isFastLaunch": false,
    "category": "Accelerated computing",
    "gpuNum": 4,
    "hideHardwareSpecs": false,
    "memoryGiB": 244,
    "name": "ml.p3.8xlarge",
    "vcpuNum": 32
   },
   {
    "_defaultOrder": 37,
    "_isFastLaunch": false,
    "category": "Accelerated computing",
    "gpuNum": 8,
    "hideHardwareSpecs": false,
    "memoryGiB": 488,
    "name": "ml.p3.16xlarge",
    "vcpuNum": 64
   },
   {
    "_defaultOrder": 38,
    "_isFastLaunch": false,
    "category": "Accelerated computing",
    "gpuNum": 8,
    "hideHardwareSpecs": false,
    "memoryGiB": 768,
    "name": "ml.p3dn.24xlarge",
    "vcpuNum": 96
   },
   {
    "_defaultOrder": 39,
    "_isFastLaunch": false,
    "category": "Memory Optimized",
    "gpuNum": 0,
    "hideHardwareSpecs": false,
    "memoryGiB": 16,
    "name": "ml.r5.large",
    "vcpuNum": 2
   },
   {
    "_defaultOrder": 40,
    "_isFastLaunch": false,
    "category": "Memory Optimized",
    "gpuNum": 0,
    "hideHardwareSpecs": false,
    "memoryGiB": 32,
    "name": "ml.r5.xlarge",
    "vcpuNum": 4
   },
   {
    "_defaultOrder": 41,
    "_isFastLaunch": false,
    "category": "Memory Optimized",
    "gpuNum": 0,
    "hideHardwareSpecs": false,
    "memoryGiB": 64,
    "name": "ml.r5.2xlarge",
    "vcpuNum": 8
   },
   {
    "_defaultOrder": 42,
    "_isFastLaunch": false,
    "category": "Memory Optimized",
    "gpuNum": 0,
    "hideHardwareSpecs": false,
    "memoryGiB": 128,
    "name": "ml.r5.4xlarge",
    "vcpuNum": 16
   },
   {
    "_defaultOrder": 43,
    "_isFastLaunch": false,
    "category": "Memory Optimized",
    "gpuNum": 0,
    "hideHardwareSpecs": false,
    "memoryGiB": 256,
    "name": "ml.r5.8xlarge",
    "vcpuNum": 32
   },
   {
    "_defaultOrder": 44,
    "_isFastLaunch": false,
    "category": "Memory Optimized",
    "gpuNum": 0,
    "hideHardwareSpecs": false,
    "memoryGiB": 384,
    "name": "ml.r5.12xlarge",
    "vcpuNum": 48
   },
   {
    "_defaultOrder": 45,
    "_isFastLaunch": false,
    "category": "Memory Optimized",
    "gpuNum": 0,
    "hideHardwareSpecs": false,
    "memoryGiB": 512,
    "name": "ml.r5.16xlarge",
    "vcpuNum": 64
   },
   {
    "_defaultOrder": 46,
    "_isFastLaunch": false,
    "category": "Memory Optimized",
    "gpuNum": 0,
    "hideHardwareSpecs": false,
    "memoryGiB": 768,
    "name": "ml.r5.24xlarge",
    "vcpuNum": 96
   },
   {
    "_defaultOrder": 47,
    "_isFastLaunch": false,
    "category": "Accelerated computing",
    "gpuNum": 1,
    "hideHardwareSpecs": false,
    "memoryGiB": 16,
    "name": "ml.g5.xlarge",
    "vcpuNum": 4
   },
   {
    "_defaultOrder": 48,
    "_isFastLaunch": false,
    "category": "Accelerated computing",
    "gpuNum": 1,
    "hideHardwareSpecs": false,
    "memoryGiB": 32,
    "name": "ml.g5.2xlarge",
    "vcpuNum": 8
   },
   {
    "_defaultOrder": 49,
    "_isFastLaunch": false,
    "category": "Accelerated computing",
    "gpuNum": 1,
    "hideHardwareSpecs": false,
    "memoryGiB": 64,
    "name": "ml.g5.4xlarge",
    "vcpuNum": 16
   },
   {
    "_defaultOrder": 50,
    "_isFastLaunch": false,
    "category": "Accelerated computing",
    "gpuNum": 1,
    "hideHardwareSpecs": false,
    "memoryGiB": 128,
    "name": "ml.g5.8xlarge",
    "vcpuNum": 32
   },
   {
    "_defaultOrder": 51,
    "_isFastLaunch": false,
    "category": "Accelerated computing",
    "gpuNum": 1,
    "hideHardwareSpecs": false,
    "memoryGiB": 256,
    "name": "ml.g5.16xlarge",
    "vcpuNum": 64
   },
   {
    "_defaultOrder": 52,
    "_isFastLaunch": false,
    "category": "Accelerated computing",
    "gpuNum": 4,
    "hideHardwareSpecs": false,
    "memoryGiB": 192,
    "name": "ml.g5.12xlarge",
    "vcpuNum": 48
   },
   {
    "_defaultOrder": 53,
    "_isFastLaunch": false,
    "category": "Accelerated computing",
    "gpuNum": 4,
    "hideHardwareSpecs": false,
    "memoryGiB": 384,
    "name": "ml.g5.24xlarge",
    "vcpuNum": 96
   },
   {
    "_defaultOrder": 54,
    "_isFastLaunch": false,
    "category": "Accelerated computing",
    "gpuNum": 8,
    "hideHardwareSpecs": false,
    "memoryGiB": 768,
    "name": "ml.g5.48xlarge",
    "vcpuNum": 192
   },
   {
    "_defaultOrder": 55,
    "_isFastLaunch": false,
    "category": "Accelerated computing",
    "gpuNum": 8,
    "hideHardwareSpecs": false,
    "memoryGiB": 1152,
    "name": "ml.p4d.24xlarge",
    "vcpuNum": 96
   },
   {
    "_defaultOrder": 56,
    "_isFastLaunch": false,
    "category": "Accelerated computing",
    "gpuNum": 8,
    "hideHardwareSpecs": false,
    "memoryGiB": 1152,
    "name": "ml.p4de.24xlarge",
    "vcpuNum": 96
   },
   {
    "_defaultOrder": 57,
    "_isFastLaunch": false,
    "category": "Accelerated computing",
    "gpuNum": 0,
    "hideHardwareSpecs": false,
    "memoryGiB": 32,
    "name": "ml.trn1.2xlarge",
    "vcpuNum": 8
   },
   {
    "_defaultOrder": 58,
    "_isFastLaunch": false,
    "category": "Accelerated computing",
    "gpuNum": 0,
    "hideHardwareSpecs": false,
    "memoryGiB": 512,
    "name": "ml.trn1.32xlarge",
    "vcpuNum": 128
   },
   {
    "_defaultOrder": 59,
    "_isFastLaunch": false,
    "category": "Accelerated computing",
    "gpuNum": 0,
    "hideHardwareSpecs": false,
    "memoryGiB": 512,
    "name": "ml.trn1n.32xlarge",
    "vcpuNum": 128
   }
  ],
  "kernelspec": {
   "display_name": "Python 3 (TensorFlow 2.11.0 Python 3.9 CPU Optimized)",
   "language": "python",
   "name": "python3__SAGEMAKER_INTERNAL__arn:aws:sagemaker:us-west-2:236514542706:image/tensorflow-2.11.0-cpu-py39-ubuntu20.04-sagemaker-v1.1"
  },
  "language_info": {
   "codemirror_mode": {
    "name": "ipython",
    "version": 3
   },
   "file_extension": ".py",
   "mimetype": "text/x-python",
   "name": "python",
   "nbconvert_exporter": "python",
   "pygments_lexer": "ipython3",
   "version": "3.9.10"
  }
 },
 "nbformat": 4,
 "nbformat_minor": 5
}
