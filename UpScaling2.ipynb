{
 "cells": [
  {
   "cell_type": "code",
   "execution_count": 1,
   "id": "ccfb348d-4c22-4aed-917a-a7dd13130434",
   "metadata": {
    "tags": []
   },
   "outputs": [
    {
     "name": "stderr",
     "output_type": "stream",
     "text": [
      "2023-12-14 11:57:14.224864: I tensorflow/core/platform/cpu_feature_guard.cc:193] This TensorFlow binary is optimized with oneAPI Deep Neural Network Library (oneDNN) to use the following CPU instructions in performance-critical operations:  AVX512F AVX512_VNNI\n",
      "To enable them in other operations, rebuild TensorFlow with the appropriate compiler flags.\n",
      "2023-12-14 11:57:14.773461: W tensorflow/core/profiler/internal/smprofiler_timeline.cc:460] Initializing the SageMaker Profiler.\n",
      "2023-12-14 11:57:14.779108: W tensorflow/core/profiler/internal/smprofiler_timeline.cc:105] SageMaker Profiler is not enabled. The timeline writer thread will not be started, future recorded events will be dropped.\n",
      "2023-12-14 11:57:15.091568: W tensorflow/core/profiler/internal/smprofiler_timeline.cc:460] Initializing the SageMaker Profiler.\n"
     ]
    }
   ],
   "source": [
    "import os\n",
    "import tensorflow as tf\n",
    "from tensorflow.keras import layers, models\n",
    "from tensorflow.keras.layers import Conv2D, Add, Activation, Concatenate, Input\n",
    "from tensorflow.keras.models import Model"
   ]
  },
  {
   "cell_type": "code",
   "execution_count": 2,
   "id": "c820f0a8-247e-4b0a-8454-a28fc397c037",
   "metadata": {
    "tags": []
   },
   "outputs": [],
   "source": [
    "# tf.keras.mixed_precision.set_global_policy('mixed_float16')\n",
    "\n",
    "base_dir = './dataset'\n",
    "low_res_dir = os.path.join(base_dir, '480p')\n",
    "high_res_dir = os.path.join(base_dir, '1080p')\n",
    "\n",
    "filenames = os.listdir(low_res_dir)\n",
    "filenames = os.listdir(high_res_dir)\n",
    "\n",
    "low_res_paths = [os.path.join(low_res_dir, f) for f in filenames]\n",
    "high_res_paths = [os.path.join(high_res_dir, f) for f in filenames]"
   ]
  },
  {
   "cell_type": "code",
   "execution_count": 3,
   "id": "705dd16c-4d8b-4265-8a2f-804976f2708a",
   "metadata": {
    "tags": []
   },
   "outputs": [
    {
     "name": "stdout",
     "output_type": "stream",
     "text": [
      "5479\n",
      "5479\n"
     ]
    }
   ],
   "source": [
    "print(len(low_res_paths))\n",
    "print(len(high_res_paths))"
   ]
  },
  {
   "cell_type": "code",
   "execution_count": 4,
   "id": "8826194e-9e4c-4901-a5ae-984addf70fe7",
   "metadata": {
    "tags": []
   },
   "outputs": [
    {
     "name": "stderr",
     "output_type": "stream",
     "text": [
      "2023-12-14 11:57:21.351045: I tensorflow/core/platform/cpu_feature_guard.cc:193] This TensorFlow binary is optimized with oneAPI Deep Neural Network Library (oneDNN) to use the following CPU instructions in performance-critical operations:  AVX512F AVX512_VNNI\n",
      "To enable them in other operations, rebuild TensorFlow with the appropriate compiler flags.\n",
      "2023-12-14 11:57:21.375131: I tensorflow/core/common_runtime/process_util.cc:146] Creating new thread pool with default inter op setting: 2. Tune using inter_op_parallelism_threads for best performance.\n"
     ]
    }
   ],
   "source": [
    "def load_and_preprocess_image(low_res_path, high_res_path):\n",
    "    # Load images\n",
    "    low_res_img = tf.io.read_file(low_res_path)\n",
    "    low_res_img = tf.image.decode_png(low_res_img, channels=3)\n",
    "\n",
    "    high_res_img = tf.io.read_file(high_res_path)\n",
    "    high_res_img = tf.image.decode_png(high_res_img, channels=3)\n",
    "\n",
    "    # Ensure the images have a defined shape\n",
    "    low_res_img.set_shape([None, None, 3])\n",
    "    high_res_img.set_shape([None, None, 3])\n",
    "\n",
    "    low_res_img = tf.image.resize(low_res_img, [int(1080/2), int(1920/2)])\n",
    "    high_res_img = tf.image.resize(high_res_img, [1080, 1920])\n",
    "\n",
    "    return low_res_img, high_res_img\n",
    "\n",
    "\n",
    "dataset = tf.data.Dataset.from_tensor_slices((low_res_paths, high_res_paths))\n",
    "dataset = dataset.map(load_and_preprocess_image, num_parallel_calls=tf.data.AUTOTUNE)\n",
    "\n",
    "# # Shuffle, batch, and repeat\n",
    "dataset = dataset.shuffle(buffer_size=100).batch(25).repeat()\n",
    "dataset = dataset.prefetch(buffer_size=tf.data.AUTOTUNE)"
   ]
  },
  {
   "cell_type": "code",
   "execution_count": 5,
   "id": "d4e25ba6-f1e7-45eb-b67c-5ca2fdb408b5",
   "metadata": {
    "tags": []
   },
   "outputs": [
    {
     "name": "stdout",
     "output_type": "stream",
     "text": [
      "(25, 540, 960, 3) (25, 1080, 1920, 3)\n"
     ]
    }
   ],
   "source": [
    "for low_res_img, high_res_img in dataset.take(1):\n",
    "    print(low_res_img.shape, high_res_img.shape)"
   ]
  },
  {
   "cell_type": "code",
   "execution_count": 6,
   "id": "2f6f00f8-fe3c-4a4a-96c5-44cb1575de8c",
   "metadata": {
    "tags": []
   },
   "outputs": [],
   "source": [
    "# Previous model\n",
    "# def create_srcnn():\n",
    "#     model = models.Sequential()\n",
    "\n",
    "#     # First convolutional layer with ReLU activation\n",
    "#     model.add(layers.Conv2D(64, (9, 9), padding='same', activation='relu', input_shape=(None, None, 3)))\n",
    "\n",
    "#     # Second convolutional layer\n",
    "#     model.add(layers.Conv2D(32, (1, 1), padding='same', activation='relu'))\n",
    "\n",
    "#     # Third convolutional layer\n",
    "#     model.add(layers.Conv2D(3, (3, 3), padding='same'))\n",
    "\n",
    "#     # Compile the model\n",
    "#     model.compile(optimizer='adam', loss='mean_squared_error', metrics=['accuracy'])\n",
    "\n",
    "#     return model\n",
    "\n",
    "# srcnn_model = create_srcnn()\n",
    "# srcnn_model.summary()"
   ]
  },
  {
   "cell_type": "code",
   "execution_count": 7,
   "id": "ce5a4b2e-2802-42aa-ad9a-938cda61fc26",
   "metadata": {},
   "outputs": [
    {
     "name": "stdout",
     "output_type": "stream",
     "text": [
      "Model: \"sequential\"\n",
      "_________________________________________________________________\n",
      " Layer (type)                Output Shape              Param #   \n",
      "=================================================================\n",
      " conv2d (Conv2D)             (None, None, None, 64)    15616     \n",
      "                                                                 \n",
      " batch_normalization (BatchN  (None, None, None, 64)   256       \n",
      " ormalization)                                                   \n",
      "                                                                 \n",
      " conv2d_1 (Conv2D)           (None, None, None, 64)    36928     \n",
      "                                                                 \n",
      " batch_normalization_1 (Batc  (None, None, None, 64)   256       \n",
      " hNormalization)                                                 \n",
      "                                                                 \n",
      " conv2d_2 (Conv2D)           (None, None, None, 64)    36928     \n",
      "                                                                 \n",
      " batch_normalization_2 (Batc  (None, None, None, 64)   256       \n",
      " hNormalization)                                                 \n",
      "                                                                 \n",
      " up_sampling2d (UpSampling2D  (None, None, None, 64)   0         \n",
      " )                                                               \n",
      "                                                                 \n",
      " conv2d_3 (Conv2D)           (None, None, None, 32)    18464     \n",
      "                                                                 \n",
      " batch_normalization_3 (Batc  (None, None, None, 32)   128       \n",
      " hNormalization)                                                 \n",
      "                                                                 \n",
      " conv2d_4 (Conv2D)           (None, None, None, 3)     867       \n",
      "                                                                 \n",
      "=================================================================\n",
      "Total params: 109,699\n",
      "Trainable params: 109,251\n",
      "Non-trainable params: 448\n",
      "_________________________________________________________________\n"
     ]
    }
   ],
   "source": [
    "def create_enhanced_srcnn():\n",
    "    model = models.Sequential()\n",
    "\n",
    "    # First convolutional layer\n",
    "    model.add(layers.Conv2D(64, (9, 9), padding='same', activation='relu', input_shape=(None, None, 3)))\n",
    "    model.add(layers.BatchNormalization())\n",
    "\n",
    "    # Additional convolutional layers for deeper network\n",
    "    model.add(layers.Conv2D(64, (3, 3), padding='same', activation='relu'))\n",
    "    model.add(layers.BatchNormalization())\n",
    "    model.add(layers.Conv2D(64, (3, 3), padding='same', activation='relu'))\n",
    "    model.add(layers.BatchNormalization())\n",
    "\n",
    "    # Upsampling layer\n",
    "    model.add(layers.UpSampling2D())\n",
    "\n",
    "    # More convolutional layers\n",
    "    model.add(layers.Conv2D(32, (3, 3), padding='same', activation='relu'))\n",
    "    model.add(layers.BatchNormalization())\n",
    "    model.add(layers.Conv2D(3, (3, 3), padding='same'))\n",
    "\n",
    "    # Compile the model\n",
    "    model.compile(optimizer='adam', loss='mean_squared_error', metrics=['accuracy'])\n",
    "\n",
    "    return model\n",
    "\n",
    "enhanced_srcnn_model = create_enhanced_srcnn()\n",
    "enhanced_srcnn_model.summary()"
   ]
  },
  {
   "cell_type": "code",
   "execution_count": 8,
   "id": "154e3a85-a8a8-40ae-ac9f-f7c7c2275910",
   "metadata": {},
   "outputs": [],
   "source": [
    "# Simplified Real-ESRGAN\n",
    "# import tensorflow as tf\n",
    "# from tensorflow.keras.layers import Conv2D, Add, Activation, Concatenate, Lambda\n",
    "# from tensorflow.keras.models import Model\n",
    "\n",
    "# def dense_block(x, filters, kernel_size=3):\n",
    "#     \"\"\" A basic dense block used in RRDB. \"\"\"\n",
    "#     for _ in range(4):  # dense blocks consists of 4 Conv2D\n",
    "#         y = Conv2D(filters, kernel_size, padding='same', activation='relu')(x)\n",
    "#         x = Concatenate()([x, y])\n",
    "#     return x\n",
    "\n",
    "# def rrdb_block(x, filters):\n",
    "#     \"\"\" Residual-in-Residual Dense Block (RRDB). \"\"\"\n",
    "#     residual = Conv2D(filters, (1, 1), padding='same')(x)\n",
    "#     for _ in range(2):  # RRDB consists of 3 dense blocks\n",
    "#         x = dense_block(x, filters)\n",
    "#     # Use a 1x1 convolution to match the channel dimensions\n",
    "#     x = Conv2D(filters, (1, 1), padding='same')(x)\n",
    "#     return Add()([residual, x])\n",
    "\n",
    "# def build_rrdb_model(input_shape=(None, None, 3), filters=64):\n",
    "#     \"\"\" Building a model based on RRDB blocks. \"\"\"\n",
    "#     inputs = tf.keras.Input(shape=input_shape)\n",
    "#     x = inputs\n",
    "#     for _ in range(1):  # Number of RRDB blocks can be adjusted\n",
    "#         x = rrdb_block(x, filters)\n",
    "#     outputs = Conv2D(3, (3, 3), padding='same')(x)  # Assuming RGB output\n",
    "#     model = Model(inputs, outputs)\n",
    "#     model.compile(optimizer='adam', loss='mean_squared_error')\n",
    "#     return model\n",
    "\n",
    "# # Create the RRDB model\n",
    "# rrdb_model = build_rrdb_model()\n",
    "\n",
    "# # Print the model summary\n",
    "# # rrdb_model.summary()"
   ]
  },
  {
   "cell_type": "code",
   "execution_count": null,
   "id": "b435d139-09eb-4c17-a052-1fd64af01e00",
   "metadata": {
    "tags": []
   },
   "outputs": [
    {
     "name": "stdout",
     "output_type": "stream",
     "text": [
      " 33/547 [>.............................] - ETA: 2:02:31 - loss: 13042.2510 - accuracy: 0.5936"
     ]
    }
   ],
   "source": [
    "enhanced_srcnn_model.fit(dataset, epochs=1, steps_per_epoch=len(low_res_paths) // 10)"
   ]
  },
  {
   "cell_type": "code",
   "execution_count": null,
   "id": "c59c9fda-5d82-4f33-b49d-ba75ebc1bcb7",
   "metadata": {},
   "outputs": [],
   "source": []
  },
  {
   "cell_type": "code",
   "execution_count": null,
   "id": "f3273d97-636f-48d8-98ae-acb603002e6d",
   "metadata": {
    "tags": []
   },
   "outputs": [],
   "source": [
    "from datetime import datetime\n",
    "\n",
    "models_bucket_name = 'up-scaling-prod-sage-maker'\n",
    "timestamp = datetime.now().strftime(\"%Y-%m-%d_%H-%M\")\n",
    "model_file_name = f\"model_{timestamp}.keras\"\n",
    "enhanced_srcnn_model.save(model_file_name)\n",
    "s3_client.upload_file(model_file_name, models_bucket_name, model_file_name)"
   ]
  },
  {
   "cell_type": "code",
   "execution_count": null,
   "id": "8e2939ef-b31e-4595-bfbe-2785c231c9b5",
   "metadata": {},
   "outputs": [],
   "source": [
    "# LOAD model\n",
    "import tensorflow as tf\n",
    "models_bucket_name = 'up-scaling-prod-sage-maker'\n",
    "stored_model = 'model_2023-11-30_20-05.keras' # to change\n",
    "s3_client.download_file(models_bucket_name, stored_model, stored_model)\n",
    "\n",
    "srcnn_model = tf.keras.models.load_model(stored_model)"
   ]
  },
  {
   "cell_type": "code",
   "execution_count": null,
   "id": "ca1e4708-32fc-4e16-bedf-5b22face6aee",
   "metadata": {},
   "outputs": [],
   "source": [
    "for i in range(1):\n",
    "    model_prediction = rrdb_model.predict(np.stack([test_low_image[i]]))\n",
    "    predicted = np.clip(np.around(model_prediction), 0, 255).astype(np.uint8)[0]\n",
    "    plot_images(test_high_image[i],test_low_image[i],predicted)"
   ]
  },
  {
   "cell_type": "code",
   "execution_count": null,
   "id": "03c4c6e4-01d1-4672-bf20-4ba9129e3fd7",
   "metadata": {},
   "outputs": [],
   "source": [
    "import cv2\n",
    "import subprocess\n",
    "import os\n",
    "\n",
    "output_file = 'output.mp4'\n",
    "\n",
    "frames_predicted = []\n",
    "frames_low = []\n",
    "frames_high = []\n",
    "\n",
    "for i in range(100):\n",
    "    model_prediction = rrdb_model.predict(np.stack([test_low_image[i]]))\n",
    "    predicted = np.clip(np.around(model_prediction), 0, 255).astype(np.uint8)[0]\n",
    "    frames_predicted.append(predicted)\n",
    "    frames_low.append(test_low_image[i])\n",
    "    frames_high.append(test_high_image[i])\n",
    "    # plot_images(test_high_image[i],test_low_image[i],predicted)\n",
    "\n",
    "# Function to save frames as images\n",
    "def save_frames_as_images(frames, output_folder='frames', format='png'):\n",
    "    if not os.path.exists(output_folder):\n",
    "        os.makedirs(output_folder)\n",
    "    for i, frame in enumerate(frames):\n",
    "        rgb_frame = cv2.cvtColor(frame, cv2.COLOR_BGR2RGB)\n",
    "        cv2.imwrite(os.path.join(output_folder, f'frame_{i:04d}.{format}'), rgb_frame)\n",
    "\n",
    "# Save frames as images\n",
    "save_frames_as_images(frames_predicted, 'frames_predicted')\n",
    "print('saved_frames_as_images frames_predicted')\n",
    "save_frames_as_images(frames_low, 'frames_low')\n",
    "print('saved_frames_as_images frames_low')\n",
    "save_frames_as_images(frames_high, 'frames_high')\n",
    "print('saved_frames_as_images frames_high')\n",
    "\n",
    "# Function to merge images into a video using FFmpeg\n",
    "def create_video_from_images(image_folder, output_video_file, fps=30):\n",
    "    cmd = [\n",
    "        'ffmpeg',\n",
    "        '-y',  # Automatically overwrite existing files\n",
    "        '-framerate', str(fps),\n",
    "        '-i', os.path.join(image_folder, 'frame_%04d.png'),\n",
    "        '-s', '1920x1080',  # Set resolution to 1080p\n",
    "        '-sws_flags', 'lanczos',  # High-quality scaling algorithm\n",
    "        '-c:v', 'libx264',\n",
    "        '-pix_fmt', 'yuv420p',\n",
    "        '-b:v', '5000k',  # Set bitrate\n",
    "        '-crf', '20',  # Lower CRF for better quality\n",
    "        output_video_file\n",
    "    ]\n",
    "    subprocess.run(cmd, check=True)\n",
    "\n",
    "# Create video from images\n",
    "create_video_from_images('frames_predicted', 'output_video_predicted.mp4')\n",
    "print('created_video_from_images output_video_predicted')\n",
    "create_video_from_images('frames_low', 'output_video_low.mp4')\n",
    "print('created_video_from_images output_video_low')\n",
    "create_video_from_images('frames_high', 'output_video_high.mp4')\n",
    "print('created_video_from_images output_video_high')\n"
   ]
  }
 ],
 "metadata": {
  "availableInstances": [
   {
    "_defaultOrder": 0,
    "_isFastLaunch": true,
    "category": "General purpose",
    "gpuNum": 0,
    "hideHardwareSpecs": false,
    "memoryGiB": 4,
    "name": "ml.t3.medium",
    "vcpuNum": 2
   },
   {
    "_defaultOrder": 1,
    "_isFastLaunch": false,
    "category": "General purpose",
    "gpuNum": 0,
    "hideHardwareSpecs": false,
    "memoryGiB": 8,
    "name": "ml.t3.large",
    "vcpuNum": 2
   },
   {
    "_defaultOrder": 2,
    "_isFastLaunch": false,
    "category": "General purpose",
    "gpuNum": 0,
    "hideHardwareSpecs": false,
    "memoryGiB": 16,
    "name": "ml.t3.xlarge",
    "vcpuNum": 4
   },
   {
    "_defaultOrder": 3,
    "_isFastLaunch": false,
    "category": "General purpose",
    "gpuNum": 0,
    "hideHardwareSpecs": false,
    "memoryGiB": 32,
    "name": "ml.t3.2xlarge",
    "vcpuNum": 8
   },
   {
    "_defaultOrder": 4,
    "_isFastLaunch": true,
    "category": "General purpose",
    "gpuNum": 0,
    "hideHardwareSpecs": false,
    "memoryGiB": 8,
    "name": "ml.m5.large",
    "vcpuNum": 2
   },
   {
    "_defaultOrder": 5,
    "_isFastLaunch": false,
    "category": "General purpose",
    "gpuNum": 0,
    "hideHardwareSpecs": false,
    "memoryGiB": 16,
    "name": "ml.m5.xlarge",
    "vcpuNum": 4
   },
   {
    "_defaultOrder": 6,
    "_isFastLaunch": false,
    "category": "General purpose",
    "gpuNum": 0,
    "hideHardwareSpecs": false,
    "memoryGiB": 32,
    "name": "ml.m5.2xlarge",
    "vcpuNum": 8
   },
   {
    "_defaultOrder": 7,
    "_isFastLaunch": false,
    "category": "General purpose",
    "gpuNum": 0,
    "hideHardwareSpecs": false,
    "memoryGiB": 64,
    "name": "ml.m5.4xlarge",
    "vcpuNum": 16
   },
   {
    "_defaultOrder": 8,
    "_isFastLaunch": false,
    "category": "General purpose",
    "gpuNum": 0,
    "hideHardwareSpecs": false,
    "memoryGiB": 128,
    "name": "ml.m5.8xlarge",
    "vcpuNum": 32
   },
   {
    "_defaultOrder": 9,
    "_isFastLaunch": false,
    "category": "General purpose",
    "gpuNum": 0,
    "hideHardwareSpecs": false,
    "memoryGiB": 192,
    "name": "ml.m5.12xlarge",
    "vcpuNum": 48
   },
   {
    "_defaultOrder": 10,
    "_isFastLaunch": false,
    "category": "General purpose",
    "gpuNum": 0,
    "hideHardwareSpecs": false,
    "memoryGiB": 256,
    "name": "ml.m5.16xlarge",
    "vcpuNum": 64
   },
   {
    "_defaultOrder": 11,
    "_isFastLaunch": false,
    "category": "General purpose",
    "gpuNum": 0,
    "hideHardwareSpecs": false,
    "memoryGiB": 384,
    "name": "ml.m5.24xlarge",
    "vcpuNum": 96
   },
   {
    "_defaultOrder": 12,
    "_isFastLaunch": false,
    "category": "General purpose",
    "gpuNum": 0,
    "hideHardwareSpecs": false,
    "memoryGiB": 8,
    "name": "ml.m5d.large",
    "vcpuNum": 2
   },
   {
    "_defaultOrder": 13,
    "_isFastLaunch": false,
    "category": "General purpose",
    "gpuNum": 0,
    "hideHardwareSpecs": false,
    "memoryGiB": 16,
    "name": "ml.m5d.xlarge",
    "vcpuNum": 4
   },
   {
    "_defaultOrder": 14,
    "_isFastLaunch": false,
    "category": "General purpose",
    "gpuNum": 0,
    "hideHardwareSpecs": false,
    "memoryGiB": 32,
    "name": "ml.m5d.2xlarge",
    "vcpuNum": 8
   },
   {
    "_defaultOrder": 15,
    "_isFastLaunch": false,
    "category": "General purpose",
    "gpuNum": 0,
    "hideHardwareSpecs": false,
    "memoryGiB": 64,
    "name": "ml.m5d.4xlarge",
    "vcpuNum": 16
   },
   {
    "_defaultOrder": 16,
    "_isFastLaunch": false,
    "category": "General purpose",
    "gpuNum": 0,
    "hideHardwareSpecs": false,
    "memoryGiB": 128,
    "name": "ml.m5d.8xlarge",
    "vcpuNum": 32
   },
   {
    "_defaultOrder": 17,
    "_isFastLaunch": false,
    "category": "General purpose",
    "gpuNum": 0,
    "hideHardwareSpecs": false,
    "memoryGiB": 192,
    "name": "ml.m5d.12xlarge",
    "vcpuNum": 48
   },
   {
    "_defaultOrder": 18,
    "_isFastLaunch": false,
    "category": "General purpose",
    "gpuNum": 0,
    "hideHardwareSpecs": false,
    "memoryGiB": 256,
    "name": "ml.m5d.16xlarge",
    "vcpuNum": 64
   },
   {
    "_defaultOrder": 19,
    "_isFastLaunch": false,
    "category": "General purpose",
    "gpuNum": 0,
    "hideHardwareSpecs": false,
    "memoryGiB": 384,
    "name": "ml.m5d.24xlarge",
    "vcpuNum": 96
   },
   {
    "_defaultOrder": 20,
    "_isFastLaunch": false,
    "category": "General purpose",
    "gpuNum": 0,
    "hideHardwareSpecs": true,
    "memoryGiB": 0,
    "name": "ml.geospatial.interactive",
    "supportedImageNames": [
     "sagemaker-geospatial-v1-0"
    ],
    "vcpuNum": 0
   },
   {
    "_defaultOrder": 21,
    "_isFastLaunch": true,
    "category": "Compute optimized",
    "gpuNum": 0,
    "hideHardwareSpecs": false,
    "memoryGiB": 4,
    "name": "ml.c5.large",
    "vcpuNum": 2
   },
   {
    "_defaultOrder": 22,
    "_isFastLaunch": false,
    "category": "Compute optimized",
    "gpuNum": 0,
    "hideHardwareSpecs": false,
    "memoryGiB": 8,
    "name": "ml.c5.xlarge",
    "vcpuNum": 4
   },
   {
    "_defaultOrder": 23,
    "_isFastLaunch": false,
    "category": "Compute optimized",
    "gpuNum": 0,
    "hideHardwareSpecs": false,
    "memoryGiB": 16,
    "name": "ml.c5.2xlarge",
    "vcpuNum": 8
   },
   {
    "_defaultOrder": 24,
    "_isFastLaunch": false,
    "category": "Compute optimized",
    "gpuNum": 0,
    "hideHardwareSpecs": false,
    "memoryGiB": 32,
    "name": "ml.c5.4xlarge",
    "vcpuNum": 16
   },
   {
    "_defaultOrder": 25,
    "_isFastLaunch": false,
    "category": "Compute optimized",
    "gpuNum": 0,
    "hideHardwareSpecs": false,
    "memoryGiB": 72,
    "name": "ml.c5.9xlarge",
    "vcpuNum": 36
   },
   {
    "_defaultOrder": 26,
    "_isFastLaunch": false,
    "category": "Compute optimized",
    "gpuNum": 0,
    "hideHardwareSpecs": false,
    "memoryGiB": 96,
    "name": "ml.c5.12xlarge",
    "vcpuNum": 48
   },
   {
    "_defaultOrder": 27,
    "_isFastLaunch": false,
    "category": "Compute optimized",
    "gpuNum": 0,
    "hideHardwareSpecs": false,
    "memoryGiB": 144,
    "name": "ml.c5.18xlarge",
    "vcpuNum": 72
   },
   {
    "_defaultOrder": 28,
    "_isFastLaunch": false,
    "category": "Compute optimized",
    "gpuNum": 0,
    "hideHardwareSpecs": false,
    "memoryGiB": 192,
    "name": "ml.c5.24xlarge",
    "vcpuNum": 96
   },
   {
    "_defaultOrder": 29,
    "_isFastLaunch": true,
    "category": "Accelerated computing",
    "gpuNum": 1,
    "hideHardwareSpecs": false,
    "memoryGiB": 16,
    "name": "ml.g4dn.xlarge",
    "vcpuNum": 4
   },
   {
    "_defaultOrder": 30,
    "_isFastLaunch": false,
    "category": "Accelerated computing",
    "gpuNum": 1,
    "hideHardwareSpecs": false,
    "memoryGiB": 32,
    "name": "ml.g4dn.2xlarge",
    "vcpuNum": 8
   },
   {
    "_defaultOrder": 31,
    "_isFastLaunch": false,
    "category": "Accelerated computing",
    "gpuNum": 1,
    "hideHardwareSpecs": false,
    "memoryGiB": 64,
    "name": "ml.g4dn.4xlarge",
    "vcpuNum": 16
   },
   {
    "_defaultOrder": 32,
    "_isFastLaunch": false,
    "category": "Accelerated computing",
    "gpuNum": 1,
    "hideHardwareSpecs": false,
    "memoryGiB": 128,
    "name": "ml.g4dn.8xlarge",
    "vcpuNum": 32
   },
   {
    "_defaultOrder": 33,
    "_isFastLaunch": false,
    "category": "Accelerated computing",
    "gpuNum": 4,
    "hideHardwareSpecs": false,
    "memoryGiB": 192,
    "name": "ml.g4dn.12xlarge",
    "vcpuNum": 48
   },
   {
    "_defaultOrder": 34,
    "_isFastLaunch": false,
    "category": "Accelerated computing",
    "gpuNum": 1,
    "hideHardwareSpecs": false,
    "memoryGiB": 256,
    "name": "ml.g4dn.16xlarge",
    "vcpuNum": 64
   },
   {
    "_defaultOrder": 35,
    "_isFastLaunch": false,
    "category": "Accelerated computing",
    "gpuNum": 1,
    "hideHardwareSpecs": false,
    "memoryGiB": 61,
    "name": "ml.p3.2xlarge",
    "vcpuNum": 8
   },
   {
    "_defaultOrder": 36,
    "_isFastLaunch": false,
    "category": "Accelerated computing",
    "gpuNum": 4,
    "hideHardwareSpecs": false,
    "memoryGiB": 244,
    "name": "ml.p3.8xlarge",
    "vcpuNum": 32
   },
   {
    "_defaultOrder": 37,
    "_isFastLaunch": false,
    "category": "Accelerated computing",
    "gpuNum": 8,
    "hideHardwareSpecs": false,
    "memoryGiB": 488,
    "name": "ml.p3.16xlarge",
    "vcpuNum": 64
   },
   {
    "_defaultOrder": 38,
    "_isFastLaunch": false,
    "category": "Accelerated computing",
    "gpuNum": 8,
    "hideHardwareSpecs": false,
    "memoryGiB": 768,
    "name": "ml.p3dn.24xlarge",
    "vcpuNum": 96
   },
   {
    "_defaultOrder": 39,
    "_isFastLaunch": false,
    "category": "Memory Optimized",
    "gpuNum": 0,
    "hideHardwareSpecs": false,
    "memoryGiB": 16,
    "name": "ml.r5.large",
    "vcpuNum": 2
   },
   {
    "_defaultOrder": 40,
    "_isFastLaunch": false,
    "category": "Memory Optimized",
    "gpuNum": 0,
    "hideHardwareSpecs": false,
    "memoryGiB": 32,
    "name": "ml.r5.xlarge",
    "vcpuNum": 4
   },
   {
    "_defaultOrder": 41,
    "_isFastLaunch": false,
    "category": "Memory Optimized",
    "gpuNum": 0,
    "hideHardwareSpecs": false,
    "memoryGiB": 64,
    "name": "ml.r5.2xlarge",
    "vcpuNum": 8
   },
   {
    "_defaultOrder": 42,
    "_isFastLaunch": false,
    "category": "Memory Optimized",
    "gpuNum": 0,
    "hideHardwareSpecs": false,
    "memoryGiB": 128,
    "name": "ml.r5.4xlarge",
    "vcpuNum": 16
   },
   {
    "_defaultOrder": 43,
    "_isFastLaunch": false,
    "category": "Memory Optimized",
    "gpuNum": 0,
    "hideHardwareSpecs": false,
    "memoryGiB": 256,
    "name": "ml.r5.8xlarge",
    "vcpuNum": 32
   },
   {
    "_defaultOrder": 44,
    "_isFastLaunch": false,
    "category": "Memory Optimized",
    "gpuNum": 0,
    "hideHardwareSpecs": false,
    "memoryGiB": 384,
    "name": "ml.r5.12xlarge",
    "vcpuNum": 48
   },
   {
    "_defaultOrder": 45,
    "_isFastLaunch": false,
    "category": "Memory Optimized",
    "gpuNum": 0,
    "hideHardwareSpecs": false,
    "memoryGiB": 512,
    "name": "ml.r5.16xlarge",
    "vcpuNum": 64
   },
   {
    "_defaultOrder": 46,
    "_isFastLaunch": false,
    "category": "Memory Optimized",
    "gpuNum": 0,
    "hideHardwareSpecs": false,
    "memoryGiB": 768,
    "name": "ml.r5.24xlarge",
    "vcpuNum": 96
   },
   {
    "_defaultOrder": 47,
    "_isFastLaunch": false,
    "category": "Accelerated computing",
    "gpuNum": 1,
    "hideHardwareSpecs": false,
    "memoryGiB": 16,
    "name": "ml.g5.xlarge",
    "vcpuNum": 4
   },
   {
    "_defaultOrder": 48,
    "_isFastLaunch": false,
    "category": "Accelerated computing",
    "gpuNum": 1,
    "hideHardwareSpecs": false,
    "memoryGiB": 32,
    "name": "ml.g5.2xlarge",
    "vcpuNum": 8
   },
   {
    "_defaultOrder": 49,
    "_isFastLaunch": false,
    "category": "Accelerated computing",
    "gpuNum": 1,
    "hideHardwareSpecs": false,
    "memoryGiB": 64,
    "name": "ml.g5.4xlarge",
    "vcpuNum": 16
   },
   {
    "_defaultOrder": 50,
    "_isFastLaunch": false,
    "category": "Accelerated computing",
    "gpuNum": 1,
    "hideHardwareSpecs": false,
    "memoryGiB": 128,
    "name": "ml.g5.8xlarge",
    "vcpuNum": 32
   },
   {
    "_defaultOrder": 51,
    "_isFastLaunch": false,
    "category": "Accelerated computing",
    "gpuNum": 1,
    "hideHardwareSpecs": false,
    "memoryGiB": 256,
    "name": "ml.g5.16xlarge",
    "vcpuNum": 64
   },
   {
    "_defaultOrder": 52,
    "_isFastLaunch": false,
    "category": "Accelerated computing",
    "gpuNum": 4,
    "hideHardwareSpecs": false,
    "memoryGiB": 192,
    "name": "ml.g5.12xlarge",
    "vcpuNum": 48
   },
   {
    "_defaultOrder": 53,
    "_isFastLaunch": false,
    "category": "Accelerated computing",
    "gpuNum": 4,
    "hideHardwareSpecs": false,
    "memoryGiB": 384,
    "name": "ml.g5.24xlarge",
    "vcpuNum": 96
   },
   {
    "_defaultOrder": 54,
    "_isFastLaunch": false,
    "category": "Accelerated computing",
    "gpuNum": 8,
    "hideHardwareSpecs": false,
    "memoryGiB": 768,
    "name": "ml.g5.48xlarge",
    "vcpuNum": 192
   },
   {
    "_defaultOrder": 55,
    "_isFastLaunch": false,
    "category": "Accelerated computing",
    "gpuNum": 8,
    "hideHardwareSpecs": false,
    "memoryGiB": 1152,
    "name": "ml.p4d.24xlarge",
    "vcpuNum": 96
   },
   {
    "_defaultOrder": 56,
    "_isFastLaunch": false,
    "category": "Accelerated computing",
    "gpuNum": 8,
    "hideHardwareSpecs": false,
    "memoryGiB": 1152,
    "name": "ml.p4de.24xlarge",
    "vcpuNum": 96
   },
   {
    "_defaultOrder": 57,
    "_isFastLaunch": false,
    "category": "Accelerated computing",
    "gpuNum": 0,
    "hideHardwareSpecs": false,
    "memoryGiB": 32,
    "name": "ml.trn1.2xlarge",
    "vcpuNum": 8
   },
   {
    "_defaultOrder": 58,
    "_isFastLaunch": false,
    "category": "Accelerated computing",
    "gpuNum": 0,
    "hideHardwareSpecs": false,
    "memoryGiB": 512,
    "name": "ml.trn1.32xlarge",
    "vcpuNum": 128
   },
   {
    "_defaultOrder": 59,
    "_isFastLaunch": false,
    "category": "Accelerated computing",
    "gpuNum": 0,
    "hideHardwareSpecs": false,
    "memoryGiB": 512,
    "name": "ml.trn1n.32xlarge",
    "vcpuNum": 128
   }
  ],
  "kernelspec": {
   "display_name": "Python 3 (TensorFlow 2.11.0 Python 3.9 CPU Optimized)",
   "language": "python",
   "name": "python3__SAGEMAKER_INTERNAL__arn:aws:sagemaker:us-west-2:236514542706:image/tensorflow-2.11.0-cpu-py39-ubuntu20.04-sagemaker-v1.1"
  },
  "language_info": {
   "codemirror_mode": {
    "name": "ipython",
    "version": 3
   },
   "file_extension": ".py",
   "mimetype": "text/x-python",
   "name": "python",
   "nbconvert_exporter": "python",
   "pygments_lexer": "ipython3",
   "version": "3.9.10"
  }
 },
 "nbformat": 4,
 "nbformat_minor": 5
}
